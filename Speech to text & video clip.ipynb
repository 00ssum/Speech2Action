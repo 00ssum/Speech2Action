{
  "cells": [
    {
      "cell_type": "markdown",
      "metadata": {
        "id": "iqN2lVTSKA4q"
      },
      "source": [
        "## 0. 준비 "
      ]
    },
    {
      "cell_type": "code",
      "execution_count": 1,
      "metadata": {
        "colab": {
          "base_uri": "https://localhost:8080/"
        },
        "id": "mRglGRSQAeGN",
        "outputId": "492c5080-79b6-41ec-b159-457578bed4c0"
      },
      "outputs": [
        {
          "output_type": "stream",
          "name": "stdout",
          "text": [
            "Mounted at /content/drive\n"
          ]
        }
      ],
      "source": [
        "#드라이브 마운트\n",
        "from google.colab import drive\n",
        "drive.mount('/content/drive')"
      ]
    },
    {
      "cell_type": "code",
      "execution_count": 2,
      "metadata": {
        "id": "l62Vb1LUCMS9"
      },
      "outputs": [],
      "source": [
        "#라이브러리 import\n",
        "import pandas as pd\n",
        "import numpy as np\n",
        "import os\n",
        "import moviepy.editor\n",
        "import requests\n",
        "import json\n",
        "from moviepy.editor import VideoFileClip, concatenate_videoclips"
      ]
    },
    {
      "cell_type": "markdown",
      "metadata": {
        "id": "iuro1vIVEIVB"
      },
      "source": [
        "경로 설정"
      ]
    },
    {
      "cell_type": "code",
      "execution_count": 3,
      "metadata": {
        "id": "nhgf8lvtD-LF"
      },
      "outputs": [],
      "source": [
        "#폴더 생성\n",
        "def createFolder(directory):\n",
        "    try:\n",
        "        if not os.path.exists(directory):\n",
        "            os.makedirs(directory)\n",
        "    except OSError:\n",
        "        print ('Error: Creating directory. ' +  directory)"
      ]
    },
    {
      "cell_type": "code",
      "execution_count": 4,
      "metadata": {
        "id": "y2skQvw0Ec7f"
      },
      "outputs": [],
      "source": [
        "movie_name=\"The Girl Who Believes in Miracles\" # 영화 제목 입력\n",
        "mydrive=\"/content/drive/MyDrive/gp/\"\n",
        "createFolder(mydrive+movie_name) # 영화 제목 폴더 생성"
      ]
    },
    {
      "cell_type": "code",
      "execution_count": 5,
      "metadata": {
        "id": "Py3JsR95EHFt"
      },
      "outputs": [],
      "source": [
        "#비디오 클립 경로 지정\n",
        "createFolder(mydrive+movie_name+\"/clip\") \n",
        "video_path= mydrive+movie_name+\"/\"+movie_name+\".mp4\""
      ]
    },
    {
      "cell_type": "markdown",
      "metadata": {
        "id": "h9Nr0aG9C-3d"
      },
      "source": [
        "## 1. STT API"
      ]
    },
    {
      "cell_type": "code",
      "source": [
        "#비디오를 오디오로 바꾸는 과정\n",
        "clip = VideoFileClip(video_path)\n",
        "audio=clip.audio.write_audiofile(mydrive+movie_name+\"/audio.mp3\")"
      ],
      "metadata": {
        "id": "MMMN8xs0KCRg"
      },
      "execution_count": null,
      "outputs": []
    },
    {
      "cell_type": "code",
      "source": [
        "class ClovaSpeechClient:\n",
        "    # Clova Speech invoke URL\n",
        "    invoke_url = '      '\n",
        "    # Clova Speech secret key\n",
        "    secret = '          '\n",
        "\n",
        "    def req_url(self, url, completion, callback=None, userdata=None, forbiddens=None, boostings=None, wordAlignment=True, fullText=True, diarization=None):\n",
        "        request_body = {\n",
        "            'url': url,\n",
        "            'language': 'en-US',\n",
        "            'completion': completion,\n",
        "            'callback': callback,\n",
        "            'userdata': userdata,\n",
        "            'wordAlignment': wordAlignment,\n",
        "            'fullText': fullText,\n",
        "            'forbiddens': forbiddens,\n",
        "            'boostings': boostings,\n",
        "            'diarization': diarization,\n",
        "        }\n",
        "        headers = {\n",
        "            'Accept': 'application/json;UTF-8',\n",
        "            'Content-Type': 'application/json;UTF-8',\n",
        "            'X-CLOVASPEECH-API-KEY': self.secret\n",
        "        }\n",
        "        return requests.post(headers=headers,\n",
        "                             url=self.invoke_url + '/recognizer/url',\n",
        "                             data=json.dumps(request_body).encode('UTF-8'))\n",
        "\n",
        "    def req_object_storage(self, data_key, completion, callback=None, userdata=None, forbiddens=None, boostings=None,\n",
        "                           wordAlignment=True, fullText=True, diarization=None):\n",
        "        request_body = {\n",
        "            'dataKey': data_key,\n",
        "            'language': 'en-US',\n",
        "            'completion': completion,\n",
        "            'callback': callback,\n",
        "            'userdata': userdata,\n",
        "            'wordAlignment': wordAlignment,\n",
        "            'fullText': fullText,\n",
        "            'forbiddens': forbiddens,\n",
        "            'boostings': boostings,\n",
        "            'diarization': diarization,\n",
        "        }\n",
        "        headers = {\n",
        "            'Accept': 'application/json;UTF-8',\n",
        "            'Content-Type': 'application/json;UTF-8',\n",
        "            'X-CLOVASPEECH-API-KEY': self.secret\n",
        "        }\n",
        "        return requests.post(headers=headers,\n",
        "                             url=self.invoke_url + '/recognizer/object-storage',\n",
        "                             data=json.dumps(request_body).encode('UTF-8'))\n",
        "\n",
        "    def req_upload(self, file, completion, callback=None, userdata=None, forbiddens=None, boostings=None,\n",
        "                   wordAlignment=True, fullText=True, diarization=None):\n",
        "        request_body = {\n",
        "            'language': 'en-US',\n",
        "            'completion': completion,\n",
        "            'callback': callback,\n",
        "            'userdata': userdata,\n",
        "            'wordAlignment': wordAlignment,\n",
        "            'fullText': fullText,\n",
        "            'forbiddens': forbiddens,\n",
        "            'boostings': boostings,\n",
        "            'diarization': diarization,\n",
        "        }\n",
        "        headers = {\n",
        "            'Accept': 'application/json;UTF-8',\n",
        "            'X-CLOVASPEECH-API-KEY': self.secret\n",
        "        }\n",
        "        print(json.dumps(request_body, ensure_ascii=False).encode('UTF-8'))\n",
        "        files = {\n",
        "            'media': open(file, 'rb'),\n",
        "            'params': (None, json.dumps(request_body, ensure_ascii=False).encode('UTF-8'), 'application/json')\n",
        "        }\n",
        "        response = requests.post(headers=headers, url=self.invoke_url + '/recognizer/upload', files=files)\n",
        "        return response\n",
        "\n",
        "if __name__ == '__main__':\n",
        "    res = ClovaSpeechClient().req_upload(file=audio, completion='sync')\n",
        "    print(res.text)\n"
      ],
      "metadata": {
        "id": "huG0C3l7KD5j"
      },
      "execution_count": null,
      "outputs": []
    },
    {
      "cell_type": "markdown",
      "metadata": {
        "id": "Et4ahCJFLnSE"
      },
      "source": [
        "##2. 데이터 전처리"
      ]
    },
    {
      "cell_type": "code",
      "execution_count": 6,
      "metadata": {
        "colab": {
          "base_uri": "https://localhost:8080/",
          "height": 206
        },
        "id": "e4oWdtUaAwPm",
        "outputId": "dc5a5928-a619-4b95-f623-91e047a7912b"
      },
      "outputs": [
        {
          "output_type": "execute_result",
          "data": {
            "text/plain": [
              "   Index Modification  Speaker  Start Time  End Time Script\n",
              "0      1         인식결과      NaN        4160     17940    NaN\n",
              "1      1         수정결과      NaN        4160     17940    NaN\n",
              "2      2         인식결과      NaN       19600     20780    NaN\n",
              "3      2         수정결과      NaN       19600     20780    NaN\n",
              "4      3         인식결과      NaN       22860     23960    NaN"
            ],
            "text/html": [
              "\n",
              "  <div id=\"df-99f0e606-6dad-4303-9a20-4c2c9b238d9f\">\n",
              "    <div class=\"colab-df-container\">\n",
              "      <div>\n",
              "<style scoped>\n",
              "    .dataframe tbody tr th:only-of-type {\n",
              "        vertical-align: middle;\n",
              "    }\n",
              "\n",
              "    .dataframe tbody tr th {\n",
              "        vertical-align: top;\n",
              "    }\n",
              "\n",
              "    .dataframe thead th {\n",
              "        text-align: right;\n",
              "    }\n",
              "</style>\n",
              "<table border=\"1\" class=\"dataframe\">\n",
              "  <thead>\n",
              "    <tr style=\"text-align: right;\">\n",
              "      <th></th>\n",
              "      <th>Index</th>\n",
              "      <th>Modification</th>\n",
              "      <th>Speaker</th>\n",
              "      <th>Start Time</th>\n",
              "      <th>End Time</th>\n",
              "      <th>Script</th>\n",
              "    </tr>\n",
              "  </thead>\n",
              "  <tbody>\n",
              "    <tr>\n",
              "      <th>0</th>\n",
              "      <td>1</td>\n",
              "      <td>인식결과</td>\n",
              "      <td>NaN</td>\n",
              "      <td>4160</td>\n",
              "      <td>17940</td>\n",
              "      <td>NaN</td>\n",
              "    </tr>\n",
              "    <tr>\n",
              "      <th>1</th>\n",
              "      <td>1</td>\n",
              "      <td>수정결과</td>\n",
              "      <td>NaN</td>\n",
              "      <td>4160</td>\n",
              "      <td>17940</td>\n",
              "      <td>NaN</td>\n",
              "    </tr>\n",
              "    <tr>\n",
              "      <th>2</th>\n",
              "      <td>2</td>\n",
              "      <td>인식결과</td>\n",
              "      <td>NaN</td>\n",
              "      <td>19600</td>\n",
              "      <td>20780</td>\n",
              "      <td>NaN</td>\n",
              "    </tr>\n",
              "    <tr>\n",
              "      <th>3</th>\n",
              "      <td>2</td>\n",
              "      <td>수정결과</td>\n",
              "      <td>NaN</td>\n",
              "      <td>19600</td>\n",
              "      <td>20780</td>\n",
              "      <td>NaN</td>\n",
              "    </tr>\n",
              "    <tr>\n",
              "      <th>4</th>\n",
              "      <td>3</td>\n",
              "      <td>인식결과</td>\n",
              "      <td>NaN</td>\n",
              "      <td>22860</td>\n",
              "      <td>23960</td>\n",
              "      <td>NaN</td>\n",
              "    </tr>\n",
              "  </tbody>\n",
              "</table>\n",
              "</div>\n",
              "      <button class=\"colab-df-convert\" onclick=\"convertToInteractive('df-99f0e606-6dad-4303-9a20-4c2c9b238d9f')\"\n",
              "              title=\"Convert this dataframe to an interactive table.\"\n",
              "              style=\"display:none;\">\n",
              "        \n",
              "  <svg xmlns=\"http://www.w3.org/2000/svg\" height=\"24px\"viewBox=\"0 0 24 24\"\n",
              "       width=\"24px\">\n",
              "    <path d=\"M0 0h24v24H0V0z\" fill=\"none\"/>\n",
              "    <path d=\"M18.56 5.44l.94 2.06.94-2.06 2.06-.94-2.06-.94-.94-2.06-.94 2.06-2.06.94zm-11 1L8.5 8.5l.94-2.06 2.06-.94-2.06-.94L8.5 2.5l-.94 2.06-2.06.94zm10 10l.94 2.06.94-2.06 2.06-.94-2.06-.94-.94-2.06-.94 2.06-2.06.94z\"/><path d=\"M17.41 7.96l-1.37-1.37c-.4-.4-.92-.59-1.43-.59-.52 0-1.04.2-1.43.59L10.3 9.45l-7.72 7.72c-.78.78-.78 2.05 0 2.83L4 21.41c.39.39.9.59 1.41.59.51 0 1.02-.2 1.41-.59l7.78-7.78 2.81-2.81c.8-.78.8-2.07 0-2.86zM5.41 20L4 18.59l7.72-7.72 1.47 1.35L5.41 20z\"/>\n",
              "  </svg>\n",
              "      </button>\n",
              "      \n",
              "  <style>\n",
              "    .colab-df-container {\n",
              "      display:flex;\n",
              "      flex-wrap:wrap;\n",
              "      gap: 12px;\n",
              "    }\n",
              "\n",
              "    .colab-df-convert {\n",
              "      background-color: #E8F0FE;\n",
              "      border: none;\n",
              "      border-radius: 50%;\n",
              "      cursor: pointer;\n",
              "      display: none;\n",
              "      fill: #1967D2;\n",
              "      height: 32px;\n",
              "      padding: 0 0 0 0;\n",
              "      width: 32px;\n",
              "    }\n",
              "\n",
              "    .colab-df-convert:hover {\n",
              "      background-color: #E2EBFA;\n",
              "      box-shadow: 0px 1px 2px rgba(60, 64, 67, 0.3), 0px 1px 3px 1px rgba(60, 64, 67, 0.15);\n",
              "      fill: #174EA6;\n",
              "    }\n",
              "\n",
              "    [theme=dark] .colab-df-convert {\n",
              "      background-color: #3B4455;\n",
              "      fill: #D2E3FC;\n",
              "    }\n",
              "\n",
              "    [theme=dark] .colab-df-convert:hover {\n",
              "      background-color: #434B5C;\n",
              "      box-shadow: 0px 1px 3px 1px rgba(0, 0, 0, 0.15);\n",
              "      filter: drop-shadow(0px 1px 2px rgba(0, 0, 0, 0.3));\n",
              "      fill: #FFFFFF;\n",
              "    }\n",
              "  </style>\n",
              "\n",
              "      <script>\n",
              "        const buttonEl =\n",
              "          document.querySelector('#df-99f0e606-6dad-4303-9a20-4c2c9b238d9f button.colab-df-convert');\n",
              "        buttonEl.style.display =\n",
              "          google.colab.kernel.accessAllowed ? 'block' : 'none';\n",
              "\n",
              "        async function convertToInteractive(key) {\n",
              "          const element = document.querySelector('#df-99f0e606-6dad-4303-9a20-4c2c9b238d9f');\n",
              "          const dataTable =\n",
              "            await google.colab.kernel.invokeFunction('convertToInteractive',\n",
              "                                                     [key], {});\n",
              "          if (!dataTable) return;\n",
              "\n",
              "          const docLinkHtml = 'Like what you see? Visit the ' +\n",
              "            '<a target=\"_blank\" href=https://colab.research.google.com/notebooks/data_table.ipynb>data table notebook</a>'\n",
              "            + ' to learn more about interactive tables.';\n",
              "          element.innerHTML = '';\n",
              "          dataTable['output_type'] = 'display_data';\n",
              "          await google.colab.output.renderOutput(dataTable, element);\n",
              "          const docLink = document.createElement('div');\n",
              "          docLink.innerHTML = docLinkHtml;\n",
              "          element.appendChild(docLink);\n",
              "        }\n",
              "      </script>\n",
              "    </div>\n",
              "  </div>\n",
              "  "
            ]
          },
          "metadata": {},
          "execution_count": 6
        }
      ],
      "source": [
        "#데이터 로드\n",
        "file_path= mydrive+movie_name+\"/\"+movie_name\n",
        "df = pd.read_csv(file_path+'_stt.csv')\n",
        "df.head()"
      ]
    },
    {
      "cell_type": "markdown",
      "metadata": {
        "id": "9jq5vgDdMCDG"
      },
      "source": [
        "1. 인식결과 행만 남김 (수행결과 행 삭제)"
      ]
    },
    {
      "cell_type": "code",
      "execution_count": 7,
      "metadata": {
        "colab": {
          "base_uri": "https://localhost:8080/",
          "height": 206
        },
        "id": "Yo965lTkmsTc",
        "outputId": "c20fd942-498b-4444-a1e3-0d30caad3cbf"
      },
      "outputs": [
        {
          "output_type": "execute_result",
          "data": {
            "text/plain": [
              "   Index Modification  Speaker  Start Time  End Time Script  g\n",
              "0      1         인식결과      NaN        4160     17940    NaN  0\n",
              "2      2         인식결과      NaN       19600     20780    NaN  0\n",
              "4      3         인식결과      NaN       22860     23960    NaN  0\n",
              "6      4         인식결과      NaN       25140     26260    NaN  0\n",
              "8      5         인식결과      NaN       29300     31720    NaN  0"
            ],
            "text/html": [
              "\n",
              "  <div id=\"df-f161872e-fe95-4704-a589-ad4595e6abe7\">\n",
              "    <div class=\"colab-df-container\">\n",
              "      <div>\n",
              "<style scoped>\n",
              "    .dataframe tbody tr th:only-of-type {\n",
              "        vertical-align: middle;\n",
              "    }\n",
              "\n",
              "    .dataframe tbody tr th {\n",
              "        vertical-align: top;\n",
              "    }\n",
              "\n",
              "    .dataframe thead th {\n",
              "        text-align: right;\n",
              "    }\n",
              "</style>\n",
              "<table border=\"1\" class=\"dataframe\">\n",
              "  <thead>\n",
              "    <tr style=\"text-align: right;\">\n",
              "      <th></th>\n",
              "      <th>Index</th>\n",
              "      <th>Modification</th>\n",
              "      <th>Speaker</th>\n",
              "      <th>Start Time</th>\n",
              "      <th>End Time</th>\n",
              "      <th>Script</th>\n",
              "      <th>g</th>\n",
              "    </tr>\n",
              "  </thead>\n",
              "  <tbody>\n",
              "    <tr>\n",
              "      <th>0</th>\n",
              "      <td>1</td>\n",
              "      <td>인식결과</td>\n",
              "      <td>NaN</td>\n",
              "      <td>4160</td>\n",
              "      <td>17940</td>\n",
              "      <td>NaN</td>\n",
              "      <td>0</td>\n",
              "    </tr>\n",
              "    <tr>\n",
              "      <th>2</th>\n",
              "      <td>2</td>\n",
              "      <td>인식결과</td>\n",
              "      <td>NaN</td>\n",
              "      <td>19600</td>\n",
              "      <td>20780</td>\n",
              "      <td>NaN</td>\n",
              "      <td>0</td>\n",
              "    </tr>\n",
              "    <tr>\n",
              "      <th>4</th>\n",
              "      <td>3</td>\n",
              "      <td>인식결과</td>\n",
              "      <td>NaN</td>\n",
              "      <td>22860</td>\n",
              "      <td>23960</td>\n",
              "      <td>NaN</td>\n",
              "      <td>0</td>\n",
              "    </tr>\n",
              "    <tr>\n",
              "      <th>6</th>\n",
              "      <td>4</td>\n",
              "      <td>인식결과</td>\n",
              "      <td>NaN</td>\n",
              "      <td>25140</td>\n",
              "      <td>26260</td>\n",
              "      <td>NaN</td>\n",
              "      <td>0</td>\n",
              "    </tr>\n",
              "    <tr>\n",
              "      <th>8</th>\n",
              "      <td>5</td>\n",
              "      <td>인식결과</td>\n",
              "      <td>NaN</td>\n",
              "      <td>29300</td>\n",
              "      <td>31720</td>\n",
              "      <td>NaN</td>\n",
              "      <td>0</td>\n",
              "    </tr>\n",
              "  </tbody>\n",
              "</table>\n",
              "</div>\n",
              "      <button class=\"colab-df-convert\" onclick=\"convertToInteractive('df-f161872e-fe95-4704-a589-ad4595e6abe7')\"\n",
              "              title=\"Convert this dataframe to an interactive table.\"\n",
              "              style=\"display:none;\">\n",
              "        \n",
              "  <svg xmlns=\"http://www.w3.org/2000/svg\" height=\"24px\"viewBox=\"0 0 24 24\"\n",
              "       width=\"24px\">\n",
              "    <path d=\"M0 0h24v24H0V0z\" fill=\"none\"/>\n",
              "    <path d=\"M18.56 5.44l.94 2.06.94-2.06 2.06-.94-2.06-.94-.94-2.06-.94 2.06-2.06.94zm-11 1L8.5 8.5l.94-2.06 2.06-.94-2.06-.94L8.5 2.5l-.94 2.06-2.06.94zm10 10l.94 2.06.94-2.06 2.06-.94-2.06-.94-.94-2.06-.94 2.06-2.06.94z\"/><path d=\"M17.41 7.96l-1.37-1.37c-.4-.4-.92-.59-1.43-.59-.52 0-1.04.2-1.43.59L10.3 9.45l-7.72 7.72c-.78.78-.78 2.05 0 2.83L4 21.41c.39.39.9.59 1.41.59.51 0 1.02-.2 1.41-.59l7.78-7.78 2.81-2.81c.8-.78.8-2.07 0-2.86zM5.41 20L4 18.59l7.72-7.72 1.47 1.35L5.41 20z\"/>\n",
              "  </svg>\n",
              "      </button>\n",
              "      \n",
              "  <style>\n",
              "    .colab-df-container {\n",
              "      display:flex;\n",
              "      flex-wrap:wrap;\n",
              "      gap: 12px;\n",
              "    }\n",
              "\n",
              "    .colab-df-convert {\n",
              "      background-color: #E8F0FE;\n",
              "      border: none;\n",
              "      border-radius: 50%;\n",
              "      cursor: pointer;\n",
              "      display: none;\n",
              "      fill: #1967D2;\n",
              "      height: 32px;\n",
              "      padding: 0 0 0 0;\n",
              "      width: 32px;\n",
              "    }\n",
              "\n",
              "    .colab-df-convert:hover {\n",
              "      background-color: #E2EBFA;\n",
              "      box-shadow: 0px 1px 2px rgba(60, 64, 67, 0.3), 0px 1px 3px 1px rgba(60, 64, 67, 0.15);\n",
              "      fill: #174EA6;\n",
              "    }\n",
              "\n",
              "    [theme=dark] .colab-df-convert {\n",
              "      background-color: #3B4455;\n",
              "      fill: #D2E3FC;\n",
              "    }\n",
              "\n",
              "    [theme=dark] .colab-df-convert:hover {\n",
              "      background-color: #434B5C;\n",
              "      box-shadow: 0px 1px 3px 1px rgba(0, 0, 0, 0.15);\n",
              "      filter: drop-shadow(0px 1px 2px rgba(0, 0, 0, 0.3));\n",
              "      fill: #FFFFFF;\n",
              "    }\n",
              "  </style>\n",
              "\n",
              "      <script>\n",
              "        const buttonEl =\n",
              "          document.querySelector('#df-f161872e-fe95-4704-a589-ad4595e6abe7 button.colab-df-convert');\n",
              "        buttonEl.style.display =\n",
              "          google.colab.kernel.accessAllowed ? 'block' : 'none';\n",
              "\n",
              "        async function convertToInteractive(key) {\n",
              "          const element = document.querySelector('#df-f161872e-fe95-4704-a589-ad4595e6abe7');\n",
              "          const dataTable =\n",
              "            await google.colab.kernel.invokeFunction('convertToInteractive',\n",
              "                                                     [key], {});\n",
              "          if (!dataTable) return;\n",
              "\n",
              "          const docLinkHtml = 'Like what you see? Visit the ' +\n",
              "            '<a target=\"_blank\" href=https://colab.research.google.com/notebooks/data_table.ipynb>data table notebook</a>'\n",
              "            + ' to learn more about interactive tables.';\n",
              "          element.innerHTML = '';\n",
              "          dataTable['output_type'] = 'display_data';\n",
              "          await google.colab.output.renderOutput(dataTable, element);\n",
              "          const docLink = document.createElement('div');\n",
              "          docLink.innerHTML = docLinkHtml;\n",
              "          element.appendChild(docLink);\n",
              "        }\n",
              "      </script>\n",
              "    </div>\n",
              "  </div>\n",
              "  "
            ]
          },
          "metadata": {},
          "execution_count": 7
        }
      ],
      "source": [
        "df=df.assign(g=df.index % 2).query('g==0') # 짝수행만 남김\n",
        "df.head() "
      ]
    },
    {
      "cell_type": "markdown",
      "metadata": {
        "id": "T-BGputPMFJf"
      },
      "source": [
        "2. 필요 없는 colums 삭제"
      ]
    },
    {
      "cell_type": "code",
      "execution_count": 8,
      "metadata": {
        "id": "v5LA2-zUoIRN"
      },
      "outputs": [],
      "source": [
        "df=df.drop(columns='g')  #g행 삭제\n",
        "df=df.drop('Speaker',axis='columns') # speaker 열 삭제\n",
        "df= df.drop('Modification',axis='columns') #modification 열 삭제\n",
        "df= df.drop('Index',axis='columns') #modification 열 삭제"
      ]
    },
    {
      "cell_type": "markdown",
      "metadata": {
        "id": "1PicAWw4MUlq"
      },
      "source": [
        "3. Script에 결측치 있는 colums삭제"
      ]
    },
    {
      "cell_type": "code",
      "execution_count": 9,
      "metadata": {
        "id": "t06Ry5l-rPRs"
      },
      "outputs": [],
      "source": [
        "df=df.dropna(axis='index',how='any')"
      ]
    },
    {
      "cell_type": "markdown",
      "metadata": {
        "id": "V1hq5exVBnP3"
      },
      "source": [
        "4.  인덱스 초기화"
      ]
    },
    {
      "cell_type": "code",
      "execution_count": 10,
      "metadata": {
        "id": "hpYDVkbsA33R"
      },
      "outputs": [],
      "source": [
        "df= df.reset_index(drop=True)"
      ]
    },
    {
      "cell_type": "code",
      "execution_count": 11,
      "metadata": {
        "id": "QDaNivx0B5vO"
      },
      "outputs": [],
      "source": [
        "df.head() \n",
        "df.to_csv('STT.csv', index=False, encoding='cp949')"
      ]
    },
    {
      "cell_type": "markdown",
      "metadata": {
        "id": "PISE5nDyPSBp"
      },
      "source": [
        "## 3.New Time Stemp "
      ]
    },
    {
      "cell_type": "code",
      "execution_count": 12,
      "metadata": {
        "colab": {
          "base_uri": "https://localhost:8080/",
          "height": 206
        },
        "id": "DSOEUAGWO92R",
        "outputId": "99665f7d-a454-4b95-8d43-ddbaaaf33852"
      },
      "outputs": [
        {
          "output_type": "execute_result",
          "data": {
            "text/plain": [
              "                                              Script    start      end\n",
              "0  It is perfectly typical for most people to hav...  29970.0  39970.0\n",
              "1  relying on them for love and support. These ar...  37770.0  47770.0\n",
              "2  Let's look at another parable that talks about...  45060.0  55060.0\n",
              "3                           And here's what it says.  47880.0  57880.0\n",
              "4  The kingdom of heaven is like a grain of a mus...  53870.0  63870.0"
            ],
            "text/html": [
              "\n",
              "  <div id=\"df-75fcfadd-fd31-4844-8e48-398b807c67a9\">\n",
              "    <div class=\"colab-df-container\">\n",
              "      <div>\n",
              "<style scoped>\n",
              "    .dataframe tbody tr th:only-of-type {\n",
              "        vertical-align: middle;\n",
              "    }\n",
              "\n",
              "    .dataframe tbody tr th {\n",
              "        vertical-align: top;\n",
              "    }\n",
              "\n",
              "    .dataframe thead th {\n",
              "        text-align: right;\n",
              "    }\n",
              "</style>\n",
              "<table border=\"1\" class=\"dataframe\">\n",
              "  <thead>\n",
              "    <tr style=\"text-align: right;\">\n",
              "      <th></th>\n",
              "      <th>Script</th>\n",
              "      <th>start</th>\n",
              "      <th>end</th>\n",
              "    </tr>\n",
              "  </thead>\n",
              "  <tbody>\n",
              "    <tr>\n",
              "      <th>0</th>\n",
              "      <td>It is perfectly typical for most people to hav...</td>\n",
              "      <td>29970.0</td>\n",
              "      <td>39970.0</td>\n",
              "    </tr>\n",
              "    <tr>\n",
              "      <th>1</th>\n",
              "      <td>relying on them for love and support. These ar...</td>\n",
              "      <td>37770.0</td>\n",
              "      <td>47770.0</td>\n",
              "    </tr>\n",
              "    <tr>\n",
              "      <th>2</th>\n",
              "      <td>Let's look at another parable that talks about...</td>\n",
              "      <td>45060.0</td>\n",
              "      <td>55060.0</td>\n",
              "    </tr>\n",
              "    <tr>\n",
              "      <th>3</th>\n",
              "      <td>And here's what it says.</td>\n",
              "      <td>47880.0</td>\n",
              "      <td>57880.0</td>\n",
              "    </tr>\n",
              "    <tr>\n",
              "      <th>4</th>\n",
              "      <td>The kingdom of heaven is like a grain of a mus...</td>\n",
              "      <td>53870.0</td>\n",
              "      <td>63870.0</td>\n",
              "    </tr>\n",
              "  </tbody>\n",
              "</table>\n",
              "</div>\n",
              "      <button class=\"colab-df-convert\" onclick=\"convertToInteractive('df-75fcfadd-fd31-4844-8e48-398b807c67a9')\"\n",
              "              title=\"Convert this dataframe to an interactive table.\"\n",
              "              style=\"display:none;\">\n",
              "        \n",
              "  <svg xmlns=\"http://www.w3.org/2000/svg\" height=\"24px\"viewBox=\"0 0 24 24\"\n",
              "       width=\"24px\">\n",
              "    <path d=\"M0 0h24v24H0V0z\" fill=\"none\"/>\n",
              "    <path d=\"M18.56 5.44l.94 2.06.94-2.06 2.06-.94-2.06-.94-.94-2.06-.94 2.06-2.06.94zm-11 1L8.5 8.5l.94-2.06 2.06-.94-2.06-.94L8.5 2.5l-.94 2.06-2.06.94zm10 10l.94 2.06.94-2.06 2.06-.94-2.06-.94-.94-2.06-.94 2.06-2.06.94z\"/><path d=\"M17.41 7.96l-1.37-1.37c-.4-.4-.92-.59-1.43-.59-.52 0-1.04.2-1.43.59L10.3 9.45l-7.72 7.72c-.78.78-.78 2.05 0 2.83L4 21.41c.39.39.9.59 1.41.59.51 0 1.02-.2 1.41-.59l7.78-7.78 2.81-2.81c.8-.78.8-2.07 0-2.86zM5.41 20L4 18.59l7.72-7.72 1.47 1.35L5.41 20z\"/>\n",
              "  </svg>\n",
              "      </button>\n",
              "      \n",
              "  <style>\n",
              "    .colab-df-container {\n",
              "      display:flex;\n",
              "      flex-wrap:wrap;\n",
              "      gap: 12px;\n",
              "    }\n",
              "\n",
              "    .colab-df-convert {\n",
              "      background-color: #E8F0FE;\n",
              "      border: none;\n",
              "      border-radius: 50%;\n",
              "      cursor: pointer;\n",
              "      display: none;\n",
              "      fill: #1967D2;\n",
              "      height: 32px;\n",
              "      padding: 0 0 0 0;\n",
              "      width: 32px;\n",
              "    }\n",
              "\n",
              "    .colab-df-convert:hover {\n",
              "      background-color: #E2EBFA;\n",
              "      box-shadow: 0px 1px 2px rgba(60, 64, 67, 0.3), 0px 1px 3px 1px rgba(60, 64, 67, 0.15);\n",
              "      fill: #174EA6;\n",
              "    }\n",
              "\n",
              "    [theme=dark] .colab-df-convert {\n",
              "      background-color: #3B4455;\n",
              "      fill: #D2E3FC;\n",
              "    }\n",
              "\n",
              "    [theme=dark] .colab-df-convert:hover {\n",
              "      background-color: #434B5C;\n",
              "      box-shadow: 0px 1px 3px 1px rgba(0, 0, 0, 0.15);\n",
              "      filter: drop-shadow(0px 1px 2px rgba(0, 0, 0, 0.3));\n",
              "      fill: #FFFFFF;\n",
              "    }\n",
              "  </style>\n",
              "\n",
              "      <script>\n",
              "        const buttonEl =\n",
              "          document.querySelector('#df-75fcfadd-fd31-4844-8e48-398b807c67a9 button.colab-df-convert');\n",
              "        buttonEl.style.display =\n",
              "          google.colab.kernel.accessAllowed ? 'block' : 'none';\n",
              "\n",
              "        async function convertToInteractive(key) {\n",
              "          const element = document.querySelector('#df-75fcfadd-fd31-4844-8e48-398b807c67a9');\n",
              "          const dataTable =\n",
              "            await google.colab.kernel.invokeFunction('convertToInteractive',\n",
              "                                                     [key], {});\n",
              "          if (!dataTable) return;\n",
              "\n",
              "          const docLinkHtml = 'Like what you see? Visit the ' +\n",
              "            '<a target=\"_blank\" href=https://colab.research.google.com/notebooks/data_table.ipynb>data table notebook</a>'\n",
              "            + ' to learn more about interactive tables.';\n",
              "          element.innerHTML = '';\n",
              "          dataTable['output_type'] = 'display_data';\n",
              "          await google.colab.output.renderOutput(dataTable, element);\n",
              "          const docLink = document.createElement('div');\n",
              "          docLink.innerHTML = docLinkHtml;\n",
              "          element.appendChild(docLink);\n",
              "        }\n",
              "      </script>\n",
              "    </div>\n",
              "  </div>\n",
              "  "
            ]
          },
          "metadata": {},
          "execution_count": 12
        }
      ],
      "source": [
        "df['start'] = df.apply(lambda row : (row['Start Time']+ row['End Time'])/2-5000, axis = 1)\n",
        "df['end'] = df.apply(lambda row : (row['Start Time']+ row['End Time'])/2+5000, axis = 1)\n",
        "\n",
        "df=df.drop('Start Time',axis='columns')\n",
        "df=df.drop('End Time',axis='columns')\n",
        "\n",
        "df.head() "
      ]
    },
    {
      "cell_type": "markdown",
      "metadata": {
        "id": "Tu_aAdDDOzfi"
      },
      "source": [
        "## 4.text(대사) list 제작 "
      ]
    },
    {
      "cell_type": "code",
      "execution_count": 13,
      "metadata": {
        "id": "29L-axvTOy5d"
      },
      "outputs": [],
      "source": [
        "df_temp=df #임의 배열 만듬\n",
        "df_temp=df_temp.drop('start',axis='columns') \n",
        "df_temp=df_temp.drop('end',axis='columns')"
      ]
    },
    {
      "cell_type": "code",
      "execution_count": 14,
      "metadata": {
        "id": "RFNl0N-4p2_t"
      },
      "outputs": [],
      "source": [
        "df_temp.to_csv(file_path+'_text_list.csv',index=True) #csv파일로 저장"
      ]
    },
    {
      "cell_type": "markdown",
      "metadata": {
        "id": "qeBLRD2uQpiN"
      },
      "source": [
        "## 5.비디오 clip 제작"
      ]
    },
    {
      "cell_type": "code",
      "execution_count": 15,
      "metadata": {
        "id": "QalYaMFhHVzh"
      },
      "outputs": [],
      "source": [
        "import os \n",
        "os.environ[\"CUDA_DEVICE_ORDER\"]=\"PCI_BUS_ID\"\n",
        "os.environ[\"CUDA_VISIBLE_DEVICES\"]=\"0\""
      ]
    },
    {
      "cell_type": "code",
      "execution_count": null,
      "metadata": {
        "colab": {
          "background_save": true,
          "base_uri": "https://localhost:8080/"
        },
        "id": "3ane9nAa_Kvl",
        "outputId": "3f3033ff-1642-438b-c333-49c22e1a2c11"
      },
      "outputs": [
        {
          "name": "stdout",
          "output_type": "stream",
          "text": [
            "[MoviePy] >>>> Building video /content/drive/MyDrive/gp/The Girl Who Believes in Miracles/clip/0.mp4\n",
            "[MoviePy] Writing audio in 0TEMP_MPY_wvf_snd.mp3\n"
          ]
        },
        {
          "name": "stderr",
          "output_type": "stream",
          "text": [
            "100%|██████████| 221/221 [00:01<00:00, 220.51it/s]"
          ]
        },
        {
          "name": "stdout",
          "output_type": "stream",
          "text": [
            "[MoviePy] Done.\n",
            "[MoviePy] Writing video /content/drive/MyDrive/gp/The Girl Who Believes in Miracles/clip/0.mp4\n"
          ]
        },
        {
          "name": "stderr",
          "output_type": "stream",
          "text": [
            "\n",
            "100%|██████████| 240/240 [00:03<00:00, 70.50it/s]\n"
          ]
        },
        {
          "name": "stdout",
          "output_type": "stream",
          "text": [
            "[MoviePy] Done.\n",
            "[MoviePy] >>>> Video ready: /content/drive/MyDrive/gp/The Girl Who Believes in Miracles/clip/0.mp4 \n",
            "\n",
            "0번째 클립 저장 완료\n",
            "[MoviePy] >>>> Building video /content/drive/MyDrive/gp/The Girl Who Believes in Miracles/clip/1.mp4\n",
            "[MoviePy] Writing audio in 1TEMP_MPY_wvf_snd.mp3\n"
          ]
        },
        {
          "name": "stderr",
          "output_type": "stream",
          "text": [
            "100%|██████████| 221/221 [00:00<00:00, 671.87it/s]"
          ]
        },
        {
          "name": "stdout",
          "output_type": "stream",
          "text": [
            "[MoviePy] Done.\n",
            "[MoviePy] Writing video /content/drive/MyDrive/gp/The Girl Who Believes in Miracles/clip/1.mp4\n"
          ]
        },
        {
          "name": "stderr",
          "output_type": "stream",
          "text": [
            "\n",
            "100%|██████████| 240/240 [00:03<00:00, 77.37it/s]\n"
          ]
        },
        {
          "name": "stdout",
          "output_type": "stream",
          "text": [
            "[MoviePy] Done.\n",
            "[MoviePy] >>>> Video ready: /content/drive/MyDrive/gp/The Girl Who Believes in Miracles/clip/1.mp4 \n",
            "\n",
            "1번째 클립 저장 완료\n",
            "[MoviePy] >>>> Building video /content/drive/MyDrive/gp/The Girl Who Believes in Miracles/clip/2.mp4\n",
            "[MoviePy] Writing audio in 2TEMP_MPY_wvf_snd.mp3\n"
          ]
        },
        {
          "name": "stderr",
          "output_type": "stream",
          "text": [
            "100%|██████████| 221/221 [00:00<00:00, 672.41it/s]"
          ]
        },
        {
          "name": "stdout",
          "output_type": "stream",
          "text": [
            "[MoviePy] Done.\n",
            "[MoviePy] Writing video /content/drive/MyDrive/gp/The Girl Who Believes in Miracles/clip/2.mp4\n"
          ]
        },
        {
          "name": "stderr",
          "output_type": "stream",
          "text": [
            "\n",
            "100%|██████████| 240/240 [00:03<00:00, 79.23it/s]\n"
          ]
        },
        {
          "name": "stdout",
          "output_type": "stream",
          "text": [
            "[MoviePy] Done.\n",
            "[MoviePy] >>>> Video ready: /content/drive/MyDrive/gp/The Girl Who Believes in Miracles/clip/2.mp4 \n",
            "\n",
            "2번째 클립 저장 완료\n",
            "[MoviePy] >>>> Building video /content/drive/MyDrive/gp/The Girl Who Believes in Miracles/clip/3.mp4\n",
            "[MoviePy] Writing audio in 3TEMP_MPY_wvf_snd.mp3\n"
          ]
        },
        {
          "name": "stderr",
          "output_type": "stream",
          "text": [
            "100%|██████████| 221/221 [00:00<00:00, 662.76it/s]"
          ]
        },
        {
          "name": "stdout",
          "output_type": "stream",
          "text": [
            "[MoviePy] Done.\n",
            "[MoviePy] Writing video /content/drive/MyDrive/gp/The Girl Who Believes in Miracles/clip/3.mp4\n"
          ]
        },
        {
          "name": "stderr",
          "output_type": "stream",
          "text": [
            "\n",
            "100%|██████████| 240/240 [00:02<00:00, 90.88it/s]\n"
          ]
        },
        {
          "name": "stdout",
          "output_type": "stream",
          "text": [
            "[MoviePy] Done.\n",
            "[MoviePy] >>>> Video ready: /content/drive/MyDrive/gp/The Girl Who Believes in Miracles/clip/3.mp4 \n",
            "\n",
            "3번째 클립 저장 완료\n",
            "[MoviePy] >>>> Building video /content/drive/MyDrive/gp/The Girl Who Believes in Miracles/clip/4.mp4\n",
            "[MoviePy] Writing audio in 4TEMP_MPY_wvf_snd.mp3\n"
          ]
        },
        {
          "name": "stderr",
          "output_type": "stream",
          "text": [
            "100%|██████████| 221/221 [00:00<00:00, 628.08it/s]"
          ]
        },
        {
          "name": "stdout",
          "output_type": "stream",
          "text": [
            "[MoviePy] Done.\n",
            "[MoviePy] Writing video /content/drive/MyDrive/gp/The Girl Who Believes in Miracles/clip/4.mp4\n"
          ]
        },
        {
          "name": "stderr",
          "output_type": "stream",
          "text": [
            "\n",
            "100%|██████████| 240/240 [00:02<00:00, 86.27it/s]\n"
          ]
        },
        {
          "name": "stdout",
          "output_type": "stream",
          "text": [
            "[MoviePy] Done.\n",
            "[MoviePy] >>>> Video ready: /content/drive/MyDrive/gp/The Girl Who Believes in Miracles/clip/4.mp4 \n",
            "\n",
            "4번째 클립 저장 완료\n",
            "[MoviePy] >>>> Building video /content/drive/MyDrive/gp/The Girl Who Believes in Miracles/clip/5.mp4\n",
            "[MoviePy] Writing audio in 5TEMP_MPY_wvf_snd.mp3\n"
          ]
        },
        {
          "name": "stderr",
          "output_type": "stream",
          "text": [
            "100%|██████████| 221/221 [00:00<00:00, 655.79it/s]"
          ]
        },
        {
          "name": "stdout",
          "output_type": "stream",
          "text": [
            "[MoviePy] Done.\n",
            "[MoviePy] Writing video /content/drive/MyDrive/gp/The Girl Who Believes in Miracles/clip/5.mp4\n"
          ]
        },
        {
          "name": "stderr",
          "output_type": "stream",
          "text": [
            "\n",
            "100%|██████████| 240/240 [00:03<00:00, 79.49it/s]\n"
          ]
        },
        {
          "name": "stdout",
          "output_type": "stream",
          "text": [
            "[MoviePy] Done.\n",
            "[MoviePy] >>>> Video ready: /content/drive/MyDrive/gp/The Girl Who Believes in Miracles/clip/5.mp4 \n",
            "\n",
            "5번째 클립 저장 완료\n",
            "[MoviePy] >>>> Building video /content/drive/MyDrive/gp/The Girl Who Believes in Miracles/clip/6.mp4\n",
            "[MoviePy] Writing audio in 6TEMP_MPY_wvf_snd.mp3\n"
          ]
        },
        {
          "name": "stderr",
          "output_type": "stream",
          "text": [
            "100%|██████████| 221/221 [00:00<00:00, 630.87it/s]"
          ]
        },
        {
          "name": "stdout",
          "output_type": "stream",
          "text": [
            "[MoviePy] Done.\n",
            "[MoviePy] Writing video /content/drive/MyDrive/gp/The Girl Who Believes in Miracles/clip/6.mp4\n"
          ]
        },
        {
          "name": "stderr",
          "output_type": "stream",
          "text": [
            "\n",
            "100%|██████████| 240/240 [00:03<00:00, 79.04it/s]\n"
          ]
        },
        {
          "name": "stdout",
          "output_type": "stream",
          "text": [
            "[MoviePy] Done.\n",
            "[MoviePy] >>>> Video ready: /content/drive/MyDrive/gp/The Girl Who Believes in Miracles/clip/6.mp4 \n",
            "\n",
            "6번째 클립 저장 완료\n",
            "[MoviePy] >>>> Building video /content/drive/MyDrive/gp/The Girl Who Believes in Miracles/clip/7.mp4\n",
            "[MoviePy] Writing audio in 7TEMP_MPY_wvf_snd.mp3\n"
          ]
        },
        {
          "name": "stderr",
          "output_type": "stream",
          "text": [
            "100%|██████████| 221/221 [00:00<00:00, 633.60it/s]"
          ]
        },
        {
          "name": "stdout",
          "output_type": "stream",
          "text": [
            "[MoviePy] Done.\n",
            "[MoviePy] Writing video /content/drive/MyDrive/gp/The Girl Who Believes in Miracles/clip/7.mp4\n"
          ]
        },
        {
          "name": "stderr",
          "output_type": "stream",
          "text": [
            "\n",
            "100%|██████████| 240/240 [00:03<00:00, 75.96it/s]\n"
          ]
        },
        {
          "name": "stdout",
          "output_type": "stream",
          "text": [
            "[MoviePy] Done.\n",
            "[MoviePy] >>>> Video ready: /content/drive/MyDrive/gp/The Girl Who Believes in Miracles/clip/7.mp4 \n",
            "\n",
            "7번째 클립 저장 완료\n",
            "[MoviePy] >>>> Building video /content/drive/MyDrive/gp/The Girl Who Believes in Miracles/clip/8.mp4\n",
            "[MoviePy] Writing audio in 8TEMP_MPY_wvf_snd.mp3\n"
          ]
        },
        {
          "name": "stderr",
          "output_type": "stream",
          "text": [
            "100%|██████████| 221/221 [00:00<00:00, 629.79it/s]"
          ]
        },
        {
          "name": "stdout",
          "output_type": "stream",
          "text": [
            "[MoviePy] Done.\n",
            "[MoviePy] Writing video /content/drive/MyDrive/gp/The Girl Who Believes in Miracles/clip/8.mp4\n"
          ]
        },
        {
          "name": "stderr",
          "output_type": "stream",
          "text": [
            "\n",
            "100%|██████████| 240/240 [00:03<00:00, 75.64it/s]\n"
          ]
        },
        {
          "name": "stdout",
          "output_type": "stream",
          "text": [
            "[MoviePy] Done.\n",
            "[MoviePy] >>>> Video ready: /content/drive/MyDrive/gp/The Girl Who Believes in Miracles/clip/8.mp4 \n",
            "\n",
            "8번째 클립 저장 완료\n",
            "[MoviePy] >>>> Building video /content/drive/MyDrive/gp/The Girl Who Believes in Miracles/clip/9.mp4\n",
            "[MoviePy] Writing audio in 9TEMP_MPY_wvf_snd.mp3\n"
          ]
        },
        {
          "name": "stderr",
          "output_type": "stream",
          "text": [
            "100%|██████████| 221/221 [00:00<00:00, 633.56it/s]"
          ]
        },
        {
          "name": "stdout",
          "output_type": "stream",
          "text": [
            "[MoviePy] Done.\n",
            "[MoviePy] Writing video /content/drive/MyDrive/gp/The Girl Who Believes in Miracles/clip/9.mp4\n"
          ]
        },
        {
          "name": "stderr",
          "output_type": "stream",
          "text": [
            "\n",
            "100%|██████████| 240/240 [00:02<00:00, 81.30it/s]\n"
          ]
        },
        {
          "name": "stdout",
          "output_type": "stream",
          "text": [
            "[MoviePy] Done.\n",
            "[MoviePy] >>>> Video ready: /content/drive/MyDrive/gp/The Girl Who Believes in Miracles/clip/9.mp4 \n",
            "\n",
            "9번째 클립 저장 완료\n",
            "[MoviePy] >>>> Building video /content/drive/MyDrive/gp/The Girl Who Believes in Miracles/clip/10.mp4\n",
            "[MoviePy] Writing audio in 10TEMP_MPY_wvf_snd.mp3\n"
          ]
        },
        {
          "name": "stderr",
          "output_type": "stream",
          "text": [
            "100%|██████████| 221/221 [00:00<00:00, 658.28it/s]"
          ]
        },
        {
          "name": "stdout",
          "output_type": "stream",
          "text": [
            "[MoviePy] Done.\n",
            "[MoviePy] Writing video /content/drive/MyDrive/gp/The Girl Who Believes in Miracles/clip/10.mp4\n"
          ]
        },
        {
          "name": "stderr",
          "output_type": "stream",
          "text": [
            "\n",
            "100%|██████████| 240/240 [00:02<00:00, 87.80it/s]\n"
          ]
        },
        {
          "name": "stdout",
          "output_type": "stream",
          "text": [
            "[MoviePy] Done.\n",
            "[MoviePy] >>>> Video ready: /content/drive/MyDrive/gp/The Girl Who Believes in Miracles/clip/10.mp4 \n",
            "\n",
            "10번째 클립 저장 완료\n",
            "[MoviePy] >>>> Building video /content/drive/MyDrive/gp/The Girl Who Believes in Miracles/clip/11.mp4\n",
            "[MoviePy] Writing audio in 11TEMP_MPY_wvf_snd.mp3\n"
          ]
        },
        {
          "name": "stderr",
          "output_type": "stream",
          "text": [
            "100%|██████████| 221/221 [00:00<00:00, 641.51it/s]"
          ]
        },
        {
          "name": "stdout",
          "output_type": "stream",
          "text": [
            "[MoviePy] Done.\n",
            "[MoviePy] Writing video /content/drive/MyDrive/gp/The Girl Who Believes in Miracles/clip/11.mp4\n"
          ]
        },
        {
          "name": "stderr",
          "output_type": "stream",
          "text": [
            "\n",
            "100%|██████████| 240/240 [00:02<00:00, 91.84it/s]\n"
          ]
        },
        {
          "name": "stdout",
          "output_type": "stream",
          "text": [
            "[MoviePy] Done.\n",
            "[MoviePy] >>>> Video ready: /content/drive/MyDrive/gp/The Girl Who Believes in Miracles/clip/11.mp4 \n",
            "\n",
            "11번째 클립 저장 완료\n",
            "[MoviePy] >>>> Building video /content/drive/MyDrive/gp/The Girl Who Believes in Miracles/clip/12.mp4\n",
            "[MoviePy] Writing audio in 12TEMP_MPY_wvf_snd.mp3\n"
          ]
        },
        {
          "name": "stderr",
          "output_type": "stream",
          "text": [
            "100%|██████████| 221/221 [00:00<00:00, 651.05it/s]"
          ]
        },
        {
          "name": "stdout",
          "output_type": "stream",
          "text": [
            "[MoviePy] Done.\n",
            "[MoviePy] Writing video /content/drive/MyDrive/gp/The Girl Who Believes in Miracles/clip/12.mp4\n"
          ]
        },
        {
          "name": "stderr",
          "output_type": "stream",
          "text": [
            "\n",
            "100%|██████████| 240/240 [00:04<00:00, 58.64it/s]\n"
          ]
        },
        {
          "name": "stdout",
          "output_type": "stream",
          "text": [
            "[MoviePy] Done.\n",
            "[MoviePy] >>>> Video ready: /content/drive/MyDrive/gp/The Girl Who Believes in Miracles/clip/12.mp4 \n",
            "\n",
            "12번째 클립 저장 완료\n",
            "[MoviePy] >>>> Building video /content/drive/MyDrive/gp/The Girl Who Believes in Miracles/clip/13.mp4\n",
            "[MoviePy] Writing audio in 13TEMP_MPY_wvf_snd.mp3\n"
          ]
        },
        {
          "name": "stderr",
          "output_type": "stream",
          "text": [
            "100%|██████████| 221/221 [00:00<00:00, 641.37it/s]"
          ]
        },
        {
          "name": "stdout",
          "output_type": "stream",
          "text": [
            "[MoviePy] Done.\n",
            "[MoviePy] Writing video /content/drive/MyDrive/gp/The Girl Who Believes in Miracles/clip/13.mp4\n"
          ]
        },
        {
          "name": "stderr",
          "output_type": "stream",
          "text": [
            "\n",
            "100%|██████████| 240/240 [00:03<00:00, 63.46it/s]\n"
          ]
        },
        {
          "name": "stdout",
          "output_type": "stream",
          "text": [
            "[MoviePy] Done.\n",
            "[MoviePy] >>>> Video ready: /content/drive/MyDrive/gp/The Girl Who Believes in Miracles/clip/13.mp4 \n",
            "\n",
            "13번째 클립 저장 완료\n",
            "[MoviePy] >>>> Building video /content/drive/MyDrive/gp/The Girl Who Believes in Miracles/clip/14.mp4\n",
            "[MoviePy] Writing audio in 14TEMP_MPY_wvf_snd.mp3\n"
          ]
        },
        {
          "name": "stderr",
          "output_type": "stream",
          "text": [
            "100%|██████████| 221/221 [00:00<00:00, 652.46it/s]"
          ]
        },
        {
          "name": "stdout",
          "output_type": "stream",
          "text": [
            "[MoviePy] Done.\n",
            "[MoviePy] Writing video /content/drive/MyDrive/gp/The Girl Who Believes in Miracles/clip/14.mp4\n"
          ]
        },
        {
          "name": "stderr",
          "output_type": "stream",
          "text": [
            "\n",
            "100%|██████████| 240/240 [00:03<00:00, 67.61it/s]\n"
          ]
        },
        {
          "name": "stdout",
          "output_type": "stream",
          "text": [
            "[MoviePy] Done.\n",
            "[MoviePy] >>>> Video ready: /content/drive/MyDrive/gp/The Girl Who Believes in Miracles/clip/14.mp4 \n",
            "\n",
            "14번째 클립 저장 완료\n",
            "[MoviePy] >>>> Building video /content/drive/MyDrive/gp/The Girl Who Believes in Miracles/clip/15.mp4\n",
            "[MoviePy] Writing audio in 15TEMP_MPY_wvf_snd.mp3\n"
          ]
        },
        {
          "name": "stderr",
          "output_type": "stream",
          "text": [
            "100%|██████████| 221/221 [00:00<00:00, 653.79it/s]"
          ]
        },
        {
          "name": "stdout",
          "output_type": "stream",
          "text": [
            "[MoviePy] Done.\n",
            "[MoviePy] Writing video /content/drive/MyDrive/gp/The Girl Who Believes in Miracles/clip/15.mp4\n"
          ]
        },
        {
          "name": "stderr",
          "output_type": "stream",
          "text": [
            "\n",
            "100%|██████████| 240/240 [00:03<00:00, 61.10it/s]\n"
          ]
        },
        {
          "name": "stdout",
          "output_type": "stream",
          "text": [
            "[MoviePy] Done.\n",
            "[MoviePy] >>>> Video ready: /content/drive/MyDrive/gp/The Girl Who Believes in Miracles/clip/15.mp4 \n",
            "\n",
            "15번째 클립 저장 완료\n",
            "[MoviePy] >>>> Building video /content/drive/MyDrive/gp/The Girl Who Believes in Miracles/clip/16.mp4\n",
            "[MoviePy] Writing audio in 16TEMP_MPY_wvf_snd.mp3\n"
          ]
        },
        {
          "name": "stderr",
          "output_type": "stream",
          "text": [
            "100%|██████████| 221/221 [00:00<00:00, 669.78it/s]"
          ]
        },
        {
          "name": "stdout",
          "output_type": "stream",
          "text": [
            "[MoviePy] Done.\n",
            "[MoviePy] Writing video /content/drive/MyDrive/gp/The Girl Who Believes in Miracles/clip/16.mp4\n"
          ]
        },
        {
          "name": "stderr",
          "output_type": "stream",
          "text": [
            "\n",
            "100%|██████████| 240/240 [00:03<00:00, 77.57it/s]\n"
          ]
        },
        {
          "name": "stdout",
          "output_type": "stream",
          "text": [
            "[MoviePy] Done.\n",
            "[MoviePy] >>>> Video ready: /content/drive/MyDrive/gp/The Girl Who Believes in Miracles/clip/16.mp4 \n",
            "\n",
            "16번째 클립 저장 완료\n",
            "[MoviePy] >>>> Building video /content/drive/MyDrive/gp/The Girl Who Believes in Miracles/clip/17.mp4\n",
            "[MoviePy] Writing audio in 17TEMP_MPY_wvf_snd.mp3\n"
          ]
        },
        {
          "name": "stderr",
          "output_type": "stream",
          "text": [
            "100%|██████████| 221/221 [00:00<00:00, 638.84it/s]"
          ]
        },
        {
          "name": "stdout",
          "output_type": "stream",
          "text": [
            "[MoviePy] Done.\n",
            "[MoviePy] Writing video /content/drive/MyDrive/gp/The Girl Who Believes in Miracles/clip/17.mp4\n"
          ]
        },
        {
          "name": "stderr",
          "output_type": "stream",
          "text": [
            "\n",
            "100%|██████████| 240/240 [00:05<00:00, 46.29it/s]\n"
          ]
        },
        {
          "name": "stdout",
          "output_type": "stream",
          "text": [
            "[MoviePy] Done.\n",
            "[MoviePy] >>>> Video ready: /content/drive/MyDrive/gp/The Girl Who Believes in Miracles/clip/17.mp4 \n",
            "\n",
            "17번째 클립 저장 완료\n",
            "[MoviePy] >>>> Building video /content/drive/MyDrive/gp/The Girl Who Believes in Miracles/clip/18.mp4\n",
            "[MoviePy] Writing audio in 18TEMP_MPY_wvf_snd.mp3\n"
          ]
        },
        {
          "name": "stderr",
          "output_type": "stream",
          "text": [
            "100%|██████████| 221/221 [00:00<00:00, 387.31it/s]"
          ]
        },
        {
          "name": "stdout",
          "output_type": "stream",
          "text": [
            "[MoviePy] Done.\n",
            "[MoviePy] Writing video /content/drive/MyDrive/gp/The Girl Who Believes in Miracles/clip/18.mp4\n"
          ]
        },
        {
          "name": "stderr",
          "output_type": "stream",
          "text": [
            "\n",
            "100%|██████████| 240/240 [00:03<00:00, 65.26it/s]\n"
          ]
        },
        {
          "name": "stdout",
          "output_type": "stream",
          "text": [
            "[MoviePy] Done.\n",
            "[MoviePy] >>>> Video ready: /content/drive/MyDrive/gp/The Girl Who Believes in Miracles/clip/18.mp4 \n",
            "\n",
            "18번째 클립 저장 완료\n",
            "[MoviePy] >>>> Building video /content/drive/MyDrive/gp/The Girl Who Believes in Miracles/clip/19.mp4\n",
            "[MoviePy] Writing audio in 19TEMP_MPY_wvf_snd.mp3\n"
          ]
        },
        {
          "name": "stderr",
          "output_type": "stream",
          "text": [
            "100%|██████████| 221/221 [00:00<00:00, 606.27it/s]"
          ]
        },
        {
          "name": "stdout",
          "output_type": "stream",
          "text": [
            "[MoviePy] Done.\n",
            "[MoviePy] Writing video /content/drive/MyDrive/gp/The Girl Who Believes in Miracles/clip/19.mp4\n"
          ]
        },
        {
          "name": "stderr",
          "output_type": "stream",
          "text": [
            "\n",
            "100%|██████████| 240/240 [00:03<00:00, 71.80it/s]\n"
          ]
        },
        {
          "name": "stdout",
          "output_type": "stream",
          "text": [
            "[MoviePy] Done.\n",
            "[MoviePy] >>>> Video ready: /content/drive/MyDrive/gp/The Girl Who Believes in Miracles/clip/19.mp4 \n",
            "\n",
            "19번째 클립 저장 완료\n",
            "[MoviePy] >>>> Building video /content/drive/MyDrive/gp/The Girl Who Believes in Miracles/clip/20.mp4\n",
            "[MoviePy] Writing audio in 20TEMP_MPY_wvf_snd.mp3\n"
          ]
        },
        {
          "name": "stderr",
          "output_type": "stream",
          "text": [
            "100%|██████████| 221/221 [00:00<00:00, 642.23it/s]"
          ]
        },
        {
          "name": "stdout",
          "output_type": "stream",
          "text": [
            "[MoviePy] Done.\n",
            "[MoviePy] Writing video /content/drive/MyDrive/gp/The Girl Who Believes in Miracles/clip/20.mp4\n"
          ]
        },
        {
          "name": "stderr",
          "output_type": "stream",
          "text": [
            "\n",
            "100%|██████████| 240/240 [00:03<00:00, 75.54it/s]\n"
          ]
        },
        {
          "name": "stdout",
          "output_type": "stream",
          "text": [
            "[MoviePy] Done.\n",
            "[MoviePy] >>>> Video ready: /content/drive/MyDrive/gp/The Girl Who Believes in Miracles/clip/20.mp4 \n",
            "\n",
            "20번째 클립 저장 완료\n",
            "[MoviePy] >>>> Building video /content/drive/MyDrive/gp/The Girl Who Believes in Miracles/clip/21.mp4\n",
            "[MoviePy] Writing audio in 21TEMP_MPY_wvf_snd.mp3\n"
          ]
        },
        {
          "name": "stderr",
          "output_type": "stream",
          "text": [
            "100%|██████████| 221/221 [00:00<00:00, 636.14it/s]"
          ]
        },
        {
          "name": "stdout",
          "output_type": "stream",
          "text": [
            "[MoviePy] Done.\n",
            "[MoviePy] Writing video /content/drive/MyDrive/gp/The Girl Who Believes in Miracles/clip/21.mp4\n"
          ]
        },
        {
          "name": "stderr",
          "output_type": "stream",
          "text": [
            "\n",
            "100%|██████████| 240/240 [00:02<00:00, 80.65it/s]\n"
          ]
        },
        {
          "name": "stdout",
          "output_type": "stream",
          "text": [
            "[MoviePy] Done.\n",
            "[MoviePy] >>>> Video ready: /content/drive/MyDrive/gp/The Girl Who Believes in Miracles/clip/21.mp4 \n",
            "\n",
            "21번째 클립 저장 완료\n",
            "[MoviePy] >>>> Building video /content/drive/MyDrive/gp/The Girl Who Believes in Miracles/clip/22.mp4\n",
            "[MoviePy] Writing audio in 22TEMP_MPY_wvf_snd.mp3\n"
          ]
        },
        {
          "name": "stderr",
          "output_type": "stream",
          "text": [
            "100%|██████████| 221/221 [00:00<00:00, 650.65it/s]"
          ]
        },
        {
          "name": "stdout",
          "output_type": "stream",
          "text": [
            "[MoviePy] Done.\n",
            "[MoviePy] Writing video /content/drive/MyDrive/gp/The Girl Who Believes in Miracles/clip/22.mp4\n"
          ]
        },
        {
          "name": "stderr",
          "output_type": "stream",
          "text": [
            "\n",
            "100%|██████████| 240/240 [00:02<00:00, 81.75it/s]\n"
          ]
        },
        {
          "name": "stdout",
          "output_type": "stream",
          "text": [
            "[MoviePy] Done.\n",
            "[MoviePy] >>>> Video ready: /content/drive/MyDrive/gp/The Girl Who Believes in Miracles/clip/22.mp4 \n",
            "\n",
            "22번째 클립 저장 완료\n",
            "[MoviePy] >>>> Building video /content/drive/MyDrive/gp/The Girl Who Believes in Miracles/clip/23.mp4\n",
            "[MoviePy] Writing audio in 23TEMP_MPY_wvf_snd.mp3\n"
          ]
        },
        {
          "name": "stderr",
          "output_type": "stream",
          "text": [
            "100%|██████████| 221/221 [00:00<00:00, 651.29it/s]"
          ]
        },
        {
          "name": "stdout",
          "output_type": "stream",
          "text": [
            "[MoviePy] Done.\n",
            "[MoviePy] Writing video /content/drive/MyDrive/gp/The Girl Who Believes in Miracles/clip/23.mp4\n"
          ]
        },
        {
          "name": "stderr",
          "output_type": "stream",
          "text": [
            "\n",
            "100%|██████████| 240/240 [00:02<00:00, 82.67it/s]\n"
          ]
        },
        {
          "name": "stdout",
          "output_type": "stream",
          "text": [
            "[MoviePy] Done.\n",
            "[MoviePy] >>>> Video ready: /content/drive/MyDrive/gp/The Girl Who Believes in Miracles/clip/23.mp4 \n",
            "\n",
            "23번째 클립 저장 완료\n",
            "[MoviePy] >>>> Building video /content/drive/MyDrive/gp/The Girl Who Believes in Miracles/clip/24.mp4\n",
            "[MoviePy] Writing audio in 24TEMP_MPY_wvf_snd.mp3\n"
          ]
        },
        {
          "name": "stderr",
          "output_type": "stream",
          "text": [
            "100%|██████████| 221/221 [00:00<00:00, 637.29it/s]"
          ]
        },
        {
          "name": "stdout",
          "output_type": "stream",
          "text": [
            "[MoviePy] Done.\n",
            "[MoviePy] Writing video /content/drive/MyDrive/gp/The Girl Who Believes in Miracles/clip/24.mp4\n"
          ]
        },
        {
          "name": "stderr",
          "output_type": "stream",
          "text": [
            "\n",
            "100%|██████████| 240/240 [00:02<00:00, 85.21it/s]\n"
          ]
        },
        {
          "name": "stdout",
          "output_type": "stream",
          "text": [
            "[MoviePy] Done.\n",
            "[MoviePy] >>>> Video ready: /content/drive/MyDrive/gp/The Girl Who Believes in Miracles/clip/24.mp4 \n",
            "\n",
            "24번째 클립 저장 완료\n",
            "[MoviePy] >>>> Building video /content/drive/MyDrive/gp/The Girl Who Believes in Miracles/clip/25.mp4\n",
            "[MoviePy] Writing audio in 25TEMP_MPY_wvf_snd.mp3\n"
          ]
        },
        {
          "name": "stderr",
          "output_type": "stream",
          "text": [
            "100%|██████████| 221/221 [00:00<00:00, 623.45it/s]"
          ]
        },
        {
          "name": "stdout",
          "output_type": "stream",
          "text": [
            "[MoviePy] Done.\n",
            "[MoviePy] Writing video /content/drive/MyDrive/gp/The Girl Who Believes in Miracles/clip/25.mp4\n"
          ]
        },
        {
          "name": "stderr",
          "output_type": "stream",
          "text": [
            "\n",
            "100%|██████████| 240/240 [00:02<00:00, 80.85it/s]\n"
          ]
        },
        {
          "name": "stdout",
          "output_type": "stream",
          "text": [
            "[MoviePy] Done.\n",
            "[MoviePy] >>>> Video ready: /content/drive/MyDrive/gp/The Girl Who Believes in Miracles/clip/25.mp4 \n",
            "\n",
            "25번째 클립 저장 완료\n",
            "[MoviePy] >>>> Building video /content/drive/MyDrive/gp/The Girl Who Believes in Miracles/clip/26.mp4\n",
            "[MoviePy] Writing audio in 26TEMP_MPY_wvf_snd.mp3\n"
          ]
        },
        {
          "name": "stderr",
          "output_type": "stream",
          "text": [
            "100%|██████████| 221/221 [00:00<00:00, 653.54it/s]"
          ]
        },
        {
          "name": "stdout",
          "output_type": "stream",
          "text": [
            "[MoviePy] Done.\n",
            "[MoviePy] Writing video /content/drive/MyDrive/gp/The Girl Who Believes in Miracles/clip/26.mp4\n"
          ]
        },
        {
          "name": "stderr",
          "output_type": "stream",
          "text": [
            "\n",
            "100%|██████████| 240/240 [00:03<00:00, 67.70it/s]\n"
          ]
        },
        {
          "name": "stdout",
          "output_type": "stream",
          "text": [
            "[MoviePy] Done.\n",
            "[MoviePy] >>>> Video ready: /content/drive/MyDrive/gp/The Girl Who Believes in Miracles/clip/26.mp4 \n",
            "\n",
            "26번째 클립 저장 완료\n",
            "[MoviePy] >>>> Building video /content/drive/MyDrive/gp/The Girl Who Believes in Miracles/clip/27.mp4\n",
            "[MoviePy] Writing audio in 27TEMP_MPY_wvf_snd.mp3\n"
          ]
        },
        {
          "name": "stderr",
          "output_type": "stream",
          "text": [
            "100%|██████████| 221/221 [00:00<00:00, 636.16it/s]"
          ]
        },
        {
          "name": "stdout",
          "output_type": "stream",
          "text": [
            "[MoviePy] Done.\n",
            "[MoviePy] Writing video /content/drive/MyDrive/gp/The Girl Who Believes in Miracles/clip/27.mp4\n"
          ]
        },
        {
          "name": "stderr",
          "output_type": "stream",
          "text": [
            "\n",
            "100%|██████████| 240/240 [00:03<00:00, 64.78it/s]\n"
          ]
        },
        {
          "name": "stdout",
          "output_type": "stream",
          "text": [
            "[MoviePy] Done.\n",
            "[MoviePy] >>>> Video ready: /content/drive/MyDrive/gp/The Girl Who Believes in Miracles/clip/27.mp4 \n",
            "\n",
            "27번째 클립 저장 완료\n",
            "[MoviePy] >>>> Building video /content/drive/MyDrive/gp/The Girl Who Believes in Miracles/clip/28.mp4\n",
            "[MoviePy] Writing audio in 28TEMP_MPY_wvf_snd.mp3\n"
          ]
        },
        {
          "name": "stderr",
          "output_type": "stream",
          "text": [
            "100%|██████████| 221/221 [00:00<00:00, 646.99it/s]"
          ]
        },
        {
          "name": "stdout",
          "output_type": "stream",
          "text": [
            "[MoviePy] Done.\n",
            "[MoviePy] Writing video /content/drive/MyDrive/gp/The Girl Who Believes in Miracles/clip/28.mp4\n"
          ]
        },
        {
          "name": "stderr",
          "output_type": "stream",
          "text": [
            "\n",
            "100%|██████████| 240/240 [00:03<00:00, 69.85it/s]\n"
          ]
        },
        {
          "name": "stdout",
          "output_type": "stream",
          "text": [
            "[MoviePy] Done.\n",
            "[MoviePy] >>>> Video ready: /content/drive/MyDrive/gp/The Girl Who Believes in Miracles/clip/28.mp4 \n",
            "\n",
            "28번째 클립 저장 완료\n",
            "[MoviePy] >>>> Building video /content/drive/MyDrive/gp/The Girl Who Believes in Miracles/clip/29.mp4\n",
            "[MoviePy] Writing audio in 29TEMP_MPY_wvf_snd.mp3\n"
          ]
        },
        {
          "name": "stderr",
          "output_type": "stream",
          "text": [
            "100%|██████████| 221/221 [00:00<00:00, 646.49it/s]"
          ]
        },
        {
          "name": "stdout",
          "output_type": "stream",
          "text": [
            "[MoviePy] Done.\n",
            "[MoviePy] Writing video /content/drive/MyDrive/gp/The Girl Who Believes in Miracles/clip/29.mp4\n"
          ]
        },
        {
          "name": "stderr",
          "output_type": "stream",
          "text": [
            "\n",
            "100%|██████████| 240/240 [00:03<00:00, 76.17it/s]\n"
          ]
        },
        {
          "name": "stdout",
          "output_type": "stream",
          "text": [
            "[MoviePy] Done.\n",
            "[MoviePy] >>>> Video ready: /content/drive/MyDrive/gp/The Girl Who Believes in Miracles/clip/29.mp4 \n",
            "\n",
            "29번째 클립 저장 완료\n",
            "[MoviePy] >>>> Building video /content/drive/MyDrive/gp/The Girl Who Believes in Miracles/clip/30.mp4\n",
            "[MoviePy] Writing audio in 30TEMP_MPY_wvf_snd.mp3\n"
          ]
        },
        {
          "name": "stderr",
          "output_type": "stream",
          "text": [
            "100%|██████████| 221/221 [00:00<00:00, 625.47it/s]"
          ]
        },
        {
          "name": "stdout",
          "output_type": "stream",
          "text": [
            "[MoviePy] Done.\n",
            "[MoviePy] Writing video /content/drive/MyDrive/gp/The Girl Who Believes in Miracles/clip/30.mp4\n"
          ]
        },
        {
          "name": "stderr",
          "output_type": "stream",
          "text": [
            "\n",
            "100%|██████████| 240/240 [00:03<00:00, 62.48it/s]\n"
          ]
        },
        {
          "name": "stdout",
          "output_type": "stream",
          "text": [
            "[MoviePy] Done.\n",
            "[MoviePy] >>>> Video ready: /content/drive/MyDrive/gp/The Girl Who Believes in Miracles/clip/30.mp4 \n",
            "\n",
            "30번째 클립 저장 완료\n",
            "[MoviePy] >>>> Building video /content/drive/MyDrive/gp/The Girl Who Believes in Miracles/clip/31.mp4\n",
            "[MoviePy] Writing audio in 31TEMP_MPY_wvf_snd.mp3\n"
          ]
        },
        {
          "name": "stderr",
          "output_type": "stream",
          "text": [
            "100%|██████████| 221/221 [00:00<00:00, 649.57it/s]"
          ]
        },
        {
          "name": "stdout",
          "output_type": "stream",
          "text": [
            "[MoviePy] Done.\n",
            "[MoviePy] Writing video /content/drive/MyDrive/gp/The Girl Who Believes in Miracles/clip/31.mp4\n"
          ]
        },
        {
          "name": "stderr",
          "output_type": "stream",
          "text": [
            "\n",
            "100%|██████████| 240/240 [00:03<00:00, 63.50it/s]\n"
          ]
        },
        {
          "name": "stdout",
          "output_type": "stream",
          "text": [
            "[MoviePy] Done.\n",
            "[MoviePy] >>>> Video ready: /content/drive/MyDrive/gp/The Girl Who Believes in Miracles/clip/31.mp4 \n",
            "\n",
            "31번째 클립 저장 완료\n",
            "[MoviePy] >>>> Building video /content/drive/MyDrive/gp/The Girl Who Believes in Miracles/clip/32.mp4\n",
            "[MoviePy] Writing audio in 32TEMP_MPY_wvf_snd.mp3\n"
          ]
        },
        {
          "name": "stderr",
          "output_type": "stream",
          "text": [
            "100%|██████████| 221/221 [00:00<00:00, 638.42it/s]"
          ]
        },
        {
          "name": "stdout",
          "output_type": "stream",
          "text": [
            "[MoviePy] Done.\n",
            "[MoviePy] Writing video /content/drive/MyDrive/gp/The Girl Who Believes in Miracles/clip/32.mp4\n"
          ]
        },
        {
          "name": "stderr",
          "output_type": "stream",
          "text": [
            "\n",
            "100%|██████████| 240/240 [00:03<00:00, 60.67it/s]\n"
          ]
        },
        {
          "name": "stdout",
          "output_type": "stream",
          "text": [
            "[MoviePy] Done.\n",
            "[MoviePy] >>>> Video ready: /content/drive/MyDrive/gp/The Girl Who Believes in Miracles/clip/32.mp4 \n",
            "\n",
            "32번째 클립 저장 완료\n",
            "[MoviePy] >>>> Building video /content/drive/MyDrive/gp/The Girl Who Believes in Miracles/clip/33.mp4\n",
            "[MoviePy] Writing audio in 33TEMP_MPY_wvf_snd.mp3\n"
          ]
        },
        {
          "name": "stderr",
          "output_type": "stream",
          "text": [
            "100%|██████████| 221/221 [00:00<00:00, 616.18it/s]"
          ]
        },
        {
          "name": "stdout",
          "output_type": "stream",
          "text": [
            "[MoviePy] Done.\n",
            "[MoviePy] Writing video /content/drive/MyDrive/gp/The Girl Who Believes in Miracles/clip/33.mp4\n"
          ]
        },
        {
          "name": "stderr",
          "output_type": "stream",
          "text": [
            "\n",
            "100%|██████████| 240/240 [00:03<00:00, 65.31it/s]\n"
          ]
        },
        {
          "name": "stdout",
          "output_type": "stream",
          "text": [
            "[MoviePy] Done.\n",
            "[MoviePy] >>>> Video ready: /content/drive/MyDrive/gp/The Girl Who Believes in Miracles/clip/33.mp4 \n",
            "\n",
            "33번째 클립 저장 완료\n",
            "[MoviePy] >>>> Building video /content/drive/MyDrive/gp/The Girl Who Believes in Miracles/clip/34.mp4\n",
            "[MoviePy] Writing audio in 34TEMP_MPY_wvf_snd.mp3\n"
          ]
        },
        {
          "name": "stderr",
          "output_type": "stream",
          "text": [
            "100%|██████████| 221/221 [00:00<00:00, 618.83it/s]"
          ]
        },
        {
          "name": "stdout",
          "output_type": "stream",
          "text": [
            "[MoviePy] Done.\n",
            "[MoviePy] Writing video /content/drive/MyDrive/gp/The Girl Who Believes in Miracles/clip/34.mp4\n"
          ]
        },
        {
          "name": "stderr",
          "output_type": "stream",
          "text": [
            "\n",
            "100%|██████████| 240/240 [00:03<00:00, 69.93it/s]\n"
          ]
        },
        {
          "name": "stdout",
          "output_type": "stream",
          "text": [
            "[MoviePy] Done.\n",
            "[MoviePy] >>>> Video ready: /content/drive/MyDrive/gp/The Girl Who Believes in Miracles/clip/34.mp4 \n",
            "\n",
            "34번째 클립 저장 완료\n",
            "[MoviePy] >>>> Building video /content/drive/MyDrive/gp/The Girl Who Believes in Miracles/clip/35.mp4\n",
            "[MoviePy] Writing audio in 35TEMP_MPY_wvf_snd.mp3\n"
          ]
        },
        {
          "name": "stderr",
          "output_type": "stream",
          "text": [
            "100%|██████████| 221/221 [00:00<00:00, 619.07it/s]"
          ]
        },
        {
          "name": "stdout",
          "output_type": "stream",
          "text": [
            "[MoviePy] Done.\n",
            "[MoviePy] Writing video /content/drive/MyDrive/gp/The Girl Who Believes in Miracles/clip/35.mp4\n"
          ]
        },
        {
          "name": "stderr",
          "output_type": "stream",
          "text": [
            "\n",
            "100%|██████████| 240/240 [00:03<00:00, 71.35it/s]\n"
          ]
        },
        {
          "name": "stdout",
          "output_type": "stream",
          "text": [
            "[MoviePy] Done.\n",
            "[MoviePy] >>>> Video ready: /content/drive/MyDrive/gp/The Girl Who Believes in Miracles/clip/35.mp4 \n",
            "\n",
            "35번째 클립 저장 완료\n",
            "[MoviePy] >>>> Building video /content/drive/MyDrive/gp/The Girl Who Believes in Miracles/clip/36.mp4\n",
            "[MoviePy] Writing audio in 36TEMP_MPY_wvf_snd.mp3\n"
          ]
        },
        {
          "name": "stderr",
          "output_type": "stream",
          "text": [
            "100%|██████████| 221/221 [00:00<00:00, 659.52it/s]"
          ]
        },
        {
          "name": "stdout",
          "output_type": "stream",
          "text": [
            "[MoviePy] Done.\n",
            "[MoviePy] Writing video /content/drive/MyDrive/gp/The Girl Who Believes in Miracles/clip/36.mp4\n"
          ]
        },
        {
          "name": "stderr",
          "output_type": "stream",
          "text": [
            "\n",
            "100%|██████████| 240/240 [00:03<00:00, 71.99it/s]\n"
          ]
        },
        {
          "name": "stdout",
          "output_type": "stream",
          "text": [
            "[MoviePy] Done.\n",
            "[MoviePy] >>>> Video ready: /content/drive/MyDrive/gp/The Girl Who Believes in Miracles/clip/36.mp4 \n",
            "\n",
            "36번째 클립 저장 완료\n",
            "[MoviePy] >>>> Building video /content/drive/MyDrive/gp/The Girl Who Believes in Miracles/clip/37.mp4\n",
            "[MoviePy] Writing audio in 37TEMP_MPY_wvf_snd.mp3\n"
          ]
        },
        {
          "name": "stderr",
          "output_type": "stream",
          "text": [
            "100%|██████████| 221/221 [00:00<00:00, 635.90it/s]"
          ]
        },
        {
          "name": "stdout",
          "output_type": "stream",
          "text": [
            "[MoviePy] Done.\n",
            "[MoviePy] Writing video /content/drive/MyDrive/gp/The Girl Who Believes in Miracles/clip/37.mp4\n"
          ]
        },
        {
          "name": "stderr",
          "output_type": "stream",
          "text": [
            "\n",
            "100%|██████████| 240/240 [00:03<00:00, 76.15it/s]\n"
          ]
        },
        {
          "name": "stdout",
          "output_type": "stream",
          "text": [
            "[MoviePy] Done.\n",
            "[MoviePy] >>>> Video ready: /content/drive/MyDrive/gp/The Girl Who Believes in Miracles/clip/37.mp4 \n",
            "\n",
            "37번째 클립 저장 완료\n",
            "[MoviePy] >>>> Building video /content/drive/MyDrive/gp/The Girl Who Believes in Miracles/clip/38.mp4\n",
            "[MoviePy] Writing audio in 38TEMP_MPY_wvf_snd.mp3\n"
          ]
        },
        {
          "name": "stderr",
          "output_type": "stream",
          "text": [
            "100%|██████████| 221/221 [00:00<00:00, 623.69it/s]"
          ]
        },
        {
          "name": "stdout",
          "output_type": "stream",
          "text": [
            "[MoviePy] Done.\n",
            "[MoviePy] Writing video /content/drive/MyDrive/gp/The Girl Who Believes in Miracles/clip/38.mp4\n"
          ]
        },
        {
          "name": "stderr",
          "output_type": "stream",
          "text": [
            "\n",
            "100%|██████████| 240/240 [00:03<00:00, 70.42it/s]\n"
          ]
        },
        {
          "name": "stdout",
          "output_type": "stream",
          "text": [
            "[MoviePy] Done.\n",
            "[MoviePy] >>>> Video ready: /content/drive/MyDrive/gp/The Girl Who Believes in Miracles/clip/38.mp4 \n",
            "\n",
            "38번째 클립 저장 완료\n",
            "[MoviePy] >>>> Building video /content/drive/MyDrive/gp/The Girl Who Believes in Miracles/clip/39.mp4\n",
            "[MoviePy] Writing audio in 39TEMP_MPY_wvf_snd.mp3\n"
          ]
        },
        {
          "name": "stderr",
          "output_type": "stream",
          "text": [
            "100%|██████████| 221/221 [00:00<00:00, 623.95it/s]"
          ]
        },
        {
          "name": "stdout",
          "output_type": "stream",
          "text": [
            "[MoviePy] Done.\n",
            "[MoviePy] Writing video /content/drive/MyDrive/gp/The Girl Who Believes in Miracles/clip/39.mp4\n"
          ]
        },
        {
          "name": "stderr",
          "output_type": "stream",
          "text": [
            "\n",
            "100%|██████████| 240/240 [00:03<00:00, 60.49it/s]\n"
          ]
        },
        {
          "name": "stdout",
          "output_type": "stream",
          "text": [
            "[MoviePy] Done.\n",
            "[MoviePy] >>>> Video ready: /content/drive/MyDrive/gp/The Girl Who Believes in Miracles/clip/39.mp4 \n",
            "\n",
            "39번째 클립 저장 완료\n",
            "[MoviePy] >>>> Building video /content/drive/MyDrive/gp/The Girl Who Believes in Miracles/clip/40.mp4\n",
            "[MoviePy] Writing audio in 40TEMP_MPY_wvf_snd.mp3\n"
          ]
        },
        {
          "name": "stderr",
          "output_type": "stream",
          "text": [
            "100%|██████████| 221/221 [00:00<00:00, 643.81it/s]"
          ]
        },
        {
          "name": "stdout",
          "output_type": "stream",
          "text": [
            "[MoviePy] Done.\n",
            "[MoviePy] Writing video /content/drive/MyDrive/gp/The Girl Who Believes in Miracles/clip/40.mp4\n"
          ]
        },
        {
          "name": "stderr",
          "output_type": "stream",
          "text": [
            "\n",
            "100%|██████████| 240/240 [00:03<00:00, 62.45it/s]\n"
          ]
        },
        {
          "name": "stdout",
          "output_type": "stream",
          "text": [
            "[MoviePy] Done.\n",
            "[MoviePy] >>>> Video ready: /content/drive/MyDrive/gp/The Girl Who Believes in Miracles/clip/40.mp4 \n",
            "\n",
            "40번째 클립 저장 완료\n",
            "[MoviePy] >>>> Building video /content/drive/MyDrive/gp/The Girl Who Believes in Miracles/clip/41.mp4\n",
            "[MoviePy] Writing audio in 41TEMP_MPY_wvf_snd.mp3\n"
          ]
        },
        {
          "name": "stderr",
          "output_type": "stream",
          "text": [
            "100%|██████████| 221/221 [00:00<00:00, 618.90it/s]"
          ]
        },
        {
          "name": "stdout",
          "output_type": "stream",
          "text": [
            "[MoviePy] Done.\n",
            "[MoviePy] Writing video /content/drive/MyDrive/gp/The Girl Who Believes in Miracles/clip/41.mp4\n"
          ]
        },
        {
          "name": "stderr",
          "output_type": "stream",
          "text": [
            "\n",
            "100%|██████████| 240/240 [00:03<00:00, 69.43it/s]\n"
          ]
        },
        {
          "name": "stdout",
          "output_type": "stream",
          "text": [
            "[MoviePy] Done.\n",
            "[MoviePy] >>>> Video ready: /content/drive/MyDrive/gp/The Girl Who Believes in Miracles/clip/41.mp4 \n",
            "\n",
            "41번째 클립 저장 완료\n",
            "[MoviePy] >>>> Building video /content/drive/MyDrive/gp/The Girl Who Believes in Miracles/clip/42.mp4\n",
            "[MoviePy] Writing audio in 42TEMP_MPY_wvf_snd.mp3\n"
          ]
        },
        {
          "name": "stderr",
          "output_type": "stream",
          "text": [
            "100%|██████████| 221/221 [00:00<00:00, 372.12it/s]"
          ]
        },
        {
          "name": "stdout",
          "output_type": "stream",
          "text": [
            "[MoviePy] Done.\n",
            "[MoviePy] Writing video /content/drive/MyDrive/gp/The Girl Who Believes in Miracles/clip/42.mp4\n"
          ]
        },
        {
          "name": "stderr",
          "output_type": "stream",
          "text": [
            "\n",
            "100%|██████████| 240/240 [00:04<00:00, 51.92it/s]\n"
          ]
        },
        {
          "name": "stdout",
          "output_type": "stream",
          "text": [
            "[MoviePy] Done.\n",
            "[MoviePy] >>>> Video ready: /content/drive/MyDrive/gp/The Girl Who Believes in Miracles/clip/42.mp4 \n",
            "\n",
            "42번째 클립 저장 완료\n",
            "[MoviePy] >>>> Building video /content/drive/MyDrive/gp/The Girl Who Believes in Miracles/clip/43.mp4\n",
            "[MoviePy] Writing audio in 43TEMP_MPY_wvf_snd.mp3\n"
          ]
        },
        {
          "name": "stderr",
          "output_type": "stream",
          "text": [
            "100%|██████████| 221/221 [00:00<00:00, 647.70it/s]"
          ]
        },
        {
          "name": "stdout",
          "output_type": "stream",
          "text": [
            "[MoviePy] Done.\n",
            "[MoviePy] Writing video /content/drive/MyDrive/gp/The Girl Who Believes in Miracles/clip/43.mp4\n"
          ]
        },
        {
          "name": "stderr",
          "output_type": "stream",
          "text": [
            "\n",
            "100%|██████████| 240/240 [00:03<00:00, 65.74it/s]\n"
          ]
        },
        {
          "name": "stdout",
          "output_type": "stream",
          "text": [
            "[MoviePy] Done.\n",
            "[MoviePy] >>>> Video ready: /content/drive/MyDrive/gp/The Girl Who Believes in Miracles/clip/43.mp4 \n",
            "\n",
            "43번째 클립 저장 완료\n",
            "[MoviePy] >>>> Building video /content/drive/MyDrive/gp/The Girl Who Believes in Miracles/clip/44.mp4\n",
            "[MoviePy] Writing audio in 44TEMP_MPY_wvf_snd.mp3\n"
          ]
        },
        {
          "name": "stderr",
          "output_type": "stream",
          "text": [
            "100%|██████████| 221/221 [00:00<00:00, 647.24it/s]"
          ]
        },
        {
          "name": "stdout",
          "output_type": "stream",
          "text": [
            "[MoviePy] Done.\n",
            "[MoviePy] Writing video /content/drive/MyDrive/gp/The Girl Who Believes in Miracles/clip/44.mp4\n"
          ]
        },
        {
          "name": "stderr",
          "output_type": "stream",
          "text": [
            "\n",
            "100%|██████████| 240/240 [00:03<00:00, 63.38it/s]\n"
          ]
        },
        {
          "name": "stdout",
          "output_type": "stream",
          "text": [
            "[MoviePy] Done.\n",
            "[MoviePy] >>>> Video ready: /content/drive/MyDrive/gp/The Girl Who Believes in Miracles/clip/44.mp4 \n",
            "\n",
            "44번째 클립 저장 완료\n",
            "[MoviePy] >>>> Building video /content/drive/MyDrive/gp/The Girl Who Believes in Miracles/clip/45.mp4\n",
            "[MoviePy] Writing audio in 45TEMP_MPY_wvf_snd.mp3\n"
          ]
        },
        {
          "name": "stderr",
          "output_type": "stream",
          "text": [
            "100%|██████████| 221/221 [00:00<00:00, 621.76it/s]"
          ]
        },
        {
          "name": "stdout",
          "output_type": "stream",
          "text": [
            "[MoviePy] Done.\n",
            "[MoviePy] Writing video /content/drive/MyDrive/gp/The Girl Who Believes in Miracles/clip/45.mp4\n"
          ]
        },
        {
          "name": "stderr",
          "output_type": "stream",
          "text": [
            "\n",
            "100%|██████████| 240/240 [00:03<00:00, 71.79it/s]\n"
          ]
        },
        {
          "name": "stdout",
          "output_type": "stream",
          "text": [
            "[MoviePy] Done.\n",
            "[MoviePy] >>>> Video ready: /content/drive/MyDrive/gp/The Girl Who Believes in Miracles/clip/45.mp4 \n",
            "\n",
            "45번째 클립 저장 완료\n",
            "[MoviePy] >>>> Building video /content/drive/MyDrive/gp/The Girl Who Believes in Miracles/clip/46.mp4\n",
            "[MoviePy] Writing audio in 46TEMP_MPY_wvf_snd.mp3\n"
          ]
        },
        {
          "name": "stderr",
          "output_type": "stream",
          "text": [
            "100%|██████████| 221/221 [00:00<00:00, 636.66it/s]"
          ]
        },
        {
          "name": "stdout",
          "output_type": "stream",
          "text": [
            "[MoviePy] Done.\n",
            "[MoviePy] Writing video /content/drive/MyDrive/gp/The Girl Who Believes in Miracles/clip/46.mp4\n"
          ]
        },
        {
          "name": "stderr",
          "output_type": "stream",
          "text": [
            "\n",
            "100%|██████████| 240/240 [00:03<00:00, 68.81it/s]\n"
          ]
        },
        {
          "name": "stdout",
          "output_type": "stream",
          "text": [
            "[MoviePy] Done.\n",
            "[MoviePy] >>>> Video ready: /content/drive/MyDrive/gp/The Girl Who Believes in Miracles/clip/46.mp4 \n",
            "\n",
            "46번째 클립 저장 완료\n",
            "[MoviePy] >>>> Building video /content/drive/MyDrive/gp/The Girl Who Believes in Miracles/clip/47.mp4\n",
            "[MoviePy] Writing audio in 47TEMP_MPY_wvf_snd.mp3\n"
          ]
        },
        {
          "name": "stderr",
          "output_type": "stream",
          "text": [
            "100%|██████████| 221/221 [00:00<00:00, 628.58it/s]"
          ]
        },
        {
          "name": "stdout",
          "output_type": "stream",
          "text": [
            "[MoviePy] Done.\n",
            "[MoviePy] Writing video /content/drive/MyDrive/gp/The Girl Who Believes in Miracles/clip/47.mp4\n"
          ]
        },
        {
          "name": "stderr",
          "output_type": "stream",
          "text": [
            "\n",
            "100%|██████████| 240/240 [00:03<00:00, 76.13it/s]\n"
          ]
        },
        {
          "name": "stdout",
          "output_type": "stream",
          "text": [
            "[MoviePy] Done.\n",
            "[MoviePy] >>>> Video ready: /content/drive/MyDrive/gp/The Girl Who Believes in Miracles/clip/47.mp4 \n",
            "\n",
            "47번째 클립 저장 완료\n",
            "[MoviePy] >>>> Building video /content/drive/MyDrive/gp/The Girl Who Believes in Miracles/clip/48.mp4\n",
            "[MoviePy] Writing audio in 48TEMP_MPY_wvf_snd.mp3\n"
          ]
        },
        {
          "name": "stderr",
          "output_type": "stream",
          "text": [
            "100%|██████████| 221/221 [00:00<00:00, 625.63it/s]"
          ]
        },
        {
          "name": "stdout",
          "output_type": "stream",
          "text": [
            "[MoviePy] Done.\n",
            "[MoviePy] Writing video /content/drive/MyDrive/gp/The Girl Who Believes in Miracles/clip/48.mp4\n"
          ]
        },
        {
          "name": "stderr",
          "output_type": "stream",
          "text": [
            "\n",
            "100%|██████████| 240/240 [00:03<00:00, 77.04it/s]\n"
          ]
        },
        {
          "name": "stdout",
          "output_type": "stream",
          "text": [
            "[MoviePy] Done.\n",
            "[MoviePy] >>>> Video ready: /content/drive/MyDrive/gp/The Girl Who Believes in Miracles/clip/48.mp4 \n",
            "\n",
            "48번째 클립 저장 완료\n",
            "[MoviePy] >>>> Building video /content/drive/MyDrive/gp/The Girl Who Believes in Miracles/clip/49.mp4\n",
            "[MoviePy] Writing audio in 49TEMP_MPY_wvf_snd.mp3\n"
          ]
        },
        {
          "name": "stderr",
          "output_type": "stream",
          "text": [
            "100%|██████████| 221/221 [00:00<00:00, 622.44it/s]"
          ]
        },
        {
          "name": "stdout",
          "output_type": "stream",
          "text": [
            "[MoviePy] Done.\n",
            "[MoviePy] Writing video /content/drive/MyDrive/gp/The Girl Who Believes in Miracles/clip/49.mp4\n"
          ]
        },
        {
          "name": "stderr",
          "output_type": "stream",
          "text": [
            "\n",
            "100%|██████████| 240/240 [00:03<00:00, 63.31it/s]\n"
          ]
        },
        {
          "name": "stdout",
          "output_type": "stream",
          "text": [
            "[MoviePy] Done.\n",
            "[MoviePy] >>>> Video ready: /content/drive/MyDrive/gp/The Girl Who Believes in Miracles/clip/49.mp4 \n",
            "\n",
            "49번째 클립 저장 완료\n",
            "[MoviePy] >>>> Building video /content/drive/MyDrive/gp/The Girl Who Believes in Miracles/clip/50.mp4\n",
            "[MoviePy] Writing audio in 50TEMP_MPY_wvf_snd.mp3\n"
          ]
        },
        {
          "name": "stderr",
          "output_type": "stream",
          "text": [
            "100%|██████████| 221/221 [00:00<00:00, 591.90it/s]"
          ]
        },
        {
          "name": "stdout",
          "output_type": "stream",
          "text": [
            "[MoviePy] Done.\n",
            "[MoviePy] Writing video /content/drive/MyDrive/gp/The Girl Who Believes in Miracles/clip/50.mp4\n"
          ]
        },
        {
          "name": "stderr",
          "output_type": "stream",
          "text": [
            "\n",
            "100%|██████████| 240/240 [00:03<00:00, 75.09it/s]\n"
          ]
        },
        {
          "name": "stdout",
          "output_type": "stream",
          "text": [
            "[MoviePy] Done.\n",
            "[MoviePy] >>>> Video ready: /content/drive/MyDrive/gp/The Girl Who Believes in Miracles/clip/50.mp4 \n",
            "\n",
            "50번째 클립 저장 완료\n",
            "[MoviePy] >>>> Building video /content/drive/MyDrive/gp/The Girl Who Believes in Miracles/clip/51.mp4\n",
            "[MoviePy] Writing audio in 51TEMP_MPY_wvf_snd.mp3\n"
          ]
        },
        {
          "name": "stderr",
          "output_type": "stream",
          "text": [
            "100%|██████████| 221/221 [00:00<00:00, 645.98it/s]"
          ]
        },
        {
          "name": "stdout",
          "output_type": "stream",
          "text": [
            "[MoviePy] Done.\n",
            "[MoviePy] Writing video /content/drive/MyDrive/gp/The Girl Who Believes in Miracles/clip/51.mp4\n"
          ]
        },
        {
          "name": "stderr",
          "output_type": "stream",
          "text": [
            "\n",
            "100%|██████████| 240/240 [00:03<00:00, 65.02it/s]\n"
          ]
        },
        {
          "name": "stdout",
          "output_type": "stream",
          "text": [
            "[MoviePy] Done.\n",
            "[MoviePy] >>>> Video ready: /content/drive/MyDrive/gp/The Girl Who Believes in Miracles/clip/51.mp4 \n",
            "\n",
            "51번째 클립 저장 완료\n",
            "[MoviePy] >>>> Building video /content/drive/MyDrive/gp/The Girl Who Believes in Miracles/clip/52.mp4\n",
            "[MoviePy] Writing audio in 52TEMP_MPY_wvf_snd.mp3\n"
          ]
        },
        {
          "name": "stderr",
          "output_type": "stream",
          "text": [
            "100%|██████████| 221/221 [00:00<00:00, 583.34it/s]"
          ]
        },
        {
          "name": "stdout",
          "output_type": "stream",
          "text": [
            "[MoviePy] Done.\n",
            "[MoviePy] Writing video /content/drive/MyDrive/gp/The Girl Who Believes in Miracles/clip/52.mp4\n"
          ]
        },
        {
          "name": "stderr",
          "output_type": "stream",
          "text": [
            "\n",
            "100%|██████████| 240/240 [00:02<00:00, 80.23it/s]\n"
          ]
        },
        {
          "name": "stdout",
          "output_type": "stream",
          "text": [
            "[MoviePy] Done.\n",
            "[MoviePy] >>>> Video ready: /content/drive/MyDrive/gp/The Girl Who Believes in Miracles/clip/52.mp4 \n",
            "\n",
            "52번째 클립 저장 완료\n",
            "[MoviePy] >>>> Building video /content/drive/MyDrive/gp/The Girl Who Believes in Miracles/clip/53.mp4\n",
            "[MoviePy] Writing audio in 53TEMP_MPY_wvf_snd.mp3\n"
          ]
        },
        {
          "name": "stderr",
          "output_type": "stream",
          "text": [
            "100%|██████████| 221/221 [00:00<00:00, 636.08it/s]"
          ]
        },
        {
          "name": "stdout",
          "output_type": "stream",
          "text": [
            "[MoviePy] Done.\n",
            "[MoviePy] Writing video /content/drive/MyDrive/gp/The Girl Who Believes in Miracles/clip/53.mp4\n"
          ]
        },
        {
          "name": "stderr",
          "output_type": "stream",
          "text": [
            "\n",
            "100%|██████████| 240/240 [00:03<00:00, 78.37it/s]\n"
          ]
        },
        {
          "name": "stdout",
          "output_type": "stream",
          "text": [
            "[MoviePy] Done.\n",
            "[MoviePy] >>>> Video ready: /content/drive/MyDrive/gp/The Girl Who Believes in Miracles/clip/53.mp4 \n",
            "\n",
            "53번째 클립 저장 완료\n",
            "[MoviePy] >>>> Building video /content/drive/MyDrive/gp/The Girl Who Believes in Miracles/clip/54.mp4\n",
            "[MoviePy] Writing audio in 54TEMP_MPY_wvf_snd.mp3\n"
          ]
        },
        {
          "name": "stderr",
          "output_type": "stream",
          "text": [
            "100%|██████████| 221/221 [00:00<00:00, 636.87it/s]"
          ]
        },
        {
          "name": "stdout",
          "output_type": "stream",
          "text": [
            "[MoviePy] Done.\n",
            "[MoviePy] Writing video /content/drive/MyDrive/gp/The Girl Who Believes in Miracles/clip/54.mp4\n"
          ]
        },
        {
          "name": "stderr",
          "output_type": "stream",
          "text": [
            "\n",
            "100%|██████████| 240/240 [00:03<00:00, 78.43it/s]\n"
          ]
        },
        {
          "name": "stdout",
          "output_type": "stream",
          "text": [
            "[MoviePy] Done.\n",
            "[MoviePy] >>>> Video ready: /content/drive/MyDrive/gp/The Girl Who Believes in Miracles/clip/54.mp4 \n",
            "\n",
            "54번째 클립 저장 완료\n",
            "[MoviePy] >>>> Building video /content/drive/MyDrive/gp/The Girl Who Believes in Miracles/clip/55.mp4\n",
            "[MoviePy] Writing audio in 55TEMP_MPY_wvf_snd.mp3\n"
          ]
        },
        {
          "name": "stderr",
          "output_type": "stream",
          "text": [
            "100%|██████████| 221/221 [00:00<00:00, 611.96it/s]"
          ]
        },
        {
          "name": "stdout",
          "output_type": "stream",
          "text": [
            "[MoviePy] Done.\n",
            "[MoviePy] Writing video /content/drive/MyDrive/gp/The Girl Who Believes in Miracles/clip/55.mp4\n"
          ]
        },
        {
          "name": "stderr",
          "output_type": "stream",
          "text": [
            "\n",
            "100%|██████████| 240/240 [00:03<00:00, 76.59it/s]\n"
          ]
        },
        {
          "name": "stdout",
          "output_type": "stream",
          "text": [
            "[MoviePy] Done.\n",
            "[MoviePy] >>>> Video ready: /content/drive/MyDrive/gp/The Girl Who Believes in Miracles/clip/55.mp4 \n",
            "\n",
            "55번째 클립 저장 완료\n",
            "[MoviePy] >>>> Building video /content/drive/MyDrive/gp/The Girl Who Believes in Miracles/clip/56.mp4\n",
            "[MoviePy] Writing audio in 56TEMP_MPY_wvf_snd.mp3\n"
          ]
        },
        {
          "name": "stderr",
          "output_type": "stream",
          "text": [
            "100%|██████████| 221/221 [00:00<00:00, 642.95it/s]"
          ]
        },
        {
          "name": "stdout",
          "output_type": "stream",
          "text": [
            "[MoviePy] Done.\n",
            "[MoviePy] Writing video /content/drive/MyDrive/gp/The Girl Who Believes in Miracles/clip/56.mp4\n"
          ]
        },
        {
          "name": "stderr",
          "output_type": "stream",
          "text": [
            "\n",
            "100%|██████████| 240/240 [00:03<00:00, 75.61it/s]\n"
          ]
        },
        {
          "name": "stdout",
          "output_type": "stream",
          "text": [
            "[MoviePy] Done.\n",
            "[MoviePy] >>>> Video ready: /content/drive/MyDrive/gp/The Girl Who Believes in Miracles/clip/56.mp4 \n",
            "\n",
            "56번째 클립 저장 완료\n",
            "[MoviePy] >>>> Building video /content/drive/MyDrive/gp/The Girl Who Believes in Miracles/clip/57.mp4\n",
            "[MoviePy] Writing audio in 57TEMP_MPY_wvf_snd.mp3\n"
          ]
        },
        {
          "name": "stderr",
          "output_type": "stream",
          "text": [
            "100%|██████████| 221/221 [00:00<00:00, 629.83it/s]"
          ]
        },
        {
          "name": "stdout",
          "output_type": "stream",
          "text": [
            "[MoviePy] Done.\n",
            "[MoviePy] Writing video /content/drive/MyDrive/gp/The Girl Who Believes in Miracles/clip/57.mp4\n"
          ]
        },
        {
          "name": "stderr",
          "output_type": "stream",
          "text": [
            "\n",
            "100%|██████████| 240/240 [00:03<00:00, 77.18it/s]\n"
          ]
        },
        {
          "name": "stdout",
          "output_type": "stream",
          "text": [
            "[MoviePy] Done.\n",
            "[MoviePy] >>>> Video ready: /content/drive/MyDrive/gp/The Girl Who Believes in Miracles/clip/57.mp4 \n",
            "\n",
            "57번째 클립 저장 완료\n",
            "[MoviePy] >>>> Building video /content/drive/MyDrive/gp/The Girl Who Believes in Miracles/clip/58.mp4\n",
            "[MoviePy] Writing audio in 58TEMP_MPY_wvf_snd.mp3\n"
          ]
        },
        {
          "name": "stderr",
          "output_type": "stream",
          "text": [
            "100%|██████████| 221/221 [00:00<00:00, 608.28it/s]"
          ]
        },
        {
          "name": "stdout",
          "output_type": "stream",
          "text": [
            "[MoviePy] Done.\n",
            "[MoviePy] Writing video /content/drive/MyDrive/gp/The Girl Who Believes in Miracles/clip/58.mp4\n"
          ]
        },
        {
          "name": "stderr",
          "output_type": "stream",
          "text": [
            "\n",
            "100%|██████████| 240/240 [00:03<00:00, 75.81it/s]\n"
          ]
        },
        {
          "name": "stdout",
          "output_type": "stream",
          "text": [
            "[MoviePy] Done.\n",
            "[MoviePy] >>>> Video ready: /content/drive/MyDrive/gp/The Girl Who Believes in Miracles/clip/58.mp4 \n",
            "\n",
            "58번째 클립 저장 완료\n",
            "[MoviePy] >>>> Building video /content/drive/MyDrive/gp/The Girl Who Believes in Miracles/clip/59.mp4\n",
            "[MoviePy] Writing audio in 59TEMP_MPY_wvf_snd.mp3\n"
          ]
        },
        {
          "name": "stderr",
          "output_type": "stream",
          "text": [
            "100%|██████████| 221/221 [00:00<00:00, 618.55it/s]"
          ]
        },
        {
          "name": "stdout",
          "output_type": "stream",
          "text": [
            "[MoviePy] Done.\n",
            "[MoviePy] Writing video /content/drive/MyDrive/gp/The Girl Who Believes in Miracles/clip/59.mp4\n"
          ]
        },
        {
          "name": "stderr",
          "output_type": "stream",
          "text": [
            "\n",
            "100%|██████████| 240/240 [00:03<00:00, 64.06it/s]\n"
          ]
        },
        {
          "name": "stdout",
          "output_type": "stream",
          "text": [
            "[MoviePy] Done.\n",
            "[MoviePy] >>>> Video ready: /content/drive/MyDrive/gp/The Girl Who Believes in Miracles/clip/59.mp4 \n",
            "\n",
            "59번째 클립 저장 완료\n",
            "[MoviePy] >>>> Building video /content/drive/MyDrive/gp/The Girl Who Believes in Miracles/clip/60.mp4\n",
            "[MoviePy] Writing audio in 60TEMP_MPY_wvf_snd.mp3\n"
          ]
        },
        {
          "name": "stderr",
          "output_type": "stream",
          "text": [
            "100%|██████████| 221/221 [00:00<00:00, 644.90it/s]"
          ]
        },
        {
          "name": "stdout",
          "output_type": "stream",
          "text": [
            "[MoviePy] Done.\n",
            "[MoviePy] Writing video /content/drive/MyDrive/gp/The Girl Who Believes in Miracles/clip/60.mp4\n"
          ]
        },
        {
          "name": "stderr",
          "output_type": "stream",
          "text": [
            "\n",
            "100%|██████████| 240/240 [00:03<00:00, 69.09it/s]\n"
          ]
        },
        {
          "name": "stdout",
          "output_type": "stream",
          "text": [
            "[MoviePy] Done.\n",
            "[MoviePy] >>>> Video ready: /content/drive/MyDrive/gp/The Girl Who Believes in Miracles/clip/60.mp4 \n",
            "\n",
            "60번째 클립 저장 완료\n",
            "[MoviePy] >>>> Building video /content/drive/MyDrive/gp/The Girl Who Believes in Miracles/clip/61.mp4\n",
            "[MoviePy] Writing audio in 61TEMP_MPY_wvf_snd.mp3\n"
          ]
        },
        {
          "name": "stderr",
          "output_type": "stream",
          "text": [
            "100%|██████████| 221/221 [00:00<00:00, 625.31it/s]"
          ]
        },
        {
          "name": "stdout",
          "output_type": "stream",
          "text": [
            "[MoviePy] Done.\n",
            "[MoviePy] Writing video /content/drive/MyDrive/gp/The Girl Who Believes in Miracles/clip/61.mp4\n"
          ]
        },
        {
          "name": "stderr",
          "output_type": "stream",
          "text": [
            "\n",
            "100%|██████████| 240/240 [00:03<00:00, 74.01it/s]\n"
          ]
        },
        {
          "name": "stdout",
          "output_type": "stream",
          "text": [
            "[MoviePy] Done.\n",
            "[MoviePy] >>>> Video ready: /content/drive/MyDrive/gp/The Girl Who Believes in Miracles/clip/61.mp4 \n",
            "\n",
            "61번째 클립 저장 완료\n",
            "[MoviePy] >>>> Building video /content/drive/MyDrive/gp/The Girl Who Believes in Miracles/clip/62.mp4\n",
            "[MoviePy] Writing audio in 62TEMP_MPY_wvf_snd.mp3\n"
          ]
        },
        {
          "name": "stderr",
          "output_type": "stream",
          "text": [
            "100%|██████████| 221/221 [00:00<00:00, 601.27it/s]"
          ]
        },
        {
          "name": "stdout",
          "output_type": "stream",
          "text": [
            "[MoviePy] Done.\n",
            "[MoviePy] Writing video /content/drive/MyDrive/gp/The Girl Who Believes in Miracles/clip/62.mp4\n"
          ]
        },
        {
          "name": "stderr",
          "output_type": "stream",
          "text": [
            "\n",
            "100%|██████████| 240/240 [00:03<00:00, 78.41it/s]\n"
          ]
        },
        {
          "name": "stdout",
          "output_type": "stream",
          "text": [
            "[MoviePy] Done.\n",
            "[MoviePy] >>>> Video ready: /content/drive/MyDrive/gp/The Girl Who Believes in Miracles/clip/62.mp4 \n",
            "\n",
            "62번째 클립 저장 완료\n",
            "[MoviePy] >>>> Building video /content/drive/MyDrive/gp/The Girl Who Believes in Miracles/clip/63.mp4\n",
            "[MoviePy] Writing audio in 63TEMP_MPY_wvf_snd.mp3\n"
          ]
        },
        {
          "name": "stderr",
          "output_type": "stream",
          "text": [
            "100%|██████████| 221/221 [00:00<00:00, 623.48it/s]"
          ]
        },
        {
          "name": "stdout",
          "output_type": "stream",
          "text": [
            "[MoviePy] Done.\n",
            "[MoviePy] Writing video /content/drive/MyDrive/gp/The Girl Who Believes in Miracles/clip/63.mp4\n"
          ]
        },
        {
          "name": "stderr",
          "output_type": "stream",
          "text": [
            "\n",
            "100%|██████████| 240/240 [00:02<00:00, 81.06it/s]\n"
          ]
        },
        {
          "name": "stdout",
          "output_type": "stream",
          "text": [
            "[MoviePy] Done.\n",
            "[MoviePy] >>>> Video ready: /content/drive/MyDrive/gp/The Girl Who Believes in Miracles/clip/63.mp4 \n",
            "\n",
            "63번째 클립 저장 완료\n",
            "[MoviePy] >>>> Building video /content/drive/MyDrive/gp/The Girl Who Believes in Miracles/clip/64.mp4\n",
            "[MoviePy] Writing audio in 64TEMP_MPY_wvf_snd.mp3\n"
          ]
        },
        {
          "name": "stderr",
          "output_type": "stream",
          "text": [
            "100%|██████████| 221/221 [00:00<00:00, 613.06it/s]"
          ]
        },
        {
          "name": "stdout",
          "output_type": "stream",
          "text": [
            "[MoviePy] Done.\n",
            "[MoviePy] Writing video /content/drive/MyDrive/gp/The Girl Who Believes in Miracles/clip/64.mp4\n"
          ]
        },
        {
          "name": "stderr",
          "output_type": "stream",
          "text": [
            "\n",
            "100%|██████████| 240/240 [00:02<00:00, 81.61it/s]\n"
          ]
        },
        {
          "name": "stdout",
          "output_type": "stream",
          "text": [
            "[MoviePy] Done.\n",
            "[MoviePy] >>>> Video ready: /content/drive/MyDrive/gp/The Girl Who Believes in Miracles/clip/64.mp4 \n",
            "\n",
            "64번째 클립 저장 완료\n",
            "[MoviePy] >>>> Building video /content/drive/MyDrive/gp/The Girl Who Believes in Miracles/clip/65.mp4\n",
            "[MoviePy] Writing audio in 65TEMP_MPY_wvf_snd.mp3\n"
          ]
        },
        {
          "name": "stderr",
          "output_type": "stream",
          "text": [
            "100%|██████████| 221/221 [00:00<00:00, 603.95it/s]"
          ]
        },
        {
          "name": "stdout",
          "output_type": "stream",
          "text": [
            "[MoviePy] Done.\n",
            "[MoviePy] Writing video /content/drive/MyDrive/gp/The Girl Who Believes in Miracles/clip/65.mp4\n"
          ]
        },
        {
          "name": "stderr",
          "output_type": "stream",
          "text": [
            "\n",
            "100%|██████████| 240/240 [00:02<00:00, 82.09it/s]\n"
          ]
        },
        {
          "name": "stdout",
          "output_type": "stream",
          "text": [
            "[MoviePy] Done.\n",
            "[MoviePy] >>>> Video ready: /content/drive/MyDrive/gp/The Girl Who Believes in Miracles/clip/65.mp4 \n",
            "\n",
            "65번째 클립 저장 완료\n",
            "[MoviePy] >>>> Building video /content/drive/MyDrive/gp/The Girl Who Believes in Miracles/clip/66.mp4\n",
            "[MoviePy] Writing audio in 66TEMP_MPY_wvf_snd.mp3\n"
          ]
        },
        {
          "name": "stderr",
          "output_type": "stream",
          "text": [
            "100%|██████████| 221/221 [00:00<00:00, 631.97it/s]"
          ]
        },
        {
          "name": "stdout",
          "output_type": "stream",
          "text": [
            "[MoviePy] Done.\n",
            "[MoviePy] Writing video /content/drive/MyDrive/gp/The Girl Who Believes in Miracles/clip/66.mp4\n"
          ]
        },
        {
          "name": "stderr",
          "output_type": "stream",
          "text": [
            "\n",
            "100%|██████████| 240/240 [00:03<00:00, 74.46it/s]\n"
          ]
        },
        {
          "name": "stdout",
          "output_type": "stream",
          "text": [
            "[MoviePy] Done.\n",
            "[MoviePy] >>>> Video ready: /content/drive/MyDrive/gp/The Girl Who Believes in Miracles/clip/66.mp4 \n",
            "\n",
            "66번째 클립 저장 완료\n",
            "[MoviePy] >>>> Building video /content/drive/MyDrive/gp/The Girl Who Believes in Miracles/clip/67.mp4\n",
            "[MoviePy] Writing audio in 67TEMP_MPY_wvf_snd.mp3\n"
          ]
        },
        {
          "name": "stderr",
          "output_type": "stream",
          "text": [
            "100%|██████████| 221/221 [00:00<00:00, 389.63it/s]"
          ]
        },
        {
          "name": "stdout",
          "output_type": "stream",
          "text": [
            "[MoviePy] Done.\n",
            "[MoviePy] Writing video /content/drive/MyDrive/gp/The Girl Who Believes in Miracles/clip/67.mp4\n"
          ]
        },
        {
          "name": "stderr",
          "output_type": "stream",
          "text": [
            "\n",
            "100%|██████████| 240/240 [00:06<00:00, 35.10it/s]\n"
          ]
        },
        {
          "name": "stdout",
          "output_type": "stream",
          "text": [
            "[MoviePy] Done.\n",
            "[MoviePy] >>>> Video ready: /content/drive/MyDrive/gp/The Girl Who Believes in Miracles/clip/67.mp4 \n",
            "\n",
            "67번째 클립 저장 완료\n",
            "[MoviePy] >>>> Building video /content/drive/MyDrive/gp/The Girl Who Believes in Miracles/clip/68.mp4\n",
            "[MoviePy] Writing audio in 68TEMP_MPY_wvf_snd.mp3\n"
          ]
        },
        {
          "name": "stderr",
          "output_type": "stream",
          "text": [
            "100%|██████████| 221/221 [00:00<00:00, 628.63it/s]"
          ]
        },
        {
          "name": "stdout",
          "output_type": "stream",
          "text": [
            "[MoviePy] Done.\n",
            "[MoviePy] Writing video /content/drive/MyDrive/gp/The Girl Who Believes in Miracles/clip/68.mp4\n"
          ]
        },
        {
          "name": "stderr",
          "output_type": "stream",
          "text": [
            "\n",
            "100%|██████████| 240/240 [00:03<00:00, 67.82it/s]\n"
          ]
        },
        {
          "name": "stdout",
          "output_type": "stream",
          "text": [
            "[MoviePy] Done.\n",
            "[MoviePy] >>>> Video ready: /content/drive/MyDrive/gp/The Girl Who Believes in Miracles/clip/68.mp4 \n",
            "\n",
            "68번째 클립 저장 완료\n",
            "[MoviePy] >>>> Building video /content/drive/MyDrive/gp/The Girl Who Believes in Miracles/clip/69.mp4\n",
            "[MoviePy] Writing audio in 69TEMP_MPY_wvf_snd.mp3\n"
          ]
        },
        {
          "name": "stderr",
          "output_type": "stream",
          "text": [
            "100%|██████████| 221/221 [00:00<00:00, 611.26it/s]"
          ]
        },
        {
          "name": "stdout",
          "output_type": "stream",
          "text": [
            "[MoviePy] Done.\n",
            "[MoviePy] Writing video /content/drive/MyDrive/gp/The Girl Who Believes in Miracles/clip/69.mp4\n"
          ]
        },
        {
          "name": "stderr",
          "output_type": "stream",
          "text": [
            "\n",
            "100%|██████████| 240/240 [00:03<00:00, 72.58it/s]\n"
          ]
        },
        {
          "name": "stdout",
          "output_type": "stream",
          "text": [
            "[MoviePy] Done.\n",
            "[MoviePy] >>>> Video ready: /content/drive/MyDrive/gp/The Girl Who Believes in Miracles/clip/69.mp4 \n",
            "\n",
            "69번째 클립 저장 완료\n",
            "[MoviePy] >>>> Building video /content/drive/MyDrive/gp/The Girl Who Believes in Miracles/clip/70.mp4\n",
            "[MoviePy] Writing audio in 70TEMP_MPY_wvf_snd.mp3\n"
          ]
        },
        {
          "name": "stderr",
          "output_type": "stream",
          "text": [
            "100%|██████████| 221/221 [00:00<00:00, 603.65it/s]"
          ]
        },
        {
          "name": "stdout",
          "output_type": "stream",
          "text": [
            "[MoviePy] Done.\n",
            "[MoviePy] Writing video /content/drive/MyDrive/gp/The Girl Who Believes in Miracles/clip/70.mp4\n"
          ]
        },
        {
          "name": "stderr",
          "output_type": "stream",
          "text": [
            "\n",
            "100%|██████████| 240/240 [00:03<00:00, 74.70it/s]\n"
          ]
        },
        {
          "name": "stdout",
          "output_type": "stream",
          "text": [
            "[MoviePy] Done.\n",
            "[MoviePy] >>>> Video ready: /content/drive/MyDrive/gp/The Girl Who Believes in Miracles/clip/70.mp4 \n",
            "\n",
            "70번째 클립 저장 완료\n",
            "[MoviePy] >>>> Building video /content/drive/MyDrive/gp/The Girl Who Believes in Miracles/clip/71.mp4\n",
            "[MoviePy] Writing audio in 71TEMP_MPY_wvf_snd.mp3\n"
          ]
        },
        {
          "name": "stderr",
          "output_type": "stream",
          "text": [
            "100%|██████████| 221/221 [00:00<00:00, 602.71it/s]"
          ]
        },
        {
          "name": "stdout",
          "output_type": "stream",
          "text": [
            "[MoviePy] Done.\n",
            "[MoviePy] Writing video /content/drive/MyDrive/gp/The Girl Who Believes in Miracles/clip/71.mp4\n"
          ]
        },
        {
          "name": "stderr",
          "output_type": "stream",
          "text": [
            "\n",
            "100%|██████████| 240/240 [00:03<00:00, 75.86it/s]\n"
          ]
        },
        {
          "name": "stdout",
          "output_type": "stream",
          "text": [
            "[MoviePy] Done.\n",
            "[MoviePy] >>>> Video ready: /content/drive/MyDrive/gp/The Girl Who Believes in Miracles/clip/71.mp4 \n",
            "\n",
            "71번째 클립 저장 완료\n",
            "[MoviePy] >>>> Building video /content/drive/MyDrive/gp/The Girl Who Believes in Miracles/clip/72.mp4\n",
            "[MoviePy] Writing audio in 72TEMP_MPY_wvf_snd.mp3\n"
          ]
        },
        {
          "name": "stderr",
          "output_type": "stream",
          "text": [
            "100%|██████████| 221/221 [00:00<00:00, 558.14it/s]"
          ]
        },
        {
          "name": "stdout",
          "output_type": "stream",
          "text": [
            "[MoviePy] Done.\n",
            "[MoviePy] Writing video /content/drive/MyDrive/gp/The Girl Who Believes in Miracles/clip/72.mp4\n"
          ]
        },
        {
          "name": "stderr",
          "output_type": "stream",
          "text": [
            "\n",
            "100%|██████████| 240/240 [00:03<00:00, 76.05it/s]\n"
          ]
        },
        {
          "name": "stdout",
          "output_type": "stream",
          "text": [
            "[MoviePy] Done.\n",
            "[MoviePy] >>>> Video ready: /content/drive/MyDrive/gp/The Girl Who Believes in Miracles/clip/72.mp4 \n",
            "\n",
            "72번째 클립 저장 완료\n",
            "[MoviePy] >>>> Building video /content/drive/MyDrive/gp/The Girl Who Believes in Miracles/clip/73.mp4\n",
            "[MoviePy] Writing audio in 73TEMP_MPY_wvf_snd.mp3\n"
          ]
        },
        {
          "name": "stderr",
          "output_type": "stream",
          "text": [
            "100%|██████████| 221/221 [00:00<00:00, 609.97it/s]"
          ]
        },
        {
          "name": "stdout",
          "output_type": "stream",
          "text": [
            "[MoviePy] Done.\n",
            "[MoviePy] Writing video /content/drive/MyDrive/gp/The Girl Who Believes in Miracles/clip/73.mp4\n"
          ]
        },
        {
          "name": "stderr",
          "output_type": "stream",
          "text": [
            "\n",
            "100%|██████████| 240/240 [00:02<00:00, 80.67it/s]\n"
          ]
        },
        {
          "name": "stdout",
          "output_type": "stream",
          "text": [
            "[MoviePy] Done.\n",
            "[MoviePy] >>>> Video ready: /content/drive/MyDrive/gp/The Girl Who Believes in Miracles/clip/73.mp4 \n",
            "\n",
            "73번째 클립 저장 완료\n",
            "[MoviePy] >>>> Building video /content/drive/MyDrive/gp/The Girl Who Believes in Miracles/clip/74.mp4\n",
            "[MoviePy] Writing audio in 74TEMP_MPY_wvf_snd.mp3\n"
          ]
        },
        {
          "name": "stderr",
          "output_type": "stream",
          "text": [
            "100%|██████████| 221/221 [00:00<00:00, 610.38it/s]"
          ]
        },
        {
          "name": "stdout",
          "output_type": "stream",
          "text": [
            "[MoviePy] Done.\n",
            "[MoviePy] Writing video /content/drive/MyDrive/gp/The Girl Who Believes in Miracles/clip/74.mp4\n"
          ]
        },
        {
          "name": "stderr",
          "output_type": "stream",
          "text": [
            "\n",
            "100%|██████████| 240/240 [00:02<00:00, 83.38it/s]\n"
          ]
        },
        {
          "name": "stdout",
          "output_type": "stream",
          "text": [
            "[MoviePy] Done.\n",
            "[MoviePy] >>>> Video ready: /content/drive/MyDrive/gp/The Girl Who Believes in Miracles/clip/74.mp4 \n",
            "\n",
            "74번째 클립 저장 완료\n",
            "[MoviePy] >>>> Building video /content/drive/MyDrive/gp/The Girl Who Believes in Miracles/clip/75.mp4\n",
            "[MoviePy] Writing audio in 75TEMP_MPY_wvf_snd.mp3\n"
          ]
        },
        {
          "name": "stderr",
          "output_type": "stream",
          "text": [
            "100%|██████████| 221/221 [00:00<00:00, 586.63it/s]"
          ]
        },
        {
          "name": "stdout",
          "output_type": "stream",
          "text": [
            "[MoviePy] Done.\n",
            "[MoviePy] Writing video /content/drive/MyDrive/gp/The Girl Who Believes in Miracles/clip/75.mp4\n"
          ]
        },
        {
          "name": "stderr",
          "output_type": "stream",
          "text": [
            "\n",
            "100%|██████████| 240/240 [00:02<00:00, 82.22it/s]\n"
          ]
        },
        {
          "name": "stdout",
          "output_type": "stream",
          "text": [
            "[MoviePy] Done.\n",
            "[MoviePy] >>>> Video ready: /content/drive/MyDrive/gp/The Girl Who Believes in Miracles/clip/75.mp4 \n",
            "\n",
            "75번째 클립 저장 완료\n",
            "[MoviePy] >>>> Building video /content/drive/MyDrive/gp/The Girl Who Believes in Miracles/clip/76.mp4\n",
            "[MoviePy] Writing audio in 76TEMP_MPY_wvf_snd.mp3\n"
          ]
        },
        {
          "name": "stderr",
          "output_type": "stream",
          "text": [
            "100%|██████████| 221/221 [00:00<00:00, 612.77it/s]"
          ]
        },
        {
          "name": "stdout",
          "output_type": "stream",
          "text": [
            "[MoviePy] Done.\n",
            "[MoviePy] Writing video /content/drive/MyDrive/gp/The Girl Who Believes in Miracles/clip/76.mp4\n"
          ]
        },
        {
          "name": "stderr",
          "output_type": "stream",
          "text": [
            "\n",
            "100%|██████████| 240/240 [00:02<00:00, 81.53it/s]\n"
          ]
        },
        {
          "name": "stdout",
          "output_type": "stream",
          "text": [
            "[MoviePy] Done.\n",
            "[MoviePy] >>>> Video ready: /content/drive/MyDrive/gp/The Girl Who Believes in Miracles/clip/76.mp4 \n",
            "\n",
            "76번째 클립 저장 완료\n",
            "[MoviePy] >>>> Building video /content/drive/MyDrive/gp/The Girl Who Believes in Miracles/clip/77.mp4\n",
            "[MoviePy] Writing audio in 77TEMP_MPY_wvf_snd.mp3\n"
          ]
        },
        {
          "name": "stderr",
          "output_type": "stream",
          "text": [
            "100%|██████████| 221/221 [00:00<00:00, 614.06it/s]"
          ]
        },
        {
          "name": "stdout",
          "output_type": "stream",
          "text": [
            "[MoviePy] Done.\n",
            "[MoviePy] Writing video /content/drive/MyDrive/gp/The Girl Who Believes in Miracles/clip/77.mp4\n"
          ]
        },
        {
          "name": "stderr",
          "output_type": "stream",
          "text": [
            "\n",
            "100%|██████████| 240/240 [00:03<00:00, 78.53it/s]\n"
          ]
        },
        {
          "name": "stdout",
          "output_type": "stream",
          "text": [
            "[MoviePy] Done.\n",
            "[MoviePy] >>>> Video ready: /content/drive/MyDrive/gp/The Girl Who Believes in Miracles/clip/77.mp4 \n",
            "\n",
            "77번째 클립 저장 완료\n",
            "[MoviePy] >>>> Building video /content/drive/MyDrive/gp/The Girl Who Believes in Miracles/clip/78.mp4\n",
            "[MoviePy] Writing audio in 78TEMP_MPY_wvf_snd.mp3\n"
          ]
        },
        {
          "name": "stderr",
          "output_type": "stream",
          "text": [
            "100%|██████████| 221/221 [00:00<00:00, 612.33it/s]"
          ]
        },
        {
          "name": "stdout",
          "output_type": "stream",
          "text": [
            "[MoviePy] Done.\n",
            "[MoviePy] Writing video /content/drive/MyDrive/gp/The Girl Who Believes in Miracles/clip/78.mp4\n"
          ]
        },
        {
          "name": "stderr",
          "output_type": "stream",
          "text": [
            "\n",
            "100%|██████████| 240/240 [00:03<00:00, 76.82it/s]\n"
          ]
        },
        {
          "name": "stdout",
          "output_type": "stream",
          "text": [
            "[MoviePy] Done.\n",
            "[MoviePy] >>>> Video ready: /content/drive/MyDrive/gp/The Girl Who Believes in Miracles/clip/78.mp4 \n",
            "\n",
            "78번째 클립 저장 완료\n",
            "[MoviePy] >>>> Building video /content/drive/MyDrive/gp/The Girl Who Believes in Miracles/clip/79.mp4\n",
            "[MoviePy] Writing audio in 79TEMP_MPY_wvf_snd.mp3\n"
          ]
        },
        {
          "name": "stderr",
          "output_type": "stream",
          "text": [
            "100%|██████████| 221/221 [00:00<00:00, 611.68it/s]"
          ]
        },
        {
          "name": "stdout",
          "output_type": "stream",
          "text": [
            "[MoviePy] Done.\n",
            "[MoviePy] Writing video /content/drive/MyDrive/gp/The Girl Who Believes in Miracles/clip/79.mp4\n"
          ]
        },
        {
          "name": "stderr",
          "output_type": "stream",
          "text": [
            "\n",
            "100%|██████████| 240/240 [00:03<00:00, 72.73it/s]\n"
          ]
        },
        {
          "name": "stdout",
          "output_type": "stream",
          "text": [
            "[MoviePy] Done.\n",
            "[MoviePy] >>>> Video ready: /content/drive/MyDrive/gp/The Girl Who Believes in Miracles/clip/79.mp4 \n",
            "\n",
            "79번째 클립 저장 완료\n",
            "[MoviePy] >>>> Building video /content/drive/MyDrive/gp/The Girl Who Believes in Miracles/clip/80.mp4\n",
            "[MoviePy] Writing audio in 80TEMP_MPY_wvf_snd.mp3\n"
          ]
        },
        {
          "name": "stderr",
          "output_type": "stream",
          "text": [
            "100%|██████████| 221/221 [00:00<00:00, 613.55it/s]"
          ]
        },
        {
          "name": "stdout",
          "output_type": "stream",
          "text": [
            "[MoviePy] Done.\n",
            "[MoviePy] Writing video /content/drive/MyDrive/gp/The Girl Who Believes in Miracles/clip/80.mp4\n"
          ]
        },
        {
          "name": "stderr",
          "output_type": "stream",
          "text": [
            "\n",
            "100%|██████████| 240/240 [00:03<00:00, 72.80it/s]\n"
          ]
        },
        {
          "name": "stdout",
          "output_type": "stream",
          "text": [
            "[MoviePy] Done.\n",
            "[MoviePy] >>>> Video ready: /content/drive/MyDrive/gp/The Girl Who Believes in Miracles/clip/80.mp4 \n",
            "\n",
            "80번째 클립 저장 완료\n",
            "[MoviePy] >>>> Building video /content/drive/MyDrive/gp/The Girl Who Believes in Miracles/clip/81.mp4\n",
            "[MoviePy] Writing audio in 81TEMP_MPY_wvf_snd.mp3\n"
          ]
        },
        {
          "name": "stderr",
          "output_type": "stream",
          "text": [
            "100%|██████████| 221/221 [00:00<00:00, 597.91it/s]"
          ]
        },
        {
          "name": "stdout",
          "output_type": "stream",
          "text": [
            "[MoviePy] Done.\n",
            "[MoviePy] Writing video /content/drive/MyDrive/gp/The Girl Who Believes in Miracles/clip/81.mp4\n"
          ]
        },
        {
          "name": "stderr",
          "output_type": "stream",
          "text": [
            "\n",
            "100%|██████████| 240/240 [00:03<00:00, 77.42it/s]\n"
          ]
        },
        {
          "name": "stdout",
          "output_type": "stream",
          "text": [
            "[MoviePy] Done.\n",
            "[MoviePy] >>>> Video ready: /content/drive/MyDrive/gp/The Girl Who Believes in Miracles/clip/81.mp4 \n",
            "\n",
            "81번째 클립 저장 완료\n",
            "[MoviePy] >>>> Building video /content/drive/MyDrive/gp/The Girl Who Believes in Miracles/clip/82.mp4\n",
            "[MoviePy] Writing audio in 82TEMP_MPY_wvf_snd.mp3\n"
          ]
        },
        {
          "name": "stderr",
          "output_type": "stream",
          "text": [
            "100%|██████████| 221/221 [00:00<00:00, 613.66it/s]"
          ]
        },
        {
          "name": "stdout",
          "output_type": "stream",
          "text": [
            "[MoviePy] Done.\n",
            "[MoviePy] Writing video /content/drive/MyDrive/gp/The Girl Who Believes in Miracles/clip/82.mp4\n"
          ]
        },
        {
          "name": "stderr",
          "output_type": "stream",
          "text": [
            "\n",
            "100%|██████████| 240/240 [00:03<00:00, 77.94it/s]\n"
          ]
        },
        {
          "name": "stdout",
          "output_type": "stream",
          "text": [
            "[MoviePy] Done.\n",
            "[MoviePy] >>>> Video ready: /content/drive/MyDrive/gp/The Girl Who Believes in Miracles/clip/82.mp4 \n",
            "\n",
            "82번째 클립 저장 완료\n",
            "[MoviePy] >>>> Building video /content/drive/MyDrive/gp/The Girl Who Believes in Miracles/clip/83.mp4\n",
            "[MoviePy] Writing audio in 83TEMP_MPY_wvf_snd.mp3\n"
          ]
        },
        {
          "name": "stderr",
          "output_type": "stream",
          "text": [
            "100%|██████████| 221/221 [00:00<00:00, 601.93it/s]"
          ]
        },
        {
          "name": "stdout",
          "output_type": "stream",
          "text": [
            "[MoviePy] Done.\n",
            "[MoviePy] Writing video /content/drive/MyDrive/gp/The Girl Who Believes in Miracles/clip/83.mp4\n"
          ]
        },
        {
          "name": "stderr",
          "output_type": "stream",
          "text": [
            "\n",
            "100%|██████████| 240/240 [00:03<00:00, 74.05it/s]\n"
          ]
        },
        {
          "name": "stdout",
          "output_type": "stream",
          "text": [
            "[MoviePy] Done.\n",
            "[MoviePy] >>>> Video ready: /content/drive/MyDrive/gp/The Girl Who Believes in Miracles/clip/83.mp4 \n",
            "\n",
            "83번째 클립 저장 완료\n",
            "[MoviePy] >>>> Building video /content/drive/MyDrive/gp/The Girl Who Believes in Miracles/clip/84.mp4\n",
            "[MoviePy] Writing audio in 84TEMP_MPY_wvf_snd.mp3\n"
          ]
        },
        {
          "name": "stderr",
          "output_type": "stream",
          "text": [
            "100%|██████████| 221/221 [00:00<00:00, 620.55it/s]"
          ]
        },
        {
          "name": "stdout",
          "output_type": "stream",
          "text": [
            "[MoviePy] Done.\n",
            "[MoviePy] Writing video /content/drive/MyDrive/gp/The Girl Who Believes in Miracles/clip/84.mp4\n"
          ]
        },
        {
          "name": "stderr",
          "output_type": "stream",
          "text": [
            "\n",
            "100%|██████████| 240/240 [00:03<00:00, 74.84it/s]\n"
          ]
        },
        {
          "name": "stdout",
          "output_type": "stream",
          "text": [
            "[MoviePy] Done.\n",
            "[MoviePy] >>>> Video ready: /content/drive/MyDrive/gp/The Girl Who Believes in Miracles/clip/84.mp4 \n",
            "\n",
            "84번째 클립 저장 완료\n",
            "[MoviePy] >>>> Building video /content/drive/MyDrive/gp/The Girl Who Believes in Miracles/clip/85.mp4\n",
            "[MoviePy] Writing audio in 85TEMP_MPY_wvf_snd.mp3\n"
          ]
        },
        {
          "name": "stderr",
          "output_type": "stream",
          "text": [
            "100%|██████████| 221/221 [00:00<00:00, 616.60it/s]"
          ]
        },
        {
          "name": "stdout",
          "output_type": "stream",
          "text": [
            "[MoviePy] Done.\n",
            "[MoviePy] Writing video /content/drive/MyDrive/gp/The Girl Who Believes in Miracles/clip/85.mp4\n"
          ]
        },
        {
          "name": "stderr",
          "output_type": "stream",
          "text": [
            "\n",
            "100%|██████████| 240/240 [00:03<00:00, 74.50it/s]\n"
          ]
        },
        {
          "name": "stdout",
          "output_type": "stream",
          "text": [
            "[MoviePy] Done.\n",
            "[MoviePy] >>>> Video ready: /content/drive/MyDrive/gp/The Girl Who Believes in Miracles/clip/85.mp4 \n",
            "\n",
            "85번째 클립 저장 완료\n",
            "[MoviePy] >>>> Building video /content/drive/MyDrive/gp/The Girl Who Believes in Miracles/clip/86.mp4\n",
            "[MoviePy] Writing audio in 86TEMP_MPY_wvf_snd.mp3\n"
          ]
        },
        {
          "name": "stderr",
          "output_type": "stream",
          "text": [
            "100%|██████████| 221/221 [00:00<00:00, 589.06it/s]"
          ]
        },
        {
          "name": "stdout",
          "output_type": "stream",
          "text": [
            "[MoviePy] Done.\n",
            "[MoviePy] Writing video /content/drive/MyDrive/gp/The Girl Who Believes in Miracles/clip/86.mp4\n"
          ]
        },
        {
          "name": "stderr",
          "output_type": "stream",
          "text": [
            "\n",
            "100%|██████████| 240/240 [00:02<00:00, 83.82it/s]\n"
          ]
        },
        {
          "name": "stdout",
          "output_type": "stream",
          "text": [
            "[MoviePy] Done.\n",
            "[MoviePy] >>>> Video ready: /content/drive/MyDrive/gp/The Girl Who Believes in Miracles/clip/86.mp4 \n",
            "\n",
            "86번째 클립 저장 완료\n",
            "[MoviePy] >>>> Building video /content/drive/MyDrive/gp/The Girl Who Believes in Miracles/clip/87.mp4\n",
            "[MoviePy] Writing audio in 87TEMP_MPY_wvf_snd.mp3\n"
          ]
        },
        {
          "name": "stderr",
          "output_type": "stream",
          "text": [
            "100%|██████████| 221/221 [00:00<00:00, 630.24it/s]"
          ]
        },
        {
          "name": "stdout",
          "output_type": "stream",
          "text": [
            "[MoviePy] Done.\n",
            "[MoviePy] Writing video /content/drive/MyDrive/gp/The Girl Who Believes in Miracles/clip/87.mp4\n"
          ]
        },
        {
          "name": "stderr",
          "output_type": "stream",
          "text": [
            "\n",
            "100%|██████████| 240/240 [00:02<00:00, 81.24it/s]\n"
          ]
        },
        {
          "name": "stdout",
          "output_type": "stream",
          "text": [
            "[MoviePy] Done.\n",
            "[MoviePy] >>>> Video ready: /content/drive/MyDrive/gp/The Girl Who Believes in Miracles/clip/87.mp4 \n",
            "\n",
            "87번째 클립 저장 완료\n",
            "[MoviePy] >>>> Building video /content/drive/MyDrive/gp/The Girl Who Believes in Miracles/clip/88.mp4\n",
            "[MoviePy] Writing audio in 88TEMP_MPY_wvf_snd.mp3\n"
          ]
        },
        {
          "name": "stderr",
          "output_type": "stream",
          "text": [
            "100%|██████████| 221/221 [00:00<00:00, 611.25it/s]"
          ]
        },
        {
          "name": "stdout",
          "output_type": "stream",
          "text": [
            "[MoviePy] Done.\n",
            "[MoviePy] Writing video /content/drive/MyDrive/gp/The Girl Who Believes in Miracles/clip/88.mp4\n"
          ]
        },
        {
          "name": "stderr",
          "output_type": "stream",
          "text": [
            "\n",
            "100%|██████████| 240/240 [00:02<00:00, 80.76it/s]\n"
          ]
        },
        {
          "name": "stdout",
          "output_type": "stream",
          "text": [
            "[MoviePy] Done.\n",
            "[MoviePy] >>>> Video ready: /content/drive/MyDrive/gp/The Girl Who Believes in Miracles/clip/88.mp4 \n",
            "\n",
            "88번째 클립 저장 완료\n",
            "[MoviePy] >>>> Building video /content/drive/MyDrive/gp/The Girl Who Believes in Miracles/clip/89.mp4\n",
            "[MoviePy] Writing audio in 89TEMP_MPY_wvf_snd.mp3\n"
          ]
        },
        {
          "name": "stderr",
          "output_type": "stream",
          "text": [
            "100%|██████████| 221/221 [00:00<00:00, 603.46it/s]"
          ]
        },
        {
          "name": "stdout",
          "output_type": "stream",
          "text": [
            "[MoviePy] Done.\n",
            "[MoviePy] Writing video /content/drive/MyDrive/gp/The Girl Who Believes in Miracles/clip/89.mp4\n"
          ]
        },
        {
          "name": "stderr",
          "output_type": "stream",
          "text": [
            "\n",
            "100%|██████████| 240/240 [00:03<00:00, 78.67it/s]\n"
          ]
        },
        {
          "name": "stdout",
          "output_type": "stream",
          "text": [
            "[MoviePy] Done.\n",
            "[MoviePy] >>>> Video ready: /content/drive/MyDrive/gp/The Girl Who Believes in Miracles/clip/89.mp4 \n",
            "\n",
            "89번째 클립 저장 완료\n",
            "[MoviePy] >>>> Building video /content/drive/MyDrive/gp/The Girl Who Believes in Miracles/clip/90.mp4\n",
            "[MoviePy] Writing audio in 90TEMP_MPY_wvf_snd.mp3\n"
          ]
        },
        {
          "name": "stderr",
          "output_type": "stream",
          "text": [
            "100%|██████████| 221/221 [00:00<00:00, 605.71it/s]"
          ]
        },
        {
          "name": "stdout",
          "output_type": "stream",
          "text": [
            "[MoviePy] Done.\n",
            "[MoviePy] Writing video /content/drive/MyDrive/gp/The Girl Who Believes in Miracles/clip/90.mp4\n"
          ]
        },
        {
          "name": "stderr",
          "output_type": "stream",
          "text": [
            "\n",
            "100%|██████████| 240/240 [00:02<00:00, 81.89it/s]\n"
          ]
        },
        {
          "name": "stdout",
          "output_type": "stream",
          "text": [
            "[MoviePy] Done.\n",
            "[MoviePy] >>>> Video ready: /content/drive/MyDrive/gp/The Girl Who Believes in Miracles/clip/90.mp4 \n",
            "\n",
            "90번째 클립 저장 완료\n",
            "[MoviePy] >>>> Building video /content/drive/MyDrive/gp/The Girl Who Believes in Miracles/clip/91.mp4\n",
            "[MoviePy] Writing audio in 91TEMP_MPY_wvf_snd.mp3\n"
          ]
        },
        {
          "name": "stderr",
          "output_type": "stream",
          "text": [
            "100%|██████████| 221/221 [00:00<00:00, 597.10it/s]"
          ]
        },
        {
          "name": "stdout",
          "output_type": "stream",
          "text": [
            "[MoviePy] Done.\n",
            "[MoviePy] Writing video /content/drive/MyDrive/gp/The Girl Who Believes in Miracles/clip/91.mp4\n"
          ]
        },
        {
          "name": "stderr",
          "output_type": "stream",
          "text": [
            "\n",
            "100%|██████████| 240/240 [00:03<00:00, 66.65it/s]\n"
          ]
        },
        {
          "name": "stdout",
          "output_type": "stream",
          "text": [
            "[MoviePy] Done.\n",
            "[MoviePy] >>>> Video ready: /content/drive/MyDrive/gp/The Girl Who Believes in Miracles/clip/91.mp4 \n",
            "\n",
            "91번째 클립 저장 완료\n",
            "[MoviePy] >>>> Building video /content/drive/MyDrive/gp/The Girl Who Believes in Miracles/clip/92.mp4\n",
            "[MoviePy] Writing audio in 92TEMP_MPY_wvf_snd.mp3\n"
          ]
        },
        {
          "name": "stderr",
          "output_type": "stream",
          "text": [
            "100%|██████████| 221/221 [00:00<00:00, 589.70it/s]"
          ]
        },
        {
          "name": "stdout",
          "output_type": "stream",
          "text": [
            "[MoviePy] Done.\n",
            "[MoviePy] Writing video /content/drive/MyDrive/gp/The Girl Who Believes in Miracles/clip/92.mp4\n"
          ]
        },
        {
          "name": "stderr",
          "output_type": "stream",
          "text": [
            "\n",
            "100%|██████████| 240/240 [00:03<00:00, 75.80it/s]\n"
          ]
        },
        {
          "name": "stdout",
          "output_type": "stream",
          "text": [
            "[MoviePy] Done.\n",
            "[MoviePy] >>>> Video ready: /content/drive/MyDrive/gp/The Girl Who Believes in Miracles/clip/92.mp4 \n",
            "\n",
            "92번째 클립 저장 완료\n",
            "[MoviePy] >>>> Building video /content/drive/MyDrive/gp/The Girl Who Believes in Miracles/clip/93.mp4\n",
            "[MoviePy] Writing audio in 93TEMP_MPY_wvf_snd.mp3\n"
          ]
        },
        {
          "name": "stderr",
          "output_type": "stream",
          "text": [
            "100%|██████████| 221/221 [00:00<00:00, 349.76it/s]"
          ]
        },
        {
          "name": "stdout",
          "output_type": "stream",
          "text": [
            "[MoviePy] Done.\n",
            "[MoviePy] Writing video /content/drive/MyDrive/gp/The Girl Who Believes in Miracles/clip/93.mp4\n"
          ]
        },
        {
          "name": "stderr",
          "output_type": "stream",
          "text": [
            "\n",
            "100%|██████████| 240/240 [00:05<00:00, 45.64it/s]\n"
          ]
        },
        {
          "name": "stdout",
          "output_type": "stream",
          "text": [
            "[MoviePy] Done.\n",
            "[MoviePy] >>>> Video ready: /content/drive/MyDrive/gp/The Girl Who Believes in Miracles/clip/93.mp4 \n",
            "\n",
            "93번째 클립 저장 완료\n",
            "[MoviePy] >>>> Building video /content/drive/MyDrive/gp/The Girl Who Believes in Miracles/clip/94.mp4\n",
            "[MoviePy] Writing audio in 94TEMP_MPY_wvf_snd.mp3\n"
          ]
        },
        {
          "name": "stderr",
          "output_type": "stream",
          "text": [
            "100%|██████████| 221/221 [00:00<00:00, 362.79it/s]"
          ]
        },
        {
          "name": "stdout",
          "output_type": "stream",
          "text": [
            "[MoviePy] Done.\n",
            "[MoviePy] Writing video /content/drive/MyDrive/gp/The Girl Who Believes in Miracles/clip/94.mp4\n"
          ]
        },
        {
          "name": "stderr",
          "output_type": "stream",
          "text": [
            "\n",
            "100%|██████████| 240/240 [00:03<00:00, 63.45it/s]\n"
          ]
        },
        {
          "name": "stdout",
          "output_type": "stream",
          "text": [
            "[MoviePy] Done.\n",
            "[MoviePy] >>>> Video ready: /content/drive/MyDrive/gp/The Girl Who Believes in Miracles/clip/94.mp4 \n",
            "\n",
            "94번째 클립 저장 완료\n",
            "[MoviePy] >>>> Building video /content/drive/MyDrive/gp/The Girl Who Believes in Miracles/clip/95.mp4\n",
            "[MoviePy] Writing audio in 95TEMP_MPY_wvf_snd.mp3\n"
          ]
        },
        {
          "name": "stderr",
          "output_type": "stream",
          "text": [
            "100%|██████████| 221/221 [00:00<00:00, 595.85it/s]"
          ]
        },
        {
          "name": "stdout",
          "output_type": "stream",
          "text": [
            "[MoviePy] Done.\n",
            "[MoviePy] Writing video /content/drive/MyDrive/gp/The Girl Who Believes in Miracles/clip/95.mp4\n"
          ]
        },
        {
          "name": "stderr",
          "output_type": "stream",
          "text": [
            "\n",
            "100%|██████████| 240/240 [00:03<00:00, 64.36it/s]\n"
          ]
        },
        {
          "name": "stdout",
          "output_type": "stream",
          "text": [
            "[MoviePy] Done.\n",
            "[MoviePy] >>>> Video ready: /content/drive/MyDrive/gp/The Girl Who Believes in Miracles/clip/95.mp4 \n",
            "\n",
            "95번째 클립 저장 완료\n",
            "[MoviePy] >>>> Building video /content/drive/MyDrive/gp/The Girl Who Believes in Miracles/clip/96.mp4\n",
            "[MoviePy] Writing audio in 96TEMP_MPY_wvf_snd.mp3\n"
          ]
        },
        {
          "name": "stderr",
          "output_type": "stream",
          "text": [
            "100%|██████████| 221/221 [00:00<00:00, 603.55it/s]"
          ]
        },
        {
          "name": "stdout",
          "output_type": "stream",
          "text": [
            "[MoviePy] Done.\n",
            "[MoviePy] Writing video /content/drive/MyDrive/gp/The Girl Who Believes in Miracles/clip/96.mp4\n"
          ]
        },
        {
          "name": "stderr",
          "output_type": "stream",
          "text": [
            "\n",
            "100%|██████████| 240/240 [00:03<00:00, 71.34it/s]\n"
          ]
        },
        {
          "name": "stdout",
          "output_type": "stream",
          "text": [
            "[MoviePy] Done.\n",
            "[MoviePy] >>>> Video ready: /content/drive/MyDrive/gp/The Girl Who Believes in Miracles/clip/96.mp4 \n",
            "\n",
            "96번째 클립 저장 완료\n",
            "[MoviePy] >>>> Building video /content/drive/MyDrive/gp/The Girl Who Believes in Miracles/clip/97.mp4\n",
            "[MoviePy] Writing audio in 97TEMP_MPY_wvf_snd.mp3\n"
          ]
        },
        {
          "name": "stderr",
          "output_type": "stream",
          "text": [
            "100%|██████████| 221/221 [00:00<00:00, 601.71it/s]"
          ]
        },
        {
          "name": "stdout",
          "output_type": "stream",
          "text": [
            "[MoviePy] Done.\n",
            "[MoviePy] Writing video /content/drive/MyDrive/gp/The Girl Who Believes in Miracles/clip/97.mp4\n"
          ]
        },
        {
          "name": "stderr",
          "output_type": "stream",
          "text": [
            "\n",
            "100%|██████████| 240/240 [00:03<00:00, 70.00it/s]\n"
          ]
        },
        {
          "name": "stdout",
          "output_type": "stream",
          "text": [
            "[MoviePy] Done.\n",
            "[MoviePy] >>>> Video ready: /content/drive/MyDrive/gp/The Girl Who Believes in Miracles/clip/97.mp4 \n",
            "\n",
            "97번째 클립 저장 완료\n",
            "[MoviePy] >>>> Building video /content/drive/MyDrive/gp/The Girl Who Believes in Miracles/clip/98.mp4\n",
            "[MoviePy] Writing audio in 98TEMP_MPY_wvf_snd.mp3\n"
          ]
        },
        {
          "name": "stderr",
          "output_type": "stream",
          "text": [
            "100%|██████████| 221/221 [00:00<00:00, 595.08it/s]"
          ]
        },
        {
          "name": "stdout",
          "output_type": "stream",
          "text": [
            "[MoviePy] Done.\n",
            "[MoviePy] Writing video /content/drive/MyDrive/gp/The Girl Who Believes in Miracles/clip/98.mp4\n"
          ]
        },
        {
          "name": "stderr",
          "output_type": "stream",
          "text": [
            "\n",
            "100%|██████████| 240/240 [00:03<00:00, 70.33it/s]\n"
          ]
        },
        {
          "name": "stdout",
          "output_type": "stream",
          "text": [
            "[MoviePy] Done.\n",
            "[MoviePy] >>>> Video ready: /content/drive/MyDrive/gp/The Girl Who Believes in Miracles/clip/98.mp4 \n",
            "\n",
            "98번째 클립 저장 완료\n",
            "[MoviePy] >>>> Building video /content/drive/MyDrive/gp/The Girl Who Believes in Miracles/clip/99.mp4\n",
            "[MoviePy] Writing audio in 99TEMP_MPY_wvf_snd.mp3\n"
          ]
        },
        {
          "name": "stderr",
          "output_type": "stream",
          "text": [
            "100%|██████████| 221/221 [00:00<00:00, 588.25it/s]"
          ]
        },
        {
          "name": "stdout",
          "output_type": "stream",
          "text": [
            "[MoviePy] Done.\n",
            "[MoviePy] Writing video /content/drive/MyDrive/gp/The Girl Who Believes in Miracles/clip/99.mp4\n"
          ]
        },
        {
          "name": "stderr",
          "output_type": "stream",
          "text": [
            "\n",
            "100%|██████████| 240/240 [00:03<00:00, 73.46it/s]\n"
          ]
        },
        {
          "name": "stdout",
          "output_type": "stream",
          "text": [
            "[MoviePy] Done.\n",
            "[MoviePy] >>>> Video ready: /content/drive/MyDrive/gp/The Girl Who Believes in Miracles/clip/99.mp4 \n",
            "\n",
            "99번째 클립 저장 완료\n",
            "[MoviePy] >>>> Building video /content/drive/MyDrive/gp/The Girl Who Believes in Miracles/clip/100.mp4\n",
            "[MoviePy] Writing audio in 100TEMP_MPY_wvf_snd.mp3\n"
          ]
        },
        {
          "name": "stderr",
          "output_type": "stream",
          "text": [
            "100%|██████████| 221/221 [00:00<00:00, 595.41it/s]"
          ]
        },
        {
          "name": "stdout",
          "output_type": "stream",
          "text": [
            "[MoviePy] Done.\n",
            "[MoviePy] Writing video /content/drive/MyDrive/gp/The Girl Who Believes in Miracles/clip/100.mp4\n"
          ]
        },
        {
          "name": "stderr",
          "output_type": "stream",
          "text": [
            "\n",
            "100%|██████████| 240/240 [00:02<00:00, 80.85it/s]\n"
          ]
        },
        {
          "name": "stdout",
          "output_type": "stream",
          "text": [
            "[MoviePy] Done.\n",
            "[MoviePy] >>>> Video ready: /content/drive/MyDrive/gp/The Girl Who Believes in Miracles/clip/100.mp4 \n",
            "\n",
            "100번째 클립 저장 완료\n",
            "[MoviePy] >>>> Building video /content/drive/MyDrive/gp/The Girl Who Believes in Miracles/clip/101.mp4\n",
            "[MoviePy] Writing audio in 101TEMP_MPY_wvf_snd.mp3\n"
          ]
        },
        {
          "name": "stderr",
          "output_type": "stream",
          "text": [
            "100%|██████████| 221/221 [00:00<00:00, 593.92it/s]"
          ]
        },
        {
          "name": "stdout",
          "output_type": "stream",
          "text": [
            "[MoviePy] Done.\n",
            "[MoviePy] Writing video /content/drive/MyDrive/gp/The Girl Who Believes in Miracles/clip/101.mp4\n"
          ]
        },
        {
          "name": "stderr",
          "output_type": "stream",
          "text": [
            "\n",
            "100%|██████████| 240/240 [00:03<00:00, 76.81it/s]\n"
          ]
        },
        {
          "name": "stdout",
          "output_type": "stream",
          "text": [
            "[MoviePy] Done.\n",
            "[MoviePy] >>>> Video ready: /content/drive/MyDrive/gp/The Girl Who Believes in Miracles/clip/101.mp4 \n",
            "\n",
            "101번째 클립 저장 완료\n",
            "[MoviePy] >>>> Building video /content/drive/MyDrive/gp/The Girl Who Believes in Miracles/clip/102.mp4\n",
            "[MoviePy] Writing audio in 102TEMP_MPY_wvf_snd.mp3\n"
          ]
        },
        {
          "name": "stderr",
          "output_type": "stream",
          "text": [
            "100%|██████████| 221/221 [00:00<00:00, 587.60it/s]"
          ]
        },
        {
          "name": "stdout",
          "output_type": "stream",
          "text": [
            "[MoviePy] Done.\n",
            "[MoviePy] Writing video /content/drive/MyDrive/gp/The Girl Who Believes in Miracles/clip/102.mp4\n"
          ]
        },
        {
          "name": "stderr",
          "output_type": "stream",
          "text": [
            "\n",
            "100%|██████████| 240/240 [00:03<00:00, 69.34it/s]\n"
          ]
        },
        {
          "name": "stdout",
          "output_type": "stream",
          "text": [
            "[MoviePy] Done.\n",
            "[MoviePy] >>>> Video ready: /content/drive/MyDrive/gp/The Girl Who Believes in Miracles/clip/102.mp4 \n",
            "\n",
            "102번째 클립 저장 완료\n",
            "[MoviePy] >>>> Building video /content/drive/MyDrive/gp/The Girl Who Believes in Miracles/clip/103.mp4\n",
            "[MoviePy] Writing audio in 103TEMP_MPY_wvf_snd.mp3\n"
          ]
        },
        {
          "name": "stderr",
          "output_type": "stream",
          "text": [
            "100%|██████████| 221/221 [00:00<00:00, 623.83it/s]"
          ]
        },
        {
          "name": "stdout",
          "output_type": "stream",
          "text": [
            "[MoviePy] Done.\n",
            "[MoviePy] Writing video /content/drive/MyDrive/gp/The Girl Who Believes in Miracles/clip/103.mp4\n"
          ]
        },
        {
          "name": "stderr",
          "output_type": "stream",
          "text": [
            "\n",
            "100%|██████████| 240/240 [00:03<00:00, 67.09it/s]\n"
          ]
        },
        {
          "name": "stdout",
          "output_type": "stream",
          "text": [
            "[MoviePy] Done.\n",
            "[MoviePy] >>>> Video ready: /content/drive/MyDrive/gp/The Girl Who Believes in Miracles/clip/103.mp4 \n",
            "\n",
            "103번째 클립 저장 완료\n",
            "[MoviePy] >>>> Building video /content/drive/MyDrive/gp/The Girl Who Believes in Miracles/clip/104.mp4\n",
            "[MoviePy] Writing audio in 104TEMP_MPY_wvf_snd.mp3\n"
          ]
        },
        {
          "name": "stderr",
          "output_type": "stream",
          "text": [
            "100%|██████████| 221/221 [00:00<00:00, 615.81it/s]"
          ]
        },
        {
          "name": "stdout",
          "output_type": "stream",
          "text": [
            "[MoviePy] Done.\n",
            "[MoviePy] Writing video /content/drive/MyDrive/gp/The Girl Who Believes in Miracles/clip/104.mp4\n"
          ]
        },
        {
          "name": "stderr",
          "output_type": "stream",
          "text": [
            "\n",
            "100%|██████████| 240/240 [00:03<00:00, 71.59it/s]\n"
          ]
        },
        {
          "name": "stdout",
          "output_type": "stream",
          "text": [
            "[MoviePy] Done.\n",
            "[MoviePy] >>>> Video ready: /content/drive/MyDrive/gp/The Girl Who Believes in Miracles/clip/104.mp4 \n",
            "\n",
            "104번째 클립 저장 완료\n",
            "[MoviePy] >>>> Building video /content/drive/MyDrive/gp/The Girl Who Believes in Miracles/clip/105.mp4\n",
            "[MoviePy] Writing audio in 105TEMP_MPY_wvf_snd.mp3\n"
          ]
        },
        {
          "name": "stderr",
          "output_type": "stream",
          "text": [
            "100%|██████████| 221/221 [00:00<00:00, 604.00it/s]"
          ]
        },
        {
          "name": "stdout",
          "output_type": "stream",
          "text": [
            "[MoviePy] Done.\n",
            "[MoviePy] Writing video /content/drive/MyDrive/gp/The Girl Who Believes in Miracles/clip/105.mp4\n"
          ]
        },
        {
          "name": "stderr",
          "output_type": "stream",
          "text": [
            "\n",
            "100%|██████████| 240/240 [00:03<00:00, 78.85it/s]\n"
          ]
        },
        {
          "name": "stdout",
          "output_type": "stream",
          "text": [
            "[MoviePy] Done.\n",
            "[MoviePy] >>>> Video ready: /content/drive/MyDrive/gp/The Girl Who Believes in Miracles/clip/105.mp4 \n",
            "\n",
            "105번째 클립 저장 완료\n",
            "[MoviePy] >>>> Building video /content/drive/MyDrive/gp/The Girl Who Believes in Miracles/clip/106.mp4\n",
            "[MoviePy] Writing audio in 106TEMP_MPY_wvf_snd.mp3\n"
          ]
        },
        {
          "name": "stderr",
          "output_type": "stream",
          "text": [
            "100%|██████████| 221/221 [00:00<00:00, 582.48it/s]"
          ]
        },
        {
          "name": "stdout",
          "output_type": "stream",
          "text": [
            "[MoviePy] Done.\n",
            "[MoviePy] Writing video /content/drive/MyDrive/gp/The Girl Who Believes in Miracles/clip/106.mp4\n"
          ]
        },
        {
          "name": "stderr",
          "output_type": "stream",
          "text": [
            "\n",
            "100%|██████████| 240/240 [00:03<00:00, 70.17it/s]\n"
          ]
        },
        {
          "name": "stdout",
          "output_type": "stream",
          "text": [
            "[MoviePy] Done.\n",
            "[MoviePy] >>>> Video ready: /content/drive/MyDrive/gp/The Girl Who Believes in Miracles/clip/106.mp4 \n",
            "\n",
            "106번째 클립 저장 완료\n",
            "[MoviePy] >>>> Building video /content/drive/MyDrive/gp/The Girl Who Believes in Miracles/clip/107.mp4\n",
            "[MoviePy] Writing audio in 107TEMP_MPY_wvf_snd.mp3\n"
          ]
        },
        {
          "name": "stderr",
          "output_type": "stream",
          "text": [
            "100%|██████████| 221/221 [00:00<00:00, 596.66it/s]"
          ]
        },
        {
          "name": "stdout",
          "output_type": "stream",
          "text": [
            "[MoviePy] Done.\n",
            "[MoviePy] Writing video /content/drive/MyDrive/gp/The Girl Who Believes in Miracles/clip/107.mp4\n"
          ]
        },
        {
          "name": "stderr",
          "output_type": "stream",
          "text": [
            "\n",
            "100%|██████████| 240/240 [00:03<00:00, 66.14it/s]\n"
          ]
        },
        {
          "name": "stdout",
          "output_type": "stream",
          "text": [
            "[MoviePy] Done.\n",
            "[MoviePy] >>>> Video ready: /content/drive/MyDrive/gp/The Girl Who Believes in Miracles/clip/107.mp4 \n",
            "\n",
            "107번째 클립 저장 완료\n",
            "[MoviePy] >>>> Building video /content/drive/MyDrive/gp/The Girl Who Believes in Miracles/clip/108.mp4\n",
            "[MoviePy] Writing audio in 108TEMP_MPY_wvf_snd.mp3\n"
          ]
        },
        {
          "name": "stderr",
          "output_type": "stream",
          "text": [
            "100%|██████████| 221/221 [00:00<00:00, 593.97it/s]"
          ]
        },
        {
          "name": "stdout",
          "output_type": "stream",
          "text": [
            "[MoviePy] Done.\n",
            "[MoviePy] Writing video /content/drive/MyDrive/gp/The Girl Who Believes in Miracles/clip/108.mp4\n"
          ]
        },
        {
          "name": "stderr",
          "output_type": "stream",
          "text": [
            "\n",
            "100%|██████████| 240/240 [00:03<00:00, 68.83it/s]\n"
          ]
        },
        {
          "name": "stdout",
          "output_type": "stream",
          "text": [
            "[MoviePy] Done.\n",
            "[MoviePy] >>>> Video ready: /content/drive/MyDrive/gp/The Girl Who Believes in Miracles/clip/108.mp4 \n",
            "\n",
            "108번째 클립 저장 완료\n",
            "[MoviePy] >>>> Building video /content/drive/MyDrive/gp/The Girl Who Believes in Miracles/clip/109.mp4\n",
            "[MoviePy] Writing audio in 109TEMP_MPY_wvf_snd.mp3\n"
          ]
        },
        {
          "name": "stderr",
          "output_type": "stream",
          "text": [
            "100%|██████████| 221/221 [00:00<00:00, 590.27it/s]"
          ]
        },
        {
          "name": "stdout",
          "output_type": "stream",
          "text": [
            "[MoviePy] Done.\n",
            "[MoviePy] Writing video /content/drive/MyDrive/gp/The Girl Who Believes in Miracles/clip/109.mp4\n"
          ]
        },
        {
          "name": "stderr",
          "output_type": "stream",
          "text": [
            "\n",
            "100%|██████████| 240/240 [00:03<00:00, 67.63it/s]\n"
          ]
        },
        {
          "name": "stdout",
          "output_type": "stream",
          "text": [
            "[MoviePy] Done.\n",
            "[MoviePy] >>>> Video ready: /content/drive/MyDrive/gp/The Girl Who Believes in Miracles/clip/109.mp4 \n",
            "\n",
            "109번째 클립 저장 완료\n",
            "[MoviePy] >>>> Building video /content/drive/MyDrive/gp/The Girl Who Believes in Miracles/clip/110.mp4\n",
            "[MoviePy] Writing audio in 110TEMP_MPY_wvf_snd.mp3\n"
          ]
        },
        {
          "name": "stderr",
          "output_type": "stream",
          "text": [
            "100%|██████████| 221/221 [00:00<00:00, 597.44it/s]"
          ]
        },
        {
          "name": "stdout",
          "output_type": "stream",
          "text": [
            "[MoviePy] Done.\n",
            "[MoviePy] Writing video /content/drive/MyDrive/gp/The Girl Who Believes in Miracles/clip/110.mp4\n"
          ]
        },
        {
          "name": "stderr",
          "output_type": "stream",
          "text": [
            "\n",
            "100%|██████████| 240/240 [00:03<00:00, 69.79it/s]\n"
          ]
        },
        {
          "name": "stdout",
          "output_type": "stream",
          "text": [
            "[MoviePy] Done.\n",
            "[MoviePy] >>>> Video ready: /content/drive/MyDrive/gp/The Girl Who Believes in Miracles/clip/110.mp4 \n",
            "\n",
            "110번째 클립 저장 완료\n",
            "[MoviePy] >>>> Building video /content/drive/MyDrive/gp/The Girl Who Believes in Miracles/clip/111.mp4\n",
            "[MoviePy] Writing audio in 111TEMP_MPY_wvf_snd.mp3\n"
          ]
        },
        {
          "name": "stderr",
          "output_type": "stream",
          "text": [
            "100%|██████████| 221/221 [00:00<00:00, 603.94it/s]"
          ]
        },
        {
          "name": "stdout",
          "output_type": "stream",
          "text": [
            "[MoviePy] Done.\n",
            "[MoviePy] Writing video /content/drive/MyDrive/gp/The Girl Who Believes in Miracles/clip/111.mp4\n"
          ]
        },
        {
          "name": "stderr",
          "output_type": "stream",
          "text": [
            "\n",
            "100%|██████████| 240/240 [00:03<00:00, 69.43it/s]\n"
          ]
        },
        {
          "name": "stdout",
          "output_type": "stream",
          "text": [
            "[MoviePy] Done.\n",
            "[MoviePy] >>>> Video ready: /content/drive/MyDrive/gp/The Girl Who Believes in Miracles/clip/111.mp4 \n",
            "\n",
            "111번째 클립 저장 완료\n",
            "[MoviePy] >>>> Building video /content/drive/MyDrive/gp/The Girl Who Believes in Miracles/clip/112.mp4\n",
            "[MoviePy] Writing audio in 112TEMP_MPY_wvf_snd.mp3\n"
          ]
        },
        {
          "name": "stderr",
          "output_type": "stream",
          "text": [
            "100%|██████████| 221/221 [00:00<00:00, 589.35it/s]"
          ]
        },
        {
          "name": "stdout",
          "output_type": "stream",
          "text": [
            "[MoviePy] Done.\n",
            "[MoviePy] Writing video /content/drive/MyDrive/gp/The Girl Who Believes in Miracles/clip/112.mp4\n"
          ]
        },
        {
          "name": "stderr",
          "output_type": "stream",
          "text": [
            "\n",
            "100%|██████████| 240/240 [00:03<00:00, 60.26it/s]\n"
          ]
        },
        {
          "name": "stdout",
          "output_type": "stream",
          "text": [
            "[MoviePy] Done.\n",
            "[MoviePy] >>>> Video ready: /content/drive/MyDrive/gp/The Girl Who Believes in Miracles/clip/112.mp4 \n",
            "\n",
            "112번째 클립 저장 완료\n",
            "[MoviePy] >>>> Building video /content/drive/MyDrive/gp/The Girl Who Believes in Miracles/clip/113.mp4\n",
            "[MoviePy] Writing audio in 113TEMP_MPY_wvf_snd.mp3\n"
          ]
        },
        {
          "name": "stderr",
          "output_type": "stream",
          "text": [
            "100%|██████████| 221/221 [00:00<00:00, 568.79it/s]"
          ]
        },
        {
          "name": "stdout",
          "output_type": "stream",
          "text": [
            "[MoviePy] Done.\n",
            "[MoviePy] Writing video /content/drive/MyDrive/gp/The Girl Who Believes in Miracles/clip/113.mp4\n"
          ]
        },
        {
          "name": "stderr",
          "output_type": "stream",
          "text": [
            "\n",
            "100%|██████████| 240/240 [00:03<00:00, 60.46it/s]\n"
          ]
        },
        {
          "name": "stdout",
          "output_type": "stream",
          "text": [
            "[MoviePy] Done.\n",
            "[MoviePy] >>>> Video ready: /content/drive/MyDrive/gp/The Girl Who Believes in Miracles/clip/113.mp4 \n",
            "\n",
            "113번째 클립 저장 완료\n",
            "[MoviePy] >>>> Building video /content/drive/MyDrive/gp/The Girl Who Believes in Miracles/clip/114.mp4\n",
            "[MoviePy] Writing audio in 114TEMP_MPY_wvf_snd.mp3\n"
          ]
        },
        {
          "name": "stderr",
          "output_type": "stream",
          "text": [
            "100%|██████████| 221/221 [00:00<00:00, 602.88it/s]"
          ]
        },
        {
          "name": "stdout",
          "output_type": "stream",
          "text": [
            "[MoviePy] Done.\n",
            "[MoviePy] Writing video /content/drive/MyDrive/gp/The Girl Who Believes in Miracles/clip/114.mp4\n"
          ]
        },
        {
          "name": "stderr",
          "output_type": "stream",
          "text": [
            "\n",
            "100%|██████████| 240/240 [00:03<00:00, 61.48it/s]\n"
          ]
        },
        {
          "name": "stdout",
          "output_type": "stream",
          "text": [
            "[MoviePy] Done.\n",
            "[MoviePy] >>>> Video ready: /content/drive/MyDrive/gp/The Girl Who Believes in Miracles/clip/114.mp4 \n",
            "\n",
            "114번째 클립 저장 완료\n",
            "[MoviePy] >>>> Building video /content/drive/MyDrive/gp/The Girl Who Believes in Miracles/clip/115.mp4\n",
            "[MoviePy] Writing audio in 115TEMP_MPY_wvf_snd.mp3\n"
          ]
        },
        {
          "name": "stderr",
          "output_type": "stream",
          "text": [
            "100%|██████████| 221/221 [00:00<00:00, 596.74it/s]"
          ]
        },
        {
          "name": "stdout",
          "output_type": "stream",
          "text": [
            "[MoviePy] Done.\n",
            "[MoviePy] Writing video /content/drive/MyDrive/gp/The Girl Who Believes in Miracles/clip/115.mp4\n"
          ]
        },
        {
          "name": "stderr",
          "output_type": "stream",
          "text": [
            "\n",
            "100%|██████████| 240/240 [00:03<00:00, 64.40it/s]\n"
          ]
        },
        {
          "name": "stdout",
          "output_type": "stream",
          "text": [
            "[MoviePy] Done.\n",
            "[MoviePy] >>>> Video ready: /content/drive/MyDrive/gp/The Girl Who Believes in Miracles/clip/115.mp4 \n",
            "\n",
            "115번째 클립 저장 완료\n",
            "[MoviePy] >>>> Building video /content/drive/MyDrive/gp/The Girl Who Believes in Miracles/clip/116.mp4\n",
            "[MoviePy] Writing audio in 116TEMP_MPY_wvf_snd.mp3\n"
          ]
        },
        {
          "name": "stderr",
          "output_type": "stream",
          "text": [
            "100%|██████████| 221/221 [00:00<00:00, 581.62it/s]"
          ]
        },
        {
          "name": "stdout",
          "output_type": "stream",
          "text": [
            "[MoviePy] Done.\n",
            "[MoviePy] Writing video /content/drive/MyDrive/gp/The Girl Who Believes in Miracles/clip/116.mp4\n"
          ]
        },
        {
          "name": "stderr",
          "output_type": "stream",
          "text": [
            "\n",
            "100%|██████████| 240/240 [00:03<00:00, 62.34it/s]\n"
          ]
        },
        {
          "name": "stdout",
          "output_type": "stream",
          "text": [
            "[MoviePy] Done.\n",
            "[MoviePy] >>>> Video ready: /content/drive/MyDrive/gp/The Girl Who Believes in Miracles/clip/116.mp4 \n",
            "\n",
            "116번째 클립 저장 완료\n",
            "[MoviePy] >>>> Building video /content/drive/MyDrive/gp/The Girl Who Believes in Miracles/clip/117.mp4\n",
            "[MoviePy] Writing audio in 117TEMP_MPY_wvf_snd.mp3\n"
          ]
        },
        {
          "name": "stderr",
          "output_type": "stream",
          "text": [
            "100%|██████████| 221/221 [00:00<00:00, 339.12it/s]"
          ]
        },
        {
          "name": "stdout",
          "output_type": "stream",
          "text": [
            "[MoviePy] Done.\n",
            "[MoviePy] Writing video /content/drive/MyDrive/gp/The Girl Who Believes in Miracles/clip/117.mp4\n"
          ]
        },
        {
          "name": "stderr",
          "output_type": "stream",
          "text": [
            "\n",
            "100%|██████████| 240/240 [00:05<00:00, 40.59it/s]\n"
          ]
        },
        {
          "name": "stdout",
          "output_type": "stream",
          "text": [
            "[MoviePy] Done.\n",
            "[MoviePy] >>>> Video ready: /content/drive/MyDrive/gp/The Girl Who Believes in Miracles/clip/117.mp4 \n",
            "\n",
            "117번째 클립 저장 완료\n",
            "[MoviePy] >>>> Building video /content/drive/MyDrive/gp/The Girl Who Believes in Miracles/clip/118.mp4\n",
            "[MoviePy] Writing audio in 118TEMP_MPY_wvf_snd.mp3\n"
          ]
        },
        {
          "name": "stderr",
          "output_type": "stream",
          "text": [
            "100%|██████████| 221/221 [00:00<00:00, 364.33it/s]"
          ]
        },
        {
          "name": "stdout",
          "output_type": "stream",
          "text": [
            "[MoviePy] Done.\n",
            "[MoviePy] Writing video /content/drive/MyDrive/gp/The Girl Who Believes in Miracles/clip/118.mp4\n"
          ]
        },
        {
          "name": "stderr",
          "output_type": "stream",
          "text": [
            "\n",
            "100%|██████████| 240/240 [00:06<00:00, 36.67it/s]\n"
          ]
        },
        {
          "name": "stdout",
          "output_type": "stream",
          "text": [
            "[MoviePy] Done.\n",
            "[MoviePy] >>>> Video ready: /content/drive/MyDrive/gp/The Girl Who Believes in Miracles/clip/118.mp4 \n",
            "\n",
            "118번째 클립 저장 완료\n",
            "[MoviePy] >>>> Building video /content/drive/MyDrive/gp/The Girl Who Believes in Miracles/clip/119.mp4\n",
            "[MoviePy] Writing audio in 119TEMP_MPY_wvf_snd.mp3\n"
          ]
        },
        {
          "name": "stderr",
          "output_type": "stream",
          "text": [
            "100%|██████████| 221/221 [00:00<00:00, 541.29it/s]"
          ]
        },
        {
          "name": "stdout",
          "output_type": "stream",
          "text": [
            "[MoviePy] Done.\n",
            "[MoviePy] Writing video /content/drive/MyDrive/gp/The Girl Who Believes in Miracles/clip/119.mp4\n"
          ]
        },
        {
          "name": "stderr",
          "output_type": "stream",
          "text": [
            "\n",
            "100%|██████████| 240/240 [00:03<00:00, 66.52it/s]\n"
          ]
        },
        {
          "name": "stdout",
          "output_type": "stream",
          "text": [
            "[MoviePy] Done.\n",
            "[MoviePy] >>>> Video ready: /content/drive/MyDrive/gp/The Girl Who Believes in Miracles/clip/119.mp4 \n",
            "\n",
            "119번째 클립 저장 완료\n",
            "[MoviePy] >>>> Building video /content/drive/MyDrive/gp/The Girl Who Believes in Miracles/clip/120.mp4\n",
            "[MoviePy] Writing audio in 120TEMP_MPY_wvf_snd.mp3\n"
          ]
        },
        {
          "name": "stderr",
          "output_type": "stream",
          "text": [
            "100%|██████████| 221/221 [00:00<00:00, 570.21it/s]"
          ]
        },
        {
          "name": "stdout",
          "output_type": "stream",
          "text": [
            "[MoviePy] Done.\n",
            "[MoviePy] Writing video /content/drive/MyDrive/gp/The Girl Who Believes in Miracles/clip/120.mp4\n"
          ]
        },
        {
          "name": "stderr",
          "output_type": "stream",
          "text": [
            "\n",
            "100%|██████████| 240/240 [00:03<00:00, 73.91it/s]\n"
          ]
        },
        {
          "name": "stdout",
          "output_type": "stream",
          "text": [
            "[MoviePy] Done.\n",
            "[MoviePy] >>>> Video ready: /content/drive/MyDrive/gp/The Girl Who Believes in Miracles/clip/120.mp4 \n",
            "\n",
            "120번째 클립 저장 완료\n",
            "[MoviePy] >>>> Building video /content/drive/MyDrive/gp/The Girl Who Believes in Miracles/clip/121.mp4\n",
            "[MoviePy] Writing audio in 121TEMP_MPY_wvf_snd.mp3\n"
          ]
        },
        {
          "name": "stderr",
          "output_type": "stream",
          "text": [
            "100%|██████████| 221/221 [00:00<00:00, 585.52it/s]"
          ]
        },
        {
          "name": "stdout",
          "output_type": "stream",
          "text": [
            "[MoviePy] Done.\n",
            "[MoviePy] Writing video /content/drive/MyDrive/gp/The Girl Who Believes in Miracles/clip/121.mp4\n"
          ]
        },
        {
          "name": "stderr",
          "output_type": "stream",
          "text": [
            "\n",
            "100%|██████████| 240/240 [00:03<00:00, 69.00it/s]\n"
          ]
        },
        {
          "name": "stdout",
          "output_type": "stream",
          "text": [
            "[MoviePy] Done.\n",
            "[MoviePy] >>>> Video ready: /content/drive/MyDrive/gp/The Girl Who Believes in Miracles/clip/121.mp4 \n",
            "\n",
            "121번째 클립 저장 완료\n",
            "[MoviePy] >>>> Building video /content/drive/MyDrive/gp/The Girl Who Believes in Miracles/clip/122.mp4\n",
            "[MoviePy] Writing audio in 122TEMP_MPY_wvf_snd.mp3\n"
          ]
        },
        {
          "name": "stderr",
          "output_type": "stream",
          "text": [
            "100%|██████████| 221/221 [00:00<00:00, 553.37it/s]"
          ]
        },
        {
          "name": "stdout",
          "output_type": "stream",
          "text": [
            "[MoviePy] Done.\n",
            "[MoviePy] Writing video /content/drive/MyDrive/gp/The Girl Who Believes in Miracles/clip/122.mp4\n"
          ]
        },
        {
          "name": "stderr",
          "output_type": "stream",
          "text": [
            "\n",
            "100%|██████████| 240/240 [00:03<00:00, 72.08it/s]\n"
          ]
        },
        {
          "name": "stdout",
          "output_type": "stream",
          "text": [
            "[MoviePy] Done.\n",
            "[MoviePy] >>>> Video ready: /content/drive/MyDrive/gp/The Girl Who Believes in Miracles/clip/122.mp4 \n",
            "\n",
            "122번째 클립 저장 완료\n",
            "[MoviePy] >>>> Building video /content/drive/MyDrive/gp/The Girl Who Believes in Miracles/clip/123.mp4\n",
            "[MoviePy] Writing audio in 123TEMP_MPY_wvf_snd.mp3\n"
          ]
        },
        {
          "name": "stderr",
          "output_type": "stream",
          "text": [
            "100%|██████████| 221/221 [00:00<00:00, 586.33it/s]"
          ]
        },
        {
          "name": "stdout",
          "output_type": "stream",
          "text": [
            "[MoviePy] Done.\n",
            "[MoviePy] Writing video /content/drive/MyDrive/gp/The Girl Who Believes in Miracles/clip/123.mp4\n"
          ]
        },
        {
          "name": "stderr",
          "output_type": "stream",
          "text": [
            "\n",
            "100%|██████████| 240/240 [00:03<00:00, 70.71it/s]\n"
          ]
        },
        {
          "name": "stdout",
          "output_type": "stream",
          "text": [
            "[MoviePy] Done.\n",
            "[MoviePy] >>>> Video ready: /content/drive/MyDrive/gp/The Girl Who Believes in Miracles/clip/123.mp4 \n",
            "\n",
            "123번째 클립 저장 완료\n",
            "[MoviePy] >>>> Building video /content/drive/MyDrive/gp/The Girl Who Believes in Miracles/clip/124.mp4\n",
            "[MoviePy] Writing audio in 124TEMP_MPY_wvf_snd.mp3\n"
          ]
        },
        {
          "name": "stderr",
          "output_type": "stream",
          "text": [
            "100%|██████████| 221/221 [00:00<00:00, 591.40it/s]"
          ]
        },
        {
          "name": "stdout",
          "output_type": "stream",
          "text": [
            "[MoviePy] Done.\n",
            "[MoviePy] Writing video /content/drive/MyDrive/gp/The Girl Who Believes in Miracles/clip/124.mp4\n"
          ]
        },
        {
          "name": "stderr",
          "output_type": "stream",
          "text": [
            "\n",
            "100%|██████████| 240/240 [00:03<00:00, 66.53it/s]\n"
          ]
        },
        {
          "name": "stdout",
          "output_type": "stream",
          "text": [
            "[MoviePy] Done.\n",
            "[MoviePy] >>>> Video ready: /content/drive/MyDrive/gp/The Girl Who Believes in Miracles/clip/124.mp4 \n",
            "\n",
            "124번째 클립 저장 완료\n",
            "[MoviePy] >>>> Building video /content/drive/MyDrive/gp/The Girl Who Believes in Miracles/clip/125.mp4\n",
            "[MoviePy] Writing audio in 125TEMP_MPY_wvf_snd.mp3\n"
          ]
        },
        {
          "name": "stderr",
          "output_type": "stream",
          "text": [
            "100%|██████████| 221/221 [00:00<00:00, 586.25it/s]"
          ]
        },
        {
          "name": "stdout",
          "output_type": "stream",
          "text": [
            "[MoviePy] Done.\n",
            "[MoviePy] Writing video /content/drive/MyDrive/gp/The Girl Who Believes in Miracles/clip/125.mp4\n"
          ]
        },
        {
          "name": "stderr",
          "output_type": "stream",
          "text": [
            "\n",
            "100%|██████████| 240/240 [00:03<00:00, 68.32it/s]\n"
          ]
        },
        {
          "name": "stdout",
          "output_type": "stream",
          "text": [
            "[MoviePy] Done.\n",
            "[MoviePy] >>>> Video ready: /content/drive/MyDrive/gp/The Girl Who Believes in Miracles/clip/125.mp4 \n",
            "\n",
            "125번째 클립 저장 완료\n",
            "[MoviePy] >>>> Building video /content/drive/MyDrive/gp/The Girl Who Believes in Miracles/clip/126.mp4\n",
            "[MoviePy] Writing audio in 126TEMP_MPY_wvf_snd.mp3\n"
          ]
        },
        {
          "name": "stderr",
          "output_type": "stream",
          "text": [
            "100%|██████████| 221/221 [00:00<00:00, 546.91it/s]"
          ]
        },
        {
          "name": "stdout",
          "output_type": "stream",
          "text": [
            "[MoviePy] Done.\n",
            "[MoviePy] Writing video /content/drive/MyDrive/gp/The Girl Who Believes in Miracles/clip/126.mp4\n"
          ]
        },
        {
          "name": "stderr",
          "output_type": "stream",
          "text": [
            "\n",
            "100%|██████████| 240/240 [00:03<00:00, 69.19it/s]\n"
          ]
        },
        {
          "name": "stdout",
          "output_type": "stream",
          "text": [
            "[MoviePy] Done.\n",
            "[MoviePy] >>>> Video ready: /content/drive/MyDrive/gp/The Girl Who Believes in Miracles/clip/126.mp4 \n",
            "\n",
            "126번째 클립 저장 완료\n",
            "[MoviePy] >>>> Building video /content/drive/MyDrive/gp/The Girl Who Believes in Miracles/clip/127.mp4\n",
            "[MoviePy] Writing audio in 127TEMP_MPY_wvf_snd.mp3\n"
          ]
        },
        {
          "name": "stderr",
          "output_type": "stream",
          "text": [
            "100%|██████████| 221/221 [00:00<00:00, 588.31it/s]"
          ]
        },
        {
          "name": "stdout",
          "output_type": "stream",
          "text": [
            "[MoviePy] Done.\n",
            "[MoviePy] Writing video /content/drive/MyDrive/gp/The Girl Who Believes in Miracles/clip/127.mp4\n"
          ]
        },
        {
          "name": "stderr",
          "output_type": "stream",
          "text": [
            "\n",
            "100%|██████████| 240/240 [00:03<00:00, 66.54it/s]\n"
          ]
        },
        {
          "name": "stdout",
          "output_type": "stream",
          "text": [
            "[MoviePy] Done.\n",
            "[MoviePy] >>>> Video ready: /content/drive/MyDrive/gp/The Girl Who Believes in Miracles/clip/127.mp4 \n",
            "\n",
            "127번째 클립 저장 완료\n",
            "[MoviePy] >>>> Building video /content/drive/MyDrive/gp/The Girl Who Believes in Miracles/clip/128.mp4\n",
            "[MoviePy] Writing audio in 128TEMP_MPY_wvf_snd.mp3\n"
          ]
        },
        {
          "name": "stderr",
          "output_type": "stream",
          "text": [
            "100%|██████████| 221/221 [00:00<00:00, 576.43it/s]"
          ]
        },
        {
          "name": "stdout",
          "output_type": "stream",
          "text": [
            "[MoviePy] Done.\n",
            "[MoviePy] Writing video /content/drive/MyDrive/gp/The Girl Who Believes in Miracles/clip/128.mp4\n"
          ]
        },
        {
          "name": "stderr",
          "output_type": "stream",
          "text": [
            "\n",
            "100%|██████████| 240/240 [00:03<00:00, 62.52it/s]\n"
          ]
        },
        {
          "name": "stdout",
          "output_type": "stream",
          "text": [
            "[MoviePy] Done.\n",
            "[MoviePy] >>>> Video ready: /content/drive/MyDrive/gp/The Girl Who Believes in Miracles/clip/128.mp4 \n",
            "\n",
            "128번째 클립 저장 완료\n",
            "[MoviePy] >>>> Building video /content/drive/MyDrive/gp/The Girl Who Believes in Miracles/clip/129.mp4\n",
            "[MoviePy] Writing audio in 129TEMP_MPY_wvf_snd.mp3\n"
          ]
        },
        {
          "name": "stderr",
          "output_type": "stream",
          "text": [
            "100%|██████████| 221/221 [00:00<00:00, 600.01it/s]"
          ]
        },
        {
          "name": "stdout",
          "output_type": "stream",
          "text": [
            "[MoviePy] Done.\n",
            "[MoviePy] Writing video /content/drive/MyDrive/gp/The Girl Who Believes in Miracles/clip/129.mp4\n"
          ]
        },
        {
          "name": "stderr",
          "output_type": "stream",
          "text": [
            "\n",
            "100%|██████████| 240/240 [00:03<00:00, 68.04it/s]\n"
          ]
        },
        {
          "name": "stdout",
          "output_type": "stream",
          "text": [
            "[MoviePy] Done.\n",
            "[MoviePy] >>>> Video ready: /content/drive/MyDrive/gp/The Girl Who Believes in Miracles/clip/129.mp4 \n",
            "\n",
            "129번째 클립 저장 완료\n",
            "[MoviePy] >>>> Building video /content/drive/MyDrive/gp/The Girl Who Believes in Miracles/clip/130.mp4\n",
            "[MoviePy] Writing audio in 130TEMP_MPY_wvf_snd.mp3\n"
          ]
        },
        {
          "name": "stderr",
          "output_type": "stream",
          "text": [
            "100%|██████████| 221/221 [00:00<00:00, 573.64it/s]"
          ]
        },
        {
          "name": "stdout",
          "output_type": "stream",
          "text": [
            "[MoviePy] Done.\n",
            "[MoviePy] Writing video /content/drive/MyDrive/gp/The Girl Who Believes in Miracles/clip/130.mp4\n"
          ]
        },
        {
          "name": "stderr",
          "output_type": "stream",
          "text": [
            "\n",
            "100%|██████████| 240/240 [00:03<00:00, 64.81it/s]\n"
          ]
        },
        {
          "name": "stdout",
          "output_type": "stream",
          "text": [
            "[MoviePy] Done.\n",
            "[MoviePy] >>>> Video ready: /content/drive/MyDrive/gp/The Girl Who Believes in Miracles/clip/130.mp4 \n",
            "\n",
            "130번째 클립 저장 완료\n",
            "[MoviePy] >>>> Building video /content/drive/MyDrive/gp/The Girl Who Believes in Miracles/clip/131.mp4\n",
            "[MoviePy] Writing audio in 131TEMP_MPY_wvf_snd.mp3\n"
          ]
        },
        {
          "name": "stderr",
          "output_type": "stream",
          "text": [
            "100%|██████████| 221/221 [00:00<00:00, 576.90it/s]"
          ]
        },
        {
          "name": "stdout",
          "output_type": "stream",
          "text": [
            "[MoviePy] Done.\n",
            "[MoviePy] Writing video /content/drive/MyDrive/gp/The Girl Who Believes in Miracles/clip/131.mp4\n"
          ]
        },
        {
          "name": "stderr",
          "output_type": "stream",
          "text": [
            "\n",
            "100%|██████████| 240/240 [00:03<00:00, 67.82it/s]\n"
          ]
        },
        {
          "name": "stdout",
          "output_type": "stream",
          "text": [
            "[MoviePy] Done.\n",
            "[MoviePy] >>>> Video ready: /content/drive/MyDrive/gp/The Girl Who Believes in Miracles/clip/131.mp4 \n",
            "\n",
            "131번째 클립 저장 완료\n",
            "[MoviePy] >>>> Building video /content/drive/MyDrive/gp/The Girl Who Believes in Miracles/clip/132.mp4\n",
            "[MoviePy] Writing audio in 132TEMP_MPY_wvf_snd.mp3\n"
          ]
        },
        {
          "name": "stderr",
          "output_type": "stream",
          "text": [
            "100%|██████████| 221/221 [00:00<00:00, 591.18it/s]"
          ]
        },
        {
          "name": "stdout",
          "output_type": "stream",
          "text": [
            "[MoviePy] Done.\n",
            "[MoviePy] Writing video /content/drive/MyDrive/gp/The Girl Who Believes in Miracles/clip/132.mp4\n"
          ]
        },
        {
          "name": "stderr",
          "output_type": "stream",
          "text": [
            "\n",
            "100%|██████████| 240/240 [00:03<00:00, 69.44it/s]\n"
          ]
        },
        {
          "name": "stdout",
          "output_type": "stream",
          "text": [
            "[MoviePy] Done.\n",
            "[MoviePy] >>>> Video ready: /content/drive/MyDrive/gp/The Girl Who Believes in Miracles/clip/132.mp4 \n",
            "\n",
            "132번째 클립 저장 완료\n",
            "[MoviePy] >>>> Building video /content/drive/MyDrive/gp/The Girl Who Believes in Miracles/clip/133.mp4\n",
            "[MoviePy] Writing audio in 133TEMP_MPY_wvf_snd.mp3\n"
          ]
        },
        {
          "name": "stderr",
          "output_type": "stream",
          "text": [
            "100%|██████████| 221/221 [00:00<00:00, 611.49it/s]"
          ]
        },
        {
          "name": "stdout",
          "output_type": "stream",
          "text": [
            "[MoviePy] Done.\n",
            "[MoviePy] Writing video /content/drive/MyDrive/gp/The Girl Who Believes in Miracles/clip/133.mp4\n"
          ]
        },
        {
          "name": "stderr",
          "output_type": "stream",
          "text": [
            "\n",
            "100%|██████████| 240/240 [00:03<00:00, 71.66it/s]\n"
          ]
        },
        {
          "name": "stdout",
          "output_type": "stream",
          "text": [
            "[MoviePy] Done.\n",
            "[MoviePy] >>>> Video ready: /content/drive/MyDrive/gp/The Girl Who Believes in Miracles/clip/133.mp4 \n",
            "\n",
            "133번째 클립 저장 완료\n",
            "[MoviePy] >>>> Building video /content/drive/MyDrive/gp/The Girl Who Believes in Miracles/clip/134.mp4\n",
            "[MoviePy] Writing audio in 134TEMP_MPY_wvf_snd.mp3\n"
          ]
        },
        {
          "name": "stderr",
          "output_type": "stream",
          "text": [
            "100%|██████████| 221/221 [00:00<00:00, 588.66it/s]"
          ]
        },
        {
          "name": "stdout",
          "output_type": "stream",
          "text": [
            "[MoviePy] Done.\n",
            "[MoviePy] Writing video /content/drive/MyDrive/gp/The Girl Who Believes in Miracles/clip/134.mp4\n"
          ]
        },
        {
          "name": "stderr",
          "output_type": "stream",
          "text": [
            "\n",
            "100%|██████████| 240/240 [00:03<00:00, 74.11it/s]\n"
          ]
        },
        {
          "name": "stdout",
          "output_type": "stream",
          "text": [
            "[MoviePy] Done.\n",
            "[MoviePy] >>>> Video ready: /content/drive/MyDrive/gp/The Girl Who Believes in Miracles/clip/134.mp4 \n",
            "\n",
            "134번째 클립 저장 완료\n",
            "[MoviePy] >>>> Building video /content/drive/MyDrive/gp/The Girl Who Believes in Miracles/clip/135.mp4\n",
            "[MoviePy] Writing audio in 135TEMP_MPY_wvf_snd.mp3\n"
          ]
        },
        {
          "name": "stderr",
          "output_type": "stream",
          "text": [
            "100%|██████████| 221/221 [00:00<00:00, 611.63it/s]"
          ]
        },
        {
          "name": "stdout",
          "output_type": "stream",
          "text": [
            "[MoviePy] Done.\n",
            "[MoviePy] Writing video /content/drive/MyDrive/gp/The Girl Who Believes in Miracles/clip/135.mp4\n"
          ]
        },
        {
          "name": "stderr",
          "output_type": "stream",
          "text": [
            "\n",
            "100%|██████████| 240/240 [00:03<00:00, 77.95it/s]\n"
          ]
        },
        {
          "name": "stdout",
          "output_type": "stream",
          "text": [
            "[MoviePy] Done.\n",
            "[MoviePy] >>>> Video ready: /content/drive/MyDrive/gp/The Girl Who Believes in Miracles/clip/135.mp4 \n",
            "\n",
            "135번째 클립 저장 완료\n",
            "[MoviePy] >>>> Building video /content/drive/MyDrive/gp/The Girl Who Believes in Miracles/clip/136.mp4\n",
            "[MoviePy] Writing audio in 136TEMP_MPY_wvf_snd.mp3\n"
          ]
        },
        {
          "name": "stderr",
          "output_type": "stream",
          "text": [
            "100%|██████████| 221/221 [00:00<00:00, 600.13it/s]"
          ]
        },
        {
          "name": "stdout",
          "output_type": "stream",
          "text": [
            "[MoviePy] Done.\n",
            "[MoviePy] Writing video /content/drive/MyDrive/gp/The Girl Who Believes in Miracles/clip/136.mp4\n"
          ]
        },
        {
          "name": "stderr",
          "output_type": "stream",
          "text": [
            "\n",
            "100%|██████████| 240/240 [00:03<00:00, 73.22it/s]\n"
          ]
        },
        {
          "name": "stdout",
          "output_type": "stream",
          "text": [
            "[MoviePy] Done.\n",
            "[MoviePy] >>>> Video ready: /content/drive/MyDrive/gp/The Girl Who Believes in Miracles/clip/136.mp4 \n",
            "\n",
            "136번째 클립 저장 완료\n",
            "[MoviePy] >>>> Building video /content/drive/MyDrive/gp/The Girl Who Believes in Miracles/clip/137.mp4\n",
            "[MoviePy] Writing audio in 137TEMP_MPY_wvf_snd.mp3\n"
          ]
        },
        {
          "name": "stderr",
          "output_type": "stream",
          "text": [
            "100%|██████████| 221/221 [00:00<00:00, 616.07it/s]"
          ]
        },
        {
          "name": "stdout",
          "output_type": "stream",
          "text": [
            "[MoviePy] Done.\n",
            "[MoviePy] Writing video /content/drive/MyDrive/gp/The Girl Who Believes in Miracles/clip/137.mp4\n"
          ]
        },
        {
          "name": "stderr",
          "output_type": "stream",
          "text": [
            "\n",
            "100%|██████████| 240/240 [00:03<00:00, 67.94it/s]\n"
          ]
        },
        {
          "name": "stdout",
          "output_type": "stream",
          "text": [
            "[MoviePy] Done.\n",
            "[MoviePy] >>>> Video ready: /content/drive/MyDrive/gp/The Girl Who Believes in Miracles/clip/137.mp4 \n",
            "\n",
            "137번째 클립 저장 완료\n",
            "[MoviePy] >>>> Building video /content/drive/MyDrive/gp/The Girl Who Believes in Miracles/clip/138.mp4\n",
            "[MoviePy] Writing audio in 138TEMP_MPY_wvf_snd.mp3\n"
          ]
        },
        {
          "name": "stderr",
          "output_type": "stream",
          "text": [
            "100%|██████████| 221/221 [00:00<00:00, 583.63it/s]"
          ]
        },
        {
          "name": "stdout",
          "output_type": "stream",
          "text": [
            "[MoviePy] Done.\n",
            "[MoviePy] Writing video /content/drive/MyDrive/gp/The Girl Who Believes in Miracles/clip/138.mp4\n"
          ]
        },
        {
          "name": "stderr",
          "output_type": "stream",
          "text": [
            "\n",
            "100%|██████████| 240/240 [00:03<00:00, 69.30it/s]\n"
          ]
        },
        {
          "name": "stdout",
          "output_type": "stream",
          "text": [
            "[MoviePy] Done.\n",
            "[MoviePy] >>>> Video ready: /content/drive/MyDrive/gp/The Girl Who Believes in Miracles/clip/138.mp4 \n",
            "\n",
            "138번째 클립 저장 완료\n",
            "[MoviePy] >>>> Building video /content/drive/MyDrive/gp/The Girl Who Believes in Miracles/clip/139.mp4\n",
            "[MoviePy] Writing audio in 139TEMP_MPY_wvf_snd.mp3\n"
          ]
        },
        {
          "name": "stderr",
          "output_type": "stream",
          "text": [
            "100%|██████████| 221/221 [00:00<00:00, 584.49it/s]"
          ]
        },
        {
          "name": "stdout",
          "output_type": "stream",
          "text": [
            "[MoviePy] Done.\n",
            "[MoviePy] Writing video /content/drive/MyDrive/gp/The Girl Who Believes in Miracles/clip/139.mp4\n"
          ]
        },
        {
          "name": "stderr",
          "output_type": "stream",
          "text": [
            "\n",
            "100%|██████████| 240/240 [00:03<00:00, 68.89it/s]\n"
          ]
        },
        {
          "name": "stdout",
          "output_type": "stream",
          "text": [
            "[MoviePy] Done.\n",
            "[MoviePy] >>>> Video ready: /content/drive/MyDrive/gp/The Girl Who Believes in Miracles/clip/139.mp4 \n",
            "\n",
            "139번째 클립 저장 완료\n",
            "[MoviePy] >>>> Building video /content/drive/MyDrive/gp/The Girl Who Believes in Miracles/clip/140.mp4\n",
            "[MoviePy] Writing audio in 140TEMP_MPY_wvf_snd.mp3\n"
          ]
        },
        {
          "name": "stderr",
          "output_type": "stream",
          "text": [
            "100%|██████████| 221/221 [00:00<00:00, 353.48it/s]"
          ]
        },
        {
          "name": "stdout",
          "output_type": "stream",
          "text": [
            "[MoviePy] Done.\n",
            "[MoviePy] Writing video /content/drive/MyDrive/gp/The Girl Who Believes in Miracles/clip/140.mp4\n"
          ]
        },
        {
          "name": "stderr",
          "output_type": "stream",
          "text": [
            "\n",
            "100%|██████████| 240/240 [00:06<00:00, 37.49it/s]\n"
          ]
        },
        {
          "name": "stdout",
          "output_type": "stream",
          "text": [
            "[MoviePy] Done.\n",
            "[MoviePy] >>>> Video ready: /content/drive/MyDrive/gp/The Girl Who Believes in Miracles/clip/140.mp4 \n",
            "\n",
            "140번째 클립 저장 완료\n",
            "[MoviePy] >>>> Building video /content/drive/MyDrive/gp/The Girl Who Believes in Miracles/clip/141.mp4\n",
            "[MoviePy] Writing audio in 141TEMP_MPY_wvf_snd.mp3\n"
          ]
        },
        {
          "name": "stderr",
          "output_type": "stream",
          "text": [
            "100%|██████████| 221/221 [00:00<00:00, 355.65it/s]"
          ]
        },
        {
          "name": "stdout",
          "output_type": "stream",
          "text": [
            "[MoviePy] Done.\n",
            "[MoviePy] Writing video /content/drive/MyDrive/gp/The Girl Who Believes in Miracles/clip/141.mp4\n"
          ]
        },
        {
          "name": "stderr",
          "output_type": "stream",
          "text": [
            "\n",
            "100%|██████████| 240/240 [00:06<00:00, 35.81it/s]\n"
          ]
        },
        {
          "name": "stdout",
          "output_type": "stream",
          "text": [
            "[MoviePy] Done.\n",
            "[MoviePy] >>>> Video ready: /content/drive/MyDrive/gp/The Girl Who Believes in Miracles/clip/141.mp4 \n",
            "\n",
            "141번째 클립 저장 완료\n",
            "[MoviePy] >>>> Building video /content/drive/MyDrive/gp/The Girl Who Believes in Miracles/clip/142.mp4\n",
            "[MoviePy] Writing audio in 142TEMP_MPY_wvf_snd.mp3\n"
          ]
        },
        {
          "name": "stderr",
          "output_type": "stream",
          "text": [
            "100%|██████████| 221/221 [00:00<00:00, 545.07it/s]"
          ]
        },
        {
          "name": "stdout",
          "output_type": "stream",
          "text": [
            "[MoviePy] Done.\n",
            "[MoviePy] Writing video /content/drive/MyDrive/gp/The Girl Who Believes in Miracles/clip/142.mp4\n"
          ]
        },
        {
          "name": "stderr",
          "output_type": "stream",
          "text": [
            "\n",
            "100%|██████████| 240/240 [00:03<00:00, 66.25it/s]\n"
          ]
        },
        {
          "name": "stdout",
          "output_type": "stream",
          "text": [
            "[MoviePy] Done.\n",
            "[MoviePy] >>>> Video ready: /content/drive/MyDrive/gp/The Girl Who Believes in Miracles/clip/142.mp4 \n",
            "\n",
            "142번째 클립 저장 완료\n",
            "[MoviePy] >>>> Building video /content/drive/MyDrive/gp/The Girl Who Believes in Miracles/clip/143.mp4\n",
            "[MoviePy] Writing audio in 143TEMP_MPY_wvf_snd.mp3\n"
          ]
        },
        {
          "name": "stderr",
          "output_type": "stream",
          "text": [
            "100%|██████████| 221/221 [00:00<00:00, 598.47it/s]"
          ]
        },
        {
          "name": "stdout",
          "output_type": "stream",
          "text": [
            "[MoviePy] Done.\n",
            "[MoviePy] Writing video /content/drive/MyDrive/gp/The Girl Who Believes in Miracles/clip/143.mp4\n"
          ]
        },
        {
          "name": "stderr",
          "output_type": "stream",
          "text": [
            "\n",
            "100%|██████████| 240/240 [00:03<00:00, 74.78it/s]\n"
          ]
        },
        {
          "name": "stdout",
          "output_type": "stream",
          "text": [
            "[MoviePy] Done.\n",
            "[MoviePy] >>>> Video ready: /content/drive/MyDrive/gp/The Girl Who Believes in Miracles/clip/143.mp4 \n",
            "\n",
            "143번째 클립 저장 완료\n",
            "[MoviePy] >>>> Building video /content/drive/MyDrive/gp/The Girl Who Believes in Miracles/clip/144.mp4\n",
            "[MoviePy] Writing audio in 144TEMP_MPY_wvf_snd.mp3\n"
          ]
        },
        {
          "name": "stderr",
          "output_type": "stream",
          "text": [
            "100%|██████████| 221/221 [00:00<00:00, 580.55it/s]"
          ]
        },
        {
          "name": "stdout",
          "output_type": "stream",
          "text": [
            "[MoviePy] Done.\n",
            "[MoviePy] Writing video /content/drive/MyDrive/gp/The Girl Who Believes in Miracles/clip/144.mp4\n"
          ]
        },
        {
          "name": "stderr",
          "output_type": "stream",
          "text": [
            "\n",
            "100%|██████████| 240/240 [00:03<00:00, 70.23it/s]\n"
          ]
        },
        {
          "name": "stdout",
          "output_type": "stream",
          "text": [
            "[MoviePy] Done.\n",
            "[MoviePy] >>>> Video ready: /content/drive/MyDrive/gp/The Girl Who Believes in Miracles/clip/144.mp4 \n",
            "\n",
            "144번째 클립 저장 완료\n",
            "[MoviePy] >>>> Building video /content/drive/MyDrive/gp/The Girl Who Believes in Miracles/clip/145.mp4\n",
            "[MoviePy] Writing audio in 145TEMP_MPY_wvf_snd.mp3\n"
          ]
        },
        {
          "name": "stderr",
          "output_type": "stream",
          "text": [
            "100%|██████████| 221/221 [00:00<00:00, 565.13it/s]"
          ]
        },
        {
          "name": "stdout",
          "output_type": "stream",
          "text": [
            "[MoviePy] Done.\n",
            "[MoviePy] Writing video /content/drive/MyDrive/gp/The Girl Who Believes in Miracles/clip/145.mp4\n"
          ]
        },
        {
          "name": "stderr",
          "output_type": "stream",
          "text": [
            "\n",
            "100%|██████████| 240/240 [00:03<00:00, 61.71it/s]\n"
          ]
        },
        {
          "name": "stdout",
          "output_type": "stream",
          "text": [
            "[MoviePy] Done.\n",
            "[MoviePy] >>>> Video ready: /content/drive/MyDrive/gp/The Girl Who Believes in Miracles/clip/145.mp4 \n",
            "\n",
            "145번째 클립 저장 완료\n",
            "[MoviePy] >>>> Building video /content/drive/MyDrive/gp/The Girl Who Believes in Miracles/clip/146.mp4\n",
            "[MoviePy] Writing audio in 146TEMP_MPY_wvf_snd.mp3\n"
          ]
        },
        {
          "name": "stderr",
          "output_type": "stream",
          "text": [
            "100%|██████████| 221/221 [00:00<00:00, 588.80it/s]"
          ]
        },
        {
          "name": "stdout",
          "output_type": "stream",
          "text": [
            "[MoviePy] Done.\n",
            "[MoviePy] Writing video /content/drive/MyDrive/gp/The Girl Who Believes in Miracles/clip/146.mp4\n"
          ]
        },
        {
          "name": "stderr",
          "output_type": "stream",
          "text": [
            "\n",
            "100%|██████████| 240/240 [00:04<00:00, 54.97it/s]\n"
          ]
        },
        {
          "name": "stdout",
          "output_type": "stream",
          "text": [
            "[MoviePy] Done.\n",
            "[MoviePy] >>>> Video ready: /content/drive/MyDrive/gp/The Girl Who Believes in Miracles/clip/146.mp4 \n",
            "\n",
            "146번째 클립 저장 완료\n",
            "[MoviePy] >>>> Building video /content/drive/MyDrive/gp/The Girl Who Believes in Miracles/clip/147.mp4\n",
            "[MoviePy] Writing audio in 147TEMP_MPY_wvf_snd.mp3\n"
          ]
        },
        {
          "name": "stderr",
          "output_type": "stream",
          "text": [
            "100%|██████████| 221/221 [00:00<00:00, 596.06it/s]"
          ]
        },
        {
          "name": "stdout",
          "output_type": "stream",
          "text": [
            "[MoviePy] Done.\n",
            "[MoviePy] Writing video /content/drive/MyDrive/gp/The Girl Who Believes in Miracles/clip/147.mp4\n"
          ]
        },
        {
          "name": "stderr",
          "output_type": "stream",
          "text": [
            "\n",
            "100%|██████████| 240/240 [00:03<00:00, 77.18it/s]\n"
          ]
        },
        {
          "name": "stdout",
          "output_type": "stream",
          "text": [
            "[MoviePy] Done.\n",
            "[MoviePy] >>>> Video ready: /content/drive/MyDrive/gp/The Girl Who Believes in Miracles/clip/147.mp4 \n",
            "\n",
            "147번째 클립 저장 완료\n",
            "[MoviePy] >>>> Building video /content/drive/MyDrive/gp/The Girl Who Believes in Miracles/clip/148.mp4\n",
            "[MoviePy] Writing audio in 148TEMP_MPY_wvf_snd.mp3\n"
          ]
        },
        {
          "name": "stderr",
          "output_type": "stream",
          "text": [
            "100%|██████████| 221/221 [00:00<00:00, 580.25it/s]"
          ]
        },
        {
          "name": "stdout",
          "output_type": "stream",
          "text": [
            "[MoviePy] Done.\n",
            "[MoviePy] Writing video /content/drive/MyDrive/gp/The Girl Who Believes in Miracles/clip/148.mp4\n"
          ]
        },
        {
          "name": "stderr",
          "output_type": "stream",
          "text": [
            "\n",
            "100%|██████████| 240/240 [00:03<00:00, 79.30it/s]\n"
          ]
        },
        {
          "name": "stdout",
          "output_type": "stream",
          "text": [
            "[MoviePy] Done.\n",
            "[MoviePy] >>>> Video ready: /content/drive/MyDrive/gp/The Girl Who Believes in Miracles/clip/148.mp4 \n",
            "\n",
            "148번째 클립 저장 완료\n",
            "[MoviePy] >>>> Building video /content/drive/MyDrive/gp/The Girl Who Believes in Miracles/clip/149.mp4\n",
            "[MoviePy] Writing audio in 149TEMP_MPY_wvf_snd.mp3\n"
          ]
        },
        {
          "name": "stderr",
          "output_type": "stream",
          "text": [
            "100%|██████████| 221/221 [00:00<00:00, 576.99it/s]"
          ]
        },
        {
          "name": "stdout",
          "output_type": "stream",
          "text": [
            "[MoviePy] Done.\n",
            "[MoviePy] Writing video /content/drive/MyDrive/gp/The Girl Who Believes in Miracles/clip/149.mp4\n"
          ]
        },
        {
          "name": "stderr",
          "output_type": "stream",
          "text": [
            "\n",
            "100%|██████████| 240/240 [00:03<00:00, 78.81it/s]\n"
          ]
        },
        {
          "name": "stdout",
          "output_type": "stream",
          "text": [
            "[MoviePy] Done.\n",
            "[MoviePy] >>>> Video ready: /content/drive/MyDrive/gp/The Girl Who Believes in Miracles/clip/149.mp4 \n",
            "\n",
            "149번째 클립 저장 완료\n",
            "[MoviePy] >>>> Building video /content/drive/MyDrive/gp/The Girl Who Believes in Miracles/clip/150.mp4\n",
            "[MoviePy] Writing audio in 150TEMP_MPY_wvf_snd.mp3\n"
          ]
        },
        {
          "name": "stderr",
          "output_type": "stream",
          "text": [
            "100%|██████████| 221/221 [00:00<00:00, 581.15it/s]"
          ]
        },
        {
          "name": "stdout",
          "output_type": "stream",
          "text": [
            "[MoviePy] Done.\n",
            "[MoviePy] Writing video /content/drive/MyDrive/gp/The Girl Who Believes in Miracles/clip/150.mp4\n"
          ]
        },
        {
          "name": "stderr",
          "output_type": "stream",
          "text": [
            "\n",
            "100%|██████████| 240/240 [00:03<00:00, 71.66it/s]\n"
          ]
        },
        {
          "name": "stdout",
          "output_type": "stream",
          "text": [
            "[MoviePy] Done.\n",
            "[MoviePy] >>>> Video ready: /content/drive/MyDrive/gp/The Girl Who Believes in Miracles/clip/150.mp4 \n",
            "\n",
            "150번째 클립 저장 완료\n",
            "[MoviePy] >>>> Building video /content/drive/MyDrive/gp/The Girl Who Believes in Miracles/clip/151.mp4\n",
            "[MoviePy] Writing audio in 151TEMP_MPY_wvf_snd.mp3\n"
          ]
        },
        {
          "name": "stderr",
          "output_type": "stream",
          "text": [
            "100%|██████████| 221/221 [00:00<00:00, 554.90it/s]"
          ]
        },
        {
          "name": "stdout",
          "output_type": "stream",
          "text": [
            "[MoviePy] Done.\n",
            "[MoviePy] Writing video /content/drive/MyDrive/gp/The Girl Who Believes in Miracles/clip/151.mp4\n"
          ]
        },
        {
          "name": "stderr",
          "output_type": "stream",
          "text": [
            "\n",
            "100%|██████████| 240/240 [00:03<00:00, 72.92it/s]\n"
          ]
        },
        {
          "name": "stdout",
          "output_type": "stream",
          "text": [
            "[MoviePy] Done.\n",
            "[MoviePy] >>>> Video ready: /content/drive/MyDrive/gp/The Girl Who Believes in Miracles/clip/151.mp4 \n",
            "\n",
            "151번째 클립 저장 완료\n",
            "[MoviePy] >>>> Building video /content/drive/MyDrive/gp/The Girl Who Believes in Miracles/clip/152.mp4\n",
            "[MoviePy] Writing audio in 152TEMP_MPY_wvf_snd.mp3\n"
          ]
        },
        {
          "name": "stderr",
          "output_type": "stream",
          "text": [
            "100%|██████████| 221/221 [00:00<00:00, 562.57it/s]"
          ]
        },
        {
          "name": "stdout",
          "output_type": "stream",
          "text": [
            "[MoviePy] Done.\n",
            "[MoviePy] Writing video /content/drive/MyDrive/gp/The Girl Who Believes in Miracles/clip/152.mp4\n"
          ]
        },
        {
          "name": "stderr",
          "output_type": "stream",
          "text": [
            "\n",
            "100%|██████████| 240/240 [00:03<00:00, 69.22it/s]\n"
          ]
        },
        {
          "name": "stdout",
          "output_type": "stream",
          "text": [
            "[MoviePy] Done.\n",
            "[MoviePy] >>>> Video ready: /content/drive/MyDrive/gp/The Girl Who Believes in Miracles/clip/152.mp4 \n",
            "\n",
            "152번째 클립 저장 완료\n",
            "[MoviePy] >>>> Building video /content/drive/MyDrive/gp/The Girl Who Believes in Miracles/clip/153.mp4\n",
            "[MoviePy] Writing audio in 153TEMP_MPY_wvf_snd.mp3\n"
          ]
        },
        {
          "name": "stderr",
          "output_type": "stream",
          "text": [
            "100%|██████████| 221/221 [00:00<00:00, 566.87it/s]"
          ]
        },
        {
          "name": "stdout",
          "output_type": "stream",
          "text": [
            "[MoviePy] Done.\n",
            "[MoviePy] Writing video /content/drive/MyDrive/gp/The Girl Who Believes in Miracles/clip/153.mp4\n"
          ]
        },
        {
          "name": "stderr",
          "output_type": "stream",
          "text": [
            "\n",
            "100%|██████████| 240/240 [00:02<00:00, 81.45it/s]\n"
          ]
        },
        {
          "name": "stdout",
          "output_type": "stream",
          "text": [
            "[MoviePy] Done.\n",
            "[MoviePy] >>>> Video ready: /content/drive/MyDrive/gp/The Girl Who Believes in Miracles/clip/153.mp4 \n",
            "\n",
            "153번째 클립 저장 완료\n",
            "[MoviePy] >>>> Building video /content/drive/MyDrive/gp/The Girl Who Believes in Miracles/clip/154.mp4\n",
            "[MoviePy] Writing audio in 154TEMP_MPY_wvf_snd.mp3\n"
          ]
        },
        {
          "name": "stderr",
          "output_type": "stream",
          "text": [
            "100%|██████████| 221/221 [00:00<00:00, 595.74it/s]"
          ]
        },
        {
          "name": "stdout",
          "output_type": "stream",
          "text": [
            "[MoviePy] Done.\n",
            "[MoviePy] Writing video /content/drive/MyDrive/gp/The Girl Who Believes in Miracles/clip/154.mp4\n"
          ]
        },
        {
          "name": "stderr",
          "output_type": "stream",
          "text": [
            "\n",
            "100%|██████████| 240/240 [00:03<00:00, 78.41it/s]\n"
          ]
        },
        {
          "name": "stdout",
          "output_type": "stream",
          "text": [
            "[MoviePy] Done.\n",
            "[MoviePy] >>>> Video ready: /content/drive/MyDrive/gp/The Girl Who Believes in Miracles/clip/154.mp4 \n",
            "\n",
            "154번째 클립 저장 완료\n",
            "[MoviePy] >>>> Building video /content/drive/MyDrive/gp/The Girl Who Believes in Miracles/clip/155.mp4\n",
            "[MoviePy] Writing audio in 155TEMP_MPY_wvf_snd.mp3\n"
          ]
        },
        {
          "name": "stderr",
          "output_type": "stream",
          "text": [
            "100%|██████████| 221/221 [00:00<00:00, 577.98it/s]"
          ]
        },
        {
          "name": "stdout",
          "output_type": "stream",
          "text": [
            "[MoviePy] Done.\n",
            "[MoviePy] Writing video /content/drive/MyDrive/gp/The Girl Who Believes in Miracles/clip/155.mp4\n"
          ]
        },
        {
          "name": "stderr",
          "output_type": "stream",
          "text": [
            "\n",
            "100%|██████████| 240/240 [00:03<00:00, 77.18it/s]\n"
          ]
        },
        {
          "name": "stdout",
          "output_type": "stream",
          "text": [
            "[MoviePy] Done.\n",
            "[MoviePy] >>>> Video ready: /content/drive/MyDrive/gp/The Girl Who Believes in Miracles/clip/155.mp4 \n",
            "\n",
            "155번째 클립 저장 완료\n",
            "[MoviePy] >>>> Building video /content/drive/MyDrive/gp/The Girl Who Believes in Miracles/clip/156.mp4\n",
            "[MoviePy] Writing audio in 156TEMP_MPY_wvf_snd.mp3\n"
          ]
        },
        {
          "name": "stderr",
          "output_type": "stream",
          "text": [
            "100%|██████████| 221/221 [00:00<00:00, 593.67it/s]"
          ]
        },
        {
          "name": "stdout",
          "output_type": "stream",
          "text": [
            "[MoviePy] Done.\n",
            "[MoviePy] Writing video /content/drive/MyDrive/gp/The Girl Who Believes in Miracles/clip/156.mp4\n"
          ]
        },
        {
          "name": "stderr",
          "output_type": "stream",
          "text": [
            "\n",
            "100%|██████████| 240/240 [00:03<00:00, 74.52it/s]\n"
          ]
        },
        {
          "name": "stdout",
          "output_type": "stream",
          "text": [
            "[MoviePy] Done.\n",
            "[MoviePy] >>>> Video ready: /content/drive/MyDrive/gp/The Girl Who Believes in Miracles/clip/156.mp4 \n",
            "\n",
            "156번째 클립 저장 완료\n",
            "[MoviePy] >>>> Building video /content/drive/MyDrive/gp/The Girl Who Believes in Miracles/clip/157.mp4\n",
            "[MoviePy] Writing audio in 157TEMP_MPY_wvf_snd.mp3\n"
          ]
        },
        {
          "name": "stderr",
          "output_type": "stream",
          "text": [
            "100%|██████████| 221/221 [00:00<00:00, 563.28it/s]"
          ]
        },
        {
          "name": "stdout",
          "output_type": "stream",
          "text": [
            "[MoviePy] Done.\n",
            "[MoviePy] Writing video /content/drive/MyDrive/gp/The Girl Who Believes in Miracles/clip/157.mp4\n"
          ]
        },
        {
          "name": "stderr",
          "output_type": "stream",
          "text": [
            "\n",
            "100%|██████████| 240/240 [00:03<00:00, 71.98it/s]\n"
          ]
        },
        {
          "name": "stdout",
          "output_type": "stream",
          "text": [
            "[MoviePy] Done.\n",
            "[MoviePy] >>>> Video ready: /content/drive/MyDrive/gp/The Girl Who Believes in Miracles/clip/157.mp4 \n",
            "\n",
            "157번째 클립 저장 완료\n",
            "[MoviePy] >>>> Building video /content/drive/MyDrive/gp/The Girl Who Believes in Miracles/clip/158.mp4\n",
            "[MoviePy] Writing audio in 158TEMP_MPY_wvf_snd.mp3\n"
          ]
        },
        {
          "name": "stderr",
          "output_type": "stream",
          "text": [
            "100%|██████████| 221/221 [00:00<00:00, 562.21it/s]"
          ]
        },
        {
          "name": "stdout",
          "output_type": "stream",
          "text": [
            "[MoviePy] Done.\n",
            "[MoviePy] Writing video /content/drive/MyDrive/gp/The Girl Who Believes in Miracles/clip/158.mp4\n"
          ]
        },
        {
          "name": "stderr",
          "output_type": "stream",
          "text": [
            "\n",
            "100%|██████████| 240/240 [00:03<00:00, 75.63it/s]\n"
          ]
        },
        {
          "name": "stdout",
          "output_type": "stream",
          "text": [
            "[MoviePy] Done.\n",
            "[MoviePy] >>>> Video ready: /content/drive/MyDrive/gp/The Girl Who Believes in Miracles/clip/158.mp4 \n",
            "\n",
            "158번째 클립 저장 완료\n",
            "[MoviePy] >>>> Building video /content/drive/MyDrive/gp/The Girl Who Believes in Miracles/clip/159.mp4\n",
            "[MoviePy] Writing audio in 159TEMP_MPY_wvf_snd.mp3\n"
          ]
        },
        {
          "name": "stderr",
          "output_type": "stream",
          "text": [
            "100%|██████████| 221/221 [00:00<00:00, 560.35it/s]"
          ]
        },
        {
          "name": "stdout",
          "output_type": "stream",
          "text": [
            "[MoviePy] Done.\n",
            "[MoviePy] Writing video /content/drive/MyDrive/gp/The Girl Who Believes in Miracles/clip/159.mp4\n"
          ]
        },
        {
          "name": "stderr",
          "output_type": "stream",
          "text": [
            "\n",
            "100%|██████████| 240/240 [00:03<00:00, 75.50it/s]\n"
          ]
        },
        {
          "name": "stdout",
          "output_type": "stream",
          "text": [
            "[MoviePy] Done.\n",
            "[MoviePy] >>>> Video ready: /content/drive/MyDrive/gp/The Girl Who Believes in Miracles/clip/159.mp4 \n",
            "\n",
            "159번째 클립 저장 완료\n",
            "[MoviePy] >>>> Building video /content/drive/MyDrive/gp/The Girl Who Believes in Miracles/clip/160.mp4\n",
            "[MoviePy] Writing audio in 160TEMP_MPY_wvf_snd.mp3\n"
          ]
        },
        {
          "name": "stderr",
          "output_type": "stream",
          "text": [
            "100%|██████████| 221/221 [00:00<00:00, 571.34it/s]"
          ]
        },
        {
          "name": "stdout",
          "output_type": "stream",
          "text": [
            "[MoviePy] Done.\n",
            "[MoviePy] Writing video /content/drive/MyDrive/gp/The Girl Who Believes in Miracles/clip/160.mp4\n"
          ]
        },
        {
          "name": "stderr",
          "output_type": "stream",
          "text": [
            "\n",
            "100%|██████████| 240/240 [00:03<00:00, 71.71it/s]\n"
          ]
        },
        {
          "name": "stdout",
          "output_type": "stream",
          "text": [
            "[MoviePy] Done.\n",
            "[MoviePy] >>>> Video ready: /content/drive/MyDrive/gp/The Girl Who Believes in Miracles/clip/160.mp4 \n",
            "\n",
            "160번째 클립 저장 완료\n",
            "[MoviePy] >>>> Building video /content/drive/MyDrive/gp/The Girl Who Believes in Miracles/clip/161.mp4\n",
            "[MoviePy] Writing audio in 161TEMP_MPY_wvf_snd.mp3\n"
          ]
        },
        {
          "name": "stderr",
          "output_type": "stream",
          "text": [
            "100%|██████████| 221/221 [00:00<00:00, 530.20it/s]"
          ]
        },
        {
          "name": "stdout",
          "output_type": "stream",
          "text": [
            "[MoviePy] Done.\n",
            "[MoviePy] Writing video /content/drive/MyDrive/gp/The Girl Who Believes in Miracles/clip/161.mp4\n"
          ]
        },
        {
          "name": "stderr",
          "output_type": "stream",
          "text": [
            "\n",
            "100%|██████████| 240/240 [00:03<00:00, 74.42it/s]\n"
          ]
        },
        {
          "name": "stdout",
          "output_type": "stream",
          "text": [
            "[MoviePy] Done.\n",
            "[MoviePy] >>>> Video ready: /content/drive/MyDrive/gp/The Girl Who Believes in Miracles/clip/161.mp4 \n",
            "\n",
            "161번째 클립 저장 완료\n",
            "[MoviePy] >>>> Building video /content/drive/MyDrive/gp/The Girl Who Believes in Miracles/clip/162.mp4\n",
            "[MoviePy] Writing audio in 162TEMP_MPY_wvf_snd.mp3\n"
          ]
        },
        {
          "name": "stderr",
          "output_type": "stream",
          "text": [
            "100%|██████████| 221/221 [00:00<00:00, 547.74it/s]"
          ]
        },
        {
          "name": "stdout",
          "output_type": "stream",
          "text": [
            "[MoviePy] Done.\n",
            "[MoviePy] Writing video /content/drive/MyDrive/gp/The Girl Who Believes in Miracles/clip/162.mp4\n"
          ]
        },
        {
          "name": "stderr",
          "output_type": "stream",
          "text": [
            "\n",
            "100%|██████████| 240/240 [00:03<00:00, 78.99it/s]\n"
          ]
        },
        {
          "name": "stdout",
          "output_type": "stream",
          "text": [
            "[MoviePy] Done.\n",
            "[MoviePy] >>>> Video ready: /content/drive/MyDrive/gp/The Girl Who Believes in Miracles/clip/162.mp4 \n",
            "\n",
            "162번째 클립 저장 완료\n",
            "[MoviePy] >>>> Building video /content/drive/MyDrive/gp/The Girl Who Believes in Miracles/clip/163.mp4\n",
            "[MoviePy] Writing audio in 163TEMP_MPY_wvf_snd.mp3\n"
          ]
        },
        {
          "name": "stderr",
          "output_type": "stream",
          "text": [
            "100%|██████████| 221/221 [00:00<00:00, 600.33it/s]"
          ]
        },
        {
          "name": "stdout",
          "output_type": "stream",
          "text": [
            "[MoviePy] Done.\n",
            "[MoviePy] Writing video /content/drive/MyDrive/gp/The Girl Who Believes in Miracles/clip/163.mp4\n"
          ]
        },
        {
          "name": "stderr",
          "output_type": "stream",
          "text": [
            "\n",
            "100%|██████████| 240/240 [00:03<00:00, 78.23it/s]\n"
          ]
        },
        {
          "name": "stdout",
          "output_type": "stream",
          "text": [
            "[MoviePy] Done.\n",
            "[MoviePy] >>>> Video ready: /content/drive/MyDrive/gp/The Girl Who Believes in Miracles/clip/163.mp4 \n",
            "\n",
            "163번째 클립 저장 완료\n",
            "[MoviePy] >>>> Building video /content/drive/MyDrive/gp/The Girl Who Believes in Miracles/clip/164.mp4\n",
            "[MoviePy] Writing audio in 164TEMP_MPY_wvf_snd.mp3\n"
          ]
        },
        {
          "name": "stderr",
          "output_type": "stream",
          "text": [
            "100%|██████████| 221/221 [00:00<00:00, 568.05it/s]"
          ]
        },
        {
          "name": "stdout",
          "output_type": "stream",
          "text": [
            "[MoviePy] Done.\n",
            "[MoviePy] Writing video /content/drive/MyDrive/gp/The Girl Who Believes in Miracles/clip/164.mp4\n"
          ]
        },
        {
          "name": "stderr",
          "output_type": "stream",
          "text": [
            "\n",
            "100%|██████████| 240/240 [00:04<00:00, 56.43it/s]\n"
          ]
        },
        {
          "name": "stdout",
          "output_type": "stream",
          "text": [
            "[MoviePy] Done.\n",
            "[MoviePy] >>>> Video ready: /content/drive/MyDrive/gp/The Girl Who Believes in Miracles/clip/164.mp4 \n",
            "\n",
            "164번째 클립 저장 완료\n",
            "[MoviePy] >>>> Building video /content/drive/MyDrive/gp/The Girl Who Believes in Miracles/clip/165.mp4\n",
            "[MoviePy] Writing audio in 165TEMP_MPY_wvf_snd.mp3\n"
          ]
        },
        {
          "name": "stderr",
          "output_type": "stream",
          "text": [
            "100%|██████████| 221/221 [00:00<00:00, 312.88it/s]"
          ]
        },
        {
          "name": "stdout",
          "output_type": "stream",
          "text": [
            "[MoviePy] Done.\n",
            "[MoviePy] Writing video /content/drive/MyDrive/gp/The Girl Who Believes in Miracles/clip/165.mp4\n"
          ]
        },
        {
          "name": "stderr",
          "output_type": "stream",
          "text": [
            "\n",
            "100%|██████████| 240/240 [00:05<00:00, 43.97it/s]\n"
          ]
        },
        {
          "name": "stdout",
          "output_type": "stream",
          "text": [
            "[MoviePy] Done.\n",
            "[MoviePy] >>>> Video ready: /content/drive/MyDrive/gp/The Girl Who Believes in Miracles/clip/165.mp4 \n",
            "\n",
            "165번째 클립 저장 완료\n",
            "[MoviePy] >>>> Building video /content/drive/MyDrive/gp/The Girl Who Believes in Miracles/clip/166.mp4\n",
            "[MoviePy] Writing audio in 166TEMP_MPY_wvf_snd.mp3\n"
          ]
        },
        {
          "name": "stderr",
          "output_type": "stream",
          "text": [
            "100%|██████████| 221/221 [00:00<00:00, 320.80it/s]"
          ]
        },
        {
          "name": "stdout",
          "output_type": "stream",
          "text": [
            "[MoviePy] Done.\n",
            "[MoviePy] Writing video /content/drive/MyDrive/gp/The Girl Who Believes in Miracles/clip/166.mp4\n"
          ]
        },
        {
          "name": "stderr",
          "output_type": "stream",
          "text": [
            "\n",
            "100%|██████████| 240/240 [00:05<00:00, 43.67it/s]\n"
          ]
        },
        {
          "name": "stdout",
          "output_type": "stream",
          "text": [
            "[MoviePy] Done.\n",
            "[MoviePy] >>>> Video ready: /content/drive/MyDrive/gp/The Girl Who Believes in Miracles/clip/166.mp4 \n",
            "\n",
            "166번째 클립 저장 완료\n",
            "[MoviePy] >>>> Building video /content/drive/MyDrive/gp/The Girl Who Believes in Miracles/clip/167.mp4\n",
            "[MoviePy] Writing audio in 167TEMP_MPY_wvf_snd.mp3\n"
          ]
        },
        {
          "name": "stderr",
          "output_type": "stream",
          "text": [
            "100%|██████████| 221/221 [00:00<00:00, 563.52it/s]"
          ]
        },
        {
          "name": "stdout",
          "output_type": "stream",
          "text": [
            "[MoviePy] Done.\n",
            "[MoviePy] Writing video /content/drive/MyDrive/gp/The Girl Who Believes in Miracles/clip/167.mp4\n"
          ]
        },
        {
          "name": "stderr",
          "output_type": "stream",
          "text": [
            "\n",
            "100%|██████████| 240/240 [00:03<00:00, 74.76it/s]\n"
          ]
        },
        {
          "name": "stdout",
          "output_type": "stream",
          "text": [
            "[MoviePy] Done.\n",
            "[MoviePy] >>>> Video ready: /content/drive/MyDrive/gp/The Girl Who Believes in Miracles/clip/167.mp4 \n",
            "\n",
            "167번째 클립 저장 완료\n",
            "[MoviePy] >>>> Building video /content/drive/MyDrive/gp/The Girl Who Believes in Miracles/clip/168.mp4\n",
            "[MoviePy] Writing audio in 168TEMP_MPY_wvf_snd.mp3\n"
          ]
        },
        {
          "name": "stderr",
          "output_type": "stream",
          "text": [
            "100%|██████████| 221/221 [00:00<00:00, 584.49it/s]"
          ]
        },
        {
          "name": "stdout",
          "output_type": "stream",
          "text": [
            "[MoviePy] Done.\n",
            "[MoviePy] Writing video /content/drive/MyDrive/gp/The Girl Who Believes in Miracles/clip/168.mp4\n"
          ]
        },
        {
          "name": "stderr",
          "output_type": "stream",
          "text": [
            "\n",
            "100%|██████████| 240/240 [00:03<00:00, 74.47it/s]\n"
          ]
        },
        {
          "name": "stdout",
          "output_type": "stream",
          "text": [
            "[MoviePy] Done.\n",
            "[MoviePy] >>>> Video ready: /content/drive/MyDrive/gp/The Girl Who Believes in Miracles/clip/168.mp4 \n",
            "\n",
            "168번째 클립 저장 완료\n",
            "[MoviePy] >>>> Building video /content/drive/MyDrive/gp/The Girl Who Believes in Miracles/clip/169.mp4\n",
            "[MoviePy] Writing audio in 169TEMP_MPY_wvf_snd.mp3\n"
          ]
        },
        {
          "name": "stderr",
          "output_type": "stream",
          "text": [
            "100%|██████████| 221/221 [00:00<00:00, 584.07it/s]"
          ]
        },
        {
          "name": "stdout",
          "output_type": "stream",
          "text": [
            "[MoviePy] Done.\n",
            "[MoviePy] Writing video /content/drive/MyDrive/gp/The Girl Who Believes in Miracles/clip/169.mp4\n"
          ]
        },
        {
          "name": "stderr",
          "output_type": "stream",
          "text": [
            "\n",
            "100%|██████████| 240/240 [00:03<00:00, 79.09it/s]\n"
          ]
        },
        {
          "name": "stdout",
          "output_type": "stream",
          "text": [
            "[MoviePy] Done.\n",
            "[MoviePy] >>>> Video ready: /content/drive/MyDrive/gp/The Girl Who Believes in Miracles/clip/169.mp4 \n",
            "\n",
            "169번째 클립 저장 완료\n",
            "[MoviePy] >>>> Building video /content/drive/MyDrive/gp/The Girl Who Believes in Miracles/clip/170.mp4\n",
            "[MoviePy] Writing audio in 170TEMP_MPY_wvf_snd.mp3\n"
          ]
        },
        {
          "name": "stderr",
          "output_type": "stream",
          "text": [
            "100%|██████████| 221/221 [00:00<00:00, 563.62it/s]"
          ]
        },
        {
          "name": "stdout",
          "output_type": "stream",
          "text": [
            "[MoviePy] Done.\n",
            "[MoviePy] Writing video /content/drive/MyDrive/gp/The Girl Who Believes in Miracles/clip/170.mp4\n"
          ]
        },
        {
          "name": "stderr",
          "output_type": "stream",
          "text": [
            "\n",
            "100%|██████████| 240/240 [00:02<00:00, 82.58it/s]\n"
          ]
        },
        {
          "name": "stdout",
          "output_type": "stream",
          "text": [
            "[MoviePy] Done.\n",
            "[MoviePy] >>>> Video ready: /content/drive/MyDrive/gp/The Girl Who Believes in Miracles/clip/170.mp4 \n",
            "\n",
            "170번째 클립 저장 완료\n",
            "[MoviePy] >>>> Building video /content/drive/MyDrive/gp/The Girl Who Believes in Miracles/clip/171.mp4\n",
            "[MoviePy] Writing audio in 171TEMP_MPY_wvf_snd.mp3\n"
          ]
        },
        {
          "name": "stderr",
          "output_type": "stream",
          "text": [
            "100%|██████████| 221/221 [00:00<00:00, 590.19it/s]"
          ]
        },
        {
          "name": "stdout",
          "output_type": "stream",
          "text": [
            "[MoviePy] Done.\n",
            "[MoviePy] Writing video /content/drive/MyDrive/gp/The Girl Who Believes in Miracles/clip/171.mp4\n"
          ]
        },
        {
          "name": "stderr",
          "output_type": "stream",
          "text": [
            "\n",
            "100%|██████████| 240/240 [00:03<00:00, 75.46it/s]\n"
          ]
        },
        {
          "name": "stdout",
          "output_type": "stream",
          "text": [
            "[MoviePy] Done.\n",
            "[MoviePy] >>>> Video ready: /content/drive/MyDrive/gp/The Girl Who Believes in Miracles/clip/171.mp4 \n",
            "\n",
            "171번째 클립 저장 완료\n",
            "[MoviePy] >>>> Building video /content/drive/MyDrive/gp/The Girl Who Believes in Miracles/clip/172.mp4\n",
            "[MoviePy] Writing audio in 172TEMP_MPY_wvf_snd.mp3\n"
          ]
        },
        {
          "name": "stderr",
          "output_type": "stream",
          "text": [
            "100%|██████████| 221/221 [00:00<00:00, 576.85it/s]"
          ]
        },
        {
          "name": "stdout",
          "output_type": "stream",
          "text": [
            "[MoviePy] Done.\n",
            "[MoviePy] Writing video /content/drive/MyDrive/gp/The Girl Who Believes in Miracles/clip/172.mp4\n"
          ]
        },
        {
          "name": "stderr",
          "output_type": "stream",
          "text": [
            "\n",
            "100%|██████████| 240/240 [00:03<00:00, 72.06it/s]\n"
          ]
        },
        {
          "name": "stdout",
          "output_type": "stream",
          "text": [
            "[MoviePy] Done.\n",
            "[MoviePy] >>>> Video ready: /content/drive/MyDrive/gp/The Girl Who Believes in Miracles/clip/172.mp4 \n",
            "\n",
            "172번째 클립 저장 완료\n",
            "[MoviePy] >>>> Building video /content/drive/MyDrive/gp/The Girl Who Believes in Miracles/clip/173.mp4\n",
            "[MoviePy] Writing audio in 173TEMP_MPY_wvf_snd.mp3\n"
          ]
        },
        {
          "name": "stderr",
          "output_type": "stream",
          "text": [
            "100%|██████████| 221/221 [00:00<00:00, 577.44it/s]"
          ]
        },
        {
          "name": "stdout",
          "output_type": "stream",
          "text": [
            "[MoviePy] Done.\n",
            "[MoviePy] Writing video /content/drive/MyDrive/gp/The Girl Who Believes in Miracles/clip/173.mp4\n"
          ]
        },
        {
          "name": "stderr",
          "output_type": "stream",
          "text": [
            "\n",
            "100%|██████████| 240/240 [00:03<00:00, 69.44it/s]\n"
          ]
        },
        {
          "name": "stdout",
          "output_type": "stream",
          "text": [
            "[MoviePy] Done.\n",
            "[MoviePy] >>>> Video ready: /content/drive/MyDrive/gp/The Girl Who Believes in Miracles/clip/173.mp4 \n",
            "\n",
            "173번째 클립 저장 완료\n",
            "[MoviePy] >>>> Building video /content/drive/MyDrive/gp/The Girl Who Believes in Miracles/clip/174.mp4\n",
            "[MoviePy] Writing audio in 174TEMP_MPY_wvf_snd.mp3\n"
          ]
        },
        {
          "name": "stderr",
          "output_type": "stream",
          "text": [
            "100%|██████████| 221/221 [00:00<00:00, 597.43it/s]"
          ]
        },
        {
          "name": "stdout",
          "output_type": "stream",
          "text": [
            "[MoviePy] Done.\n",
            "[MoviePy] Writing video /content/drive/MyDrive/gp/The Girl Who Believes in Miracles/clip/174.mp4\n"
          ]
        },
        {
          "name": "stderr",
          "output_type": "stream",
          "text": [
            "\n",
            "100%|██████████| 240/240 [00:03<00:00, 71.84it/s]\n"
          ]
        },
        {
          "name": "stdout",
          "output_type": "stream",
          "text": [
            "[MoviePy] Done.\n",
            "[MoviePy] >>>> Video ready: /content/drive/MyDrive/gp/The Girl Who Believes in Miracles/clip/174.mp4 \n",
            "\n",
            "174번째 클립 저장 완료\n",
            "[MoviePy] >>>> Building video /content/drive/MyDrive/gp/The Girl Who Believes in Miracles/clip/175.mp4\n",
            "[MoviePy] Writing audio in 175TEMP_MPY_wvf_snd.mp3\n"
          ]
        },
        {
          "name": "stderr",
          "output_type": "stream",
          "text": [
            "100%|██████████| 221/221 [00:00<00:00, 580.44it/s]"
          ]
        },
        {
          "name": "stdout",
          "output_type": "stream",
          "text": [
            "[MoviePy] Done.\n",
            "[MoviePy] Writing video /content/drive/MyDrive/gp/The Girl Who Believes in Miracles/clip/175.mp4\n"
          ]
        },
        {
          "name": "stderr",
          "output_type": "stream",
          "text": [
            "\n",
            "100%|██████████| 240/240 [00:03<00:00, 71.60it/s]\n"
          ]
        },
        {
          "name": "stdout",
          "output_type": "stream",
          "text": [
            "[MoviePy] Done.\n",
            "[MoviePy] >>>> Video ready: /content/drive/MyDrive/gp/The Girl Who Believes in Miracles/clip/175.mp4 \n",
            "\n",
            "175번째 클립 저장 완료\n",
            "[MoviePy] >>>> Building video /content/drive/MyDrive/gp/The Girl Who Believes in Miracles/clip/176.mp4\n",
            "[MoviePy] Writing audio in 176TEMP_MPY_wvf_snd.mp3\n"
          ]
        },
        {
          "name": "stderr",
          "output_type": "stream",
          "text": [
            "100%|██████████| 221/221 [00:00<00:00, 585.94it/s]"
          ]
        },
        {
          "name": "stdout",
          "output_type": "stream",
          "text": [
            "[MoviePy] Done.\n",
            "[MoviePy] Writing video /content/drive/MyDrive/gp/The Girl Who Believes in Miracles/clip/176.mp4\n"
          ]
        },
        {
          "name": "stderr",
          "output_type": "stream",
          "text": [
            "\n",
            "100%|██████████| 240/240 [00:03<00:00, 74.77it/s]\n"
          ]
        },
        {
          "name": "stdout",
          "output_type": "stream",
          "text": [
            "[MoviePy] Done.\n",
            "[MoviePy] >>>> Video ready: /content/drive/MyDrive/gp/The Girl Who Believes in Miracles/clip/176.mp4 \n",
            "\n",
            "176번째 클립 저장 완료\n",
            "[MoviePy] >>>> Building video /content/drive/MyDrive/gp/The Girl Who Believes in Miracles/clip/177.mp4\n",
            "[MoviePy] Writing audio in 177TEMP_MPY_wvf_snd.mp3\n"
          ]
        },
        {
          "name": "stderr",
          "output_type": "stream",
          "text": [
            "100%|██████████| 221/221 [00:00<00:00, 532.05it/s]"
          ]
        },
        {
          "name": "stdout",
          "output_type": "stream",
          "text": [
            "[MoviePy] Done.\n"
          ]
        },
        {
          "name": "stderr",
          "output_type": "stream",
          "text": [
            "\n"
          ]
        },
        {
          "name": "stdout",
          "output_type": "stream",
          "text": [
            "[MoviePy] Writing video /content/drive/MyDrive/gp/The Girl Who Believes in Miracles/clip/177.mp4\n"
          ]
        },
        {
          "name": "stderr",
          "output_type": "stream",
          "text": [
            "100%|██████████| 240/240 [00:02<00:00, 97.69it/s]\n"
          ]
        },
        {
          "name": "stdout",
          "output_type": "stream",
          "text": [
            "[MoviePy] Done.\n",
            "[MoviePy] >>>> Video ready: /content/drive/MyDrive/gp/The Girl Who Believes in Miracles/clip/177.mp4 \n",
            "\n",
            "177번째 클립 저장 완료\n",
            "[MoviePy] >>>> Building video /content/drive/MyDrive/gp/The Girl Who Believes in Miracles/clip/178.mp4\n",
            "[MoviePy] Writing audio in 178TEMP_MPY_wvf_snd.mp3\n"
          ]
        },
        {
          "name": "stderr",
          "output_type": "stream",
          "text": [
            "100%|██████████| 221/221 [00:00<00:00, 579.51it/s]"
          ]
        },
        {
          "name": "stdout",
          "output_type": "stream",
          "text": [
            "[MoviePy] Done.\n",
            "[MoviePy] Writing video /content/drive/MyDrive/gp/The Girl Who Believes in Miracles/clip/178.mp4\n"
          ]
        },
        {
          "name": "stderr",
          "output_type": "stream",
          "text": [
            "\n",
            "100%|██████████| 240/240 [00:02<00:00, 95.22it/s]\n"
          ]
        },
        {
          "name": "stdout",
          "output_type": "stream",
          "text": [
            "[MoviePy] Done.\n",
            "[MoviePy] >>>> Video ready: /content/drive/MyDrive/gp/The Girl Who Believes in Miracles/clip/178.mp4 \n",
            "\n",
            "178번째 클립 저장 완료\n",
            "[MoviePy] >>>> Building video /content/drive/MyDrive/gp/The Girl Who Believes in Miracles/clip/179.mp4\n",
            "[MoviePy] Writing audio in 179TEMP_MPY_wvf_snd.mp3\n"
          ]
        },
        {
          "name": "stderr",
          "output_type": "stream",
          "text": [
            "100%|██████████| 221/221 [00:00<00:00, 565.89it/s]"
          ]
        },
        {
          "name": "stdout",
          "output_type": "stream",
          "text": [
            "[MoviePy] Done.\n",
            "[MoviePy] Writing video /content/drive/MyDrive/gp/The Girl Who Believes in Miracles/clip/179.mp4\n"
          ]
        },
        {
          "name": "stderr",
          "output_type": "stream",
          "text": [
            "\n",
            "100%|██████████| 240/240 [00:03<00:00, 78.86it/s]\n"
          ]
        },
        {
          "name": "stdout",
          "output_type": "stream",
          "text": [
            "[MoviePy] Done.\n",
            "[MoviePy] >>>> Video ready: /content/drive/MyDrive/gp/The Girl Who Believes in Miracles/clip/179.mp4 \n",
            "\n",
            "179번째 클립 저장 완료\n",
            "[MoviePy] >>>> Building video /content/drive/MyDrive/gp/The Girl Who Believes in Miracles/clip/180.mp4\n",
            "[MoviePy] Writing audio in 180TEMP_MPY_wvf_snd.mp3\n"
          ]
        },
        {
          "name": "stderr",
          "output_type": "stream",
          "text": [
            "100%|██████████| 221/221 [00:00<00:00, 581.52it/s]"
          ]
        },
        {
          "name": "stdout",
          "output_type": "stream",
          "text": [
            "[MoviePy] Done.\n",
            "[MoviePy] Writing video /content/drive/MyDrive/gp/The Girl Who Believes in Miracles/clip/180.mp4\n"
          ]
        },
        {
          "name": "stderr",
          "output_type": "stream",
          "text": [
            "\n",
            "100%|██████████| 240/240 [00:02<00:00, 84.25it/s]\n"
          ]
        },
        {
          "name": "stdout",
          "output_type": "stream",
          "text": [
            "[MoviePy] Done.\n",
            "[MoviePy] >>>> Video ready: /content/drive/MyDrive/gp/The Girl Who Believes in Miracles/clip/180.mp4 \n",
            "\n",
            "180번째 클립 저장 완료\n",
            "[MoviePy] >>>> Building video /content/drive/MyDrive/gp/The Girl Who Believes in Miracles/clip/181.mp4\n",
            "[MoviePy] Writing audio in 181TEMP_MPY_wvf_snd.mp3\n"
          ]
        },
        {
          "name": "stderr",
          "output_type": "stream",
          "text": [
            "100%|██████████| 221/221 [00:00<00:00, 499.66it/s]"
          ]
        },
        {
          "name": "stdout",
          "output_type": "stream",
          "text": [
            "[MoviePy] Done.\n",
            "[MoviePy] Writing video /content/drive/MyDrive/gp/The Girl Who Believes in Miracles/clip/181.mp4\n"
          ]
        },
        {
          "name": "stderr",
          "output_type": "stream",
          "text": [
            "\n",
            "100%|██████████| 240/240 [00:02<00:00, 96.91it/s]\n"
          ]
        },
        {
          "name": "stdout",
          "output_type": "stream",
          "text": [
            "[MoviePy] Done.\n",
            "[MoviePy] >>>> Video ready: /content/drive/MyDrive/gp/The Girl Who Believes in Miracles/clip/181.mp4 \n",
            "\n",
            "181번째 클립 저장 완료\n",
            "[MoviePy] >>>> Building video /content/drive/MyDrive/gp/The Girl Who Believes in Miracles/clip/182.mp4\n",
            "[MoviePy] Writing audio in 182TEMP_MPY_wvf_snd.mp3\n"
          ]
        },
        {
          "name": "stderr",
          "output_type": "stream",
          "text": [
            "100%|██████████| 221/221 [00:00<00:00, 543.55it/s]"
          ]
        },
        {
          "name": "stdout",
          "output_type": "stream",
          "text": [
            "[MoviePy] Done.\n",
            "[MoviePy] Writing video /content/drive/MyDrive/gp/The Girl Who Believes in Miracles/clip/182.mp4\n"
          ]
        },
        {
          "name": "stderr",
          "output_type": "stream",
          "text": [
            "\n",
            "100%|██████████| 240/240 [00:02<00:00, 103.92it/s]\n"
          ]
        },
        {
          "name": "stdout",
          "output_type": "stream",
          "text": [
            "[MoviePy] Done.\n",
            "[MoviePy] >>>> Video ready: /content/drive/MyDrive/gp/The Girl Who Believes in Miracles/clip/182.mp4 \n",
            "\n",
            "182번째 클립 저장 완료\n",
            "[MoviePy] >>>> Building video /content/drive/MyDrive/gp/The Girl Who Believes in Miracles/clip/183.mp4\n",
            "[MoviePy] Writing audio in 183TEMP_MPY_wvf_snd.mp3\n"
          ]
        },
        {
          "name": "stderr",
          "output_type": "stream",
          "text": [
            "100%|██████████| 221/221 [00:00<00:00, 584.24it/s]"
          ]
        },
        {
          "name": "stdout",
          "output_type": "stream",
          "text": [
            "[MoviePy] Done.\n",
            "[MoviePy] Writing video /content/drive/MyDrive/gp/The Girl Who Believes in Miracles/clip/183.mp4\n"
          ]
        },
        {
          "name": "stderr",
          "output_type": "stream",
          "text": [
            "\n",
            "100%|██████████| 240/240 [00:02<00:00, 83.56it/s]\n"
          ]
        },
        {
          "name": "stdout",
          "output_type": "stream",
          "text": [
            "[MoviePy] Done.\n",
            "[MoviePy] >>>> Video ready: /content/drive/MyDrive/gp/The Girl Who Believes in Miracles/clip/183.mp4 \n",
            "\n",
            "183번째 클립 저장 완료\n",
            "[MoviePy] >>>> Building video /content/drive/MyDrive/gp/The Girl Who Believes in Miracles/clip/184.mp4\n",
            "[MoviePy] Writing audio in 184TEMP_MPY_wvf_snd.mp3\n"
          ]
        },
        {
          "name": "stderr",
          "output_type": "stream",
          "text": [
            "100%|██████████| 221/221 [00:00<00:00, 552.56it/s]"
          ]
        },
        {
          "name": "stdout",
          "output_type": "stream",
          "text": [
            "[MoviePy] Done.\n",
            "[MoviePy] Writing video /content/drive/MyDrive/gp/The Girl Who Believes in Miracles/clip/184.mp4\n"
          ]
        },
        {
          "name": "stderr",
          "output_type": "stream",
          "text": [
            "\n",
            "100%|██████████| 240/240 [00:03<00:00, 75.15it/s]\n"
          ]
        },
        {
          "name": "stdout",
          "output_type": "stream",
          "text": [
            "[MoviePy] Done.\n",
            "[MoviePy] >>>> Video ready: /content/drive/MyDrive/gp/The Girl Who Believes in Miracles/clip/184.mp4 \n",
            "\n",
            "184번째 클립 저장 완료\n",
            "[MoviePy] >>>> Building video /content/drive/MyDrive/gp/The Girl Who Believes in Miracles/clip/185.mp4\n",
            "[MoviePy] Writing audio in 185TEMP_MPY_wvf_snd.mp3\n"
          ]
        },
        {
          "name": "stderr",
          "output_type": "stream",
          "text": [
            "100%|██████████| 221/221 [00:00<00:00, 583.22it/s]"
          ]
        },
        {
          "name": "stdout",
          "output_type": "stream",
          "text": [
            "[MoviePy] Done.\n",
            "[MoviePy] Writing video /content/drive/MyDrive/gp/The Girl Who Believes in Miracles/clip/185.mp4\n"
          ]
        },
        {
          "name": "stderr",
          "output_type": "stream",
          "text": [
            "\n",
            "100%|██████████| 240/240 [00:02<00:00, 84.42it/s]\n"
          ]
        },
        {
          "name": "stdout",
          "output_type": "stream",
          "text": [
            "[MoviePy] Done.\n",
            "[MoviePy] >>>> Video ready: /content/drive/MyDrive/gp/The Girl Who Believes in Miracles/clip/185.mp4 \n",
            "\n",
            "185번째 클립 저장 완료\n",
            "[MoviePy] >>>> Building video /content/drive/MyDrive/gp/The Girl Who Believes in Miracles/clip/186.mp4\n",
            "[MoviePy] Writing audio in 186TEMP_MPY_wvf_snd.mp3\n"
          ]
        },
        {
          "name": "stderr",
          "output_type": "stream",
          "text": [
            "100%|██████████| 221/221 [00:00<00:00, 595.43it/s]"
          ]
        },
        {
          "name": "stdout",
          "output_type": "stream",
          "text": [
            "[MoviePy] Done.\n",
            "[MoviePy] Writing video /content/drive/MyDrive/gp/The Girl Who Believes in Miracles/clip/186.mp4\n"
          ]
        },
        {
          "name": "stderr",
          "output_type": "stream",
          "text": [
            "\n",
            "100%|██████████| 240/240 [00:02<00:00, 90.45it/s]\n"
          ]
        },
        {
          "name": "stdout",
          "output_type": "stream",
          "text": [
            "[MoviePy] Done.\n",
            "[MoviePy] >>>> Video ready: /content/drive/MyDrive/gp/The Girl Who Believes in Miracles/clip/186.mp4 \n",
            "\n",
            "186번째 클립 저장 완료\n",
            "[MoviePy] >>>> Building video /content/drive/MyDrive/gp/The Girl Who Believes in Miracles/clip/187.mp4\n",
            "[MoviePy] Writing audio in 187TEMP_MPY_wvf_snd.mp3\n"
          ]
        },
        {
          "name": "stderr",
          "output_type": "stream",
          "text": [
            "100%|██████████| 221/221 [00:00<00:00, 571.54it/s]"
          ]
        },
        {
          "name": "stdout",
          "output_type": "stream",
          "text": [
            "[MoviePy] Done.\n",
            "[MoviePy] Writing video /content/drive/MyDrive/gp/The Girl Who Believes in Miracles/clip/187.mp4\n"
          ]
        },
        {
          "name": "stderr",
          "output_type": "stream",
          "text": [
            "\n",
            "100%|██████████| 240/240 [00:02<00:00, 88.44it/s]\n"
          ]
        },
        {
          "name": "stdout",
          "output_type": "stream",
          "text": [
            "[MoviePy] Done.\n",
            "[MoviePy] >>>> Video ready: /content/drive/MyDrive/gp/The Girl Who Believes in Miracles/clip/187.mp4 \n",
            "\n",
            "187번째 클립 저장 완료\n",
            "[MoviePy] >>>> Building video /content/drive/MyDrive/gp/The Girl Who Believes in Miracles/clip/188.mp4\n",
            "[MoviePy] Writing audio in 188TEMP_MPY_wvf_snd.mp3\n"
          ]
        },
        {
          "name": "stderr",
          "output_type": "stream",
          "text": [
            "100%|██████████| 221/221 [00:00<00:00, 560.23it/s]"
          ]
        },
        {
          "name": "stdout",
          "output_type": "stream",
          "text": [
            "[MoviePy] Done.\n",
            "[MoviePy] Writing video /content/drive/MyDrive/gp/The Girl Who Believes in Miracles/clip/188.mp4\n"
          ]
        },
        {
          "name": "stderr",
          "output_type": "stream",
          "text": [
            "\n",
            "100%|██████████| 240/240 [00:02<00:00, 93.55it/s]\n"
          ]
        },
        {
          "name": "stdout",
          "output_type": "stream",
          "text": [
            "[MoviePy] Done.\n",
            "[MoviePy] >>>> Video ready: /content/drive/MyDrive/gp/The Girl Who Believes in Miracles/clip/188.mp4 \n",
            "\n",
            "188번째 클립 저장 완료\n",
            "[MoviePy] >>>> Building video /content/drive/MyDrive/gp/The Girl Who Believes in Miracles/clip/189.mp4\n",
            "[MoviePy] Writing audio in 189TEMP_MPY_wvf_snd.mp3\n"
          ]
        },
        {
          "name": "stderr",
          "output_type": "stream",
          "text": [
            "100%|██████████| 221/221 [00:00<00:00, 516.90it/s]\n"
          ]
        },
        {
          "name": "stdout",
          "output_type": "stream",
          "text": [
            "[MoviePy] Done.\n",
            "[MoviePy] Writing video /content/drive/MyDrive/gp/The Girl Who Believes in Miracles/clip/189.mp4\n"
          ]
        },
        {
          "name": "stderr",
          "output_type": "stream",
          "text": [
            "100%|██████████| 240/240 [00:02<00:00, 98.30it/s]\n"
          ]
        },
        {
          "name": "stdout",
          "output_type": "stream",
          "text": [
            "[MoviePy] Done.\n",
            "[MoviePy] >>>> Video ready: /content/drive/MyDrive/gp/The Girl Who Believes in Miracles/clip/189.mp4 \n",
            "\n",
            "189번째 클립 저장 완료\n",
            "[MoviePy] >>>> Building video /content/drive/MyDrive/gp/The Girl Who Believes in Miracles/clip/190.mp4\n",
            "[MoviePy] Writing audio in 190TEMP_MPY_wvf_snd.mp3\n"
          ]
        },
        {
          "name": "stderr",
          "output_type": "stream",
          "text": [
            "100%|██████████| 221/221 [00:00<00:00, 553.07it/s]"
          ]
        },
        {
          "name": "stdout",
          "output_type": "stream",
          "text": [
            "[MoviePy] Done.\n",
            "[MoviePy] Writing video /content/drive/MyDrive/gp/The Girl Who Believes in Miracles/clip/190.mp4\n"
          ]
        },
        {
          "name": "stderr",
          "output_type": "stream",
          "text": [
            "\n",
            "100%|██████████| 240/240 [00:02<00:00, 100.21it/s]\n"
          ]
        },
        {
          "name": "stdout",
          "output_type": "stream",
          "text": [
            "[MoviePy] Done.\n",
            "[MoviePy] >>>> Video ready: /content/drive/MyDrive/gp/The Girl Who Believes in Miracles/clip/190.mp4 \n",
            "\n",
            "190번째 클립 저장 완료\n",
            "[MoviePy] >>>> Building video /content/drive/MyDrive/gp/The Girl Who Believes in Miracles/clip/191.mp4\n",
            "[MoviePy] Writing audio in 191TEMP_MPY_wvf_snd.mp3\n"
          ]
        },
        {
          "name": "stderr",
          "output_type": "stream",
          "text": [
            "100%|██████████| 221/221 [00:00<00:00, 551.36it/s]"
          ]
        },
        {
          "name": "stdout",
          "output_type": "stream",
          "text": [
            "[MoviePy] Done.\n",
            "[MoviePy] Writing video /content/drive/MyDrive/gp/The Girl Who Believes in Miracles/clip/191.mp4\n"
          ]
        },
        {
          "name": "stderr",
          "output_type": "stream",
          "text": [
            "\n",
            "100%|██████████| 240/240 [00:04<00:00, 51.11it/s]\n"
          ]
        },
        {
          "name": "stdout",
          "output_type": "stream",
          "text": [
            "[MoviePy] Done.\n",
            "[MoviePy] >>>> Video ready: /content/drive/MyDrive/gp/The Girl Who Believes in Miracles/clip/191.mp4 \n",
            "\n",
            "191번째 클립 저장 완료\n",
            "[MoviePy] >>>> Building video /content/drive/MyDrive/gp/The Girl Who Believes in Miracles/clip/192.mp4\n",
            "[MoviePy] Writing audio in 192TEMP_MPY_wvf_snd.mp3\n"
          ]
        },
        {
          "name": "stderr",
          "output_type": "stream",
          "text": [
            "100%|██████████| 221/221 [00:00<00:00, 345.34it/s]"
          ]
        },
        {
          "name": "stdout",
          "output_type": "stream",
          "text": [
            "[MoviePy] Done.\n",
            "[MoviePy] Writing video /content/drive/MyDrive/gp/The Girl Who Believes in Miracles/clip/192.mp4\n"
          ]
        },
        {
          "name": "stderr",
          "output_type": "stream",
          "text": [
            "\n",
            "100%|██████████| 240/240 [00:05<00:00, 44.16it/s]\n"
          ]
        },
        {
          "name": "stdout",
          "output_type": "stream",
          "text": [
            "[MoviePy] Done.\n",
            "[MoviePy] >>>> Video ready: /content/drive/MyDrive/gp/The Girl Who Believes in Miracles/clip/192.mp4 \n",
            "\n",
            "192번째 클립 저장 완료\n",
            "[MoviePy] >>>> Building video /content/drive/MyDrive/gp/The Girl Who Believes in Miracles/clip/193.mp4\n",
            "[MoviePy] Writing audio in 193TEMP_MPY_wvf_snd.mp3\n"
          ]
        },
        {
          "name": "stderr",
          "output_type": "stream",
          "text": [
            "100%|██████████| 221/221 [00:00<00:00, 331.68it/s]"
          ]
        },
        {
          "name": "stdout",
          "output_type": "stream",
          "text": [
            "[MoviePy] Done.\n",
            "[MoviePy] Writing video /content/drive/MyDrive/gp/The Girl Who Believes in Miracles/clip/193.mp4\n"
          ]
        },
        {
          "name": "stderr",
          "output_type": "stream",
          "text": [
            "\n",
            "100%|██████████| 240/240 [00:05<00:00, 47.17it/s]\n"
          ]
        },
        {
          "name": "stdout",
          "output_type": "stream",
          "text": [
            "[MoviePy] Done.\n",
            "[MoviePy] >>>> Video ready: /content/drive/MyDrive/gp/The Girl Who Believes in Miracles/clip/193.mp4 \n",
            "\n",
            "193번째 클립 저장 완료\n",
            "[MoviePy] >>>> Building video /content/drive/MyDrive/gp/The Girl Who Believes in Miracles/clip/194.mp4\n",
            "[MoviePy] Writing audio in 194TEMP_MPY_wvf_snd.mp3\n"
          ]
        },
        {
          "name": "stderr",
          "output_type": "stream",
          "text": [
            "100%|██████████| 221/221 [00:00<00:00, 319.10it/s]\n"
          ]
        },
        {
          "name": "stdout",
          "output_type": "stream",
          "text": [
            "[MoviePy] Done.\n",
            "[MoviePy] Writing video /content/drive/MyDrive/gp/The Girl Who Believes in Miracles/clip/194.mp4\n"
          ]
        },
        {
          "name": "stderr",
          "output_type": "stream",
          "text": [
            "100%|██████████| 240/240 [00:05<00:00, 44.23it/s]\n"
          ]
        },
        {
          "name": "stdout",
          "output_type": "stream",
          "text": [
            "[MoviePy] Done.\n",
            "[MoviePy] >>>> Video ready: /content/drive/MyDrive/gp/The Girl Who Believes in Miracles/clip/194.mp4 \n",
            "\n",
            "194번째 클립 저장 완료\n",
            "[MoviePy] >>>> Building video /content/drive/MyDrive/gp/The Girl Who Believes in Miracles/clip/195.mp4\n",
            "[MoviePy] Writing audio in 195TEMP_MPY_wvf_snd.mp3\n"
          ]
        },
        {
          "name": "stderr",
          "output_type": "stream",
          "text": [
            "100%|██████████| 221/221 [00:00<00:00, 542.48it/s]"
          ]
        },
        {
          "name": "stdout",
          "output_type": "stream",
          "text": [
            "[MoviePy] Done.\n",
            "[MoviePy] Writing video /content/drive/MyDrive/gp/The Girl Who Believes in Miracles/clip/195.mp4\n"
          ]
        },
        {
          "name": "stderr",
          "output_type": "stream",
          "text": [
            "\n",
            "100%|██████████| 240/240 [00:02<00:00, 96.31it/s]\n"
          ]
        },
        {
          "name": "stdout",
          "output_type": "stream",
          "text": [
            "[MoviePy] Done.\n",
            "[MoviePy] >>>> Video ready: /content/drive/MyDrive/gp/The Girl Who Believes in Miracles/clip/195.mp4 \n",
            "\n",
            "195번째 클립 저장 완료\n",
            "[MoviePy] >>>> Building video /content/drive/MyDrive/gp/The Girl Who Believes in Miracles/clip/196.mp4\n",
            "[MoviePy] Writing audio in 196TEMP_MPY_wvf_snd.mp3\n"
          ]
        },
        {
          "name": "stderr",
          "output_type": "stream",
          "text": [
            "100%|██████████| 221/221 [00:00<00:00, 548.75it/s]"
          ]
        },
        {
          "name": "stdout",
          "output_type": "stream",
          "text": [
            "[MoviePy] Done.\n",
            "[MoviePy] Writing video /content/drive/MyDrive/gp/The Girl Who Believes in Miracles/clip/196.mp4\n"
          ]
        },
        {
          "name": "stderr",
          "output_type": "stream",
          "text": [
            "\n",
            "100%|██████████| 240/240 [00:03<00:00, 78.21it/s]\n"
          ]
        },
        {
          "name": "stdout",
          "output_type": "stream",
          "text": [
            "[MoviePy] Done.\n",
            "[MoviePy] >>>> Video ready: /content/drive/MyDrive/gp/The Girl Who Believes in Miracles/clip/196.mp4 \n",
            "\n",
            "196번째 클립 저장 완료\n",
            "[MoviePy] >>>> Building video /content/drive/MyDrive/gp/The Girl Who Believes in Miracles/clip/197.mp4\n",
            "[MoviePy] Writing audio in 197TEMP_MPY_wvf_snd.mp3\n"
          ]
        },
        {
          "name": "stderr",
          "output_type": "stream",
          "text": [
            "100%|██████████| 221/221 [00:00<00:00, 572.11it/s]"
          ]
        },
        {
          "name": "stdout",
          "output_type": "stream",
          "text": [
            "[MoviePy] Done.\n",
            "[MoviePy] Writing video /content/drive/MyDrive/gp/The Girl Who Believes in Miracles/clip/197.mp4\n"
          ]
        },
        {
          "name": "stderr",
          "output_type": "stream",
          "text": [
            "\n",
            "100%|██████████| 240/240 [00:03<00:00, 76.62it/s]\n"
          ]
        },
        {
          "name": "stdout",
          "output_type": "stream",
          "text": [
            "[MoviePy] Done.\n",
            "[MoviePy] >>>> Video ready: /content/drive/MyDrive/gp/The Girl Who Believes in Miracles/clip/197.mp4 \n",
            "\n",
            "197번째 클립 저장 완료\n",
            "[MoviePy] >>>> Building video /content/drive/MyDrive/gp/The Girl Who Believes in Miracles/clip/198.mp4\n",
            "[MoviePy] Writing audio in 198TEMP_MPY_wvf_snd.mp3\n"
          ]
        },
        {
          "name": "stderr",
          "output_type": "stream",
          "text": [
            "100%|██████████| 221/221 [00:00<00:00, 562.60it/s]"
          ]
        },
        {
          "name": "stdout",
          "output_type": "stream",
          "text": [
            "[MoviePy] Done.\n",
            "[MoviePy] Writing video /content/drive/MyDrive/gp/The Girl Who Believes in Miracles/clip/198.mp4\n"
          ]
        },
        {
          "name": "stderr",
          "output_type": "stream",
          "text": [
            "\n",
            "100%|██████████| 240/240 [00:02<00:00, 81.80it/s]\n"
          ]
        },
        {
          "name": "stdout",
          "output_type": "stream",
          "text": [
            "[MoviePy] Done.\n",
            "[MoviePy] >>>> Video ready: /content/drive/MyDrive/gp/The Girl Who Believes in Miracles/clip/198.mp4 \n",
            "\n",
            "198번째 클립 저장 완료\n",
            "[MoviePy] >>>> Building video /content/drive/MyDrive/gp/The Girl Who Believes in Miracles/clip/199.mp4\n",
            "[MoviePy] Writing audio in 199TEMP_MPY_wvf_snd.mp3\n"
          ]
        },
        {
          "name": "stderr",
          "output_type": "stream",
          "text": [
            "100%|██████████| 221/221 [00:00<00:00, 569.85it/s]"
          ]
        },
        {
          "name": "stdout",
          "output_type": "stream",
          "text": [
            "[MoviePy] Done.\n",
            "[MoviePy] Writing video /content/drive/MyDrive/gp/The Girl Who Believes in Miracles/clip/199.mp4\n"
          ]
        },
        {
          "name": "stderr",
          "output_type": "stream",
          "text": [
            "\n",
            "100%|██████████| 240/240 [00:03<00:00, 79.06it/s]\n"
          ]
        },
        {
          "name": "stdout",
          "output_type": "stream",
          "text": [
            "[MoviePy] Done.\n",
            "[MoviePy] >>>> Video ready: /content/drive/MyDrive/gp/The Girl Who Believes in Miracles/clip/199.mp4 \n",
            "\n",
            "199번째 클립 저장 완료\n",
            "[MoviePy] >>>> Building video /content/drive/MyDrive/gp/The Girl Who Believes in Miracles/clip/200.mp4\n",
            "[MoviePy] Writing audio in 200TEMP_MPY_wvf_snd.mp3\n"
          ]
        },
        {
          "name": "stderr",
          "output_type": "stream",
          "text": [
            "100%|██████████| 221/221 [00:00<00:00, 560.03it/s]"
          ]
        },
        {
          "name": "stdout",
          "output_type": "stream",
          "text": [
            "[MoviePy] Done.\n",
            "[MoviePy] Writing video /content/drive/MyDrive/gp/The Girl Who Believes in Miracles/clip/200.mp4\n"
          ]
        },
        {
          "name": "stderr",
          "output_type": "stream",
          "text": [
            "\n",
            "100%|██████████| 240/240 [00:03<00:00, 78.64it/s]\n"
          ]
        },
        {
          "name": "stdout",
          "output_type": "stream",
          "text": [
            "[MoviePy] Done.\n",
            "[MoviePy] >>>> Video ready: /content/drive/MyDrive/gp/The Girl Who Believes in Miracles/clip/200.mp4 \n",
            "\n",
            "200번째 클립 저장 완료\n",
            "[MoviePy] >>>> Building video /content/drive/MyDrive/gp/The Girl Who Believes in Miracles/clip/201.mp4\n",
            "[MoviePy] Writing audio in 201TEMP_MPY_wvf_snd.mp3\n"
          ]
        },
        {
          "name": "stderr",
          "output_type": "stream",
          "text": [
            "100%|██████████| 221/221 [00:00<00:00, 554.03it/s]"
          ]
        },
        {
          "name": "stdout",
          "output_type": "stream",
          "text": [
            "[MoviePy] Done.\n",
            "[MoviePy] Writing video /content/drive/MyDrive/gp/The Girl Who Believes in Miracles/clip/201.mp4\n"
          ]
        },
        {
          "name": "stderr",
          "output_type": "stream",
          "text": [
            "\n",
            "100%|██████████| 240/240 [00:02<00:00, 83.89it/s]\n"
          ]
        },
        {
          "name": "stdout",
          "output_type": "stream",
          "text": [
            "[MoviePy] Done.\n",
            "[MoviePy] >>>> Video ready: /content/drive/MyDrive/gp/The Girl Who Believes in Miracles/clip/201.mp4 \n",
            "\n",
            "201번째 클립 저장 완료\n",
            "[MoviePy] >>>> Building video /content/drive/MyDrive/gp/The Girl Who Believes in Miracles/clip/202.mp4\n",
            "[MoviePy] Writing audio in 202TEMP_MPY_wvf_snd.mp3\n"
          ]
        },
        {
          "name": "stderr",
          "output_type": "stream",
          "text": [
            "100%|██████████| 221/221 [00:00<00:00, 580.48it/s]"
          ]
        },
        {
          "name": "stdout",
          "output_type": "stream",
          "text": [
            "[MoviePy] Done.\n",
            "[MoviePy] Writing video /content/drive/MyDrive/gp/The Girl Who Believes in Miracles/clip/202.mp4\n"
          ]
        },
        {
          "name": "stderr",
          "output_type": "stream",
          "text": [
            "\n",
            "100%|██████████| 240/240 [00:02<00:00, 80.16it/s]\n"
          ]
        },
        {
          "name": "stdout",
          "output_type": "stream",
          "text": [
            "[MoviePy] Done.\n",
            "[MoviePy] >>>> Video ready: /content/drive/MyDrive/gp/The Girl Who Believes in Miracles/clip/202.mp4 \n",
            "\n",
            "202번째 클립 저장 완료\n",
            "[MoviePy] >>>> Building video /content/drive/MyDrive/gp/The Girl Who Believes in Miracles/clip/203.mp4\n",
            "[MoviePy] Writing audio in 203TEMP_MPY_wvf_snd.mp3\n"
          ]
        },
        {
          "name": "stderr",
          "output_type": "stream",
          "text": [
            "100%|██████████| 221/221 [00:00<00:00, 564.60it/s]"
          ]
        },
        {
          "name": "stdout",
          "output_type": "stream",
          "text": [
            "[MoviePy] Done.\n",
            "[MoviePy] Writing video /content/drive/MyDrive/gp/The Girl Who Believes in Miracles/clip/203.mp4\n"
          ]
        },
        {
          "name": "stderr",
          "output_type": "stream",
          "text": [
            "\n",
            "100%|██████████| 240/240 [00:02<00:00, 88.79it/s]\n"
          ]
        },
        {
          "name": "stdout",
          "output_type": "stream",
          "text": [
            "[MoviePy] Done.\n",
            "[MoviePy] >>>> Video ready: /content/drive/MyDrive/gp/The Girl Who Believes in Miracles/clip/203.mp4 \n",
            "\n",
            "203번째 클립 저장 완료\n",
            "[MoviePy] >>>> Building video /content/drive/MyDrive/gp/The Girl Who Believes in Miracles/clip/204.mp4\n",
            "[MoviePy] Writing audio in 204TEMP_MPY_wvf_snd.mp3\n"
          ]
        },
        {
          "name": "stderr",
          "output_type": "stream",
          "text": [
            "100%|██████████| 221/221 [00:00<00:00, 562.64it/s]"
          ]
        },
        {
          "name": "stdout",
          "output_type": "stream",
          "text": [
            "[MoviePy] Done.\n",
            "[MoviePy] Writing video /content/drive/MyDrive/gp/The Girl Who Believes in Miracles/clip/204.mp4\n"
          ]
        },
        {
          "name": "stderr",
          "output_type": "stream",
          "text": [
            "\n",
            "100%|██████████| 240/240 [00:02<00:00, 84.23it/s]\n"
          ]
        },
        {
          "name": "stdout",
          "output_type": "stream",
          "text": [
            "[MoviePy] Done.\n",
            "[MoviePy] >>>> Video ready: /content/drive/MyDrive/gp/The Girl Who Believes in Miracles/clip/204.mp4 \n",
            "\n",
            "204번째 클립 저장 완료\n",
            "[MoviePy] >>>> Building video /content/drive/MyDrive/gp/The Girl Who Believes in Miracles/clip/205.mp4\n",
            "[MoviePy] Writing audio in 205TEMP_MPY_wvf_snd.mp3\n"
          ]
        },
        {
          "name": "stderr",
          "output_type": "stream",
          "text": [
            "100%|██████████| 221/221 [00:00<00:00, 551.85it/s]"
          ]
        },
        {
          "name": "stdout",
          "output_type": "stream",
          "text": [
            "[MoviePy] Done.\n",
            "[MoviePy] Writing video /content/drive/MyDrive/gp/The Girl Who Believes in Miracles/clip/205.mp4\n"
          ]
        },
        {
          "name": "stderr",
          "output_type": "stream",
          "text": [
            "\n",
            "100%|██████████| 240/240 [00:03<00:00, 67.43it/s]\n"
          ]
        },
        {
          "name": "stdout",
          "output_type": "stream",
          "text": [
            "[MoviePy] Done.\n",
            "[MoviePy] >>>> Video ready: /content/drive/MyDrive/gp/The Girl Who Believes in Miracles/clip/205.mp4 \n",
            "\n",
            "205번째 클립 저장 완료\n",
            "[MoviePy] >>>> Building video /content/drive/MyDrive/gp/The Girl Who Believes in Miracles/clip/206.mp4\n",
            "[MoviePy] Writing audio in 206TEMP_MPY_wvf_snd.mp3\n"
          ]
        },
        {
          "name": "stderr",
          "output_type": "stream",
          "text": [
            "100%|██████████| 221/221 [00:00<00:00, 560.77it/s]"
          ]
        },
        {
          "name": "stdout",
          "output_type": "stream",
          "text": [
            "[MoviePy] Done.\n",
            "[MoviePy] Writing video /content/drive/MyDrive/gp/The Girl Who Believes in Miracles/clip/206.mp4\n"
          ]
        },
        {
          "name": "stderr",
          "output_type": "stream",
          "text": [
            "\n",
            "100%|██████████| 240/240 [00:03<00:00, 70.92it/s]\n"
          ]
        },
        {
          "name": "stdout",
          "output_type": "stream",
          "text": [
            "[MoviePy] Done.\n",
            "[MoviePy] >>>> Video ready: /content/drive/MyDrive/gp/The Girl Who Believes in Miracles/clip/206.mp4 \n",
            "\n",
            "206번째 클립 저장 완료\n",
            "[MoviePy] >>>> Building video /content/drive/MyDrive/gp/The Girl Who Believes in Miracles/clip/207.mp4\n",
            "[MoviePy] Writing audio in 207TEMP_MPY_wvf_snd.mp3\n"
          ]
        },
        {
          "name": "stderr",
          "output_type": "stream",
          "text": [
            "100%|██████████| 221/221 [00:00<00:00, 546.36it/s]"
          ]
        },
        {
          "name": "stdout",
          "output_type": "stream",
          "text": [
            "[MoviePy] Done.\n",
            "[MoviePy] Writing video /content/drive/MyDrive/gp/The Girl Who Believes in Miracles/clip/207.mp4\n"
          ]
        },
        {
          "name": "stderr",
          "output_type": "stream",
          "text": [
            "\n",
            "100%|██████████| 240/240 [00:03<00:00, 72.60it/s]\n"
          ]
        },
        {
          "name": "stdout",
          "output_type": "stream",
          "text": [
            "[MoviePy] Done.\n",
            "[MoviePy] >>>> Video ready: /content/drive/MyDrive/gp/The Girl Who Believes in Miracles/clip/207.mp4 \n",
            "\n",
            "207번째 클립 저장 완료\n",
            "[MoviePy] >>>> Building video /content/drive/MyDrive/gp/The Girl Who Believes in Miracles/clip/208.mp4\n",
            "[MoviePy] Writing audio in 208TEMP_MPY_wvf_snd.mp3\n"
          ]
        },
        {
          "name": "stderr",
          "output_type": "stream",
          "text": [
            "100%|██████████| 221/221 [00:00<00:00, 549.69it/s]"
          ]
        },
        {
          "name": "stdout",
          "output_type": "stream",
          "text": [
            "[MoviePy] Done.\n",
            "[MoviePy] Writing video /content/drive/MyDrive/gp/The Girl Who Believes in Miracles/clip/208.mp4\n"
          ]
        },
        {
          "name": "stderr",
          "output_type": "stream",
          "text": [
            "\n",
            "100%|██████████| 240/240 [00:03<00:00, 75.64it/s]\n"
          ]
        },
        {
          "name": "stdout",
          "output_type": "stream",
          "text": [
            "[MoviePy] Done.\n",
            "[MoviePy] >>>> Video ready: /content/drive/MyDrive/gp/The Girl Who Believes in Miracles/clip/208.mp4 \n",
            "\n",
            "208번째 클립 저장 완료\n",
            "[MoviePy] >>>> Building video /content/drive/MyDrive/gp/The Girl Who Believes in Miracles/clip/209.mp4\n",
            "[MoviePy] Writing audio in 209TEMP_MPY_wvf_snd.mp3\n"
          ]
        },
        {
          "name": "stderr",
          "output_type": "stream",
          "text": [
            "100%|██████████| 221/221 [00:00<00:00, 546.88it/s]"
          ]
        },
        {
          "name": "stdout",
          "output_type": "stream",
          "text": [
            "[MoviePy] Done.\n",
            "[MoviePy] Writing video /content/drive/MyDrive/gp/The Girl Who Believes in Miracles/clip/209.mp4\n"
          ]
        },
        {
          "name": "stderr",
          "output_type": "stream",
          "text": [
            "\n",
            "100%|██████████| 240/240 [00:03<00:00, 74.67it/s]\n"
          ]
        },
        {
          "name": "stdout",
          "output_type": "stream",
          "text": [
            "[MoviePy] Done.\n",
            "[MoviePy] >>>> Video ready: /content/drive/MyDrive/gp/The Girl Who Believes in Miracles/clip/209.mp4 \n",
            "\n",
            "209번째 클립 저장 완료\n",
            "[MoviePy] >>>> Building video /content/drive/MyDrive/gp/The Girl Who Believes in Miracles/clip/210.mp4\n",
            "[MoviePy] Writing audio in 210TEMP_MPY_wvf_snd.mp3\n"
          ]
        },
        {
          "name": "stderr",
          "output_type": "stream",
          "text": [
            "100%|██████████| 221/221 [00:00<00:00, 570.05it/s]"
          ]
        },
        {
          "name": "stdout",
          "output_type": "stream",
          "text": [
            "[MoviePy] Done.\n",
            "[MoviePy] Writing video /content/drive/MyDrive/gp/The Girl Who Believes in Miracles/clip/210.mp4\n"
          ]
        },
        {
          "name": "stderr",
          "output_type": "stream",
          "text": [
            "\n",
            "100%|██████████| 240/240 [00:03<00:00, 77.35it/s]\n"
          ]
        },
        {
          "name": "stdout",
          "output_type": "stream",
          "text": [
            "[MoviePy] Done.\n",
            "[MoviePy] >>>> Video ready: /content/drive/MyDrive/gp/The Girl Who Believes in Miracles/clip/210.mp4 \n",
            "\n",
            "210번째 클립 저장 완료\n",
            "[MoviePy] >>>> Building video /content/drive/MyDrive/gp/The Girl Who Believes in Miracles/clip/211.mp4\n",
            "[MoviePy] Writing audio in 211TEMP_MPY_wvf_snd.mp3\n"
          ]
        },
        {
          "name": "stderr",
          "output_type": "stream",
          "text": [
            "100%|██████████| 221/221 [00:00<00:00, 517.66it/s]"
          ]
        },
        {
          "name": "stdout",
          "output_type": "stream",
          "text": [
            "[MoviePy] Done.\n",
            "[MoviePy] Writing video /content/drive/MyDrive/gp/The Girl Who Believes in Miracles/clip/211.mp4\n"
          ]
        },
        {
          "name": "stderr",
          "output_type": "stream",
          "text": [
            "\n",
            "100%|██████████| 240/240 [00:03<00:00, 76.91it/s]\n"
          ]
        },
        {
          "name": "stdout",
          "output_type": "stream",
          "text": [
            "[MoviePy] Done.\n",
            "[MoviePy] >>>> Video ready: /content/drive/MyDrive/gp/The Girl Who Believes in Miracles/clip/211.mp4 \n",
            "\n",
            "211번째 클립 저장 완료\n",
            "[MoviePy] >>>> Building video /content/drive/MyDrive/gp/The Girl Who Believes in Miracles/clip/212.mp4\n",
            "[MoviePy] Writing audio in 212TEMP_MPY_wvf_snd.mp3\n"
          ]
        },
        {
          "name": "stderr",
          "output_type": "stream",
          "text": [
            "100%|██████████| 221/221 [00:00<00:00, 580.78it/s]"
          ]
        },
        {
          "name": "stdout",
          "output_type": "stream",
          "text": [
            "[MoviePy] Done.\n",
            "[MoviePy] Writing video /content/drive/MyDrive/gp/The Girl Who Believes in Miracles/clip/212.mp4\n"
          ]
        },
        {
          "name": "stderr",
          "output_type": "stream",
          "text": [
            "\n",
            "100%|██████████| 240/240 [00:02<00:00, 85.27it/s]\n"
          ]
        },
        {
          "name": "stdout",
          "output_type": "stream",
          "text": [
            "[MoviePy] Done.\n",
            "[MoviePy] >>>> Video ready: /content/drive/MyDrive/gp/The Girl Who Believes in Miracles/clip/212.mp4 \n",
            "\n",
            "212번째 클립 저장 완료\n",
            "[MoviePy] >>>> Building video /content/drive/MyDrive/gp/The Girl Who Believes in Miracles/clip/213.mp4\n",
            "[MoviePy] Writing audio in 213TEMP_MPY_wvf_snd.mp3\n"
          ]
        },
        {
          "name": "stderr",
          "output_type": "stream",
          "text": [
            "100%|██████████| 221/221 [00:00<00:00, 480.16it/s]"
          ]
        },
        {
          "name": "stdout",
          "output_type": "stream",
          "text": [
            "[MoviePy] Done.\n",
            "[MoviePy] Writing video /content/drive/MyDrive/gp/The Girl Who Believes in Miracles/clip/213.mp4\n"
          ]
        },
        {
          "name": "stderr",
          "output_type": "stream",
          "text": [
            "\n",
            "100%|██████████| 240/240 [00:02<00:00, 87.05it/s]\n"
          ]
        },
        {
          "name": "stdout",
          "output_type": "stream",
          "text": [
            "[MoviePy] Done.\n",
            "[MoviePy] >>>> Video ready: /content/drive/MyDrive/gp/The Girl Who Believes in Miracles/clip/213.mp4 \n",
            "\n",
            "213번째 클립 저장 완료\n",
            "[MoviePy] >>>> Building video /content/drive/MyDrive/gp/The Girl Who Believes in Miracles/clip/214.mp4\n",
            "[MoviePy] Writing audio in 214TEMP_MPY_wvf_snd.mp3\n"
          ]
        },
        {
          "name": "stderr",
          "output_type": "stream",
          "text": [
            "100%|██████████| 221/221 [00:00<00:00, 538.21it/s]"
          ]
        },
        {
          "name": "stdout",
          "output_type": "stream",
          "text": [
            "[MoviePy] Done.\n",
            "[MoviePy] Writing video /content/drive/MyDrive/gp/The Girl Who Believes in Miracles/clip/214.mp4\n"
          ]
        },
        {
          "name": "stderr",
          "output_type": "stream",
          "text": [
            "\n",
            "100%|██████████| 240/240 [00:02<00:00, 84.18it/s]\n"
          ]
        },
        {
          "name": "stdout",
          "output_type": "stream",
          "text": [
            "[MoviePy] Done.\n",
            "[MoviePy] >>>> Video ready: /content/drive/MyDrive/gp/The Girl Who Believes in Miracles/clip/214.mp4 \n",
            "\n",
            "214번째 클립 저장 완료\n",
            "[MoviePy] >>>> Building video /content/drive/MyDrive/gp/The Girl Who Believes in Miracles/clip/215.mp4\n",
            "[MoviePy] Writing audio in 215TEMP_MPY_wvf_snd.mp3\n"
          ]
        },
        {
          "name": "stderr",
          "output_type": "stream",
          "text": [
            "100%|██████████| 221/221 [00:00<00:00, 533.44it/s]"
          ]
        },
        {
          "name": "stdout",
          "output_type": "stream",
          "text": [
            "[MoviePy] Done.\n",
            "[MoviePy] Writing video /content/drive/MyDrive/gp/The Girl Who Believes in Miracles/clip/215.mp4\n"
          ]
        },
        {
          "name": "stderr",
          "output_type": "stream",
          "text": [
            "\n",
            "100%|██████████| 240/240 [00:02<00:00, 82.72it/s]\n"
          ]
        },
        {
          "name": "stdout",
          "output_type": "stream",
          "text": [
            "[MoviePy] Done.\n",
            "[MoviePy] >>>> Video ready: /content/drive/MyDrive/gp/The Girl Who Believes in Miracles/clip/215.mp4 \n",
            "\n",
            "215번째 클립 저장 완료\n",
            "[MoviePy] >>>> Building video /content/drive/MyDrive/gp/The Girl Who Believes in Miracles/clip/216.mp4\n",
            "[MoviePy] Writing audio in 216TEMP_MPY_wvf_snd.mp3\n"
          ]
        },
        {
          "name": "stderr",
          "output_type": "stream",
          "text": [
            "100%|██████████| 221/221 [00:00<00:00, 559.92it/s]"
          ]
        },
        {
          "name": "stdout",
          "output_type": "stream",
          "text": [
            "[MoviePy] Done.\n",
            "[MoviePy] Writing video /content/drive/MyDrive/gp/The Girl Who Believes in Miracles/clip/216.mp4\n"
          ]
        },
        {
          "name": "stderr",
          "output_type": "stream",
          "text": [
            "\n",
            "100%|██████████| 240/240 [00:02<00:00, 85.24it/s]\n"
          ]
        },
        {
          "name": "stdout",
          "output_type": "stream",
          "text": [
            "[MoviePy] Done.\n",
            "[MoviePy] >>>> Video ready: /content/drive/MyDrive/gp/The Girl Who Believes in Miracles/clip/216.mp4 \n",
            "\n",
            "216번째 클립 저장 완료\n",
            "[MoviePy] >>>> Building video /content/drive/MyDrive/gp/The Girl Who Believes in Miracles/clip/217.mp4\n",
            "[MoviePy] Writing audio in 217TEMP_MPY_wvf_snd.mp3\n"
          ]
        },
        {
          "name": "stderr",
          "output_type": "stream",
          "text": [
            "100%|██████████| 221/221 [00:00<00:00, 335.42it/s]"
          ]
        },
        {
          "name": "stdout",
          "output_type": "stream",
          "text": [
            "[MoviePy] Done.\n",
            "[MoviePy] Writing video /content/drive/MyDrive/gp/The Girl Who Believes in Miracles/clip/217.mp4\n"
          ]
        },
        {
          "name": "stderr",
          "output_type": "stream",
          "text": [
            "\n",
            "100%|██████████| 240/240 [00:06<00:00, 39.30it/s]\n"
          ]
        },
        {
          "name": "stdout",
          "output_type": "stream",
          "text": [
            "[MoviePy] Done.\n",
            "[MoviePy] >>>> Video ready: /content/drive/MyDrive/gp/The Girl Who Believes in Miracles/clip/217.mp4 \n",
            "\n",
            "217번째 클립 저장 완료\n",
            "[MoviePy] >>>> Building video /content/drive/MyDrive/gp/The Girl Who Believes in Miracles/clip/218.mp4\n",
            "[MoviePy] Writing audio in 218TEMP_MPY_wvf_snd.mp3\n"
          ]
        },
        {
          "name": "stderr",
          "output_type": "stream",
          "text": [
            "100%|██████████| 221/221 [00:00<00:00, 334.25it/s]"
          ]
        },
        {
          "name": "stdout",
          "output_type": "stream",
          "text": [
            "[MoviePy] Done.\n",
            "[MoviePy] Writing video /content/drive/MyDrive/gp/The Girl Who Believes in Miracles/clip/218.mp4\n"
          ]
        },
        {
          "name": "stderr",
          "output_type": "stream",
          "text": [
            "\n",
            "100%|██████████| 240/240 [00:06<00:00, 38.62it/s]\n"
          ]
        },
        {
          "name": "stdout",
          "output_type": "stream",
          "text": [
            "[MoviePy] Done.\n",
            "[MoviePy] >>>> Video ready: /content/drive/MyDrive/gp/The Girl Who Believes in Miracles/clip/218.mp4 \n",
            "\n",
            "218번째 클립 저장 완료\n",
            "[MoviePy] >>>> Building video /content/drive/MyDrive/gp/The Girl Who Believes in Miracles/clip/219.mp4\n",
            "[MoviePy] Writing audio in 219TEMP_MPY_wvf_snd.mp3\n"
          ]
        },
        {
          "name": "stderr",
          "output_type": "stream",
          "text": [
            "100%|██████████| 221/221 [00:00<00:00, 381.63it/s]"
          ]
        },
        {
          "name": "stdout",
          "output_type": "stream",
          "text": [
            "[MoviePy] Done.\n",
            "[MoviePy] Writing video /content/drive/MyDrive/gp/The Girl Who Believes in Miracles/clip/219.mp4\n"
          ]
        },
        {
          "name": "stderr",
          "output_type": "stream",
          "text": [
            "\n",
            "100%|██████████| 240/240 [00:05<00:00, 41.73it/s]\n"
          ]
        },
        {
          "name": "stdout",
          "output_type": "stream",
          "text": [
            "[MoviePy] Done.\n",
            "[MoviePy] >>>> Video ready: /content/drive/MyDrive/gp/The Girl Who Believes in Miracles/clip/219.mp4 \n",
            "\n",
            "219번째 클립 저장 완료\n",
            "[MoviePy] >>>> Building video /content/drive/MyDrive/gp/The Girl Who Believes in Miracles/clip/220.mp4\n",
            "[MoviePy] Writing audio in 220TEMP_MPY_wvf_snd.mp3\n"
          ]
        },
        {
          "name": "stderr",
          "output_type": "stream",
          "text": [
            "100%|██████████| 221/221 [00:00<00:00, 552.26it/s]"
          ]
        },
        {
          "name": "stdout",
          "output_type": "stream",
          "text": [
            "[MoviePy] Done.\n",
            "[MoviePy] Writing video /content/drive/MyDrive/gp/The Girl Who Believes in Miracles/clip/220.mp4\n"
          ]
        },
        {
          "name": "stderr",
          "output_type": "stream",
          "text": [
            "\n",
            "100%|██████████| 240/240 [00:03<00:00, 77.00it/s]\n"
          ]
        },
        {
          "name": "stdout",
          "output_type": "stream",
          "text": [
            "[MoviePy] Done.\n",
            "[MoviePy] >>>> Video ready: /content/drive/MyDrive/gp/The Girl Who Believes in Miracles/clip/220.mp4 \n",
            "\n",
            "220번째 클립 저장 완료\n",
            "[MoviePy] >>>> Building video /content/drive/MyDrive/gp/The Girl Who Believes in Miracles/clip/221.mp4\n",
            "[MoviePy] Writing audio in 221TEMP_MPY_wvf_snd.mp3\n"
          ]
        },
        {
          "name": "stderr",
          "output_type": "stream",
          "text": [
            "100%|██████████| 221/221 [00:00<00:00, 571.50it/s]"
          ]
        },
        {
          "name": "stdout",
          "output_type": "stream",
          "text": [
            "[MoviePy] Done.\n",
            "[MoviePy] Writing video /content/drive/MyDrive/gp/The Girl Who Believes in Miracles/clip/221.mp4\n"
          ]
        },
        {
          "name": "stderr",
          "output_type": "stream",
          "text": [
            "\n",
            "100%|██████████| 240/240 [00:03<00:00, 75.91it/s]\n"
          ]
        },
        {
          "name": "stdout",
          "output_type": "stream",
          "text": [
            "[MoviePy] Done.\n",
            "[MoviePy] >>>> Video ready: /content/drive/MyDrive/gp/The Girl Who Believes in Miracles/clip/221.mp4 \n",
            "\n",
            "221번째 클립 저장 완료\n",
            "[MoviePy] >>>> Building video /content/drive/MyDrive/gp/The Girl Who Believes in Miracles/clip/222.mp4\n",
            "[MoviePy] Writing audio in 222TEMP_MPY_wvf_snd.mp3\n"
          ]
        },
        {
          "name": "stderr",
          "output_type": "stream",
          "text": [
            "100%|██████████| 221/221 [00:00<00:00, 553.12it/s]"
          ]
        },
        {
          "name": "stdout",
          "output_type": "stream",
          "text": [
            "[MoviePy] Done.\n",
            "[MoviePy] Writing video /content/drive/MyDrive/gp/The Girl Who Believes in Miracles/clip/222.mp4\n"
          ]
        },
        {
          "name": "stderr",
          "output_type": "stream",
          "text": [
            "\n",
            "100%|██████████| 240/240 [00:03<00:00, 64.60it/s]\n"
          ]
        },
        {
          "name": "stdout",
          "output_type": "stream",
          "text": [
            "[MoviePy] Done.\n",
            "[MoviePy] >>>> Video ready: /content/drive/MyDrive/gp/The Girl Who Believes in Miracles/clip/222.mp4 \n",
            "\n",
            "222번째 클립 저장 완료\n",
            "[MoviePy] >>>> Building video /content/drive/MyDrive/gp/The Girl Who Believes in Miracles/clip/223.mp4\n",
            "[MoviePy] Writing audio in 223TEMP_MPY_wvf_snd.mp3\n"
          ]
        },
        {
          "name": "stderr",
          "output_type": "stream",
          "text": [
            "100%|██████████| 221/221 [00:00<00:00, 553.06it/s]"
          ]
        },
        {
          "name": "stdout",
          "output_type": "stream",
          "text": [
            "[MoviePy] Done.\n",
            "[MoviePy] Writing video /content/drive/MyDrive/gp/The Girl Who Believes in Miracles/clip/223.mp4\n"
          ]
        },
        {
          "name": "stderr",
          "output_type": "stream",
          "text": [
            "\n",
            "100%|██████████| 240/240 [00:03<00:00, 78.14it/s]\n"
          ]
        },
        {
          "name": "stdout",
          "output_type": "stream",
          "text": [
            "[MoviePy] Done.\n",
            "[MoviePy] >>>> Video ready: /content/drive/MyDrive/gp/The Girl Who Believes in Miracles/clip/223.mp4 \n",
            "\n",
            "223번째 클립 저장 완료\n",
            "[MoviePy] >>>> Building video /content/drive/MyDrive/gp/The Girl Who Believes in Miracles/clip/224.mp4\n",
            "[MoviePy] Writing audio in 224TEMP_MPY_wvf_snd.mp3\n"
          ]
        },
        {
          "name": "stderr",
          "output_type": "stream",
          "text": [
            "100%|██████████| 221/221 [00:00<00:00, 557.37it/s]"
          ]
        },
        {
          "name": "stdout",
          "output_type": "stream",
          "text": [
            "[MoviePy] Done.\n",
            "[MoviePy] Writing video /content/drive/MyDrive/gp/The Girl Who Believes in Miracles/clip/224.mp4\n"
          ]
        },
        {
          "name": "stderr",
          "output_type": "stream",
          "text": [
            "\n",
            "100%|██████████| 240/240 [00:03<00:00, 76.08it/s]\n"
          ]
        },
        {
          "name": "stdout",
          "output_type": "stream",
          "text": [
            "[MoviePy] Done.\n",
            "[MoviePy] >>>> Video ready: /content/drive/MyDrive/gp/The Girl Who Believes in Miracles/clip/224.mp4 \n",
            "\n",
            "224번째 클립 저장 완료\n",
            "[MoviePy] >>>> Building video /content/drive/MyDrive/gp/The Girl Who Believes in Miracles/clip/225.mp4\n",
            "[MoviePy] Writing audio in 225TEMP_MPY_wvf_snd.mp3\n"
          ]
        },
        {
          "name": "stderr",
          "output_type": "stream",
          "text": [
            "100%|██████████| 221/221 [00:00<00:00, 557.10it/s]"
          ]
        },
        {
          "name": "stdout",
          "output_type": "stream",
          "text": [
            "[MoviePy] Done.\n",
            "[MoviePy] Writing video /content/drive/MyDrive/gp/The Girl Who Believes in Miracles/clip/225.mp4\n"
          ]
        },
        {
          "name": "stderr",
          "output_type": "stream",
          "text": [
            "\n",
            "100%|██████████| 240/240 [00:02<00:00, 82.28it/s]\n"
          ]
        },
        {
          "name": "stdout",
          "output_type": "stream",
          "text": [
            "[MoviePy] Done.\n",
            "[MoviePy] >>>> Video ready: /content/drive/MyDrive/gp/The Girl Who Believes in Miracles/clip/225.mp4 \n",
            "\n",
            "225번째 클립 저장 완료\n",
            "[MoviePy] >>>> Building video /content/drive/MyDrive/gp/The Girl Who Believes in Miracles/clip/226.mp4\n",
            "[MoviePy] Writing audio in 226TEMP_MPY_wvf_snd.mp3\n"
          ]
        },
        {
          "name": "stderr",
          "output_type": "stream",
          "text": [
            "100%|██████████| 221/221 [00:00<00:00, 559.64it/s]"
          ]
        },
        {
          "name": "stdout",
          "output_type": "stream",
          "text": [
            "[MoviePy] Done.\n",
            "[MoviePy] Writing video /content/drive/MyDrive/gp/The Girl Who Believes in Miracles/clip/226.mp4\n"
          ]
        },
        {
          "name": "stderr",
          "output_type": "stream",
          "text": [
            "\n",
            "100%|██████████| 240/240 [00:02<00:00, 83.51it/s]\n"
          ]
        },
        {
          "name": "stdout",
          "output_type": "stream",
          "text": [
            "[MoviePy] Done.\n",
            "[MoviePy] >>>> Video ready: /content/drive/MyDrive/gp/The Girl Who Believes in Miracles/clip/226.mp4 \n",
            "\n",
            "226번째 클립 저장 완료\n",
            "[MoviePy] >>>> Building video /content/drive/MyDrive/gp/The Girl Who Believes in Miracles/clip/227.mp4\n",
            "[MoviePy] Writing audio in 227TEMP_MPY_wvf_snd.mp3\n"
          ]
        },
        {
          "name": "stderr",
          "output_type": "stream",
          "text": [
            "100%|██████████| 221/221 [00:00<00:00, 539.95it/s]"
          ]
        },
        {
          "name": "stdout",
          "output_type": "stream",
          "text": [
            "[MoviePy] Done.\n",
            "[MoviePy] Writing video /content/drive/MyDrive/gp/The Girl Who Believes in Miracles/clip/227.mp4\n"
          ]
        },
        {
          "name": "stderr",
          "output_type": "stream",
          "text": [
            "\n",
            "100%|██████████| 240/240 [00:03<00:00, 61.32it/s]\n"
          ]
        },
        {
          "name": "stdout",
          "output_type": "stream",
          "text": [
            "[MoviePy] Done.\n",
            "[MoviePy] >>>> Video ready: /content/drive/MyDrive/gp/The Girl Who Believes in Miracles/clip/227.mp4 \n",
            "\n",
            "227번째 클립 저장 완료\n",
            "[MoviePy] >>>> Building video /content/drive/MyDrive/gp/The Girl Who Believes in Miracles/clip/228.mp4\n",
            "[MoviePy] Writing audio in 228TEMP_MPY_wvf_snd.mp3\n"
          ]
        },
        {
          "name": "stderr",
          "output_type": "stream",
          "text": [
            "100%|██████████| 221/221 [00:00<00:00, 529.37it/s]"
          ]
        },
        {
          "name": "stdout",
          "output_type": "stream",
          "text": [
            "[MoviePy] Done.\n",
            "[MoviePy] Writing video /content/drive/MyDrive/gp/The Girl Who Believes in Miracles/clip/228.mp4\n"
          ]
        },
        {
          "name": "stderr",
          "output_type": "stream",
          "text": [
            "\n",
            "100%|██████████| 240/240 [00:03<00:00, 64.13it/s]\n"
          ]
        },
        {
          "name": "stdout",
          "output_type": "stream",
          "text": [
            "[MoviePy] Done.\n",
            "[MoviePy] >>>> Video ready: /content/drive/MyDrive/gp/The Girl Who Believes in Miracles/clip/228.mp4 \n",
            "\n",
            "228번째 클립 저장 완료\n",
            "[MoviePy] >>>> Building video /content/drive/MyDrive/gp/The Girl Who Believes in Miracles/clip/229.mp4\n",
            "[MoviePy] Writing audio in 229TEMP_MPY_wvf_snd.mp3\n"
          ]
        },
        {
          "name": "stderr",
          "output_type": "stream",
          "text": [
            "100%|██████████| 221/221 [00:00<00:00, 541.12it/s]"
          ]
        },
        {
          "name": "stdout",
          "output_type": "stream",
          "text": [
            "[MoviePy] Done.\n",
            "[MoviePy] Writing video /content/drive/MyDrive/gp/The Girl Who Believes in Miracles/clip/229.mp4\n"
          ]
        },
        {
          "name": "stderr",
          "output_type": "stream",
          "text": [
            "\n",
            "100%|██████████| 240/240 [00:03<00:00, 79.86it/s]\n"
          ]
        },
        {
          "name": "stdout",
          "output_type": "stream",
          "text": [
            "[MoviePy] Done.\n",
            "[MoviePy] >>>> Video ready: /content/drive/MyDrive/gp/The Girl Who Believes in Miracles/clip/229.mp4 \n",
            "\n",
            "229번째 클립 저장 완료\n",
            "[MoviePy] >>>> Building video /content/drive/MyDrive/gp/The Girl Who Believes in Miracles/clip/230.mp4\n",
            "[MoviePy] Writing audio in 230TEMP_MPY_wvf_snd.mp3\n"
          ]
        },
        {
          "name": "stderr",
          "output_type": "stream",
          "text": [
            "100%|██████████| 221/221 [00:00<00:00, 508.50it/s]"
          ]
        },
        {
          "name": "stdout",
          "output_type": "stream",
          "text": [
            "[MoviePy] Done.\n",
            "[MoviePy] Writing video /content/drive/MyDrive/gp/The Girl Who Believes in Miracles/clip/230.mp4\n"
          ]
        },
        {
          "name": "stderr",
          "output_type": "stream",
          "text": [
            "\n",
            "100%|██████████| 240/240 [00:03<00:00, 72.92it/s]\n"
          ]
        },
        {
          "name": "stdout",
          "output_type": "stream",
          "text": [
            "[MoviePy] Done.\n",
            "[MoviePy] >>>> Video ready: /content/drive/MyDrive/gp/The Girl Who Believes in Miracles/clip/230.mp4 \n",
            "\n",
            "230번째 클립 저장 완료\n",
            "[MoviePy] >>>> Building video /content/drive/MyDrive/gp/The Girl Who Believes in Miracles/clip/231.mp4\n",
            "[MoviePy] Writing audio in 231TEMP_MPY_wvf_snd.mp3\n"
          ]
        },
        {
          "name": "stderr",
          "output_type": "stream",
          "text": [
            "100%|██████████| 221/221 [00:00<00:00, 542.73it/s]"
          ]
        },
        {
          "name": "stdout",
          "output_type": "stream",
          "text": [
            "[MoviePy] Done.\n",
            "[MoviePy] Writing video /content/drive/MyDrive/gp/The Girl Who Believes in Miracles/clip/231.mp4\n"
          ]
        },
        {
          "name": "stderr",
          "output_type": "stream",
          "text": [
            "\n",
            "100%|██████████| 240/240 [00:03<00:00, 79.78it/s]\n"
          ]
        },
        {
          "name": "stdout",
          "output_type": "stream",
          "text": [
            "[MoviePy] Done.\n",
            "[MoviePy] >>>> Video ready: /content/drive/MyDrive/gp/The Girl Who Believes in Miracles/clip/231.mp4 \n",
            "\n",
            "231번째 클립 저장 완료\n",
            "[MoviePy] >>>> Building video /content/drive/MyDrive/gp/The Girl Who Believes in Miracles/clip/232.mp4\n",
            "[MoviePy] Writing audio in 232TEMP_MPY_wvf_snd.mp3\n"
          ]
        },
        {
          "name": "stderr",
          "output_type": "stream",
          "text": [
            "100%|██████████| 221/221 [00:00<00:00, 525.14it/s]"
          ]
        },
        {
          "name": "stdout",
          "output_type": "stream",
          "text": [
            "[MoviePy] Done.\n",
            "[MoviePy] Writing video /content/drive/MyDrive/gp/The Girl Who Believes in Miracles/clip/232.mp4\n"
          ]
        },
        {
          "name": "stderr",
          "output_type": "stream",
          "text": [
            "\n",
            "100%|██████████| 240/240 [00:03<00:00, 71.32it/s]\n"
          ]
        },
        {
          "name": "stdout",
          "output_type": "stream",
          "text": [
            "[MoviePy] Done.\n",
            "[MoviePy] >>>> Video ready: /content/drive/MyDrive/gp/The Girl Who Believes in Miracles/clip/232.mp4 \n",
            "\n",
            "232번째 클립 저장 완료\n",
            "[MoviePy] >>>> Building video /content/drive/MyDrive/gp/The Girl Who Believes in Miracles/clip/233.mp4\n",
            "[MoviePy] Writing audio in 233TEMP_MPY_wvf_snd.mp3\n"
          ]
        },
        {
          "name": "stderr",
          "output_type": "stream",
          "text": [
            "100%|██████████| 221/221 [00:00<00:00, 253.23it/s]\n"
          ]
        },
        {
          "name": "stdout",
          "output_type": "stream",
          "text": [
            "[MoviePy] Done.\n",
            "[MoviePy] Writing video /content/drive/MyDrive/gp/The Girl Who Believes in Miracles/clip/233.mp4\n"
          ]
        },
        {
          "name": "stderr",
          "output_type": "stream",
          "text": [
            "100%|██████████| 240/240 [00:03<00:00, 62.05it/s]\n"
          ]
        },
        {
          "name": "stdout",
          "output_type": "stream",
          "text": [
            "[MoviePy] Done.\n",
            "[MoviePy] >>>> Video ready: /content/drive/MyDrive/gp/The Girl Who Believes in Miracles/clip/233.mp4 \n",
            "\n",
            "233번째 클립 저장 완료\n",
            "[MoviePy] >>>> Building video /content/drive/MyDrive/gp/The Girl Who Believes in Miracles/clip/234.mp4\n",
            "[MoviePy] Writing audio in 234TEMP_MPY_wvf_snd.mp3\n"
          ]
        },
        {
          "name": "stderr",
          "output_type": "stream",
          "text": [
            "100%|██████████| 221/221 [00:00<00:00, 337.12it/s]\n"
          ]
        },
        {
          "name": "stdout",
          "output_type": "stream",
          "text": [
            "[MoviePy] Done.\n",
            "[MoviePy] Writing video /content/drive/MyDrive/gp/The Girl Who Believes in Miracles/clip/234.mp4\n"
          ]
        },
        {
          "name": "stderr",
          "output_type": "stream",
          "text": [
            "100%|██████████| 240/240 [00:03<00:00, 67.25it/s]\n"
          ]
        },
        {
          "name": "stdout",
          "output_type": "stream",
          "text": [
            "[MoviePy] Done.\n",
            "[MoviePy] >>>> Video ready: /content/drive/MyDrive/gp/The Girl Who Believes in Miracles/clip/234.mp4 \n",
            "\n",
            "234번째 클립 저장 완료\n",
            "[MoviePy] >>>> Building video /content/drive/MyDrive/gp/The Girl Who Believes in Miracles/clip/235.mp4\n",
            "[MoviePy] Writing audio in 235TEMP_MPY_wvf_snd.mp3\n"
          ]
        },
        {
          "name": "stderr",
          "output_type": "stream",
          "text": [
            "100%|██████████| 221/221 [00:00<00:00, 498.08it/s]"
          ]
        },
        {
          "name": "stdout",
          "output_type": "stream",
          "text": [
            "[MoviePy] Done.\n",
            "[MoviePy] Writing video /content/drive/MyDrive/gp/The Girl Who Believes in Miracles/clip/235.mp4\n"
          ]
        },
        {
          "name": "stderr",
          "output_type": "stream",
          "text": [
            "\n",
            "100%|██████████| 240/240 [00:03<00:00, 69.49it/s]\n"
          ]
        },
        {
          "name": "stdout",
          "output_type": "stream",
          "text": [
            "[MoviePy] Done.\n",
            "[MoviePy] >>>> Video ready: /content/drive/MyDrive/gp/The Girl Who Believes in Miracles/clip/235.mp4 \n",
            "\n",
            "235번째 클립 저장 완료\n",
            "[MoviePy] >>>> Building video /content/drive/MyDrive/gp/The Girl Who Believes in Miracles/clip/236.mp4\n",
            "[MoviePy] Writing audio in 236TEMP_MPY_wvf_snd.mp3\n"
          ]
        },
        {
          "name": "stderr",
          "output_type": "stream",
          "text": [
            "100%|██████████| 221/221 [00:00<00:00, 544.03it/s]"
          ]
        },
        {
          "name": "stdout",
          "output_type": "stream",
          "text": [
            "[MoviePy] Done.\n",
            "[MoviePy] Writing video /content/drive/MyDrive/gp/The Girl Who Believes in Miracles/clip/236.mp4\n"
          ]
        },
        {
          "name": "stderr",
          "output_type": "stream",
          "text": [
            "\n",
            "100%|██████████| 240/240 [00:03<00:00, 68.94it/s]\n"
          ]
        },
        {
          "name": "stdout",
          "output_type": "stream",
          "text": [
            "[MoviePy] Done.\n",
            "[MoviePy] >>>> Video ready: /content/drive/MyDrive/gp/The Girl Who Believes in Miracles/clip/236.mp4 \n",
            "\n",
            "236번째 클립 저장 완료\n",
            "[MoviePy] >>>> Building video /content/drive/MyDrive/gp/The Girl Who Believes in Miracles/clip/237.mp4\n",
            "[MoviePy] Writing audio in 237TEMP_MPY_wvf_snd.mp3\n"
          ]
        },
        {
          "name": "stderr",
          "output_type": "stream",
          "text": [
            "100%|██████████| 221/221 [00:00<00:00, 532.43it/s]"
          ]
        },
        {
          "name": "stdout",
          "output_type": "stream",
          "text": [
            "[MoviePy] Done.\n",
            "[MoviePy] Writing video /content/drive/MyDrive/gp/The Girl Who Believes in Miracles/clip/237.mp4\n"
          ]
        },
        {
          "name": "stderr",
          "output_type": "stream",
          "text": [
            "\n",
            "100%|██████████| 240/240 [00:03<00:00, 66.03it/s]\n"
          ]
        },
        {
          "name": "stdout",
          "output_type": "stream",
          "text": [
            "[MoviePy] Done.\n",
            "[MoviePy] >>>> Video ready: /content/drive/MyDrive/gp/The Girl Who Believes in Miracles/clip/237.mp4 \n",
            "\n",
            "237번째 클립 저장 완료\n",
            "[MoviePy] >>>> Building video /content/drive/MyDrive/gp/The Girl Who Believes in Miracles/clip/238.mp4\n",
            "[MoviePy] Writing audio in 238TEMP_MPY_wvf_snd.mp3\n"
          ]
        },
        {
          "name": "stderr",
          "output_type": "stream",
          "text": [
            "100%|██████████| 221/221 [00:00<00:00, 556.51it/s]"
          ]
        },
        {
          "name": "stdout",
          "output_type": "stream",
          "text": [
            "[MoviePy] Done.\n",
            "[MoviePy] Writing video /content/drive/MyDrive/gp/The Girl Who Believes in Miracles/clip/238.mp4\n"
          ]
        },
        {
          "name": "stderr",
          "output_type": "stream",
          "text": [
            "\n",
            "100%|██████████| 240/240 [00:03<00:00, 75.62it/s]\n"
          ]
        },
        {
          "name": "stdout",
          "output_type": "stream",
          "text": [
            "[MoviePy] Done.\n",
            "[MoviePy] >>>> Video ready: /content/drive/MyDrive/gp/The Girl Who Believes in Miracles/clip/238.mp4 \n",
            "\n",
            "238번째 클립 저장 완료\n",
            "[MoviePy] >>>> Building video /content/drive/MyDrive/gp/The Girl Who Believes in Miracles/clip/239.mp4\n",
            "[MoviePy] Writing audio in 239TEMP_MPY_wvf_snd.mp3\n"
          ]
        },
        {
          "name": "stderr",
          "output_type": "stream",
          "text": [
            "100%|██████████| 221/221 [00:00<00:00, 548.07it/s]"
          ]
        },
        {
          "name": "stdout",
          "output_type": "stream",
          "text": [
            "[MoviePy] Done.\n",
            "[MoviePy] Writing video /content/drive/MyDrive/gp/The Girl Who Believes in Miracles/clip/239.mp4\n"
          ]
        },
        {
          "name": "stderr",
          "output_type": "stream",
          "text": [
            "\n",
            "100%|██████████| 240/240 [00:03<00:00, 67.58it/s]\n"
          ]
        },
        {
          "name": "stdout",
          "output_type": "stream",
          "text": [
            "[MoviePy] Done.\n",
            "[MoviePy] >>>> Video ready: /content/drive/MyDrive/gp/The Girl Who Believes in Miracles/clip/239.mp4 \n",
            "\n",
            "239번째 클립 저장 완료\n",
            "[MoviePy] >>>> Building video /content/drive/MyDrive/gp/The Girl Who Believes in Miracles/clip/240.mp4\n",
            "[MoviePy] Writing audio in 240TEMP_MPY_wvf_snd.mp3\n"
          ]
        },
        {
          "name": "stderr",
          "output_type": "stream",
          "text": [
            "100%|██████████| 221/221 [00:00<00:00, 528.84it/s]"
          ]
        },
        {
          "name": "stdout",
          "output_type": "stream",
          "text": [
            "[MoviePy] Done.\n",
            "[MoviePy] Writing video /content/drive/MyDrive/gp/The Girl Who Believes in Miracles/clip/240.mp4\n"
          ]
        },
        {
          "name": "stderr",
          "output_type": "stream",
          "text": [
            "\n",
            "100%|██████████| 240/240 [00:06<00:00, 39.79it/s]\n"
          ]
        },
        {
          "name": "stdout",
          "output_type": "stream",
          "text": [
            "[MoviePy] Done.\n",
            "[MoviePy] >>>> Video ready: /content/drive/MyDrive/gp/The Girl Who Believes in Miracles/clip/240.mp4 \n",
            "\n",
            "240번째 클립 저장 완료\n",
            "[MoviePy] >>>> Building video /content/drive/MyDrive/gp/The Girl Who Believes in Miracles/clip/241.mp4\n",
            "[MoviePy] Writing audio in 241TEMP_MPY_wvf_snd.mp3\n"
          ]
        },
        {
          "name": "stderr",
          "output_type": "stream",
          "text": [
            "100%|██████████| 221/221 [00:00<00:00, 322.81it/s]"
          ]
        },
        {
          "name": "stdout",
          "output_type": "stream",
          "text": [
            "[MoviePy] Done.\n",
            "[MoviePy] Writing video /content/drive/MyDrive/gp/The Girl Who Believes in Miracles/clip/241.mp4\n"
          ]
        },
        {
          "name": "stderr",
          "output_type": "stream",
          "text": [
            "\n",
            "100%|██████████| 240/240 [00:06<00:00, 38.97it/s]\n"
          ]
        },
        {
          "name": "stdout",
          "output_type": "stream",
          "text": [
            "[MoviePy] Done.\n",
            "[MoviePy] >>>> Video ready: /content/drive/MyDrive/gp/The Girl Who Believes in Miracles/clip/241.mp4 \n",
            "\n",
            "241번째 클립 저장 완료\n",
            "[MoviePy] >>>> Building video /content/drive/MyDrive/gp/The Girl Who Believes in Miracles/clip/242.mp4\n",
            "[MoviePy] Writing audio in 242TEMP_MPY_wvf_snd.mp3\n"
          ]
        },
        {
          "name": "stderr",
          "output_type": "stream",
          "text": [
            "100%|██████████| 221/221 [00:00<00:00, 560.01it/s]"
          ]
        },
        {
          "name": "stdout",
          "output_type": "stream",
          "text": [
            "[MoviePy] Done.\n",
            "[MoviePy] Writing video /content/drive/MyDrive/gp/The Girl Who Believes in Miracles/clip/242.mp4\n"
          ]
        },
        {
          "name": "stderr",
          "output_type": "stream",
          "text": [
            "\n",
            "100%|██████████| 240/240 [00:03<00:00, 66.88it/s]\n"
          ]
        },
        {
          "name": "stdout",
          "output_type": "stream",
          "text": [
            "[MoviePy] Done.\n",
            "[MoviePy] >>>> Video ready: /content/drive/MyDrive/gp/The Girl Who Believes in Miracles/clip/242.mp4 \n",
            "\n",
            "242번째 클립 저장 완료\n",
            "[MoviePy] >>>> Building video /content/drive/MyDrive/gp/The Girl Who Believes in Miracles/clip/243.mp4\n",
            "[MoviePy] Writing audio in 243TEMP_MPY_wvf_snd.mp3\n"
          ]
        },
        {
          "name": "stderr",
          "output_type": "stream",
          "text": [
            "100%|██████████| 221/221 [00:00<00:00, 531.71it/s]"
          ]
        },
        {
          "name": "stdout",
          "output_type": "stream",
          "text": [
            "[MoviePy] Done.\n",
            "[MoviePy] Writing video /content/drive/MyDrive/gp/The Girl Who Believes in Miracles/clip/243.mp4\n"
          ]
        },
        {
          "name": "stderr",
          "output_type": "stream",
          "text": [
            "\n",
            "100%|██████████| 240/240 [00:03<00:00, 73.63it/s]\n"
          ]
        },
        {
          "name": "stdout",
          "output_type": "stream",
          "text": [
            "[MoviePy] Done.\n",
            "[MoviePy] >>>> Video ready: /content/drive/MyDrive/gp/The Girl Who Believes in Miracles/clip/243.mp4 \n",
            "\n",
            "243번째 클립 저장 완료\n",
            "[MoviePy] >>>> Building video /content/drive/MyDrive/gp/The Girl Who Believes in Miracles/clip/244.mp4\n",
            "[MoviePy] Writing audio in 244TEMP_MPY_wvf_snd.mp3\n"
          ]
        },
        {
          "name": "stderr",
          "output_type": "stream",
          "text": [
            "100%|██████████| 221/221 [00:00<00:00, 535.13it/s]"
          ]
        },
        {
          "name": "stdout",
          "output_type": "stream",
          "text": [
            "[MoviePy] Done.\n",
            "[MoviePy] Writing video /content/drive/MyDrive/gp/The Girl Who Believes in Miracles/clip/244.mp4\n"
          ]
        },
        {
          "name": "stderr",
          "output_type": "stream",
          "text": [
            "\n",
            "100%|██████████| 240/240 [00:03<00:00, 69.61it/s]\n"
          ]
        },
        {
          "name": "stdout",
          "output_type": "stream",
          "text": [
            "[MoviePy] Done.\n",
            "[MoviePy] >>>> Video ready: /content/drive/MyDrive/gp/The Girl Who Believes in Miracles/clip/244.mp4 \n",
            "\n",
            "244번째 클립 저장 완료\n",
            "[MoviePy] >>>> Building video /content/drive/MyDrive/gp/The Girl Who Believes in Miracles/clip/245.mp4\n",
            "[MoviePy] Writing audio in 245TEMP_MPY_wvf_snd.mp3\n"
          ]
        },
        {
          "name": "stderr",
          "output_type": "stream",
          "text": [
            "100%|██████████| 221/221 [00:00<00:00, 527.46it/s]"
          ]
        },
        {
          "name": "stdout",
          "output_type": "stream",
          "text": [
            "[MoviePy] Done.\n",
            "[MoviePy] Writing video /content/drive/MyDrive/gp/The Girl Who Believes in Miracles/clip/245.mp4\n"
          ]
        },
        {
          "name": "stderr",
          "output_type": "stream",
          "text": [
            "\n",
            "100%|██████████| 240/240 [00:03<00:00, 65.77it/s]\n"
          ]
        },
        {
          "name": "stdout",
          "output_type": "stream",
          "text": [
            "[MoviePy] Done.\n",
            "[MoviePy] >>>> Video ready: /content/drive/MyDrive/gp/The Girl Who Believes in Miracles/clip/245.mp4 \n",
            "\n",
            "245번째 클립 저장 완료\n",
            "[MoviePy] >>>> Building video /content/drive/MyDrive/gp/The Girl Who Believes in Miracles/clip/246.mp4\n",
            "[MoviePy] Writing audio in 246TEMP_MPY_wvf_snd.mp3\n"
          ]
        },
        {
          "name": "stderr",
          "output_type": "stream",
          "text": [
            "100%|██████████| 221/221 [00:00<00:00, 545.65it/s]"
          ]
        },
        {
          "name": "stdout",
          "output_type": "stream",
          "text": [
            "[MoviePy] Done.\n",
            "[MoviePy] Writing video /content/drive/MyDrive/gp/The Girl Who Believes in Miracles/clip/246.mp4\n"
          ]
        },
        {
          "name": "stderr",
          "output_type": "stream",
          "text": [
            "\n",
            "100%|██████████| 240/240 [00:03<00:00, 63.59it/s]\n"
          ]
        },
        {
          "name": "stdout",
          "output_type": "stream",
          "text": [
            "[MoviePy] Done.\n",
            "[MoviePy] >>>> Video ready: /content/drive/MyDrive/gp/The Girl Who Believes in Miracles/clip/246.mp4 \n",
            "\n",
            "246번째 클립 저장 완료\n",
            "[MoviePy] >>>> Building video /content/drive/MyDrive/gp/The Girl Who Believes in Miracles/clip/247.mp4\n",
            "[MoviePy] Writing audio in 247TEMP_MPY_wvf_snd.mp3\n"
          ]
        },
        {
          "name": "stderr",
          "output_type": "stream",
          "text": [
            "100%|██████████| 221/221 [00:00<00:00, 541.79it/s]"
          ]
        },
        {
          "name": "stdout",
          "output_type": "stream",
          "text": [
            "[MoviePy] Done.\n",
            "[MoviePy] Writing video /content/drive/MyDrive/gp/The Girl Who Believes in Miracles/clip/247.mp4\n"
          ]
        },
        {
          "name": "stderr",
          "output_type": "stream",
          "text": [
            "\n",
            "100%|██████████| 240/240 [00:03<00:00, 65.76it/s]\n"
          ]
        },
        {
          "name": "stdout",
          "output_type": "stream",
          "text": [
            "[MoviePy] Done.\n",
            "[MoviePy] >>>> Video ready: /content/drive/MyDrive/gp/The Girl Who Believes in Miracles/clip/247.mp4 \n",
            "\n",
            "247번째 클립 저장 완료\n",
            "[MoviePy] >>>> Building video /content/drive/MyDrive/gp/The Girl Who Believes in Miracles/clip/248.mp4\n",
            "[MoviePy] Writing audio in 248TEMP_MPY_wvf_snd.mp3\n"
          ]
        },
        {
          "name": "stderr",
          "output_type": "stream",
          "text": [
            "100%|██████████| 221/221 [00:00<00:00, 552.36it/s]"
          ]
        },
        {
          "name": "stdout",
          "output_type": "stream",
          "text": [
            "[MoviePy] Done.\n",
            "[MoviePy] Writing video /content/drive/MyDrive/gp/The Girl Who Believes in Miracles/clip/248.mp4\n"
          ]
        },
        {
          "name": "stderr",
          "output_type": "stream",
          "text": [
            "\n",
            "100%|██████████| 240/240 [00:03<00:00, 69.22it/s]\n"
          ]
        },
        {
          "name": "stdout",
          "output_type": "stream",
          "text": [
            "[MoviePy] Done.\n",
            "[MoviePy] >>>> Video ready: /content/drive/MyDrive/gp/The Girl Who Believes in Miracles/clip/248.mp4 \n",
            "\n",
            "248번째 클립 저장 완료\n",
            "[MoviePy] >>>> Building video /content/drive/MyDrive/gp/The Girl Who Believes in Miracles/clip/249.mp4\n",
            "[MoviePy] Writing audio in 249TEMP_MPY_wvf_snd.mp3\n"
          ]
        },
        {
          "name": "stderr",
          "output_type": "stream",
          "text": [
            "100%|██████████| 221/221 [00:00<00:00, 566.88it/s]"
          ]
        },
        {
          "name": "stdout",
          "output_type": "stream",
          "text": [
            "[MoviePy] Done.\n",
            "[MoviePy] Writing video /content/drive/MyDrive/gp/The Girl Who Believes in Miracles/clip/249.mp4\n"
          ]
        },
        {
          "name": "stderr",
          "output_type": "stream",
          "text": [
            "\n",
            "100%|██████████| 240/240 [00:02<00:00, 84.06it/s]\n"
          ]
        },
        {
          "name": "stdout",
          "output_type": "stream",
          "text": [
            "[MoviePy] Done.\n",
            "[MoviePy] >>>> Video ready: /content/drive/MyDrive/gp/The Girl Who Believes in Miracles/clip/249.mp4 \n",
            "\n",
            "249번째 클립 저장 완료\n",
            "[MoviePy] >>>> Building video /content/drive/MyDrive/gp/The Girl Who Believes in Miracles/clip/250.mp4\n",
            "[MoviePy] Writing audio in 250TEMP_MPY_wvf_snd.mp3\n"
          ]
        },
        {
          "name": "stderr",
          "output_type": "stream",
          "text": [
            "100%|██████████| 221/221 [00:00<00:00, 527.20it/s]"
          ]
        },
        {
          "name": "stdout",
          "output_type": "stream",
          "text": [
            "[MoviePy] Done.\n",
            "[MoviePy] Writing video /content/drive/MyDrive/gp/The Girl Who Believes in Miracles/clip/250.mp4\n"
          ]
        },
        {
          "name": "stderr",
          "output_type": "stream",
          "text": [
            "\n",
            "100%|██████████| 240/240 [00:03<00:00, 69.54it/s]\n"
          ]
        },
        {
          "name": "stdout",
          "output_type": "stream",
          "text": [
            "[MoviePy] Done.\n",
            "[MoviePy] >>>> Video ready: /content/drive/MyDrive/gp/The Girl Who Believes in Miracles/clip/250.mp4 \n",
            "\n",
            "250번째 클립 저장 완료\n",
            "[MoviePy] >>>> Building video /content/drive/MyDrive/gp/The Girl Who Believes in Miracles/clip/251.mp4\n",
            "[MoviePy] Writing audio in 251TEMP_MPY_wvf_snd.mp3\n"
          ]
        },
        {
          "name": "stderr",
          "output_type": "stream",
          "text": [
            "100%|██████████| 221/221 [00:00<00:00, 524.10it/s]"
          ]
        },
        {
          "name": "stdout",
          "output_type": "stream",
          "text": [
            "[MoviePy] Done.\n",
            "[MoviePy] Writing video /content/drive/MyDrive/gp/The Girl Who Believes in Miracles/clip/251.mp4\n"
          ]
        },
        {
          "name": "stderr",
          "output_type": "stream",
          "text": [
            "\n",
            "100%|██████████| 240/240 [00:03<00:00, 78.01it/s]\n"
          ]
        },
        {
          "name": "stdout",
          "output_type": "stream",
          "text": [
            "[MoviePy] Done.\n",
            "[MoviePy] >>>> Video ready: /content/drive/MyDrive/gp/The Girl Who Believes in Miracles/clip/251.mp4 \n",
            "\n",
            "251번째 클립 저장 완료\n",
            "[MoviePy] >>>> Building video /content/drive/MyDrive/gp/The Girl Who Believes in Miracles/clip/252.mp4\n",
            "[MoviePy] Writing audio in 252TEMP_MPY_wvf_snd.mp3\n"
          ]
        },
        {
          "name": "stderr",
          "output_type": "stream",
          "text": [
            "100%|██████████| 221/221 [00:00<00:00, 540.31it/s]"
          ]
        },
        {
          "name": "stdout",
          "output_type": "stream",
          "text": [
            "[MoviePy] Done.\n",
            "[MoviePy] Writing video /content/drive/MyDrive/gp/The Girl Who Believes in Miracles/clip/252.mp4\n"
          ]
        },
        {
          "name": "stderr",
          "output_type": "stream",
          "text": [
            "\n",
            "100%|██████████| 240/240 [00:02<00:00, 100.80it/s]\n"
          ]
        },
        {
          "name": "stdout",
          "output_type": "stream",
          "text": [
            "[MoviePy] Done.\n",
            "[MoviePy] >>>> Video ready: /content/drive/MyDrive/gp/The Girl Who Believes in Miracles/clip/252.mp4 \n",
            "\n",
            "252번째 클립 저장 완료\n",
            "[MoviePy] >>>> Building video /content/drive/MyDrive/gp/The Girl Who Believes in Miracles/clip/253.mp4\n",
            "[MoviePy] Writing audio in 253TEMP_MPY_wvf_snd.mp3\n"
          ]
        },
        {
          "name": "stderr",
          "output_type": "stream",
          "text": [
            "100%|██████████| 221/221 [00:00<00:00, 537.32it/s]"
          ]
        },
        {
          "name": "stdout",
          "output_type": "stream",
          "text": [
            "[MoviePy] Done.\n",
            "[MoviePy] Writing video /content/drive/MyDrive/gp/The Girl Who Believes in Miracles/clip/253.mp4\n"
          ]
        },
        {
          "name": "stderr",
          "output_type": "stream",
          "text": [
            "\n",
            "100%|██████████| 240/240 [00:03<00:00, 63.32it/s]\n"
          ]
        },
        {
          "name": "stdout",
          "output_type": "stream",
          "text": [
            "[MoviePy] Done.\n",
            "[MoviePy] >>>> Video ready: /content/drive/MyDrive/gp/The Girl Who Believes in Miracles/clip/253.mp4 \n",
            "\n",
            "253번째 클립 저장 완료\n",
            "[MoviePy] >>>> Building video /content/drive/MyDrive/gp/The Girl Who Believes in Miracles/clip/254.mp4\n",
            "[MoviePy] Writing audio in 254TEMP_MPY_wvf_snd.mp3\n"
          ]
        },
        {
          "name": "stderr",
          "output_type": "stream",
          "text": [
            "100%|██████████| 221/221 [00:00<00:00, 490.19it/s]"
          ]
        },
        {
          "name": "stdout",
          "output_type": "stream",
          "text": [
            "[MoviePy] Done.\n",
            "[MoviePy] Writing video /content/drive/MyDrive/gp/The Girl Who Believes in Miracles/clip/254.mp4\n"
          ]
        },
        {
          "name": "stderr",
          "output_type": "stream",
          "text": [
            "\n",
            "100%|██████████| 240/240 [00:03<00:00, 66.18it/s]\n"
          ]
        },
        {
          "name": "stdout",
          "output_type": "stream",
          "text": [
            "[MoviePy] Done.\n",
            "[MoviePy] >>>> Video ready: /content/drive/MyDrive/gp/The Girl Who Believes in Miracles/clip/254.mp4 \n",
            "\n",
            "254번째 클립 저장 완료\n",
            "[MoviePy] >>>> Building video /content/drive/MyDrive/gp/The Girl Who Believes in Miracles/clip/255.mp4\n",
            "[MoviePy] Writing audio in 255TEMP_MPY_wvf_snd.mp3\n"
          ]
        },
        {
          "name": "stderr",
          "output_type": "stream",
          "text": [
            "100%|██████████| 221/221 [00:00<00:00, 489.92it/s]"
          ]
        },
        {
          "name": "stdout",
          "output_type": "stream",
          "text": [
            "[MoviePy] Done.\n",
            "[MoviePy] Writing video /content/drive/MyDrive/gp/The Girl Who Believes in Miracles/clip/255.mp4\n"
          ]
        },
        {
          "name": "stderr",
          "output_type": "stream",
          "text": [
            "\n",
            "100%|██████████| 240/240 [00:03<00:00, 77.81it/s]\n"
          ]
        },
        {
          "name": "stdout",
          "output_type": "stream",
          "text": [
            "[MoviePy] Done.\n",
            "[MoviePy] >>>> Video ready: /content/drive/MyDrive/gp/The Girl Who Believes in Miracles/clip/255.mp4 \n",
            "\n",
            "255번째 클립 저장 완료\n",
            "[MoviePy] >>>> Building video /content/drive/MyDrive/gp/The Girl Who Believes in Miracles/clip/256.mp4\n",
            "[MoviePy] Writing audio in 256TEMP_MPY_wvf_snd.mp3\n"
          ]
        },
        {
          "name": "stderr",
          "output_type": "stream",
          "text": [
            "100%|██████████| 221/221 [00:00<00:00, 473.09it/s]"
          ]
        },
        {
          "name": "stdout",
          "output_type": "stream",
          "text": [
            "[MoviePy] Done.\n",
            "[MoviePy] Writing video /content/drive/MyDrive/gp/The Girl Who Believes in Miracles/clip/256.mp4\n"
          ]
        },
        {
          "name": "stderr",
          "output_type": "stream",
          "text": [
            "\n",
            "100%|██████████| 240/240 [00:03<00:00, 75.91it/s]\n"
          ]
        },
        {
          "name": "stdout",
          "output_type": "stream",
          "text": [
            "[MoviePy] Done.\n",
            "[MoviePy] >>>> Video ready: /content/drive/MyDrive/gp/The Girl Who Believes in Miracles/clip/256.mp4 \n",
            "\n",
            "256번째 클립 저장 완료\n",
            "[MoviePy] >>>> Building video /content/drive/MyDrive/gp/The Girl Who Believes in Miracles/clip/257.mp4\n",
            "[MoviePy] Writing audio in 257TEMP_MPY_wvf_snd.mp3\n"
          ]
        },
        {
          "name": "stderr",
          "output_type": "stream",
          "text": [
            "100%|██████████| 221/221 [00:00<00:00, 473.18it/s]"
          ]
        },
        {
          "name": "stdout",
          "output_type": "stream",
          "text": [
            "[MoviePy] Done.\n",
            "[MoviePy] Writing video /content/drive/MyDrive/gp/The Girl Who Believes in Miracles/clip/257.mp4\n"
          ]
        },
        {
          "name": "stderr",
          "output_type": "stream",
          "text": [
            "\n",
            "100%|██████████| 240/240 [00:03<00:00, 75.85it/s]\n"
          ]
        },
        {
          "name": "stdout",
          "output_type": "stream",
          "text": [
            "[MoviePy] Done.\n",
            "[MoviePy] >>>> Video ready: /content/drive/MyDrive/gp/The Girl Who Believes in Miracles/clip/257.mp4 \n",
            "\n",
            "257번째 클립 저장 완료\n",
            "[MoviePy] >>>> Building video /content/drive/MyDrive/gp/The Girl Who Believes in Miracles/clip/258.mp4\n",
            "[MoviePy] Writing audio in 258TEMP_MPY_wvf_snd.mp3\n"
          ]
        },
        {
          "name": "stderr",
          "output_type": "stream",
          "text": [
            "100%|██████████| 221/221 [00:00<00:00, 458.81it/s]"
          ]
        },
        {
          "name": "stdout",
          "output_type": "stream",
          "text": [
            "[MoviePy] Done.\n",
            "[MoviePy] Writing video /content/drive/MyDrive/gp/The Girl Who Believes in Miracles/clip/258.mp4\n"
          ]
        },
        {
          "name": "stderr",
          "output_type": "stream",
          "text": [
            "\n",
            "100%|██████████| 240/240 [00:03<00:00, 77.32it/s]\n"
          ]
        },
        {
          "name": "stdout",
          "output_type": "stream",
          "text": [
            "[MoviePy] Done.\n",
            "[MoviePy] >>>> Video ready: /content/drive/MyDrive/gp/The Girl Who Believes in Miracles/clip/258.mp4 \n",
            "\n",
            "258번째 클립 저장 완료\n",
            "[MoviePy] >>>> Building video /content/drive/MyDrive/gp/The Girl Who Believes in Miracles/clip/259.mp4\n",
            "[MoviePy] Writing audio in 259TEMP_MPY_wvf_snd.mp3\n"
          ]
        },
        {
          "name": "stderr",
          "output_type": "stream",
          "text": [
            "100%|██████████| 221/221 [00:00<00:00, 478.30it/s]"
          ]
        },
        {
          "name": "stdout",
          "output_type": "stream",
          "text": [
            "[MoviePy] Done.\n",
            "[MoviePy] Writing video /content/drive/MyDrive/gp/The Girl Who Believes in Miracles/clip/259.mp4\n"
          ]
        },
        {
          "name": "stderr",
          "output_type": "stream",
          "text": [
            "\n",
            "100%|██████████| 240/240 [00:03<00:00, 73.04it/s]\n"
          ]
        },
        {
          "name": "stdout",
          "output_type": "stream",
          "text": [
            "[MoviePy] Done.\n",
            "[MoviePy] >>>> Video ready: /content/drive/MyDrive/gp/The Girl Who Believes in Miracles/clip/259.mp4 \n",
            "\n",
            "259번째 클립 저장 완료\n",
            "[MoviePy] >>>> Building video /content/drive/MyDrive/gp/The Girl Who Believes in Miracles/clip/260.mp4\n",
            "[MoviePy] Writing audio in 260TEMP_MPY_wvf_snd.mp3\n"
          ]
        },
        {
          "name": "stderr",
          "output_type": "stream",
          "text": [
            "100%|██████████| 221/221 [00:00<00:00, 449.26it/s]"
          ]
        },
        {
          "name": "stdout",
          "output_type": "stream",
          "text": [
            "[MoviePy] Done.\n",
            "[MoviePy] Writing video /content/drive/MyDrive/gp/The Girl Who Believes in Miracles/clip/260.mp4\n"
          ]
        },
        {
          "name": "stderr",
          "output_type": "stream",
          "text": [
            "\n",
            "100%|██████████| 240/240 [00:02<00:00, 84.88it/s]\n"
          ]
        },
        {
          "name": "stdout",
          "output_type": "stream",
          "text": [
            "[MoviePy] Done.\n",
            "[MoviePy] >>>> Video ready: /content/drive/MyDrive/gp/The Girl Who Believes in Miracles/clip/260.mp4 \n",
            "\n",
            "260번째 클립 저장 완료\n",
            "[MoviePy] >>>> Building video /content/drive/MyDrive/gp/The Girl Who Believes in Miracles/clip/261.mp4\n",
            "[MoviePy] Writing audio in 261TEMP_MPY_wvf_snd.mp3\n"
          ]
        },
        {
          "name": "stderr",
          "output_type": "stream",
          "text": [
            "100%|██████████| 221/221 [00:00<00:00, 496.24it/s]"
          ]
        },
        {
          "name": "stdout",
          "output_type": "stream",
          "text": [
            "[MoviePy] Done.\n",
            "[MoviePy] Writing video /content/drive/MyDrive/gp/The Girl Who Believes in Miracles/clip/261.mp4\n"
          ]
        },
        {
          "name": "stderr",
          "output_type": "stream",
          "text": [
            "\n",
            "100%|██████████| 240/240 [00:02<00:00, 83.28it/s]\n"
          ]
        },
        {
          "name": "stdout",
          "output_type": "stream",
          "text": [
            "[MoviePy] Done.\n",
            "[MoviePy] >>>> Video ready: /content/drive/MyDrive/gp/The Girl Who Believes in Miracles/clip/261.mp4 \n",
            "\n",
            "261번째 클립 저장 완료\n",
            "[MoviePy] >>>> Building video /content/drive/MyDrive/gp/The Girl Who Believes in Miracles/clip/262.mp4\n",
            "[MoviePy] Writing audio in 262TEMP_MPY_wvf_snd.mp3\n"
          ]
        },
        {
          "name": "stderr",
          "output_type": "stream",
          "text": [
            "100%|██████████| 221/221 [00:00<00:00, 449.64it/s]"
          ]
        },
        {
          "name": "stdout",
          "output_type": "stream",
          "text": [
            "[MoviePy] Done.\n",
            "[MoviePy] Writing video /content/drive/MyDrive/gp/The Girl Who Believes in Miracles/clip/262.mp4\n"
          ]
        },
        {
          "name": "stderr",
          "output_type": "stream",
          "text": [
            "\n",
            "100%|██████████| 240/240 [00:02<00:00, 85.51it/s]\n"
          ]
        },
        {
          "name": "stdout",
          "output_type": "stream",
          "text": [
            "[MoviePy] Done.\n",
            "[MoviePy] >>>> Video ready: /content/drive/MyDrive/gp/The Girl Who Believes in Miracles/clip/262.mp4 \n",
            "\n",
            "262번째 클립 저장 완료\n",
            "[MoviePy] >>>> Building video /content/drive/MyDrive/gp/The Girl Who Believes in Miracles/clip/263.mp4\n",
            "[MoviePy] Writing audio in 263TEMP_MPY_wvf_snd.mp3\n"
          ]
        },
        {
          "name": "stderr",
          "output_type": "stream",
          "text": [
            "100%|██████████| 221/221 [00:00<00:00, 458.09it/s]"
          ]
        },
        {
          "name": "stdout",
          "output_type": "stream",
          "text": [
            "[MoviePy] Done.\n",
            "[MoviePy] Writing video /content/drive/MyDrive/gp/The Girl Who Believes in Miracles/clip/263.mp4\n"
          ]
        },
        {
          "name": "stderr",
          "output_type": "stream",
          "text": [
            "\n",
            "100%|██████████| 240/240 [00:03<00:00, 72.09it/s]\n"
          ]
        },
        {
          "name": "stdout",
          "output_type": "stream",
          "text": [
            "[MoviePy] Done.\n",
            "[MoviePy] >>>> Video ready: /content/drive/MyDrive/gp/The Girl Who Believes in Miracles/clip/263.mp4 \n",
            "\n",
            "263번째 클립 저장 완료\n",
            "[MoviePy] >>>> Building video /content/drive/MyDrive/gp/The Girl Who Believes in Miracles/clip/264.mp4\n",
            "[MoviePy] Writing audio in 264TEMP_MPY_wvf_snd.mp3\n"
          ]
        },
        {
          "name": "stderr",
          "output_type": "stream",
          "text": [
            "100%|██████████| 221/221 [00:00<00:00, 486.77it/s]"
          ]
        },
        {
          "name": "stdout",
          "output_type": "stream",
          "text": [
            "[MoviePy] Done.\n",
            "[MoviePy] Writing video /content/drive/MyDrive/gp/The Girl Who Believes in Miracles/clip/264.mp4\n"
          ]
        },
        {
          "name": "stderr",
          "output_type": "stream",
          "text": [
            "\n",
            "100%|██████████| 240/240 [00:03<00:00, 67.63it/s]\n"
          ]
        },
        {
          "name": "stdout",
          "output_type": "stream",
          "text": [
            "[MoviePy] Done.\n",
            "[MoviePy] >>>> Video ready: /content/drive/MyDrive/gp/The Girl Who Believes in Miracles/clip/264.mp4 \n",
            "\n",
            "264번째 클립 저장 완료\n",
            "[MoviePy] >>>> Building video /content/drive/MyDrive/gp/The Girl Who Believes in Miracles/clip/265.mp4\n",
            "[MoviePy] Writing audio in 265TEMP_MPY_wvf_snd.mp3\n"
          ]
        },
        {
          "name": "stderr",
          "output_type": "stream",
          "text": [
            "100%|██████████| 221/221 [00:00<00:00, 327.84it/s]"
          ]
        },
        {
          "name": "stdout",
          "output_type": "stream",
          "text": [
            "[MoviePy] Done.\n",
            "[MoviePy] Writing video /content/drive/MyDrive/gp/The Girl Who Believes in Miracles/clip/265.mp4\n"
          ]
        },
        {
          "name": "stderr",
          "output_type": "stream",
          "text": [
            "\n",
            "100%|██████████| 240/240 [00:05<00:00, 43.25it/s]\n"
          ]
        },
        {
          "name": "stdout",
          "output_type": "stream",
          "text": [
            "[MoviePy] Done.\n",
            "[MoviePy] >>>> Video ready: /content/drive/MyDrive/gp/The Girl Who Believes in Miracles/clip/265.mp4 \n",
            "\n",
            "265번째 클립 저장 완료\n",
            "[MoviePy] >>>> Building video /content/drive/MyDrive/gp/The Girl Who Believes in Miracles/clip/266.mp4\n",
            "[MoviePy] Writing audio in 266TEMP_MPY_wvf_snd.mp3\n"
          ]
        },
        {
          "name": "stderr",
          "output_type": "stream",
          "text": [
            "100%|██████████| 221/221 [00:00<00:00, 413.58it/s]"
          ]
        },
        {
          "name": "stdout",
          "output_type": "stream",
          "text": [
            "[MoviePy] Done.\n",
            "[MoviePy] Writing video /content/drive/MyDrive/gp/The Girl Who Believes in Miracles/clip/266.mp4\n"
          ]
        },
        {
          "name": "stderr",
          "output_type": "stream",
          "text": [
            "\n",
            "100%|██████████| 240/240 [00:03<00:00, 74.85it/s]\n"
          ]
        },
        {
          "name": "stdout",
          "output_type": "stream",
          "text": [
            "[MoviePy] Done.\n",
            "[MoviePy] >>>> Video ready: /content/drive/MyDrive/gp/The Girl Who Believes in Miracles/clip/266.mp4 \n",
            "\n",
            "266번째 클립 저장 완료\n",
            "[MoviePy] >>>> Building video /content/drive/MyDrive/gp/The Girl Who Believes in Miracles/clip/267.mp4\n",
            "[MoviePy] Writing audio in 267TEMP_MPY_wvf_snd.mp3\n"
          ]
        },
        {
          "name": "stderr",
          "output_type": "stream",
          "text": [
            "100%|██████████| 221/221 [00:00<00:00, 523.36it/s]"
          ]
        },
        {
          "name": "stdout",
          "output_type": "stream",
          "text": [
            "[MoviePy] Done.\n",
            "[MoviePy] Writing video /content/drive/MyDrive/gp/The Girl Who Believes in Miracles/clip/267.mp4\n"
          ]
        },
        {
          "name": "stderr",
          "output_type": "stream",
          "text": [
            "\n",
            "100%|██████████| 240/240 [00:03<00:00, 76.34it/s]\n"
          ]
        },
        {
          "name": "stdout",
          "output_type": "stream",
          "text": [
            "[MoviePy] Done.\n",
            "[MoviePy] >>>> Video ready: /content/drive/MyDrive/gp/The Girl Who Believes in Miracles/clip/267.mp4 \n",
            "\n",
            "267번째 클립 저장 완료\n",
            "[MoviePy] >>>> Building video /content/drive/MyDrive/gp/The Girl Who Believes in Miracles/clip/268.mp4\n",
            "[MoviePy] Writing audio in 268TEMP_MPY_wvf_snd.mp3\n"
          ]
        },
        {
          "name": "stderr",
          "output_type": "stream",
          "text": [
            "100%|██████████| 221/221 [00:00<00:00, 538.52it/s]"
          ]
        },
        {
          "name": "stdout",
          "output_type": "stream",
          "text": [
            "[MoviePy] Done.\n",
            "[MoviePy] Writing video /content/drive/MyDrive/gp/The Girl Who Believes in Miracles/clip/268.mp4\n"
          ]
        },
        {
          "name": "stderr",
          "output_type": "stream",
          "text": [
            "\n",
            "100%|██████████| 240/240 [00:03<00:00, 73.84it/s]\n"
          ]
        },
        {
          "name": "stdout",
          "output_type": "stream",
          "text": [
            "[MoviePy] Done.\n",
            "[MoviePy] >>>> Video ready: /content/drive/MyDrive/gp/The Girl Who Believes in Miracles/clip/268.mp4 \n",
            "\n",
            "268번째 클립 저장 완료\n",
            "[MoviePy] >>>> Building video /content/drive/MyDrive/gp/The Girl Who Believes in Miracles/clip/269.mp4\n",
            "[MoviePy] Writing audio in 269TEMP_MPY_wvf_snd.mp3\n"
          ]
        },
        {
          "name": "stderr",
          "output_type": "stream",
          "text": [
            "100%|██████████| 221/221 [00:00<00:00, 537.92it/s]"
          ]
        },
        {
          "name": "stdout",
          "output_type": "stream",
          "text": [
            "[MoviePy] Done.\n",
            "[MoviePy] Writing video /content/drive/MyDrive/gp/The Girl Who Believes in Miracles/clip/269.mp4\n"
          ]
        },
        {
          "name": "stderr",
          "output_type": "stream",
          "text": [
            "\n",
            "100%|██████████| 240/240 [00:03<00:00, 76.71it/s]\n"
          ]
        },
        {
          "name": "stdout",
          "output_type": "stream",
          "text": [
            "[MoviePy] Done.\n",
            "[MoviePy] >>>> Video ready: /content/drive/MyDrive/gp/The Girl Who Believes in Miracles/clip/269.mp4 \n",
            "\n",
            "269번째 클립 저장 완료\n",
            "[MoviePy] >>>> Building video /content/drive/MyDrive/gp/The Girl Who Believes in Miracles/clip/270.mp4\n",
            "[MoviePy] Writing audio in 270TEMP_MPY_wvf_snd.mp3\n"
          ]
        },
        {
          "name": "stderr",
          "output_type": "stream",
          "text": [
            "100%|██████████| 221/221 [00:00<00:00, 534.19it/s]"
          ]
        },
        {
          "name": "stdout",
          "output_type": "stream",
          "text": [
            "[MoviePy] Done.\n",
            "[MoviePy] Writing video /content/drive/MyDrive/gp/The Girl Who Believes in Miracles/clip/270.mp4\n"
          ]
        },
        {
          "name": "stderr",
          "output_type": "stream",
          "text": [
            "\n",
            "100%|██████████| 240/240 [00:03<00:00, 72.81it/s]\n"
          ]
        },
        {
          "name": "stdout",
          "output_type": "stream",
          "text": [
            "[MoviePy] Done.\n",
            "[MoviePy] >>>> Video ready: /content/drive/MyDrive/gp/The Girl Who Believes in Miracles/clip/270.mp4 \n",
            "\n",
            "270번째 클립 저장 완료\n",
            "[MoviePy] >>>> Building video /content/drive/MyDrive/gp/The Girl Who Believes in Miracles/clip/271.mp4\n",
            "[MoviePy] Writing audio in 271TEMP_MPY_wvf_snd.mp3\n"
          ]
        },
        {
          "name": "stderr",
          "output_type": "stream",
          "text": [
            "100%|██████████| 221/221 [00:00<00:00, 563.81it/s]"
          ]
        },
        {
          "name": "stdout",
          "output_type": "stream",
          "text": [
            "[MoviePy] Done.\n",
            "[MoviePy] Writing video /content/drive/MyDrive/gp/The Girl Who Believes in Miracles/clip/271.mp4\n"
          ]
        },
        {
          "name": "stderr",
          "output_type": "stream",
          "text": [
            "\n",
            "100%|██████████| 240/240 [00:03<00:00, 78.39it/s]\n"
          ]
        },
        {
          "name": "stdout",
          "output_type": "stream",
          "text": [
            "[MoviePy] Done.\n",
            "[MoviePy] >>>> Video ready: /content/drive/MyDrive/gp/The Girl Who Believes in Miracles/clip/271.mp4 \n",
            "\n",
            "271번째 클립 저장 완료\n",
            "[MoviePy] >>>> Building video /content/drive/MyDrive/gp/The Girl Who Believes in Miracles/clip/272.mp4\n",
            "[MoviePy] Writing audio in 272TEMP_MPY_wvf_snd.mp3\n"
          ]
        },
        {
          "name": "stderr",
          "output_type": "stream",
          "text": [
            "100%|██████████| 221/221 [00:00<00:00, 551.91it/s]"
          ]
        },
        {
          "name": "stdout",
          "output_type": "stream",
          "text": [
            "[MoviePy] Done.\n",
            "[MoviePy] Writing video /content/drive/MyDrive/gp/The Girl Who Believes in Miracles/clip/272.mp4\n"
          ]
        },
        {
          "name": "stderr",
          "output_type": "stream",
          "text": [
            "\n",
            "100%|██████████| 240/240 [00:03<00:00, 73.78it/s]\n"
          ]
        },
        {
          "name": "stdout",
          "output_type": "stream",
          "text": [
            "[MoviePy] Done.\n",
            "[MoviePy] >>>> Video ready: /content/drive/MyDrive/gp/The Girl Who Believes in Miracles/clip/272.mp4 \n",
            "\n",
            "272번째 클립 저장 완료\n",
            "[MoviePy] >>>> Building video /content/drive/MyDrive/gp/The Girl Who Believes in Miracles/clip/273.mp4\n",
            "[MoviePy] Writing audio in 273TEMP_MPY_wvf_snd.mp3\n"
          ]
        },
        {
          "name": "stderr",
          "output_type": "stream",
          "text": [
            "100%|██████████| 221/221 [00:00<00:00, 531.90it/s]"
          ]
        },
        {
          "name": "stdout",
          "output_type": "stream",
          "text": [
            "[MoviePy] Done.\n",
            "[MoviePy] Writing video /content/drive/MyDrive/gp/The Girl Who Believes in Miracles/clip/273.mp4\n"
          ]
        },
        {
          "name": "stderr",
          "output_type": "stream",
          "text": [
            "\n",
            "100%|██████████| 240/240 [00:03<00:00, 77.40it/s]\n"
          ]
        },
        {
          "name": "stdout",
          "output_type": "stream",
          "text": [
            "[MoviePy] Done.\n",
            "[MoviePy] >>>> Video ready: /content/drive/MyDrive/gp/The Girl Who Believes in Miracles/clip/273.mp4 \n",
            "\n",
            "273번째 클립 저장 완료\n",
            "[MoviePy] >>>> Building video /content/drive/MyDrive/gp/The Girl Who Believes in Miracles/clip/274.mp4\n",
            "[MoviePy] Writing audio in 274TEMP_MPY_wvf_snd.mp3\n"
          ]
        },
        {
          "name": "stderr",
          "output_type": "stream",
          "text": [
            "100%|██████████| 221/221 [00:00<00:00, 500.69it/s]\n"
          ]
        },
        {
          "name": "stdout",
          "output_type": "stream",
          "text": [
            "[MoviePy] Done.\n",
            "[MoviePy] Writing video /content/drive/MyDrive/gp/The Girl Who Believes in Miracles/clip/274.mp4\n"
          ]
        },
        {
          "name": "stderr",
          "output_type": "stream",
          "text": [
            "100%|██████████| 240/240 [00:03<00:00, 76.47it/s]\n"
          ]
        },
        {
          "name": "stdout",
          "output_type": "stream",
          "text": [
            "[MoviePy] Done.\n",
            "[MoviePy] >>>> Video ready: /content/drive/MyDrive/gp/The Girl Who Believes in Miracles/clip/274.mp4 \n",
            "\n",
            "274번째 클립 저장 완료\n",
            "[MoviePy] >>>> Building video /content/drive/MyDrive/gp/The Girl Who Believes in Miracles/clip/275.mp4\n",
            "[MoviePy] Writing audio in 275TEMP_MPY_wvf_snd.mp3\n"
          ]
        },
        {
          "name": "stderr",
          "output_type": "stream",
          "text": [
            "100%|██████████| 221/221 [00:00<00:00, 562.89it/s]"
          ]
        },
        {
          "name": "stdout",
          "output_type": "stream",
          "text": [
            "[MoviePy] Done.\n",
            "[MoviePy] Writing video /content/drive/MyDrive/gp/The Girl Who Believes in Miracles/clip/275.mp4\n"
          ]
        },
        {
          "name": "stderr",
          "output_type": "stream",
          "text": [
            "\n",
            "100%|██████████| 240/240 [00:03<00:00, 76.71it/s]\n"
          ]
        },
        {
          "name": "stdout",
          "output_type": "stream",
          "text": [
            "[MoviePy] Done.\n",
            "[MoviePy] >>>> Video ready: /content/drive/MyDrive/gp/The Girl Who Believes in Miracles/clip/275.mp4 \n",
            "\n",
            "275번째 클립 저장 완료\n",
            "[MoviePy] >>>> Building video /content/drive/MyDrive/gp/The Girl Who Believes in Miracles/clip/276.mp4\n",
            "[MoviePy] Writing audio in 276TEMP_MPY_wvf_snd.mp3\n"
          ]
        },
        {
          "name": "stderr",
          "output_type": "stream",
          "text": [
            "100%|██████████| 221/221 [00:00<00:00, 556.17it/s]"
          ]
        },
        {
          "name": "stdout",
          "output_type": "stream",
          "text": [
            "[MoviePy] Done.\n",
            "[MoviePy] Writing video /content/drive/MyDrive/gp/The Girl Who Believes in Miracles/clip/276.mp4\n"
          ]
        },
        {
          "name": "stderr",
          "output_type": "stream",
          "text": [
            "\n",
            "100%|██████████| 240/240 [00:03<00:00, 65.23it/s]\n"
          ]
        },
        {
          "name": "stdout",
          "output_type": "stream",
          "text": [
            "[MoviePy] Done.\n",
            "[MoviePy] >>>> Video ready: /content/drive/MyDrive/gp/The Girl Who Believes in Miracles/clip/276.mp4 \n",
            "\n",
            "276번째 클립 저장 완료\n",
            "[MoviePy] >>>> Building video /content/drive/MyDrive/gp/The Girl Who Believes in Miracles/clip/277.mp4\n",
            "[MoviePy] Writing audio in 277TEMP_MPY_wvf_snd.mp3\n"
          ]
        },
        {
          "name": "stderr",
          "output_type": "stream",
          "text": [
            "100%|██████████| 221/221 [00:00<00:00, 550.28it/s]"
          ]
        },
        {
          "name": "stdout",
          "output_type": "stream",
          "text": [
            "[MoviePy] Done.\n",
            "[MoviePy] Writing video /content/drive/MyDrive/gp/The Girl Who Believes in Miracles/clip/277.mp4\n"
          ]
        },
        {
          "name": "stderr",
          "output_type": "stream",
          "text": [
            "\n",
            "100%|██████████| 240/240 [00:02<00:00, 81.65it/s]\n"
          ]
        },
        {
          "name": "stdout",
          "output_type": "stream",
          "text": [
            "[MoviePy] Done.\n",
            "[MoviePy] >>>> Video ready: /content/drive/MyDrive/gp/The Girl Who Believes in Miracles/clip/277.mp4 \n",
            "\n",
            "277번째 클립 저장 완료\n",
            "[MoviePy] >>>> Building video /content/drive/MyDrive/gp/The Girl Who Believes in Miracles/clip/278.mp4\n",
            "[MoviePy] Writing audio in 278TEMP_MPY_wvf_snd.mp3\n"
          ]
        },
        {
          "name": "stderr",
          "output_type": "stream",
          "text": [
            "100%|██████████| 221/221 [00:00<00:00, 543.27it/s]"
          ]
        },
        {
          "name": "stdout",
          "output_type": "stream",
          "text": [
            "[MoviePy] Done.\n",
            "[MoviePy] Writing video /content/drive/MyDrive/gp/The Girl Who Believes in Miracles/clip/278.mp4\n"
          ]
        },
        {
          "name": "stderr",
          "output_type": "stream",
          "text": [
            "\n",
            "100%|██████████| 240/240 [00:02<00:00, 82.28it/s]\n"
          ]
        },
        {
          "name": "stdout",
          "output_type": "stream",
          "text": [
            "[MoviePy] Done.\n",
            "[MoviePy] >>>> Video ready: /content/drive/MyDrive/gp/The Girl Who Believes in Miracles/clip/278.mp4 \n",
            "\n",
            "278번째 클립 저장 완료\n",
            "[MoviePy] >>>> Building video /content/drive/MyDrive/gp/The Girl Who Believes in Miracles/clip/279.mp4\n",
            "[MoviePy] Writing audio in 279TEMP_MPY_wvf_snd.mp3\n"
          ]
        },
        {
          "name": "stderr",
          "output_type": "stream",
          "text": [
            "100%|██████████| 221/221 [00:00<00:00, 525.47it/s]"
          ]
        },
        {
          "name": "stdout",
          "output_type": "stream",
          "text": [
            "[MoviePy] Done.\n",
            "[MoviePy] Writing video /content/drive/MyDrive/gp/The Girl Who Believes in Miracles/clip/279.mp4\n"
          ]
        },
        {
          "name": "stderr",
          "output_type": "stream",
          "text": [
            "\n",
            "100%|██████████| 240/240 [00:03<00:00, 78.55it/s]\n"
          ]
        },
        {
          "name": "stdout",
          "output_type": "stream",
          "text": [
            "[MoviePy] Done.\n",
            "[MoviePy] >>>> Video ready: /content/drive/MyDrive/gp/The Girl Who Believes in Miracles/clip/279.mp4 \n",
            "\n",
            "279번째 클립 저장 완료\n",
            "[MoviePy] >>>> Building video /content/drive/MyDrive/gp/The Girl Who Believes in Miracles/clip/280.mp4\n",
            "[MoviePy] Writing audio in 280TEMP_MPY_wvf_snd.mp3\n"
          ]
        },
        {
          "name": "stderr",
          "output_type": "stream",
          "text": [
            "100%|██████████| 221/221 [00:00<00:00, 526.40it/s]"
          ]
        },
        {
          "name": "stdout",
          "output_type": "stream",
          "text": [
            "[MoviePy] Done.\n",
            "[MoviePy] Writing video /content/drive/MyDrive/gp/The Girl Who Believes in Miracles/clip/280.mp4\n"
          ]
        },
        {
          "name": "stderr",
          "output_type": "stream",
          "text": [
            "\n",
            "100%|██████████| 240/240 [00:03<00:00, 72.73it/s]\n"
          ]
        },
        {
          "name": "stdout",
          "output_type": "stream",
          "text": [
            "[MoviePy] Done.\n",
            "[MoviePy] >>>> Video ready: /content/drive/MyDrive/gp/The Girl Who Believes in Miracles/clip/280.mp4 \n",
            "\n",
            "280번째 클립 저장 완료\n",
            "[MoviePy] >>>> Building video /content/drive/MyDrive/gp/The Girl Who Believes in Miracles/clip/281.mp4\n",
            "[MoviePy] Writing audio in 281TEMP_MPY_wvf_snd.mp3\n"
          ]
        },
        {
          "name": "stderr",
          "output_type": "stream",
          "text": [
            "100%|██████████| 221/221 [00:00<00:00, 552.93it/s]"
          ]
        },
        {
          "name": "stdout",
          "output_type": "stream",
          "text": [
            "[MoviePy] Done.\n",
            "[MoviePy] Writing video /content/drive/MyDrive/gp/The Girl Who Believes in Miracles/clip/281.mp4\n"
          ]
        },
        {
          "name": "stderr",
          "output_type": "stream",
          "text": [
            "\n",
            "100%|██████████| 240/240 [00:02<00:00, 82.10it/s]\n"
          ]
        },
        {
          "name": "stdout",
          "output_type": "stream",
          "text": [
            "[MoviePy] Done.\n",
            "[MoviePy] >>>> Video ready: /content/drive/MyDrive/gp/The Girl Who Believes in Miracles/clip/281.mp4 \n",
            "\n",
            "281번째 클립 저장 완료\n",
            "[MoviePy] >>>> Building video /content/drive/MyDrive/gp/The Girl Who Believes in Miracles/clip/282.mp4\n",
            "[MoviePy] Writing audio in 282TEMP_MPY_wvf_snd.mp3\n"
          ]
        },
        {
          "name": "stderr",
          "output_type": "stream",
          "text": [
            "100%|██████████| 221/221 [00:00<00:00, 533.28it/s]"
          ]
        },
        {
          "name": "stdout",
          "output_type": "stream",
          "text": [
            "[MoviePy] Done.\n",
            "[MoviePy] Writing video /content/drive/MyDrive/gp/The Girl Who Believes in Miracles/clip/282.mp4\n"
          ]
        },
        {
          "name": "stderr",
          "output_type": "stream",
          "text": [
            "\n",
            "100%|██████████| 240/240 [00:03<00:00, 79.70it/s]\n"
          ]
        },
        {
          "name": "stdout",
          "output_type": "stream",
          "text": [
            "[MoviePy] Done.\n",
            "[MoviePy] >>>> Video ready: /content/drive/MyDrive/gp/The Girl Who Believes in Miracles/clip/282.mp4 \n",
            "\n",
            "282번째 클립 저장 완료\n",
            "[MoviePy] >>>> Building video /content/drive/MyDrive/gp/The Girl Who Believes in Miracles/clip/283.mp4\n",
            "[MoviePy] Writing audio in 283TEMP_MPY_wvf_snd.mp3\n"
          ]
        },
        {
          "name": "stderr",
          "output_type": "stream",
          "text": [
            "100%|██████████| 221/221 [00:00<00:00, 506.24it/s]\n"
          ]
        },
        {
          "name": "stdout",
          "output_type": "stream",
          "text": [
            "[MoviePy] Done.\n",
            "[MoviePy] Writing video /content/drive/MyDrive/gp/The Girl Who Believes in Miracles/clip/283.mp4\n"
          ]
        },
        {
          "name": "stderr",
          "output_type": "stream",
          "text": [
            "100%|██████████| 240/240 [00:02<00:00, 81.61it/s]\n"
          ]
        },
        {
          "name": "stdout",
          "output_type": "stream",
          "text": [
            "[MoviePy] Done.\n",
            "[MoviePy] >>>> Video ready: /content/drive/MyDrive/gp/The Girl Who Believes in Miracles/clip/283.mp4 \n",
            "\n",
            "283번째 클립 저장 완료\n",
            "[MoviePy] >>>> Building video /content/drive/MyDrive/gp/The Girl Who Believes in Miracles/clip/284.mp4\n",
            "[MoviePy] Writing audio in 284TEMP_MPY_wvf_snd.mp3\n"
          ]
        },
        {
          "name": "stderr",
          "output_type": "stream",
          "text": [
            "100%|██████████| 221/221 [00:00<00:00, 547.99it/s]"
          ]
        },
        {
          "name": "stdout",
          "output_type": "stream",
          "text": [
            "[MoviePy] Done.\n",
            "[MoviePy] Writing video /content/drive/MyDrive/gp/The Girl Who Believes in Miracles/clip/284.mp4\n"
          ]
        },
        {
          "name": "stderr",
          "output_type": "stream",
          "text": [
            "\n",
            "100%|██████████| 240/240 [00:02<00:00, 82.15it/s]\n"
          ]
        },
        {
          "name": "stdout",
          "output_type": "stream",
          "text": [
            "[MoviePy] Done.\n",
            "[MoviePy] >>>> Video ready: /content/drive/MyDrive/gp/The Girl Who Believes in Miracles/clip/284.mp4 \n",
            "\n",
            "284번째 클립 저장 완료\n",
            "[MoviePy] >>>> Building video /content/drive/MyDrive/gp/The Girl Who Believes in Miracles/clip/285.mp4\n",
            "[MoviePy] Writing audio in 285TEMP_MPY_wvf_snd.mp3\n"
          ]
        },
        {
          "name": "stderr",
          "output_type": "stream",
          "text": [
            "100%|██████████| 221/221 [00:00<00:00, 540.92it/s]"
          ]
        },
        {
          "name": "stdout",
          "output_type": "stream",
          "text": [
            "[MoviePy] Done.\n",
            "[MoviePy] Writing video /content/drive/MyDrive/gp/The Girl Who Believes in Miracles/clip/285.mp4\n"
          ]
        },
        {
          "name": "stderr",
          "output_type": "stream",
          "text": [
            "\n",
            "100%|██████████| 240/240 [00:03<00:00, 79.93it/s]\n"
          ]
        },
        {
          "name": "stdout",
          "output_type": "stream",
          "text": [
            "[MoviePy] Done.\n",
            "[MoviePy] >>>> Video ready: /content/drive/MyDrive/gp/The Girl Who Believes in Miracles/clip/285.mp4 \n",
            "\n",
            "285번째 클립 저장 완료\n",
            "[MoviePy] >>>> Building video /content/drive/MyDrive/gp/The Girl Who Believes in Miracles/clip/286.mp4\n",
            "[MoviePy] Writing audio in 286TEMP_MPY_wvf_snd.mp3\n"
          ]
        },
        {
          "name": "stderr",
          "output_type": "stream",
          "text": [
            "100%|██████████| 221/221 [00:00<00:00, 522.67it/s]"
          ]
        },
        {
          "name": "stdout",
          "output_type": "stream",
          "text": [
            "[MoviePy] Done.\n",
            "[MoviePy] Writing video /content/drive/MyDrive/gp/The Girl Who Believes in Miracles/clip/286.mp4\n"
          ]
        },
        {
          "name": "stderr",
          "output_type": "stream",
          "text": [
            "\n",
            "100%|██████████| 240/240 [00:02<00:00, 81.59it/s]\n"
          ]
        },
        {
          "name": "stdout",
          "output_type": "stream",
          "text": [
            "[MoviePy] Done.\n",
            "[MoviePy] >>>> Video ready: /content/drive/MyDrive/gp/The Girl Who Believes in Miracles/clip/286.mp4 \n",
            "\n",
            "286번째 클립 저장 완료\n",
            "[MoviePy] >>>> Building video /content/drive/MyDrive/gp/The Girl Who Believes in Miracles/clip/287.mp4\n",
            "[MoviePy] Writing audio in 287TEMP_MPY_wvf_snd.mp3\n"
          ]
        },
        {
          "name": "stderr",
          "output_type": "stream",
          "text": [
            "100%|██████████| 221/221 [00:00<00:00, 528.42it/s]"
          ]
        },
        {
          "name": "stdout",
          "output_type": "stream",
          "text": [
            "[MoviePy] Done.\n",
            "[MoviePy] Writing video /content/drive/MyDrive/gp/The Girl Who Believes in Miracles/clip/287.mp4\n"
          ]
        },
        {
          "name": "stderr",
          "output_type": "stream",
          "text": [
            "\n",
            "100%|██████████| 240/240 [00:03<00:00, 71.52it/s]\n"
          ]
        },
        {
          "name": "stdout",
          "output_type": "stream",
          "text": [
            "[MoviePy] Done.\n",
            "[MoviePy] >>>> Video ready: /content/drive/MyDrive/gp/The Girl Who Believes in Miracles/clip/287.mp4 \n",
            "\n",
            "287번째 클립 저장 완료\n",
            "[MoviePy] >>>> Building video /content/drive/MyDrive/gp/The Girl Who Believes in Miracles/clip/288.mp4\n",
            "[MoviePy] Writing audio in 288TEMP_MPY_wvf_snd.mp3\n"
          ]
        },
        {
          "name": "stderr",
          "output_type": "stream",
          "text": [
            "100%|██████████| 221/221 [00:00<00:00, 540.81it/s]"
          ]
        },
        {
          "name": "stdout",
          "output_type": "stream",
          "text": [
            "[MoviePy] Done.\n",
            "[MoviePy] Writing video /content/drive/MyDrive/gp/The Girl Who Believes in Miracles/clip/288.mp4\n"
          ]
        },
        {
          "name": "stderr",
          "output_type": "stream",
          "text": [
            "\n",
            "100%|██████████| 240/240 [00:03<00:00, 75.35it/s]\n"
          ]
        },
        {
          "name": "stdout",
          "output_type": "stream",
          "text": [
            "[MoviePy] Done.\n",
            "[MoviePy] >>>> Video ready: /content/drive/MyDrive/gp/The Girl Who Believes in Miracles/clip/288.mp4 \n",
            "\n",
            "288번째 클립 저장 완료\n",
            "[MoviePy] >>>> Building video /content/drive/MyDrive/gp/The Girl Who Believes in Miracles/clip/289.mp4\n",
            "[MoviePy] Writing audio in 289TEMP_MPY_wvf_snd.mp3\n"
          ]
        },
        {
          "name": "stderr",
          "output_type": "stream",
          "text": [
            "100%|██████████| 221/221 [00:00<00:00, 546.74it/s]"
          ]
        },
        {
          "name": "stdout",
          "output_type": "stream",
          "text": [
            "[MoviePy] Done.\n",
            "[MoviePy] Writing video /content/drive/MyDrive/gp/The Girl Who Believes in Miracles/clip/289.mp4\n"
          ]
        },
        {
          "name": "stderr",
          "output_type": "stream",
          "text": [
            "\n",
            "100%|██████████| 240/240 [00:03<00:00, 76.79it/s]\n"
          ]
        },
        {
          "name": "stdout",
          "output_type": "stream",
          "text": [
            "[MoviePy] Done.\n",
            "[MoviePy] >>>> Video ready: /content/drive/MyDrive/gp/The Girl Who Believes in Miracles/clip/289.mp4 \n",
            "\n",
            "289번째 클립 저장 완료\n",
            "[MoviePy] >>>> Building video /content/drive/MyDrive/gp/The Girl Who Believes in Miracles/clip/290.mp4\n",
            "[MoviePy] Writing audio in 290TEMP_MPY_wvf_snd.mp3\n"
          ]
        },
        {
          "name": "stderr",
          "output_type": "stream",
          "text": [
            "100%|██████████| 221/221 [00:00<00:00, 533.72it/s]"
          ]
        },
        {
          "name": "stdout",
          "output_type": "stream",
          "text": [
            "[MoviePy] Done.\n",
            "[MoviePy] Writing video /content/drive/MyDrive/gp/The Girl Who Believes in Miracles/clip/290.mp4\n"
          ]
        },
        {
          "name": "stderr",
          "output_type": "stream",
          "text": [
            "\n",
            "100%|██████████| 240/240 [00:03<00:00, 65.85it/s]\n"
          ]
        },
        {
          "name": "stdout",
          "output_type": "stream",
          "text": [
            "[MoviePy] Done.\n",
            "[MoviePy] >>>> Video ready: /content/drive/MyDrive/gp/The Girl Who Believes in Miracles/clip/290.mp4 \n",
            "\n",
            "290번째 클립 저장 완료\n",
            "[MoviePy] >>>> Building video /content/drive/MyDrive/gp/The Girl Who Believes in Miracles/clip/291.mp4\n",
            "[MoviePy] Writing audio in 291TEMP_MPY_wvf_snd.mp3\n"
          ]
        },
        {
          "name": "stderr",
          "output_type": "stream",
          "text": [
            "100%|██████████| 221/221 [00:00<00:00, 316.94it/s]"
          ]
        },
        {
          "name": "stdout",
          "output_type": "stream",
          "text": [
            "[MoviePy] Done.\n",
            "[MoviePy] Writing video /content/drive/MyDrive/gp/The Girl Who Believes in Miracles/clip/291.mp4\n"
          ]
        },
        {
          "name": "stderr",
          "output_type": "stream",
          "text": [
            "\n",
            "100%|██████████| 240/240 [00:06<00:00, 39.00it/s]\n"
          ]
        },
        {
          "name": "stdout",
          "output_type": "stream",
          "text": [
            "[MoviePy] Done.\n",
            "[MoviePy] >>>> Video ready: /content/drive/MyDrive/gp/The Girl Who Believes in Miracles/clip/291.mp4 \n",
            "\n",
            "291번째 클립 저장 완료\n",
            "[MoviePy] >>>> Building video /content/drive/MyDrive/gp/The Girl Who Believes in Miracles/clip/292.mp4\n",
            "[MoviePy] Writing audio in 292TEMP_MPY_wvf_snd.mp3\n"
          ]
        },
        {
          "name": "stderr",
          "output_type": "stream",
          "text": [
            "100%|██████████| 221/221 [00:00<00:00, 313.10it/s]"
          ]
        },
        {
          "name": "stdout",
          "output_type": "stream",
          "text": [
            "[MoviePy] Done.\n",
            "[MoviePy] Writing video /content/drive/MyDrive/gp/The Girl Who Believes in Miracles/clip/292.mp4\n"
          ]
        },
        {
          "name": "stderr",
          "output_type": "stream",
          "text": [
            "\n",
            "100%|██████████| 240/240 [00:04<00:00, 53.20it/s]\n"
          ]
        },
        {
          "name": "stdout",
          "output_type": "stream",
          "text": [
            "[MoviePy] Done.\n",
            "[MoviePy] >>>> Video ready: /content/drive/MyDrive/gp/The Girl Who Believes in Miracles/clip/292.mp4 \n",
            "\n",
            "292번째 클립 저장 완료\n",
            "[MoviePy] >>>> Building video /content/drive/MyDrive/gp/The Girl Who Believes in Miracles/clip/293.mp4\n",
            "[MoviePy] Writing audio in 293TEMP_MPY_wvf_snd.mp3\n"
          ]
        },
        {
          "name": "stderr",
          "output_type": "stream",
          "text": [
            "100%|██████████| 221/221 [00:00<00:00, 538.12it/s]"
          ]
        },
        {
          "name": "stdout",
          "output_type": "stream",
          "text": [
            "[MoviePy] Done.\n",
            "[MoviePy] Writing video /content/drive/MyDrive/gp/The Girl Who Believes in Miracles/clip/293.mp4\n"
          ]
        },
        {
          "name": "stderr",
          "output_type": "stream",
          "text": [
            "\n",
            "100%|██████████| 240/240 [00:02<00:00, 81.31it/s]\n"
          ]
        },
        {
          "name": "stdout",
          "output_type": "stream",
          "text": [
            "[MoviePy] Done.\n",
            "[MoviePy] >>>> Video ready: /content/drive/MyDrive/gp/The Girl Who Believes in Miracles/clip/293.mp4 \n",
            "\n",
            "293번째 클립 저장 완료\n",
            "[MoviePy] >>>> Building video /content/drive/MyDrive/gp/The Girl Who Believes in Miracles/clip/294.mp4\n",
            "[MoviePy] Writing audio in 294TEMP_MPY_wvf_snd.mp3\n"
          ]
        },
        {
          "name": "stderr",
          "output_type": "stream",
          "text": [
            "100%|██████████| 221/221 [00:00<00:00, 543.70it/s]"
          ]
        },
        {
          "name": "stdout",
          "output_type": "stream",
          "text": [
            "[MoviePy] Done.\n",
            "[MoviePy] Writing video /content/drive/MyDrive/gp/The Girl Who Believes in Miracles/clip/294.mp4\n"
          ]
        },
        {
          "name": "stderr",
          "output_type": "stream",
          "text": [
            "\n",
            "100%|██████████| 240/240 [00:02<00:00, 83.58it/s]\n"
          ]
        },
        {
          "name": "stdout",
          "output_type": "stream",
          "text": [
            "[MoviePy] Done.\n",
            "[MoviePy] >>>> Video ready: /content/drive/MyDrive/gp/The Girl Who Believes in Miracles/clip/294.mp4 \n",
            "\n",
            "294번째 클립 저장 완료\n",
            "[MoviePy] >>>> Building video /content/drive/MyDrive/gp/The Girl Who Believes in Miracles/clip/295.mp4\n",
            "[MoviePy] Writing audio in 295TEMP_MPY_wvf_snd.mp3\n"
          ]
        },
        {
          "name": "stderr",
          "output_type": "stream",
          "text": [
            "100%|██████████| 221/221 [00:00<00:00, 528.58it/s]"
          ]
        },
        {
          "name": "stdout",
          "output_type": "stream",
          "text": [
            "[MoviePy] Done.\n",
            "[MoviePy] Writing video /content/drive/MyDrive/gp/The Girl Who Believes in Miracles/clip/295.mp4\n"
          ]
        },
        {
          "name": "stderr",
          "output_type": "stream",
          "text": [
            "\n",
            "100%|██████████| 240/240 [00:03<00:00, 79.97it/s]\n"
          ]
        },
        {
          "name": "stdout",
          "output_type": "stream",
          "text": [
            "[MoviePy] Done.\n",
            "[MoviePy] >>>> Video ready: /content/drive/MyDrive/gp/The Girl Who Believes in Miracles/clip/295.mp4 \n",
            "\n",
            "295번째 클립 저장 완료\n",
            "[MoviePy] >>>> Building video /content/drive/MyDrive/gp/The Girl Who Believes in Miracles/clip/296.mp4\n",
            "[MoviePy] Writing audio in 296TEMP_MPY_wvf_snd.mp3\n"
          ]
        },
        {
          "name": "stderr",
          "output_type": "stream",
          "text": [
            "100%|██████████| 221/221 [00:00<00:00, 510.93it/s]"
          ]
        },
        {
          "name": "stdout",
          "output_type": "stream",
          "text": [
            "[MoviePy] Done.\n"
          ]
        },
        {
          "name": "stderr",
          "output_type": "stream",
          "text": [
            "\n"
          ]
        },
        {
          "name": "stdout",
          "output_type": "stream",
          "text": [
            "[MoviePy] Writing video /content/drive/MyDrive/gp/The Girl Who Believes in Miracles/clip/296.mp4\n"
          ]
        },
        {
          "name": "stderr",
          "output_type": "stream",
          "text": [
            "100%|██████████| 240/240 [00:03<00:00, 74.82it/s]\n"
          ]
        },
        {
          "name": "stdout",
          "output_type": "stream",
          "text": [
            "[MoviePy] Done.\n",
            "[MoviePy] >>>> Video ready: /content/drive/MyDrive/gp/The Girl Who Believes in Miracles/clip/296.mp4 \n",
            "\n",
            "296번째 클립 저장 완료\n",
            "[MoviePy] >>>> Building video /content/drive/MyDrive/gp/The Girl Who Believes in Miracles/clip/297.mp4\n",
            "[MoviePy] Writing audio in 297TEMP_MPY_wvf_snd.mp3\n"
          ]
        },
        {
          "name": "stderr",
          "output_type": "stream",
          "text": [
            "100%|██████████| 221/221 [00:00<00:00, 548.88it/s]"
          ]
        },
        {
          "name": "stdout",
          "output_type": "stream",
          "text": [
            "[MoviePy] Done.\n",
            "[MoviePy] Writing video /content/drive/MyDrive/gp/The Girl Who Believes in Miracles/clip/297.mp4\n"
          ]
        },
        {
          "name": "stderr",
          "output_type": "stream",
          "text": [
            "\n",
            "100%|██████████| 240/240 [00:02<00:00, 81.21it/s]\n"
          ]
        },
        {
          "name": "stdout",
          "output_type": "stream",
          "text": [
            "[MoviePy] Done.\n",
            "[MoviePy] >>>> Video ready: /content/drive/MyDrive/gp/The Girl Who Believes in Miracles/clip/297.mp4 \n",
            "\n",
            "297번째 클립 저장 완료\n",
            "[MoviePy] >>>> Building video /content/drive/MyDrive/gp/The Girl Who Believes in Miracles/clip/298.mp4\n",
            "[MoviePy] Writing audio in 298TEMP_MPY_wvf_snd.mp3\n"
          ]
        },
        {
          "name": "stderr",
          "output_type": "stream",
          "text": [
            "100%|██████████| 221/221 [00:00<00:00, 532.62it/s]"
          ]
        },
        {
          "name": "stdout",
          "output_type": "stream",
          "text": [
            "[MoviePy] Done.\n",
            "[MoviePy] Writing video /content/drive/MyDrive/gp/The Girl Who Believes in Miracles/clip/298.mp4\n"
          ]
        },
        {
          "name": "stderr",
          "output_type": "stream",
          "text": [
            "\n",
            "100%|██████████| 240/240 [00:02<00:00, 81.65it/s]\n"
          ]
        },
        {
          "name": "stdout",
          "output_type": "stream",
          "text": [
            "[MoviePy] Done.\n",
            "[MoviePy] >>>> Video ready: /content/drive/MyDrive/gp/The Girl Who Believes in Miracles/clip/298.mp4 \n",
            "\n",
            "298번째 클립 저장 완료\n",
            "[MoviePy] >>>> Building video /content/drive/MyDrive/gp/The Girl Who Believes in Miracles/clip/299.mp4\n",
            "[MoviePy] Writing audio in 299TEMP_MPY_wvf_snd.mp3\n"
          ]
        },
        {
          "name": "stderr",
          "output_type": "stream",
          "text": [
            "100%|██████████| 221/221 [00:00<00:00, 521.27it/s]"
          ]
        },
        {
          "name": "stdout",
          "output_type": "stream",
          "text": [
            "[MoviePy] Done.\n",
            "[MoviePy] Writing video /content/drive/MyDrive/gp/The Girl Who Believes in Miracles/clip/299.mp4\n"
          ]
        },
        {
          "name": "stderr",
          "output_type": "stream",
          "text": [
            "\n",
            "100%|██████████| 240/240 [00:03<00:00, 71.46it/s]\n"
          ]
        },
        {
          "name": "stdout",
          "output_type": "stream",
          "text": [
            "[MoviePy] Done.\n",
            "[MoviePy] >>>> Video ready: /content/drive/MyDrive/gp/The Girl Who Believes in Miracles/clip/299.mp4 \n",
            "\n",
            "299번째 클립 저장 완료\n",
            "[MoviePy] >>>> Building video /content/drive/MyDrive/gp/The Girl Who Believes in Miracles/clip/300.mp4\n",
            "[MoviePy] Writing audio in 300TEMP_MPY_wvf_snd.mp3\n"
          ]
        },
        {
          "name": "stderr",
          "output_type": "stream",
          "text": [
            "100%|██████████| 221/221 [00:00<00:00, 529.86it/s]"
          ]
        },
        {
          "name": "stdout",
          "output_type": "stream",
          "text": [
            "[MoviePy] Done.\n",
            "[MoviePy] Writing video /content/drive/MyDrive/gp/The Girl Who Believes in Miracles/clip/300.mp4\n"
          ]
        },
        {
          "name": "stderr",
          "output_type": "stream",
          "text": [
            "\n",
            "100%|██████████| 240/240 [00:03<00:00, 69.97it/s]\n"
          ]
        },
        {
          "name": "stdout",
          "output_type": "stream",
          "text": [
            "[MoviePy] Done.\n",
            "[MoviePy] >>>> Video ready: /content/drive/MyDrive/gp/The Girl Who Believes in Miracles/clip/300.mp4 \n",
            "\n",
            "300번째 클립 저장 완료\n",
            "[MoviePy] >>>> Building video /content/drive/MyDrive/gp/The Girl Who Believes in Miracles/clip/301.mp4\n",
            "[MoviePy] Writing audio in 301TEMP_MPY_wvf_snd.mp3\n"
          ]
        },
        {
          "name": "stderr",
          "output_type": "stream",
          "text": [
            "100%|██████████| 221/221 [00:00<00:00, 523.27it/s]"
          ]
        },
        {
          "name": "stdout",
          "output_type": "stream",
          "text": [
            "[MoviePy] Done.\n",
            "[MoviePy] Writing video /content/drive/MyDrive/gp/The Girl Who Believes in Miracles/clip/301.mp4\n"
          ]
        },
        {
          "name": "stderr",
          "output_type": "stream",
          "text": [
            "\n",
            "100%|██████████| 240/240 [00:03<00:00, 76.30it/s]\n"
          ]
        },
        {
          "name": "stdout",
          "output_type": "stream",
          "text": [
            "[MoviePy] Done.\n",
            "[MoviePy] >>>> Video ready: /content/drive/MyDrive/gp/The Girl Who Believes in Miracles/clip/301.mp4 \n",
            "\n",
            "301번째 클립 저장 완료\n",
            "[MoviePy] >>>> Building video /content/drive/MyDrive/gp/The Girl Who Believes in Miracles/clip/302.mp4\n",
            "[MoviePy] Writing audio in 302TEMP_MPY_wvf_snd.mp3\n"
          ]
        },
        {
          "name": "stderr",
          "output_type": "stream",
          "text": [
            "100%|██████████| 221/221 [00:00<00:00, 503.06it/s]"
          ]
        },
        {
          "name": "stdout",
          "output_type": "stream",
          "text": [
            "[MoviePy] Done.\n",
            "[MoviePy] Writing video /content/drive/MyDrive/gp/The Girl Who Believes in Miracles/clip/302.mp4\n"
          ]
        },
        {
          "name": "stderr",
          "output_type": "stream",
          "text": [
            "\n",
            "100%|██████████| 240/240 [00:03<00:00, 77.25it/s]\n"
          ]
        },
        {
          "name": "stdout",
          "output_type": "stream",
          "text": [
            "[MoviePy] Done.\n",
            "[MoviePy] >>>> Video ready: /content/drive/MyDrive/gp/The Girl Who Believes in Miracles/clip/302.mp4 \n",
            "\n",
            "302번째 클립 저장 완료\n",
            "[MoviePy] >>>> Building video /content/drive/MyDrive/gp/The Girl Who Believes in Miracles/clip/303.mp4\n",
            "[MoviePy] Writing audio in 303TEMP_MPY_wvf_snd.mp3\n"
          ]
        },
        {
          "name": "stderr",
          "output_type": "stream",
          "text": [
            "100%|██████████| 221/221 [00:00<00:00, 521.87it/s]"
          ]
        },
        {
          "name": "stdout",
          "output_type": "stream",
          "text": [
            "[MoviePy] Done.\n",
            "[MoviePy] Writing video /content/drive/MyDrive/gp/The Girl Who Believes in Miracles/clip/303.mp4\n"
          ]
        },
        {
          "name": "stderr",
          "output_type": "stream",
          "text": [
            "\n",
            "100%|██████████| 240/240 [00:03<00:00, 73.23it/s]\n"
          ]
        },
        {
          "name": "stdout",
          "output_type": "stream",
          "text": [
            "[MoviePy] Done.\n",
            "[MoviePy] >>>> Video ready: /content/drive/MyDrive/gp/The Girl Who Believes in Miracles/clip/303.mp4 \n",
            "\n",
            "303번째 클립 저장 완료\n",
            "[MoviePy] >>>> Building video /content/drive/MyDrive/gp/The Girl Who Believes in Miracles/clip/304.mp4\n",
            "[MoviePy] Writing audio in 304TEMP_MPY_wvf_snd.mp3\n"
          ]
        },
        {
          "name": "stderr",
          "output_type": "stream",
          "text": [
            "100%|██████████| 221/221 [00:00<00:00, 506.16it/s]"
          ]
        },
        {
          "name": "stdout",
          "output_type": "stream",
          "text": [
            "[MoviePy] Done.\n"
          ]
        },
        {
          "name": "stderr",
          "output_type": "stream",
          "text": [
            "\n"
          ]
        },
        {
          "name": "stdout",
          "output_type": "stream",
          "text": [
            "[MoviePy] Writing video /content/drive/MyDrive/gp/The Girl Who Believes in Miracles/clip/304.mp4\n"
          ]
        },
        {
          "name": "stderr",
          "output_type": "stream",
          "text": [
            "100%|██████████| 240/240 [00:03<00:00, 75.67it/s]\n"
          ]
        },
        {
          "name": "stdout",
          "output_type": "stream",
          "text": [
            "[MoviePy] Done.\n",
            "[MoviePy] >>>> Video ready: /content/drive/MyDrive/gp/The Girl Who Believes in Miracles/clip/304.mp4 \n",
            "\n",
            "304번째 클립 저장 완료\n",
            "[MoviePy] >>>> Building video /content/drive/MyDrive/gp/The Girl Who Believes in Miracles/clip/305.mp4\n",
            "[MoviePy] Writing audio in 305TEMP_MPY_wvf_snd.mp3\n"
          ]
        },
        {
          "name": "stderr",
          "output_type": "stream",
          "text": [
            "100%|██████████| 221/221 [00:00<00:00, 530.32it/s]"
          ]
        },
        {
          "name": "stdout",
          "output_type": "stream",
          "text": [
            "[MoviePy] Done.\n",
            "[MoviePy] Writing video /content/drive/MyDrive/gp/The Girl Who Believes in Miracles/clip/305.mp4\n"
          ]
        },
        {
          "name": "stderr",
          "output_type": "stream",
          "text": [
            "\n",
            "100%|██████████| 240/240 [00:03<00:00, 79.90it/s]\n"
          ]
        },
        {
          "name": "stdout",
          "output_type": "stream",
          "text": [
            "[MoviePy] Done.\n",
            "[MoviePy] >>>> Video ready: /content/drive/MyDrive/gp/The Girl Who Believes in Miracles/clip/305.mp4 \n",
            "\n",
            "305번째 클립 저장 완료\n",
            "[MoviePy] >>>> Building video /content/drive/MyDrive/gp/The Girl Who Believes in Miracles/clip/306.mp4\n",
            "[MoviePy] Writing audio in 306TEMP_MPY_wvf_snd.mp3\n"
          ]
        },
        {
          "name": "stderr",
          "output_type": "stream",
          "text": [
            "100%|██████████| 221/221 [00:00<00:00, 518.27it/s]"
          ]
        },
        {
          "name": "stdout",
          "output_type": "stream",
          "text": [
            "[MoviePy] Done.\n",
            "[MoviePy] Writing video /content/drive/MyDrive/gp/The Girl Who Believes in Miracles/clip/306.mp4\n"
          ]
        },
        {
          "name": "stderr",
          "output_type": "stream",
          "text": [
            "\n",
            "100%|██████████| 240/240 [00:03<00:00, 78.37it/s]\n"
          ]
        },
        {
          "name": "stdout",
          "output_type": "stream",
          "text": [
            "[MoviePy] Done.\n",
            "[MoviePy] >>>> Video ready: /content/drive/MyDrive/gp/The Girl Who Believes in Miracles/clip/306.mp4 \n",
            "\n",
            "306번째 클립 저장 완료\n",
            "[MoviePy] >>>> Building video /content/drive/MyDrive/gp/The Girl Who Believes in Miracles/clip/307.mp4\n",
            "[MoviePy] Writing audio in 307TEMP_MPY_wvf_snd.mp3\n"
          ]
        },
        {
          "name": "stderr",
          "output_type": "stream",
          "text": [
            "100%|██████████| 221/221 [00:00<00:00, 532.38it/s]"
          ]
        },
        {
          "name": "stdout",
          "output_type": "stream",
          "text": [
            "[MoviePy] Done.\n",
            "[MoviePy] Writing video /content/drive/MyDrive/gp/The Girl Who Believes in Miracles/clip/307.mp4\n"
          ]
        },
        {
          "name": "stderr",
          "output_type": "stream",
          "text": [
            "\n",
            "100%|██████████| 240/240 [00:03<00:00, 74.55it/s]\n"
          ]
        },
        {
          "name": "stdout",
          "output_type": "stream",
          "text": [
            "[MoviePy] Done.\n",
            "[MoviePy] >>>> Video ready: /content/drive/MyDrive/gp/The Girl Who Believes in Miracles/clip/307.mp4 \n",
            "\n",
            "307번째 클립 저장 완료\n",
            "[MoviePy] >>>> Building video /content/drive/MyDrive/gp/The Girl Who Believes in Miracles/clip/308.mp4\n",
            "[MoviePy] Writing audio in 308TEMP_MPY_wvf_snd.mp3\n"
          ]
        },
        {
          "name": "stderr",
          "output_type": "stream",
          "text": [
            "100%|██████████| 221/221 [00:00<00:00, 491.36it/s]"
          ]
        },
        {
          "name": "stdout",
          "output_type": "stream",
          "text": [
            "[MoviePy] Done.\n",
            "[MoviePy] Writing video /content/drive/MyDrive/gp/The Girl Who Believes in Miracles/clip/308.mp4\n"
          ]
        },
        {
          "name": "stderr",
          "output_type": "stream",
          "text": [
            "\n",
            "100%|██████████| 240/240 [00:03<00:00, 78.03it/s]\n"
          ]
        },
        {
          "name": "stdout",
          "output_type": "stream",
          "text": [
            "[MoviePy] Done.\n",
            "[MoviePy] >>>> Video ready: /content/drive/MyDrive/gp/The Girl Who Believes in Miracles/clip/308.mp4 \n",
            "\n",
            "308번째 클립 저장 완료\n",
            "[MoviePy] >>>> Building video /content/drive/MyDrive/gp/The Girl Who Believes in Miracles/clip/309.mp4\n",
            "[MoviePy] Writing audio in 309TEMP_MPY_wvf_snd.mp3\n"
          ]
        },
        {
          "name": "stderr",
          "output_type": "stream",
          "text": [
            "100%|██████████| 221/221 [00:00<00:00, 509.72it/s]"
          ]
        },
        {
          "name": "stdout",
          "output_type": "stream",
          "text": [
            "[MoviePy] Done.\n",
            "[MoviePy] Writing video /content/drive/MyDrive/gp/The Girl Who Believes in Miracles/clip/309.mp4\n"
          ]
        },
        {
          "name": "stderr",
          "output_type": "stream",
          "text": [
            "\n",
            "100%|██████████| 240/240 [00:03<00:00, 77.89it/s]\n"
          ]
        },
        {
          "name": "stdout",
          "output_type": "stream",
          "text": [
            "[MoviePy] Done.\n",
            "[MoviePy] >>>> Video ready: /content/drive/MyDrive/gp/The Girl Who Believes in Miracles/clip/309.mp4 \n",
            "\n",
            "309번째 클립 저장 완료\n",
            "[MoviePy] >>>> Building video /content/drive/MyDrive/gp/The Girl Who Believes in Miracles/clip/310.mp4\n",
            "[MoviePy] Writing audio in 310TEMP_MPY_wvf_snd.mp3\n"
          ]
        },
        {
          "name": "stderr",
          "output_type": "stream",
          "text": [
            "100%|██████████| 221/221 [00:00<00:00, 520.61it/s]"
          ]
        },
        {
          "name": "stdout",
          "output_type": "stream",
          "text": [
            "[MoviePy] Done.\n",
            "[MoviePy] Writing video /content/drive/MyDrive/gp/The Girl Who Believes in Miracles/clip/310.mp4\n"
          ]
        },
        {
          "name": "stderr",
          "output_type": "stream",
          "text": [
            "\n",
            "100%|██████████| 240/240 [00:03<00:00, 72.79it/s]\n"
          ]
        },
        {
          "name": "stdout",
          "output_type": "stream",
          "text": [
            "[MoviePy] Done.\n",
            "[MoviePy] >>>> Video ready: /content/drive/MyDrive/gp/The Girl Who Believes in Miracles/clip/310.mp4 \n",
            "\n",
            "310번째 클립 저장 완료\n",
            "[MoviePy] >>>> Building video /content/drive/MyDrive/gp/The Girl Who Believes in Miracles/clip/311.mp4\n",
            "[MoviePy] Writing audio in 311TEMP_MPY_wvf_snd.mp3\n"
          ]
        },
        {
          "name": "stderr",
          "output_type": "stream",
          "text": [
            "100%|██████████| 221/221 [00:00<00:00, 542.98it/s]"
          ]
        },
        {
          "name": "stdout",
          "output_type": "stream",
          "text": [
            "[MoviePy] Done.\n",
            "[MoviePy] Writing video /content/drive/MyDrive/gp/The Girl Who Believes in Miracles/clip/311.mp4\n"
          ]
        },
        {
          "name": "stderr",
          "output_type": "stream",
          "text": [
            "\n",
            "100%|██████████| 240/240 [00:03<00:00, 68.05it/s]\n"
          ]
        },
        {
          "name": "stdout",
          "output_type": "stream",
          "text": [
            "[MoviePy] Done.\n",
            "[MoviePy] >>>> Video ready: /content/drive/MyDrive/gp/The Girl Who Believes in Miracles/clip/311.mp4 \n",
            "\n",
            "311번째 클립 저장 완료\n",
            "[MoviePy] >>>> Building video /content/drive/MyDrive/gp/The Girl Who Believes in Miracles/clip/312.mp4\n",
            "[MoviePy] Writing audio in 312TEMP_MPY_wvf_snd.mp3\n"
          ]
        },
        {
          "name": "stderr",
          "output_type": "stream",
          "text": [
            "100%|██████████| 221/221 [00:00<00:00, 517.02it/s]"
          ]
        },
        {
          "name": "stdout",
          "output_type": "stream",
          "text": [
            "[MoviePy] Done.\n",
            "[MoviePy] Writing video /content/drive/MyDrive/gp/The Girl Who Believes in Miracles/clip/312.mp4\n"
          ]
        },
        {
          "name": "stderr",
          "output_type": "stream",
          "text": [
            "\n",
            "100%|██████████| 240/240 [00:03<00:00, 77.47it/s]\n"
          ]
        },
        {
          "name": "stdout",
          "output_type": "stream",
          "text": [
            "[MoviePy] Done.\n",
            "[MoviePy] >>>> Video ready: /content/drive/MyDrive/gp/The Girl Who Believes in Miracles/clip/312.mp4 \n",
            "\n",
            "312번째 클립 저장 완료\n",
            "[MoviePy] >>>> Building video /content/drive/MyDrive/gp/The Girl Who Believes in Miracles/clip/313.mp4\n",
            "[MoviePy] Writing audio in 313TEMP_MPY_wvf_snd.mp3\n"
          ]
        },
        {
          "name": "stderr",
          "output_type": "stream",
          "text": [
            "100%|██████████| 221/221 [00:00<00:00, 523.22it/s]"
          ]
        },
        {
          "name": "stdout",
          "output_type": "stream",
          "text": [
            "[MoviePy] Done.\n",
            "[MoviePy] Writing video /content/drive/MyDrive/gp/The Girl Who Believes in Miracles/clip/313.mp4\n"
          ]
        },
        {
          "name": "stderr",
          "output_type": "stream",
          "text": [
            "\n",
            "100%|██████████| 240/240 [00:03<00:00, 78.27it/s]\n"
          ]
        },
        {
          "name": "stdout",
          "output_type": "stream",
          "text": [
            "[MoviePy] Done.\n",
            "[MoviePy] >>>> Video ready: /content/drive/MyDrive/gp/The Girl Who Believes in Miracles/clip/313.mp4 \n",
            "\n",
            "313번째 클립 저장 완료\n",
            "[MoviePy] >>>> Building video /content/drive/MyDrive/gp/The Girl Who Believes in Miracles/clip/314.mp4\n",
            "[MoviePy] Writing audio in 314TEMP_MPY_wvf_snd.mp3\n"
          ]
        },
        {
          "name": "stderr",
          "output_type": "stream",
          "text": [
            "100%|██████████| 221/221 [00:00<00:00, 501.76it/s]"
          ]
        },
        {
          "name": "stdout",
          "output_type": "stream",
          "text": [
            "[MoviePy] Done.\n",
            "[MoviePy] Writing video /content/drive/MyDrive/gp/The Girl Who Believes in Miracles/clip/314.mp4\n"
          ]
        },
        {
          "name": "stderr",
          "output_type": "stream",
          "text": [
            "\n",
            "100%|██████████| 240/240 [00:02<00:00, 81.13it/s]\n"
          ]
        },
        {
          "name": "stdout",
          "output_type": "stream",
          "text": [
            "[MoviePy] Done.\n",
            "[MoviePy] >>>> Video ready: /content/drive/MyDrive/gp/The Girl Who Believes in Miracles/clip/314.mp4 \n",
            "\n",
            "314번째 클립 저장 완료\n",
            "[MoviePy] >>>> Building video /content/drive/MyDrive/gp/The Girl Who Believes in Miracles/clip/315.mp4\n",
            "[MoviePy] Writing audio in 315TEMP_MPY_wvf_snd.mp3\n"
          ]
        },
        {
          "name": "stderr",
          "output_type": "stream",
          "text": [
            "100%|██████████| 221/221 [00:00<00:00, 499.19it/s]\n"
          ]
        },
        {
          "name": "stdout",
          "output_type": "stream",
          "text": [
            "[MoviePy] Done.\n",
            "[MoviePy] Writing video /content/drive/MyDrive/gp/The Girl Who Believes in Miracles/clip/315.mp4\n"
          ]
        },
        {
          "name": "stderr",
          "output_type": "stream",
          "text": [
            "100%|██████████| 240/240 [00:02<00:00, 83.72it/s]\n"
          ]
        },
        {
          "name": "stdout",
          "output_type": "stream",
          "text": [
            "[MoviePy] Done.\n",
            "[MoviePy] >>>> Video ready: /content/drive/MyDrive/gp/The Girl Who Believes in Miracles/clip/315.mp4 \n",
            "\n",
            "315번째 클립 저장 완료\n",
            "[MoviePy] >>>> Building video /content/drive/MyDrive/gp/The Girl Who Believes in Miracles/clip/316.mp4\n",
            "[MoviePy] Writing audio in 316TEMP_MPY_wvf_snd.mp3\n"
          ]
        },
        {
          "name": "stderr",
          "output_type": "stream",
          "text": [
            "100%|██████████| 221/221 [00:00<00:00, 530.50it/s]"
          ]
        },
        {
          "name": "stdout",
          "output_type": "stream",
          "text": [
            "[MoviePy] Done.\n",
            "[MoviePy] Writing video /content/drive/MyDrive/gp/The Girl Who Believes in Miracles/clip/316.mp4\n"
          ]
        },
        {
          "name": "stderr",
          "output_type": "stream",
          "text": [
            "\n",
            "100%|██████████| 240/240 [00:05<00:00, 46.02it/s]\n"
          ]
        },
        {
          "name": "stdout",
          "output_type": "stream",
          "text": [
            "[MoviePy] Done.\n",
            "[MoviePy] >>>> Video ready: /content/drive/MyDrive/gp/The Girl Who Believes in Miracles/clip/316.mp4 \n",
            "\n",
            "316번째 클립 저장 완료\n",
            "[MoviePy] >>>> Building video /content/drive/MyDrive/gp/The Girl Who Believes in Miracles/clip/317.mp4\n",
            "[MoviePy] Writing audio in 317TEMP_MPY_wvf_snd.mp3\n"
          ]
        },
        {
          "name": "stderr",
          "output_type": "stream",
          "text": [
            "100%|██████████| 221/221 [00:00<00:00, 313.31it/s]"
          ]
        },
        {
          "name": "stdout",
          "output_type": "stream",
          "text": [
            "[MoviePy] Done.\n",
            "[MoviePy] Writing video /content/drive/MyDrive/gp/The Girl Who Believes in Miracles/clip/317.mp4\n"
          ]
        },
        {
          "name": "stderr",
          "output_type": "stream",
          "text": [
            "\n",
            "100%|██████████| 240/240 [00:06<00:00, 37.71it/s]\n"
          ]
        },
        {
          "name": "stdout",
          "output_type": "stream",
          "text": [
            "[MoviePy] Done.\n",
            "[MoviePy] >>>> Video ready: /content/drive/MyDrive/gp/The Girl Who Believes in Miracles/clip/317.mp4 \n",
            "\n",
            "317번째 클립 저장 완료\n",
            "[MoviePy] >>>> Building video /content/drive/MyDrive/gp/The Girl Who Believes in Miracles/clip/318.mp4\n",
            "[MoviePy] Writing audio in 318TEMP_MPY_wvf_snd.mp3\n"
          ]
        },
        {
          "name": "stderr",
          "output_type": "stream",
          "text": [
            "100%|██████████| 221/221 [00:00<00:00, 530.71it/s]"
          ]
        },
        {
          "name": "stdout",
          "output_type": "stream",
          "text": [
            "[MoviePy] Done.\n",
            "[MoviePy] Writing video /content/drive/MyDrive/gp/The Girl Who Believes in Miracles/clip/318.mp4\n"
          ]
        },
        {
          "name": "stderr",
          "output_type": "stream",
          "text": [
            "\n",
            "100%|██████████| 240/240 [00:03<00:00, 72.64it/s]\n"
          ]
        },
        {
          "name": "stdout",
          "output_type": "stream",
          "text": [
            "[MoviePy] Done.\n",
            "[MoviePy] >>>> Video ready: /content/drive/MyDrive/gp/The Girl Who Believes in Miracles/clip/318.mp4 \n",
            "\n",
            "318번째 클립 저장 완료\n",
            "[MoviePy] >>>> Building video /content/drive/MyDrive/gp/The Girl Who Believes in Miracles/clip/319.mp4\n",
            "[MoviePy] Writing audio in 319TEMP_MPY_wvf_snd.mp3\n"
          ]
        },
        {
          "name": "stderr",
          "output_type": "stream",
          "text": [
            "100%|██████████| 221/221 [00:00<00:00, 530.77it/s]"
          ]
        },
        {
          "name": "stdout",
          "output_type": "stream",
          "text": [
            "[MoviePy] Done.\n",
            "[MoviePy] Writing video /content/drive/MyDrive/gp/The Girl Who Believes in Miracles/clip/319.mp4\n"
          ]
        },
        {
          "name": "stderr",
          "output_type": "stream",
          "text": [
            "\n",
            "100%|██████████| 240/240 [00:03<00:00, 64.82it/s]\n"
          ]
        },
        {
          "name": "stdout",
          "output_type": "stream",
          "text": [
            "[MoviePy] Done.\n",
            "[MoviePy] >>>> Video ready: /content/drive/MyDrive/gp/The Girl Who Believes in Miracles/clip/319.mp4 \n",
            "\n",
            "319번째 클립 저장 완료\n",
            "[MoviePy] >>>> Building video /content/drive/MyDrive/gp/The Girl Who Believes in Miracles/clip/320.mp4\n",
            "[MoviePy] Writing audio in 320TEMP_MPY_wvf_snd.mp3\n"
          ]
        },
        {
          "name": "stderr",
          "output_type": "stream",
          "text": [
            "100%|██████████| 221/221 [00:00<00:00, 507.13it/s]"
          ]
        },
        {
          "name": "stdout",
          "output_type": "stream",
          "text": [
            "[MoviePy] Done.\n",
            "[MoviePy] Writing video /content/drive/MyDrive/gp/The Girl Who Believes in Miracles/clip/320.mp4\n"
          ]
        },
        {
          "name": "stderr",
          "output_type": "stream",
          "text": [
            "\n",
            "100%|██████████| 240/240 [00:03<00:00, 66.42it/s]\n"
          ]
        },
        {
          "name": "stdout",
          "output_type": "stream",
          "text": [
            "[MoviePy] Done.\n",
            "[MoviePy] >>>> Video ready: /content/drive/MyDrive/gp/The Girl Who Believes in Miracles/clip/320.mp4 \n",
            "\n",
            "320번째 클립 저장 완료\n",
            "[MoviePy] >>>> Building video /content/drive/MyDrive/gp/The Girl Who Believes in Miracles/clip/321.mp4\n",
            "[MoviePy] Writing audio in 321TEMP_MPY_wvf_snd.mp3\n"
          ]
        },
        {
          "name": "stderr",
          "output_type": "stream",
          "text": [
            "100%|██████████| 221/221 [00:00<00:00, 524.95it/s]"
          ]
        },
        {
          "name": "stdout",
          "output_type": "stream",
          "text": [
            "[MoviePy] Done.\n",
            "[MoviePy] Writing video /content/drive/MyDrive/gp/The Girl Who Believes in Miracles/clip/321.mp4\n"
          ]
        },
        {
          "name": "stderr",
          "output_type": "stream",
          "text": [
            "\n",
            "100%|██████████| 240/240 [00:03<00:00, 70.58it/s]\n"
          ]
        },
        {
          "name": "stdout",
          "output_type": "stream",
          "text": [
            "[MoviePy] Done.\n",
            "[MoviePy] >>>> Video ready: /content/drive/MyDrive/gp/The Girl Who Believes in Miracles/clip/321.mp4 \n",
            "\n",
            "321번째 클립 저장 완료\n",
            "[MoviePy] >>>> Building video /content/drive/MyDrive/gp/The Girl Who Believes in Miracles/clip/322.mp4\n",
            "[MoviePy] Writing audio in 322TEMP_MPY_wvf_snd.mp3\n"
          ]
        },
        {
          "name": "stderr",
          "output_type": "stream",
          "text": [
            "100%|██████████| 221/221 [00:00<00:00, 522.46it/s]"
          ]
        },
        {
          "name": "stdout",
          "output_type": "stream",
          "text": [
            "[MoviePy] Done.\n",
            "[MoviePy] Writing video /content/drive/MyDrive/gp/The Girl Who Believes in Miracles/clip/322.mp4\n"
          ]
        },
        {
          "name": "stderr",
          "output_type": "stream",
          "text": [
            "\n",
            "100%|██████████| 240/240 [00:03<00:00, 74.09it/s]\n"
          ]
        },
        {
          "name": "stdout",
          "output_type": "stream",
          "text": [
            "[MoviePy] Done.\n",
            "[MoviePy] >>>> Video ready: /content/drive/MyDrive/gp/The Girl Who Believes in Miracles/clip/322.mp4 \n",
            "\n",
            "322번째 클립 저장 완료\n",
            "[MoviePy] >>>> Building video /content/drive/MyDrive/gp/The Girl Who Believes in Miracles/clip/323.mp4\n",
            "[MoviePy] Writing audio in 323TEMP_MPY_wvf_snd.mp3\n"
          ]
        },
        {
          "name": "stderr",
          "output_type": "stream",
          "text": [
            "100%|██████████| 221/221 [00:00<00:00, 475.36it/s]"
          ]
        },
        {
          "name": "stdout",
          "output_type": "stream",
          "text": [
            "[MoviePy] Done.\n",
            "[MoviePy] Writing video /content/drive/MyDrive/gp/The Girl Who Believes in Miracles/clip/323.mp4\n"
          ]
        },
        {
          "name": "stderr",
          "output_type": "stream",
          "text": [
            "\n",
            "100%|██████████| 240/240 [00:03<00:00, 76.48it/s]\n"
          ]
        },
        {
          "name": "stdout",
          "output_type": "stream",
          "text": [
            "[MoviePy] Done.\n",
            "[MoviePy] >>>> Video ready: /content/drive/MyDrive/gp/The Girl Who Believes in Miracles/clip/323.mp4 \n",
            "\n",
            "323번째 클립 저장 완료\n",
            "[MoviePy] >>>> Building video /content/drive/MyDrive/gp/The Girl Who Believes in Miracles/clip/324.mp4\n",
            "[MoviePy] Writing audio in 324TEMP_MPY_wvf_snd.mp3\n"
          ]
        },
        {
          "name": "stderr",
          "output_type": "stream",
          "text": [
            "100%|██████████| 221/221 [00:00<00:00, 509.98it/s]"
          ]
        },
        {
          "name": "stdout",
          "output_type": "stream",
          "text": [
            "[MoviePy] Done.\n",
            "[MoviePy] Writing video /content/drive/MyDrive/gp/The Girl Who Believes in Miracles/clip/324.mp4\n"
          ]
        },
        {
          "name": "stderr",
          "output_type": "stream",
          "text": [
            "\n",
            "100%|██████████| 240/240 [00:03<00:00, 69.54it/s]\n"
          ]
        },
        {
          "name": "stdout",
          "output_type": "stream",
          "text": [
            "[MoviePy] Done.\n",
            "[MoviePy] >>>> Video ready: /content/drive/MyDrive/gp/The Girl Who Believes in Miracles/clip/324.mp4 \n",
            "\n",
            "324번째 클립 저장 완료\n",
            "[MoviePy] >>>> Building video /content/drive/MyDrive/gp/The Girl Who Believes in Miracles/clip/325.mp4\n",
            "[MoviePy] Writing audio in 325TEMP_MPY_wvf_snd.mp3\n"
          ]
        },
        {
          "name": "stderr",
          "output_type": "stream",
          "text": [
            "100%|██████████| 221/221 [00:00<00:00, 515.61it/s]"
          ]
        },
        {
          "name": "stdout",
          "output_type": "stream",
          "text": [
            "[MoviePy] Done.\n",
            "[MoviePy] Writing video /content/drive/MyDrive/gp/The Girl Who Believes in Miracles/clip/325.mp4\n"
          ]
        },
        {
          "name": "stderr",
          "output_type": "stream",
          "text": [
            "\n",
            "100%|██████████| 240/240 [00:03<00:00, 69.91it/s]\n"
          ]
        },
        {
          "name": "stdout",
          "output_type": "stream",
          "text": [
            "[MoviePy] Done.\n",
            "[MoviePy] >>>> Video ready: /content/drive/MyDrive/gp/The Girl Who Believes in Miracles/clip/325.mp4 \n",
            "\n",
            "325번째 클립 저장 완료\n",
            "[MoviePy] >>>> Building video /content/drive/MyDrive/gp/The Girl Who Believes in Miracles/clip/326.mp4\n",
            "[MoviePy] Writing audio in 326TEMP_MPY_wvf_snd.mp3\n"
          ]
        },
        {
          "name": "stderr",
          "output_type": "stream",
          "text": [
            "100%|██████████| 221/221 [00:00<00:00, 516.97it/s]"
          ]
        },
        {
          "name": "stdout",
          "output_type": "stream",
          "text": [
            "[MoviePy] Done.\n",
            "[MoviePy] Writing video /content/drive/MyDrive/gp/The Girl Who Believes in Miracles/clip/326.mp4\n"
          ]
        },
        {
          "name": "stderr",
          "output_type": "stream",
          "text": [
            "\n",
            "100%|██████████| 240/240 [00:03<00:00, 74.25it/s]\n"
          ]
        },
        {
          "name": "stdout",
          "output_type": "stream",
          "text": [
            "[MoviePy] Done.\n",
            "[MoviePy] >>>> Video ready: /content/drive/MyDrive/gp/The Girl Who Believes in Miracles/clip/326.mp4 \n",
            "\n",
            "326번째 클립 저장 완료\n",
            "[MoviePy] >>>> Building video /content/drive/MyDrive/gp/The Girl Who Believes in Miracles/clip/327.mp4\n",
            "[MoviePy] Writing audio in 327TEMP_MPY_wvf_snd.mp3\n"
          ]
        },
        {
          "name": "stderr",
          "output_type": "stream",
          "text": [
            "100%|██████████| 221/221 [00:00<00:00, 522.85it/s]"
          ]
        },
        {
          "name": "stdout",
          "output_type": "stream",
          "text": [
            "[MoviePy] Done.\n",
            "[MoviePy] Writing video /content/drive/MyDrive/gp/The Girl Who Believes in Miracles/clip/327.mp4\n"
          ]
        },
        {
          "name": "stderr",
          "output_type": "stream",
          "text": [
            "\n",
            "100%|██████████| 240/240 [00:03<00:00, 72.65it/s]\n"
          ]
        },
        {
          "name": "stdout",
          "output_type": "stream",
          "text": [
            "[MoviePy] Done.\n",
            "[MoviePy] >>>> Video ready: /content/drive/MyDrive/gp/The Girl Who Believes in Miracles/clip/327.mp4 \n",
            "\n",
            "327번째 클립 저장 완료\n",
            "[MoviePy] >>>> Building video /content/drive/MyDrive/gp/The Girl Who Believes in Miracles/clip/328.mp4\n",
            "[MoviePy] Writing audio in 328TEMP_MPY_wvf_snd.mp3\n"
          ]
        },
        {
          "name": "stderr",
          "output_type": "stream",
          "text": [
            "100%|██████████| 221/221 [00:00<00:00, 524.31it/s]"
          ]
        },
        {
          "name": "stdout",
          "output_type": "stream",
          "text": [
            "[MoviePy] Done.\n",
            "[MoviePy] Writing video /content/drive/MyDrive/gp/The Girl Who Believes in Miracles/clip/328.mp4\n"
          ]
        },
        {
          "name": "stderr",
          "output_type": "stream",
          "text": [
            "\n",
            "100%|██████████| 240/240 [00:03<00:00, 72.86it/s]\n"
          ]
        },
        {
          "name": "stdout",
          "output_type": "stream",
          "text": [
            "[MoviePy] Done.\n",
            "[MoviePy] >>>> Video ready: /content/drive/MyDrive/gp/The Girl Who Believes in Miracles/clip/328.mp4 \n",
            "\n",
            "328번째 클립 저장 완료\n",
            "[MoviePy] >>>> Building video /content/drive/MyDrive/gp/The Girl Who Believes in Miracles/clip/329.mp4\n",
            "[MoviePy] Writing audio in 329TEMP_MPY_wvf_snd.mp3\n"
          ]
        },
        {
          "name": "stderr",
          "output_type": "stream",
          "text": [
            "100%|██████████| 221/221 [00:00<00:00, 515.52it/s]"
          ]
        },
        {
          "name": "stdout",
          "output_type": "stream",
          "text": [
            "[MoviePy] Done.\n",
            "[MoviePy] Writing video /content/drive/MyDrive/gp/The Girl Who Believes in Miracles/clip/329.mp4\n"
          ]
        },
        {
          "name": "stderr",
          "output_type": "stream",
          "text": [
            "\n",
            "100%|██████████| 240/240 [00:03<00:00, 72.97it/s]\n"
          ]
        },
        {
          "name": "stdout",
          "output_type": "stream",
          "text": [
            "[MoviePy] Done.\n",
            "[MoviePy] >>>> Video ready: /content/drive/MyDrive/gp/The Girl Who Believes in Miracles/clip/329.mp4 \n",
            "\n",
            "329번째 클립 저장 완료\n",
            "[MoviePy] >>>> Building video /content/drive/MyDrive/gp/The Girl Who Believes in Miracles/clip/330.mp4\n",
            "[MoviePy] Writing audio in 330TEMP_MPY_wvf_snd.mp3\n"
          ]
        },
        {
          "name": "stderr",
          "output_type": "stream",
          "text": [
            "100%|██████████| 221/221 [00:00<00:00, 524.36it/s]"
          ]
        },
        {
          "name": "stdout",
          "output_type": "stream",
          "text": [
            "[MoviePy] Done.\n",
            "[MoviePy] Writing video /content/drive/MyDrive/gp/The Girl Who Believes in Miracles/clip/330.mp4\n"
          ]
        },
        {
          "name": "stderr",
          "output_type": "stream",
          "text": [
            "\n",
            "100%|██████████| 240/240 [00:03<00:00, 75.46it/s]\n"
          ]
        },
        {
          "name": "stdout",
          "output_type": "stream",
          "text": [
            "[MoviePy] Done.\n",
            "[MoviePy] >>>> Video ready: /content/drive/MyDrive/gp/The Girl Who Believes in Miracles/clip/330.mp4 \n",
            "\n",
            "330번째 클립 저장 완료\n",
            "[MoviePy] >>>> Building video /content/drive/MyDrive/gp/The Girl Who Believes in Miracles/clip/331.mp4\n",
            "[MoviePy] Writing audio in 331TEMP_MPY_wvf_snd.mp3\n"
          ]
        },
        {
          "name": "stderr",
          "output_type": "stream",
          "text": [
            "100%|██████████| 221/221 [00:00<00:00, 523.04it/s]"
          ]
        },
        {
          "name": "stdout",
          "output_type": "stream",
          "text": [
            "[MoviePy] Done.\n",
            "[MoviePy] Writing video /content/drive/MyDrive/gp/The Girl Who Believes in Miracles/clip/331.mp4\n"
          ]
        },
        {
          "name": "stderr",
          "output_type": "stream",
          "text": [
            "\n",
            "100%|██████████| 240/240 [00:03<00:00, 75.33it/s]\n"
          ]
        },
        {
          "name": "stdout",
          "output_type": "stream",
          "text": [
            "[MoviePy] Done.\n",
            "[MoviePy] >>>> Video ready: /content/drive/MyDrive/gp/The Girl Who Believes in Miracles/clip/331.mp4 \n",
            "\n",
            "331번째 클립 저장 완료\n",
            "[MoviePy] >>>> Building video /content/drive/MyDrive/gp/The Girl Who Believes in Miracles/clip/332.mp4\n",
            "[MoviePy] Writing audio in 332TEMP_MPY_wvf_snd.mp3\n"
          ]
        },
        {
          "name": "stderr",
          "output_type": "stream",
          "text": [
            "100%|██████████| 221/221 [00:00<00:00, 517.89it/s]"
          ]
        },
        {
          "name": "stdout",
          "output_type": "stream",
          "text": [
            "[MoviePy] Done.\n",
            "[MoviePy] Writing video /content/drive/MyDrive/gp/The Girl Who Believes in Miracles/clip/332.mp4\n"
          ]
        },
        {
          "name": "stderr",
          "output_type": "stream",
          "text": [
            "\n",
            "100%|██████████| 240/240 [00:03<00:00, 73.70it/s]\n"
          ]
        },
        {
          "name": "stdout",
          "output_type": "stream",
          "text": [
            "[MoviePy] Done.\n",
            "[MoviePy] >>>> Video ready: /content/drive/MyDrive/gp/The Girl Who Believes in Miracles/clip/332.mp4 \n",
            "\n",
            "332번째 클립 저장 완료\n",
            "[MoviePy] >>>> Building video /content/drive/MyDrive/gp/The Girl Who Believes in Miracles/clip/333.mp4\n",
            "[MoviePy] Writing audio in 333TEMP_MPY_wvf_snd.mp3\n"
          ]
        },
        {
          "name": "stderr",
          "output_type": "stream",
          "text": [
            "100%|██████████| 221/221 [00:00<00:00, 523.63it/s]"
          ]
        },
        {
          "name": "stdout",
          "output_type": "stream",
          "text": [
            "[MoviePy] Done.\n",
            "[MoviePy] Writing video /content/drive/MyDrive/gp/The Girl Who Believes in Miracles/clip/333.mp4\n"
          ]
        },
        {
          "name": "stderr",
          "output_type": "stream",
          "text": [
            "\n",
            "100%|██████████| 240/240 [00:03<00:00, 71.13it/s]\n"
          ]
        },
        {
          "name": "stdout",
          "output_type": "stream",
          "text": [
            "[MoviePy] Done.\n",
            "[MoviePy] >>>> Video ready: /content/drive/MyDrive/gp/The Girl Who Believes in Miracles/clip/333.mp4 \n",
            "\n",
            "333번째 클립 저장 완료\n",
            "[MoviePy] >>>> Building video /content/drive/MyDrive/gp/The Girl Who Believes in Miracles/clip/334.mp4\n",
            "[MoviePy] Writing audio in 334TEMP_MPY_wvf_snd.mp3\n"
          ]
        },
        {
          "name": "stderr",
          "output_type": "stream",
          "text": [
            "100%|██████████| 221/221 [00:00<00:00, 510.74it/s]"
          ]
        },
        {
          "name": "stdout",
          "output_type": "stream",
          "text": [
            "[MoviePy] Done.\n",
            "[MoviePy] Writing video /content/drive/MyDrive/gp/The Girl Who Believes in Miracles/clip/334.mp4\n"
          ]
        },
        {
          "name": "stderr",
          "output_type": "stream",
          "text": [
            "\n",
            "100%|██████████| 240/240 [00:03<00:00, 69.61it/s]\n"
          ]
        },
        {
          "name": "stdout",
          "output_type": "stream",
          "text": [
            "[MoviePy] Done.\n",
            "[MoviePy] >>>> Video ready: /content/drive/MyDrive/gp/The Girl Who Believes in Miracles/clip/334.mp4 \n",
            "\n",
            "334번째 클립 저장 완료\n",
            "[MoviePy] >>>> Building video /content/drive/MyDrive/gp/The Girl Who Believes in Miracles/clip/335.mp4\n",
            "[MoviePy] Writing audio in 335TEMP_MPY_wvf_snd.mp3\n"
          ]
        },
        {
          "name": "stderr",
          "output_type": "stream",
          "text": [
            "100%|██████████| 221/221 [00:00<00:00, 501.75it/s]"
          ]
        },
        {
          "name": "stdout",
          "output_type": "stream",
          "text": [
            "[MoviePy] Done.\n",
            "[MoviePy] Writing video /content/drive/MyDrive/gp/The Girl Who Believes in Miracles/clip/335.mp4\n"
          ]
        },
        {
          "name": "stderr",
          "output_type": "stream",
          "text": [
            "\n",
            "100%|██████████| 240/240 [00:03<00:00, 63.87it/s]\n"
          ]
        },
        {
          "name": "stdout",
          "output_type": "stream",
          "text": [
            "[MoviePy] Done.\n",
            "[MoviePy] >>>> Video ready: /content/drive/MyDrive/gp/The Girl Who Believes in Miracles/clip/335.mp4 \n",
            "\n",
            "335번째 클립 저장 완료\n",
            "[MoviePy] >>>> Building video /content/drive/MyDrive/gp/The Girl Who Believes in Miracles/clip/336.mp4\n",
            "[MoviePy] Writing audio in 336TEMP_MPY_wvf_snd.mp3\n"
          ]
        },
        {
          "name": "stderr",
          "output_type": "stream",
          "text": [
            "100%|██████████| 221/221 [00:00<00:00, 469.21it/s]"
          ]
        },
        {
          "name": "stdout",
          "output_type": "stream",
          "text": [
            "[MoviePy] Done.\n",
            "[MoviePy] Writing video /content/drive/MyDrive/gp/The Girl Who Believes in Miracles/clip/336.mp4\n"
          ]
        },
        {
          "name": "stderr",
          "output_type": "stream",
          "text": [
            "\n",
            "100%|██████████| 240/240 [00:02<00:00, 84.61it/s]\n"
          ]
        },
        {
          "name": "stdout",
          "output_type": "stream",
          "text": [
            "[MoviePy] Done.\n",
            "[MoviePy] >>>> Video ready: /content/drive/MyDrive/gp/The Girl Who Believes in Miracles/clip/336.mp4 \n",
            "\n",
            "336번째 클립 저장 완료\n",
            "[MoviePy] >>>> Building video /content/drive/MyDrive/gp/The Girl Who Believes in Miracles/clip/337.mp4\n",
            "[MoviePy] Writing audio in 337TEMP_MPY_wvf_snd.mp3\n"
          ]
        },
        {
          "name": "stderr",
          "output_type": "stream",
          "text": [
            "100%|██████████| 221/221 [00:00<00:00, 422.62it/s]"
          ]
        },
        {
          "name": "stdout",
          "output_type": "stream",
          "text": [
            "[MoviePy] Done.\n",
            "[MoviePy] Writing video /content/drive/MyDrive/gp/The Girl Who Believes in Miracles/clip/337.mp4\n"
          ]
        },
        {
          "name": "stderr",
          "output_type": "stream",
          "text": [
            "\n",
            "100%|██████████| 240/240 [00:03<00:00, 69.64it/s]\n"
          ]
        },
        {
          "name": "stdout",
          "output_type": "stream",
          "text": [
            "[MoviePy] Done.\n",
            "[MoviePy] >>>> Video ready: /content/drive/MyDrive/gp/The Girl Who Believes in Miracles/clip/337.mp4 \n",
            "\n",
            "337번째 클립 저장 완료\n",
            "[MoviePy] >>>> Building video /content/drive/MyDrive/gp/The Girl Who Believes in Miracles/clip/338.mp4\n",
            "[MoviePy] Writing audio in 338TEMP_MPY_wvf_snd.mp3\n"
          ]
        },
        {
          "name": "stderr",
          "output_type": "stream",
          "text": [
            "100%|██████████| 221/221 [00:00<00:00, 424.98it/s]"
          ]
        },
        {
          "name": "stdout",
          "output_type": "stream",
          "text": [
            "[MoviePy] Done.\n",
            "[MoviePy] Writing video /content/drive/MyDrive/gp/The Girl Who Believes in Miracles/clip/338.mp4\n"
          ]
        },
        {
          "name": "stderr",
          "output_type": "stream",
          "text": [
            "\n",
            "100%|██████████| 240/240 [00:03<00:00, 64.29it/s]\n"
          ]
        },
        {
          "name": "stdout",
          "output_type": "stream",
          "text": [
            "[MoviePy] Done.\n",
            "[MoviePy] >>>> Video ready: /content/drive/MyDrive/gp/The Girl Who Believes in Miracles/clip/338.mp4 \n",
            "\n",
            "338번째 클립 저장 완료\n",
            "[MoviePy] >>>> Building video /content/drive/MyDrive/gp/The Girl Who Believes in Miracles/clip/339.mp4\n",
            "[MoviePy] Writing audio in 339TEMP_MPY_wvf_snd.mp3\n"
          ]
        },
        {
          "name": "stderr",
          "output_type": "stream",
          "text": [
            "100%|██████████| 221/221 [00:00<00:00, 392.91it/s]"
          ]
        },
        {
          "name": "stdout",
          "output_type": "stream",
          "text": [
            "[MoviePy] Done.\n",
            "[MoviePy] Writing video /content/drive/MyDrive/gp/The Girl Who Believes in Miracles/clip/339.mp4\n"
          ]
        },
        {
          "name": "stderr",
          "output_type": "stream",
          "text": [
            "\n",
            "100%|██████████| 240/240 [00:03<00:00, 71.43it/s]\n"
          ]
        },
        {
          "name": "stdout",
          "output_type": "stream",
          "text": [
            "[MoviePy] Done.\n",
            "[MoviePy] >>>> Video ready: /content/drive/MyDrive/gp/The Girl Who Believes in Miracles/clip/339.mp4 \n",
            "\n",
            "339번째 클립 저장 완료\n",
            "[MoviePy] >>>> Building video /content/drive/MyDrive/gp/The Girl Who Believes in Miracles/clip/340.mp4\n",
            "[MoviePy] Writing audio in 340TEMP_MPY_wvf_snd.mp3\n"
          ]
        },
        {
          "name": "stderr",
          "output_type": "stream",
          "text": [
            "100%|██████████| 221/221 [00:00<00:00, 416.54it/s]"
          ]
        },
        {
          "name": "stdout",
          "output_type": "stream",
          "text": [
            "[MoviePy] Done.\n",
            "[MoviePy] Writing video /content/drive/MyDrive/gp/The Girl Who Believes in Miracles/clip/340.mp4\n"
          ]
        },
        {
          "name": "stderr",
          "output_type": "stream",
          "text": [
            "\n",
            "100%|██████████| 240/240 [00:05<00:00, 42.93it/s]\n"
          ]
        },
        {
          "name": "stdout",
          "output_type": "stream",
          "text": [
            "[MoviePy] Done.\n",
            "[MoviePy] >>>> Video ready: /content/drive/MyDrive/gp/The Girl Who Believes in Miracles/clip/340.mp4 \n",
            "\n",
            "340번째 클립 저장 완료\n",
            "[MoviePy] >>>> Building video /content/drive/MyDrive/gp/The Girl Who Believes in Miracles/clip/341.mp4\n",
            "[MoviePy] Writing audio in 341TEMP_MPY_wvf_snd.mp3\n"
          ]
        },
        {
          "name": "stderr",
          "output_type": "stream",
          "text": [
            "100%|██████████| 221/221 [00:00<00:00, 243.73it/s]"
          ]
        },
        {
          "name": "stdout",
          "output_type": "stream",
          "text": [
            "[MoviePy] Done.\n",
            "[MoviePy] Writing video /content/drive/MyDrive/gp/The Girl Who Believes in Miracles/clip/341.mp4\n"
          ]
        },
        {
          "name": "stderr",
          "output_type": "stream",
          "text": [
            "\n",
            "100%|██████████| 240/240 [00:05<00:00, 42.11it/s]\n"
          ]
        },
        {
          "name": "stdout",
          "output_type": "stream",
          "text": [
            "[MoviePy] Done.\n",
            "[MoviePy] >>>> Video ready: /content/drive/MyDrive/gp/The Girl Who Believes in Miracles/clip/341.mp4 \n",
            "\n",
            "341번째 클립 저장 완료\n",
            "[MoviePy] >>>> Building video /content/drive/MyDrive/gp/The Girl Who Believes in Miracles/clip/342.mp4\n",
            "[MoviePy] Writing audio in 342TEMP_MPY_wvf_snd.mp3\n"
          ]
        },
        {
          "name": "stderr",
          "output_type": "stream",
          "text": [
            "100%|██████████| 221/221 [00:00<00:00, 262.48it/s]"
          ]
        },
        {
          "name": "stdout",
          "output_type": "stream",
          "text": [
            "[MoviePy] Done.\n",
            "[MoviePy] Writing video /content/drive/MyDrive/gp/The Girl Who Believes in Miracles/clip/342.mp4\n"
          ]
        },
        {
          "name": "stderr",
          "output_type": "stream",
          "text": [
            "\n",
            "100%|██████████| 240/240 [00:04<00:00, 53.10it/s]\n"
          ]
        },
        {
          "name": "stdout",
          "output_type": "stream",
          "text": [
            "[MoviePy] Done.\n",
            "[MoviePy] >>>> Video ready: /content/drive/MyDrive/gp/The Girl Who Believes in Miracles/clip/342.mp4 \n",
            "\n",
            "342번째 클립 저장 완료\n",
            "[MoviePy] >>>> Building video /content/drive/MyDrive/gp/The Girl Who Believes in Miracles/clip/343.mp4\n",
            "[MoviePy] Writing audio in 343TEMP_MPY_wvf_snd.mp3\n"
          ]
        },
        {
          "name": "stderr",
          "output_type": "stream",
          "text": [
            "100%|██████████| 221/221 [00:00<00:00, 399.10it/s]"
          ]
        },
        {
          "name": "stdout",
          "output_type": "stream",
          "text": [
            "[MoviePy] Done.\n",
            "[MoviePy] Writing video /content/drive/MyDrive/gp/The Girl Who Believes in Miracles/clip/343.mp4\n"
          ]
        },
        {
          "name": "stderr",
          "output_type": "stream",
          "text": [
            "\n",
            "100%|██████████| 240/240 [00:03<00:00, 65.76it/s]\n"
          ]
        },
        {
          "name": "stdout",
          "output_type": "stream",
          "text": [
            "[MoviePy] Done.\n",
            "[MoviePy] >>>> Video ready: /content/drive/MyDrive/gp/The Girl Who Believes in Miracles/clip/343.mp4 \n",
            "\n",
            "343번째 클립 저장 완료\n",
            "[MoviePy] >>>> Building video /content/drive/MyDrive/gp/The Girl Who Believes in Miracles/clip/344.mp4\n",
            "[MoviePy] Writing audio in 344TEMP_MPY_wvf_snd.mp3\n"
          ]
        },
        {
          "name": "stderr",
          "output_type": "stream",
          "text": [
            "100%|██████████| 221/221 [00:00<00:00, 283.79it/s]"
          ]
        },
        {
          "name": "stdout",
          "output_type": "stream",
          "text": [
            "[MoviePy] Done.\n",
            "[MoviePy] Writing video /content/drive/MyDrive/gp/The Girl Who Believes in Miracles/clip/344.mp4\n"
          ]
        },
        {
          "name": "stderr",
          "output_type": "stream",
          "text": [
            "\n",
            "100%|██████████| 240/240 [00:05<00:00, 42.02it/s]\n"
          ]
        },
        {
          "name": "stdout",
          "output_type": "stream",
          "text": [
            "[MoviePy] Done.\n",
            "[MoviePy] >>>> Video ready: /content/drive/MyDrive/gp/The Girl Who Believes in Miracles/clip/344.mp4 \n",
            "\n",
            "344번째 클립 저장 완료\n",
            "[MoviePy] >>>> Building video /content/drive/MyDrive/gp/The Girl Who Believes in Miracles/clip/345.mp4\n",
            "[MoviePy] Writing audio in 345TEMP_MPY_wvf_snd.mp3\n"
          ]
        },
        {
          "name": "stderr",
          "output_type": "stream",
          "text": [
            "100%|██████████| 221/221 [00:00<00:00, 379.27it/s]"
          ]
        },
        {
          "name": "stdout",
          "output_type": "stream",
          "text": [
            "[MoviePy] Done.\n",
            "[MoviePy] Writing video /content/drive/MyDrive/gp/The Girl Who Believes in Miracles/clip/345.mp4\n"
          ]
        },
        {
          "name": "stderr",
          "output_type": "stream",
          "text": [
            "\n",
            "100%|██████████| 240/240 [00:03<00:00, 73.17it/s]\n"
          ]
        },
        {
          "name": "stdout",
          "output_type": "stream",
          "text": [
            "[MoviePy] Done.\n",
            "[MoviePy] >>>> Video ready: /content/drive/MyDrive/gp/The Girl Who Believes in Miracles/clip/345.mp4 \n",
            "\n",
            "345번째 클립 저장 완료\n",
            "[MoviePy] >>>> Building video /content/drive/MyDrive/gp/The Girl Who Believes in Miracles/clip/346.mp4\n",
            "[MoviePy] Writing audio in 346TEMP_MPY_wvf_snd.mp3\n"
          ]
        },
        {
          "name": "stderr",
          "output_type": "stream",
          "text": [
            "100%|██████████| 221/221 [00:00<00:00, 414.24it/s]"
          ]
        },
        {
          "name": "stdout",
          "output_type": "stream",
          "text": [
            "[MoviePy] Done.\n",
            "[MoviePy] Writing video /content/drive/MyDrive/gp/The Girl Who Believes in Miracles/clip/346.mp4\n"
          ]
        },
        {
          "name": "stderr",
          "output_type": "stream",
          "text": [
            "\n",
            "100%|██████████| 240/240 [00:03<00:00, 74.36it/s]\n"
          ]
        },
        {
          "name": "stdout",
          "output_type": "stream",
          "text": [
            "[MoviePy] Done.\n",
            "[MoviePy] >>>> Video ready: /content/drive/MyDrive/gp/The Girl Who Believes in Miracles/clip/346.mp4 \n",
            "\n",
            "346번째 클립 저장 완료\n",
            "[MoviePy] >>>> Building video /content/drive/MyDrive/gp/The Girl Who Believes in Miracles/clip/347.mp4\n",
            "[MoviePy] Writing audio in 347TEMP_MPY_wvf_snd.mp3\n"
          ]
        },
        {
          "name": "stderr",
          "output_type": "stream",
          "text": [
            "100%|██████████| 221/221 [00:00<00:00, 452.58it/s]"
          ]
        },
        {
          "name": "stdout",
          "output_type": "stream",
          "text": [
            "[MoviePy] Done.\n",
            "[MoviePy] Writing video /content/drive/MyDrive/gp/The Girl Who Believes in Miracles/clip/347.mp4\n"
          ]
        },
        {
          "name": "stderr",
          "output_type": "stream",
          "text": [
            "\n",
            "100%|██████████| 240/240 [00:03<00:00, 74.31it/s]\n"
          ]
        },
        {
          "name": "stdout",
          "output_type": "stream",
          "text": [
            "[MoviePy] Done.\n",
            "[MoviePy] >>>> Video ready: /content/drive/MyDrive/gp/The Girl Who Believes in Miracles/clip/347.mp4 \n",
            "\n",
            "347번째 클립 저장 완료\n",
            "[MoviePy] >>>> Building video /content/drive/MyDrive/gp/The Girl Who Believes in Miracles/clip/348.mp4\n",
            "[MoviePy] Writing audio in 348TEMP_MPY_wvf_snd.mp3\n"
          ]
        },
        {
          "name": "stderr",
          "output_type": "stream",
          "text": [
            "100%|██████████| 221/221 [00:00<00:00, 484.11it/s]"
          ]
        },
        {
          "name": "stdout",
          "output_type": "stream",
          "text": [
            "[MoviePy] Done.\n",
            "[MoviePy] Writing video /content/drive/MyDrive/gp/The Girl Who Believes in Miracles/clip/348.mp4\n"
          ]
        },
        {
          "name": "stderr",
          "output_type": "stream",
          "text": [
            "\n",
            "100%|██████████| 240/240 [00:03<00:00, 76.09it/s]\n"
          ]
        },
        {
          "name": "stdout",
          "output_type": "stream",
          "text": [
            "[MoviePy] Done.\n",
            "[MoviePy] >>>> Video ready: /content/drive/MyDrive/gp/The Girl Who Believes in Miracles/clip/348.mp4 \n",
            "\n",
            "348번째 클립 저장 완료\n",
            "[MoviePy] >>>> Building video /content/drive/MyDrive/gp/The Girl Who Believes in Miracles/clip/349.mp4\n",
            "[MoviePy] Writing audio in 349TEMP_MPY_wvf_snd.mp3\n"
          ]
        },
        {
          "name": "stderr",
          "output_type": "stream",
          "text": [
            "100%|██████████| 221/221 [00:00<00:00, 483.07it/s]"
          ]
        },
        {
          "name": "stdout",
          "output_type": "stream",
          "text": [
            "[MoviePy] Done.\n",
            "[MoviePy] Writing video /content/drive/MyDrive/gp/The Girl Who Believes in Miracles/clip/349.mp4\n"
          ]
        },
        {
          "name": "stderr",
          "output_type": "stream",
          "text": [
            "\n",
            "100%|██████████| 240/240 [00:03<00:00, 76.97it/s]\n"
          ]
        },
        {
          "name": "stdout",
          "output_type": "stream",
          "text": [
            "[MoviePy] Done.\n",
            "[MoviePy] >>>> Video ready: /content/drive/MyDrive/gp/The Girl Who Believes in Miracles/clip/349.mp4 \n",
            "\n",
            "349번째 클립 저장 완료\n",
            "[MoviePy] >>>> Building video /content/drive/MyDrive/gp/The Girl Who Believes in Miracles/clip/350.mp4\n",
            "[MoviePy] Writing audio in 350TEMP_MPY_wvf_snd.mp3\n"
          ]
        },
        {
          "name": "stderr",
          "output_type": "stream",
          "text": [
            "100%|██████████| 221/221 [00:00<00:00, 487.07it/s]"
          ]
        },
        {
          "name": "stdout",
          "output_type": "stream",
          "text": [
            "[MoviePy] Done.\n"
          ]
        },
        {
          "name": "stderr",
          "output_type": "stream",
          "text": [
            "\n"
          ]
        },
        {
          "name": "stdout",
          "output_type": "stream",
          "text": [
            "[MoviePy] Writing video /content/drive/MyDrive/gp/The Girl Who Believes in Miracles/clip/350.mp4\n"
          ]
        },
        {
          "name": "stderr",
          "output_type": "stream",
          "text": [
            "100%|██████████| 240/240 [00:03<00:00, 72.99it/s]\n"
          ]
        },
        {
          "name": "stdout",
          "output_type": "stream",
          "text": [
            "[MoviePy] Done.\n",
            "[MoviePy] >>>> Video ready: /content/drive/MyDrive/gp/The Girl Who Believes in Miracles/clip/350.mp4 \n",
            "\n",
            "350번째 클립 저장 완료\n",
            "[MoviePy] >>>> Building video /content/drive/MyDrive/gp/The Girl Who Believes in Miracles/clip/351.mp4\n",
            "[MoviePy] Writing audio in 351TEMP_MPY_wvf_snd.mp3\n"
          ]
        },
        {
          "name": "stderr",
          "output_type": "stream",
          "text": [
            "100%|██████████| 221/221 [00:00<00:00, 499.41it/s]"
          ]
        },
        {
          "name": "stdout",
          "output_type": "stream",
          "text": [
            "[MoviePy] Done.\n",
            "[MoviePy] Writing video /content/drive/MyDrive/gp/The Girl Who Believes in Miracles/clip/351.mp4\n"
          ]
        },
        {
          "name": "stderr",
          "output_type": "stream",
          "text": [
            "\n",
            "100%|██████████| 240/240 [00:03<00:00, 69.15it/s]\n"
          ]
        },
        {
          "name": "stdout",
          "output_type": "stream",
          "text": [
            "[MoviePy] Done.\n",
            "[MoviePy] >>>> Video ready: /content/drive/MyDrive/gp/The Girl Who Believes in Miracles/clip/351.mp4 \n",
            "\n",
            "351번째 클립 저장 완료\n",
            "[MoviePy] >>>> Building video /content/drive/MyDrive/gp/The Girl Who Believes in Miracles/clip/352.mp4\n",
            "[MoviePy] Writing audio in 352TEMP_MPY_wvf_snd.mp3\n"
          ]
        },
        {
          "name": "stderr",
          "output_type": "stream",
          "text": [
            "100%|██████████| 221/221 [00:00<00:00, 510.89it/s]"
          ]
        },
        {
          "name": "stdout",
          "output_type": "stream",
          "text": [
            "[MoviePy] Done.\n",
            "[MoviePy] Writing video /content/drive/MyDrive/gp/The Girl Who Believes in Miracles/clip/352.mp4\n"
          ]
        },
        {
          "name": "stderr",
          "output_type": "stream",
          "text": [
            "\n",
            "100%|██████████| 240/240 [00:03<00:00, 68.83it/s]\n"
          ]
        },
        {
          "name": "stdout",
          "output_type": "stream",
          "text": [
            "[MoviePy] Done.\n",
            "[MoviePy] >>>> Video ready: /content/drive/MyDrive/gp/The Girl Who Believes in Miracles/clip/352.mp4 \n",
            "\n",
            "352번째 클립 저장 완료\n",
            "[MoviePy] >>>> Building video /content/drive/MyDrive/gp/The Girl Who Believes in Miracles/clip/353.mp4\n",
            "[MoviePy] Writing audio in 353TEMP_MPY_wvf_snd.mp3\n"
          ]
        },
        {
          "name": "stderr",
          "output_type": "stream",
          "text": [
            "100%|██████████| 221/221 [00:00<00:00, 498.10it/s]"
          ]
        },
        {
          "name": "stdout",
          "output_type": "stream",
          "text": [
            "[MoviePy] Done.\n",
            "[MoviePy] Writing video /content/drive/MyDrive/gp/The Girl Who Believes in Miracles/clip/353.mp4\n"
          ]
        },
        {
          "name": "stderr",
          "output_type": "stream",
          "text": [
            "\n",
            "100%|██████████| 240/240 [00:03<00:00, 76.68it/s]\n"
          ]
        },
        {
          "name": "stdout",
          "output_type": "stream",
          "text": [
            "[MoviePy] Done.\n",
            "[MoviePy] >>>> Video ready: /content/drive/MyDrive/gp/The Girl Who Believes in Miracles/clip/353.mp4 \n",
            "\n",
            "353번째 클립 저장 완료\n",
            "[MoviePy] >>>> Building video /content/drive/MyDrive/gp/The Girl Who Believes in Miracles/clip/354.mp4\n",
            "[MoviePy] Writing audio in 354TEMP_MPY_wvf_snd.mp3\n"
          ]
        },
        {
          "name": "stderr",
          "output_type": "stream",
          "text": [
            "100%|██████████| 221/221 [00:00<00:00, 505.21it/s]"
          ]
        },
        {
          "name": "stdout",
          "output_type": "stream",
          "text": [
            "[MoviePy] Done.\n",
            "[MoviePy] Writing video /content/drive/MyDrive/gp/The Girl Who Believes in Miracles/clip/354.mp4\n"
          ]
        },
        {
          "name": "stderr",
          "output_type": "stream",
          "text": [
            "\n",
            "100%|██████████| 240/240 [00:03<00:00, 76.02it/s]\n"
          ]
        },
        {
          "name": "stdout",
          "output_type": "stream",
          "text": [
            "[MoviePy] Done.\n",
            "[MoviePy] >>>> Video ready: /content/drive/MyDrive/gp/The Girl Who Believes in Miracles/clip/354.mp4 \n",
            "\n",
            "354번째 클립 저장 완료\n",
            "[MoviePy] >>>> Building video /content/drive/MyDrive/gp/The Girl Who Believes in Miracles/clip/355.mp4\n",
            "[MoviePy] Writing audio in 355TEMP_MPY_wvf_snd.mp3\n"
          ]
        },
        {
          "name": "stderr",
          "output_type": "stream",
          "text": [
            "100%|██████████| 221/221 [00:00<00:00, 479.58it/s]"
          ]
        },
        {
          "name": "stdout",
          "output_type": "stream",
          "text": [
            "[MoviePy] Done.\n",
            "[MoviePy] Writing video /content/drive/MyDrive/gp/The Girl Who Believes in Miracles/clip/355.mp4\n"
          ]
        },
        {
          "name": "stderr",
          "output_type": "stream",
          "text": [
            "\n",
            "100%|██████████| 240/240 [00:03<00:00, 76.78it/s]\n"
          ]
        },
        {
          "name": "stdout",
          "output_type": "stream",
          "text": [
            "[MoviePy] Done.\n",
            "[MoviePy] >>>> Video ready: /content/drive/MyDrive/gp/The Girl Who Believes in Miracles/clip/355.mp4 \n",
            "\n",
            "355번째 클립 저장 완료\n",
            "[MoviePy] >>>> Building video /content/drive/MyDrive/gp/The Girl Who Believes in Miracles/clip/356.mp4\n",
            "[MoviePy] Writing audio in 356TEMP_MPY_wvf_snd.mp3\n"
          ]
        },
        {
          "name": "stderr",
          "output_type": "stream",
          "text": [
            "100%|██████████| 221/221 [00:00<00:00, 432.12it/s]\n"
          ]
        },
        {
          "name": "stdout",
          "output_type": "stream",
          "text": [
            "[MoviePy] Done.\n",
            "[MoviePy] Writing video /content/drive/MyDrive/gp/The Girl Who Believes in Miracles/clip/356.mp4\n"
          ]
        },
        {
          "name": "stderr",
          "output_type": "stream",
          "text": [
            "100%|██████████| 240/240 [00:03<00:00, 79.72it/s]\n"
          ]
        },
        {
          "name": "stdout",
          "output_type": "stream",
          "text": [
            "[MoviePy] Done.\n",
            "[MoviePy] >>>> Video ready: /content/drive/MyDrive/gp/The Girl Who Believes in Miracles/clip/356.mp4 \n",
            "\n",
            "356번째 클립 저장 완료\n",
            "[MoviePy] >>>> Building video /content/drive/MyDrive/gp/The Girl Who Believes in Miracles/clip/357.mp4\n",
            "[MoviePy] Writing audio in 357TEMP_MPY_wvf_snd.mp3\n"
          ]
        },
        {
          "name": "stderr",
          "output_type": "stream",
          "text": [
            "100%|██████████| 221/221 [00:00<00:00, 508.95it/s]"
          ]
        },
        {
          "name": "stdout",
          "output_type": "stream",
          "text": [
            "[MoviePy] Done.\n",
            "[MoviePy] Writing video /content/drive/MyDrive/gp/The Girl Who Believes in Miracles/clip/357.mp4\n"
          ]
        },
        {
          "name": "stderr",
          "output_type": "stream",
          "text": [
            "\n",
            "100%|██████████| 240/240 [00:03<00:00, 76.51it/s]\n"
          ]
        },
        {
          "name": "stdout",
          "output_type": "stream",
          "text": [
            "[MoviePy] Done.\n",
            "[MoviePy] >>>> Video ready: /content/drive/MyDrive/gp/The Girl Who Believes in Miracles/clip/357.mp4 \n",
            "\n",
            "357번째 클립 저장 완료\n",
            "[MoviePy] >>>> Building video /content/drive/MyDrive/gp/The Girl Who Believes in Miracles/clip/358.mp4\n",
            "[MoviePy] Writing audio in 358TEMP_MPY_wvf_snd.mp3\n"
          ]
        },
        {
          "name": "stderr",
          "output_type": "stream",
          "text": [
            "100%|██████████| 221/221 [00:00<00:00, 499.99it/s]"
          ]
        },
        {
          "name": "stdout",
          "output_type": "stream",
          "text": [
            "[MoviePy] Done.\n",
            "[MoviePy] Writing video /content/drive/MyDrive/gp/The Girl Who Believes in Miracles/clip/358.mp4\n"
          ]
        },
        {
          "name": "stderr",
          "output_type": "stream",
          "text": [
            "\n",
            "100%|██████████| 240/240 [00:02<00:00, 81.95it/s]\n"
          ]
        },
        {
          "name": "stdout",
          "output_type": "stream",
          "text": [
            "[MoviePy] Done.\n",
            "[MoviePy] >>>> Video ready: /content/drive/MyDrive/gp/The Girl Who Believes in Miracles/clip/358.mp4 \n",
            "\n",
            "358번째 클립 저장 완료\n",
            "[MoviePy] >>>> Building video /content/drive/MyDrive/gp/The Girl Who Believes in Miracles/clip/359.mp4\n",
            "[MoviePy] Writing audio in 359TEMP_MPY_wvf_snd.mp3\n"
          ]
        },
        {
          "name": "stderr",
          "output_type": "stream",
          "text": [
            "100%|██████████| 221/221 [00:00<00:00, 519.16it/s]"
          ]
        },
        {
          "name": "stdout",
          "output_type": "stream",
          "text": [
            "[MoviePy] Done.\n",
            "[MoviePy] Writing video /content/drive/MyDrive/gp/The Girl Who Believes in Miracles/clip/359.mp4\n"
          ]
        },
        {
          "name": "stderr",
          "output_type": "stream",
          "text": [
            "\n",
            "100%|██████████| 240/240 [00:03<00:00, 75.66it/s]\n"
          ]
        },
        {
          "name": "stdout",
          "output_type": "stream",
          "text": [
            "[MoviePy] Done.\n",
            "[MoviePy] >>>> Video ready: /content/drive/MyDrive/gp/The Girl Who Believes in Miracles/clip/359.mp4 \n",
            "\n",
            "359번째 클립 저장 완료\n",
            "[MoviePy] >>>> Building video /content/drive/MyDrive/gp/The Girl Who Believes in Miracles/clip/360.mp4\n",
            "[MoviePy] Writing audio in 360TEMP_MPY_wvf_snd.mp3\n"
          ]
        },
        {
          "name": "stderr",
          "output_type": "stream",
          "text": [
            "100%|██████████| 221/221 [00:00<00:00, 513.81it/s]"
          ]
        },
        {
          "name": "stdout",
          "output_type": "stream",
          "text": [
            "[MoviePy] Done.\n",
            "[MoviePy] Writing video /content/drive/MyDrive/gp/The Girl Who Believes in Miracles/clip/360.mp4\n"
          ]
        },
        {
          "name": "stderr",
          "output_type": "stream",
          "text": [
            "\n",
            "100%|██████████| 240/240 [00:03<00:00, 73.11it/s]\n"
          ]
        },
        {
          "name": "stdout",
          "output_type": "stream",
          "text": [
            "[MoviePy] Done.\n",
            "[MoviePy] >>>> Video ready: /content/drive/MyDrive/gp/The Girl Who Believes in Miracles/clip/360.mp4 \n",
            "\n",
            "360번째 클립 저장 완료\n",
            "[MoviePy] >>>> Building video /content/drive/MyDrive/gp/The Girl Who Believes in Miracles/clip/361.mp4\n",
            "[MoviePy] Writing audio in 361TEMP_MPY_wvf_snd.mp3\n"
          ]
        },
        {
          "name": "stderr",
          "output_type": "stream",
          "text": [
            "100%|██████████| 221/221 [00:00<00:00, 518.59it/s]"
          ]
        },
        {
          "name": "stdout",
          "output_type": "stream",
          "text": [
            "[MoviePy] Done.\n",
            "[MoviePy] Writing video /content/drive/MyDrive/gp/The Girl Who Believes in Miracles/clip/361.mp4\n"
          ]
        },
        {
          "name": "stderr",
          "output_type": "stream",
          "text": [
            "\n",
            "100%|██████████| 240/240 [00:03<00:00, 72.31it/s]\n"
          ]
        },
        {
          "name": "stdout",
          "output_type": "stream",
          "text": [
            "[MoviePy] Done.\n",
            "[MoviePy] >>>> Video ready: /content/drive/MyDrive/gp/The Girl Who Believes in Miracles/clip/361.mp4 \n",
            "\n",
            "361번째 클립 저장 완료\n",
            "[MoviePy] >>>> Building video /content/drive/MyDrive/gp/The Girl Who Believes in Miracles/clip/362.mp4\n",
            "[MoviePy] Writing audio in 362TEMP_MPY_wvf_snd.mp3\n"
          ]
        },
        {
          "name": "stderr",
          "output_type": "stream",
          "text": [
            "100%|██████████| 221/221 [00:00<00:00, 506.72it/s]"
          ]
        },
        {
          "name": "stdout",
          "output_type": "stream",
          "text": [
            "[MoviePy] Done.\n",
            "[MoviePy] Writing video /content/drive/MyDrive/gp/The Girl Who Believes in Miracles/clip/362.mp4\n"
          ]
        },
        {
          "name": "stderr",
          "output_type": "stream",
          "text": [
            "\n",
            "100%|██████████| 240/240 [00:02<00:00, 80.51it/s]\n"
          ]
        },
        {
          "name": "stdout",
          "output_type": "stream",
          "text": [
            "[MoviePy] Done.\n",
            "[MoviePy] >>>> Video ready: /content/drive/MyDrive/gp/The Girl Who Believes in Miracles/clip/362.mp4 \n",
            "\n",
            "362번째 클립 저장 완료\n",
            "[MoviePy] >>>> Building video /content/drive/MyDrive/gp/The Girl Who Believes in Miracles/clip/363.mp4\n",
            "[MoviePy] Writing audio in 363TEMP_MPY_wvf_snd.mp3\n"
          ]
        },
        {
          "name": "stderr",
          "output_type": "stream",
          "text": [
            "100%|██████████| 221/221 [00:00<00:00, 514.05it/s]"
          ]
        },
        {
          "name": "stdout",
          "output_type": "stream",
          "text": [
            "[MoviePy] Done.\n",
            "[MoviePy] Writing video /content/drive/MyDrive/gp/The Girl Who Believes in Miracles/clip/363.mp4\n"
          ]
        },
        {
          "name": "stderr",
          "output_type": "stream",
          "text": [
            "\n",
            "100%|██████████| 240/240 [00:02<00:00, 82.00it/s]\n"
          ]
        },
        {
          "name": "stdout",
          "output_type": "stream",
          "text": [
            "[MoviePy] Done.\n",
            "[MoviePy] >>>> Video ready: /content/drive/MyDrive/gp/The Girl Who Believes in Miracles/clip/363.mp4 \n",
            "\n",
            "363번째 클립 저장 완료\n",
            "[MoviePy] >>>> Building video /content/drive/MyDrive/gp/The Girl Who Believes in Miracles/clip/364.mp4\n",
            "[MoviePy] Writing audio in 364TEMP_MPY_wvf_snd.mp3\n"
          ]
        },
        {
          "name": "stderr",
          "output_type": "stream",
          "text": [
            "100%|██████████| 221/221 [00:00<00:00, 493.39it/s]\n"
          ]
        },
        {
          "name": "stdout",
          "output_type": "stream",
          "text": [
            "[MoviePy] Done.\n",
            "[MoviePy] Writing video /content/drive/MyDrive/gp/The Girl Who Believes in Miracles/clip/364.mp4\n"
          ]
        },
        {
          "name": "stderr",
          "output_type": "stream",
          "text": [
            "100%|██████████| 240/240 [00:04<00:00, 54.83it/s]\n"
          ]
        },
        {
          "name": "stdout",
          "output_type": "stream",
          "text": [
            "[MoviePy] Done.\n",
            "[MoviePy] >>>> Video ready: /content/drive/MyDrive/gp/The Girl Who Believes in Miracles/clip/364.mp4 \n",
            "\n",
            "364번째 클립 저장 완료\n",
            "[MoviePy] >>>> Building video /content/drive/MyDrive/gp/The Girl Who Believes in Miracles/clip/365.mp4\n",
            "[MoviePy] Writing audio in 365TEMP_MPY_wvf_snd.mp3\n"
          ]
        },
        {
          "name": "stderr",
          "output_type": "stream",
          "text": [
            "100%|██████████| 221/221 [00:00<00:00, 330.37it/s]"
          ]
        },
        {
          "name": "stdout",
          "output_type": "stream",
          "text": [
            "[MoviePy] Done.\n",
            "[MoviePy] Writing video /content/drive/MyDrive/gp/The Girl Who Believes in Miracles/clip/365.mp4\n"
          ]
        },
        {
          "name": "stderr",
          "output_type": "stream",
          "text": [
            "\n",
            "100%|██████████| 240/240 [00:06<00:00, 37.06it/s]\n"
          ]
        },
        {
          "name": "stdout",
          "output_type": "stream",
          "text": [
            "[MoviePy] Done.\n",
            "[MoviePy] >>>> Video ready: /content/drive/MyDrive/gp/The Girl Who Believes in Miracles/clip/365.mp4 \n",
            "\n",
            "365번째 클립 저장 완료\n",
            "[MoviePy] >>>> Building video /content/drive/MyDrive/gp/The Girl Who Believes in Miracles/clip/366.mp4\n",
            "[MoviePy] Writing audio in 366TEMP_MPY_wvf_snd.mp3\n"
          ]
        },
        {
          "name": "stderr",
          "output_type": "stream",
          "text": [
            "100%|██████████| 221/221 [00:00<00:00, 325.89it/s]"
          ]
        },
        {
          "name": "stdout",
          "output_type": "stream",
          "text": [
            "[MoviePy] Done.\n",
            "[MoviePy] Writing video /content/drive/MyDrive/gp/The Girl Who Believes in Miracles/clip/366.mp4\n"
          ]
        },
        {
          "name": "stderr",
          "output_type": "stream",
          "text": [
            "\n",
            "100%|██████████| 240/240 [00:06<00:00, 39.91it/s]\n"
          ]
        },
        {
          "name": "stdout",
          "output_type": "stream",
          "text": [
            "[MoviePy] Done.\n",
            "[MoviePy] >>>> Video ready: /content/drive/MyDrive/gp/The Girl Who Believes in Miracles/clip/366.mp4 \n",
            "\n",
            "366번째 클립 저장 완료\n",
            "[MoviePy] >>>> Building video /content/drive/MyDrive/gp/The Girl Who Believes in Miracles/clip/367.mp4\n",
            "[MoviePy] Writing audio in 367TEMP_MPY_wvf_snd.mp3\n"
          ]
        },
        {
          "name": "stderr",
          "output_type": "stream",
          "text": [
            "100%|██████████| 221/221 [00:00<00:00, 324.77it/s]"
          ]
        },
        {
          "name": "stdout",
          "output_type": "stream",
          "text": [
            "[MoviePy] Done.\n",
            "[MoviePy] Writing video /content/drive/MyDrive/gp/The Girl Who Believes in Miracles/clip/367.mp4\n"
          ]
        },
        {
          "name": "stderr",
          "output_type": "stream",
          "text": [
            "\n",
            "100%|██████████| 240/240 [00:04<00:00, 56.57it/s]\n"
          ]
        },
        {
          "name": "stdout",
          "output_type": "stream",
          "text": [
            "[MoviePy] Done.\n",
            "[MoviePy] >>>> Video ready: /content/drive/MyDrive/gp/The Girl Who Believes in Miracles/clip/367.mp4 \n",
            "\n",
            "367번째 클립 저장 완료\n",
            "[MoviePy] >>>> Building video /content/drive/MyDrive/gp/The Girl Who Believes in Miracles/clip/368.mp4\n",
            "[MoviePy] Writing audio in 368TEMP_MPY_wvf_snd.mp3\n"
          ]
        },
        {
          "name": "stderr",
          "output_type": "stream",
          "text": [
            "100%|██████████| 221/221 [00:00<00:00, 496.61it/s]"
          ]
        },
        {
          "name": "stdout",
          "output_type": "stream",
          "text": [
            "[MoviePy] Done.\n",
            "[MoviePy] Writing video /content/drive/MyDrive/gp/The Girl Who Believes in Miracles/clip/368.mp4\n"
          ]
        },
        {
          "name": "stderr",
          "output_type": "stream",
          "text": [
            "\n",
            "100%|██████████| 240/240 [00:03<00:00, 77.85it/s]\n"
          ]
        },
        {
          "name": "stdout",
          "output_type": "stream",
          "text": [
            "[MoviePy] Done.\n",
            "[MoviePy] >>>> Video ready: /content/drive/MyDrive/gp/The Girl Who Believes in Miracles/clip/368.mp4 \n",
            "\n",
            "368번째 클립 저장 완료\n",
            "[MoviePy] >>>> Building video /content/drive/MyDrive/gp/The Girl Who Believes in Miracles/clip/369.mp4\n",
            "[MoviePy] Writing audio in 369TEMP_MPY_wvf_snd.mp3\n"
          ]
        },
        {
          "name": "stderr",
          "output_type": "stream",
          "text": [
            "100%|██████████| 221/221 [00:00<00:00, 509.75it/s]"
          ]
        },
        {
          "name": "stdout",
          "output_type": "stream",
          "text": [
            "[MoviePy] Done.\n",
            "[MoviePy] Writing video /content/drive/MyDrive/gp/The Girl Who Believes in Miracles/clip/369.mp4\n"
          ]
        },
        {
          "name": "stderr",
          "output_type": "stream",
          "text": [
            "\n",
            "100%|██████████| 240/240 [00:03<00:00, 76.78it/s]\n"
          ]
        },
        {
          "name": "stdout",
          "output_type": "stream",
          "text": [
            "[MoviePy] Done.\n",
            "[MoviePy] >>>> Video ready: /content/drive/MyDrive/gp/The Girl Who Believes in Miracles/clip/369.mp4 \n",
            "\n",
            "369번째 클립 저장 완료\n",
            "[MoviePy] >>>> Building video /content/drive/MyDrive/gp/The Girl Who Believes in Miracles/clip/370.mp4\n",
            "[MoviePy] Writing audio in 370TEMP_MPY_wvf_snd.mp3\n"
          ]
        },
        {
          "name": "stderr",
          "output_type": "stream",
          "text": [
            "100%|██████████| 221/221 [00:00<00:00, 520.99it/s]"
          ]
        },
        {
          "name": "stdout",
          "output_type": "stream",
          "text": [
            "[MoviePy] Done.\n",
            "[MoviePy] Writing video /content/drive/MyDrive/gp/The Girl Who Believes in Miracles/clip/370.mp4\n"
          ]
        },
        {
          "name": "stderr",
          "output_type": "stream",
          "text": [
            "\n",
            "100%|██████████| 240/240 [00:03<00:00, 78.56it/s]\n"
          ]
        },
        {
          "name": "stdout",
          "output_type": "stream",
          "text": [
            "[MoviePy] Done.\n",
            "[MoviePy] >>>> Video ready: /content/drive/MyDrive/gp/The Girl Who Believes in Miracles/clip/370.mp4 \n",
            "\n",
            "370번째 클립 저장 완료\n",
            "[MoviePy] >>>> Building video /content/drive/MyDrive/gp/The Girl Who Believes in Miracles/clip/371.mp4\n",
            "[MoviePy] Writing audio in 371TEMP_MPY_wvf_snd.mp3\n"
          ]
        },
        {
          "name": "stderr",
          "output_type": "stream",
          "text": [
            "100%|██████████| 221/221 [00:00<00:00, 536.08it/s]"
          ]
        },
        {
          "name": "stdout",
          "output_type": "stream",
          "text": [
            "[MoviePy] Done.\n",
            "[MoviePy] Writing video /content/drive/MyDrive/gp/The Girl Who Believes in Miracles/clip/371.mp4\n"
          ]
        },
        {
          "name": "stderr",
          "output_type": "stream",
          "text": [
            "\n",
            "100%|██████████| 240/240 [00:03<00:00, 77.44it/s]\n"
          ]
        },
        {
          "name": "stdout",
          "output_type": "stream",
          "text": [
            "[MoviePy] Done.\n",
            "[MoviePy] >>>> Video ready: /content/drive/MyDrive/gp/The Girl Who Believes in Miracles/clip/371.mp4 \n",
            "\n",
            "371번째 클립 저장 완료\n",
            "[MoviePy] >>>> Building video /content/drive/MyDrive/gp/The Girl Who Believes in Miracles/clip/372.mp4\n",
            "[MoviePy] Writing audio in 372TEMP_MPY_wvf_snd.mp3\n"
          ]
        },
        {
          "name": "stderr",
          "output_type": "stream",
          "text": [
            "100%|██████████| 221/221 [00:00<00:00, 509.32it/s]"
          ]
        },
        {
          "name": "stdout",
          "output_type": "stream",
          "text": [
            "[MoviePy] Done.\n",
            "[MoviePy] Writing video /content/drive/MyDrive/gp/The Girl Who Believes in Miracles/clip/372.mp4\n"
          ]
        },
        {
          "name": "stderr",
          "output_type": "stream",
          "text": [
            "\n",
            "100%|██████████| 240/240 [00:03<00:00, 76.21it/s]\n"
          ]
        },
        {
          "name": "stdout",
          "output_type": "stream",
          "text": [
            "[MoviePy] Done.\n",
            "[MoviePy] >>>> Video ready: /content/drive/MyDrive/gp/The Girl Who Believes in Miracles/clip/372.mp4 \n",
            "\n",
            "372번째 클립 저장 완료\n",
            "[MoviePy] >>>> Building video /content/drive/MyDrive/gp/The Girl Who Believes in Miracles/clip/373.mp4\n",
            "[MoviePy] Writing audio in 373TEMP_MPY_wvf_snd.mp3\n"
          ]
        },
        {
          "name": "stderr",
          "output_type": "stream",
          "text": [
            "100%|██████████| 221/221 [00:00<00:00, 513.35it/s]"
          ]
        },
        {
          "name": "stdout",
          "output_type": "stream",
          "text": [
            "[MoviePy] Done.\n",
            "[MoviePy] Writing video /content/drive/MyDrive/gp/The Girl Who Believes in Miracles/clip/373.mp4\n"
          ]
        },
        {
          "name": "stderr",
          "output_type": "stream",
          "text": [
            "\n",
            "100%|██████████| 240/240 [00:03<00:00, 75.29it/s]\n"
          ]
        },
        {
          "name": "stdout",
          "output_type": "stream",
          "text": [
            "[MoviePy] Done.\n",
            "[MoviePy] >>>> Video ready: /content/drive/MyDrive/gp/The Girl Who Believes in Miracles/clip/373.mp4 \n",
            "\n",
            "373번째 클립 저장 완료\n",
            "[MoviePy] >>>> Building video /content/drive/MyDrive/gp/The Girl Who Believes in Miracles/clip/374.mp4\n",
            "[MoviePy] Writing audio in 374TEMP_MPY_wvf_snd.mp3\n"
          ]
        },
        {
          "name": "stderr",
          "output_type": "stream",
          "text": [
            "100%|██████████| 221/221 [00:00<00:00, 519.27it/s]"
          ]
        },
        {
          "name": "stdout",
          "output_type": "stream",
          "text": [
            "[MoviePy] Done.\n",
            "[MoviePy] Writing video /content/drive/MyDrive/gp/The Girl Who Believes in Miracles/clip/374.mp4\n"
          ]
        },
        {
          "name": "stderr",
          "output_type": "stream",
          "text": [
            "\n",
            "100%|██████████| 240/240 [00:03<00:00, 77.27it/s]\n"
          ]
        },
        {
          "name": "stdout",
          "output_type": "stream",
          "text": [
            "[MoviePy] Done.\n",
            "[MoviePy] >>>> Video ready: /content/drive/MyDrive/gp/The Girl Who Believes in Miracles/clip/374.mp4 \n",
            "\n",
            "374번째 클립 저장 완료\n",
            "[MoviePy] >>>> Building video /content/drive/MyDrive/gp/The Girl Who Believes in Miracles/clip/375.mp4\n",
            "[MoviePy] Writing audio in 375TEMP_MPY_wvf_snd.mp3\n"
          ]
        },
        {
          "name": "stderr",
          "output_type": "stream",
          "text": [
            "100%|██████████| 221/221 [00:00<00:00, 497.41it/s]"
          ]
        },
        {
          "name": "stdout",
          "output_type": "stream",
          "text": [
            "[MoviePy] Done.\n",
            "[MoviePy] Writing video /content/drive/MyDrive/gp/The Girl Who Believes in Miracles/clip/375.mp4\n"
          ]
        },
        {
          "name": "stderr",
          "output_type": "stream",
          "text": [
            "\n",
            "100%|██████████| 240/240 [00:03<00:00, 75.22it/s]\n"
          ]
        },
        {
          "name": "stdout",
          "output_type": "stream",
          "text": [
            "[MoviePy] Done.\n",
            "[MoviePy] >>>> Video ready: /content/drive/MyDrive/gp/The Girl Who Believes in Miracles/clip/375.mp4 \n",
            "\n",
            "375번째 클립 저장 완료\n",
            "[MoviePy] >>>> Building video /content/drive/MyDrive/gp/The Girl Who Believes in Miracles/clip/376.mp4\n",
            "[MoviePy] Writing audio in 376TEMP_MPY_wvf_snd.mp3\n"
          ]
        },
        {
          "name": "stderr",
          "output_type": "stream",
          "text": [
            "100%|██████████| 221/221 [00:00<00:00, 506.14it/s]"
          ]
        },
        {
          "name": "stdout",
          "output_type": "stream",
          "text": [
            "[MoviePy] Done.\n",
            "[MoviePy] Writing video /content/drive/MyDrive/gp/The Girl Who Believes in Miracles/clip/376.mp4\n"
          ]
        },
        {
          "name": "stderr",
          "output_type": "stream",
          "text": [
            "\n",
            "100%|██████████| 240/240 [00:03<00:00, 78.52it/s]\n"
          ]
        },
        {
          "name": "stdout",
          "output_type": "stream",
          "text": [
            "[MoviePy] Done.\n",
            "[MoviePy] >>>> Video ready: /content/drive/MyDrive/gp/The Girl Who Believes in Miracles/clip/376.mp4 \n",
            "\n",
            "376번째 클립 저장 완료\n",
            "[MoviePy] >>>> Building video /content/drive/MyDrive/gp/The Girl Who Believes in Miracles/clip/377.mp4\n",
            "[MoviePy] Writing audio in 377TEMP_MPY_wvf_snd.mp3\n"
          ]
        },
        {
          "name": "stderr",
          "output_type": "stream",
          "text": [
            "100%|██████████| 221/221 [00:00<00:00, 509.88it/s]"
          ]
        },
        {
          "name": "stdout",
          "output_type": "stream",
          "text": [
            "[MoviePy] Done.\n",
            "[MoviePy] Writing video /content/drive/MyDrive/gp/The Girl Who Believes in Miracles/clip/377.mp4\n"
          ]
        },
        {
          "name": "stderr",
          "output_type": "stream",
          "text": [
            "\n",
            "100%|██████████| 240/240 [00:03<00:00, 62.22it/s]\n"
          ]
        },
        {
          "name": "stdout",
          "output_type": "stream",
          "text": [
            "[MoviePy] Done.\n",
            "[MoviePy] >>>> Video ready: /content/drive/MyDrive/gp/The Girl Who Believes in Miracles/clip/377.mp4 \n",
            "\n",
            "377번째 클립 저장 완료\n",
            "[MoviePy] >>>> Building video /content/drive/MyDrive/gp/The Girl Who Believes in Miracles/clip/378.mp4\n",
            "[MoviePy] Writing audio in 378TEMP_MPY_wvf_snd.mp3\n"
          ]
        },
        {
          "name": "stderr",
          "output_type": "stream",
          "text": [
            "100%|██████████| 221/221 [00:00<00:00, 482.68it/s]"
          ]
        },
        {
          "name": "stdout",
          "output_type": "stream",
          "text": [
            "[MoviePy] Done.\n",
            "[MoviePy] Writing video /content/drive/MyDrive/gp/The Girl Who Believes in Miracles/clip/378.mp4\n"
          ]
        },
        {
          "name": "stderr",
          "output_type": "stream",
          "text": [
            "\n",
            "100%|██████████| 240/240 [00:03<00:00, 72.24it/s]\n"
          ]
        },
        {
          "name": "stdout",
          "output_type": "stream",
          "text": [
            "[MoviePy] Done.\n",
            "[MoviePy] >>>> Video ready: /content/drive/MyDrive/gp/The Girl Who Believes in Miracles/clip/378.mp4 \n",
            "\n",
            "378번째 클립 저장 완료\n",
            "[MoviePy] >>>> Building video /content/drive/MyDrive/gp/The Girl Who Believes in Miracles/clip/379.mp4\n",
            "[MoviePy] Writing audio in 379TEMP_MPY_wvf_snd.mp3\n"
          ]
        },
        {
          "name": "stderr",
          "output_type": "stream",
          "text": [
            "100%|██████████| 221/221 [00:00<00:00, 520.68it/s]"
          ]
        },
        {
          "name": "stdout",
          "output_type": "stream",
          "text": [
            "[MoviePy] Done.\n",
            "[MoviePy] Writing video /content/drive/MyDrive/gp/The Girl Who Believes in Miracles/clip/379.mp4\n"
          ]
        },
        {
          "name": "stderr",
          "output_type": "stream",
          "text": [
            "\n",
            "100%|██████████| 240/240 [00:03<00:00, 72.32it/s]\n"
          ]
        },
        {
          "name": "stdout",
          "output_type": "stream",
          "text": [
            "[MoviePy] Done.\n",
            "[MoviePy] >>>> Video ready: /content/drive/MyDrive/gp/The Girl Who Believes in Miracles/clip/379.mp4 \n",
            "\n",
            "379번째 클립 저장 완료\n",
            "[MoviePy] >>>> Building video /content/drive/MyDrive/gp/The Girl Who Believes in Miracles/clip/380.mp4\n",
            "[MoviePy] Writing audio in 380TEMP_MPY_wvf_snd.mp3\n"
          ]
        },
        {
          "name": "stderr",
          "output_type": "stream",
          "text": [
            "100%|██████████| 221/221 [00:00<00:00, 508.66it/s]"
          ]
        },
        {
          "name": "stdout",
          "output_type": "stream",
          "text": [
            "[MoviePy] Done.\n",
            "[MoviePy] Writing video /content/drive/MyDrive/gp/The Girl Who Believes in Miracles/clip/380.mp4\n"
          ]
        },
        {
          "name": "stderr",
          "output_type": "stream",
          "text": [
            "\n",
            "100%|██████████| 240/240 [00:03<00:00, 71.64it/s]\n"
          ]
        },
        {
          "name": "stdout",
          "output_type": "stream",
          "text": [
            "[MoviePy] Done.\n",
            "[MoviePy] >>>> Video ready: /content/drive/MyDrive/gp/The Girl Who Believes in Miracles/clip/380.mp4 \n",
            "\n",
            "380번째 클립 저장 완료\n",
            "[MoviePy] >>>> Building video /content/drive/MyDrive/gp/The Girl Who Believes in Miracles/clip/381.mp4\n",
            "[MoviePy] Writing audio in 381TEMP_MPY_wvf_snd.mp3\n"
          ]
        },
        {
          "name": "stderr",
          "output_type": "stream",
          "text": [
            "100%|██████████| 221/221 [00:00<00:00, 499.18it/s]"
          ]
        },
        {
          "name": "stdout",
          "output_type": "stream",
          "text": [
            "[MoviePy] Done.\n",
            "[MoviePy] Writing video /content/drive/MyDrive/gp/The Girl Who Believes in Miracles/clip/381.mp4\n"
          ]
        },
        {
          "name": "stderr",
          "output_type": "stream",
          "text": [
            "\n",
            "100%|██████████| 240/240 [00:03<00:00, 68.72it/s]\n"
          ]
        },
        {
          "name": "stdout",
          "output_type": "stream",
          "text": [
            "[MoviePy] Done.\n",
            "[MoviePy] >>>> Video ready: /content/drive/MyDrive/gp/The Girl Who Believes in Miracles/clip/381.mp4 \n",
            "\n",
            "381번째 클립 저장 완료\n",
            "[MoviePy] >>>> Building video /content/drive/MyDrive/gp/The Girl Who Believes in Miracles/clip/382.mp4\n",
            "[MoviePy] Writing audio in 382TEMP_MPY_wvf_snd.mp3\n"
          ]
        },
        {
          "name": "stderr",
          "output_type": "stream",
          "text": [
            "100%|██████████| 221/221 [00:00<00:00, 507.63it/s]"
          ]
        },
        {
          "name": "stdout",
          "output_type": "stream",
          "text": [
            "[MoviePy] Done.\n",
            "[MoviePy] Writing video /content/drive/MyDrive/gp/The Girl Who Believes in Miracles/clip/382.mp4\n"
          ]
        },
        {
          "name": "stderr",
          "output_type": "stream",
          "text": [
            "\n",
            "100%|██████████| 240/240 [00:03<00:00, 72.72it/s]\n"
          ]
        },
        {
          "name": "stdout",
          "output_type": "stream",
          "text": [
            "[MoviePy] Done.\n",
            "[MoviePy] >>>> Video ready: /content/drive/MyDrive/gp/The Girl Who Believes in Miracles/clip/382.mp4 \n",
            "\n",
            "382번째 클립 저장 완료\n",
            "[MoviePy] >>>> Building video /content/drive/MyDrive/gp/The Girl Who Believes in Miracles/clip/383.mp4\n",
            "[MoviePy] Writing audio in 383TEMP_MPY_wvf_snd.mp3\n"
          ]
        },
        {
          "name": "stderr",
          "output_type": "stream",
          "text": [
            "100%|██████████| 221/221 [00:00<00:00, 494.81it/s]"
          ]
        },
        {
          "name": "stdout",
          "output_type": "stream",
          "text": [
            "[MoviePy] Done.\n",
            "[MoviePy] Writing video /content/drive/MyDrive/gp/The Girl Who Believes in Miracles/clip/383.mp4\n"
          ]
        },
        {
          "name": "stderr",
          "output_type": "stream",
          "text": [
            "\n",
            "100%|██████████| 240/240 [00:03<00:00, 73.18it/s]\n"
          ]
        },
        {
          "name": "stdout",
          "output_type": "stream",
          "text": [
            "[MoviePy] Done.\n",
            "[MoviePy] >>>> Video ready: /content/drive/MyDrive/gp/The Girl Who Believes in Miracles/clip/383.mp4 \n",
            "\n",
            "383번째 클립 저장 완료\n",
            "[MoviePy] >>>> Building video /content/drive/MyDrive/gp/The Girl Who Believes in Miracles/clip/384.mp4\n",
            "[MoviePy] Writing audio in 384TEMP_MPY_wvf_snd.mp3\n"
          ]
        },
        {
          "name": "stderr",
          "output_type": "stream",
          "text": [
            "100%|██████████| 221/221 [00:00<00:00, 498.87it/s]"
          ]
        },
        {
          "name": "stdout",
          "output_type": "stream",
          "text": [
            "[MoviePy] Done.\n",
            "[MoviePy] Writing video /content/drive/MyDrive/gp/The Girl Who Believes in Miracles/clip/384.mp4\n"
          ]
        },
        {
          "name": "stderr",
          "output_type": "stream",
          "text": [
            "\n",
            "100%|██████████| 240/240 [00:03<00:00, 70.75it/s]\n"
          ]
        },
        {
          "name": "stdout",
          "output_type": "stream",
          "text": [
            "[MoviePy] Done.\n",
            "[MoviePy] >>>> Video ready: /content/drive/MyDrive/gp/The Girl Who Believes in Miracles/clip/384.mp4 \n",
            "\n",
            "384번째 클립 저장 완료\n",
            "[MoviePy] >>>> Building video /content/drive/MyDrive/gp/The Girl Who Believes in Miracles/clip/385.mp4\n",
            "[MoviePy] Writing audio in 385TEMP_MPY_wvf_snd.mp3\n"
          ]
        },
        {
          "name": "stderr",
          "output_type": "stream",
          "text": [
            "100%|██████████| 221/221 [00:00<00:00, 504.99it/s]"
          ]
        },
        {
          "name": "stdout",
          "output_type": "stream",
          "text": [
            "[MoviePy] Done.\n",
            "[MoviePy] Writing video /content/drive/MyDrive/gp/The Girl Who Believes in Miracles/clip/385.mp4\n"
          ]
        },
        {
          "name": "stderr",
          "output_type": "stream",
          "text": [
            "\n",
            "100%|██████████| 240/240 [00:03<00:00, 68.37it/s]\n"
          ]
        },
        {
          "name": "stdout",
          "output_type": "stream",
          "text": [
            "[MoviePy] Done.\n",
            "[MoviePy] >>>> Video ready: /content/drive/MyDrive/gp/The Girl Who Believes in Miracles/clip/385.mp4 \n",
            "\n",
            "385번째 클립 저장 완료\n",
            "[MoviePy] >>>> Building video /content/drive/MyDrive/gp/The Girl Who Believes in Miracles/clip/386.mp4\n",
            "[MoviePy] Writing audio in 386TEMP_MPY_wvf_snd.mp3\n"
          ]
        },
        {
          "name": "stderr",
          "output_type": "stream",
          "text": [
            "100%|██████████| 221/221 [00:00<00:00, 505.01it/s]"
          ]
        },
        {
          "name": "stdout",
          "output_type": "stream",
          "text": [
            "[MoviePy] Done.\n",
            "[MoviePy] Writing video /content/drive/MyDrive/gp/The Girl Who Believes in Miracles/clip/386.mp4\n"
          ]
        },
        {
          "name": "stderr",
          "output_type": "stream",
          "text": [
            "\n",
            "100%|██████████| 240/240 [00:04<00:00, 59.55it/s]\n"
          ]
        },
        {
          "name": "stdout",
          "output_type": "stream",
          "text": [
            "[MoviePy] Done.\n",
            "[MoviePy] >>>> Video ready: /content/drive/MyDrive/gp/The Girl Who Believes in Miracles/clip/386.mp4 \n",
            "\n",
            "386번째 클립 저장 완료\n",
            "[MoviePy] >>>> Building video /content/drive/MyDrive/gp/The Girl Who Believes in Miracles/clip/387.mp4\n",
            "[MoviePy] Writing audio in 387TEMP_MPY_wvf_snd.mp3\n"
          ]
        },
        {
          "name": "stderr",
          "output_type": "stream",
          "text": [
            "100%|██████████| 221/221 [00:00<00:00, 467.48it/s]"
          ]
        },
        {
          "name": "stdout",
          "output_type": "stream",
          "text": [
            "[MoviePy] Done.\n",
            "[MoviePy] Writing video /content/drive/MyDrive/gp/The Girl Who Believes in Miracles/clip/387.mp4\n"
          ]
        },
        {
          "name": "stderr",
          "output_type": "stream",
          "text": [
            "\n",
            "100%|██████████| 240/240 [00:03<00:00, 63.11it/s]\n"
          ]
        },
        {
          "name": "stdout",
          "output_type": "stream",
          "text": [
            "[MoviePy] Done.\n",
            "[MoviePy] >>>> Video ready: /content/drive/MyDrive/gp/The Girl Who Believes in Miracles/clip/387.mp4 \n",
            "\n",
            "387번째 클립 저장 완료\n",
            "[MoviePy] >>>> Building video /content/drive/MyDrive/gp/The Girl Who Believes in Miracles/clip/388.mp4\n",
            "[MoviePy] Writing audio in 388TEMP_MPY_wvf_snd.mp3\n"
          ]
        },
        {
          "name": "stderr",
          "output_type": "stream",
          "text": [
            "100%|██████████| 221/221 [00:00<00:00, 493.17it/s]"
          ]
        },
        {
          "name": "stdout",
          "output_type": "stream",
          "text": [
            "[MoviePy] Done.\n",
            "[MoviePy] Writing video /content/drive/MyDrive/gp/The Girl Who Believes in Miracles/clip/388.mp4\n"
          ]
        },
        {
          "name": "stderr",
          "output_type": "stream",
          "text": [
            "\n",
            "100%|██████████| 240/240 [00:06<00:00, 39.49it/s]\n"
          ]
        },
        {
          "name": "stdout",
          "output_type": "stream",
          "text": [
            "[MoviePy] Done.\n",
            "[MoviePy] >>>> Video ready: /content/drive/MyDrive/gp/The Girl Who Believes in Miracles/clip/388.mp4 \n",
            "\n",
            "388번째 클립 저장 완료\n",
            "[MoviePy] >>>> Building video /content/drive/MyDrive/gp/The Girl Who Believes in Miracles/clip/389.mp4\n",
            "[MoviePy] Writing audio in 389TEMP_MPY_wvf_snd.mp3\n"
          ]
        },
        {
          "name": "stderr",
          "output_type": "stream",
          "text": [
            "100%|██████████| 221/221 [00:00<00:00, 274.56it/s]"
          ]
        },
        {
          "name": "stdout",
          "output_type": "stream",
          "text": [
            "[MoviePy] Done.\n",
            "[MoviePy] Writing video /content/drive/MyDrive/gp/The Girl Who Believes in Miracles/clip/389.mp4\n"
          ]
        },
        {
          "name": "stderr",
          "output_type": "stream",
          "text": [
            "\n",
            "100%|██████████| 240/240 [00:05<00:00, 42.80it/s]\n"
          ]
        },
        {
          "name": "stdout",
          "output_type": "stream",
          "text": [
            "[MoviePy] Done.\n",
            "[MoviePy] >>>> Video ready: /content/drive/MyDrive/gp/The Girl Who Believes in Miracles/clip/389.mp4 \n",
            "\n",
            "389번째 클립 저장 완료\n",
            "[MoviePy] >>>> Building video /content/drive/MyDrive/gp/The Girl Who Believes in Miracles/clip/390.mp4\n",
            "[MoviePy] Writing audio in 390TEMP_MPY_wvf_snd.mp3\n"
          ]
        },
        {
          "name": "stderr",
          "output_type": "stream",
          "text": [
            "100%|██████████| 221/221 [00:00<00:00, 289.26it/s]\n"
          ]
        },
        {
          "name": "stdout",
          "output_type": "stream",
          "text": [
            "[MoviePy] Done.\n",
            "[MoviePy] Writing video /content/drive/MyDrive/gp/The Girl Who Believes in Miracles/clip/390.mp4\n"
          ]
        },
        {
          "name": "stderr",
          "output_type": "stream",
          "text": [
            "100%|██████████| 240/240 [00:05<00:00, 40.48it/s]\n"
          ]
        },
        {
          "name": "stdout",
          "output_type": "stream",
          "text": [
            "[MoviePy] Done.\n",
            "[MoviePy] >>>> Video ready: /content/drive/MyDrive/gp/The Girl Who Believes in Miracles/clip/390.mp4 \n",
            "\n",
            "390번째 클립 저장 완료\n",
            "[MoviePy] >>>> Building video /content/drive/MyDrive/gp/The Girl Who Believes in Miracles/clip/391.mp4\n",
            "[MoviePy] Writing audio in 391TEMP_MPY_wvf_snd.mp3\n"
          ]
        },
        {
          "name": "stderr",
          "output_type": "stream",
          "text": [
            "100%|██████████| 221/221 [00:00<00:00, 225.76it/s]"
          ]
        },
        {
          "name": "stdout",
          "output_type": "stream",
          "text": [
            "[MoviePy] Done.\n",
            "[MoviePy] Writing video /content/drive/MyDrive/gp/The Girl Who Believes in Miracles/clip/391.mp4\n"
          ]
        },
        {
          "name": "stderr",
          "output_type": "stream",
          "text": [
            "\n",
            "100%|██████████| 240/240 [00:05<00:00, 46.43it/s]\n"
          ]
        },
        {
          "name": "stdout",
          "output_type": "stream",
          "text": [
            "[MoviePy] Done.\n",
            "[MoviePy] >>>> Video ready: /content/drive/MyDrive/gp/The Girl Who Believes in Miracles/clip/391.mp4 \n",
            "\n",
            "391번째 클립 저장 완료\n",
            "[MoviePy] >>>> Building video /content/drive/MyDrive/gp/The Girl Who Believes in Miracles/clip/392.mp4\n",
            "[MoviePy] Writing audio in 392TEMP_MPY_wvf_snd.mp3\n"
          ]
        },
        {
          "name": "stderr",
          "output_type": "stream",
          "text": [
            "100%|██████████| 221/221 [00:00<00:00, 367.69it/s]"
          ]
        },
        {
          "name": "stdout",
          "output_type": "stream",
          "text": [
            "[MoviePy] Done.\n",
            "[MoviePy] Writing video /content/drive/MyDrive/gp/The Girl Who Believes in Miracles/clip/392.mp4\n"
          ]
        },
        {
          "name": "stderr",
          "output_type": "stream",
          "text": [
            "\n",
            "100%|██████████| 240/240 [00:04<00:00, 53.25it/s]\n"
          ]
        },
        {
          "name": "stdout",
          "output_type": "stream",
          "text": [
            "[MoviePy] Done.\n",
            "[MoviePy] >>>> Video ready: /content/drive/MyDrive/gp/The Girl Who Believes in Miracles/clip/392.mp4 \n",
            "\n",
            "392번째 클립 저장 완료\n",
            "[MoviePy] >>>> Building video /content/drive/MyDrive/gp/The Girl Who Believes in Miracles/clip/393.mp4\n",
            "[MoviePy] Writing audio in 393TEMP_MPY_wvf_snd.mp3\n"
          ]
        },
        {
          "name": "stderr",
          "output_type": "stream",
          "text": [
            "100%|██████████| 221/221 [00:00<00:00, 376.23it/s]"
          ]
        },
        {
          "name": "stdout",
          "output_type": "stream",
          "text": [
            "[MoviePy] Done.\n",
            "[MoviePy] Writing video /content/drive/MyDrive/gp/The Girl Who Believes in Miracles/clip/393.mp4\n"
          ]
        },
        {
          "name": "stderr",
          "output_type": "stream",
          "text": [
            "\n",
            "100%|██████████| 240/240 [00:03<00:00, 70.54it/s]\n"
          ]
        },
        {
          "name": "stdout",
          "output_type": "stream",
          "text": [
            "[MoviePy] Done.\n",
            "[MoviePy] >>>> Video ready: /content/drive/MyDrive/gp/The Girl Who Believes in Miracles/clip/393.mp4 \n",
            "\n",
            "393번째 클립 저장 완료\n",
            "[MoviePy] >>>> Building video /content/drive/MyDrive/gp/The Girl Who Believes in Miracles/clip/394.mp4\n",
            "[MoviePy] Writing audio in 394TEMP_MPY_wvf_snd.mp3\n"
          ]
        },
        {
          "name": "stderr",
          "output_type": "stream",
          "text": [
            "100%|██████████| 221/221 [00:00<00:00, 496.64it/s]"
          ]
        },
        {
          "name": "stdout",
          "output_type": "stream",
          "text": [
            "[MoviePy] Done.\n",
            "[MoviePy] Writing video /content/drive/MyDrive/gp/The Girl Who Believes in Miracles/clip/394.mp4\n"
          ]
        },
        {
          "name": "stderr",
          "output_type": "stream",
          "text": [
            "\n",
            "100%|██████████| 240/240 [00:03<00:00, 77.10it/s]\n"
          ]
        },
        {
          "name": "stdout",
          "output_type": "stream",
          "text": [
            "[MoviePy] Done.\n",
            "[MoviePy] >>>> Video ready: /content/drive/MyDrive/gp/The Girl Who Believes in Miracles/clip/394.mp4 \n",
            "\n",
            "394번째 클립 저장 완료\n",
            "[MoviePy] >>>> Building video /content/drive/MyDrive/gp/The Girl Who Believes in Miracles/clip/395.mp4\n",
            "[MoviePy] Writing audio in 395TEMP_MPY_wvf_snd.mp3\n"
          ]
        },
        {
          "name": "stderr",
          "output_type": "stream",
          "text": [
            "100%|██████████| 221/221 [00:00<00:00, 487.88it/s]\n"
          ]
        },
        {
          "name": "stdout",
          "output_type": "stream",
          "text": [
            "[MoviePy] Done.\n",
            "[MoviePy] Writing video /content/drive/MyDrive/gp/The Girl Who Believes in Miracles/clip/395.mp4\n"
          ]
        },
        {
          "name": "stderr",
          "output_type": "stream",
          "text": [
            "100%|██████████| 240/240 [00:03<00:00, 78.97it/s]\n"
          ]
        },
        {
          "name": "stdout",
          "output_type": "stream",
          "text": [
            "[MoviePy] Done.\n",
            "[MoviePy] >>>> Video ready: /content/drive/MyDrive/gp/The Girl Who Believes in Miracles/clip/395.mp4 \n",
            "\n",
            "395번째 클립 저장 완료\n",
            "[MoviePy] >>>> Building video /content/drive/MyDrive/gp/The Girl Who Believes in Miracles/clip/396.mp4\n",
            "[MoviePy] Writing audio in 396TEMP_MPY_wvf_snd.mp3\n"
          ]
        },
        {
          "name": "stderr",
          "output_type": "stream",
          "text": [
            "100%|██████████| 221/221 [00:00<00:00, 473.83it/s]\n"
          ]
        },
        {
          "name": "stdout",
          "output_type": "stream",
          "text": [
            "[MoviePy] Done.\n",
            "[MoviePy] Writing video /content/drive/MyDrive/gp/The Girl Who Believes in Miracles/clip/396.mp4\n"
          ]
        },
        {
          "name": "stderr",
          "output_type": "stream",
          "text": [
            "100%|██████████| 240/240 [00:03<00:00, 76.00it/s]\n"
          ]
        },
        {
          "name": "stdout",
          "output_type": "stream",
          "text": [
            "[MoviePy] Done.\n",
            "[MoviePy] >>>> Video ready: /content/drive/MyDrive/gp/The Girl Who Believes in Miracles/clip/396.mp4 \n",
            "\n",
            "396번째 클립 저장 완료\n",
            "[MoviePy] >>>> Building video /content/drive/MyDrive/gp/The Girl Who Believes in Miracles/clip/397.mp4\n",
            "[MoviePy] Writing audio in 397TEMP_MPY_wvf_snd.mp3\n"
          ]
        },
        {
          "name": "stderr",
          "output_type": "stream",
          "text": [
            "100%|██████████| 221/221 [00:00<00:00, 481.22it/s]"
          ]
        },
        {
          "name": "stdout",
          "output_type": "stream",
          "text": [
            "[MoviePy] Done.\n",
            "[MoviePy] Writing video /content/drive/MyDrive/gp/The Girl Who Believes in Miracles/clip/397.mp4\n"
          ]
        },
        {
          "name": "stderr",
          "output_type": "stream",
          "text": [
            "\n",
            "100%|██████████| 240/240 [00:03<00:00, 67.65it/s]\n"
          ]
        },
        {
          "name": "stdout",
          "output_type": "stream",
          "text": [
            "[MoviePy] Done.\n",
            "[MoviePy] >>>> Video ready: /content/drive/MyDrive/gp/The Girl Who Believes in Miracles/clip/397.mp4 \n",
            "\n",
            "397번째 클립 저장 완료\n",
            "[MoviePy] >>>> Building video /content/drive/MyDrive/gp/The Girl Who Believes in Miracles/clip/398.mp4\n",
            "[MoviePy] Writing audio in 398TEMP_MPY_wvf_snd.mp3\n"
          ]
        },
        {
          "name": "stderr",
          "output_type": "stream",
          "text": [
            "100%|██████████| 221/221 [00:00<00:00, 498.82it/s]"
          ]
        },
        {
          "name": "stdout",
          "output_type": "stream",
          "text": [
            "[MoviePy] Done.\n",
            "[MoviePy] Writing video /content/drive/MyDrive/gp/The Girl Who Believes in Miracles/clip/398.mp4\n"
          ]
        },
        {
          "name": "stderr",
          "output_type": "stream",
          "text": [
            "\n",
            "100%|██████████| 240/240 [00:03<00:00, 66.88it/s]\n"
          ]
        },
        {
          "name": "stdout",
          "output_type": "stream",
          "text": [
            "[MoviePy] Done.\n",
            "[MoviePy] >>>> Video ready: /content/drive/MyDrive/gp/The Girl Who Believes in Miracles/clip/398.mp4 \n",
            "\n",
            "398번째 클립 저장 완료\n",
            "[MoviePy] >>>> Building video /content/drive/MyDrive/gp/The Girl Who Believes in Miracles/clip/399.mp4\n",
            "[MoviePy] Writing audio in 399TEMP_MPY_wvf_snd.mp3\n"
          ]
        },
        {
          "name": "stderr",
          "output_type": "stream",
          "text": [
            "100%|██████████| 221/221 [00:00<00:00, 525.55it/s]"
          ]
        },
        {
          "name": "stdout",
          "output_type": "stream",
          "text": [
            "[MoviePy] Done.\n",
            "[MoviePy] Writing video /content/drive/MyDrive/gp/The Girl Who Believes in Miracles/clip/399.mp4\n"
          ]
        },
        {
          "name": "stderr",
          "output_type": "stream",
          "text": [
            "\n",
            "100%|██████████| 240/240 [00:03<00:00, 74.09it/s]\n"
          ]
        },
        {
          "name": "stdout",
          "output_type": "stream",
          "text": [
            "[MoviePy] Done.\n",
            "[MoviePy] >>>> Video ready: /content/drive/MyDrive/gp/The Girl Who Believes in Miracles/clip/399.mp4 \n",
            "\n",
            "399번째 클립 저장 완료\n",
            "[MoviePy] >>>> Building video /content/drive/MyDrive/gp/The Girl Who Believes in Miracles/clip/400.mp4\n",
            "[MoviePy] Writing audio in 400TEMP_MPY_wvf_snd.mp3\n"
          ]
        },
        {
          "name": "stderr",
          "output_type": "stream",
          "text": [
            "100%|██████████| 221/221 [00:00<00:00, 498.48it/s]"
          ]
        },
        {
          "name": "stdout",
          "output_type": "stream",
          "text": [
            "[MoviePy] Done.\n",
            "[MoviePy] Writing video /content/drive/MyDrive/gp/The Girl Who Believes in Miracles/clip/400.mp4\n"
          ]
        },
        {
          "name": "stderr",
          "output_type": "stream",
          "text": [
            "\n",
            "100%|██████████| 240/240 [00:02<00:00, 80.62it/s]\n"
          ]
        },
        {
          "name": "stdout",
          "output_type": "stream",
          "text": [
            "[MoviePy] Done.\n",
            "[MoviePy] >>>> Video ready: /content/drive/MyDrive/gp/The Girl Who Believes in Miracles/clip/400.mp4 \n",
            "\n",
            "400번째 클립 저장 완료\n",
            "[MoviePy] >>>> Building video /content/drive/MyDrive/gp/The Girl Who Believes in Miracles/clip/401.mp4\n",
            "[MoviePy] Writing audio in 401TEMP_MPY_wvf_snd.mp3\n"
          ]
        },
        {
          "name": "stderr",
          "output_type": "stream",
          "text": [
            "100%|██████████| 221/221 [00:00<00:00, 530.49it/s]"
          ]
        },
        {
          "name": "stdout",
          "output_type": "stream",
          "text": [
            "[MoviePy] Done.\n",
            "[MoviePy] Writing video /content/drive/MyDrive/gp/The Girl Who Believes in Miracles/clip/401.mp4\n"
          ]
        },
        {
          "name": "stderr",
          "output_type": "stream",
          "text": [
            "\n",
            "100%|██████████| 240/240 [00:02<00:00, 82.56it/s]\n"
          ]
        },
        {
          "name": "stdout",
          "output_type": "stream",
          "text": [
            "[MoviePy] Done.\n",
            "[MoviePy] >>>> Video ready: /content/drive/MyDrive/gp/The Girl Who Believes in Miracles/clip/401.mp4 \n",
            "\n",
            "401번째 클립 저장 완료\n",
            "[MoviePy] >>>> Building video /content/drive/MyDrive/gp/The Girl Who Believes in Miracles/clip/402.mp4\n",
            "[MoviePy] Writing audio in 402TEMP_MPY_wvf_snd.mp3\n"
          ]
        },
        {
          "name": "stderr",
          "output_type": "stream",
          "text": [
            "100%|██████████| 221/221 [00:00<00:00, 494.34it/s]"
          ]
        },
        {
          "name": "stdout",
          "output_type": "stream",
          "text": [
            "[MoviePy] Done.\n"
          ]
        },
        {
          "name": "stderr",
          "output_type": "stream",
          "text": [
            "\n"
          ]
        },
        {
          "name": "stdout",
          "output_type": "stream",
          "text": [
            "[MoviePy] Writing video /content/drive/MyDrive/gp/The Girl Who Believes in Miracles/clip/402.mp4\n"
          ]
        },
        {
          "name": "stderr",
          "output_type": "stream",
          "text": [
            "100%|██████████| 240/240 [00:02<00:00, 83.45it/s]\n"
          ]
        },
        {
          "name": "stdout",
          "output_type": "stream",
          "text": [
            "[MoviePy] Done.\n",
            "[MoviePy] >>>> Video ready: /content/drive/MyDrive/gp/The Girl Who Believes in Miracles/clip/402.mp4 \n",
            "\n",
            "402번째 클립 저장 완료\n",
            "[MoviePy] >>>> Building video /content/drive/MyDrive/gp/The Girl Who Believes in Miracles/clip/403.mp4\n",
            "[MoviePy] Writing audio in 403TEMP_MPY_wvf_snd.mp3\n"
          ]
        },
        {
          "name": "stderr",
          "output_type": "stream",
          "text": [
            "100%|██████████| 221/221 [00:00<00:00, 513.06it/s]"
          ]
        },
        {
          "name": "stdout",
          "output_type": "stream",
          "text": [
            "[MoviePy] Done.\n",
            "[MoviePy] Writing video /content/drive/MyDrive/gp/The Girl Who Believes in Miracles/clip/403.mp4\n"
          ]
        },
        {
          "name": "stderr",
          "output_type": "stream",
          "text": [
            "\n",
            "100%|██████████| 240/240 [00:02<00:00, 84.11it/s]\n"
          ]
        },
        {
          "name": "stdout",
          "output_type": "stream",
          "text": [
            "[MoviePy] Done.\n",
            "[MoviePy] >>>> Video ready: /content/drive/MyDrive/gp/The Girl Who Believes in Miracles/clip/403.mp4 \n",
            "\n",
            "403번째 클립 저장 완료\n",
            "[MoviePy] >>>> Building video /content/drive/MyDrive/gp/The Girl Who Believes in Miracles/clip/404.mp4\n",
            "[MoviePy] Writing audio in 404TEMP_MPY_wvf_snd.mp3\n"
          ]
        },
        {
          "name": "stderr",
          "output_type": "stream",
          "text": [
            "100%|██████████| 221/221 [00:00<00:00, 482.07it/s]\n"
          ]
        },
        {
          "name": "stdout",
          "output_type": "stream",
          "text": [
            "[MoviePy] Done.\n",
            "[MoviePy] Writing video /content/drive/MyDrive/gp/The Girl Who Believes in Miracles/clip/404.mp4\n"
          ]
        },
        {
          "name": "stderr",
          "output_type": "stream",
          "text": [
            "100%|██████████| 240/240 [00:02<00:00, 85.67it/s]\n"
          ]
        },
        {
          "name": "stdout",
          "output_type": "stream",
          "text": [
            "[MoviePy] Done.\n",
            "[MoviePy] >>>> Video ready: /content/drive/MyDrive/gp/The Girl Who Believes in Miracles/clip/404.mp4 \n",
            "\n",
            "404번째 클립 저장 완료\n",
            "[MoviePy] >>>> Building video /content/drive/MyDrive/gp/The Girl Who Believes in Miracles/clip/405.mp4\n",
            "[MoviePy] Writing audio in 405TEMP_MPY_wvf_snd.mp3\n"
          ]
        },
        {
          "name": "stderr",
          "output_type": "stream",
          "text": [
            "100%|██████████| 221/221 [00:00<00:00, 496.43it/s]"
          ]
        },
        {
          "name": "stdout",
          "output_type": "stream",
          "text": [
            "[MoviePy] Done.\n"
          ]
        },
        {
          "name": "stderr",
          "output_type": "stream",
          "text": [
            "\n"
          ]
        },
        {
          "name": "stdout",
          "output_type": "stream",
          "text": [
            "[MoviePy] Writing video /content/drive/MyDrive/gp/The Girl Who Believes in Miracles/clip/405.mp4\n"
          ]
        },
        {
          "name": "stderr",
          "output_type": "stream",
          "text": [
            "100%|██████████| 240/240 [00:02<00:00, 81.46it/s]\n"
          ]
        },
        {
          "name": "stdout",
          "output_type": "stream",
          "text": [
            "[MoviePy] Done.\n",
            "[MoviePy] >>>> Video ready: /content/drive/MyDrive/gp/The Girl Who Believes in Miracles/clip/405.mp4 \n",
            "\n",
            "405번째 클립 저장 완료\n",
            "[MoviePy] >>>> Building video /content/drive/MyDrive/gp/The Girl Who Believes in Miracles/clip/406.mp4\n",
            "[MoviePy] Writing audio in 406TEMP_MPY_wvf_snd.mp3\n"
          ]
        },
        {
          "name": "stderr",
          "output_type": "stream",
          "text": [
            "100%|██████████| 221/221 [00:00<00:00, 494.98it/s]"
          ]
        },
        {
          "name": "stdout",
          "output_type": "stream",
          "text": [
            "[MoviePy] Done.\n",
            "[MoviePy] Writing video /content/drive/MyDrive/gp/The Girl Who Believes in Miracles/clip/406.mp4\n"
          ]
        },
        {
          "name": "stderr",
          "output_type": "stream",
          "text": [
            "\n",
            "100%|██████████| 240/240 [00:03<00:00, 62.24it/s]\n"
          ]
        },
        {
          "name": "stdout",
          "output_type": "stream",
          "text": [
            "[MoviePy] Done.\n",
            "[MoviePy] >>>> Video ready: /content/drive/MyDrive/gp/The Girl Who Believes in Miracles/clip/406.mp4 \n",
            "\n",
            "406번째 클립 저장 완료\n",
            "[MoviePy] >>>> Building video /content/drive/MyDrive/gp/The Girl Who Believes in Miracles/clip/407.mp4\n",
            "[MoviePy] Writing audio in 407TEMP_MPY_wvf_snd.mp3\n"
          ]
        },
        {
          "name": "stderr",
          "output_type": "stream",
          "text": [
            "100%|██████████| 221/221 [00:00<00:00, 517.51it/s]"
          ]
        },
        {
          "name": "stdout",
          "output_type": "stream",
          "text": [
            "[MoviePy] Done.\n",
            "[MoviePy] Writing video /content/drive/MyDrive/gp/The Girl Who Believes in Miracles/clip/407.mp4\n"
          ]
        },
        {
          "name": "stderr",
          "output_type": "stream",
          "text": [
            "\n",
            "100%|██████████| 240/240 [00:03<00:00, 69.62it/s]\n"
          ]
        },
        {
          "name": "stdout",
          "output_type": "stream",
          "text": [
            "[MoviePy] Done.\n",
            "[MoviePy] >>>> Video ready: /content/drive/MyDrive/gp/The Girl Who Believes in Miracles/clip/407.mp4 \n",
            "\n",
            "407번째 클립 저장 완료\n",
            "[MoviePy] >>>> Building video /content/drive/MyDrive/gp/The Girl Who Believes in Miracles/clip/408.mp4\n",
            "[MoviePy] Writing audio in 408TEMP_MPY_wvf_snd.mp3\n"
          ]
        },
        {
          "name": "stderr",
          "output_type": "stream",
          "text": [
            "100%|██████████| 221/221 [00:00<00:00, 504.44it/s]"
          ]
        },
        {
          "name": "stdout",
          "output_type": "stream",
          "text": [
            "[MoviePy] Done.\n",
            "[MoviePy] Writing video /content/drive/MyDrive/gp/The Girl Who Believes in Miracles/clip/408.mp4\n"
          ]
        },
        {
          "name": "stderr",
          "output_type": "stream",
          "text": [
            "\n",
            "100%|██████████| 240/240 [00:03<00:00, 70.29it/s]\n"
          ]
        },
        {
          "name": "stdout",
          "output_type": "stream",
          "text": [
            "[MoviePy] Done.\n",
            "[MoviePy] >>>> Video ready: /content/drive/MyDrive/gp/The Girl Who Believes in Miracles/clip/408.mp4 \n",
            "\n",
            "408번째 클립 저장 완료\n",
            "[MoviePy] >>>> Building video /content/drive/MyDrive/gp/The Girl Who Believes in Miracles/clip/409.mp4\n",
            "[MoviePy] Writing audio in 409TEMP_MPY_wvf_snd.mp3\n"
          ]
        },
        {
          "name": "stderr",
          "output_type": "stream",
          "text": [
            "100%|██████████| 221/221 [00:00<00:00, 509.61it/s]"
          ]
        },
        {
          "name": "stdout",
          "output_type": "stream",
          "text": [
            "[MoviePy] Done.\n",
            "[MoviePy] Writing video /content/drive/MyDrive/gp/The Girl Who Believes in Miracles/clip/409.mp4\n"
          ]
        },
        {
          "name": "stderr",
          "output_type": "stream",
          "text": [
            "\n",
            "100%|██████████| 240/240 [00:03<00:00, 73.88it/s]\n"
          ]
        },
        {
          "name": "stdout",
          "output_type": "stream",
          "text": [
            "[MoviePy] Done.\n",
            "[MoviePy] >>>> Video ready: /content/drive/MyDrive/gp/The Girl Who Believes in Miracles/clip/409.mp4 \n",
            "\n",
            "409번째 클립 저장 완료\n",
            "[MoviePy] >>>> Building video /content/drive/MyDrive/gp/The Girl Who Believes in Miracles/clip/410.mp4\n",
            "[MoviePy] Writing audio in 410TEMP_MPY_wvf_snd.mp3\n"
          ]
        },
        {
          "name": "stderr",
          "output_type": "stream",
          "text": [
            "100%|██████████| 221/221 [00:00<00:00, 498.17it/s]"
          ]
        },
        {
          "name": "stdout",
          "output_type": "stream",
          "text": [
            "[MoviePy] Done.\n",
            "[MoviePy] Writing video /content/drive/MyDrive/gp/The Girl Who Believes in Miracles/clip/410.mp4\n"
          ]
        },
        {
          "name": "stderr",
          "output_type": "stream",
          "text": [
            "\n",
            "100%|██████████| 240/240 [00:03<00:00, 72.72it/s]\n"
          ]
        },
        {
          "name": "stdout",
          "output_type": "stream",
          "text": [
            "[MoviePy] Done.\n",
            "[MoviePy] >>>> Video ready: /content/drive/MyDrive/gp/The Girl Who Believes in Miracles/clip/410.mp4 \n",
            "\n",
            "410번째 클립 저장 완료\n",
            "[MoviePy] >>>> Building video /content/drive/MyDrive/gp/The Girl Who Believes in Miracles/clip/411.mp4\n",
            "[MoviePy] Writing audio in 411TEMP_MPY_wvf_snd.mp3\n"
          ]
        },
        {
          "name": "stderr",
          "output_type": "stream",
          "text": [
            "100%|██████████| 221/221 [00:00<00:00, 490.96it/s]"
          ]
        },
        {
          "name": "stdout",
          "output_type": "stream",
          "text": [
            "[MoviePy] Done.\n",
            "[MoviePy] Writing video /content/drive/MyDrive/gp/The Girl Who Believes in Miracles/clip/411.mp4\n"
          ]
        },
        {
          "name": "stderr",
          "output_type": "stream",
          "text": [
            "\n",
            "100%|██████████| 240/240 [00:03<00:00, 72.46it/s]\n"
          ]
        },
        {
          "name": "stdout",
          "output_type": "stream",
          "text": [
            "[MoviePy] Done.\n",
            "[MoviePy] >>>> Video ready: /content/drive/MyDrive/gp/The Girl Who Believes in Miracles/clip/411.mp4 \n",
            "\n",
            "411번째 클립 저장 완료\n",
            "[MoviePy] >>>> Building video /content/drive/MyDrive/gp/The Girl Who Believes in Miracles/clip/412.mp4\n",
            "[MoviePy] Writing audio in 412TEMP_MPY_wvf_snd.mp3\n"
          ]
        },
        {
          "name": "stderr",
          "output_type": "stream",
          "text": [
            "100%|██████████| 221/221 [00:00<00:00, 489.56it/s]"
          ]
        },
        {
          "name": "stdout",
          "output_type": "stream",
          "text": [
            "[MoviePy] Done.\n",
            "[MoviePy] Writing video /content/drive/MyDrive/gp/The Girl Who Believes in Miracles/clip/412.mp4\n"
          ]
        },
        {
          "name": "stderr",
          "output_type": "stream",
          "text": [
            "\n",
            "100%|██████████| 240/240 [00:05<00:00, 42.11it/s]\n"
          ]
        },
        {
          "name": "stdout",
          "output_type": "stream",
          "text": [
            "[MoviePy] Done.\n",
            "[MoviePy] >>>> Video ready: /content/drive/MyDrive/gp/The Girl Who Believes in Miracles/clip/412.mp4 \n",
            "\n",
            "412번째 클립 저장 완료\n",
            "[MoviePy] >>>> Building video /content/drive/MyDrive/gp/The Girl Who Believes in Miracles/clip/413.mp4\n",
            "[MoviePy] Writing audio in 413TEMP_MPY_wvf_snd.mp3\n"
          ]
        },
        {
          "name": "stderr",
          "output_type": "stream",
          "text": [
            "100%|██████████| 221/221 [00:00<00:00, 300.06it/s]"
          ]
        },
        {
          "name": "stdout",
          "output_type": "stream",
          "text": [
            "[MoviePy] Done.\n",
            "[MoviePy] Writing video /content/drive/MyDrive/gp/The Girl Who Believes in Miracles/clip/413.mp4\n"
          ]
        },
        {
          "name": "stderr",
          "output_type": "stream",
          "text": [
            "\n",
            "100%|██████████| 240/240 [00:06<00:00, 34.77it/s]\n"
          ]
        },
        {
          "name": "stdout",
          "output_type": "stream",
          "text": [
            "[MoviePy] Done.\n",
            "[MoviePy] >>>> Video ready: /content/drive/MyDrive/gp/The Girl Who Believes in Miracles/clip/413.mp4 \n",
            "\n",
            "413번째 클립 저장 완료\n",
            "[MoviePy] >>>> Building video /content/drive/MyDrive/gp/The Girl Who Believes in Miracles/clip/414.mp4\n",
            "[MoviePy] Writing audio in 414TEMP_MPY_wvf_snd.mp3\n"
          ]
        },
        {
          "name": "stderr",
          "output_type": "stream",
          "text": [
            "100%|██████████| 221/221 [00:00<00:00, 335.87it/s]"
          ]
        },
        {
          "name": "stdout",
          "output_type": "stream",
          "text": [
            "[MoviePy] Done.\n",
            "[MoviePy] Writing video /content/drive/MyDrive/gp/The Girl Who Believes in Miracles/clip/414.mp4\n"
          ]
        },
        {
          "name": "stderr",
          "output_type": "stream",
          "text": [
            "\n",
            "100%|██████████| 240/240 [00:07<00:00, 33.58it/s]\n"
          ]
        },
        {
          "name": "stdout",
          "output_type": "stream",
          "text": [
            "[MoviePy] Done.\n",
            "[MoviePy] >>>> Video ready: /content/drive/MyDrive/gp/The Girl Who Believes in Miracles/clip/414.mp4 \n",
            "\n",
            "414번째 클립 저장 완료\n",
            "[MoviePy] >>>> Building video /content/drive/MyDrive/gp/The Girl Who Believes in Miracles/clip/415.mp4\n",
            "[MoviePy] Writing audio in 415TEMP_MPY_wvf_snd.mp3\n"
          ]
        },
        {
          "name": "stderr",
          "output_type": "stream",
          "text": [
            "100%|██████████| 221/221 [00:00<00:00, 318.06it/s]"
          ]
        },
        {
          "name": "stdout",
          "output_type": "stream",
          "text": [
            "[MoviePy] Done.\n",
            "[MoviePy] Writing video /content/drive/MyDrive/gp/The Girl Who Believes in Miracles/clip/415.mp4\n"
          ]
        },
        {
          "name": "stderr",
          "output_type": "stream",
          "text": [
            "\n",
            "100%|██████████| 240/240 [00:07<00:00, 34.15it/s]\n"
          ]
        },
        {
          "name": "stdout",
          "output_type": "stream",
          "text": [
            "[MoviePy] Done.\n",
            "[MoviePy] >>>> Video ready: /content/drive/MyDrive/gp/The Girl Who Believes in Miracles/clip/415.mp4 \n",
            "\n",
            "415번째 클립 저장 완료\n",
            "[MoviePy] >>>> Building video /content/drive/MyDrive/gp/The Girl Who Believes in Miracles/clip/416.mp4\n",
            "[MoviePy] Writing audio in 416TEMP_MPY_wvf_snd.mp3\n"
          ]
        },
        {
          "name": "stderr",
          "output_type": "stream",
          "text": [
            "100%|██████████| 221/221 [00:00<00:00, 505.82it/s]"
          ]
        },
        {
          "name": "stdout",
          "output_type": "stream",
          "text": [
            "[MoviePy] Done.\n",
            "[MoviePy] Writing video /content/drive/MyDrive/gp/The Girl Who Believes in Miracles/clip/416.mp4\n"
          ]
        },
        {
          "name": "stderr",
          "output_type": "stream",
          "text": [
            "\n",
            "100%|██████████| 240/240 [00:03<00:00, 60.67it/s]\n"
          ]
        },
        {
          "name": "stdout",
          "output_type": "stream",
          "text": [
            "[MoviePy] Done.\n",
            "[MoviePy] >>>> Video ready: /content/drive/MyDrive/gp/The Girl Who Believes in Miracles/clip/416.mp4 \n",
            "\n",
            "416번째 클립 저장 완료\n",
            "[MoviePy] >>>> Building video /content/drive/MyDrive/gp/The Girl Who Believes in Miracles/clip/417.mp4\n",
            "[MoviePy] Writing audio in 417TEMP_MPY_wvf_snd.mp3\n"
          ]
        },
        {
          "name": "stderr",
          "output_type": "stream",
          "text": [
            "100%|██████████| 221/221 [00:00<00:00, 496.31it/s]"
          ]
        },
        {
          "name": "stdout",
          "output_type": "stream",
          "text": [
            "[MoviePy] Done.\n",
            "[MoviePy] Writing video /content/drive/MyDrive/gp/The Girl Who Believes in Miracles/clip/417.mp4\n"
          ]
        },
        {
          "name": "stderr",
          "output_type": "stream",
          "text": [
            "\n",
            "100%|██████████| 240/240 [00:03<00:00, 65.21it/s]\n"
          ]
        },
        {
          "name": "stdout",
          "output_type": "stream",
          "text": [
            "[MoviePy] Done.\n",
            "[MoviePy] >>>> Video ready: /content/drive/MyDrive/gp/The Girl Who Believes in Miracles/clip/417.mp4 \n",
            "\n",
            "417번째 클립 저장 완료\n",
            "[MoviePy] >>>> Building video /content/drive/MyDrive/gp/The Girl Who Believes in Miracles/clip/418.mp4\n",
            "[MoviePy] Writing audio in 418TEMP_MPY_wvf_snd.mp3\n"
          ]
        },
        {
          "name": "stderr",
          "output_type": "stream",
          "text": [
            "100%|██████████| 221/221 [00:00<00:00, 469.58it/s]"
          ]
        },
        {
          "name": "stdout",
          "output_type": "stream",
          "text": [
            "[MoviePy] Done.\n",
            "[MoviePy] Writing video /content/drive/MyDrive/gp/The Girl Who Believes in Miracles/clip/418.mp4\n"
          ]
        },
        {
          "name": "stderr",
          "output_type": "stream",
          "text": [
            "\n",
            "100%|██████████| 240/240 [00:03<00:00, 72.79it/s]\n"
          ]
        },
        {
          "name": "stdout",
          "output_type": "stream",
          "text": [
            "[MoviePy] Done.\n",
            "[MoviePy] >>>> Video ready: /content/drive/MyDrive/gp/The Girl Who Believes in Miracles/clip/418.mp4 \n",
            "\n",
            "418번째 클립 저장 완료\n",
            "[MoviePy] >>>> Building video /content/drive/MyDrive/gp/The Girl Who Believes in Miracles/clip/419.mp4\n",
            "[MoviePy] Writing audio in 419TEMP_MPY_wvf_snd.mp3\n"
          ]
        },
        {
          "name": "stderr",
          "output_type": "stream",
          "text": [
            "100%|██████████| 221/221 [00:00<00:00, 408.78it/s]"
          ]
        },
        {
          "name": "stdout",
          "output_type": "stream",
          "text": [
            "[MoviePy] Done.\n"
          ]
        },
        {
          "name": "stderr",
          "output_type": "stream",
          "text": [
            "\n"
          ]
        },
        {
          "name": "stdout",
          "output_type": "stream",
          "text": [
            "[MoviePy] Writing video /content/drive/MyDrive/gp/The Girl Who Believes in Miracles/clip/419.mp4\n"
          ]
        },
        {
          "name": "stderr",
          "output_type": "stream",
          "text": [
            "100%|██████████| 240/240 [00:03<00:00, 77.24it/s]\n"
          ]
        },
        {
          "name": "stdout",
          "output_type": "stream",
          "text": [
            "[MoviePy] Done.\n",
            "[MoviePy] >>>> Video ready: /content/drive/MyDrive/gp/The Girl Who Believes in Miracles/clip/419.mp4 \n",
            "\n",
            "419번째 클립 저장 완료\n",
            "[MoviePy] >>>> Building video /content/drive/MyDrive/gp/The Girl Who Believes in Miracles/clip/420.mp4\n",
            "[MoviePy] Writing audio in 420TEMP_MPY_wvf_snd.mp3\n"
          ]
        },
        {
          "name": "stderr",
          "output_type": "stream",
          "text": [
            "100%|██████████| 221/221 [00:00<00:00, 470.35it/s]"
          ]
        },
        {
          "name": "stdout",
          "output_type": "stream",
          "text": [
            "[MoviePy] Done.\n",
            "[MoviePy] Writing video /content/drive/MyDrive/gp/The Girl Who Believes in Miracles/clip/420.mp4\n"
          ]
        },
        {
          "name": "stderr",
          "output_type": "stream",
          "text": [
            "\n",
            "100%|██████████| 240/240 [00:02<00:00, 81.26it/s]\n"
          ]
        },
        {
          "name": "stdout",
          "output_type": "stream",
          "text": [
            "[MoviePy] Done.\n",
            "[MoviePy] >>>> Video ready: /content/drive/MyDrive/gp/The Girl Who Believes in Miracles/clip/420.mp4 \n",
            "\n",
            "420번째 클립 저장 완료\n",
            "[MoviePy] >>>> Building video /content/drive/MyDrive/gp/The Girl Who Believes in Miracles/clip/421.mp4\n",
            "[MoviePy] Writing audio in 421TEMP_MPY_wvf_snd.mp3\n"
          ]
        },
        {
          "name": "stderr",
          "output_type": "stream",
          "text": [
            "100%|██████████| 221/221 [00:00<00:00, 490.59it/s]"
          ]
        },
        {
          "name": "stdout",
          "output_type": "stream",
          "text": [
            "[MoviePy] Done.\n",
            "[MoviePy] Writing video /content/drive/MyDrive/gp/The Girl Who Believes in Miracles/clip/421.mp4\n"
          ]
        },
        {
          "name": "stderr",
          "output_type": "stream",
          "text": [
            "\n",
            "100%|██████████| 240/240 [00:02<00:00, 81.28it/s]\n"
          ]
        },
        {
          "name": "stdout",
          "output_type": "stream",
          "text": [
            "[MoviePy] Done.\n",
            "[MoviePy] >>>> Video ready: /content/drive/MyDrive/gp/The Girl Who Believes in Miracles/clip/421.mp4 \n",
            "\n",
            "421번째 클립 저장 완료\n",
            "[MoviePy] >>>> Building video /content/drive/MyDrive/gp/The Girl Who Believes in Miracles/clip/422.mp4\n",
            "[MoviePy] Writing audio in 422TEMP_MPY_wvf_snd.mp3\n"
          ]
        },
        {
          "name": "stderr",
          "output_type": "stream",
          "text": [
            "100%|██████████| 221/221 [00:00<00:00, 472.61it/s]\n"
          ]
        },
        {
          "name": "stdout",
          "output_type": "stream",
          "text": [
            "[MoviePy] Done.\n",
            "[MoviePy] Writing video /content/drive/MyDrive/gp/The Girl Who Believes in Miracles/clip/422.mp4\n"
          ]
        },
        {
          "name": "stderr",
          "output_type": "stream",
          "text": [
            "100%|██████████| 240/240 [00:03<00:00, 79.87it/s]\n"
          ]
        },
        {
          "name": "stdout",
          "output_type": "stream",
          "text": [
            "[MoviePy] Done.\n",
            "[MoviePy] >>>> Video ready: /content/drive/MyDrive/gp/The Girl Who Believes in Miracles/clip/422.mp4 \n",
            "\n",
            "422번째 클립 저장 완료\n",
            "[MoviePy] >>>> Building video /content/drive/MyDrive/gp/The Girl Who Believes in Miracles/clip/423.mp4\n",
            "[MoviePy] Writing audio in 423TEMP_MPY_wvf_snd.mp3\n"
          ]
        },
        {
          "name": "stderr",
          "output_type": "stream",
          "text": [
            "100%|██████████| 221/221 [00:00<00:00, 508.78it/s]"
          ]
        },
        {
          "name": "stdout",
          "output_type": "stream",
          "text": [
            "[MoviePy] Done.\n",
            "[MoviePy] Writing video /content/drive/MyDrive/gp/The Girl Who Believes in Miracles/clip/423.mp4\n"
          ]
        },
        {
          "name": "stderr",
          "output_type": "stream",
          "text": [
            "\n",
            "100%|██████████| 240/240 [00:02<00:00, 89.95it/s]\n"
          ]
        },
        {
          "name": "stdout",
          "output_type": "stream",
          "text": [
            "[MoviePy] Done.\n",
            "[MoviePy] >>>> Video ready: /content/drive/MyDrive/gp/The Girl Who Believes in Miracles/clip/423.mp4 \n",
            "\n",
            "423번째 클립 저장 완료\n",
            "[MoviePy] >>>> Building video /content/drive/MyDrive/gp/The Girl Who Believes in Miracles/clip/424.mp4\n",
            "[MoviePy] Writing audio in 424TEMP_MPY_wvf_snd.mp3\n"
          ]
        },
        {
          "name": "stderr",
          "output_type": "stream",
          "text": [
            "100%|██████████| 221/221 [00:00<00:00, 494.25it/s]"
          ]
        },
        {
          "name": "stdout",
          "output_type": "stream",
          "text": [
            "[MoviePy] Done.\n",
            "[MoviePy] Writing video /content/drive/MyDrive/gp/The Girl Who Believes in Miracles/clip/424.mp4\n"
          ]
        },
        {
          "name": "stderr",
          "output_type": "stream",
          "text": [
            "\n",
            "100%|██████████| 240/240 [00:03<00:00, 79.26it/s]\n"
          ]
        },
        {
          "name": "stdout",
          "output_type": "stream",
          "text": [
            "[MoviePy] Done.\n",
            "[MoviePy] >>>> Video ready: /content/drive/MyDrive/gp/The Girl Who Believes in Miracles/clip/424.mp4 \n",
            "\n",
            "424번째 클립 저장 완료\n",
            "[MoviePy] >>>> Building video /content/drive/MyDrive/gp/The Girl Who Believes in Miracles/clip/425.mp4\n",
            "[MoviePy] Writing audio in 425TEMP_MPY_wvf_snd.mp3\n"
          ]
        },
        {
          "name": "stderr",
          "output_type": "stream",
          "text": [
            "100%|██████████| 221/221 [00:00<00:00, 474.37it/s]"
          ]
        },
        {
          "name": "stdout",
          "output_type": "stream",
          "text": [
            "[MoviePy] Done.\n",
            "[MoviePy] Writing video /content/drive/MyDrive/gp/The Girl Who Believes in Miracles/clip/425.mp4\n"
          ]
        },
        {
          "name": "stderr",
          "output_type": "stream",
          "text": [
            "\n",
            "100%|██████████| 240/240 [00:04<00:00, 58.78it/s]\n"
          ]
        },
        {
          "name": "stdout",
          "output_type": "stream",
          "text": [
            "[MoviePy] Done.\n",
            "[MoviePy] >>>> Video ready: /content/drive/MyDrive/gp/The Girl Who Believes in Miracles/clip/425.mp4 \n",
            "\n",
            "425번째 클립 저장 완료\n",
            "[MoviePy] >>>> Building video /content/drive/MyDrive/gp/The Girl Who Believes in Miracles/clip/426.mp4\n",
            "[MoviePy] Writing audio in 426TEMP_MPY_wvf_snd.mp3\n"
          ]
        },
        {
          "name": "stderr",
          "output_type": "stream",
          "text": [
            "100%|██████████| 221/221 [00:00<00:00, 491.23it/s]"
          ]
        },
        {
          "name": "stdout",
          "output_type": "stream",
          "text": [
            "[MoviePy] Done.\n"
          ]
        },
        {
          "name": "stderr",
          "output_type": "stream",
          "text": [
            "\n"
          ]
        },
        {
          "name": "stdout",
          "output_type": "stream",
          "text": [
            "[MoviePy] Writing video /content/drive/MyDrive/gp/The Girl Who Believes in Miracles/clip/426.mp4\n"
          ]
        },
        {
          "name": "stderr",
          "output_type": "stream",
          "text": [
            "100%|██████████| 240/240 [00:02<00:00, 92.39it/s]\n"
          ]
        },
        {
          "name": "stdout",
          "output_type": "stream",
          "text": [
            "[MoviePy] Done.\n",
            "[MoviePy] >>>> Video ready: /content/drive/MyDrive/gp/The Girl Who Believes in Miracles/clip/426.mp4 \n",
            "\n",
            "426번째 클립 저장 완료\n",
            "[MoviePy] >>>> Building video /content/drive/MyDrive/gp/The Girl Who Believes in Miracles/clip/427.mp4\n",
            "[MoviePy] Writing audio in 427TEMP_MPY_wvf_snd.mp3\n"
          ]
        },
        {
          "name": "stderr",
          "output_type": "stream",
          "text": [
            "100%|██████████| 221/221 [00:00<00:00, 500.85it/s]"
          ]
        },
        {
          "name": "stdout",
          "output_type": "stream",
          "text": [
            "[MoviePy] Done.\n",
            "[MoviePy] Writing video /content/drive/MyDrive/gp/The Girl Who Believes in Miracles/clip/427.mp4\n"
          ]
        },
        {
          "name": "stderr",
          "output_type": "stream",
          "text": [
            "\n",
            "100%|██████████| 240/240 [00:03<00:00, 65.70it/s]\n"
          ]
        },
        {
          "name": "stdout",
          "output_type": "stream",
          "text": [
            "[MoviePy] Done.\n",
            "[MoviePy] >>>> Video ready: /content/drive/MyDrive/gp/The Girl Who Believes in Miracles/clip/427.mp4 \n",
            "\n",
            "427번째 클립 저장 완료\n",
            "[MoviePy] >>>> Building video /content/drive/MyDrive/gp/The Girl Who Believes in Miracles/clip/428.mp4\n",
            "[MoviePy] Writing audio in 428TEMP_MPY_wvf_snd.mp3\n"
          ]
        },
        {
          "name": "stderr",
          "output_type": "stream",
          "text": [
            "100%|██████████| 221/221 [00:00<00:00, 486.44it/s]"
          ]
        },
        {
          "name": "stdout",
          "output_type": "stream",
          "text": [
            "[MoviePy] Done.\n",
            "[MoviePy] Writing video /content/drive/MyDrive/gp/The Girl Who Believes in Miracles/clip/428.mp4\n"
          ]
        },
        {
          "name": "stderr",
          "output_type": "stream",
          "text": [
            "\n",
            "100%|██████████| 240/240 [00:03<00:00, 61.39it/s]\n"
          ]
        },
        {
          "name": "stdout",
          "output_type": "stream",
          "text": [
            "[MoviePy] Done.\n",
            "[MoviePy] >>>> Video ready: /content/drive/MyDrive/gp/The Girl Who Believes in Miracles/clip/428.mp4 \n",
            "\n",
            "428번째 클립 저장 완료\n",
            "[MoviePy] >>>> Building video /content/drive/MyDrive/gp/The Girl Who Believes in Miracles/clip/429.mp4\n",
            "[MoviePy] Writing audio in 429TEMP_MPY_wvf_snd.mp3\n"
          ]
        },
        {
          "name": "stderr",
          "output_type": "stream",
          "text": [
            "100%|██████████| 221/221 [00:00<00:00, 495.02it/s]"
          ]
        },
        {
          "name": "stdout",
          "output_type": "stream",
          "text": [
            "[MoviePy] Done.\n",
            "[MoviePy] Writing video /content/drive/MyDrive/gp/The Girl Who Believes in Miracles/clip/429.mp4\n"
          ]
        },
        {
          "name": "stderr",
          "output_type": "stream",
          "text": [
            "\n",
            "100%|██████████| 240/240 [00:03<00:00, 66.48it/s]\n"
          ]
        },
        {
          "name": "stdout",
          "output_type": "stream",
          "text": [
            "[MoviePy] Done.\n",
            "[MoviePy] >>>> Video ready: /content/drive/MyDrive/gp/The Girl Who Believes in Miracles/clip/429.mp4 \n",
            "\n",
            "429번째 클립 저장 완료\n",
            "[MoviePy] >>>> Building video /content/drive/MyDrive/gp/The Girl Who Believes in Miracles/clip/430.mp4\n",
            "[MoviePy] Writing audio in 430TEMP_MPY_wvf_snd.mp3\n"
          ]
        },
        {
          "name": "stderr",
          "output_type": "stream",
          "text": [
            "100%|██████████| 221/221 [00:00<00:00, 520.71it/s]"
          ]
        },
        {
          "name": "stdout",
          "output_type": "stream",
          "text": [
            "[MoviePy] Done.\n",
            "[MoviePy] Writing video /content/drive/MyDrive/gp/The Girl Who Believes in Miracles/clip/430.mp4\n"
          ]
        },
        {
          "name": "stderr",
          "output_type": "stream",
          "text": [
            "\n",
            "100%|██████████| 240/240 [00:03<00:00, 64.62it/s]\n"
          ]
        },
        {
          "name": "stdout",
          "output_type": "stream",
          "text": [
            "[MoviePy] Done.\n",
            "[MoviePy] >>>> Video ready: /content/drive/MyDrive/gp/The Girl Who Believes in Miracles/clip/430.mp4 \n",
            "\n",
            "430번째 클립 저장 완료\n",
            "[MoviePy] >>>> Building video /content/drive/MyDrive/gp/The Girl Who Believes in Miracles/clip/431.mp4\n",
            "[MoviePy] Writing audio in 431TEMP_MPY_wvf_snd.mp3\n"
          ]
        },
        {
          "name": "stderr",
          "output_type": "stream",
          "text": [
            "100%|██████████| 221/221 [00:00<00:00, 486.39it/s]"
          ]
        },
        {
          "name": "stdout",
          "output_type": "stream",
          "text": [
            "[MoviePy] Done.\n",
            "[MoviePy] Writing video /content/drive/MyDrive/gp/The Girl Who Believes in Miracles/clip/431.mp4\n"
          ]
        },
        {
          "name": "stderr",
          "output_type": "stream",
          "text": [
            "\n",
            "100%|██████████| 240/240 [00:03<00:00, 62.32it/s]\n"
          ]
        },
        {
          "name": "stdout",
          "output_type": "stream",
          "text": [
            "[MoviePy] Done.\n",
            "[MoviePy] >>>> Video ready: /content/drive/MyDrive/gp/The Girl Who Believes in Miracles/clip/431.mp4 \n",
            "\n",
            "431번째 클립 저장 완료\n",
            "[MoviePy] >>>> Building video /content/drive/MyDrive/gp/The Girl Who Believes in Miracles/clip/432.mp4\n",
            "[MoviePy] Writing audio in 432TEMP_MPY_wvf_snd.mp3\n"
          ]
        },
        {
          "name": "stderr",
          "output_type": "stream",
          "text": [
            "100%|██████████| 221/221 [00:00<00:00, 486.19it/s]\n"
          ]
        },
        {
          "name": "stdout",
          "output_type": "stream",
          "text": [
            "[MoviePy] Done.\n",
            "[MoviePy] Writing video /content/drive/MyDrive/gp/The Girl Who Believes in Miracles/clip/432.mp4\n"
          ]
        },
        {
          "name": "stderr",
          "output_type": "stream",
          "text": [
            "100%|██████████| 240/240 [00:03<00:00, 70.74it/s]\n"
          ]
        },
        {
          "name": "stdout",
          "output_type": "stream",
          "text": [
            "[MoviePy] Done.\n",
            "[MoviePy] >>>> Video ready: /content/drive/MyDrive/gp/The Girl Who Believes in Miracles/clip/432.mp4 \n",
            "\n",
            "432번째 클립 저장 완료\n",
            "[MoviePy] >>>> Building video /content/drive/MyDrive/gp/The Girl Who Believes in Miracles/clip/433.mp4\n",
            "[MoviePy] Writing audio in 433TEMP_MPY_wvf_snd.mp3\n"
          ]
        },
        {
          "name": "stderr",
          "output_type": "stream",
          "text": [
            "100%|██████████| 221/221 [00:00<00:00, 497.71it/s]"
          ]
        },
        {
          "name": "stdout",
          "output_type": "stream",
          "text": [
            "[MoviePy] Done.\n",
            "[MoviePy] Writing video /content/drive/MyDrive/gp/The Girl Who Believes in Miracles/clip/433.mp4\n"
          ]
        },
        {
          "name": "stderr",
          "output_type": "stream",
          "text": [
            "\n",
            "100%|██████████| 240/240 [00:03<00:00, 75.54it/s]\n"
          ]
        },
        {
          "name": "stdout",
          "output_type": "stream",
          "text": [
            "[MoviePy] Done.\n",
            "[MoviePy] >>>> Video ready: /content/drive/MyDrive/gp/The Girl Who Believes in Miracles/clip/433.mp4 \n",
            "\n",
            "433번째 클립 저장 완료\n",
            "[MoviePy] >>>> Building video /content/drive/MyDrive/gp/The Girl Who Believes in Miracles/clip/434.mp4\n",
            "[MoviePy] Writing audio in 434TEMP_MPY_wvf_snd.mp3\n"
          ]
        },
        {
          "name": "stderr",
          "output_type": "stream",
          "text": [
            "100%|██████████| 221/221 [00:00<00:00, 505.71it/s]"
          ]
        },
        {
          "name": "stdout",
          "output_type": "stream",
          "text": [
            "[MoviePy] Done.\n",
            "[MoviePy] Writing video /content/drive/MyDrive/gp/The Girl Who Believes in Miracles/clip/434.mp4\n"
          ]
        },
        {
          "name": "stderr",
          "output_type": "stream",
          "text": [
            "\n",
            "100%|██████████| 240/240 [00:03<00:00, 79.42it/s]\n"
          ]
        },
        {
          "name": "stdout",
          "output_type": "stream",
          "text": [
            "[MoviePy] Done.\n",
            "[MoviePy] >>>> Video ready: /content/drive/MyDrive/gp/The Girl Who Believes in Miracles/clip/434.mp4 \n",
            "\n",
            "434번째 클립 저장 완료\n",
            "[MoviePy] >>>> Building video /content/drive/MyDrive/gp/The Girl Who Believes in Miracles/clip/435.mp4\n",
            "[MoviePy] Writing audio in 435TEMP_MPY_wvf_snd.mp3\n"
          ]
        },
        {
          "name": "stderr",
          "output_type": "stream",
          "text": [
            "100%|██████████| 221/221 [00:00<00:00, 300.02it/s]"
          ]
        },
        {
          "name": "stdout",
          "output_type": "stream",
          "text": [
            "[MoviePy] Done.\n",
            "[MoviePy] Writing video /content/drive/MyDrive/gp/The Girl Who Believes in Miracles/clip/435.mp4\n"
          ]
        },
        {
          "name": "stderr",
          "output_type": "stream",
          "text": [
            "\n",
            "100%|██████████| 240/240 [00:05<00:00, 43.93it/s]\n"
          ]
        },
        {
          "name": "stdout",
          "output_type": "stream",
          "text": [
            "[MoviePy] Done.\n",
            "[MoviePy] >>>> Video ready: /content/drive/MyDrive/gp/The Girl Who Believes in Miracles/clip/435.mp4 \n",
            "\n",
            "435번째 클립 저장 완료\n",
            "[MoviePy] >>>> Building video /content/drive/MyDrive/gp/The Girl Who Believes in Miracles/clip/436.mp4\n",
            "[MoviePy] Writing audio in 436TEMP_MPY_wvf_snd.mp3\n"
          ]
        },
        {
          "name": "stderr",
          "output_type": "stream",
          "text": [
            "100%|██████████| 221/221 [00:00<00:00, 283.73it/s]\n"
          ]
        },
        {
          "name": "stdout",
          "output_type": "stream",
          "text": [
            "[MoviePy] Done.\n",
            "[MoviePy] Writing video /content/drive/MyDrive/gp/The Girl Who Believes in Miracles/clip/436.mp4\n"
          ]
        },
        {
          "name": "stderr",
          "output_type": "stream",
          "text": [
            "100%|██████████| 240/240 [00:03<00:00, 77.47it/s]\n"
          ]
        },
        {
          "name": "stdout",
          "output_type": "stream",
          "text": [
            "[MoviePy] Done.\n",
            "[MoviePy] >>>> Video ready: /content/drive/MyDrive/gp/The Girl Who Believes in Miracles/clip/436.mp4 \n",
            "\n",
            "436번째 클립 저장 완료\n",
            "[MoviePy] >>>> Building video /content/drive/MyDrive/gp/The Girl Who Believes in Miracles/clip/437.mp4\n",
            "[MoviePy] Writing audio in 437TEMP_MPY_wvf_snd.mp3\n"
          ]
        },
        {
          "name": "stderr",
          "output_type": "stream",
          "text": [
            "100%|██████████| 221/221 [00:00<00:00, 462.07it/s]"
          ]
        },
        {
          "name": "stdout",
          "output_type": "stream",
          "text": [
            "[MoviePy] Done.\n",
            "[MoviePy] Writing video /content/drive/MyDrive/gp/The Girl Who Believes in Miracles/clip/437.mp4\n"
          ]
        },
        {
          "name": "stderr",
          "output_type": "stream",
          "text": [
            "\n",
            "100%|██████████| 240/240 [00:02<00:00, 88.28it/s]\n"
          ]
        },
        {
          "name": "stdout",
          "output_type": "stream",
          "text": [
            "[MoviePy] Done.\n",
            "[MoviePy] >>>> Video ready: /content/drive/MyDrive/gp/The Girl Who Believes in Miracles/clip/437.mp4 \n",
            "\n",
            "437번째 클립 저장 완료\n",
            "[MoviePy] >>>> Building video /content/drive/MyDrive/gp/The Girl Who Believes in Miracles/clip/438.mp4\n",
            "[MoviePy] Writing audio in 438TEMP_MPY_wvf_snd.mp3\n"
          ]
        },
        {
          "name": "stderr",
          "output_type": "stream",
          "text": [
            "100%|██████████| 221/221 [00:00<00:00, 486.82it/s]"
          ]
        },
        {
          "name": "stdout",
          "output_type": "stream",
          "text": [
            "[MoviePy] Done.\n",
            "[MoviePy] Writing video /content/drive/MyDrive/gp/The Girl Who Believes in Miracles/clip/438.mp4\n"
          ]
        },
        {
          "name": "stderr",
          "output_type": "stream",
          "text": [
            "\n",
            "100%|██████████| 240/240 [00:02<00:00, 84.00it/s]\n"
          ]
        },
        {
          "name": "stdout",
          "output_type": "stream",
          "text": [
            "[MoviePy] Done.\n",
            "[MoviePy] >>>> Video ready: /content/drive/MyDrive/gp/The Girl Who Believes in Miracles/clip/438.mp4 \n",
            "\n",
            "438번째 클립 저장 완료\n",
            "[MoviePy] >>>> Building video /content/drive/MyDrive/gp/The Girl Who Believes in Miracles/clip/439.mp4\n",
            "[MoviePy] Writing audio in 439TEMP_MPY_wvf_snd.mp3\n"
          ]
        },
        {
          "name": "stderr",
          "output_type": "stream",
          "text": [
            "100%|██████████| 221/221 [00:00<00:00, 491.07it/s]"
          ]
        },
        {
          "name": "stdout",
          "output_type": "stream",
          "text": [
            "[MoviePy] Done.\n",
            "[MoviePy] Writing video /content/drive/MyDrive/gp/The Girl Who Believes in Miracles/clip/439.mp4\n"
          ]
        },
        {
          "name": "stderr",
          "output_type": "stream",
          "text": [
            "\n",
            "100%|██████████| 240/240 [00:02<00:00, 80.63it/s]\n"
          ]
        },
        {
          "name": "stdout",
          "output_type": "stream",
          "text": [
            "[MoviePy] Done.\n",
            "[MoviePy] >>>> Video ready: /content/drive/MyDrive/gp/The Girl Who Believes in Miracles/clip/439.mp4 \n",
            "\n",
            "439번째 클립 저장 완료\n",
            "[MoviePy] >>>> Building video /content/drive/MyDrive/gp/The Girl Who Believes in Miracles/clip/440.mp4\n",
            "[MoviePy] Writing audio in 440TEMP_MPY_wvf_snd.mp3\n"
          ]
        },
        {
          "name": "stderr",
          "output_type": "stream",
          "text": [
            "100%|██████████| 221/221 [00:00<00:00, 509.53it/s]"
          ]
        },
        {
          "name": "stdout",
          "output_type": "stream",
          "text": [
            "[MoviePy] Done.\n",
            "[MoviePy] Writing video /content/drive/MyDrive/gp/The Girl Who Believes in Miracles/clip/440.mp4\n"
          ]
        },
        {
          "name": "stderr",
          "output_type": "stream",
          "text": [
            "\n",
            "100%|██████████| 240/240 [00:03<00:00, 74.24it/s]\n"
          ]
        },
        {
          "name": "stdout",
          "output_type": "stream",
          "text": [
            "[MoviePy] Done.\n",
            "[MoviePy] >>>> Video ready: /content/drive/MyDrive/gp/The Girl Who Believes in Miracles/clip/440.mp4 \n",
            "\n",
            "440번째 클립 저장 완료\n",
            "[MoviePy] >>>> Building video /content/drive/MyDrive/gp/The Girl Who Believes in Miracles/clip/441.mp4\n",
            "[MoviePy] Writing audio in 441TEMP_MPY_wvf_snd.mp3\n"
          ]
        },
        {
          "name": "stderr",
          "output_type": "stream",
          "text": [
            "100%|██████████| 221/221 [00:00<00:00, 494.68it/s]"
          ]
        },
        {
          "name": "stdout",
          "output_type": "stream",
          "text": [
            "[MoviePy] Done.\n",
            "[MoviePy] Writing video /content/drive/MyDrive/gp/The Girl Who Believes in Miracles/clip/441.mp4\n"
          ]
        },
        {
          "name": "stderr",
          "output_type": "stream",
          "text": [
            "\n",
            "100%|██████████| 240/240 [00:03<00:00, 72.84it/s]\n"
          ]
        },
        {
          "name": "stdout",
          "output_type": "stream",
          "text": [
            "[MoviePy] Done.\n",
            "[MoviePy] >>>> Video ready: /content/drive/MyDrive/gp/The Girl Who Believes in Miracles/clip/441.mp4 \n",
            "\n",
            "441번째 클립 저장 완료\n",
            "[MoviePy] >>>> Building video /content/drive/MyDrive/gp/The Girl Who Believes in Miracles/clip/442.mp4\n",
            "[MoviePy] Writing audio in 442TEMP_MPY_wvf_snd.mp3\n"
          ]
        },
        {
          "name": "stderr",
          "output_type": "stream",
          "text": [
            "100%|██████████| 221/221 [00:00<00:00, 478.44it/s]"
          ]
        },
        {
          "name": "stdout",
          "output_type": "stream",
          "text": [
            "[MoviePy] Done.\n"
          ]
        },
        {
          "name": "stderr",
          "output_type": "stream",
          "text": [
            "\n"
          ]
        },
        {
          "name": "stdout",
          "output_type": "stream",
          "text": [
            "[MoviePy] Writing video /content/drive/MyDrive/gp/The Girl Who Believes in Miracles/clip/442.mp4\n"
          ]
        },
        {
          "name": "stderr",
          "output_type": "stream",
          "text": [
            "100%|██████████| 240/240 [00:03<00:00, 71.16it/s]\n"
          ]
        },
        {
          "name": "stdout",
          "output_type": "stream",
          "text": [
            "[MoviePy] Done.\n",
            "[MoviePy] >>>> Video ready: /content/drive/MyDrive/gp/The Girl Who Believes in Miracles/clip/442.mp4 \n",
            "\n",
            "442번째 클립 저장 완료\n",
            "[MoviePy] >>>> Building video /content/drive/MyDrive/gp/The Girl Who Believes in Miracles/clip/443.mp4\n",
            "[MoviePy] Writing audio in 443TEMP_MPY_wvf_snd.mp3\n"
          ]
        },
        {
          "name": "stderr",
          "output_type": "stream",
          "text": [
            "100%|██████████| 221/221 [00:00<00:00, 486.28it/s]"
          ]
        },
        {
          "name": "stdout",
          "output_type": "stream",
          "text": [
            "[MoviePy] Done.\n",
            "[MoviePy] Writing video /content/drive/MyDrive/gp/The Girl Who Believes in Miracles/clip/443.mp4\n"
          ]
        },
        {
          "name": "stderr",
          "output_type": "stream",
          "text": [
            "\n",
            "100%|██████████| 240/240 [00:03<00:00, 68.32it/s]\n"
          ]
        },
        {
          "name": "stdout",
          "output_type": "stream",
          "text": [
            "[MoviePy] Done.\n",
            "[MoviePy] >>>> Video ready: /content/drive/MyDrive/gp/The Girl Who Believes in Miracles/clip/443.mp4 \n",
            "\n",
            "443번째 클립 저장 완료\n",
            "[MoviePy] >>>> Building video /content/drive/MyDrive/gp/The Girl Who Believes in Miracles/clip/444.mp4\n",
            "[MoviePy] Writing audio in 444TEMP_MPY_wvf_snd.mp3\n"
          ]
        },
        {
          "name": "stderr",
          "output_type": "stream",
          "text": [
            "100%|██████████| 221/221 [00:00<00:00, 492.38it/s]"
          ]
        },
        {
          "name": "stdout",
          "output_type": "stream",
          "text": [
            "[MoviePy] Done.\n",
            "[MoviePy] Writing video /content/drive/MyDrive/gp/The Girl Who Believes in Miracles/clip/444.mp4\n"
          ]
        },
        {
          "name": "stderr",
          "output_type": "stream",
          "text": [
            "\n",
            "100%|██████████| 240/240 [00:03<00:00, 64.27it/s]\n"
          ]
        },
        {
          "name": "stdout",
          "output_type": "stream",
          "text": [
            "[MoviePy] Done.\n",
            "[MoviePy] >>>> Video ready: /content/drive/MyDrive/gp/The Girl Who Believes in Miracles/clip/444.mp4 \n",
            "\n",
            "444번째 클립 저장 완료\n",
            "[MoviePy] >>>> Building video /content/drive/MyDrive/gp/The Girl Who Believes in Miracles/clip/445.mp4\n",
            "[MoviePy] Writing audio in 445TEMP_MPY_wvf_snd.mp3\n"
          ]
        },
        {
          "name": "stderr",
          "output_type": "stream",
          "text": [
            "100%|██████████| 221/221 [00:00<00:00, 497.53it/s]"
          ]
        },
        {
          "name": "stdout",
          "output_type": "stream",
          "text": [
            "[MoviePy] Done.\n",
            "[MoviePy] Writing video /content/drive/MyDrive/gp/The Girl Who Believes in Miracles/clip/445.mp4\n"
          ]
        },
        {
          "name": "stderr",
          "output_type": "stream",
          "text": [
            "\n",
            "100%|██████████| 240/240 [00:03<00:00, 60.92it/s]\n"
          ]
        },
        {
          "name": "stdout",
          "output_type": "stream",
          "text": [
            "[MoviePy] Done.\n",
            "[MoviePy] >>>> Video ready: /content/drive/MyDrive/gp/The Girl Who Believes in Miracles/clip/445.mp4 \n",
            "\n",
            "445번째 클립 저장 완료\n",
            "[MoviePy] >>>> Building video /content/drive/MyDrive/gp/The Girl Who Believes in Miracles/clip/446.mp4\n",
            "[MoviePy] Writing audio in 446TEMP_MPY_wvf_snd.mp3\n"
          ]
        },
        {
          "name": "stderr",
          "output_type": "stream",
          "text": [
            "100%|██████████| 221/221 [00:00<00:00, 500.90it/s]"
          ]
        },
        {
          "name": "stdout",
          "output_type": "stream",
          "text": [
            "[MoviePy] Done.\n",
            "[MoviePy] Writing video /content/drive/MyDrive/gp/The Girl Who Believes in Miracles/clip/446.mp4\n"
          ]
        },
        {
          "name": "stderr",
          "output_type": "stream",
          "text": [
            "\n",
            "100%|██████████| 240/240 [00:03<00:00, 60.79it/s]\n"
          ]
        },
        {
          "name": "stdout",
          "output_type": "stream",
          "text": [
            "[MoviePy] Done.\n",
            "[MoviePy] >>>> Video ready: /content/drive/MyDrive/gp/The Girl Who Believes in Miracles/clip/446.mp4 \n",
            "\n",
            "446번째 클립 저장 완료\n",
            "[MoviePy] >>>> Building video /content/drive/MyDrive/gp/The Girl Who Believes in Miracles/clip/447.mp4\n",
            "[MoviePy] Writing audio in 447TEMP_MPY_wvf_snd.mp3\n"
          ]
        },
        {
          "name": "stderr",
          "output_type": "stream",
          "text": [
            "100%|██████████| 221/221 [00:00<00:00, 491.28it/s]"
          ]
        },
        {
          "name": "stdout",
          "output_type": "stream",
          "text": [
            "[MoviePy] Done.\n",
            "[MoviePy] Writing video /content/drive/MyDrive/gp/The Girl Who Believes in Miracles/clip/447.mp4\n"
          ]
        },
        {
          "name": "stderr",
          "output_type": "stream",
          "text": [
            "\n",
            "100%|██████████| 240/240 [00:03<00:00, 75.71it/s]\n"
          ]
        },
        {
          "name": "stdout",
          "output_type": "stream",
          "text": [
            "[MoviePy] Done.\n",
            "[MoviePy] >>>> Video ready: /content/drive/MyDrive/gp/The Girl Who Believes in Miracles/clip/447.mp4 \n",
            "\n",
            "447번째 클립 저장 완료\n",
            "[MoviePy] >>>> Building video /content/drive/MyDrive/gp/The Girl Who Believes in Miracles/clip/448.mp4\n",
            "[MoviePy] Writing audio in 448TEMP_MPY_wvf_snd.mp3\n"
          ]
        },
        {
          "name": "stderr",
          "output_type": "stream",
          "text": [
            "100%|██████████| 221/221 [00:00<00:00, 332.28it/s]"
          ]
        },
        {
          "name": "stdout",
          "output_type": "stream",
          "text": [
            "[MoviePy] Done.\n",
            "[MoviePy] Writing video /content/drive/MyDrive/gp/The Girl Who Believes in Miracles/clip/448.mp4\n"
          ]
        },
        {
          "name": "stderr",
          "output_type": "stream",
          "text": [
            "\n",
            "100%|██████████| 240/240 [00:04<00:00, 53.61it/s]\n"
          ]
        },
        {
          "name": "stdout",
          "output_type": "stream",
          "text": [
            "[MoviePy] Done.\n",
            "[MoviePy] >>>> Video ready: /content/drive/MyDrive/gp/The Girl Who Believes in Miracles/clip/448.mp4 \n",
            "\n",
            "448번째 클립 저장 완료\n",
            "[MoviePy] >>>> Building video /content/drive/MyDrive/gp/The Girl Who Believes in Miracles/clip/449.mp4\n",
            "[MoviePy] Writing audio in 449TEMP_MPY_wvf_snd.mp3\n"
          ]
        },
        {
          "name": "stderr",
          "output_type": "stream",
          "text": [
            "100%|██████████| 221/221 [00:00<00:00, 475.46it/s]"
          ]
        },
        {
          "name": "stdout",
          "output_type": "stream",
          "text": [
            "[MoviePy] Done.\n"
          ]
        },
        {
          "name": "stderr",
          "output_type": "stream",
          "text": [
            "\n"
          ]
        },
        {
          "name": "stdout",
          "output_type": "stream",
          "text": [
            "[MoviePy] Writing video /content/drive/MyDrive/gp/The Girl Who Believes in Miracles/clip/449.mp4\n"
          ]
        },
        {
          "name": "stderr",
          "output_type": "stream",
          "text": [
            "100%|██████████| 240/240 [00:02<00:00, 82.78it/s]\n"
          ]
        },
        {
          "name": "stdout",
          "output_type": "stream",
          "text": [
            "[MoviePy] Done.\n",
            "[MoviePy] >>>> Video ready: /content/drive/MyDrive/gp/The Girl Who Believes in Miracles/clip/449.mp4 \n",
            "\n",
            "449번째 클립 저장 완료\n",
            "[MoviePy] >>>> Building video /content/drive/MyDrive/gp/The Girl Who Believes in Miracles/clip/450.mp4\n",
            "[MoviePy] Writing audio in 450TEMP_MPY_wvf_snd.mp3\n"
          ]
        },
        {
          "name": "stderr",
          "output_type": "stream",
          "text": [
            "100%|██████████| 221/221 [00:00<00:00, 477.29it/s]"
          ]
        },
        {
          "name": "stdout",
          "output_type": "stream",
          "text": [
            "[MoviePy] Done.\n",
            "[MoviePy] Writing video /content/drive/MyDrive/gp/The Girl Who Believes in Miracles/clip/450.mp4\n"
          ]
        },
        {
          "name": "stderr",
          "output_type": "stream",
          "text": [
            "\n",
            "100%|██████████| 240/240 [00:03<00:00, 60.25it/s]\n"
          ]
        },
        {
          "name": "stdout",
          "output_type": "stream",
          "text": [
            "[MoviePy] Done.\n",
            "[MoviePy] >>>> Video ready: /content/drive/MyDrive/gp/The Girl Who Believes in Miracles/clip/450.mp4 \n",
            "\n",
            "450번째 클립 저장 완료\n",
            "[MoviePy] >>>> Building video /content/drive/MyDrive/gp/The Girl Who Believes in Miracles/clip/451.mp4\n",
            "[MoviePy] Writing audio in 451TEMP_MPY_wvf_snd.mp3\n"
          ]
        },
        {
          "name": "stderr",
          "output_type": "stream",
          "text": [
            "100%|██████████| 221/221 [00:00<00:00, 450.24it/s]"
          ]
        },
        {
          "name": "stdout",
          "output_type": "stream",
          "text": [
            "[MoviePy] Done.\n",
            "[MoviePy] Writing video /content/drive/MyDrive/gp/The Girl Who Believes in Miracles/clip/451.mp4\n"
          ]
        },
        {
          "name": "stderr",
          "output_type": "stream",
          "text": [
            "\n",
            "100%|██████████| 240/240 [00:03<00:00, 65.80it/s]\n"
          ]
        },
        {
          "name": "stdout",
          "output_type": "stream",
          "text": [
            "[MoviePy] Done.\n",
            "[MoviePy] >>>> Video ready: /content/drive/MyDrive/gp/The Girl Who Believes in Miracles/clip/451.mp4 \n",
            "\n",
            "451번째 클립 저장 완료\n",
            "[MoviePy] >>>> Building video /content/drive/MyDrive/gp/The Girl Who Believes in Miracles/clip/452.mp4\n",
            "[MoviePy] Writing audio in 452TEMP_MPY_wvf_snd.mp3\n"
          ]
        },
        {
          "name": "stderr",
          "output_type": "stream",
          "text": [
            "100%|██████████| 221/221 [00:00<00:00, 466.56it/s]"
          ]
        },
        {
          "name": "stdout",
          "output_type": "stream",
          "text": [
            "[MoviePy] Done.\n",
            "[MoviePy] Writing video /content/drive/MyDrive/gp/The Girl Who Believes in Miracles/clip/452.mp4\n"
          ]
        },
        {
          "name": "stderr",
          "output_type": "stream",
          "text": [
            "\n",
            "100%|██████████| 240/240 [00:03<00:00, 62.94it/s]\n"
          ]
        },
        {
          "name": "stdout",
          "output_type": "stream",
          "text": [
            "[MoviePy] Done.\n",
            "[MoviePy] >>>> Video ready: /content/drive/MyDrive/gp/The Girl Who Believes in Miracles/clip/452.mp4 \n",
            "\n",
            "452번째 클립 저장 완료\n",
            "[MoviePy] >>>> Building video /content/drive/MyDrive/gp/The Girl Who Believes in Miracles/clip/453.mp4\n",
            "[MoviePy] Writing audio in 453TEMP_MPY_wvf_snd.mp3\n"
          ]
        },
        {
          "name": "stderr",
          "output_type": "stream",
          "text": [
            "100%|██████████| 221/221 [00:00<00:00, 471.84it/s]"
          ]
        },
        {
          "name": "stdout",
          "output_type": "stream",
          "text": [
            "[MoviePy] Done.\n",
            "[MoviePy] Writing video /content/drive/MyDrive/gp/The Girl Who Believes in Miracles/clip/453.mp4\n"
          ]
        },
        {
          "name": "stderr",
          "output_type": "stream",
          "text": [
            "\n",
            "100%|██████████| 240/240 [00:03<00:00, 64.09it/s]\n"
          ]
        },
        {
          "name": "stdout",
          "output_type": "stream",
          "text": [
            "[MoviePy] Done.\n",
            "[MoviePy] >>>> Video ready: /content/drive/MyDrive/gp/The Girl Who Believes in Miracles/clip/453.mp4 \n",
            "\n",
            "453번째 클립 저장 완료\n",
            "[MoviePy] >>>> Building video /content/drive/MyDrive/gp/The Girl Who Believes in Miracles/clip/454.mp4\n",
            "[MoviePy] Writing audio in 454TEMP_MPY_wvf_snd.mp3\n"
          ]
        },
        {
          "name": "stderr",
          "output_type": "stream",
          "text": [
            "100%|██████████| 221/221 [00:00<00:00, 471.44it/s]\n"
          ]
        },
        {
          "name": "stdout",
          "output_type": "stream",
          "text": [
            "[MoviePy] Done.\n",
            "[MoviePy] Writing video /content/drive/MyDrive/gp/The Girl Who Believes in Miracles/clip/454.mp4\n"
          ]
        },
        {
          "name": "stderr",
          "output_type": "stream",
          "text": [
            "100%|██████████| 240/240 [00:03<00:00, 66.27it/s]\n"
          ]
        },
        {
          "name": "stdout",
          "output_type": "stream",
          "text": [
            "[MoviePy] Done.\n",
            "[MoviePy] >>>> Video ready: /content/drive/MyDrive/gp/The Girl Who Believes in Miracles/clip/454.mp4 \n",
            "\n",
            "454번째 클립 저장 완료\n",
            "[MoviePy] >>>> Building video /content/drive/MyDrive/gp/The Girl Who Believes in Miracles/clip/455.mp4\n",
            "[MoviePy] Writing audio in 455TEMP_MPY_wvf_snd.mp3\n"
          ]
        },
        {
          "name": "stderr",
          "output_type": "stream",
          "text": [
            "100%|██████████| 221/221 [00:00<00:00, 489.18it/s]"
          ]
        },
        {
          "name": "stdout",
          "output_type": "stream",
          "text": [
            "[MoviePy] Done.\n",
            "[MoviePy] Writing video /content/drive/MyDrive/gp/The Girl Who Believes in Miracles/clip/455.mp4\n"
          ]
        },
        {
          "name": "stderr",
          "output_type": "stream",
          "text": [
            "\n",
            "100%|██████████| 240/240 [00:03<00:00, 66.60it/s]\n"
          ]
        },
        {
          "name": "stdout",
          "output_type": "stream",
          "text": [
            "[MoviePy] Done.\n",
            "[MoviePy] >>>> Video ready: /content/drive/MyDrive/gp/The Girl Who Believes in Miracles/clip/455.mp4 \n",
            "\n",
            "455번째 클립 저장 완료\n",
            "[MoviePy] >>>> Building video /content/drive/MyDrive/gp/The Girl Who Believes in Miracles/clip/456.mp4\n",
            "[MoviePy] Writing audio in 456TEMP_MPY_wvf_snd.mp3\n"
          ]
        },
        {
          "name": "stderr",
          "output_type": "stream",
          "text": [
            "100%|██████████| 221/221 [00:00<00:00, 445.89it/s]"
          ]
        },
        {
          "name": "stdout",
          "output_type": "stream",
          "text": [
            "[MoviePy] Done.\n",
            "[MoviePy] Writing video /content/drive/MyDrive/gp/The Girl Who Believes in Miracles/clip/456.mp4\n"
          ]
        },
        {
          "name": "stderr",
          "output_type": "stream",
          "text": [
            "\n",
            "100%|██████████| 240/240 [00:03<00:00, 66.20it/s]\n"
          ]
        },
        {
          "name": "stdout",
          "output_type": "stream",
          "text": [
            "[MoviePy] Done.\n",
            "[MoviePy] >>>> Video ready: /content/drive/MyDrive/gp/The Girl Who Believes in Miracles/clip/456.mp4 \n",
            "\n",
            "456번째 클립 저장 완료\n",
            "[MoviePy] >>>> Building video /content/drive/MyDrive/gp/The Girl Who Believes in Miracles/clip/457.mp4\n",
            "[MoviePy] Writing audio in 457TEMP_MPY_wvf_snd.mp3\n"
          ]
        },
        {
          "name": "stderr",
          "output_type": "stream",
          "text": [
            "100%|██████████| 221/221 [00:00<00:00, 493.70it/s]"
          ]
        },
        {
          "name": "stdout",
          "output_type": "stream",
          "text": [
            "[MoviePy] Done.\n",
            "[MoviePy] Writing video /content/drive/MyDrive/gp/The Girl Who Believes in Miracles/clip/457.mp4\n"
          ]
        },
        {
          "name": "stderr",
          "output_type": "stream",
          "text": [
            "\n",
            "100%|██████████| 240/240 [00:03<00:00, 62.48it/s]\n"
          ]
        },
        {
          "name": "stdout",
          "output_type": "stream",
          "text": [
            "[MoviePy] Done.\n",
            "[MoviePy] >>>> Video ready: /content/drive/MyDrive/gp/The Girl Who Believes in Miracles/clip/457.mp4 \n",
            "\n",
            "457번째 클립 저장 완료\n",
            "[MoviePy] >>>> Building video /content/drive/MyDrive/gp/The Girl Who Believes in Miracles/clip/458.mp4\n",
            "[MoviePy] Writing audio in 458TEMP_MPY_wvf_snd.mp3\n"
          ]
        },
        {
          "name": "stderr",
          "output_type": "stream",
          "text": [
            "100%|██████████| 221/221 [00:00<00:00, 485.69it/s]"
          ]
        },
        {
          "name": "stdout",
          "output_type": "stream",
          "text": [
            "[MoviePy] Done.\n",
            "[MoviePy] Writing video /content/drive/MyDrive/gp/The Girl Who Believes in Miracles/clip/458.mp4\n"
          ]
        },
        {
          "name": "stderr",
          "output_type": "stream",
          "text": [
            "\n",
            "100%|██████████| 240/240 [00:03<00:00, 60.35it/s]\n"
          ]
        },
        {
          "name": "stdout",
          "output_type": "stream",
          "text": [
            "[MoviePy] Done.\n",
            "[MoviePy] >>>> Video ready: /content/drive/MyDrive/gp/The Girl Who Believes in Miracles/clip/458.mp4 \n",
            "\n",
            "458번째 클립 저장 완료\n",
            "[MoviePy] >>>> Building video /content/drive/MyDrive/gp/The Girl Who Believes in Miracles/clip/459.mp4\n",
            "[MoviePy] Writing audio in 459TEMP_MPY_wvf_snd.mp3\n"
          ]
        },
        {
          "name": "stderr",
          "output_type": "stream",
          "text": [
            "100%|██████████| 221/221 [00:00<00:00, 469.82it/s]\n"
          ]
        },
        {
          "name": "stdout",
          "output_type": "stream",
          "text": [
            "[MoviePy] Done.\n",
            "[MoviePy] Writing video /content/drive/MyDrive/gp/The Girl Who Believes in Miracles/clip/459.mp4\n"
          ]
        },
        {
          "name": "stderr",
          "output_type": "stream",
          "text": [
            "100%|██████████| 240/240 [00:06<00:00, 35.34it/s]\n"
          ]
        },
        {
          "name": "stdout",
          "output_type": "stream",
          "text": [
            "[MoviePy] Done.\n",
            "[MoviePy] >>>> Video ready: /content/drive/MyDrive/gp/The Girl Who Believes in Miracles/clip/459.mp4 \n",
            "\n",
            "459번째 클립 저장 완료\n",
            "[MoviePy] >>>> Building video /content/drive/MyDrive/gp/The Girl Who Believes in Miracles/clip/460.mp4\n",
            "[MoviePy] Writing audio in 460TEMP_MPY_wvf_snd.mp3\n"
          ]
        },
        {
          "name": "stderr",
          "output_type": "stream",
          "text": [
            "100%|██████████| 221/221 [00:00<00:00, 307.27it/s]"
          ]
        },
        {
          "name": "stdout",
          "output_type": "stream",
          "text": [
            "[MoviePy] Done.\n",
            "[MoviePy] Writing video /content/drive/MyDrive/gp/The Girl Who Believes in Miracles/clip/460.mp4\n"
          ]
        },
        {
          "name": "stderr",
          "output_type": "stream",
          "text": [
            "\n",
            "100%|██████████| 240/240 [00:05<00:00, 42.17it/s]\n"
          ]
        },
        {
          "name": "stdout",
          "output_type": "stream",
          "text": [
            "[MoviePy] Done.\n",
            "[MoviePy] >>>> Video ready: /content/drive/MyDrive/gp/The Girl Who Believes in Miracles/clip/460.mp4 \n",
            "\n",
            "460번째 클립 저장 완료\n",
            "[MoviePy] >>>> Building video /content/drive/MyDrive/gp/The Girl Who Believes in Miracles/clip/461.mp4\n",
            "[MoviePy] Writing audio in 461TEMP_MPY_wvf_snd.mp3\n"
          ]
        },
        {
          "name": "stderr",
          "output_type": "stream",
          "text": [
            "100%|██████████| 221/221 [00:00<00:00, 481.39it/s]"
          ]
        },
        {
          "name": "stdout",
          "output_type": "stream",
          "text": [
            "[MoviePy] Done.\n",
            "[MoviePy] Writing video /content/drive/MyDrive/gp/The Girl Who Believes in Miracles/clip/461.mp4\n"
          ]
        },
        {
          "name": "stderr",
          "output_type": "stream",
          "text": [
            "\n",
            "100%|██████████| 240/240 [00:03<00:00, 67.99it/s]\n"
          ]
        },
        {
          "name": "stdout",
          "output_type": "stream",
          "text": [
            "[MoviePy] Done.\n",
            "[MoviePy] >>>> Video ready: /content/drive/MyDrive/gp/The Girl Who Believes in Miracles/clip/461.mp4 \n",
            "\n",
            "461번째 클립 저장 완료\n",
            "[MoviePy] >>>> Building video /content/drive/MyDrive/gp/The Girl Who Believes in Miracles/clip/462.mp4\n",
            "[MoviePy] Writing audio in 462TEMP_MPY_wvf_snd.mp3\n"
          ]
        },
        {
          "name": "stderr",
          "output_type": "stream",
          "text": [
            "100%|██████████| 221/221 [00:00<00:00, 474.32it/s]"
          ]
        },
        {
          "name": "stdout",
          "output_type": "stream",
          "text": [
            "[MoviePy] Done.\n",
            "[MoviePy] Writing video /content/drive/MyDrive/gp/The Girl Who Believes in Miracles/clip/462.mp4\n"
          ]
        },
        {
          "name": "stderr",
          "output_type": "stream",
          "text": [
            "\n",
            "100%|██████████| 240/240 [00:03<00:00, 63.25it/s]\n"
          ]
        },
        {
          "name": "stdout",
          "output_type": "stream",
          "text": [
            "[MoviePy] Done.\n",
            "[MoviePy] >>>> Video ready: /content/drive/MyDrive/gp/The Girl Who Believes in Miracles/clip/462.mp4 \n",
            "\n",
            "462번째 클립 저장 완료\n",
            "[MoviePy] >>>> Building video /content/drive/MyDrive/gp/The Girl Who Believes in Miracles/clip/463.mp4\n",
            "[MoviePy] Writing audio in 463TEMP_MPY_wvf_snd.mp3\n"
          ]
        },
        {
          "name": "stderr",
          "output_type": "stream",
          "text": [
            "100%|██████████| 221/221 [00:00<00:00, 446.81it/s]"
          ]
        },
        {
          "name": "stdout",
          "output_type": "stream",
          "text": [
            "[MoviePy] Done.\n",
            "[MoviePy] Writing video /content/drive/MyDrive/gp/The Girl Who Believes in Miracles/clip/463.mp4\n"
          ]
        },
        {
          "name": "stderr",
          "output_type": "stream",
          "text": [
            "\n",
            "100%|██████████| 240/240 [00:03<00:00, 65.75it/s]\n"
          ]
        },
        {
          "name": "stdout",
          "output_type": "stream",
          "text": [
            "[MoviePy] Done.\n",
            "[MoviePy] >>>> Video ready: /content/drive/MyDrive/gp/The Girl Who Believes in Miracles/clip/463.mp4 \n",
            "\n",
            "463번째 클립 저장 완료\n",
            "[MoviePy] >>>> Building video /content/drive/MyDrive/gp/The Girl Who Believes in Miracles/clip/464.mp4\n",
            "[MoviePy] Writing audio in 464TEMP_MPY_wvf_snd.mp3\n"
          ]
        },
        {
          "name": "stderr",
          "output_type": "stream",
          "text": [
            "100%|██████████| 221/221 [00:00<00:00, 488.19it/s]"
          ]
        },
        {
          "name": "stdout",
          "output_type": "stream",
          "text": [
            "[MoviePy] Done.\n",
            "[MoviePy] Writing video /content/drive/MyDrive/gp/The Girl Who Believes in Miracles/clip/464.mp4\n"
          ]
        },
        {
          "name": "stderr",
          "output_type": "stream",
          "text": [
            "\n",
            "100%|██████████| 240/240 [00:03<00:00, 65.46it/s]\n"
          ]
        },
        {
          "name": "stdout",
          "output_type": "stream",
          "text": [
            "[MoviePy] Done.\n",
            "[MoviePy] >>>> Video ready: /content/drive/MyDrive/gp/The Girl Who Believes in Miracles/clip/464.mp4 \n",
            "\n",
            "464번째 클립 저장 완료\n",
            "[MoviePy] >>>> Building video /content/drive/MyDrive/gp/The Girl Who Believes in Miracles/clip/465.mp4\n",
            "[MoviePy] Writing audio in 465TEMP_MPY_wvf_snd.mp3\n"
          ]
        },
        {
          "name": "stderr",
          "output_type": "stream",
          "text": [
            "100%|██████████| 221/221 [00:00<00:00, 464.99it/s]"
          ]
        },
        {
          "name": "stdout",
          "output_type": "stream",
          "text": [
            "[MoviePy] Done.\n",
            "[MoviePy] Writing video /content/drive/MyDrive/gp/The Girl Who Believes in Miracles/clip/465.mp4\n"
          ]
        },
        {
          "name": "stderr",
          "output_type": "stream",
          "text": [
            "\n",
            "100%|██████████| 240/240 [00:03<00:00, 65.96it/s]\n"
          ]
        },
        {
          "name": "stdout",
          "output_type": "stream",
          "text": [
            "[MoviePy] Done.\n",
            "[MoviePy] >>>> Video ready: /content/drive/MyDrive/gp/The Girl Who Believes in Miracles/clip/465.mp4 \n",
            "\n",
            "465번째 클립 저장 완료\n",
            "[MoviePy] >>>> Building video /content/drive/MyDrive/gp/The Girl Who Believes in Miracles/clip/466.mp4\n",
            "[MoviePy] Writing audio in 466TEMP_MPY_wvf_snd.mp3\n"
          ]
        },
        {
          "name": "stderr",
          "output_type": "stream",
          "text": [
            "100%|██████████| 221/221 [00:00<00:00, 475.34it/s]\n"
          ]
        },
        {
          "name": "stdout",
          "output_type": "stream",
          "text": [
            "[MoviePy] Done.\n",
            "[MoviePy] Writing video /content/drive/MyDrive/gp/The Girl Who Believes in Miracles/clip/466.mp4\n"
          ]
        },
        {
          "name": "stderr",
          "output_type": "stream",
          "text": [
            "100%|██████████| 240/240 [00:03<00:00, 69.91it/s]\n"
          ]
        },
        {
          "name": "stdout",
          "output_type": "stream",
          "text": [
            "[MoviePy] Done.\n",
            "[MoviePy] >>>> Video ready: /content/drive/MyDrive/gp/The Girl Who Believes in Miracles/clip/466.mp4 \n",
            "\n",
            "466번째 클립 저장 완료\n",
            "[MoviePy] >>>> Building video /content/drive/MyDrive/gp/The Girl Who Believes in Miracles/clip/467.mp4\n",
            "[MoviePy] Writing audio in 467TEMP_MPY_wvf_snd.mp3\n"
          ]
        },
        {
          "name": "stderr",
          "output_type": "stream",
          "text": [
            "100%|██████████| 221/221 [00:00<00:00, 466.02it/s]"
          ]
        },
        {
          "name": "stdout",
          "output_type": "stream",
          "text": [
            "[MoviePy] Done.\n"
          ]
        },
        {
          "name": "stderr",
          "output_type": "stream",
          "text": [
            "\n"
          ]
        },
        {
          "name": "stdout",
          "output_type": "stream",
          "text": [
            "[MoviePy] Writing video /content/drive/MyDrive/gp/The Girl Who Believes in Miracles/clip/467.mp4\n"
          ]
        },
        {
          "name": "stderr",
          "output_type": "stream",
          "text": [
            "100%|██████████| 240/240 [00:04<00:00, 55.26it/s]\n"
          ]
        },
        {
          "name": "stdout",
          "output_type": "stream",
          "text": [
            "[MoviePy] Done.\n",
            "[MoviePy] >>>> Video ready: /content/drive/MyDrive/gp/The Girl Who Believes in Miracles/clip/467.mp4 \n",
            "\n",
            "467번째 클립 저장 완료\n",
            "[MoviePy] >>>> Building video /content/drive/MyDrive/gp/The Girl Who Believes in Miracles/clip/468.mp4\n",
            "[MoviePy] Writing audio in 468TEMP_MPY_wvf_snd.mp3\n"
          ]
        },
        {
          "name": "stderr",
          "output_type": "stream",
          "text": [
            "100%|██████████| 221/221 [00:00<00:00, 482.24it/s]\n"
          ]
        },
        {
          "name": "stdout",
          "output_type": "stream",
          "text": [
            "[MoviePy] Done.\n",
            "[MoviePy] Writing video /content/drive/MyDrive/gp/The Girl Who Believes in Miracles/clip/468.mp4\n"
          ]
        },
        {
          "name": "stderr",
          "output_type": "stream",
          "text": [
            "100%|██████████| 240/240 [00:04<00:00, 58.43it/s]\n"
          ]
        },
        {
          "name": "stdout",
          "output_type": "stream",
          "text": [
            "[MoviePy] Done.\n",
            "[MoviePy] >>>> Video ready: /content/drive/MyDrive/gp/The Girl Who Believes in Miracles/clip/468.mp4 \n",
            "\n",
            "468번째 클립 저장 완료\n",
            "[MoviePy] >>>> Building video /content/drive/MyDrive/gp/The Girl Who Believes in Miracles/clip/469.mp4\n",
            "[MoviePy] Writing audio in 469TEMP_MPY_wvf_snd.mp3\n"
          ]
        },
        {
          "name": "stderr",
          "output_type": "stream",
          "text": [
            "100%|██████████| 221/221 [00:00<00:00, 465.91it/s]"
          ]
        },
        {
          "name": "stdout",
          "output_type": "stream",
          "text": [
            "[MoviePy] Done.\n",
            "[MoviePy] Writing video /content/drive/MyDrive/gp/The Girl Who Believes in Miracles/clip/469.mp4\n"
          ]
        },
        {
          "name": "stderr",
          "output_type": "stream",
          "text": [
            "\n",
            "100%|██████████| 240/240 [00:04<00:00, 55.83it/s]\n"
          ]
        },
        {
          "name": "stdout",
          "output_type": "stream",
          "text": [
            "[MoviePy] Done.\n",
            "[MoviePy] >>>> Video ready: /content/drive/MyDrive/gp/The Girl Who Believes in Miracles/clip/469.mp4 \n",
            "\n",
            "469번째 클립 저장 완료\n",
            "[MoviePy] >>>> Building video /content/drive/MyDrive/gp/The Girl Who Believes in Miracles/clip/470.mp4\n",
            "[MoviePy] Writing audio in 470TEMP_MPY_wvf_snd.mp3\n"
          ]
        },
        {
          "name": "stderr",
          "output_type": "stream",
          "text": [
            "100%|██████████| 221/221 [00:00<00:00, 479.98it/s]"
          ]
        },
        {
          "name": "stdout",
          "output_type": "stream",
          "text": [
            "[MoviePy] Done.\n",
            "[MoviePy] Writing video /content/drive/MyDrive/gp/The Girl Who Believes in Miracles/clip/470.mp4\n"
          ]
        },
        {
          "name": "stderr",
          "output_type": "stream",
          "text": [
            "\n",
            "100%|██████████| 240/240 [00:04<00:00, 57.07it/s]\n"
          ]
        },
        {
          "name": "stdout",
          "output_type": "stream",
          "text": [
            "[MoviePy] Done.\n",
            "[MoviePy] >>>> Video ready: /content/drive/MyDrive/gp/The Girl Who Believes in Miracles/clip/470.mp4 \n",
            "\n",
            "470번째 클립 저장 완료\n",
            "[MoviePy] >>>> Building video /content/drive/MyDrive/gp/The Girl Who Believes in Miracles/clip/471.mp4\n",
            "[MoviePy] Writing audio in 471TEMP_MPY_wvf_snd.mp3\n"
          ]
        },
        {
          "name": "stderr",
          "output_type": "stream",
          "text": [
            "100%|██████████| 221/221 [00:00<00:00, 476.88it/s]"
          ]
        },
        {
          "name": "stdout",
          "output_type": "stream",
          "text": [
            "[MoviePy] Done.\n"
          ]
        },
        {
          "name": "stderr",
          "output_type": "stream",
          "text": [
            "\n"
          ]
        },
        {
          "name": "stdout",
          "output_type": "stream",
          "text": [
            "[MoviePy] Writing video /content/drive/MyDrive/gp/The Girl Who Believes in Miracles/clip/471.mp4\n"
          ]
        },
        {
          "name": "stderr",
          "output_type": "stream",
          "text": [
            "100%|██████████| 240/240 [00:03<00:00, 60.98it/s]\n"
          ]
        },
        {
          "name": "stdout",
          "output_type": "stream",
          "text": [
            "[MoviePy] Done.\n",
            "[MoviePy] >>>> Video ready: /content/drive/MyDrive/gp/The Girl Who Believes in Miracles/clip/471.mp4 \n",
            "\n",
            "471번째 클립 저장 완료\n",
            "[MoviePy] >>>> Building video /content/drive/MyDrive/gp/The Girl Who Believes in Miracles/clip/472.mp4\n",
            "[MoviePy] Writing audio in 472TEMP_MPY_wvf_snd.mp3\n"
          ]
        },
        {
          "name": "stderr",
          "output_type": "stream",
          "text": [
            "100%|██████████| 221/221 [00:00<00:00, 487.80it/s]"
          ]
        },
        {
          "name": "stdout",
          "output_type": "stream",
          "text": [
            "[MoviePy] Done.\n",
            "[MoviePy] Writing video /content/drive/MyDrive/gp/The Girl Who Believes in Miracles/clip/472.mp4\n"
          ]
        },
        {
          "name": "stderr",
          "output_type": "stream",
          "text": [
            "\n",
            "100%|██████████| 240/240 [00:03<00:00, 62.85it/s]\n"
          ]
        },
        {
          "name": "stdout",
          "output_type": "stream",
          "text": [
            "[MoviePy] Done.\n",
            "[MoviePy] >>>> Video ready: /content/drive/MyDrive/gp/The Girl Who Believes in Miracles/clip/472.mp4 \n",
            "\n",
            "472번째 클립 저장 완료\n",
            "[MoviePy] >>>> Building video /content/drive/MyDrive/gp/The Girl Who Believes in Miracles/clip/473.mp4\n",
            "[MoviePy] Writing audio in 473TEMP_MPY_wvf_snd.mp3\n"
          ]
        },
        {
          "name": "stderr",
          "output_type": "stream",
          "text": [
            "100%|██████████| 221/221 [00:00<00:00, 491.02it/s]"
          ]
        },
        {
          "name": "stdout",
          "output_type": "stream",
          "text": [
            "[MoviePy] Done.\n",
            "[MoviePy] Writing video /content/drive/MyDrive/gp/The Girl Who Believes in Miracles/clip/473.mp4\n"
          ]
        },
        {
          "name": "stderr",
          "output_type": "stream",
          "text": [
            "\n",
            "100%|██████████| 240/240 [00:04<00:00, 58.48it/s]\n"
          ]
        },
        {
          "name": "stdout",
          "output_type": "stream",
          "text": [
            "[MoviePy] Done.\n",
            "[MoviePy] >>>> Video ready: /content/drive/MyDrive/gp/The Girl Who Believes in Miracles/clip/473.mp4 \n",
            "\n",
            "473번째 클립 저장 완료\n",
            "[MoviePy] >>>> Building video /content/drive/MyDrive/gp/The Girl Who Believes in Miracles/clip/474.mp4\n",
            "[MoviePy] Writing audio in 474TEMP_MPY_wvf_snd.mp3\n"
          ]
        },
        {
          "name": "stderr",
          "output_type": "stream",
          "text": [
            "100%|██████████| 221/221 [00:00<00:00, 498.34it/s]"
          ]
        },
        {
          "name": "stdout",
          "output_type": "stream",
          "text": [
            "[MoviePy] Done.\n",
            "[MoviePy] Writing video /content/drive/MyDrive/gp/The Girl Who Believes in Miracles/clip/474.mp4\n"
          ]
        },
        {
          "name": "stderr",
          "output_type": "stream",
          "text": [
            "\n",
            "100%|██████████| 240/240 [00:03<00:00, 61.51it/s]\n"
          ]
        },
        {
          "name": "stdout",
          "output_type": "stream",
          "text": [
            "[MoviePy] Done.\n",
            "[MoviePy] >>>> Video ready: /content/drive/MyDrive/gp/The Girl Who Believes in Miracles/clip/474.mp4 \n",
            "\n",
            "474번째 클립 저장 완료\n",
            "[MoviePy] >>>> Building video /content/drive/MyDrive/gp/The Girl Who Believes in Miracles/clip/475.mp4\n",
            "[MoviePy] Writing audio in 475TEMP_MPY_wvf_snd.mp3\n"
          ]
        },
        {
          "name": "stderr",
          "output_type": "stream",
          "text": [
            "100%|██████████| 221/221 [00:00<00:00, 490.80it/s]"
          ]
        },
        {
          "name": "stdout",
          "output_type": "stream",
          "text": [
            "[MoviePy] Done.\n",
            "[MoviePy] Writing video /content/drive/MyDrive/gp/The Girl Who Believes in Miracles/clip/475.mp4\n"
          ]
        },
        {
          "name": "stderr",
          "output_type": "stream",
          "text": [
            "\n",
            "100%|██████████| 240/240 [00:04<00:00, 59.30it/s]\n"
          ]
        },
        {
          "name": "stdout",
          "output_type": "stream",
          "text": [
            "[MoviePy] Done.\n",
            "[MoviePy] >>>> Video ready: /content/drive/MyDrive/gp/The Girl Who Believes in Miracles/clip/475.mp4 \n",
            "\n",
            "475번째 클립 저장 완료\n",
            "[MoviePy] >>>> Building video /content/drive/MyDrive/gp/The Girl Who Believes in Miracles/clip/476.mp4\n",
            "[MoviePy] Writing audio in 476TEMP_MPY_wvf_snd.mp3\n"
          ]
        },
        {
          "name": "stderr",
          "output_type": "stream",
          "text": [
            "100%|██████████| 221/221 [00:00<00:00, 476.20it/s]"
          ]
        },
        {
          "name": "stdout",
          "output_type": "stream",
          "text": [
            "[MoviePy] Done.\n"
          ]
        },
        {
          "name": "stderr",
          "output_type": "stream",
          "text": [
            "\n"
          ]
        },
        {
          "name": "stdout",
          "output_type": "stream",
          "text": [
            "[MoviePy] Writing video /content/drive/MyDrive/gp/The Girl Who Believes in Miracles/clip/476.mp4\n"
          ]
        },
        {
          "name": "stderr",
          "output_type": "stream",
          "text": [
            "100%|██████████| 240/240 [00:04<00:00, 55.47it/s]\n"
          ]
        },
        {
          "name": "stdout",
          "output_type": "stream",
          "text": [
            "[MoviePy] Done.\n",
            "[MoviePy] >>>> Video ready: /content/drive/MyDrive/gp/The Girl Who Believes in Miracles/clip/476.mp4 \n",
            "\n",
            "476번째 클립 저장 완료\n",
            "[MoviePy] >>>> Building video /content/drive/MyDrive/gp/The Girl Who Believes in Miracles/clip/477.mp4\n",
            "[MoviePy] Writing audio in 477TEMP_MPY_wvf_snd.mp3\n"
          ]
        },
        {
          "name": "stderr",
          "output_type": "stream",
          "text": [
            "100%|██████████| 221/221 [00:00<00:00, 475.27it/s]"
          ]
        },
        {
          "name": "stdout",
          "output_type": "stream",
          "text": [
            "[MoviePy] Done.\n",
            "[MoviePy] Writing video /content/drive/MyDrive/gp/The Girl Who Believes in Miracles/clip/477.mp4\n"
          ]
        },
        {
          "name": "stderr",
          "output_type": "stream",
          "text": [
            "\n",
            "100%|██████████| 240/240 [00:04<00:00, 56.76it/s]\n"
          ]
        },
        {
          "name": "stdout",
          "output_type": "stream",
          "text": [
            "[MoviePy] Done.\n",
            "[MoviePy] >>>> Video ready: /content/drive/MyDrive/gp/The Girl Who Believes in Miracles/clip/477.mp4 \n",
            "\n",
            "477번째 클립 저장 완료\n",
            "[MoviePy] >>>> Building video /content/drive/MyDrive/gp/The Girl Who Believes in Miracles/clip/478.mp4\n",
            "[MoviePy] Writing audio in 478TEMP_MPY_wvf_snd.mp3\n"
          ]
        },
        {
          "name": "stderr",
          "output_type": "stream",
          "text": [
            "100%|██████████| 221/221 [00:00<00:00, 498.56it/s]"
          ]
        },
        {
          "name": "stdout",
          "output_type": "stream",
          "text": [
            "[MoviePy] Done.\n",
            "[MoviePy] Writing video /content/drive/MyDrive/gp/The Girl Who Believes in Miracles/clip/478.mp4\n"
          ]
        },
        {
          "name": "stderr",
          "output_type": "stream",
          "text": [
            "\n",
            "100%|██████████| 240/240 [00:04<00:00, 57.69it/s]\n"
          ]
        },
        {
          "name": "stdout",
          "output_type": "stream",
          "text": [
            "[MoviePy] Done.\n",
            "[MoviePy] >>>> Video ready: /content/drive/MyDrive/gp/The Girl Who Believes in Miracles/clip/478.mp4 \n",
            "\n",
            "478번째 클립 저장 완료\n",
            "[MoviePy] >>>> Building video /content/drive/MyDrive/gp/The Girl Who Believes in Miracles/clip/479.mp4\n",
            "[MoviePy] Writing audio in 479TEMP_MPY_wvf_snd.mp3\n"
          ]
        },
        {
          "name": "stderr",
          "output_type": "stream",
          "text": [
            "100%|██████████| 221/221 [00:00<00:00, 488.83it/s]"
          ]
        },
        {
          "name": "stdout",
          "output_type": "stream",
          "text": [
            "[MoviePy] Done.\n",
            "[MoviePy] Writing video /content/drive/MyDrive/gp/The Girl Who Believes in Miracles/clip/479.mp4\n"
          ]
        },
        {
          "name": "stderr",
          "output_type": "stream",
          "text": [
            "\n",
            "100%|██████████| 240/240 [00:03<00:00, 60.11it/s]\n"
          ]
        },
        {
          "name": "stdout",
          "output_type": "stream",
          "text": [
            "[MoviePy] Done.\n",
            "[MoviePy] >>>> Video ready: /content/drive/MyDrive/gp/The Girl Who Believes in Miracles/clip/479.mp4 \n",
            "\n",
            "479번째 클립 저장 완료\n",
            "[MoviePy] >>>> Building video /content/drive/MyDrive/gp/The Girl Who Believes in Miracles/clip/480.mp4\n",
            "[MoviePy] Writing audio in 480TEMP_MPY_wvf_snd.mp3\n"
          ]
        },
        {
          "name": "stderr",
          "output_type": "stream",
          "text": [
            "100%|██████████| 221/221 [00:00<00:00, 484.02it/s]\n"
          ]
        },
        {
          "name": "stdout",
          "output_type": "stream",
          "text": [
            "[MoviePy] Done.\n",
            "[MoviePy] Writing video /content/drive/MyDrive/gp/The Girl Who Believes in Miracles/clip/480.mp4\n"
          ]
        },
        {
          "name": "stderr",
          "output_type": "stream",
          "text": [
            "100%|██████████| 240/240 [00:04<00:00, 59.90it/s]\n"
          ]
        },
        {
          "name": "stdout",
          "output_type": "stream",
          "text": [
            "[MoviePy] Done.\n",
            "[MoviePy] >>>> Video ready: /content/drive/MyDrive/gp/The Girl Who Believes in Miracles/clip/480.mp4 \n",
            "\n",
            "480번째 클립 저장 완료\n",
            "[MoviePy] >>>> Building video /content/drive/MyDrive/gp/The Girl Who Believes in Miracles/clip/481.mp4\n",
            "[MoviePy] Writing audio in 481TEMP_MPY_wvf_snd.mp3\n"
          ]
        },
        {
          "name": "stderr",
          "output_type": "stream",
          "text": [
            "100%|██████████| 221/221 [00:00<00:00, 475.29it/s]\n"
          ]
        },
        {
          "name": "stdout",
          "output_type": "stream",
          "text": [
            "[MoviePy] Done.\n",
            "[MoviePy] Writing video /content/drive/MyDrive/gp/The Girl Who Believes in Miracles/clip/481.mp4\n"
          ]
        },
        {
          "name": "stderr",
          "output_type": "stream",
          "text": [
            "100%|██████████| 240/240 [00:05<00:00, 46.04it/s]\n"
          ]
        },
        {
          "name": "stdout",
          "output_type": "stream",
          "text": [
            "[MoviePy] Done.\n",
            "[MoviePy] >>>> Video ready: /content/drive/MyDrive/gp/The Girl Who Believes in Miracles/clip/481.mp4 \n",
            "\n",
            "481번째 클립 저장 완료\n",
            "[MoviePy] >>>> Building video /content/drive/MyDrive/gp/The Girl Who Believes in Miracles/clip/482.mp4\n",
            "[MoviePy] Writing audio in 482TEMP_MPY_wvf_snd.mp3\n"
          ]
        },
        {
          "name": "stderr",
          "output_type": "stream",
          "text": [
            "100%|██████████| 221/221 [00:00<00:00, 305.24it/s]"
          ]
        },
        {
          "name": "stdout",
          "output_type": "stream",
          "text": [
            "[MoviePy] Done.\n",
            "[MoviePy] Writing video /content/drive/MyDrive/gp/The Girl Who Believes in Miracles/clip/482.mp4\n"
          ]
        },
        {
          "name": "stderr",
          "output_type": "stream",
          "text": [
            "\n",
            "100%|██████████| 240/240 [00:06<00:00, 35.28it/s]\n"
          ]
        },
        {
          "name": "stdout",
          "output_type": "stream",
          "text": [
            "[MoviePy] Done.\n",
            "[MoviePy] >>>> Video ready: /content/drive/MyDrive/gp/The Girl Who Believes in Miracles/clip/482.mp4 \n",
            "\n",
            "482번째 클립 저장 완료\n",
            "[MoviePy] >>>> Building video /content/drive/MyDrive/gp/The Girl Who Believes in Miracles/clip/483.mp4\n",
            "[MoviePy] Writing audio in 483TEMP_MPY_wvf_snd.mp3\n"
          ]
        },
        {
          "name": "stderr",
          "output_type": "stream",
          "text": [
            "100%|██████████| 221/221 [00:00<00:00, 299.79it/s]\n"
          ]
        },
        {
          "name": "stdout",
          "output_type": "stream",
          "text": [
            "[MoviePy] Done.\n",
            "[MoviePy] Writing video /content/drive/MyDrive/gp/The Girl Who Believes in Miracles/clip/483.mp4\n"
          ]
        },
        {
          "name": "stderr",
          "output_type": "stream",
          "text": [
            "100%|██████████| 240/240 [00:04<00:00, 48.82it/s]\n"
          ]
        },
        {
          "name": "stdout",
          "output_type": "stream",
          "text": [
            "[MoviePy] Done.\n",
            "[MoviePy] >>>> Video ready: /content/drive/MyDrive/gp/The Girl Who Believes in Miracles/clip/483.mp4 \n",
            "\n",
            "483번째 클립 저장 완료\n",
            "[MoviePy] >>>> Building video /content/drive/MyDrive/gp/The Girl Who Believes in Miracles/clip/484.mp4\n",
            "[MoviePy] Writing audio in 484TEMP_MPY_wvf_snd.mp3\n"
          ]
        },
        {
          "name": "stderr",
          "output_type": "stream",
          "text": [
            "100%|██████████| 221/221 [00:00<00:00, 476.21it/s]"
          ]
        },
        {
          "name": "stdout",
          "output_type": "stream",
          "text": [
            "[MoviePy] Done.\n",
            "[MoviePy] Writing video /content/drive/MyDrive/gp/The Girl Who Believes in Miracles/clip/484.mp4\n"
          ]
        },
        {
          "name": "stderr",
          "output_type": "stream",
          "text": [
            "\n",
            "100%|██████████| 240/240 [00:03<00:00, 61.51it/s]\n"
          ]
        },
        {
          "name": "stdout",
          "output_type": "stream",
          "text": [
            "[MoviePy] Done.\n",
            "[MoviePy] >>>> Video ready: /content/drive/MyDrive/gp/The Girl Who Believes in Miracles/clip/484.mp4 \n",
            "\n",
            "484번째 클립 저장 완료\n",
            "[MoviePy] >>>> Building video /content/drive/MyDrive/gp/The Girl Who Believes in Miracles/clip/485.mp4\n",
            "[MoviePy] Writing audio in 485TEMP_MPY_wvf_snd.mp3\n"
          ]
        },
        {
          "name": "stderr",
          "output_type": "stream",
          "text": [
            "100%|██████████| 221/221 [00:00<00:00, 485.59it/s]"
          ]
        },
        {
          "name": "stdout",
          "output_type": "stream",
          "text": [
            "[MoviePy] Done.\n",
            "[MoviePy] Writing video /content/drive/MyDrive/gp/The Girl Who Believes in Miracles/clip/485.mp4\n"
          ]
        },
        {
          "name": "stderr",
          "output_type": "stream",
          "text": [
            "\n",
            "100%|██████████| 240/240 [00:03<00:00, 69.08it/s]\n"
          ]
        },
        {
          "name": "stdout",
          "output_type": "stream",
          "text": [
            "[MoviePy] Done.\n",
            "[MoviePy] >>>> Video ready: /content/drive/MyDrive/gp/The Girl Who Believes in Miracles/clip/485.mp4 \n",
            "\n",
            "485번째 클립 저장 완료\n",
            "[MoviePy] >>>> Building video /content/drive/MyDrive/gp/The Girl Who Believes in Miracles/clip/486.mp4\n",
            "[MoviePy] Writing audio in 486TEMP_MPY_wvf_snd.mp3\n"
          ]
        },
        {
          "name": "stderr",
          "output_type": "stream",
          "text": [
            "100%|██████████| 221/221 [00:00<00:00, 472.41it/s]\n"
          ]
        },
        {
          "name": "stdout",
          "output_type": "stream",
          "text": [
            "[MoviePy] Done.\n",
            "[MoviePy] Writing video /content/drive/MyDrive/gp/The Girl Who Believes in Miracles/clip/486.mp4\n"
          ]
        },
        {
          "name": "stderr",
          "output_type": "stream",
          "text": [
            "100%|██████████| 240/240 [00:03<00:00, 74.93it/s]\n"
          ]
        },
        {
          "name": "stdout",
          "output_type": "stream",
          "text": [
            "[MoviePy] Done.\n",
            "[MoviePy] >>>> Video ready: /content/drive/MyDrive/gp/The Girl Who Believes in Miracles/clip/486.mp4 \n",
            "\n",
            "486번째 클립 저장 완료\n",
            "[MoviePy] >>>> Building video /content/drive/MyDrive/gp/The Girl Who Believes in Miracles/clip/487.mp4\n",
            "[MoviePy] Writing audio in 487TEMP_MPY_wvf_snd.mp3\n"
          ]
        },
        {
          "name": "stderr",
          "output_type": "stream",
          "text": [
            "100%|██████████| 221/221 [00:00<00:00, 456.81it/s]\n"
          ]
        },
        {
          "name": "stdout",
          "output_type": "stream",
          "text": [
            "[MoviePy] Done.\n",
            "[MoviePy] Writing video /content/drive/MyDrive/gp/The Girl Who Believes in Miracles/clip/487.mp4\n"
          ]
        },
        {
          "name": "stderr",
          "output_type": "stream",
          "text": [
            "100%|██████████| 240/240 [00:03<00:00, 68.55it/s]\n"
          ]
        },
        {
          "name": "stdout",
          "output_type": "stream",
          "text": [
            "[MoviePy] Done.\n",
            "[MoviePy] >>>> Video ready: /content/drive/MyDrive/gp/The Girl Who Believes in Miracles/clip/487.mp4 \n",
            "\n",
            "487번째 클립 저장 완료\n",
            "[MoviePy] >>>> Building video /content/drive/MyDrive/gp/The Girl Who Believes in Miracles/clip/488.mp4\n",
            "[MoviePy] Writing audio in 488TEMP_MPY_wvf_snd.mp3\n"
          ]
        },
        {
          "name": "stderr",
          "output_type": "stream",
          "text": [
            "100%|██████████| 221/221 [00:00<00:00, 478.29it/s]"
          ]
        },
        {
          "name": "stdout",
          "output_type": "stream",
          "text": [
            "[MoviePy] Done.\n",
            "[MoviePy] Writing video /content/drive/MyDrive/gp/The Girl Who Believes in Miracles/clip/488.mp4\n"
          ]
        },
        {
          "name": "stderr",
          "output_type": "stream",
          "text": [
            "\n",
            "100%|██████████| 240/240 [00:03<00:00, 68.20it/s]\n"
          ]
        },
        {
          "name": "stdout",
          "output_type": "stream",
          "text": [
            "[MoviePy] Done.\n",
            "[MoviePy] >>>> Video ready: /content/drive/MyDrive/gp/The Girl Who Believes in Miracles/clip/488.mp4 \n",
            "\n",
            "488번째 클립 저장 완료\n",
            "[MoviePy] >>>> Building video /content/drive/MyDrive/gp/The Girl Who Believes in Miracles/clip/489.mp4\n",
            "[MoviePy] Writing audio in 489TEMP_MPY_wvf_snd.mp3\n"
          ]
        },
        {
          "name": "stderr",
          "output_type": "stream",
          "text": [
            "100%|██████████| 221/221 [00:00<00:00, 395.35it/s]"
          ]
        },
        {
          "name": "stdout",
          "output_type": "stream",
          "text": [
            "[MoviePy] Done.\n",
            "[MoviePy] Writing video /content/drive/MyDrive/gp/The Girl Who Believes in Miracles/clip/489.mp4\n"
          ]
        },
        {
          "name": "stderr",
          "output_type": "stream",
          "text": [
            "\n",
            "100%|██████████| 240/240 [00:04<00:00, 57.26it/s]\n"
          ]
        },
        {
          "name": "stdout",
          "output_type": "stream",
          "text": [
            "[MoviePy] Done.\n",
            "[MoviePy] >>>> Video ready: /content/drive/MyDrive/gp/The Girl Who Believes in Miracles/clip/489.mp4 \n",
            "\n",
            "489번째 클립 저장 완료\n",
            "[MoviePy] >>>> Building video /content/drive/MyDrive/gp/The Girl Who Believes in Miracles/clip/490.mp4\n",
            "[MoviePy] Writing audio in 490TEMP_MPY_wvf_snd.mp3\n"
          ]
        },
        {
          "name": "stderr",
          "output_type": "stream",
          "text": [
            "100%|██████████| 221/221 [00:00<00:00, 386.20it/s]"
          ]
        },
        {
          "name": "stdout",
          "output_type": "stream",
          "text": [
            "[MoviePy] Done.\n",
            "[MoviePy] Writing video /content/drive/MyDrive/gp/The Girl Who Believes in Miracles/clip/490.mp4\n"
          ]
        },
        {
          "name": "stderr",
          "output_type": "stream",
          "text": [
            "\n",
            "100%|██████████| 240/240 [00:03<00:00, 64.53it/s]\n"
          ]
        },
        {
          "name": "stdout",
          "output_type": "stream",
          "text": [
            "[MoviePy] Done.\n",
            "[MoviePy] >>>> Video ready: /content/drive/MyDrive/gp/The Girl Who Believes in Miracles/clip/490.mp4 \n",
            "\n",
            "490번째 클립 저장 완료\n",
            "[MoviePy] >>>> Building video /content/drive/MyDrive/gp/The Girl Who Believes in Miracles/clip/491.mp4\n",
            "[MoviePy] Writing audio in 491TEMP_MPY_wvf_snd.mp3\n"
          ]
        },
        {
          "name": "stderr",
          "output_type": "stream",
          "text": [
            "100%|██████████| 221/221 [00:00<00:00, 369.63it/s]"
          ]
        },
        {
          "name": "stdout",
          "output_type": "stream",
          "text": [
            "[MoviePy] Done.\n",
            "[MoviePy] Writing video /content/drive/MyDrive/gp/The Girl Who Believes in Miracles/clip/491.mp4\n"
          ]
        },
        {
          "name": "stderr",
          "output_type": "stream",
          "text": [
            "\n",
            "100%|██████████| 240/240 [00:03<00:00, 67.18it/s]\n"
          ]
        },
        {
          "name": "stdout",
          "output_type": "stream",
          "text": [
            "[MoviePy] Done.\n",
            "[MoviePy] >>>> Video ready: /content/drive/MyDrive/gp/The Girl Who Believes in Miracles/clip/491.mp4 \n",
            "\n",
            "491번째 클립 저장 완료\n",
            "[MoviePy] >>>> Building video /content/drive/MyDrive/gp/The Girl Who Believes in Miracles/clip/492.mp4\n",
            "[MoviePy] Writing audio in 492TEMP_MPY_wvf_snd.mp3\n"
          ]
        },
        {
          "name": "stderr",
          "output_type": "stream",
          "text": [
            "100%|██████████| 221/221 [00:00<00:00, 392.40it/s]"
          ]
        },
        {
          "name": "stdout",
          "output_type": "stream",
          "text": [
            "[MoviePy] Done.\n"
          ]
        },
        {
          "name": "stderr",
          "output_type": "stream",
          "text": [
            "\n"
          ]
        },
        {
          "name": "stdout",
          "output_type": "stream",
          "text": [
            "[MoviePy] Writing video /content/drive/MyDrive/gp/The Girl Who Believes in Miracles/clip/492.mp4\n"
          ]
        },
        {
          "name": "stderr",
          "output_type": "stream",
          "text": [
            "100%|██████████| 240/240 [00:03<00:00, 63.11it/s]\n"
          ]
        },
        {
          "name": "stdout",
          "output_type": "stream",
          "text": [
            "[MoviePy] Done.\n",
            "[MoviePy] >>>> Video ready: /content/drive/MyDrive/gp/The Girl Who Believes in Miracles/clip/492.mp4 \n",
            "\n",
            "492번째 클립 저장 완료\n",
            "[MoviePy] >>>> Building video /content/drive/MyDrive/gp/The Girl Who Believes in Miracles/clip/493.mp4\n",
            "[MoviePy] Writing audio in 493TEMP_MPY_wvf_snd.mp3\n"
          ]
        },
        {
          "name": "stderr",
          "output_type": "stream",
          "text": [
            "100%|██████████| 221/221 [00:00<00:00, 390.49it/s]\n"
          ]
        },
        {
          "name": "stdout",
          "output_type": "stream",
          "text": [
            "[MoviePy] Done.\n",
            "[MoviePy] Writing video /content/drive/MyDrive/gp/The Girl Who Believes in Miracles/clip/493.mp4\n"
          ]
        },
        {
          "name": "stderr",
          "output_type": "stream",
          "text": [
            "100%|██████████| 240/240 [00:03<00:00, 63.20it/s]\n"
          ]
        },
        {
          "name": "stdout",
          "output_type": "stream",
          "text": [
            "[MoviePy] Done.\n",
            "[MoviePy] >>>> Video ready: /content/drive/MyDrive/gp/The Girl Who Believes in Miracles/clip/493.mp4 \n",
            "\n",
            "493번째 클립 저장 완료\n",
            "[MoviePy] >>>> Building video /content/drive/MyDrive/gp/The Girl Who Believes in Miracles/clip/494.mp4\n",
            "[MoviePy] Writing audio in 494TEMP_MPY_wvf_snd.mp3\n"
          ]
        },
        {
          "name": "stderr",
          "output_type": "stream",
          "text": [
            "100%|██████████| 221/221 [00:00<00:00, 373.70it/s]"
          ]
        },
        {
          "name": "stdout",
          "output_type": "stream",
          "text": [
            "[MoviePy] Done.\n",
            "[MoviePy] Writing video /content/drive/MyDrive/gp/The Girl Who Believes in Miracles/clip/494.mp4\n"
          ]
        },
        {
          "name": "stderr",
          "output_type": "stream",
          "text": [
            "\n",
            "100%|██████████| 240/240 [00:03<00:00, 63.00it/s]\n"
          ]
        },
        {
          "name": "stdout",
          "output_type": "stream",
          "text": [
            "[MoviePy] Done.\n",
            "[MoviePy] >>>> Video ready: /content/drive/MyDrive/gp/The Girl Who Believes in Miracles/clip/494.mp4 \n",
            "\n",
            "494번째 클립 저장 완료\n",
            "[MoviePy] >>>> Building video /content/drive/MyDrive/gp/The Girl Who Believes in Miracles/clip/495.mp4\n",
            "[MoviePy] Writing audio in 495TEMP_MPY_wvf_snd.mp3\n"
          ]
        },
        {
          "name": "stderr",
          "output_type": "stream",
          "text": [
            "100%|██████████| 221/221 [00:00<00:00, 374.55it/s]"
          ]
        },
        {
          "name": "stdout",
          "output_type": "stream",
          "text": [
            "[MoviePy] Done.\n",
            "[MoviePy] Writing video /content/drive/MyDrive/gp/The Girl Who Believes in Miracles/clip/495.mp4\n"
          ]
        },
        {
          "name": "stderr",
          "output_type": "stream",
          "text": [
            "\n",
            "100%|██████████| 240/240 [00:04<00:00, 55.71it/s]\n"
          ]
        },
        {
          "name": "stdout",
          "output_type": "stream",
          "text": [
            "[MoviePy] Done.\n",
            "[MoviePy] >>>> Video ready: /content/drive/MyDrive/gp/The Girl Who Believes in Miracles/clip/495.mp4 \n",
            "\n",
            "495번째 클립 저장 완료\n",
            "[MoviePy] >>>> Building video /content/drive/MyDrive/gp/The Girl Who Believes in Miracles/clip/496.mp4\n",
            "[MoviePy] Writing audio in 496TEMP_MPY_wvf_snd.mp3\n"
          ]
        },
        {
          "name": "stderr",
          "output_type": "stream",
          "text": [
            "100%|██████████| 221/221 [00:00<00:00, 382.15it/s]\n"
          ]
        },
        {
          "name": "stdout",
          "output_type": "stream",
          "text": [
            "[MoviePy] Done.\n",
            "[MoviePy] Writing video /content/drive/MyDrive/gp/The Girl Who Believes in Miracles/clip/496.mp4\n"
          ]
        },
        {
          "name": "stderr",
          "output_type": "stream",
          "text": [
            "100%|██████████| 240/240 [00:03<00:00, 60.89it/s]\n"
          ]
        },
        {
          "name": "stdout",
          "output_type": "stream",
          "text": [
            "[MoviePy] Done.\n",
            "[MoviePy] >>>> Video ready: /content/drive/MyDrive/gp/The Girl Who Believes in Miracles/clip/496.mp4 \n",
            "\n",
            "496번째 클립 저장 완료\n",
            "[MoviePy] >>>> Building video /content/drive/MyDrive/gp/The Girl Who Believes in Miracles/clip/497.mp4\n",
            "[MoviePy] Writing audio in 497TEMP_MPY_wvf_snd.mp3\n"
          ]
        },
        {
          "name": "stderr",
          "output_type": "stream",
          "text": [
            "100%|██████████| 221/221 [00:00<00:00, 383.91it/s]\n"
          ]
        },
        {
          "name": "stdout",
          "output_type": "stream",
          "text": [
            "[MoviePy] Done.\n",
            "[MoviePy] Writing video /content/drive/MyDrive/gp/The Girl Who Believes in Miracles/clip/497.mp4\n"
          ]
        },
        {
          "name": "stderr",
          "output_type": "stream",
          "text": [
            "100%|██████████| 240/240 [00:03<00:00, 62.56it/s]\n"
          ]
        },
        {
          "name": "stdout",
          "output_type": "stream",
          "text": [
            "[MoviePy] Done.\n",
            "[MoviePy] >>>> Video ready: /content/drive/MyDrive/gp/The Girl Who Believes in Miracles/clip/497.mp4 \n",
            "\n",
            "497번째 클립 저장 완료\n",
            "[MoviePy] >>>> Building video /content/drive/MyDrive/gp/The Girl Who Believes in Miracles/clip/498.mp4\n",
            "[MoviePy] Writing audio in 498TEMP_MPY_wvf_snd.mp3\n"
          ]
        },
        {
          "name": "stderr",
          "output_type": "stream",
          "text": [
            "100%|██████████| 221/221 [00:00<00:00, 381.55it/s]"
          ]
        },
        {
          "name": "stdout",
          "output_type": "stream",
          "text": [
            "[MoviePy] Done.\n",
            "[MoviePy] Writing video /content/drive/MyDrive/gp/The Girl Who Believes in Miracles/clip/498.mp4\n"
          ]
        },
        {
          "name": "stderr",
          "output_type": "stream",
          "text": [
            "\n",
            "100%|██████████| 240/240 [00:03<00:00, 63.65it/s]\n"
          ]
        },
        {
          "name": "stdout",
          "output_type": "stream",
          "text": [
            "[MoviePy] Done.\n",
            "[MoviePy] >>>> Video ready: /content/drive/MyDrive/gp/The Girl Who Believes in Miracles/clip/498.mp4 \n",
            "\n",
            "498번째 클립 저장 완료\n",
            "[MoviePy] >>>> Building video /content/drive/MyDrive/gp/The Girl Who Believes in Miracles/clip/499.mp4\n",
            "[MoviePy] Writing audio in 499TEMP_MPY_wvf_snd.mp3\n"
          ]
        },
        {
          "name": "stderr",
          "output_type": "stream",
          "text": [
            "100%|██████████| 221/221 [00:00<00:00, 391.98it/s]"
          ]
        },
        {
          "name": "stdout",
          "output_type": "stream",
          "text": [
            "[MoviePy] Done.\n",
            "[MoviePy] Writing video /content/drive/MyDrive/gp/The Girl Who Believes in Miracles/clip/499.mp4\n"
          ]
        },
        {
          "name": "stderr",
          "output_type": "stream",
          "text": [
            "\n",
            "100%|██████████| 240/240 [00:03<00:00, 64.12it/s]\n"
          ]
        },
        {
          "name": "stdout",
          "output_type": "stream",
          "text": [
            "[MoviePy] Done.\n",
            "[MoviePy] >>>> Video ready: /content/drive/MyDrive/gp/The Girl Who Believes in Miracles/clip/499.mp4 \n",
            "\n",
            "499번째 클립 저장 완료\n",
            "[MoviePy] >>>> Building video /content/drive/MyDrive/gp/The Girl Who Believes in Miracles/clip/500.mp4\n",
            "[MoviePy] Writing audio in 500TEMP_MPY_wvf_snd.mp3\n"
          ]
        },
        {
          "name": "stderr",
          "output_type": "stream",
          "text": [
            "100%|██████████| 221/221 [00:00<00:00, 438.89it/s]"
          ]
        },
        {
          "name": "stdout",
          "output_type": "stream",
          "text": [
            "[MoviePy] Done.\n",
            "[MoviePy] Writing video /content/drive/MyDrive/gp/The Girl Who Believes in Miracles/clip/500.mp4\n"
          ]
        },
        {
          "name": "stderr",
          "output_type": "stream",
          "text": [
            "\n",
            "100%|██████████| 240/240 [00:03<00:00, 72.32it/s]\n"
          ]
        },
        {
          "name": "stdout",
          "output_type": "stream",
          "text": [
            "[MoviePy] Done.\n",
            "[MoviePy] >>>> Video ready: /content/drive/MyDrive/gp/The Girl Who Believes in Miracles/clip/500.mp4 \n",
            "\n",
            "500번째 클립 저장 완료\n",
            "[MoviePy] >>>> Building video /content/drive/MyDrive/gp/The Girl Who Believes in Miracles/clip/501.mp4\n",
            "[MoviePy] Writing audio in 501TEMP_MPY_wvf_snd.mp3\n"
          ]
        },
        {
          "name": "stderr",
          "output_type": "stream",
          "text": [
            "100%|██████████| 221/221 [00:00<00:00, 471.93it/s]\n"
          ]
        },
        {
          "name": "stdout",
          "output_type": "stream",
          "text": [
            "[MoviePy] Done.\n",
            "[MoviePy] Writing video /content/drive/MyDrive/gp/The Girl Who Believes in Miracles/clip/501.mp4\n"
          ]
        },
        {
          "name": "stderr",
          "output_type": "stream",
          "text": [
            "100%|██████████| 240/240 [00:03<00:00, 66.36it/s]\n"
          ]
        },
        {
          "name": "stdout",
          "output_type": "stream",
          "text": [
            "[MoviePy] Done.\n",
            "[MoviePy] >>>> Video ready: /content/drive/MyDrive/gp/The Girl Who Believes in Miracles/clip/501.mp4 \n",
            "\n",
            "501번째 클립 저장 완료\n",
            "[MoviePy] >>>> Building video /content/drive/MyDrive/gp/The Girl Who Believes in Miracles/clip/502.mp4\n",
            "[MoviePy] Writing audio in 502TEMP_MPY_wvf_snd.mp3\n"
          ]
        },
        {
          "name": "stderr",
          "output_type": "stream",
          "text": [
            "100%|██████████| 221/221 [00:00<00:00, 474.69it/s]"
          ]
        },
        {
          "name": "stdout",
          "output_type": "stream",
          "text": [
            "[MoviePy] Done.\n",
            "[MoviePy] Writing video /content/drive/MyDrive/gp/The Girl Who Believes in Miracles/clip/502.mp4\n"
          ]
        },
        {
          "name": "stderr",
          "output_type": "stream",
          "text": [
            "\n",
            "100%|██████████| 240/240 [00:03<00:00, 60.06it/s]\n"
          ]
        },
        {
          "name": "stdout",
          "output_type": "stream",
          "text": [
            "[MoviePy] Done.\n",
            "[MoviePy] >>>> Video ready: /content/drive/MyDrive/gp/The Girl Who Believes in Miracles/clip/502.mp4 \n",
            "\n",
            "502번째 클립 저장 완료\n",
            "[MoviePy] >>>> Building video /content/drive/MyDrive/gp/The Girl Who Believes in Miracles/clip/503.mp4\n",
            "[MoviePy] Writing audio in 503TEMP_MPY_wvf_snd.mp3\n"
          ]
        },
        {
          "name": "stderr",
          "output_type": "stream",
          "text": [
            "100%|██████████| 221/221 [00:00<00:00, 486.59it/s]"
          ]
        },
        {
          "name": "stdout",
          "output_type": "stream",
          "text": [
            "[MoviePy] Done.\n",
            "[MoviePy] Writing video /content/drive/MyDrive/gp/The Girl Who Believes in Miracles/clip/503.mp4\n"
          ]
        },
        {
          "name": "stderr",
          "output_type": "stream",
          "text": [
            "\n",
            "100%|██████████| 240/240 [00:03<00:00, 66.02it/s]\n"
          ]
        },
        {
          "name": "stdout",
          "output_type": "stream",
          "text": [
            "[MoviePy] Done.\n",
            "[MoviePy] >>>> Video ready: /content/drive/MyDrive/gp/The Girl Who Believes in Miracles/clip/503.mp4 \n",
            "\n",
            "503번째 클립 저장 완료\n",
            "[MoviePy] >>>> Building video /content/drive/MyDrive/gp/The Girl Who Believes in Miracles/clip/504.mp4\n",
            "[MoviePy] Writing audio in 504TEMP_MPY_wvf_snd.mp3\n"
          ]
        },
        {
          "name": "stderr",
          "output_type": "stream",
          "text": [
            "100%|██████████| 221/221 [00:00<00:00, 470.16it/s]"
          ]
        },
        {
          "name": "stdout",
          "output_type": "stream",
          "text": [
            "[MoviePy] Done.\n"
          ]
        },
        {
          "name": "stderr",
          "output_type": "stream",
          "text": [
            "\n"
          ]
        },
        {
          "name": "stdout",
          "output_type": "stream",
          "text": [
            "[MoviePy] Writing video /content/drive/MyDrive/gp/The Girl Who Believes in Miracles/clip/504.mp4\n"
          ]
        },
        {
          "name": "stderr",
          "output_type": "stream",
          "text": [
            "100%|██████████| 240/240 [00:04<00:00, 52.45it/s]\n"
          ]
        },
        {
          "name": "stdout",
          "output_type": "stream",
          "text": [
            "[MoviePy] Done.\n",
            "[MoviePy] >>>> Video ready: /content/drive/MyDrive/gp/The Girl Who Believes in Miracles/clip/504.mp4 \n",
            "\n",
            "504번째 클립 저장 완료\n",
            "[MoviePy] >>>> Building video /content/drive/MyDrive/gp/The Girl Who Believes in Miracles/clip/505.mp4\n",
            "[MoviePy] Writing audio in 505TEMP_MPY_wvf_snd.mp3\n"
          ]
        },
        {
          "name": "stderr",
          "output_type": "stream",
          "text": [
            "100%|██████████| 221/221 [00:00<00:00, 279.93it/s]"
          ]
        },
        {
          "name": "stdout",
          "output_type": "stream",
          "text": [
            "[MoviePy] Done.\n",
            "[MoviePy] Writing video /content/drive/MyDrive/gp/The Girl Who Believes in Miracles/clip/505.mp4\n"
          ]
        },
        {
          "name": "stderr",
          "output_type": "stream",
          "text": [
            "\n",
            "100%|██████████| 240/240 [00:05<00:00, 41.78it/s]\n"
          ]
        },
        {
          "name": "stdout",
          "output_type": "stream",
          "text": [
            "[MoviePy] Done.\n",
            "[MoviePy] >>>> Video ready: /content/drive/MyDrive/gp/The Girl Who Believes in Miracles/clip/505.mp4 \n",
            "\n",
            "505번째 클립 저장 완료\n",
            "[MoviePy] >>>> Building video /content/drive/MyDrive/gp/The Girl Who Believes in Miracles/clip/506.mp4\n",
            "[MoviePy] Writing audio in 506TEMP_MPY_wvf_snd.mp3\n"
          ]
        },
        {
          "name": "stderr",
          "output_type": "stream",
          "text": [
            "100%|██████████| 221/221 [00:00<00:00, 288.05it/s]"
          ]
        },
        {
          "name": "stdout",
          "output_type": "stream",
          "text": [
            "[MoviePy] Done.\n",
            "[MoviePy] Writing video /content/drive/MyDrive/gp/The Girl Who Believes in Miracles/clip/506.mp4\n"
          ]
        },
        {
          "name": "stderr",
          "output_type": "stream",
          "text": [
            "\n",
            "100%|██████████| 240/240 [00:04<00:00, 59.68it/s]\n"
          ]
        },
        {
          "name": "stdout",
          "output_type": "stream",
          "text": [
            "[MoviePy] Done.\n",
            "[MoviePy] >>>> Video ready: /content/drive/MyDrive/gp/The Girl Who Believes in Miracles/clip/506.mp4 \n",
            "\n",
            "506번째 클립 저장 완료\n",
            "[MoviePy] >>>> Building video /content/drive/MyDrive/gp/The Girl Who Believes in Miracles/clip/507.mp4\n",
            "[MoviePy] Writing audio in 507TEMP_MPY_wvf_snd.mp3\n"
          ]
        },
        {
          "name": "stderr",
          "output_type": "stream",
          "text": [
            "100%|██████████| 221/221 [00:00<00:00, 445.22it/s]"
          ]
        },
        {
          "name": "stdout",
          "output_type": "stream",
          "text": [
            "[MoviePy] Done.\n",
            "[MoviePy] Writing video /content/drive/MyDrive/gp/The Girl Who Believes in Miracles/clip/507.mp4\n"
          ]
        },
        {
          "name": "stderr",
          "output_type": "stream",
          "text": [
            "\n",
            "100%|██████████| 240/240 [00:03<00:00, 74.38it/s]\n"
          ]
        },
        {
          "name": "stdout",
          "output_type": "stream",
          "text": [
            "[MoviePy] Done.\n",
            "[MoviePy] >>>> Video ready: /content/drive/MyDrive/gp/The Girl Who Believes in Miracles/clip/507.mp4 \n",
            "\n",
            "507번째 클립 저장 완료\n",
            "[MoviePy] >>>> Building video /content/drive/MyDrive/gp/The Girl Who Believes in Miracles/clip/508.mp4\n",
            "[MoviePy] Writing audio in 508TEMP_MPY_wvf_snd.mp3\n"
          ]
        },
        {
          "name": "stderr",
          "output_type": "stream",
          "text": [
            "100%|██████████| 221/221 [00:00<00:00, 459.59it/s]"
          ]
        },
        {
          "name": "stdout",
          "output_type": "stream",
          "text": [
            "[MoviePy] Done.\n",
            "[MoviePy] Writing video /content/drive/MyDrive/gp/The Girl Who Believes in Miracles/clip/508.mp4\n"
          ]
        },
        {
          "name": "stderr",
          "output_type": "stream",
          "text": [
            "\n",
            "100%|██████████| 240/240 [00:03<00:00, 73.20it/s]\n"
          ]
        },
        {
          "name": "stdout",
          "output_type": "stream",
          "text": [
            "[MoviePy] Done.\n",
            "[MoviePy] >>>> Video ready: /content/drive/MyDrive/gp/The Girl Who Believes in Miracles/clip/508.mp4 \n",
            "\n",
            "508번째 클립 저장 완료\n",
            "[MoviePy] >>>> Building video /content/drive/MyDrive/gp/The Girl Who Believes in Miracles/clip/509.mp4\n",
            "[MoviePy] Writing audio in 509TEMP_MPY_wvf_snd.mp3\n"
          ]
        },
        {
          "name": "stderr",
          "output_type": "stream",
          "text": [
            "100%|██████████| 221/221 [00:00<00:00, 484.65it/s]"
          ]
        },
        {
          "name": "stdout",
          "output_type": "stream",
          "text": [
            "[MoviePy] Done.\n",
            "[MoviePy] Writing video /content/drive/MyDrive/gp/The Girl Who Believes in Miracles/clip/509.mp4\n"
          ]
        },
        {
          "name": "stderr",
          "output_type": "stream",
          "text": [
            "\n",
            "100%|██████████| 240/240 [00:02<00:00, 85.09it/s]\n"
          ]
        },
        {
          "name": "stdout",
          "output_type": "stream",
          "text": [
            "[MoviePy] Done.\n",
            "[MoviePy] >>>> Video ready: /content/drive/MyDrive/gp/The Girl Who Believes in Miracles/clip/509.mp4 \n",
            "\n",
            "509번째 클립 저장 완료\n",
            "[MoviePy] >>>> Building video /content/drive/MyDrive/gp/The Girl Who Believes in Miracles/clip/510.mp4\n",
            "[MoviePy] Writing audio in 510TEMP_MPY_wvf_snd.mp3\n"
          ]
        },
        {
          "name": "stderr",
          "output_type": "stream",
          "text": [
            "100%|██████████| 221/221 [00:00<00:00, 477.00it/s]"
          ]
        },
        {
          "name": "stdout",
          "output_type": "stream",
          "text": [
            "[MoviePy] Done.\n"
          ]
        },
        {
          "name": "stderr",
          "output_type": "stream",
          "text": [
            "\n"
          ]
        },
        {
          "name": "stdout",
          "output_type": "stream",
          "text": [
            "[MoviePy] Writing video /content/drive/MyDrive/gp/The Girl Who Believes in Miracles/clip/510.mp4\n"
          ]
        },
        {
          "name": "stderr",
          "output_type": "stream",
          "text": [
            "100%|██████████| 240/240 [00:03<00:00, 76.47it/s]\n"
          ]
        },
        {
          "name": "stdout",
          "output_type": "stream",
          "text": [
            "[MoviePy] Done.\n",
            "[MoviePy] >>>> Video ready: /content/drive/MyDrive/gp/The Girl Who Believes in Miracles/clip/510.mp4 \n",
            "\n",
            "510번째 클립 저장 완료\n",
            "[MoviePy] >>>> Building video /content/drive/MyDrive/gp/The Girl Who Believes in Miracles/clip/511.mp4\n",
            "[MoviePy] Writing audio in 511TEMP_MPY_wvf_snd.mp3\n"
          ]
        },
        {
          "name": "stderr",
          "output_type": "stream",
          "text": [
            "100%|██████████| 221/221 [00:00<00:00, 457.75it/s]"
          ]
        },
        {
          "name": "stdout",
          "output_type": "stream",
          "text": [
            "[MoviePy] Done.\n",
            "[MoviePy] Writing video /content/drive/MyDrive/gp/The Girl Who Believes in Miracles/clip/511.mp4\n"
          ]
        },
        {
          "name": "stderr",
          "output_type": "stream",
          "text": [
            "\n",
            "100%|██████████| 240/240 [00:03<00:00, 78.49it/s]\n"
          ]
        },
        {
          "name": "stdout",
          "output_type": "stream",
          "text": [
            "[MoviePy] Done.\n",
            "[MoviePy] >>>> Video ready: /content/drive/MyDrive/gp/The Girl Who Believes in Miracles/clip/511.mp4 \n",
            "\n",
            "511번째 클립 저장 완료\n",
            "[MoviePy] >>>> Building video /content/drive/MyDrive/gp/The Girl Who Believes in Miracles/clip/512.mp4\n",
            "[MoviePy] Writing audio in 512TEMP_MPY_wvf_snd.mp3\n"
          ]
        },
        {
          "name": "stderr",
          "output_type": "stream",
          "text": [
            "100%|██████████| 221/221 [00:00<00:00, 454.68it/s]\n"
          ]
        },
        {
          "name": "stdout",
          "output_type": "stream",
          "text": [
            "[MoviePy] Done.\n",
            "[MoviePy] Writing video /content/drive/MyDrive/gp/The Girl Who Believes in Miracles/clip/512.mp4\n"
          ]
        },
        {
          "name": "stderr",
          "output_type": "stream",
          "text": [
            "100%|██████████| 240/240 [00:02<00:00, 84.03it/s]\n"
          ]
        },
        {
          "name": "stdout",
          "output_type": "stream",
          "text": [
            "[MoviePy] Done.\n",
            "[MoviePy] >>>> Video ready: /content/drive/MyDrive/gp/The Girl Who Believes in Miracles/clip/512.mp4 \n",
            "\n",
            "512번째 클립 저장 완료\n",
            "[MoviePy] >>>> Building video /content/drive/MyDrive/gp/The Girl Who Believes in Miracles/clip/513.mp4\n",
            "[MoviePy] Writing audio in 513TEMP_MPY_wvf_snd.mp3\n"
          ]
        },
        {
          "name": "stderr",
          "output_type": "stream",
          "text": [
            "100%|██████████| 221/221 [00:00<00:00, 459.39it/s]\n"
          ]
        },
        {
          "name": "stdout",
          "output_type": "stream",
          "text": [
            "[MoviePy] Done.\n",
            "[MoviePy] Writing video /content/drive/MyDrive/gp/The Girl Who Believes in Miracles/clip/513.mp4\n"
          ]
        },
        {
          "name": "stderr",
          "output_type": "stream",
          "text": [
            "100%|██████████| 240/240 [00:02<00:00, 88.30it/s]\n"
          ]
        },
        {
          "name": "stdout",
          "output_type": "stream",
          "text": [
            "[MoviePy] Done.\n",
            "[MoviePy] >>>> Video ready: /content/drive/MyDrive/gp/The Girl Who Believes in Miracles/clip/513.mp4 \n",
            "\n",
            "513번째 클립 저장 완료\n",
            "[MoviePy] >>>> Building video /content/drive/MyDrive/gp/The Girl Who Believes in Miracles/clip/514.mp4\n",
            "[MoviePy] Writing audio in 514TEMP_MPY_wvf_snd.mp3\n"
          ]
        },
        {
          "name": "stderr",
          "output_type": "stream",
          "text": [
            "100%|██████████| 221/221 [00:00<00:00, 479.94it/s]"
          ]
        },
        {
          "name": "stdout",
          "output_type": "stream",
          "text": [
            "[MoviePy] Done.\n",
            "[MoviePy] Writing video /content/drive/MyDrive/gp/The Girl Who Believes in Miracles/clip/514.mp4\n"
          ]
        },
        {
          "name": "stderr",
          "output_type": "stream",
          "text": [
            "\n",
            "100%|██████████| 240/240 [00:02<00:00, 80.16it/s]\n"
          ]
        },
        {
          "name": "stdout",
          "output_type": "stream",
          "text": [
            "[MoviePy] Done.\n",
            "[MoviePy] >>>> Video ready: /content/drive/MyDrive/gp/The Girl Who Believes in Miracles/clip/514.mp4 \n",
            "\n",
            "514번째 클립 저장 완료\n",
            "[MoviePy] >>>> Building video /content/drive/MyDrive/gp/The Girl Who Believes in Miracles/clip/515.mp4\n",
            "[MoviePy] Writing audio in 515TEMP_MPY_wvf_snd.mp3\n"
          ]
        },
        {
          "name": "stderr",
          "output_type": "stream",
          "text": [
            "100%|██████████| 221/221 [00:00<00:00, 473.55it/s]"
          ]
        },
        {
          "name": "stdout",
          "output_type": "stream",
          "text": [
            "[MoviePy] Done.\n"
          ]
        },
        {
          "name": "stderr",
          "output_type": "stream",
          "text": [
            "\n"
          ]
        },
        {
          "name": "stdout",
          "output_type": "stream",
          "text": [
            "[MoviePy] Writing video /content/drive/MyDrive/gp/The Girl Who Believes in Miracles/clip/515.mp4\n"
          ]
        },
        {
          "name": "stderr",
          "output_type": "stream",
          "text": [
            "100%|██████████| 240/240 [00:03<00:00, 72.86it/s]\n"
          ]
        },
        {
          "name": "stdout",
          "output_type": "stream",
          "text": [
            "[MoviePy] Done.\n",
            "[MoviePy] >>>> Video ready: /content/drive/MyDrive/gp/The Girl Who Believes in Miracles/clip/515.mp4 \n",
            "\n",
            "515번째 클립 저장 완료\n",
            "[MoviePy] >>>> Building video /content/drive/MyDrive/gp/The Girl Who Believes in Miracles/clip/516.mp4\n",
            "[MoviePy] Writing audio in 516TEMP_MPY_wvf_snd.mp3\n"
          ]
        },
        {
          "name": "stderr",
          "output_type": "stream",
          "text": [
            "100%|██████████| 221/221 [00:00<00:00, 476.54it/s]"
          ]
        },
        {
          "name": "stdout",
          "output_type": "stream",
          "text": [
            "[MoviePy] Done.\n",
            "[MoviePy] Writing video /content/drive/MyDrive/gp/The Girl Who Believes in Miracles/clip/516.mp4\n"
          ]
        },
        {
          "name": "stderr",
          "output_type": "stream",
          "text": [
            "\n",
            "100%|██████████| 240/240 [00:03<00:00, 72.71it/s]\n"
          ]
        },
        {
          "name": "stdout",
          "output_type": "stream",
          "text": [
            "[MoviePy] Done.\n",
            "[MoviePy] >>>> Video ready: /content/drive/MyDrive/gp/The Girl Who Believes in Miracles/clip/516.mp4 \n",
            "\n",
            "516번째 클립 저장 완료\n",
            "[MoviePy] >>>> Building video /content/drive/MyDrive/gp/The Girl Who Believes in Miracles/clip/517.mp4\n",
            "[MoviePy] Writing audio in 517TEMP_MPY_wvf_snd.mp3\n"
          ]
        },
        {
          "name": "stderr",
          "output_type": "stream",
          "text": [
            "100%|██████████| 221/221 [00:00<00:00, 455.53it/s]"
          ]
        },
        {
          "name": "stdout",
          "output_type": "stream",
          "text": [
            "[MoviePy] Done.\n",
            "[MoviePy] Writing video /content/drive/MyDrive/gp/The Girl Who Believes in Miracles/clip/517.mp4\n"
          ]
        },
        {
          "name": "stderr",
          "output_type": "stream",
          "text": [
            "\n",
            "100%|██████████| 240/240 [00:03<00:00, 69.73it/s]\n"
          ]
        },
        {
          "name": "stdout",
          "output_type": "stream",
          "text": [
            "[MoviePy] Done.\n",
            "[MoviePy] >>>> Video ready: /content/drive/MyDrive/gp/The Girl Who Believes in Miracles/clip/517.mp4 \n",
            "\n",
            "517번째 클립 저장 완료\n",
            "[MoviePy] >>>> Building video /content/drive/MyDrive/gp/The Girl Who Believes in Miracles/clip/518.mp4\n",
            "[MoviePy] Writing audio in 518TEMP_MPY_wvf_snd.mp3\n"
          ]
        },
        {
          "name": "stderr",
          "output_type": "stream",
          "text": [
            "100%|██████████| 221/221 [00:00<00:00, 478.48it/s]"
          ]
        },
        {
          "name": "stdout",
          "output_type": "stream",
          "text": [
            "[MoviePy] Done.\n",
            "[MoviePy] Writing video /content/drive/MyDrive/gp/The Girl Who Believes in Miracles/clip/518.mp4\n"
          ]
        },
        {
          "name": "stderr",
          "output_type": "stream",
          "text": [
            "\n",
            "100%|██████████| 240/240 [00:03<00:00, 72.63it/s]\n"
          ]
        },
        {
          "name": "stdout",
          "output_type": "stream",
          "text": [
            "[MoviePy] Done.\n",
            "[MoviePy] >>>> Video ready: /content/drive/MyDrive/gp/The Girl Who Believes in Miracles/clip/518.mp4 \n",
            "\n",
            "518번째 클립 저장 완료\n",
            "[MoviePy] >>>> Building video /content/drive/MyDrive/gp/The Girl Who Believes in Miracles/clip/519.mp4\n",
            "[MoviePy] Writing audio in 519TEMP_MPY_wvf_snd.mp3\n"
          ]
        },
        {
          "name": "stderr",
          "output_type": "stream",
          "text": [
            "100%|██████████| 221/221 [00:00<00:00, 462.91it/s]"
          ]
        },
        {
          "name": "stdout",
          "output_type": "stream",
          "text": [
            "[MoviePy] Done.\n",
            "[MoviePy] Writing video /content/drive/MyDrive/gp/The Girl Who Believes in Miracles/clip/519.mp4\n"
          ]
        },
        {
          "name": "stderr",
          "output_type": "stream",
          "text": [
            "\n",
            "100%|██████████| 240/240 [00:03<00:00, 73.11it/s]\n"
          ]
        },
        {
          "name": "stdout",
          "output_type": "stream",
          "text": [
            "[MoviePy] Done.\n",
            "[MoviePy] >>>> Video ready: /content/drive/MyDrive/gp/The Girl Who Believes in Miracles/clip/519.mp4 \n",
            "\n",
            "519번째 클립 저장 완료\n",
            "[MoviePy] >>>> Building video /content/drive/MyDrive/gp/The Girl Who Believes in Miracles/clip/520.mp4\n",
            "[MoviePy] Writing audio in 520TEMP_MPY_wvf_snd.mp3\n"
          ]
        },
        {
          "name": "stderr",
          "output_type": "stream",
          "text": [
            "100%|██████████| 221/221 [00:00<00:00, 457.97it/s]\n"
          ]
        },
        {
          "name": "stdout",
          "output_type": "stream",
          "text": [
            "[MoviePy] Done.\n",
            "[MoviePy] Writing video /content/drive/MyDrive/gp/The Girl Who Believes in Miracles/clip/520.mp4\n"
          ]
        },
        {
          "name": "stderr",
          "output_type": "stream",
          "text": [
            "100%|██████████| 240/240 [00:03<00:00, 77.01it/s]\n"
          ]
        },
        {
          "name": "stdout",
          "output_type": "stream",
          "text": [
            "[MoviePy] Done.\n",
            "[MoviePy] >>>> Video ready: /content/drive/MyDrive/gp/The Girl Who Believes in Miracles/clip/520.mp4 \n",
            "\n",
            "520번째 클립 저장 완료\n",
            "[MoviePy] >>>> Building video /content/drive/MyDrive/gp/The Girl Who Believes in Miracles/clip/521.mp4\n",
            "[MoviePy] Writing audio in 521TEMP_MPY_wvf_snd.mp3\n"
          ]
        },
        {
          "name": "stderr",
          "output_type": "stream",
          "text": [
            "100%|██████████| 221/221 [00:00<00:00, 458.06it/s]\n"
          ]
        },
        {
          "name": "stdout",
          "output_type": "stream",
          "text": [
            "[MoviePy] Done.\n",
            "[MoviePy] Writing video /content/drive/MyDrive/gp/The Girl Who Believes in Miracles/clip/521.mp4\n"
          ]
        },
        {
          "name": "stderr",
          "output_type": "stream",
          "text": [
            "100%|██████████| 240/240 [00:03<00:00, 71.01it/s]\n"
          ]
        },
        {
          "name": "stdout",
          "output_type": "stream",
          "text": [
            "[MoviePy] Done.\n",
            "[MoviePy] >>>> Video ready: /content/drive/MyDrive/gp/The Girl Who Believes in Miracles/clip/521.mp4 \n",
            "\n",
            "521번째 클립 저장 완료\n",
            "[MoviePy] >>>> Building video /content/drive/MyDrive/gp/The Girl Who Believes in Miracles/clip/522.mp4\n",
            "[MoviePy] Writing audio in 522TEMP_MPY_wvf_snd.mp3\n"
          ]
        },
        {
          "name": "stderr",
          "output_type": "stream",
          "text": [
            "100%|██████████| 221/221 [00:00<00:00, 465.84it/s]"
          ]
        },
        {
          "name": "stdout",
          "output_type": "stream",
          "text": [
            "[MoviePy] Done.\n",
            "[MoviePy] Writing video /content/drive/MyDrive/gp/The Girl Who Believes in Miracles/clip/522.mp4\n"
          ]
        },
        {
          "name": "stderr",
          "output_type": "stream",
          "text": [
            "\n",
            "100%|██████████| 240/240 [00:03<00:00, 67.82it/s]\n"
          ]
        },
        {
          "name": "stdout",
          "output_type": "stream",
          "text": [
            "[MoviePy] Done.\n",
            "[MoviePy] >>>> Video ready: /content/drive/MyDrive/gp/The Girl Who Believes in Miracles/clip/522.mp4 \n",
            "\n",
            "522번째 클립 저장 완료\n",
            "[MoviePy] >>>> Building video /content/drive/MyDrive/gp/The Girl Who Believes in Miracles/clip/523.mp4\n",
            "[MoviePy] Writing audio in 523TEMP_MPY_wvf_snd.mp3\n"
          ]
        },
        {
          "name": "stderr",
          "output_type": "stream",
          "text": [
            "100%|██████████| 221/221 [00:00<00:00, 467.22it/s]"
          ]
        },
        {
          "name": "stdout",
          "output_type": "stream",
          "text": [
            "[MoviePy] Done.\n",
            "[MoviePy] Writing video /content/drive/MyDrive/gp/The Girl Who Believes in Miracles/clip/523.mp4\n"
          ]
        },
        {
          "name": "stderr",
          "output_type": "stream",
          "text": [
            "\n",
            "100%|██████████| 240/240 [00:03<00:00, 69.56it/s]\n"
          ]
        },
        {
          "name": "stdout",
          "output_type": "stream",
          "text": [
            "[MoviePy] Done.\n",
            "[MoviePy] >>>> Video ready: /content/drive/MyDrive/gp/The Girl Who Believes in Miracles/clip/523.mp4 \n",
            "\n",
            "523번째 클립 저장 완료\n",
            "[MoviePy] >>>> Building video /content/drive/MyDrive/gp/The Girl Who Believes in Miracles/clip/524.mp4\n",
            "[MoviePy] Writing audio in 524TEMP_MPY_wvf_snd.mp3\n"
          ]
        },
        {
          "name": "stderr",
          "output_type": "stream",
          "text": [
            "100%|██████████| 221/221 [00:00<00:00, 480.90it/s]"
          ]
        },
        {
          "name": "stdout",
          "output_type": "stream",
          "text": [
            "[MoviePy] Done.\n",
            "[MoviePy] Writing video /content/drive/MyDrive/gp/The Girl Who Believes in Miracles/clip/524.mp4\n"
          ]
        },
        {
          "name": "stderr",
          "output_type": "stream",
          "text": [
            "\n",
            "100%|██████████| 240/240 [00:03<00:00, 70.25it/s]\n"
          ]
        },
        {
          "name": "stdout",
          "output_type": "stream",
          "text": [
            "[MoviePy] Done.\n",
            "[MoviePy] >>>> Video ready: /content/drive/MyDrive/gp/The Girl Who Believes in Miracles/clip/524.mp4 \n",
            "\n",
            "524번째 클립 저장 완료\n",
            "[MoviePy] >>>> Building video /content/drive/MyDrive/gp/The Girl Who Believes in Miracles/clip/525.mp4\n",
            "[MoviePy] Writing audio in 525TEMP_MPY_wvf_snd.mp3\n"
          ]
        },
        {
          "name": "stderr",
          "output_type": "stream",
          "text": [
            "100%|██████████| 221/221 [00:00<00:00, 462.70it/s]"
          ]
        },
        {
          "name": "stdout",
          "output_type": "stream",
          "text": [
            "[MoviePy] Done.\n",
            "[MoviePy] Writing video /content/drive/MyDrive/gp/The Girl Who Believes in Miracles/clip/525.mp4\n"
          ]
        },
        {
          "name": "stderr",
          "output_type": "stream",
          "text": [
            "\n",
            "100%|██████████| 240/240 [00:03<00:00, 77.57it/s]\n"
          ]
        },
        {
          "name": "stdout",
          "output_type": "stream",
          "text": [
            "[MoviePy] Done.\n",
            "[MoviePy] >>>> Video ready: /content/drive/MyDrive/gp/The Girl Who Believes in Miracles/clip/525.mp4 \n",
            "\n",
            "525번째 클립 저장 완료\n",
            "[MoviePy] >>>> Building video /content/drive/MyDrive/gp/The Girl Who Believes in Miracles/clip/526.mp4\n",
            "[MoviePy] Writing audio in 526TEMP_MPY_wvf_snd.mp3\n"
          ]
        },
        {
          "name": "stderr",
          "output_type": "stream",
          "text": [
            "100%|██████████| 221/221 [00:00<00:00, 468.57it/s]"
          ]
        },
        {
          "name": "stdout",
          "output_type": "stream",
          "text": [
            "[MoviePy] Done.\n"
          ]
        },
        {
          "name": "stderr",
          "output_type": "stream",
          "text": [
            "\n"
          ]
        },
        {
          "name": "stdout",
          "output_type": "stream",
          "text": [
            "[MoviePy] Writing video /content/drive/MyDrive/gp/The Girl Who Believes in Miracles/clip/526.mp4\n"
          ]
        },
        {
          "name": "stderr",
          "output_type": "stream",
          "text": [
            "100%|██████████| 240/240 [00:03<00:00, 67.38it/s]\n"
          ]
        },
        {
          "name": "stdout",
          "output_type": "stream",
          "text": [
            "[MoviePy] Done.\n",
            "[MoviePy] >>>> Video ready: /content/drive/MyDrive/gp/The Girl Who Believes in Miracles/clip/526.mp4 \n",
            "\n",
            "526번째 클립 저장 완료\n",
            "[MoviePy] >>>> Building video /content/drive/MyDrive/gp/The Girl Who Believes in Miracles/clip/527.mp4\n",
            "[MoviePy] Writing audio in 527TEMP_MPY_wvf_snd.mp3\n"
          ]
        },
        {
          "name": "stderr",
          "output_type": "stream",
          "text": [
            "100%|██████████| 221/221 [00:00<00:00, 461.17it/s]\n"
          ]
        },
        {
          "name": "stdout",
          "output_type": "stream",
          "text": [
            "[MoviePy] Done.\n",
            "[MoviePy] Writing video /content/drive/MyDrive/gp/The Girl Who Believes in Miracles/clip/527.mp4\n"
          ]
        },
        {
          "name": "stderr",
          "output_type": "stream",
          "text": [
            "100%|██████████| 240/240 [00:04<00:00, 55.72it/s]\n"
          ]
        },
        {
          "name": "stdout",
          "output_type": "stream",
          "text": [
            "[MoviePy] Done.\n",
            "[MoviePy] >>>> Video ready: /content/drive/MyDrive/gp/The Girl Who Believes in Miracles/clip/527.mp4 \n",
            "\n",
            "527번째 클립 저장 완료\n",
            "[MoviePy] >>>> Building video /content/drive/MyDrive/gp/The Girl Who Believes in Miracles/clip/528.mp4\n",
            "[MoviePy] Writing audio in 528TEMP_MPY_wvf_snd.mp3\n"
          ]
        },
        {
          "name": "stderr",
          "output_type": "stream",
          "text": [
            "100%|██████████| 221/221 [00:00<00:00, 468.69it/s]"
          ]
        },
        {
          "name": "stdout",
          "output_type": "stream",
          "text": [
            "[MoviePy] Done.\n"
          ]
        },
        {
          "name": "stderr",
          "output_type": "stream",
          "text": [
            "\n"
          ]
        },
        {
          "name": "stdout",
          "output_type": "stream",
          "text": [
            "[MoviePy] Writing video /content/drive/MyDrive/gp/The Girl Who Believes in Miracles/clip/528.mp4\n"
          ]
        },
        {
          "name": "stderr",
          "output_type": "stream",
          "text": [
            "100%|██████████| 240/240 [00:04<00:00, 56.41it/s]\n"
          ]
        },
        {
          "name": "stdout",
          "output_type": "stream",
          "text": [
            "[MoviePy] Done.\n",
            "[MoviePy] >>>> Video ready: /content/drive/MyDrive/gp/The Girl Who Believes in Miracles/clip/528.mp4 \n",
            "\n",
            "528번째 클립 저장 완료\n",
            "[MoviePy] >>>> Building video /content/drive/MyDrive/gp/The Girl Who Believes in Miracles/clip/529.mp4\n",
            "[MoviePy] Writing audio in 529TEMP_MPY_wvf_snd.mp3\n"
          ]
        },
        {
          "name": "stderr",
          "output_type": "stream",
          "text": [
            "100%|██████████| 221/221 [00:00<00:00, 470.65it/s]"
          ]
        },
        {
          "name": "stdout",
          "output_type": "stream",
          "text": [
            "[MoviePy] Done.\n",
            "[MoviePy] Writing video /content/drive/MyDrive/gp/The Girl Who Believes in Miracles/clip/529.mp4\n"
          ]
        },
        {
          "name": "stderr",
          "output_type": "stream",
          "text": [
            "\n",
            "100%|██████████| 240/240 [00:06<00:00, 38.75it/s]\n"
          ]
        },
        {
          "name": "stdout",
          "output_type": "stream",
          "text": [
            "[MoviePy] Done.\n",
            "[MoviePy] >>>> Video ready: /content/drive/MyDrive/gp/The Girl Who Believes in Miracles/clip/529.mp4 \n",
            "\n",
            "529번째 클립 저장 완료\n",
            "[MoviePy] >>>> Building video /content/drive/MyDrive/gp/The Girl Who Believes in Miracles/clip/530.mp4\n",
            "[MoviePy] Writing audio in 530TEMP_MPY_wvf_snd.mp3\n"
          ]
        },
        {
          "name": "stderr",
          "output_type": "stream",
          "text": [
            "100%|██████████| 221/221 [00:00<00:00, 292.31it/s]"
          ]
        },
        {
          "name": "stdout",
          "output_type": "stream",
          "text": [
            "[MoviePy] Done.\n",
            "[MoviePy] Writing video /content/drive/MyDrive/gp/The Girl Who Believes in Miracles/clip/530.mp4\n"
          ]
        },
        {
          "name": "stderr",
          "output_type": "stream",
          "text": [
            "\n",
            "100%|██████████| 240/240 [00:07<00:00, 32.47it/s]\n"
          ]
        },
        {
          "name": "stdout",
          "output_type": "stream",
          "text": [
            "[MoviePy] Done.\n",
            "[MoviePy] >>>> Video ready: /content/drive/MyDrive/gp/The Girl Who Believes in Miracles/clip/530.mp4 \n",
            "\n",
            "530번째 클립 저장 완료\n",
            "[MoviePy] >>>> Building video /content/drive/MyDrive/gp/The Girl Who Believes in Miracles/clip/531.mp4\n",
            "[MoviePy] Writing audio in 531TEMP_MPY_wvf_snd.mp3\n"
          ]
        },
        {
          "name": "stderr",
          "output_type": "stream",
          "text": [
            "100%|██████████| 221/221 [00:00<00:00, 298.89it/s]"
          ]
        },
        {
          "name": "stdout",
          "output_type": "stream",
          "text": [
            "[MoviePy] Done.\n",
            "[MoviePy] Writing video /content/drive/MyDrive/gp/The Girl Who Believes in Miracles/clip/531.mp4\n"
          ]
        },
        {
          "name": "stderr",
          "output_type": "stream",
          "text": [
            "\n",
            "100%|██████████| 240/240 [00:05<00:00, 40.31it/s]\n"
          ]
        },
        {
          "name": "stdout",
          "output_type": "stream",
          "text": [
            "[MoviePy] Done.\n",
            "[MoviePy] >>>> Video ready: /content/drive/MyDrive/gp/The Girl Who Believes in Miracles/clip/531.mp4 \n",
            "\n",
            "531번째 클립 저장 완료\n",
            "[MoviePy] >>>> Building video /content/drive/MyDrive/gp/The Girl Who Believes in Miracles/clip/532.mp4\n",
            "[MoviePy] Writing audio in 532TEMP_MPY_wvf_snd.mp3\n"
          ]
        },
        {
          "name": "stderr",
          "output_type": "stream",
          "text": [
            "100%|██████████| 221/221 [00:00<00:00, 297.42it/s]"
          ]
        },
        {
          "name": "stdout",
          "output_type": "stream",
          "text": [
            "[MoviePy] Done.\n",
            "[MoviePy] Writing video /content/drive/MyDrive/gp/The Girl Who Believes in Miracles/clip/532.mp4\n"
          ]
        },
        {
          "name": "stderr",
          "output_type": "stream",
          "text": [
            "\n",
            "100%|██████████| 240/240 [00:05<00:00, 46.63it/s]\n"
          ]
        },
        {
          "name": "stdout",
          "output_type": "stream",
          "text": [
            "[MoviePy] Done.\n",
            "[MoviePy] >>>> Video ready: /content/drive/MyDrive/gp/The Girl Who Believes in Miracles/clip/532.mp4 \n",
            "\n",
            "532번째 클립 저장 완료\n",
            "[MoviePy] >>>> Building video /content/drive/MyDrive/gp/The Girl Who Believes in Miracles/clip/533.mp4\n",
            "[MoviePy] Writing audio in 533TEMP_MPY_wvf_snd.mp3\n"
          ]
        },
        {
          "name": "stderr",
          "output_type": "stream",
          "text": [
            "100%|██████████| 221/221 [00:00<00:00, 444.61it/s]\n"
          ]
        },
        {
          "name": "stdout",
          "output_type": "stream",
          "text": [
            "[MoviePy] Done.\n",
            "[MoviePy] Writing video /content/drive/MyDrive/gp/The Girl Who Believes in Miracles/clip/533.mp4\n"
          ]
        },
        {
          "name": "stderr",
          "output_type": "stream",
          "text": [
            "100%|██████████| 240/240 [00:03<00:00, 79.22it/s]\n"
          ]
        },
        {
          "name": "stdout",
          "output_type": "stream",
          "text": [
            "[MoviePy] Done.\n",
            "[MoviePy] >>>> Video ready: /content/drive/MyDrive/gp/The Girl Who Believes in Miracles/clip/533.mp4 \n",
            "\n",
            "533번째 클립 저장 완료\n",
            "[MoviePy] >>>> Building video /content/drive/MyDrive/gp/The Girl Who Believes in Miracles/clip/534.mp4\n",
            "[MoviePy] Writing audio in 534TEMP_MPY_wvf_snd.mp3\n"
          ]
        },
        {
          "name": "stderr",
          "output_type": "stream",
          "text": [
            "100%|██████████| 221/221 [00:00<00:00, 462.99it/s]"
          ]
        },
        {
          "name": "stdout",
          "output_type": "stream",
          "text": [
            "[MoviePy] Done.\n",
            "[MoviePy] Writing video /content/drive/MyDrive/gp/The Girl Who Believes in Miracles/clip/534.mp4\n"
          ]
        },
        {
          "name": "stderr",
          "output_type": "stream",
          "text": [
            "\n",
            "100%|██████████| 240/240 [00:02<00:00, 80.39it/s]\n"
          ]
        },
        {
          "name": "stdout",
          "output_type": "stream",
          "text": [
            "[MoviePy] Done.\n",
            "[MoviePy] >>>> Video ready: /content/drive/MyDrive/gp/The Girl Who Believes in Miracles/clip/534.mp4 \n",
            "\n",
            "534번째 클립 저장 완료\n",
            "[MoviePy] >>>> Building video /content/drive/MyDrive/gp/The Girl Who Believes in Miracles/clip/535.mp4\n",
            "[MoviePy] Writing audio in 535TEMP_MPY_wvf_snd.mp3\n"
          ]
        },
        {
          "name": "stderr",
          "output_type": "stream",
          "text": [
            "100%|██████████| 221/221 [00:00<00:00, 443.22it/s]"
          ]
        },
        {
          "name": "stdout",
          "output_type": "stream",
          "text": [
            "[MoviePy] Done.\n",
            "[MoviePy] Writing video /content/drive/MyDrive/gp/The Girl Who Believes in Miracles/clip/535.mp4\n"
          ]
        },
        {
          "name": "stderr",
          "output_type": "stream",
          "text": [
            "\n",
            "100%|██████████| 240/240 [00:03<00:00, 71.28it/s]\n"
          ]
        },
        {
          "name": "stdout",
          "output_type": "stream",
          "text": [
            "[MoviePy] Done.\n",
            "[MoviePy] >>>> Video ready: /content/drive/MyDrive/gp/The Girl Who Believes in Miracles/clip/535.mp4 \n",
            "\n",
            "535번째 클립 저장 완료\n",
            "[MoviePy] >>>> Building video /content/drive/MyDrive/gp/The Girl Who Believes in Miracles/clip/536.mp4\n",
            "[MoviePy] Writing audio in 536TEMP_MPY_wvf_snd.mp3\n"
          ]
        },
        {
          "name": "stderr",
          "output_type": "stream",
          "text": [
            "100%|██████████| 221/221 [00:00<00:00, 474.15it/s]"
          ]
        },
        {
          "name": "stdout",
          "output_type": "stream",
          "text": [
            "[MoviePy] Done.\n",
            "[MoviePy] Writing video /content/drive/MyDrive/gp/The Girl Who Believes in Miracles/clip/536.mp4\n"
          ]
        },
        {
          "name": "stderr",
          "output_type": "stream",
          "text": [
            "\n",
            "100%|██████████| 240/240 [00:03<00:00, 67.29it/s]\n"
          ]
        },
        {
          "name": "stdout",
          "output_type": "stream",
          "text": [
            "[MoviePy] Done.\n",
            "[MoviePy] >>>> Video ready: /content/drive/MyDrive/gp/The Girl Who Believes in Miracles/clip/536.mp4 \n",
            "\n",
            "536번째 클립 저장 완료\n",
            "[MoviePy] >>>> Building video /content/drive/MyDrive/gp/The Girl Who Believes in Miracles/clip/537.mp4\n",
            "[MoviePy] Writing audio in 537TEMP_MPY_wvf_snd.mp3\n"
          ]
        },
        {
          "name": "stderr",
          "output_type": "stream",
          "text": [
            "100%|██████████| 221/221 [00:00<00:00, 465.60it/s]"
          ]
        },
        {
          "name": "stdout",
          "output_type": "stream",
          "text": [
            "[MoviePy] Done.\n",
            "[MoviePy] Writing video /content/drive/MyDrive/gp/The Girl Who Believes in Miracles/clip/537.mp4\n"
          ]
        },
        {
          "name": "stderr",
          "output_type": "stream",
          "text": [
            "\n",
            "100%|██████████| 240/240 [00:03<00:00, 71.90it/s]\n"
          ]
        },
        {
          "name": "stdout",
          "output_type": "stream",
          "text": [
            "[MoviePy] Done.\n",
            "[MoviePy] >>>> Video ready: /content/drive/MyDrive/gp/The Girl Who Believes in Miracles/clip/537.mp4 \n",
            "\n",
            "537번째 클립 저장 완료\n",
            "[MoviePy] >>>> Building video /content/drive/MyDrive/gp/The Girl Who Believes in Miracles/clip/538.mp4\n",
            "[MoviePy] Writing audio in 538TEMP_MPY_wvf_snd.mp3\n"
          ]
        },
        {
          "name": "stderr",
          "output_type": "stream",
          "text": [
            "100%|██████████| 221/221 [00:00<00:00, 457.79it/s]"
          ]
        },
        {
          "name": "stdout",
          "output_type": "stream",
          "text": [
            "[MoviePy] Done.\n",
            "[MoviePy] Writing video /content/drive/MyDrive/gp/The Girl Who Believes in Miracles/clip/538.mp4\n"
          ]
        },
        {
          "name": "stderr",
          "output_type": "stream",
          "text": [
            "\n",
            "100%|██████████| 240/240 [00:03<00:00, 73.10it/s]\n"
          ]
        },
        {
          "name": "stdout",
          "output_type": "stream",
          "text": [
            "[MoviePy] Done.\n",
            "[MoviePy] >>>> Video ready: /content/drive/MyDrive/gp/The Girl Who Believes in Miracles/clip/538.mp4 \n",
            "\n",
            "538번째 클립 저장 완료\n",
            "[MoviePy] >>>> Building video /content/drive/MyDrive/gp/The Girl Who Believes in Miracles/clip/539.mp4\n",
            "[MoviePy] Writing audio in 539TEMP_MPY_wvf_snd.mp3\n"
          ]
        },
        {
          "name": "stderr",
          "output_type": "stream",
          "text": [
            "100%|██████████| 221/221 [00:00<00:00, 439.79it/s]\n"
          ]
        },
        {
          "name": "stdout",
          "output_type": "stream",
          "text": [
            "[MoviePy] Done.\n",
            "[MoviePy] Writing video /content/drive/MyDrive/gp/The Girl Who Believes in Miracles/clip/539.mp4\n"
          ]
        },
        {
          "name": "stderr",
          "output_type": "stream",
          "text": [
            "100%|██████████| 240/240 [00:03<00:00, 75.05it/s]\n"
          ]
        },
        {
          "name": "stdout",
          "output_type": "stream",
          "text": [
            "[MoviePy] Done.\n",
            "[MoviePy] >>>> Video ready: /content/drive/MyDrive/gp/The Girl Who Believes in Miracles/clip/539.mp4 \n",
            "\n",
            "539번째 클립 저장 완료\n",
            "[MoviePy] >>>> Building video /content/drive/MyDrive/gp/The Girl Who Believes in Miracles/clip/540.mp4\n",
            "[MoviePy] Writing audio in 540TEMP_MPY_wvf_snd.mp3\n"
          ]
        },
        {
          "name": "stderr",
          "output_type": "stream",
          "text": [
            "100%|██████████| 221/221 [00:00<00:00, 467.37it/s]"
          ]
        },
        {
          "name": "stdout",
          "output_type": "stream",
          "text": [
            "[MoviePy] Done.\n",
            "[MoviePy] Writing video /content/drive/MyDrive/gp/The Girl Who Believes in Miracles/clip/540.mp4\n"
          ]
        },
        {
          "name": "stderr",
          "output_type": "stream",
          "text": [
            "\n",
            "100%|██████████| 240/240 [00:03<00:00, 74.54it/s]\n"
          ]
        },
        {
          "name": "stdout",
          "output_type": "stream",
          "text": [
            "[MoviePy] Done.\n",
            "[MoviePy] >>>> Video ready: /content/drive/MyDrive/gp/The Girl Who Believes in Miracles/clip/540.mp4 \n",
            "\n",
            "540번째 클립 저장 완료\n",
            "[MoviePy] >>>> Building video /content/drive/MyDrive/gp/The Girl Who Believes in Miracles/clip/541.mp4\n",
            "[MoviePy] Writing audio in 541TEMP_MPY_wvf_snd.mp3\n"
          ]
        },
        {
          "name": "stderr",
          "output_type": "stream",
          "text": [
            "100%|██████████| 221/221 [00:00<00:00, 467.75it/s]"
          ]
        },
        {
          "name": "stdout",
          "output_type": "stream",
          "text": [
            "[MoviePy] Done.\n"
          ]
        },
        {
          "name": "stderr",
          "output_type": "stream",
          "text": [
            "\n"
          ]
        },
        {
          "name": "stdout",
          "output_type": "stream",
          "text": [
            "[MoviePy] Writing video /content/drive/MyDrive/gp/The Girl Who Believes in Miracles/clip/541.mp4\n"
          ]
        },
        {
          "name": "stderr",
          "output_type": "stream",
          "text": [
            "100%|██████████| 240/240 [00:03<00:00, 71.29it/s]\n"
          ]
        },
        {
          "name": "stdout",
          "output_type": "stream",
          "text": [
            "[MoviePy] Done.\n",
            "[MoviePy] >>>> Video ready: /content/drive/MyDrive/gp/The Girl Who Believes in Miracles/clip/541.mp4 \n",
            "\n",
            "541번째 클립 저장 완료\n",
            "[MoviePy] >>>> Building video /content/drive/MyDrive/gp/The Girl Who Believes in Miracles/clip/542.mp4\n",
            "[MoviePy] Writing audio in 542TEMP_MPY_wvf_snd.mp3\n"
          ]
        },
        {
          "name": "stderr",
          "output_type": "stream",
          "text": [
            "100%|██████████| 221/221 [00:00<00:00, 447.17it/s]"
          ]
        },
        {
          "name": "stdout",
          "output_type": "stream",
          "text": [
            "[MoviePy] Done.\n",
            "[MoviePy] Writing video /content/drive/MyDrive/gp/The Girl Who Believes in Miracles/clip/542.mp4\n"
          ]
        },
        {
          "name": "stderr",
          "output_type": "stream",
          "text": [
            "\n",
            "100%|██████████| 240/240 [00:04<00:00, 59.68it/s]\n"
          ]
        },
        {
          "name": "stdout",
          "output_type": "stream",
          "text": [
            "[MoviePy] Done.\n",
            "[MoviePy] >>>> Video ready: /content/drive/MyDrive/gp/The Girl Who Believes in Miracles/clip/542.mp4 \n",
            "\n",
            "542번째 클립 저장 완료\n",
            "[MoviePy] >>>> Building video /content/drive/MyDrive/gp/The Girl Who Believes in Miracles/clip/543.mp4\n",
            "[MoviePy] Writing audio in 543TEMP_MPY_wvf_snd.mp3\n"
          ]
        },
        {
          "name": "stderr",
          "output_type": "stream",
          "text": [
            "100%|██████████| 221/221 [00:00<00:00, 460.35it/s]\n"
          ]
        },
        {
          "name": "stdout",
          "output_type": "stream",
          "text": [
            "[MoviePy] Done.\n",
            "[MoviePy] Writing video /content/drive/MyDrive/gp/The Girl Who Believes in Miracles/clip/543.mp4\n"
          ]
        },
        {
          "name": "stderr",
          "output_type": "stream",
          "text": [
            "100%|██████████| 240/240 [00:03<00:00, 72.39it/s]\n"
          ]
        },
        {
          "name": "stdout",
          "output_type": "stream",
          "text": [
            "[MoviePy] Done.\n",
            "[MoviePy] >>>> Video ready: /content/drive/MyDrive/gp/The Girl Who Believes in Miracles/clip/543.mp4 \n",
            "\n",
            "543번째 클립 저장 완료\n",
            "[MoviePy] >>>> Building video /content/drive/MyDrive/gp/The Girl Who Believes in Miracles/clip/544.mp4\n",
            "[MoviePy] Writing audio in 544TEMP_MPY_wvf_snd.mp3\n"
          ]
        },
        {
          "name": "stderr",
          "output_type": "stream",
          "text": [
            "100%|██████████| 221/221 [00:00<00:00, 456.91it/s]\n"
          ]
        },
        {
          "name": "stdout",
          "output_type": "stream",
          "text": [
            "[MoviePy] Done.\n",
            "[MoviePy] Writing video /content/drive/MyDrive/gp/The Girl Who Believes in Miracles/clip/544.mp4\n"
          ]
        },
        {
          "name": "stderr",
          "output_type": "stream",
          "text": [
            "100%|██████████| 240/240 [00:03<00:00, 61.67it/s]\n"
          ]
        },
        {
          "name": "stdout",
          "output_type": "stream",
          "text": [
            "[MoviePy] Done.\n",
            "[MoviePy] >>>> Video ready: /content/drive/MyDrive/gp/The Girl Who Believes in Miracles/clip/544.mp4 \n",
            "\n",
            "544번째 클립 저장 완료\n",
            "[MoviePy] >>>> Building video /content/drive/MyDrive/gp/The Girl Who Believes in Miracles/clip/545.mp4\n",
            "[MoviePy] Writing audio in 545TEMP_MPY_wvf_snd.mp3\n"
          ]
        },
        {
          "name": "stderr",
          "output_type": "stream",
          "text": [
            "100%|██████████| 221/221 [00:00<00:00, 314.78it/s]"
          ]
        },
        {
          "name": "stdout",
          "output_type": "stream",
          "text": [
            "[MoviePy] Done.\n",
            "[MoviePy] Writing video /content/drive/MyDrive/gp/The Girl Who Believes in Miracles/clip/545.mp4\n"
          ]
        },
        {
          "name": "stderr",
          "output_type": "stream",
          "text": [
            "\n",
            "100%|██████████| 240/240 [00:05<00:00, 42.47it/s]\n"
          ]
        },
        {
          "name": "stdout",
          "output_type": "stream",
          "text": [
            "[MoviePy] Done.\n",
            "[MoviePy] >>>> Video ready: /content/drive/MyDrive/gp/The Girl Who Believes in Miracles/clip/545.mp4 \n",
            "\n",
            "545번째 클립 저장 완료\n",
            "[MoviePy] >>>> Building video /content/drive/MyDrive/gp/The Girl Who Believes in Miracles/clip/546.mp4\n",
            "[MoviePy] Writing audio in 546TEMP_MPY_wvf_snd.mp3\n"
          ]
        },
        {
          "name": "stderr",
          "output_type": "stream",
          "text": [
            "100%|██████████| 221/221 [00:00<00:00, 446.55it/s]\n"
          ]
        },
        {
          "name": "stdout",
          "output_type": "stream",
          "text": [
            "[MoviePy] Done.\n",
            "[MoviePy] Writing video /content/drive/MyDrive/gp/The Girl Who Believes in Miracles/clip/546.mp4\n"
          ]
        },
        {
          "name": "stderr",
          "output_type": "stream",
          "text": [
            "100%|██████████| 240/240 [00:04<00:00, 59.19it/s]\n"
          ]
        },
        {
          "name": "stdout",
          "output_type": "stream",
          "text": [
            "[MoviePy] Done.\n",
            "[MoviePy] >>>> Video ready: /content/drive/MyDrive/gp/The Girl Who Believes in Miracles/clip/546.mp4 \n",
            "\n",
            "546번째 클립 저장 완료\n",
            "[MoviePy] >>>> Building video /content/drive/MyDrive/gp/The Girl Who Believes in Miracles/clip/547.mp4\n",
            "[MoviePy] Writing audio in 547TEMP_MPY_wvf_snd.mp3\n"
          ]
        },
        {
          "name": "stderr",
          "output_type": "stream",
          "text": [
            "100%|██████████| 221/221 [00:00<00:00, 451.03it/s]"
          ]
        },
        {
          "name": "stdout",
          "output_type": "stream",
          "text": [
            "[MoviePy] Done.\n"
          ]
        },
        {
          "name": "stderr",
          "output_type": "stream",
          "text": [
            "\n"
          ]
        },
        {
          "name": "stdout",
          "output_type": "stream",
          "text": [
            "[MoviePy] Writing video /content/drive/MyDrive/gp/The Girl Who Believes in Miracles/clip/547.mp4\n"
          ]
        },
        {
          "name": "stderr",
          "output_type": "stream",
          "text": [
            "100%|██████████| 240/240 [00:03<00:00, 68.91it/s]\n"
          ]
        },
        {
          "name": "stdout",
          "output_type": "stream",
          "text": [
            "[MoviePy] Done.\n",
            "[MoviePy] >>>> Video ready: /content/drive/MyDrive/gp/The Girl Who Believes in Miracles/clip/547.mp4 \n",
            "\n",
            "547번째 클립 저장 완료\n",
            "[MoviePy] >>>> Building video /content/drive/MyDrive/gp/The Girl Who Believes in Miracles/clip/548.mp4\n",
            "[MoviePy] Writing audio in 548TEMP_MPY_wvf_snd.mp3\n"
          ]
        },
        {
          "name": "stderr",
          "output_type": "stream",
          "text": [
            "100%|██████████| 221/221 [00:00<00:00, 469.93it/s]"
          ]
        },
        {
          "name": "stdout",
          "output_type": "stream",
          "text": [
            "[MoviePy] Done.\n",
            "[MoviePy] Writing video /content/drive/MyDrive/gp/The Girl Who Believes in Miracles/clip/548.mp4\n"
          ]
        },
        {
          "name": "stderr",
          "output_type": "stream",
          "text": [
            "\n",
            "100%|██████████| 240/240 [00:03<00:00, 65.59it/s]\n"
          ]
        },
        {
          "name": "stdout",
          "output_type": "stream",
          "text": [
            "[MoviePy] Done.\n",
            "[MoviePy] >>>> Video ready: /content/drive/MyDrive/gp/The Girl Who Believes in Miracles/clip/548.mp4 \n",
            "\n",
            "548번째 클립 저장 완료\n",
            "[MoviePy] >>>> Building video /content/drive/MyDrive/gp/The Girl Who Believes in Miracles/clip/549.mp4\n",
            "[MoviePy] Writing audio in 549TEMP_MPY_wvf_snd.mp3\n"
          ]
        },
        {
          "name": "stderr",
          "output_type": "stream",
          "text": [
            "100%|██████████| 221/221 [00:00<00:00, 448.67it/s]"
          ]
        },
        {
          "name": "stdout",
          "output_type": "stream",
          "text": [
            "[MoviePy] Done.\n",
            "[MoviePy] Writing video /content/drive/MyDrive/gp/The Girl Who Believes in Miracles/clip/549.mp4\n"
          ]
        },
        {
          "name": "stderr",
          "output_type": "stream",
          "text": [
            "\n",
            "100%|██████████| 240/240 [00:03<00:00, 75.25it/s]\n"
          ]
        },
        {
          "name": "stdout",
          "output_type": "stream",
          "text": [
            "[MoviePy] Done.\n",
            "[MoviePy] >>>> Video ready: /content/drive/MyDrive/gp/The Girl Who Believes in Miracles/clip/549.mp4 \n",
            "\n",
            "549번째 클립 저장 완료\n",
            "[MoviePy] >>>> Building video /content/drive/MyDrive/gp/The Girl Who Believes in Miracles/clip/550.mp4\n",
            "[MoviePy] Writing audio in 550TEMP_MPY_wvf_snd.mp3\n"
          ]
        },
        {
          "name": "stderr",
          "output_type": "stream",
          "text": [
            "100%|██████████| 221/221 [00:00<00:00, 453.79it/s]\n"
          ]
        },
        {
          "name": "stdout",
          "output_type": "stream",
          "text": [
            "[MoviePy] Done.\n",
            "[MoviePy] Writing video /content/drive/MyDrive/gp/The Girl Who Believes in Miracles/clip/550.mp4\n"
          ]
        },
        {
          "name": "stderr",
          "output_type": "stream",
          "text": [
            "100%|██████████| 240/240 [00:03<00:00, 71.87it/s]\n"
          ]
        },
        {
          "name": "stdout",
          "output_type": "stream",
          "text": [
            "[MoviePy] Done.\n",
            "[MoviePy] >>>> Video ready: /content/drive/MyDrive/gp/The Girl Who Believes in Miracles/clip/550.mp4 \n",
            "\n",
            "550번째 클립 저장 완료\n",
            "[MoviePy] >>>> Building video /content/drive/MyDrive/gp/The Girl Who Believes in Miracles/clip/551.mp4\n",
            "[MoviePy] Writing audio in 551TEMP_MPY_wvf_snd.mp3\n"
          ]
        },
        {
          "name": "stderr",
          "output_type": "stream",
          "text": [
            "100%|██████████| 221/221 [00:00<00:00, 460.53it/s]\n"
          ]
        },
        {
          "name": "stdout",
          "output_type": "stream",
          "text": [
            "[MoviePy] Done.\n",
            "[MoviePy] Writing video /content/drive/MyDrive/gp/The Girl Who Believes in Miracles/clip/551.mp4\n"
          ]
        },
        {
          "name": "stderr",
          "output_type": "stream",
          "text": [
            "100%|██████████| 240/240 [00:02<00:00, 82.13it/s]\n"
          ]
        },
        {
          "name": "stdout",
          "output_type": "stream",
          "text": [
            "[MoviePy] Done.\n",
            "[MoviePy] >>>> Video ready: /content/drive/MyDrive/gp/The Girl Who Believes in Miracles/clip/551.mp4 \n",
            "\n",
            "551번째 클립 저장 완료\n",
            "[MoviePy] >>>> Building video /content/drive/MyDrive/gp/The Girl Who Believes in Miracles/clip/552.mp4\n",
            "[MoviePy] Writing audio in 552TEMP_MPY_wvf_snd.mp3\n"
          ]
        },
        {
          "name": "stderr",
          "output_type": "stream",
          "text": [
            "100%|██████████| 221/221 [00:00<00:00, 473.81it/s]"
          ]
        },
        {
          "name": "stdout",
          "output_type": "stream",
          "text": [
            "[MoviePy] Done.\n",
            "[MoviePy] Writing video /content/drive/MyDrive/gp/The Girl Who Believes in Miracles/clip/552.mp4\n"
          ]
        },
        {
          "name": "stderr",
          "output_type": "stream",
          "text": [
            "\n",
            "100%|██████████| 240/240 [00:02<00:00, 89.82it/s]\n"
          ]
        },
        {
          "name": "stdout",
          "output_type": "stream",
          "text": [
            "[MoviePy] Done.\n",
            "[MoviePy] >>>> Video ready: /content/drive/MyDrive/gp/The Girl Who Believes in Miracles/clip/552.mp4 \n",
            "\n",
            "552번째 클립 저장 완료\n",
            "[MoviePy] >>>> Building video /content/drive/MyDrive/gp/The Girl Who Believes in Miracles/clip/553.mp4\n",
            "[MoviePy] Writing audio in 553TEMP_MPY_wvf_snd.mp3\n"
          ]
        },
        {
          "name": "stderr",
          "output_type": "stream",
          "text": [
            "100%|██████████| 221/221 [00:00<00:00, 452.83it/s]"
          ]
        },
        {
          "name": "stdout",
          "output_type": "stream",
          "text": [
            "[MoviePy] Done.\n",
            "[MoviePy] Writing video /content/drive/MyDrive/gp/The Girl Who Believes in Miracles/clip/553.mp4\n"
          ]
        },
        {
          "name": "stderr",
          "output_type": "stream",
          "text": [
            "\n",
            "100%|██████████| 240/240 [00:05<00:00, 46.64it/s]\n"
          ]
        },
        {
          "name": "stdout",
          "output_type": "stream",
          "text": [
            "[MoviePy] Done.\n",
            "[MoviePy] >>>> Video ready: /content/drive/MyDrive/gp/The Girl Who Believes in Miracles/clip/553.mp4 \n",
            "\n",
            "553번째 클립 저장 완료\n",
            "[MoviePy] >>>> Building video /content/drive/MyDrive/gp/The Girl Who Believes in Miracles/clip/554.mp4\n",
            "[MoviePy] Writing audio in 554TEMP_MPY_wvf_snd.mp3\n"
          ]
        },
        {
          "name": "stderr",
          "output_type": "stream",
          "text": [
            "100%|██████████| 221/221 [00:00<00:00, 304.50it/s]"
          ]
        },
        {
          "name": "stdout",
          "output_type": "stream",
          "text": [
            "[MoviePy] Done.\n",
            "[MoviePy] Writing video /content/drive/MyDrive/gp/The Girl Who Believes in Miracles/clip/554.mp4\n"
          ]
        },
        {
          "name": "stderr",
          "output_type": "stream",
          "text": [
            "\n",
            "100%|██████████| 240/240 [00:05<00:00, 42.03it/s]\n"
          ]
        },
        {
          "name": "stdout",
          "output_type": "stream",
          "text": [
            "[MoviePy] Done.\n",
            "[MoviePy] >>>> Video ready: /content/drive/MyDrive/gp/The Girl Who Believes in Miracles/clip/554.mp4 \n",
            "\n",
            "554번째 클립 저장 완료\n",
            "[MoviePy] >>>> Building video /content/drive/MyDrive/gp/The Girl Who Believes in Miracles/clip/555.mp4\n",
            "[MoviePy] Writing audio in 555TEMP_MPY_wvf_snd.mp3\n"
          ]
        },
        {
          "name": "stderr",
          "output_type": "stream",
          "text": [
            "100%|██████████| 221/221 [00:00<00:00, 283.11it/s]"
          ]
        },
        {
          "name": "stdout",
          "output_type": "stream",
          "text": [
            "[MoviePy] Done.\n",
            "[MoviePy] Writing video /content/drive/MyDrive/gp/The Girl Who Believes in Miracles/clip/555.mp4\n"
          ]
        },
        {
          "name": "stderr",
          "output_type": "stream",
          "text": [
            "\n",
            "100%|██████████| 240/240 [00:05<00:00, 45.74it/s]\n"
          ]
        },
        {
          "name": "stdout",
          "output_type": "stream",
          "text": [
            "[MoviePy] Done.\n",
            "[MoviePy] >>>> Video ready: /content/drive/MyDrive/gp/The Girl Who Believes in Miracles/clip/555.mp4 \n",
            "\n",
            "555번째 클립 저장 완료\n",
            "[MoviePy] >>>> Building video /content/drive/MyDrive/gp/The Girl Who Believes in Miracles/clip/556.mp4\n",
            "[MoviePy] Writing audio in 556TEMP_MPY_wvf_snd.mp3\n"
          ]
        },
        {
          "name": "stderr",
          "output_type": "stream",
          "text": [
            "100%|██████████| 221/221 [00:00<00:00, 462.92it/s]"
          ]
        },
        {
          "name": "stdout",
          "output_type": "stream",
          "text": [
            "[MoviePy] Done.\n",
            "[MoviePy] Writing video /content/drive/MyDrive/gp/The Girl Who Believes in Miracles/clip/556.mp4\n"
          ]
        },
        {
          "name": "stderr",
          "output_type": "stream",
          "text": [
            "\n",
            "100%|██████████| 240/240 [00:03<00:00, 71.87it/s]\n"
          ]
        },
        {
          "name": "stdout",
          "output_type": "stream",
          "text": [
            "[MoviePy] Done.\n",
            "[MoviePy] >>>> Video ready: /content/drive/MyDrive/gp/The Girl Who Believes in Miracles/clip/556.mp4 \n",
            "\n",
            "556번째 클립 저장 완료\n",
            "[MoviePy] >>>> Building video /content/drive/MyDrive/gp/The Girl Who Believes in Miracles/clip/557.mp4\n",
            "[MoviePy] Writing audio in 557TEMP_MPY_wvf_snd.mp3\n"
          ]
        },
        {
          "name": "stderr",
          "output_type": "stream",
          "text": [
            "100%|██████████| 221/221 [00:00<00:00, 452.85it/s]"
          ]
        },
        {
          "name": "stdout",
          "output_type": "stream",
          "text": [
            "[MoviePy] Done.\n",
            "[MoviePy] Writing video /content/drive/MyDrive/gp/The Girl Who Believes in Miracles/clip/557.mp4\n"
          ]
        },
        {
          "name": "stderr",
          "output_type": "stream",
          "text": [
            "\n",
            "100%|██████████| 240/240 [00:03<00:00, 75.70it/s]\n"
          ]
        },
        {
          "name": "stdout",
          "output_type": "stream",
          "text": [
            "[MoviePy] Done.\n",
            "[MoviePy] >>>> Video ready: /content/drive/MyDrive/gp/The Girl Who Believes in Miracles/clip/557.mp4 \n",
            "\n",
            "557번째 클립 저장 완료\n",
            "[MoviePy] >>>> Building video /content/drive/MyDrive/gp/The Girl Who Believes in Miracles/clip/558.mp4\n",
            "[MoviePy] Writing audio in 558TEMP_MPY_wvf_snd.mp3\n"
          ]
        },
        {
          "name": "stderr",
          "output_type": "stream",
          "text": [
            "100%|██████████| 221/221 [00:00<00:00, 451.73it/s]\n"
          ]
        },
        {
          "name": "stdout",
          "output_type": "stream",
          "text": [
            "[MoviePy] Done.\n",
            "[MoviePy] Writing video /content/drive/MyDrive/gp/The Girl Who Believes in Miracles/clip/558.mp4\n"
          ]
        },
        {
          "name": "stderr",
          "output_type": "stream",
          "text": [
            "100%|██████████| 240/240 [00:03<00:00, 74.57it/s]\n"
          ]
        },
        {
          "name": "stdout",
          "output_type": "stream",
          "text": [
            "[MoviePy] Done.\n",
            "[MoviePy] >>>> Video ready: /content/drive/MyDrive/gp/The Girl Who Believes in Miracles/clip/558.mp4 \n",
            "\n",
            "558번째 클립 저장 완료\n",
            "[MoviePy] >>>> Building video /content/drive/MyDrive/gp/The Girl Who Believes in Miracles/clip/559.mp4\n",
            "[MoviePy] Writing audio in 559TEMP_MPY_wvf_snd.mp3\n"
          ]
        },
        {
          "name": "stderr",
          "output_type": "stream",
          "text": [
            "100%|██████████| 221/221 [00:00<00:00, 467.46it/s]"
          ]
        },
        {
          "name": "stdout",
          "output_type": "stream",
          "text": [
            "[MoviePy] Done.\n",
            "[MoviePy] Writing video /content/drive/MyDrive/gp/The Girl Who Believes in Miracles/clip/559.mp4\n"
          ]
        },
        {
          "name": "stderr",
          "output_type": "stream",
          "text": [
            "\n",
            "100%|██████████| 240/240 [00:03<00:00, 73.60it/s]\n"
          ]
        },
        {
          "name": "stdout",
          "output_type": "stream",
          "text": [
            "[MoviePy] Done.\n",
            "[MoviePy] >>>> Video ready: /content/drive/MyDrive/gp/The Girl Who Believes in Miracles/clip/559.mp4 \n",
            "\n",
            "559번째 클립 저장 완료\n",
            "[MoviePy] >>>> Building video /content/drive/MyDrive/gp/The Girl Who Believes in Miracles/clip/560.mp4\n",
            "[MoviePy] Writing audio in 560TEMP_MPY_wvf_snd.mp3\n"
          ]
        },
        {
          "name": "stderr",
          "output_type": "stream",
          "text": [
            "100%|██████████| 221/221 [00:00<00:00, 460.05it/s]"
          ]
        },
        {
          "name": "stdout",
          "output_type": "stream",
          "text": [
            "[MoviePy] Done.\n",
            "[MoviePy] Writing video /content/drive/MyDrive/gp/The Girl Who Believes in Miracles/clip/560.mp4\n"
          ]
        },
        {
          "name": "stderr",
          "output_type": "stream",
          "text": [
            "\n",
            "100%|██████████| 240/240 [00:03<00:00, 73.85it/s]\n"
          ]
        },
        {
          "name": "stdout",
          "output_type": "stream",
          "text": [
            "[MoviePy] Done.\n",
            "[MoviePy] >>>> Video ready: /content/drive/MyDrive/gp/The Girl Who Believes in Miracles/clip/560.mp4 \n",
            "\n",
            "560번째 클립 저장 완료\n",
            "[MoviePy] >>>> Building video /content/drive/MyDrive/gp/The Girl Who Believes in Miracles/clip/561.mp4\n",
            "[MoviePy] Writing audio in 561TEMP_MPY_wvf_snd.mp3\n"
          ]
        },
        {
          "name": "stderr",
          "output_type": "stream",
          "text": [
            "100%|██████████| 221/221 [00:00<00:00, 456.42it/s]\n"
          ]
        },
        {
          "name": "stdout",
          "output_type": "stream",
          "text": [
            "[MoviePy] Done.\n",
            "[MoviePy] Writing video /content/drive/MyDrive/gp/The Girl Who Believes in Miracles/clip/561.mp4\n"
          ]
        },
        {
          "name": "stderr",
          "output_type": "stream",
          "text": [
            "100%|██████████| 240/240 [00:03<00:00, 65.69it/s]\n"
          ]
        },
        {
          "name": "stdout",
          "output_type": "stream",
          "text": [
            "[MoviePy] Done.\n",
            "[MoviePy] >>>> Video ready: /content/drive/MyDrive/gp/The Girl Who Believes in Miracles/clip/561.mp4 \n",
            "\n",
            "561번째 클립 저장 완료\n",
            "[MoviePy] >>>> Building video /content/drive/MyDrive/gp/The Girl Who Believes in Miracles/clip/562.mp4\n",
            "[MoviePy] Writing audio in 562TEMP_MPY_wvf_snd.mp3\n"
          ]
        },
        {
          "name": "stderr",
          "output_type": "stream",
          "text": [
            "100%|██████████| 221/221 [00:00<00:00, 459.85it/s]\n"
          ]
        },
        {
          "name": "stdout",
          "output_type": "stream",
          "text": [
            "[MoviePy] Done.\n",
            "[MoviePy] Writing video /content/drive/MyDrive/gp/The Girl Who Believes in Miracles/clip/562.mp4\n"
          ]
        },
        {
          "name": "stderr",
          "output_type": "stream",
          "text": [
            "100%|██████████| 240/240 [00:03<00:00, 63.89it/s]\n"
          ]
        },
        {
          "name": "stdout",
          "output_type": "stream",
          "text": [
            "[MoviePy] Done.\n",
            "[MoviePy] >>>> Video ready: /content/drive/MyDrive/gp/The Girl Who Believes in Miracles/clip/562.mp4 \n",
            "\n",
            "562번째 클립 저장 완료\n",
            "[MoviePy] >>>> Building video /content/drive/MyDrive/gp/The Girl Who Believes in Miracles/clip/563.mp4\n",
            "[MoviePy] Writing audio in 563TEMP_MPY_wvf_snd.mp3\n"
          ]
        },
        {
          "name": "stderr",
          "output_type": "stream",
          "text": [
            "100%|██████████| 221/221 [00:00<00:00, 466.93it/s]"
          ]
        },
        {
          "name": "stdout",
          "output_type": "stream",
          "text": [
            "[MoviePy] Done.\n"
          ]
        },
        {
          "name": "stderr",
          "output_type": "stream",
          "text": [
            "\n"
          ]
        },
        {
          "name": "stdout",
          "output_type": "stream",
          "text": [
            "[MoviePy] Writing video /content/drive/MyDrive/gp/The Girl Who Believes in Miracles/clip/563.mp4\n"
          ]
        },
        {
          "name": "stderr",
          "output_type": "stream",
          "text": [
            "100%|██████████| 240/240 [00:03<00:00, 70.73it/s]\n"
          ]
        },
        {
          "name": "stdout",
          "output_type": "stream",
          "text": [
            "[MoviePy] Done.\n",
            "[MoviePy] >>>> Video ready: /content/drive/MyDrive/gp/The Girl Who Believes in Miracles/clip/563.mp4 \n",
            "\n",
            "563번째 클립 저장 완료\n",
            "[MoviePy] >>>> Building video /content/drive/MyDrive/gp/The Girl Who Believes in Miracles/clip/564.mp4\n",
            "[MoviePy] Writing audio in 564TEMP_MPY_wvf_snd.mp3\n"
          ]
        },
        {
          "name": "stderr",
          "output_type": "stream",
          "text": [
            "100%|██████████| 221/221 [00:00<00:00, 459.25it/s]"
          ]
        },
        {
          "name": "stdout",
          "output_type": "stream",
          "text": [
            "[MoviePy] Done.\n",
            "[MoviePy] Writing video /content/drive/MyDrive/gp/The Girl Who Believes in Miracles/clip/564.mp4\n"
          ]
        },
        {
          "name": "stderr",
          "output_type": "stream",
          "text": [
            "\n",
            "100%|██████████| 240/240 [00:03<00:00, 65.42it/s]\n"
          ]
        },
        {
          "name": "stdout",
          "output_type": "stream",
          "text": [
            "[MoviePy] Done.\n",
            "[MoviePy] >>>> Video ready: /content/drive/MyDrive/gp/The Girl Who Believes in Miracles/clip/564.mp4 \n",
            "\n",
            "564번째 클립 저장 완료\n",
            "[MoviePy] >>>> Building video /content/drive/MyDrive/gp/The Girl Who Believes in Miracles/clip/565.mp4\n",
            "[MoviePy] Writing audio in 565TEMP_MPY_wvf_snd.mp3\n"
          ]
        },
        {
          "name": "stderr",
          "output_type": "stream",
          "text": [
            "100%|██████████| 221/221 [00:00<00:00, 467.88it/s]\n"
          ]
        },
        {
          "name": "stdout",
          "output_type": "stream",
          "text": [
            "[MoviePy] Done.\n",
            "[MoviePy] Writing video /content/drive/MyDrive/gp/The Girl Who Believes in Miracles/clip/565.mp4\n"
          ]
        },
        {
          "name": "stderr",
          "output_type": "stream",
          "text": [
            "100%|██████████| 240/240 [00:03<00:00, 68.49it/s]\n"
          ]
        },
        {
          "name": "stdout",
          "output_type": "stream",
          "text": [
            "[MoviePy] Done.\n",
            "[MoviePy] >>>> Video ready: /content/drive/MyDrive/gp/The Girl Who Believes in Miracles/clip/565.mp4 \n",
            "\n",
            "565번째 클립 저장 완료\n",
            "[MoviePy] >>>> Building video /content/drive/MyDrive/gp/The Girl Who Believes in Miracles/clip/566.mp4\n",
            "[MoviePy] Writing audio in 566TEMP_MPY_wvf_snd.mp3\n"
          ]
        },
        {
          "name": "stderr",
          "output_type": "stream",
          "text": [
            "100%|██████████| 221/221 [00:00<00:00, 467.78it/s]"
          ]
        },
        {
          "name": "stdout",
          "output_type": "stream",
          "text": [
            "[MoviePy] Done.\n",
            "[MoviePy] Writing video /content/drive/MyDrive/gp/The Girl Who Believes in Miracles/clip/566.mp4\n"
          ]
        },
        {
          "name": "stderr",
          "output_type": "stream",
          "text": [
            "\n",
            "100%|██████████| 240/240 [00:02<00:00, 82.81it/s]\n"
          ]
        },
        {
          "name": "stdout",
          "output_type": "stream",
          "text": [
            "[MoviePy] Done.\n",
            "[MoviePy] >>>> Video ready: /content/drive/MyDrive/gp/The Girl Who Believes in Miracles/clip/566.mp4 \n",
            "\n",
            "566번째 클립 저장 완료\n",
            "[MoviePy] >>>> Building video /content/drive/MyDrive/gp/The Girl Who Believes in Miracles/clip/567.mp4\n",
            "[MoviePy] Writing audio in 567TEMP_MPY_wvf_snd.mp3\n"
          ]
        },
        {
          "name": "stderr",
          "output_type": "stream",
          "text": [
            "100%|██████████| 221/221 [00:00<00:00, 445.06it/s]\n"
          ]
        },
        {
          "name": "stdout",
          "output_type": "stream",
          "text": [
            "[MoviePy] Done.\n",
            "[MoviePy] Writing video /content/drive/MyDrive/gp/The Girl Who Believes in Miracles/clip/567.mp4\n"
          ]
        },
        {
          "name": "stderr",
          "output_type": "stream",
          "text": [
            "100%|██████████| 240/240 [00:03<00:00, 75.32it/s]\n"
          ]
        },
        {
          "name": "stdout",
          "output_type": "stream",
          "text": [
            "[MoviePy] Done.\n",
            "[MoviePy] >>>> Video ready: /content/drive/MyDrive/gp/The Girl Who Believes in Miracles/clip/567.mp4 \n",
            "\n",
            "567번째 클립 저장 완료\n",
            "[MoviePy] >>>> Building video /content/drive/MyDrive/gp/The Girl Who Believes in Miracles/clip/568.mp4\n",
            "[MoviePy] Writing audio in 568TEMP_MPY_wvf_snd.mp3\n"
          ]
        },
        {
          "name": "stderr",
          "output_type": "stream",
          "text": [
            "100%|██████████| 221/221 [00:00<00:00, 456.20it/s]\n"
          ]
        },
        {
          "name": "stdout",
          "output_type": "stream",
          "text": [
            "[MoviePy] Done.\n",
            "[MoviePy] Writing video /content/drive/MyDrive/gp/The Girl Who Believes in Miracles/clip/568.mp4\n"
          ]
        },
        {
          "name": "stderr",
          "output_type": "stream",
          "text": [
            "100%|██████████| 240/240 [00:03<00:00, 71.66it/s]\n"
          ]
        },
        {
          "name": "stdout",
          "output_type": "stream",
          "text": [
            "[MoviePy] Done.\n",
            "[MoviePy] >>>> Video ready: /content/drive/MyDrive/gp/The Girl Who Believes in Miracles/clip/568.mp4 \n",
            "\n",
            "568번째 클립 저장 완료\n",
            "[MoviePy] >>>> Building video /content/drive/MyDrive/gp/The Girl Who Believes in Miracles/clip/569.mp4\n",
            "[MoviePy] Writing audio in 569TEMP_MPY_wvf_snd.mp3\n"
          ]
        },
        {
          "name": "stderr",
          "output_type": "stream",
          "text": [
            "100%|██████████| 221/221 [00:00<00:00, 481.05it/s]"
          ]
        },
        {
          "name": "stdout",
          "output_type": "stream",
          "text": [
            "[MoviePy] Done.\n",
            "[MoviePy] Writing video /content/drive/MyDrive/gp/The Girl Who Believes in Miracles/clip/569.mp4\n"
          ]
        },
        {
          "name": "stderr",
          "output_type": "stream",
          "text": [
            "\n",
            "100%|██████████| 240/240 [00:03<00:00, 75.10it/s]\n"
          ]
        },
        {
          "name": "stdout",
          "output_type": "stream",
          "text": [
            "[MoviePy] Done.\n",
            "[MoviePy] >>>> Video ready: /content/drive/MyDrive/gp/The Girl Who Believes in Miracles/clip/569.mp4 \n",
            "\n",
            "569번째 클립 저장 완료\n",
            "[MoviePy] >>>> Building video /content/drive/MyDrive/gp/The Girl Who Believes in Miracles/clip/570.mp4\n",
            "[MoviePy] Writing audio in 570TEMP_MPY_wvf_snd.mp3\n"
          ]
        },
        {
          "name": "stderr",
          "output_type": "stream",
          "text": [
            "100%|██████████| 221/221 [00:00<00:00, 460.52it/s]"
          ]
        },
        {
          "name": "stdout",
          "output_type": "stream",
          "text": [
            "[MoviePy] Done.\n"
          ]
        },
        {
          "name": "stderr",
          "output_type": "stream",
          "text": [
            "\n"
          ]
        },
        {
          "name": "stdout",
          "output_type": "stream",
          "text": [
            "[MoviePy] Writing video /content/drive/MyDrive/gp/The Girl Who Believes in Miracles/clip/570.mp4\n"
          ]
        },
        {
          "name": "stderr",
          "output_type": "stream",
          "text": [
            "100%|██████████| 240/240 [00:03<00:00, 78.98it/s]\n"
          ]
        },
        {
          "name": "stdout",
          "output_type": "stream",
          "text": [
            "[MoviePy] Done.\n",
            "[MoviePy] >>>> Video ready: /content/drive/MyDrive/gp/The Girl Who Believes in Miracles/clip/570.mp4 \n",
            "\n",
            "570번째 클립 저장 완료\n",
            "[MoviePy] >>>> Building video /content/drive/MyDrive/gp/The Girl Who Believes in Miracles/clip/571.mp4\n",
            "[MoviePy] Writing audio in 571TEMP_MPY_wvf_snd.mp3\n"
          ]
        },
        {
          "name": "stderr",
          "output_type": "stream",
          "text": [
            "100%|██████████| 221/221 [00:00<00:00, 463.01it/s]"
          ]
        },
        {
          "name": "stdout",
          "output_type": "stream",
          "text": [
            "[MoviePy] Done.\n",
            "[MoviePy] Writing video /content/drive/MyDrive/gp/The Girl Who Believes in Miracles/clip/571.mp4\n"
          ]
        },
        {
          "name": "stderr",
          "output_type": "stream",
          "text": [
            "\n",
            "100%|██████████| 240/240 [00:03<00:00, 66.18it/s]\n"
          ]
        },
        {
          "name": "stdout",
          "output_type": "stream",
          "text": [
            "[MoviePy] Done.\n",
            "[MoviePy] >>>> Video ready: /content/drive/MyDrive/gp/The Girl Who Believes in Miracles/clip/571.mp4 \n",
            "\n",
            "571번째 클립 저장 완료\n",
            "[MoviePy] >>>> Building video /content/drive/MyDrive/gp/The Girl Who Believes in Miracles/clip/572.mp4\n",
            "[MoviePy] Writing audio in 572TEMP_MPY_wvf_snd.mp3\n"
          ]
        },
        {
          "name": "stderr",
          "output_type": "stream",
          "text": [
            "100%|██████████| 221/221 [00:00<00:00, 467.96it/s]"
          ]
        },
        {
          "name": "stdout",
          "output_type": "stream",
          "text": [
            "[MoviePy] Done.\n",
            "[MoviePy] Writing video /content/drive/MyDrive/gp/The Girl Who Believes in Miracles/clip/572.mp4\n"
          ]
        },
        {
          "name": "stderr",
          "output_type": "stream",
          "text": [
            "\n",
            "100%|██████████| 240/240 [00:03<00:00, 61.46it/s]\n"
          ]
        },
        {
          "name": "stdout",
          "output_type": "stream",
          "text": [
            "[MoviePy] Done.\n",
            "[MoviePy] >>>> Video ready: /content/drive/MyDrive/gp/The Girl Who Believes in Miracles/clip/572.mp4 \n",
            "\n",
            "572번째 클립 저장 완료\n",
            "[MoviePy] >>>> Building video /content/drive/MyDrive/gp/The Girl Who Believes in Miracles/clip/573.mp4\n",
            "[MoviePy] Writing audio in 573TEMP_MPY_wvf_snd.mp3\n"
          ]
        },
        {
          "name": "stderr",
          "output_type": "stream",
          "text": [
            "100%|██████████| 221/221 [00:00<00:00, 462.84it/s]\n"
          ]
        },
        {
          "name": "stdout",
          "output_type": "stream",
          "text": [
            "[MoviePy] Done.\n",
            "[MoviePy] Writing video /content/drive/MyDrive/gp/The Girl Who Believes in Miracles/clip/573.mp4\n"
          ]
        },
        {
          "name": "stderr",
          "output_type": "stream",
          "text": [
            "100%|██████████| 240/240 [00:03<00:00, 62.92it/s]\n"
          ]
        },
        {
          "name": "stdout",
          "output_type": "stream",
          "text": [
            "[MoviePy] Done.\n",
            "[MoviePy] >>>> Video ready: /content/drive/MyDrive/gp/The Girl Who Believes in Miracles/clip/573.mp4 \n",
            "\n",
            "573번째 클립 저장 완료\n",
            "[MoviePy] >>>> Building video /content/drive/MyDrive/gp/The Girl Who Believes in Miracles/clip/574.mp4\n",
            "[MoviePy] Writing audio in 574TEMP_MPY_wvf_snd.mp3\n"
          ]
        },
        {
          "name": "stderr",
          "output_type": "stream",
          "text": [
            "100%|██████████| 221/221 [00:00<00:00, 442.17it/s]"
          ]
        },
        {
          "name": "stdout",
          "output_type": "stream",
          "text": [
            "[MoviePy] Done.\n",
            "[MoviePy] Writing video /content/drive/MyDrive/gp/The Girl Who Believes in Miracles/clip/574.mp4\n"
          ]
        },
        {
          "name": "stderr",
          "output_type": "stream",
          "text": [
            "\n",
            "100%|██████████| 240/240 [00:03<00:00, 66.50it/s]\n"
          ]
        },
        {
          "name": "stdout",
          "output_type": "stream",
          "text": [
            "[MoviePy] Done.\n",
            "[MoviePy] >>>> Video ready: /content/drive/MyDrive/gp/The Girl Who Believes in Miracles/clip/574.mp4 \n",
            "\n",
            "574번째 클립 저장 완료\n",
            "[MoviePy] >>>> Building video /content/drive/MyDrive/gp/The Girl Who Believes in Miracles/clip/575.mp4\n",
            "[MoviePy] Writing audio in 575TEMP_MPY_wvf_snd.mp3\n"
          ]
        },
        {
          "name": "stderr",
          "output_type": "stream",
          "text": [
            "100%|██████████| 221/221 [00:00<00:00, 461.62it/s]\n"
          ]
        },
        {
          "name": "stdout",
          "output_type": "stream",
          "text": [
            "[MoviePy] Done.\n",
            "[MoviePy] Writing video /content/drive/MyDrive/gp/The Girl Who Believes in Miracles/clip/575.mp4\n"
          ]
        },
        {
          "name": "stderr",
          "output_type": "stream",
          "text": [
            "100%|██████████| 240/240 [00:03<00:00, 71.79it/s]\n"
          ]
        },
        {
          "name": "stdout",
          "output_type": "stream",
          "text": [
            "[MoviePy] Done.\n",
            "[MoviePy] >>>> Video ready: /content/drive/MyDrive/gp/The Girl Who Believes in Miracles/clip/575.mp4 \n",
            "\n",
            "575번째 클립 저장 완료\n",
            "[MoviePy] >>>> Building video /content/drive/MyDrive/gp/The Girl Who Believes in Miracles/clip/576.mp4\n",
            "[MoviePy] Writing audio in 576TEMP_MPY_wvf_snd.mp3\n"
          ]
        },
        {
          "name": "stderr",
          "output_type": "stream",
          "text": [
            "100%|██████████| 221/221 [00:00<00:00, 446.24it/s]"
          ]
        },
        {
          "name": "stdout",
          "output_type": "stream",
          "text": [
            "[MoviePy] Done.\n",
            "[MoviePy] Writing video /content/drive/MyDrive/gp/The Girl Who Believes in Miracles/clip/576.mp4\n"
          ]
        },
        {
          "name": "stderr",
          "output_type": "stream",
          "text": [
            "\n",
            "100%|██████████| 240/240 [00:03<00:00, 66.61it/s]\n"
          ]
        },
        {
          "name": "stdout",
          "output_type": "stream",
          "text": [
            "[MoviePy] Done.\n",
            "[MoviePy] >>>> Video ready: /content/drive/MyDrive/gp/The Girl Who Believes in Miracles/clip/576.mp4 \n",
            "\n",
            "576번째 클립 저장 완료\n",
            "[MoviePy] >>>> Building video /content/drive/MyDrive/gp/The Girl Who Believes in Miracles/clip/577.mp4\n",
            "[MoviePy] Writing audio in 577TEMP_MPY_wvf_snd.mp3\n"
          ]
        },
        {
          "name": "stderr",
          "output_type": "stream",
          "text": [
            "100%|██████████| 221/221 [00:00<00:00, 423.48it/s]"
          ]
        },
        {
          "name": "stdout",
          "output_type": "stream",
          "text": [
            "[MoviePy] Done.\n",
            "[MoviePy] Writing video /content/drive/MyDrive/gp/The Girl Who Believes in Miracles/clip/577.mp4\n"
          ]
        },
        {
          "name": "stderr",
          "output_type": "stream",
          "text": [
            "\n",
            "100%|██████████| 240/240 [00:04<00:00, 58.94it/s]\n"
          ]
        },
        {
          "name": "stdout",
          "output_type": "stream",
          "text": [
            "[MoviePy] Done.\n",
            "[MoviePy] >>>> Video ready: /content/drive/MyDrive/gp/The Girl Who Believes in Miracles/clip/577.mp4 \n",
            "\n",
            "577번째 클립 저장 완료\n",
            "[MoviePy] >>>> Building video /content/drive/MyDrive/gp/The Girl Who Believes in Miracles/clip/578.mp4\n",
            "[MoviePy] Writing audio in 578TEMP_MPY_wvf_snd.mp3\n"
          ]
        },
        {
          "name": "stderr",
          "output_type": "stream",
          "text": [
            "100%|██████████| 221/221 [00:00<00:00, 286.08it/s]\n"
          ]
        },
        {
          "name": "stdout",
          "output_type": "stream",
          "text": [
            "[MoviePy] Done.\n",
            "[MoviePy] Writing video /content/drive/MyDrive/gp/The Girl Who Believes in Miracles/clip/578.mp4\n"
          ]
        },
        {
          "name": "stderr",
          "output_type": "stream",
          "text": [
            "100%|██████████| 240/240 [00:07<00:00, 33.21it/s]\n"
          ]
        },
        {
          "name": "stdout",
          "output_type": "stream",
          "text": [
            "[MoviePy] Done.\n",
            "[MoviePy] >>>> Video ready: /content/drive/MyDrive/gp/The Girl Who Believes in Miracles/clip/578.mp4 \n",
            "\n",
            "578번째 클립 저장 완료\n",
            "[MoviePy] >>>> Building video /content/drive/MyDrive/gp/The Girl Who Believes in Miracles/clip/579.mp4\n",
            "[MoviePy] Writing audio in 579TEMP_MPY_wvf_snd.mp3\n"
          ]
        },
        {
          "name": "stderr",
          "output_type": "stream",
          "text": [
            "100%|██████████| 221/221 [00:00<00:00, 287.74it/s]\n"
          ]
        },
        {
          "name": "stdout",
          "output_type": "stream",
          "text": [
            "[MoviePy] Done.\n",
            "[MoviePy] Writing video /content/drive/MyDrive/gp/The Girl Who Believes in Miracles/clip/579.mp4\n"
          ]
        },
        {
          "name": "stderr",
          "output_type": "stream",
          "text": [
            "100%|██████████| 240/240 [00:06<00:00, 35.96it/s]\n"
          ]
        },
        {
          "name": "stdout",
          "output_type": "stream",
          "text": [
            "[MoviePy] Done.\n",
            "[MoviePy] >>>> Video ready: /content/drive/MyDrive/gp/The Girl Who Believes in Miracles/clip/579.mp4 \n",
            "\n",
            "579번째 클립 저장 완료\n",
            "[MoviePy] >>>> Building video /content/drive/MyDrive/gp/The Girl Who Believes in Miracles/clip/580.mp4\n",
            "[MoviePy] Writing audio in 580TEMP_MPY_wvf_snd.mp3\n"
          ]
        },
        {
          "name": "stderr",
          "output_type": "stream",
          "text": [
            "100%|██████████| 221/221 [00:00<00:00, 300.95it/s]"
          ]
        },
        {
          "name": "stdout",
          "output_type": "stream",
          "text": [
            "[MoviePy] Done.\n",
            "[MoviePy] Writing video /content/drive/MyDrive/gp/The Girl Who Believes in Miracles/clip/580.mp4\n"
          ]
        },
        {
          "name": "stderr",
          "output_type": "stream",
          "text": [
            "\n",
            "100%|██████████| 240/240 [00:06<00:00, 39.38it/s]\n"
          ]
        },
        {
          "name": "stdout",
          "output_type": "stream",
          "text": [
            "[MoviePy] Done.\n",
            "[MoviePy] >>>> Video ready: /content/drive/MyDrive/gp/The Girl Who Believes in Miracles/clip/580.mp4 \n",
            "\n",
            "580번째 클립 저장 완료\n",
            "[MoviePy] >>>> Building video /content/drive/MyDrive/gp/The Girl Who Believes in Miracles/clip/581.mp4\n",
            "[MoviePy] Writing audio in 581TEMP_MPY_wvf_snd.mp3\n"
          ]
        },
        {
          "name": "stderr",
          "output_type": "stream",
          "text": [
            "100%|██████████| 221/221 [00:00<00:00, 452.41it/s]\n"
          ]
        },
        {
          "name": "stdout",
          "output_type": "stream",
          "text": [
            "[MoviePy] Done.\n",
            "[MoviePy] Writing video /content/drive/MyDrive/gp/The Girl Who Believes in Miracles/clip/581.mp4\n"
          ]
        },
        {
          "name": "stderr",
          "output_type": "stream",
          "text": [
            "100%|██████████| 240/240 [00:03<00:00, 63.73it/s]\n"
          ]
        },
        {
          "name": "stdout",
          "output_type": "stream",
          "text": [
            "[MoviePy] Done.\n",
            "[MoviePy] >>>> Video ready: /content/drive/MyDrive/gp/The Girl Who Believes in Miracles/clip/581.mp4 \n",
            "\n",
            "581번째 클립 저장 완료\n",
            "[MoviePy] >>>> Building video /content/drive/MyDrive/gp/The Girl Who Believes in Miracles/clip/582.mp4\n",
            "[MoviePy] Writing audio in 582TEMP_MPY_wvf_snd.mp3\n"
          ]
        },
        {
          "name": "stderr",
          "output_type": "stream",
          "text": [
            "100%|██████████| 221/221 [00:00<00:00, 462.28it/s]"
          ]
        },
        {
          "name": "stdout",
          "output_type": "stream",
          "text": [
            "[MoviePy] Done.\n",
            "[MoviePy] Writing video /content/drive/MyDrive/gp/The Girl Who Believes in Miracles/clip/582.mp4\n"
          ]
        },
        {
          "name": "stderr",
          "output_type": "stream",
          "text": [
            "\n",
            "100%|██████████| 240/240 [00:03<00:00, 65.46it/s]\n"
          ]
        },
        {
          "name": "stdout",
          "output_type": "stream",
          "text": [
            "[MoviePy] Done.\n",
            "[MoviePy] >>>> Video ready: /content/drive/MyDrive/gp/The Girl Who Believes in Miracles/clip/582.mp4 \n",
            "\n",
            "582번째 클립 저장 완료\n",
            "[MoviePy] >>>> Building video /content/drive/MyDrive/gp/The Girl Who Believes in Miracles/clip/583.mp4\n",
            "[MoviePy] Writing audio in 583TEMP_MPY_wvf_snd.mp3\n"
          ]
        },
        {
          "name": "stderr",
          "output_type": "stream",
          "text": [
            "100%|██████████| 221/221 [00:00<00:00, 447.38it/s]"
          ]
        },
        {
          "name": "stdout",
          "output_type": "stream",
          "text": [
            "[MoviePy] Done.\n",
            "[MoviePy] Writing video /content/drive/MyDrive/gp/The Girl Who Believes in Miracles/clip/583.mp4\n"
          ]
        },
        {
          "name": "stderr",
          "output_type": "stream",
          "text": [
            "\n",
            "100%|██████████| 240/240 [00:04<00:00, 59.57it/s]\n"
          ]
        },
        {
          "name": "stdout",
          "output_type": "stream",
          "text": [
            "[MoviePy] Done.\n",
            "[MoviePy] >>>> Video ready: /content/drive/MyDrive/gp/The Girl Who Believes in Miracles/clip/583.mp4 \n",
            "\n",
            "583번째 클립 저장 완료\n",
            "[MoviePy] >>>> Building video /content/drive/MyDrive/gp/The Girl Who Believes in Miracles/clip/584.mp4\n",
            "[MoviePy] Writing audio in 584TEMP_MPY_wvf_snd.mp3\n"
          ]
        },
        {
          "name": "stderr",
          "output_type": "stream",
          "text": [
            "100%|██████████| 221/221 [00:00<00:00, 444.71it/s]"
          ]
        },
        {
          "name": "stdout",
          "output_type": "stream",
          "text": [
            "[MoviePy] Done.\n",
            "[MoviePy] Writing video /content/drive/MyDrive/gp/The Girl Who Believes in Miracles/clip/584.mp4\n"
          ]
        },
        {
          "name": "stderr",
          "output_type": "stream",
          "text": [
            "\n",
            "100%|██████████| 240/240 [00:03<00:00, 61.15it/s]\n"
          ]
        },
        {
          "name": "stdout",
          "output_type": "stream",
          "text": [
            "[MoviePy] Done.\n",
            "[MoviePy] >>>> Video ready: /content/drive/MyDrive/gp/The Girl Who Believes in Miracles/clip/584.mp4 \n",
            "\n",
            "584번째 클립 저장 완료\n",
            "[MoviePy] >>>> Building video /content/drive/MyDrive/gp/The Girl Who Believes in Miracles/clip/585.mp4\n",
            "[MoviePy] Writing audio in 585TEMP_MPY_wvf_snd.mp3\n"
          ]
        },
        {
          "name": "stderr",
          "output_type": "stream",
          "text": [
            "100%|██████████| 221/221 [00:00<00:00, 476.36it/s]"
          ]
        },
        {
          "name": "stdout",
          "output_type": "stream",
          "text": [
            "[MoviePy] Done.\n",
            "[MoviePy] Writing video /content/drive/MyDrive/gp/The Girl Who Believes in Miracles/clip/585.mp4\n"
          ]
        },
        {
          "name": "stderr",
          "output_type": "stream",
          "text": [
            "\n",
            "100%|██████████| 240/240 [00:03<00:00, 60.20it/s]\n"
          ]
        },
        {
          "name": "stdout",
          "output_type": "stream",
          "text": [
            "[MoviePy] Done.\n",
            "[MoviePy] >>>> Video ready: /content/drive/MyDrive/gp/The Girl Who Believes in Miracles/clip/585.mp4 \n",
            "\n",
            "585번째 클립 저장 완료\n",
            "[MoviePy] >>>> Building video /content/drive/MyDrive/gp/The Girl Who Believes in Miracles/clip/586.mp4\n",
            "[MoviePy] Writing audio in 586TEMP_MPY_wvf_snd.mp3\n"
          ]
        },
        {
          "name": "stderr",
          "output_type": "stream",
          "text": [
            "100%|██████████| 221/221 [00:00<00:00, 453.58it/s]\n"
          ]
        },
        {
          "name": "stdout",
          "output_type": "stream",
          "text": [
            "[MoviePy] Done.\n",
            "[MoviePy] Writing video /content/drive/MyDrive/gp/The Girl Who Believes in Miracles/clip/586.mp4\n"
          ]
        },
        {
          "name": "stderr",
          "output_type": "stream",
          "text": [
            "100%|██████████| 240/240 [00:03<00:00, 60.51it/s]\n"
          ]
        },
        {
          "name": "stdout",
          "output_type": "stream",
          "text": [
            "[MoviePy] Done.\n",
            "[MoviePy] >>>> Video ready: /content/drive/MyDrive/gp/The Girl Who Believes in Miracles/clip/586.mp4 \n",
            "\n",
            "586번째 클립 저장 완료\n",
            "[MoviePy] >>>> Building video /content/drive/MyDrive/gp/The Girl Who Believes in Miracles/clip/587.mp4\n",
            "[MoviePy] Writing audio in 587TEMP_MPY_wvf_snd.mp3\n"
          ]
        },
        {
          "name": "stderr",
          "output_type": "stream",
          "text": [
            "100%|██████████| 221/221 [00:00<00:00, 424.08it/s]"
          ]
        },
        {
          "name": "stdout",
          "output_type": "stream",
          "text": [
            "[MoviePy] Done.\n",
            "[MoviePy] Writing video /content/drive/MyDrive/gp/The Girl Who Believes in Miracles/clip/587.mp4\n"
          ]
        },
        {
          "name": "stderr",
          "output_type": "stream",
          "text": [
            "\n",
            "100%|██████████| 240/240 [00:03<00:00, 71.13it/s]\n"
          ]
        },
        {
          "name": "stdout",
          "output_type": "stream",
          "text": [
            "[MoviePy] Done.\n",
            "[MoviePy] >>>> Video ready: /content/drive/MyDrive/gp/The Girl Who Believes in Miracles/clip/587.mp4 \n",
            "\n",
            "587번째 클립 저장 완료\n",
            "[MoviePy] >>>> Building video /content/drive/MyDrive/gp/The Girl Who Believes in Miracles/clip/588.mp4\n",
            "[MoviePy] Writing audio in 588TEMP_MPY_wvf_snd.mp3\n"
          ]
        },
        {
          "name": "stderr",
          "output_type": "stream",
          "text": [
            "100%|██████████| 221/221 [00:00<00:00, 456.61it/s]"
          ]
        },
        {
          "name": "stdout",
          "output_type": "stream",
          "text": [
            "[MoviePy] Done.\n",
            "[MoviePy] Writing video /content/drive/MyDrive/gp/The Girl Who Believes in Miracles/clip/588.mp4\n"
          ]
        },
        {
          "name": "stderr",
          "output_type": "stream",
          "text": [
            "\n",
            "100%|██████████| 240/240 [00:03<00:00, 63.87it/s]\n"
          ]
        },
        {
          "name": "stdout",
          "output_type": "stream",
          "text": [
            "[MoviePy] Done.\n",
            "[MoviePy] >>>> Video ready: /content/drive/MyDrive/gp/The Girl Who Believes in Miracles/clip/588.mp4 \n",
            "\n",
            "588번째 클립 저장 완료\n",
            "[MoviePy] >>>> Building video /content/drive/MyDrive/gp/The Girl Who Believes in Miracles/clip/589.mp4\n",
            "[MoviePy] Writing audio in 589TEMP_MPY_wvf_snd.mp3\n"
          ]
        },
        {
          "name": "stderr",
          "output_type": "stream",
          "text": [
            "100%|██████████| 221/221 [00:00<00:00, 450.69it/s]\n"
          ]
        },
        {
          "name": "stdout",
          "output_type": "stream",
          "text": [
            "[MoviePy] Done.\n",
            "[MoviePy] Writing video /content/drive/MyDrive/gp/The Girl Who Believes in Miracles/clip/589.mp4\n"
          ]
        },
        {
          "name": "stderr",
          "output_type": "stream",
          "text": [
            "100%|██████████| 240/240 [00:03<00:00, 61.54it/s]\n"
          ]
        },
        {
          "name": "stdout",
          "output_type": "stream",
          "text": [
            "[MoviePy] Done.\n",
            "[MoviePy] >>>> Video ready: /content/drive/MyDrive/gp/The Girl Who Believes in Miracles/clip/589.mp4 \n",
            "\n",
            "589번째 클립 저장 완료\n",
            "[MoviePy] >>>> Building video /content/drive/MyDrive/gp/The Girl Who Believes in Miracles/clip/590.mp4\n",
            "[MoviePy] Writing audio in 590TEMP_MPY_wvf_snd.mp3\n"
          ]
        },
        {
          "name": "stderr",
          "output_type": "stream",
          "text": [
            "100%|██████████| 221/221 [00:00<00:00, 447.77it/s]"
          ]
        },
        {
          "name": "stdout",
          "output_type": "stream",
          "text": [
            "[MoviePy] Done.\n",
            "[MoviePy] Writing video /content/drive/MyDrive/gp/The Girl Who Believes in Miracles/clip/590.mp4\n"
          ]
        },
        {
          "name": "stderr",
          "output_type": "stream",
          "text": [
            "\n",
            "100%|██████████| 240/240 [00:03<00:00, 62.60it/s]\n"
          ]
        },
        {
          "name": "stdout",
          "output_type": "stream",
          "text": [
            "[MoviePy] Done.\n",
            "[MoviePy] >>>> Video ready: /content/drive/MyDrive/gp/The Girl Who Believes in Miracles/clip/590.mp4 \n",
            "\n",
            "590번째 클립 저장 완료\n",
            "[MoviePy] >>>> Building video /content/drive/MyDrive/gp/The Girl Who Believes in Miracles/clip/591.mp4\n",
            "[MoviePy] Writing audio in 591TEMP_MPY_wvf_snd.mp3\n"
          ]
        },
        {
          "name": "stderr",
          "output_type": "stream",
          "text": [
            "100%|██████████| 221/221 [00:00<00:00, 449.64it/s]"
          ]
        },
        {
          "name": "stdout",
          "output_type": "stream",
          "text": [
            "[MoviePy] Done.\n"
          ]
        },
        {
          "name": "stderr",
          "output_type": "stream",
          "text": [
            "\n"
          ]
        },
        {
          "name": "stdout",
          "output_type": "stream",
          "text": [
            "[MoviePy] Writing video /content/drive/MyDrive/gp/The Girl Who Believes in Miracles/clip/591.mp4\n"
          ]
        },
        {
          "name": "stderr",
          "output_type": "stream",
          "text": [
            "100%|██████████| 240/240 [00:03<00:00, 62.52it/s]\n"
          ]
        },
        {
          "name": "stdout",
          "output_type": "stream",
          "text": [
            "[MoviePy] Done.\n",
            "[MoviePy] >>>> Video ready: /content/drive/MyDrive/gp/The Girl Who Believes in Miracles/clip/591.mp4 \n",
            "\n",
            "591번째 클립 저장 완료\n",
            "[MoviePy] >>>> Building video /content/drive/MyDrive/gp/The Girl Who Believes in Miracles/clip/592.mp4\n",
            "[MoviePy] Writing audio in 592TEMP_MPY_wvf_snd.mp3\n"
          ]
        },
        {
          "name": "stderr",
          "output_type": "stream",
          "text": [
            "100%|██████████| 221/221 [00:00<00:00, 466.90it/s]"
          ]
        },
        {
          "name": "stdout",
          "output_type": "stream",
          "text": [
            "[MoviePy] Done.\n",
            "[MoviePy] Writing video /content/drive/MyDrive/gp/The Girl Who Believes in Miracles/clip/592.mp4\n"
          ]
        },
        {
          "name": "stderr",
          "output_type": "stream",
          "text": [
            "\n",
            "100%|██████████| 240/240 [00:04<00:00, 52.50it/s]\n"
          ]
        },
        {
          "name": "stdout",
          "output_type": "stream",
          "text": [
            "[MoviePy] Done.\n",
            "[MoviePy] >>>> Video ready: /content/drive/MyDrive/gp/The Girl Who Believes in Miracles/clip/592.mp4 \n",
            "\n",
            "592번째 클립 저장 완료\n",
            "[MoviePy] >>>> Building video /content/drive/MyDrive/gp/The Girl Who Believes in Miracles/clip/593.mp4\n",
            "[MoviePy] Writing audio in 593TEMP_MPY_wvf_snd.mp3\n"
          ]
        },
        {
          "name": "stderr",
          "output_type": "stream",
          "text": [
            "100%|██████████| 221/221 [00:00<00:00, 462.76it/s]"
          ]
        },
        {
          "name": "stdout",
          "output_type": "stream",
          "text": [
            "[MoviePy] Done.\n"
          ]
        },
        {
          "name": "stderr",
          "output_type": "stream",
          "text": [
            "\n"
          ]
        },
        {
          "name": "stdout",
          "output_type": "stream",
          "text": [
            "[MoviePy] Writing video /content/drive/MyDrive/gp/The Girl Who Believes in Miracles/clip/593.mp4\n"
          ]
        },
        {
          "name": "stderr",
          "output_type": "stream",
          "text": [
            "100%|██████████| 240/240 [00:04<00:00, 59.06it/s]\n"
          ]
        },
        {
          "name": "stdout",
          "output_type": "stream",
          "text": [
            "[MoviePy] Done.\n",
            "[MoviePy] >>>> Video ready: /content/drive/MyDrive/gp/The Girl Who Believes in Miracles/clip/593.mp4 \n",
            "\n",
            "593번째 클립 저장 완료\n",
            "[MoviePy] >>>> Building video /content/drive/MyDrive/gp/The Girl Who Believes in Miracles/clip/594.mp4\n",
            "[MoviePy] Writing audio in 594TEMP_MPY_wvf_snd.mp3\n"
          ]
        },
        {
          "name": "stderr",
          "output_type": "stream",
          "text": [
            "100%|██████████| 221/221 [00:00<00:00, 463.64it/s]"
          ]
        },
        {
          "name": "stdout",
          "output_type": "stream",
          "text": [
            "[MoviePy] Done.\n"
          ]
        },
        {
          "name": "stderr",
          "output_type": "stream",
          "text": [
            "\n"
          ]
        },
        {
          "name": "stdout",
          "output_type": "stream",
          "text": [
            "[MoviePy] Writing video /content/drive/MyDrive/gp/The Girl Who Believes in Miracles/clip/594.mp4\n"
          ]
        },
        {
          "name": "stderr",
          "output_type": "stream",
          "text": [
            "100%|██████████| 240/240 [00:03<00:00, 65.59it/s]\n"
          ]
        },
        {
          "name": "stdout",
          "output_type": "stream",
          "text": [
            "[MoviePy] Done.\n",
            "[MoviePy] >>>> Video ready: /content/drive/MyDrive/gp/The Girl Who Believes in Miracles/clip/594.mp4 \n",
            "\n",
            "594번째 클립 저장 완료\n",
            "[MoviePy] >>>> Building video /content/drive/MyDrive/gp/The Girl Who Believes in Miracles/clip/595.mp4\n",
            "[MoviePy] Writing audio in 595TEMP_MPY_wvf_snd.mp3\n"
          ]
        },
        {
          "name": "stderr",
          "output_type": "stream",
          "text": [
            "100%|██████████| 221/221 [00:00<00:00, 454.26it/s]"
          ]
        },
        {
          "name": "stdout",
          "output_type": "stream",
          "text": [
            "[MoviePy] Done.\n",
            "[MoviePy] Writing video /content/drive/MyDrive/gp/The Girl Who Believes in Miracles/clip/595.mp4\n"
          ]
        },
        {
          "name": "stderr",
          "output_type": "stream",
          "text": [
            "\n",
            "100%|██████████| 240/240 [00:04<00:00, 58.69it/s]\n"
          ]
        },
        {
          "name": "stdout",
          "output_type": "stream",
          "text": [
            "[MoviePy] Done.\n",
            "[MoviePy] >>>> Video ready: /content/drive/MyDrive/gp/The Girl Who Believes in Miracles/clip/595.mp4 \n",
            "\n",
            "595번째 클립 저장 완료\n",
            "[MoviePy] >>>> Building video /content/drive/MyDrive/gp/The Girl Who Believes in Miracles/clip/596.mp4\n",
            "[MoviePy] Writing audio in 596TEMP_MPY_wvf_snd.mp3\n"
          ]
        },
        {
          "name": "stderr",
          "output_type": "stream",
          "text": [
            "100%|██████████| 221/221 [00:00<00:00, 434.25it/s]"
          ]
        },
        {
          "name": "stdout",
          "output_type": "stream",
          "text": [
            "[MoviePy] Done.\n",
            "[MoviePy] Writing video /content/drive/MyDrive/gp/The Girl Who Believes in Miracles/clip/596.mp4\n"
          ]
        },
        {
          "name": "stderr",
          "output_type": "stream",
          "text": [
            "\n",
            "100%|██████████| 240/240 [00:03<00:00, 65.55it/s]\n"
          ]
        },
        {
          "name": "stdout",
          "output_type": "stream",
          "text": [
            "[MoviePy] Done.\n",
            "[MoviePy] >>>> Video ready: /content/drive/MyDrive/gp/The Girl Who Believes in Miracles/clip/596.mp4 \n",
            "\n",
            "596번째 클립 저장 완료\n",
            "[MoviePy] >>>> Building video /content/drive/MyDrive/gp/The Girl Who Believes in Miracles/clip/597.mp4\n",
            "[MoviePy] Writing audio in 597TEMP_MPY_wvf_snd.mp3\n"
          ]
        },
        {
          "name": "stderr",
          "output_type": "stream",
          "text": [
            "100%|██████████| 221/221 [00:00<00:00, 429.29it/s]"
          ]
        },
        {
          "name": "stdout",
          "output_type": "stream",
          "text": [
            "[MoviePy] Done.\n",
            "[MoviePy] Writing video /content/drive/MyDrive/gp/The Girl Who Believes in Miracles/clip/597.mp4\n"
          ]
        },
        {
          "name": "stderr",
          "output_type": "stream",
          "text": [
            "\n",
            "100%|██████████| 240/240 [00:03<00:00, 60.89it/s]\n"
          ]
        },
        {
          "name": "stdout",
          "output_type": "stream",
          "text": [
            "[MoviePy] Done.\n",
            "[MoviePy] >>>> Video ready: /content/drive/MyDrive/gp/The Girl Who Believes in Miracles/clip/597.mp4 \n",
            "\n",
            "597번째 클립 저장 완료\n",
            "[MoviePy] >>>> Building video /content/drive/MyDrive/gp/The Girl Who Believes in Miracles/clip/598.mp4\n",
            "[MoviePy] Writing audio in 598TEMP_MPY_wvf_snd.mp3\n"
          ]
        },
        {
          "name": "stderr",
          "output_type": "stream",
          "text": [
            "100%|██████████| 221/221 [00:00<00:00, 450.32it/s]\n"
          ]
        },
        {
          "name": "stdout",
          "output_type": "stream",
          "text": [
            "[MoviePy] Done.\n",
            "[MoviePy] Writing video /content/drive/MyDrive/gp/The Girl Who Believes in Miracles/clip/598.mp4\n"
          ]
        },
        {
          "name": "stderr",
          "output_type": "stream",
          "text": [
            "100%|██████████| 240/240 [00:03<00:00, 62.13it/s]\n"
          ]
        },
        {
          "name": "stdout",
          "output_type": "stream",
          "text": [
            "[MoviePy] Done.\n",
            "[MoviePy] >>>> Video ready: /content/drive/MyDrive/gp/The Girl Who Believes in Miracles/clip/598.mp4 \n",
            "\n",
            "598번째 클립 저장 완료\n",
            "[MoviePy] >>>> Building video /content/drive/MyDrive/gp/The Girl Who Believes in Miracles/clip/599.mp4\n",
            "[MoviePy] Writing audio in 599TEMP_MPY_wvf_snd.mp3\n"
          ]
        },
        {
          "name": "stderr",
          "output_type": "stream",
          "text": [
            "100%|██████████| 221/221 [00:00<00:00, 447.18it/s]\n"
          ]
        },
        {
          "name": "stdout",
          "output_type": "stream",
          "text": [
            "[MoviePy] Done.\n",
            "[MoviePy] Writing video /content/drive/MyDrive/gp/The Girl Who Believes in Miracles/clip/599.mp4\n"
          ]
        },
        {
          "name": "stderr",
          "output_type": "stream",
          "text": [
            "100%|██████████| 240/240 [00:03<00:00, 61.42it/s]\n"
          ]
        },
        {
          "name": "stdout",
          "output_type": "stream",
          "text": [
            "[MoviePy] Done.\n",
            "[MoviePy] >>>> Video ready: /content/drive/MyDrive/gp/The Girl Who Believes in Miracles/clip/599.mp4 \n",
            "\n",
            "599번째 클립 저장 완료\n",
            "[MoviePy] >>>> Building video /content/drive/MyDrive/gp/The Girl Who Believes in Miracles/clip/600.mp4\n",
            "[MoviePy] Writing audio in 600TEMP_MPY_wvf_snd.mp3\n"
          ]
        },
        {
          "name": "stderr",
          "output_type": "stream",
          "text": [
            "100%|██████████| 221/221 [00:00<00:00, 283.81it/s]"
          ]
        },
        {
          "name": "stdout",
          "output_type": "stream",
          "text": [
            "[MoviePy] Done.\n",
            "[MoviePy] Writing video /content/drive/MyDrive/gp/The Girl Who Believes in Miracles/clip/600.mp4\n"
          ]
        },
        {
          "name": "stderr",
          "output_type": "stream",
          "text": [
            "\n",
            "100%|██████████| 240/240 [00:06<00:00, 36.61it/s]\n"
          ]
        },
        {
          "name": "stdout",
          "output_type": "stream",
          "text": [
            "[MoviePy] Done.\n",
            "[MoviePy] >>>> Video ready: /content/drive/MyDrive/gp/The Girl Who Believes in Miracles/clip/600.mp4 \n",
            "\n",
            "600번째 클립 저장 완료\n",
            "[MoviePy] >>>> Building video /content/drive/MyDrive/gp/The Girl Who Believes in Miracles/clip/601.mp4\n",
            "[MoviePy] Writing audio in 601TEMP_MPY_wvf_snd.mp3\n"
          ]
        },
        {
          "name": "stderr",
          "output_type": "stream",
          "text": [
            "100%|██████████| 221/221 [00:00<00:00, 291.48it/s]"
          ]
        },
        {
          "name": "stdout",
          "output_type": "stream",
          "text": [
            "[MoviePy] Done.\n",
            "[MoviePy] Writing video /content/drive/MyDrive/gp/The Girl Who Believes in Miracles/clip/601.mp4\n"
          ]
        },
        {
          "name": "stderr",
          "output_type": "stream",
          "text": [
            "\n",
            "100%|██████████| 240/240 [00:07<00:00, 31.96it/s]\n"
          ]
        },
        {
          "name": "stdout",
          "output_type": "stream",
          "text": [
            "[MoviePy] Done.\n",
            "[MoviePy] >>>> Video ready: /content/drive/MyDrive/gp/The Girl Who Believes in Miracles/clip/601.mp4 \n",
            "\n",
            "601번째 클립 저장 완료\n",
            "[MoviePy] >>>> Building video /content/drive/MyDrive/gp/The Girl Who Believes in Miracles/clip/602.mp4\n",
            "[MoviePy] Writing audio in 602TEMP_MPY_wvf_snd.mp3\n"
          ]
        },
        {
          "name": "stderr",
          "output_type": "stream",
          "text": [
            "100%|██████████| 221/221 [00:00<00:00, 295.15it/s]"
          ]
        },
        {
          "name": "stdout",
          "output_type": "stream",
          "text": [
            "[MoviePy] Done.\n",
            "[MoviePy] Writing video /content/drive/MyDrive/gp/The Girl Who Believes in Miracles/clip/602.mp4\n"
          ]
        },
        {
          "name": "stderr",
          "output_type": "stream",
          "text": [
            "\n",
            "100%|██████████| 240/240 [00:09<00:00, 25.75it/s]\n"
          ]
        },
        {
          "name": "stdout",
          "output_type": "stream",
          "text": [
            "[MoviePy] Done.\n",
            "[MoviePy] >>>> Video ready: /content/drive/MyDrive/gp/The Girl Who Believes in Miracles/clip/602.mp4 \n",
            "\n",
            "602번째 클립 저장 완료\n",
            "[MoviePy] >>>> Building video /content/drive/MyDrive/gp/The Girl Who Believes in Miracles/clip/603.mp4\n",
            "[MoviePy] Writing audio in 603TEMP_MPY_wvf_snd.mp3\n"
          ]
        },
        {
          "name": "stderr",
          "output_type": "stream",
          "text": [
            "100%|██████████| 221/221 [00:00<00:00, 313.22it/s]"
          ]
        },
        {
          "name": "stdout",
          "output_type": "stream",
          "text": [
            "[MoviePy] Done.\n",
            "[MoviePy] Writing video /content/drive/MyDrive/gp/The Girl Who Believes in Miracles/clip/603.mp4\n"
          ]
        },
        {
          "name": "stderr",
          "output_type": "stream",
          "text": [
            "\n",
            "100%|██████████| 240/240 [00:06<00:00, 38.26it/s]\n"
          ]
        },
        {
          "name": "stdout",
          "output_type": "stream",
          "text": [
            "[MoviePy] Done.\n",
            "[MoviePy] >>>> Video ready: /content/drive/MyDrive/gp/The Girl Who Believes in Miracles/clip/603.mp4 \n",
            "\n",
            "603번째 클립 저장 완료\n",
            "[MoviePy] >>>> Building video /content/drive/MyDrive/gp/The Girl Who Believes in Miracles/clip/604.mp4\n",
            "[MoviePy] Writing audio in 604TEMP_MPY_wvf_snd.mp3\n"
          ]
        },
        {
          "name": "stderr",
          "output_type": "stream",
          "text": [
            "100%|██████████| 221/221 [00:00<00:00, 413.24it/s]\n"
          ]
        },
        {
          "name": "stdout",
          "output_type": "stream",
          "text": [
            "[MoviePy] Done.\n",
            "[MoviePy] Writing video /content/drive/MyDrive/gp/The Girl Who Believes in Miracles/clip/604.mp4\n"
          ]
        },
        {
          "name": "stderr",
          "output_type": "stream",
          "text": [
            "100%|██████████| 240/240 [00:04<00:00, 55.28it/s]\n"
          ]
        },
        {
          "name": "stdout",
          "output_type": "stream",
          "text": [
            "[MoviePy] Done.\n",
            "[MoviePy] >>>> Video ready: /content/drive/MyDrive/gp/The Girl Who Believes in Miracles/clip/604.mp4 \n",
            "\n",
            "604번째 클립 저장 완료\n",
            "[MoviePy] >>>> Building video /content/drive/MyDrive/gp/The Girl Who Believes in Miracles/clip/605.mp4\n",
            "[MoviePy] Writing audio in 605TEMP_MPY_wvf_snd.mp3\n"
          ]
        },
        {
          "name": "stderr",
          "output_type": "stream",
          "text": [
            "100%|██████████| 221/221 [00:00<00:00, 456.63it/s]\n"
          ]
        },
        {
          "name": "stdout",
          "output_type": "stream",
          "text": [
            "[MoviePy] Done.\n",
            "[MoviePy] Writing video /content/drive/MyDrive/gp/The Girl Who Believes in Miracles/clip/605.mp4\n"
          ]
        },
        {
          "name": "stderr",
          "output_type": "stream",
          "text": [
            "100%|██████████| 240/240 [00:04<00:00, 56.50it/s]\n"
          ]
        },
        {
          "name": "stdout",
          "output_type": "stream",
          "text": [
            "[MoviePy] Done.\n",
            "[MoviePy] >>>> Video ready: /content/drive/MyDrive/gp/The Girl Who Believes in Miracles/clip/605.mp4 \n",
            "\n",
            "605번째 클립 저장 완료\n",
            "[MoviePy] >>>> Building video /content/drive/MyDrive/gp/The Girl Who Believes in Miracles/clip/606.mp4\n",
            "[MoviePy] Writing audio in 606TEMP_MPY_wvf_snd.mp3\n"
          ]
        },
        {
          "name": "stderr",
          "output_type": "stream",
          "text": [
            "100%|██████████| 221/221 [00:00<00:00, 441.56it/s]\n"
          ]
        },
        {
          "name": "stdout",
          "output_type": "stream",
          "text": [
            "[MoviePy] Done.\n",
            "[MoviePy] Writing video /content/drive/MyDrive/gp/The Girl Who Believes in Miracles/clip/606.mp4\n"
          ]
        },
        {
          "name": "stderr",
          "output_type": "stream",
          "text": [
            "100%|██████████| 240/240 [00:04<00:00, 57.54it/s]\n"
          ]
        },
        {
          "name": "stdout",
          "output_type": "stream",
          "text": [
            "[MoviePy] Done.\n",
            "[MoviePy] >>>> Video ready: /content/drive/MyDrive/gp/The Girl Who Believes in Miracles/clip/606.mp4 \n",
            "\n",
            "606번째 클립 저장 완료\n",
            "[MoviePy] >>>> Building video /content/drive/MyDrive/gp/The Girl Who Believes in Miracles/clip/607.mp4\n",
            "[MoviePy] Writing audio in 607TEMP_MPY_wvf_snd.mp3\n"
          ]
        },
        {
          "name": "stderr",
          "output_type": "stream",
          "text": [
            "100%|██████████| 221/221 [00:00<00:00, 476.32it/s]"
          ]
        },
        {
          "name": "stdout",
          "output_type": "stream",
          "text": [
            "[MoviePy] Done.\n",
            "[MoviePy] Writing video /content/drive/MyDrive/gp/The Girl Who Believes in Miracles/clip/607.mp4\n"
          ]
        },
        {
          "name": "stderr",
          "output_type": "stream",
          "text": [
            "\n",
            "100%|██████████| 240/240 [00:04<00:00, 53.49it/s]\n"
          ]
        },
        {
          "name": "stdout",
          "output_type": "stream",
          "text": [
            "[MoviePy] Done.\n",
            "[MoviePy] >>>> Video ready: /content/drive/MyDrive/gp/The Girl Who Believes in Miracles/clip/607.mp4 \n",
            "\n",
            "607번째 클립 저장 완료\n",
            "[MoviePy] >>>> Building video /content/drive/MyDrive/gp/The Girl Who Believes in Miracles/clip/608.mp4\n",
            "[MoviePy] Writing audio in 608TEMP_MPY_wvf_snd.mp3\n"
          ]
        },
        {
          "name": "stderr",
          "output_type": "stream",
          "text": [
            "100%|██████████| 221/221 [00:00<00:00, 461.80it/s]"
          ]
        },
        {
          "name": "stdout",
          "output_type": "stream",
          "text": [
            "[MoviePy] Done.\n",
            "[MoviePy] Writing video /content/drive/MyDrive/gp/The Girl Who Believes in Miracles/clip/608.mp4\n"
          ]
        },
        {
          "name": "stderr",
          "output_type": "stream",
          "text": [
            "\n",
            "100%|██████████| 240/240 [00:04<00:00, 50.81it/s]\n"
          ]
        },
        {
          "name": "stdout",
          "output_type": "stream",
          "text": [
            "[MoviePy] Done.\n",
            "[MoviePy] >>>> Video ready: /content/drive/MyDrive/gp/The Girl Who Believes in Miracles/clip/608.mp4 \n",
            "\n",
            "608번째 클립 저장 완료\n",
            "[MoviePy] >>>> Building video /content/drive/MyDrive/gp/The Girl Who Believes in Miracles/clip/609.mp4\n",
            "[MoviePy] Writing audio in 609TEMP_MPY_wvf_snd.mp3\n"
          ]
        },
        {
          "name": "stderr",
          "output_type": "stream",
          "text": [
            "100%|██████████| 221/221 [00:00<00:00, 445.83it/s]\n"
          ]
        },
        {
          "name": "stdout",
          "output_type": "stream",
          "text": [
            "[MoviePy] Done.\n",
            "[MoviePy] Writing video /content/drive/MyDrive/gp/The Girl Who Believes in Miracles/clip/609.mp4\n"
          ]
        },
        {
          "name": "stderr",
          "output_type": "stream",
          "text": [
            "100%|██████████| 240/240 [00:04<00:00, 54.71it/s]\n"
          ]
        },
        {
          "name": "stdout",
          "output_type": "stream",
          "text": [
            "[MoviePy] Done.\n",
            "[MoviePy] >>>> Video ready: /content/drive/MyDrive/gp/The Girl Who Believes in Miracles/clip/609.mp4 \n",
            "\n",
            "609번째 클립 저장 완료\n",
            "[MoviePy] >>>> Building video /content/drive/MyDrive/gp/The Girl Who Believes in Miracles/clip/610.mp4\n",
            "[MoviePy] Writing audio in 610TEMP_MPY_wvf_snd.mp3\n"
          ]
        },
        {
          "name": "stderr",
          "output_type": "stream",
          "text": [
            "100%|██████████| 221/221 [00:00<00:00, 440.57it/s]"
          ]
        },
        {
          "name": "stdout",
          "output_type": "stream",
          "text": [
            "[MoviePy] Done.\n",
            "[MoviePy] Writing video /content/drive/MyDrive/gp/The Girl Who Believes in Miracles/clip/610.mp4\n"
          ]
        },
        {
          "name": "stderr",
          "output_type": "stream",
          "text": [
            "\n",
            "100%|██████████| 240/240 [00:04<00:00, 56.98it/s]\n"
          ]
        },
        {
          "name": "stdout",
          "output_type": "stream",
          "text": [
            "[MoviePy] Done.\n",
            "[MoviePy] >>>> Video ready: /content/drive/MyDrive/gp/The Girl Who Believes in Miracles/clip/610.mp4 \n",
            "\n",
            "610번째 클립 저장 완료\n",
            "[MoviePy] >>>> Building video /content/drive/MyDrive/gp/The Girl Who Believes in Miracles/clip/611.mp4\n",
            "[MoviePy] Writing audio in 611TEMP_MPY_wvf_snd.mp3\n"
          ]
        },
        {
          "name": "stderr",
          "output_type": "stream",
          "text": [
            "100%|██████████| 221/221 [00:00<00:00, 474.26it/s]"
          ]
        },
        {
          "name": "stdout",
          "output_type": "stream",
          "text": [
            "[MoviePy] Done.\n",
            "[MoviePy] Writing video /content/drive/MyDrive/gp/The Girl Who Believes in Miracles/clip/611.mp4\n"
          ]
        },
        {
          "name": "stderr",
          "output_type": "stream",
          "text": [
            "\n",
            "100%|██████████| 240/240 [00:04<00:00, 57.75it/s]\n"
          ]
        },
        {
          "name": "stdout",
          "output_type": "stream",
          "text": [
            "[MoviePy] Done.\n",
            "[MoviePy] >>>> Video ready: /content/drive/MyDrive/gp/The Girl Who Believes in Miracles/clip/611.mp4 \n",
            "\n",
            "611번째 클립 저장 완료\n",
            "[MoviePy] >>>> Building video /content/drive/MyDrive/gp/The Girl Who Believes in Miracles/clip/612.mp4\n",
            "[MoviePy] Writing audio in 612TEMP_MPY_wvf_snd.mp3\n"
          ]
        },
        {
          "name": "stderr",
          "output_type": "stream",
          "text": [
            "100%|██████████| 221/221 [00:00<00:00, 445.62it/s]"
          ]
        },
        {
          "name": "stdout",
          "output_type": "stream",
          "text": [
            "[MoviePy] Done.\n",
            "[MoviePy] Writing video /content/drive/MyDrive/gp/The Girl Who Believes in Miracles/clip/612.mp4\n"
          ]
        },
        {
          "name": "stderr",
          "output_type": "stream",
          "text": [
            "\n",
            "100%|██████████| 240/240 [00:04<00:00, 57.30it/s]\n"
          ]
        },
        {
          "name": "stdout",
          "output_type": "stream",
          "text": [
            "[MoviePy] Done.\n",
            "[MoviePy] >>>> Video ready: /content/drive/MyDrive/gp/The Girl Who Believes in Miracles/clip/612.mp4 \n",
            "\n",
            "612번째 클립 저장 완료\n",
            "[MoviePy] >>>> Building video /content/drive/MyDrive/gp/The Girl Who Believes in Miracles/clip/613.mp4\n",
            "[MoviePy] Writing audio in 613TEMP_MPY_wvf_snd.mp3\n"
          ]
        },
        {
          "name": "stderr",
          "output_type": "stream",
          "text": [
            "100%|██████████| 221/221 [00:00<00:00, 446.64it/s]"
          ]
        },
        {
          "name": "stdout",
          "output_type": "stream",
          "text": [
            "[MoviePy] Done.\n",
            "[MoviePy] Writing video /content/drive/MyDrive/gp/The Girl Who Believes in Miracles/clip/613.mp4\n"
          ]
        },
        {
          "name": "stderr",
          "output_type": "stream",
          "text": [
            "\n",
            "100%|██████████| 240/240 [00:04<00:00, 51.40it/s]\n"
          ]
        },
        {
          "name": "stdout",
          "output_type": "stream",
          "text": [
            "[MoviePy] Done.\n",
            "[MoviePy] >>>> Video ready: /content/drive/MyDrive/gp/The Girl Who Believes in Miracles/clip/613.mp4 \n",
            "\n",
            "613번째 클립 저장 완료\n",
            "[MoviePy] >>>> Building video /content/drive/MyDrive/gp/The Girl Who Believes in Miracles/clip/614.mp4\n",
            "[MoviePy] Writing audio in 614TEMP_MPY_wvf_snd.mp3\n"
          ]
        },
        {
          "name": "stderr",
          "output_type": "stream",
          "text": [
            "100%|██████████| 221/221 [00:00<00:00, 449.38it/s]\n"
          ]
        },
        {
          "name": "stdout",
          "output_type": "stream",
          "text": [
            "[MoviePy] Done.\n",
            "[MoviePy] Writing video /content/drive/MyDrive/gp/The Girl Who Believes in Miracles/clip/614.mp4\n"
          ]
        },
        {
          "name": "stderr",
          "output_type": "stream",
          "text": [
            "100%|██████████| 240/240 [00:04<00:00, 53.80it/s]\n"
          ]
        },
        {
          "name": "stdout",
          "output_type": "stream",
          "text": [
            "[MoviePy] Done.\n",
            "[MoviePy] >>>> Video ready: /content/drive/MyDrive/gp/The Girl Who Believes in Miracles/clip/614.mp4 \n",
            "\n",
            "614번째 클립 저장 완료\n",
            "[MoviePy] >>>> Building video /content/drive/MyDrive/gp/The Girl Who Believes in Miracles/clip/615.mp4\n",
            "[MoviePy] Writing audio in 615TEMP_MPY_wvf_snd.mp3\n"
          ]
        },
        {
          "name": "stderr",
          "output_type": "stream",
          "text": [
            "100%|██████████| 221/221 [00:00<00:00, 429.45it/s]"
          ]
        },
        {
          "name": "stdout",
          "output_type": "stream",
          "text": [
            "[MoviePy] Done.\n"
          ]
        },
        {
          "name": "stderr",
          "output_type": "stream",
          "text": [
            "\n"
          ]
        },
        {
          "name": "stdout",
          "output_type": "stream",
          "text": [
            "[MoviePy] Writing video /content/drive/MyDrive/gp/The Girl Who Believes in Miracles/clip/615.mp4\n"
          ]
        },
        {
          "name": "stderr",
          "output_type": "stream",
          "text": [
            "100%|██████████| 240/240 [00:04<00:00, 54.56it/s]\n"
          ]
        },
        {
          "name": "stdout",
          "output_type": "stream",
          "text": [
            "[MoviePy] Done.\n",
            "[MoviePy] >>>> Video ready: /content/drive/MyDrive/gp/The Girl Who Believes in Miracles/clip/615.mp4 \n",
            "\n",
            "615번째 클립 저장 완료\n",
            "[MoviePy] >>>> Building video /content/drive/MyDrive/gp/The Girl Who Believes in Miracles/clip/616.mp4\n",
            "[MoviePy] Writing audio in 616TEMP_MPY_wvf_snd.mp3\n"
          ]
        },
        {
          "name": "stderr",
          "output_type": "stream",
          "text": [
            "100%|██████████| 221/221 [00:00<00:00, 451.83it/s]"
          ]
        },
        {
          "name": "stdout",
          "output_type": "stream",
          "text": [
            "[MoviePy] Done.\n",
            "[MoviePy] Writing video /content/drive/MyDrive/gp/The Girl Who Believes in Miracles/clip/616.mp4\n"
          ]
        },
        {
          "name": "stderr",
          "output_type": "stream",
          "text": [
            "\n",
            "100%|██████████| 240/240 [00:03<00:00, 73.65it/s]\n"
          ]
        },
        {
          "name": "stdout",
          "output_type": "stream",
          "text": [
            "[MoviePy] Done.\n",
            "[MoviePy] >>>> Video ready: /content/drive/MyDrive/gp/The Girl Who Believes in Miracles/clip/616.mp4 \n",
            "\n",
            "616번째 클립 저장 완료\n",
            "[MoviePy] >>>> Building video /content/drive/MyDrive/gp/The Girl Who Believes in Miracles/clip/617.mp4\n",
            "[MoviePy] Writing audio in 617TEMP_MPY_wvf_snd.mp3\n"
          ]
        },
        {
          "name": "stderr",
          "output_type": "stream",
          "text": [
            "100%|██████████| 221/221 [00:00<00:00, 450.98it/s]"
          ]
        },
        {
          "name": "stdout",
          "output_type": "stream",
          "text": [
            "[MoviePy] Done.\n",
            "[MoviePy] Writing video /content/drive/MyDrive/gp/The Girl Who Believes in Miracles/clip/617.mp4\n"
          ]
        },
        {
          "name": "stderr",
          "output_type": "stream",
          "text": [
            "\n",
            "100%|██████████| 240/240 [00:02<00:00, 80.75it/s]\n"
          ]
        },
        {
          "name": "stdout",
          "output_type": "stream",
          "text": [
            "[MoviePy] Done.\n",
            "[MoviePy] >>>> Video ready: /content/drive/MyDrive/gp/The Girl Who Believes in Miracles/clip/617.mp4 \n",
            "\n",
            "617번째 클립 저장 완료\n",
            "[MoviePy] >>>> Building video /content/drive/MyDrive/gp/The Girl Who Believes in Miracles/clip/618.mp4\n",
            "[MoviePy] Writing audio in 618TEMP_MPY_wvf_snd.mp3\n"
          ]
        },
        {
          "name": "stderr",
          "output_type": "stream",
          "text": [
            "100%|██████████| 221/221 [00:00<00:00, 459.62it/s]\n"
          ]
        },
        {
          "name": "stdout",
          "output_type": "stream",
          "text": [
            "[MoviePy] Done.\n",
            "[MoviePy] Writing video /content/drive/MyDrive/gp/The Girl Who Believes in Miracles/clip/618.mp4\n"
          ]
        },
        {
          "name": "stderr",
          "output_type": "stream",
          "text": [
            "100%|██████████| 240/240 [00:03<00:00, 66.99it/s]\n"
          ]
        },
        {
          "name": "stdout",
          "output_type": "stream",
          "text": [
            "[MoviePy] Done.\n",
            "[MoviePy] >>>> Video ready: /content/drive/MyDrive/gp/The Girl Who Believes in Miracles/clip/618.mp4 \n",
            "\n",
            "618번째 클립 저장 완료\n",
            "[MoviePy] >>>> Building video /content/drive/MyDrive/gp/The Girl Who Believes in Miracles/clip/619.mp4\n",
            "[MoviePy] Writing audio in 619TEMP_MPY_wvf_snd.mp3\n"
          ]
        },
        {
          "name": "stderr",
          "output_type": "stream",
          "text": [
            "100%|██████████| 221/221 [00:00<00:00, 458.88it/s]"
          ]
        },
        {
          "name": "stdout",
          "output_type": "stream",
          "text": [
            "[MoviePy] Done.\n",
            "[MoviePy] Writing video /content/drive/MyDrive/gp/The Girl Who Believes in Miracles/clip/619.mp4\n"
          ]
        },
        {
          "name": "stderr",
          "output_type": "stream",
          "text": [
            "\n",
            "100%|██████████| 240/240 [00:03<00:00, 66.62it/s]\n"
          ]
        },
        {
          "name": "stdout",
          "output_type": "stream",
          "text": [
            "[MoviePy] Done.\n",
            "[MoviePy] >>>> Video ready: /content/drive/MyDrive/gp/The Girl Who Believes in Miracles/clip/619.mp4 \n",
            "\n",
            "619번째 클립 저장 완료\n",
            "[MoviePy] >>>> Building video /content/drive/MyDrive/gp/The Girl Who Believes in Miracles/clip/620.mp4\n",
            "[MoviePy] Writing audio in 620TEMP_MPY_wvf_snd.mp3\n"
          ]
        },
        {
          "name": "stderr",
          "output_type": "stream",
          "text": [
            "100%|██████████| 221/221 [00:00<00:00, 435.98it/s]"
          ]
        },
        {
          "name": "stdout",
          "output_type": "stream",
          "text": [
            "[MoviePy] Done.\n",
            "[MoviePy] Writing video /content/drive/MyDrive/gp/The Girl Who Believes in Miracles/clip/620.mp4\n"
          ]
        },
        {
          "name": "stderr",
          "output_type": "stream",
          "text": [
            "\n",
            "100%|██████████| 240/240 [00:05<00:00, 41.22it/s]\n"
          ]
        },
        {
          "name": "stdout",
          "output_type": "stream",
          "text": [
            "[MoviePy] Done.\n",
            "[MoviePy] >>>> Video ready: /content/drive/MyDrive/gp/The Girl Who Believes in Miracles/clip/620.mp4 \n",
            "\n",
            "620번째 클립 저장 완료\n",
            "[MoviePy] >>>> Building video /content/drive/MyDrive/gp/The Girl Who Believes in Miracles/clip/621.mp4\n",
            "[MoviePy] Writing audio in 621TEMP_MPY_wvf_snd.mp3\n"
          ]
        },
        {
          "name": "stderr",
          "output_type": "stream",
          "text": [
            "100%|██████████| 221/221 [00:00<00:00, 272.58it/s]"
          ]
        },
        {
          "name": "stdout",
          "output_type": "stream",
          "text": [
            "[MoviePy] Done.\n",
            "[MoviePy] Writing video /content/drive/MyDrive/gp/The Girl Who Believes in Miracles/clip/621.mp4\n"
          ]
        },
        {
          "name": "stderr",
          "output_type": "stream",
          "text": [
            "\n",
            "100%|██████████| 240/240 [00:04<00:00, 58.04it/s]\n"
          ]
        },
        {
          "name": "stdout",
          "output_type": "stream",
          "text": [
            "[MoviePy] Done.\n",
            "[MoviePy] >>>> Video ready: /content/drive/MyDrive/gp/The Girl Who Believes in Miracles/clip/621.mp4 \n",
            "\n",
            "621번째 클립 저장 완료\n",
            "[MoviePy] >>>> Building video /content/drive/MyDrive/gp/The Girl Who Believes in Miracles/clip/622.mp4\n",
            "[MoviePy] Writing audio in 622TEMP_MPY_wvf_snd.mp3\n"
          ]
        },
        {
          "name": "stderr",
          "output_type": "stream",
          "text": [
            "100%|██████████| 221/221 [00:00<00:00, 453.99it/s]"
          ]
        },
        {
          "name": "stdout",
          "output_type": "stream",
          "text": [
            "[MoviePy] Done.\n",
            "[MoviePy] Writing video /content/drive/MyDrive/gp/The Girl Who Believes in Miracles/clip/622.mp4\n"
          ]
        },
        {
          "name": "stderr",
          "output_type": "stream",
          "text": [
            "\n",
            "100%|██████████| 240/240 [00:03<00:00, 71.55it/s]\n"
          ]
        },
        {
          "name": "stdout",
          "output_type": "stream",
          "text": [
            "[MoviePy] Done.\n",
            "[MoviePy] >>>> Video ready: /content/drive/MyDrive/gp/The Girl Who Believes in Miracles/clip/622.mp4 \n",
            "\n",
            "622번째 클립 저장 완료\n",
            "[MoviePy] >>>> Building video /content/drive/MyDrive/gp/The Girl Who Believes in Miracles/clip/623.mp4\n",
            "[MoviePy] Writing audio in 623TEMP_MPY_wvf_snd.mp3\n"
          ]
        },
        {
          "name": "stderr",
          "output_type": "stream",
          "text": [
            "100%|██████████| 221/221 [00:00<00:00, 466.86it/s]"
          ]
        },
        {
          "name": "stdout",
          "output_type": "stream",
          "text": [
            "[MoviePy] Done.\n",
            "[MoviePy] Writing video /content/drive/MyDrive/gp/The Girl Who Believes in Miracles/clip/623.mp4\n"
          ]
        },
        {
          "name": "stderr",
          "output_type": "stream",
          "text": [
            "\n",
            "100%|██████████| 240/240 [00:03<00:00, 67.80it/s]\n"
          ]
        },
        {
          "name": "stdout",
          "output_type": "stream",
          "text": [
            "[MoviePy] Done.\n",
            "[MoviePy] >>>> Video ready: /content/drive/MyDrive/gp/The Girl Who Believes in Miracles/clip/623.mp4 \n",
            "\n",
            "623번째 클립 저장 완료\n",
            "[MoviePy] >>>> Building video /content/drive/MyDrive/gp/The Girl Who Believes in Miracles/clip/624.mp4\n",
            "[MoviePy] Writing audio in 624TEMP_MPY_wvf_snd.mp3\n"
          ]
        },
        {
          "name": "stderr",
          "output_type": "stream",
          "text": [
            "100%|██████████| 221/221 [00:00<00:00, 433.36it/s]"
          ]
        },
        {
          "name": "stdout",
          "output_type": "stream",
          "text": [
            "[MoviePy] Done.\n",
            "[MoviePy] Writing video /content/drive/MyDrive/gp/The Girl Who Believes in Miracles/clip/624.mp4\n"
          ]
        },
        {
          "name": "stderr",
          "output_type": "stream",
          "text": [
            "\n",
            "100%|██████████| 240/240 [00:03<00:00, 62.70it/s]\n"
          ]
        },
        {
          "name": "stdout",
          "output_type": "stream",
          "text": [
            "[MoviePy] Done.\n",
            "[MoviePy] >>>> Video ready: /content/drive/MyDrive/gp/The Girl Who Believes in Miracles/clip/624.mp4 \n",
            "\n",
            "624번째 클립 저장 완료\n",
            "[MoviePy] >>>> Building video /content/drive/MyDrive/gp/The Girl Who Believes in Miracles/clip/625.mp4\n",
            "[MoviePy] Writing audio in 625TEMP_MPY_wvf_snd.mp3\n"
          ]
        },
        {
          "name": "stderr",
          "output_type": "stream",
          "text": [
            "100%|██████████| 221/221 [00:00<00:00, 465.90it/s]"
          ]
        },
        {
          "name": "stdout",
          "output_type": "stream",
          "text": [
            "[MoviePy] Done.\n",
            "[MoviePy] Writing video /content/drive/MyDrive/gp/The Girl Who Believes in Miracles/clip/625.mp4\n"
          ]
        },
        {
          "name": "stderr",
          "output_type": "stream",
          "text": [
            "\n",
            "100%|██████████| 240/240 [00:03<00:00, 64.70it/s]\n"
          ]
        },
        {
          "name": "stdout",
          "output_type": "stream",
          "text": [
            "[MoviePy] Done.\n",
            "[MoviePy] >>>> Video ready: /content/drive/MyDrive/gp/The Girl Who Believes in Miracles/clip/625.mp4 \n",
            "\n",
            "625번째 클립 저장 완료\n",
            "[MoviePy] >>>> Building video /content/drive/MyDrive/gp/The Girl Who Believes in Miracles/clip/626.mp4\n",
            "[MoviePy] Writing audio in 626TEMP_MPY_wvf_snd.mp3\n"
          ]
        },
        {
          "name": "stderr",
          "output_type": "stream",
          "text": [
            "100%|██████████| 221/221 [00:00<00:00, 454.28it/s]"
          ]
        },
        {
          "name": "stdout",
          "output_type": "stream",
          "text": [
            "[MoviePy] Done.\n",
            "[MoviePy] Writing video /content/drive/MyDrive/gp/The Girl Who Believes in Miracles/clip/626.mp4\n"
          ]
        },
        {
          "name": "stderr",
          "output_type": "stream",
          "text": [
            "\n",
            "100%|██████████| 240/240 [00:03<00:00, 69.77it/s]\n"
          ]
        },
        {
          "name": "stdout",
          "output_type": "stream",
          "text": [
            "[MoviePy] Done.\n",
            "[MoviePy] >>>> Video ready: /content/drive/MyDrive/gp/The Girl Who Believes in Miracles/clip/626.mp4 \n",
            "\n",
            "626번째 클립 저장 완료\n",
            "[MoviePy] >>>> Building video /content/drive/MyDrive/gp/The Girl Who Believes in Miracles/clip/627.mp4\n",
            "[MoviePy] Writing audio in 627TEMP_MPY_wvf_snd.mp3\n"
          ]
        },
        {
          "name": "stderr",
          "output_type": "stream",
          "text": [
            "100%|██████████| 221/221 [00:00<00:00, 457.35it/s]\n"
          ]
        },
        {
          "name": "stdout",
          "output_type": "stream",
          "text": [
            "[MoviePy] Done.\n",
            "[MoviePy] Writing video /content/drive/MyDrive/gp/The Girl Who Believes in Miracles/clip/627.mp4\n"
          ]
        },
        {
          "name": "stderr",
          "output_type": "stream",
          "text": [
            "100%|██████████| 240/240 [00:03<00:00, 70.84it/s]\n"
          ]
        },
        {
          "name": "stdout",
          "output_type": "stream",
          "text": [
            "[MoviePy] Done.\n",
            "[MoviePy] >>>> Video ready: /content/drive/MyDrive/gp/The Girl Who Believes in Miracles/clip/627.mp4 \n",
            "\n",
            "627번째 클립 저장 완료\n",
            "[MoviePy] >>>> Building video /content/drive/MyDrive/gp/The Girl Who Believes in Miracles/clip/628.mp4\n",
            "[MoviePy] Writing audio in 628TEMP_MPY_wvf_snd.mp3\n"
          ]
        },
        {
          "name": "stderr",
          "output_type": "stream",
          "text": [
            "100%|██████████| 221/221 [00:00<00:00, 456.31it/s]"
          ]
        },
        {
          "name": "stdout",
          "output_type": "stream",
          "text": [
            "[MoviePy] Done.\n",
            "[MoviePy] Writing video /content/drive/MyDrive/gp/The Girl Who Believes in Miracles/clip/628.mp4\n"
          ]
        },
        {
          "name": "stderr",
          "output_type": "stream",
          "text": [
            "\n",
            "100%|██████████| 240/240 [00:03<00:00, 69.99it/s]\n"
          ]
        },
        {
          "name": "stdout",
          "output_type": "stream",
          "text": [
            "[MoviePy] Done.\n",
            "[MoviePy] >>>> Video ready: /content/drive/MyDrive/gp/The Girl Who Believes in Miracles/clip/628.mp4 \n",
            "\n",
            "628번째 클립 저장 완료\n",
            "[MoviePy] >>>> Building video /content/drive/MyDrive/gp/The Girl Who Believes in Miracles/clip/629.mp4\n",
            "[MoviePy] Writing audio in 629TEMP_MPY_wvf_snd.mp3\n"
          ]
        },
        {
          "name": "stderr",
          "output_type": "stream",
          "text": [
            "100%|██████████| 221/221 [00:00<00:00, 464.56it/s]"
          ]
        },
        {
          "name": "stdout",
          "output_type": "stream",
          "text": [
            "[MoviePy] Done.\n",
            "[MoviePy] Writing video /content/drive/MyDrive/gp/The Girl Who Believes in Miracles/clip/629.mp4\n"
          ]
        },
        {
          "name": "stderr",
          "output_type": "stream",
          "text": [
            "\n",
            "100%|██████████| 240/240 [00:03<00:00, 74.67it/s]\n"
          ]
        },
        {
          "name": "stdout",
          "output_type": "stream",
          "text": [
            "[MoviePy] Done.\n",
            "[MoviePy] >>>> Video ready: /content/drive/MyDrive/gp/The Girl Who Believes in Miracles/clip/629.mp4 \n",
            "\n",
            "629번째 클립 저장 완료\n",
            "[MoviePy] >>>> Building video /content/drive/MyDrive/gp/The Girl Who Believes in Miracles/clip/630.mp4\n",
            "[MoviePy] Writing audio in 630TEMP_MPY_wvf_snd.mp3\n"
          ]
        },
        {
          "name": "stderr",
          "output_type": "stream",
          "text": [
            "100%|██████████| 221/221 [00:00<00:00, 429.13it/s]"
          ]
        },
        {
          "name": "stdout",
          "output_type": "stream",
          "text": [
            "[MoviePy] Done.\n",
            "[MoviePy] Writing video /content/drive/MyDrive/gp/The Girl Who Believes in Miracles/clip/630.mp4\n"
          ]
        },
        {
          "name": "stderr",
          "output_type": "stream",
          "text": [
            "\n",
            "100%|██████████| 240/240 [00:02<00:00, 80.11it/s]\n"
          ]
        },
        {
          "name": "stdout",
          "output_type": "stream",
          "text": [
            "[MoviePy] Done.\n",
            "[MoviePy] >>>> Video ready: /content/drive/MyDrive/gp/The Girl Who Believes in Miracles/clip/630.mp4 \n",
            "\n",
            "630번째 클립 저장 완료\n",
            "[MoviePy] >>>> Building video /content/drive/MyDrive/gp/The Girl Who Believes in Miracles/clip/631.mp4\n",
            "[MoviePy] Writing audio in 631TEMP_MPY_wvf_snd.mp3\n"
          ]
        },
        {
          "name": "stderr",
          "output_type": "stream",
          "text": [
            "100%|██████████| 221/221 [00:00<00:00, 453.14it/s]\n"
          ]
        },
        {
          "name": "stdout",
          "output_type": "stream",
          "text": [
            "[MoviePy] Done.\n",
            "[MoviePy] Writing video /content/drive/MyDrive/gp/The Girl Who Believes in Miracles/clip/631.mp4\n"
          ]
        },
        {
          "name": "stderr",
          "output_type": "stream",
          "text": [
            "100%|██████████| 240/240 [00:03<00:00, 78.55it/s]\n"
          ]
        },
        {
          "name": "stdout",
          "output_type": "stream",
          "text": [
            "[MoviePy] Done.\n",
            "[MoviePy] >>>> Video ready: /content/drive/MyDrive/gp/The Girl Who Believes in Miracles/clip/631.mp4 \n",
            "\n",
            "631번째 클립 저장 완료\n",
            "[MoviePy] >>>> Building video /content/drive/MyDrive/gp/The Girl Who Believes in Miracles/clip/632.mp4\n",
            "[MoviePy] Writing audio in 632TEMP_MPY_wvf_snd.mp3\n"
          ]
        },
        {
          "name": "stderr",
          "output_type": "stream",
          "text": [
            "100%|██████████| 221/221 [00:00<00:00, 452.86it/s]"
          ]
        },
        {
          "name": "stdout",
          "output_type": "stream",
          "text": [
            "[MoviePy] Done.\n",
            "[MoviePy] Writing video /content/drive/MyDrive/gp/The Girl Who Believes in Miracles/clip/632.mp4\n"
          ]
        },
        {
          "name": "stderr",
          "output_type": "stream",
          "text": [
            "\n",
            "100%|██████████| 240/240 [00:03<00:00, 73.38it/s]\n"
          ]
        },
        {
          "name": "stdout",
          "output_type": "stream",
          "text": [
            "[MoviePy] Done.\n",
            "[MoviePy] >>>> Video ready: /content/drive/MyDrive/gp/The Girl Who Believes in Miracles/clip/632.mp4 \n",
            "\n",
            "632번째 클립 저장 완료\n",
            "[MoviePy] >>>> Building video /content/drive/MyDrive/gp/The Girl Who Believes in Miracles/clip/633.mp4\n",
            "[MoviePy] Writing audio in 633TEMP_MPY_wvf_snd.mp3\n"
          ]
        },
        {
          "name": "stderr",
          "output_type": "stream",
          "text": [
            "100%|██████████| 221/221 [00:00<00:00, 467.53it/s]"
          ]
        },
        {
          "name": "stdout",
          "output_type": "stream",
          "text": [
            "[MoviePy] Done.\n",
            "[MoviePy] Writing video /content/drive/MyDrive/gp/The Girl Who Believes in Miracles/clip/633.mp4\n"
          ]
        },
        {
          "name": "stderr",
          "output_type": "stream",
          "text": [
            "\n",
            "100%|██████████| 240/240 [00:03<00:00, 65.30it/s]\n"
          ]
        },
        {
          "name": "stdout",
          "output_type": "stream",
          "text": [
            "[MoviePy] Done.\n",
            "[MoviePy] >>>> Video ready: /content/drive/MyDrive/gp/The Girl Who Believes in Miracles/clip/633.mp4 \n",
            "\n",
            "633번째 클립 저장 완료\n",
            "[MoviePy] >>>> Building video /content/drive/MyDrive/gp/The Girl Who Believes in Miracles/clip/634.mp4\n",
            "[MoviePy] Writing audio in 634TEMP_MPY_wvf_snd.mp3\n"
          ]
        },
        {
          "name": "stderr",
          "output_type": "stream",
          "text": [
            "100%|██████████| 221/221 [00:00<00:00, 443.02it/s]"
          ]
        },
        {
          "name": "stdout",
          "output_type": "stream",
          "text": [
            "[MoviePy] Done.\n",
            "[MoviePy] Writing video /content/drive/MyDrive/gp/The Girl Who Believes in Miracles/clip/634.mp4\n"
          ]
        },
        {
          "name": "stderr",
          "output_type": "stream",
          "text": [
            "\n",
            "100%|██████████| 240/240 [00:03<00:00, 72.12it/s]\n"
          ]
        },
        {
          "name": "stdout",
          "output_type": "stream",
          "text": [
            "[MoviePy] Done.\n",
            "[MoviePy] >>>> Video ready: /content/drive/MyDrive/gp/The Girl Who Believes in Miracles/clip/634.mp4 \n",
            "\n",
            "634번째 클립 저장 완료\n",
            "[MoviePy] >>>> Building video /content/drive/MyDrive/gp/The Girl Who Believes in Miracles/clip/635.mp4\n",
            "[MoviePy] Writing audio in 635TEMP_MPY_wvf_snd.mp3\n"
          ]
        },
        {
          "name": "stderr",
          "output_type": "stream",
          "text": [
            "100%|██████████| 221/221 [00:00<00:00, 447.63it/s]\n"
          ]
        },
        {
          "name": "stdout",
          "output_type": "stream",
          "text": [
            "[MoviePy] Done.\n",
            "[MoviePy] Writing video /content/drive/MyDrive/gp/The Girl Who Believes in Miracles/clip/635.mp4\n"
          ]
        },
        {
          "name": "stderr",
          "output_type": "stream",
          "text": [
            "100%|██████████| 240/240 [00:03<00:00, 73.45it/s]\n"
          ]
        },
        {
          "name": "stdout",
          "output_type": "stream",
          "text": [
            "[MoviePy] Done.\n",
            "[MoviePy] >>>> Video ready: /content/drive/MyDrive/gp/The Girl Who Believes in Miracles/clip/635.mp4 \n",
            "\n",
            "635번째 클립 저장 완료\n",
            "[MoviePy] >>>> Building video /content/drive/MyDrive/gp/The Girl Who Believes in Miracles/clip/636.mp4\n",
            "[MoviePy] Writing audio in 636TEMP_MPY_wvf_snd.mp3\n"
          ]
        },
        {
          "name": "stderr",
          "output_type": "stream",
          "text": [
            "100%|██████████| 221/221 [00:00<00:00, 457.98it/s]"
          ]
        },
        {
          "name": "stdout",
          "output_type": "stream",
          "text": [
            "[MoviePy] Done.\n",
            "[MoviePy] Writing video /content/drive/MyDrive/gp/The Girl Who Believes in Miracles/clip/636.mp4\n"
          ]
        },
        {
          "name": "stderr",
          "output_type": "stream",
          "text": [
            "\n",
            "100%|██████████| 240/240 [00:03<00:00, 75.13it/s]\n"
          ]
        },
        {
          "name": "stdout",
          "output_type": "stream",
          "text": [
            "[MoviePy] Done.\n",
            "[MoviePy] >>>> Video ready: /content/drive/MyDrive/gp/The Girl Who Believes in Miracles/clip/636.mp4 \n",
            "\n",
            "636번째 클립 저장 완료\n",
            "[MoviePy] >>>> Building video /content/drive/MyDrive/gp/The Girl Who Believes in Miracles/clip/637.mp4\n",
            "[MoviePy] Writing audio in 637TEMP_MPY_wvf_snd.mp3\n"
          ]
        },
        {
          "name": "stderr",
          "output_type": "stream",
          "text": [
            "100%|██████████| 221/221 [00:00<00:00, 414.04it/s]"
          ]
        },
        {
          "name": "stdout",
          "output_type": "stream",
          "text": [
            "[MoviePy] Done.\n",
            "[MoviePy] Writing video /content/drive/MyDrive/gp/The Girl Who Believes in Miracles/clip/637.mp4\n"
          ]
        },
        {
          "name": "stderr",
          "output_type": "stream",
          "text": [
            "\n",
            "100%|██████████| 240/240 [00:03<00:00, 66.80it/s]\n"
          ]
        },
        {
          "name": "stdout",
          "output_type": "stream",
          "text": [
            "[MoviePy] Done.\n",
            "[MoviePy] >>>> Video ready: /content/drive/MyDrive/gp/The Girl Who Believes in Miracles/clip/637.mp4 \n",
            "\n",
            "637번째 클립 저장 완료\n",
            "[MoviePy] >>>> Building video /content/drive/MyDrive/gp/The Girl Who Believes in Miracles/clip/638.mp4\n",
            "[MoviePy] Writing audio in 638TEMP_MPY_wvf_snd.mp3\n"
          ]
        },
        {
          "name": "stderr",
          "output_type": "stream",
          "text": [
            "100%|██████████| 221/221 [00:00<00:00, 461.11it/s]"
          ]
        },
        {
          "name": "stdout",
          "output_type": "stream",
          "text": [
            "[MoviePy] Done.\n",
            "[MoviePy] Writing video /content/drive/MyDrive/gp/The Girl Who Believes in Miracles/clip/638.mp4\n"
          ]
        },
        {
          "name": "stderr",
          "output_type": "stream",
          "text": [
            "\n",
            "100%|██████████| 240/240 [00:03<00:00, 66.47it/s]\n"
          ]
        },
        {
          "name": "stdout",
          "output_type": "stream",
          "text": [
            "[MoviePy] Done.\n",
            "[MoviePy] >>>> Video ready: /content/drive/MyDrive/gp/The Girl Who Believes in Miracles/clip/638.mp4 \n",
            "\n",
            "638번째 클립 저장 완료\n",
            "[MoviePy] >>>> Building video /content/drive/MyDrive/gp/The Girl Who Believes in Miracles/clip/639.mp4\n",
            "[MoviePy] Writing audio in 639TEMP_MPY_wvf_snd.mp3\n"
          ]
        },
        {
          "name": "stderr",
          "output_type": "stream",
          "text": [
            "100%|██████████| 221/221 [00:00<00:00, 427.57it/s]"
          ]
        },
        {
          "name": "stdout",
          "output_type": "stream",
          "text": [
            "[MoviePy] Done.\n"
          ]
        },
        {
          "name": "stderr",
          "output_type": "stream",
          "text": [
            "\n"
          ]
        },
        {
          "name": "stdout",
          "output_type": "stream",
          "text": [
            "[MoviePy] Writing video /content/drive/MyDrive/gp/The Girl Who Believes in Miracles/clip/639.mp4\n"
          ]
        },
        {
          "name": "stderr",
          "output_type": "stream",
          "text": [
            "100%|██████████| 240/240 [00:03<00:00, 68.08it/s]\n"
          ]
        },
        {
          "name": "stdout",
          "output_type": "stream",
          "text": [
            "[MoviePy] Done.\n",
            "[MoviePy] >>>> Video ready: /content/drive/MyDrive/gp/The Girl Who Believes in Miracles/clip/639.mp4 \n",
            "\n",
            "639번째 클립 저장 완료\n",
            "[MoviePy] >>>> Building video /content/drive/MyDrive/gp/The Girl Who Believes in Miracles/clip/640.mp4\n",
            "[MoviePy] Writing audio in 640TEMP_MPY_wvf_snd.mp3\n"
          ]
        },
        {
          "name": "stderr",
          "output_type": "stream",
          "text": [
            "100%|██████████| 221/221 [00:00<00:00, 410.69it/s]"
          ]
        },
        {
          "name": "stdout",
          "output_type": "stream",
          "text": [
            "[MoviePy] Done.\n",
            "[MoviePy] Writing video /content/drive/MyDrive/gp/The Girl Who Believes in Miracles/clip/640.mp4\n"
          ]
        },
        {
          "name": "stderr",
          "output_type": "stream",
          "text": [
            "\n",
            "100%|██████████| 240/240 [00:03<00:00, 67.59it/s]\n"
          ]
        },
        {
          "name": "stdout",
          "output_type": "stream",
          "text": [
            "[MoviePy] Done.\n",
            "[MoviePy] >>>> Video ready: /content/drive/MyDrive/gp/The Girl Who Believes in Miracles/clip/640.mp4 \n",
            "\n",
            "640번째 클립 저장 완료\n",
            "[MoviePy] >>>> Building video /content/drive/MyDrive/gp/The Girl Who Believes in Miracles/clip/641.mp4\n",
            "[MoviePy] Writing audio in 641TEMP_MPY_wvf_snd.mp3\n"
          ]
        },
        {
          "name": "stderr",
          "output_type": "stream",
          "text": [
            "100%|██████████| 221/221 [00:00<00:00, 432.20it/s]"
          ]
        },
        {
          "name": "stdout",
          "output_type": "stream",
          "text": [
            "[MoviePy] Done.\n",
            "[MoviePy] Writing video /content/drive/MyDrive/gp/The Girl Who Believes in Miracles/clip/641.mp4\n"
          ]
        },
        {
          "name": "stderr",
          "output_type": "stream",
          "text": [
            "\n",
            "100%|██████████| 240/240 [00:03<00:00, 75.70it/s]\n"
          ]
        },
        {
          "name": "stdout",
          "output_type": "stream",
          "text": [
            "[MoviePy] Done.\n",
            "[MoviePy] >>>> Video ready: /content/drive/MyDrive/gp/The Girl Who Believes in Miracles/clip/641.mp4 \n",
            "\n",
            "641번째 클립 저장 완료\n",
            "[MoviePy] >>>> Building video /content/drive/MyDrive/gp/The Girl Who Believes in Miracles/clip/642.mp4\n",
            "[MoviePy] Writing audio in 642TEMP_MPY_wvf_snd.mp3\n"
          ]
        },
        {
          "name": "stderr",
          "output_type": "stream",
          "text": [
            "100%|██████████| 221/221 [00:00<00:00, 450.59it/s]\n"
          ]
        },
        {
          "name": "stdout",
          "output_type": "stream",
          "text": [
            "[MoviePy] Done.\n",
            "[MoviePy] Writing video /content/drive/MyDrive/gp/The Girl Who Believes in Miracles/clip/642.mp4\n"
          ]
        },
        {
          "name": "stderr",
          "output_type": "stream",
          "text": [
            "100%|██████████| 240/240 [00:03<00:00, 70.98it/s]\n"
          ]
        },
        {
          "name": "stdout",
          "output_type": "stream",
          "text": [
            "[MoviePy] Done.\n",
            "[MoviePy] >>>> Video ready: /content/drive/MyDrive/gp/The Girl Who Believes in Miracles/clip/642.mp4 \n",
            "\n",
            "642번째 클립 저장 완료\n",
            "[MoviePy] >>>> Building video /content/drive/MyDrive/gp/The Girl Who Believes in Miracles/clip/643.mp4\n",
            "[MoviePy] Writing audio in 643TEMP_MPY_wvf_snd.mp3\n"
          ]
        },
        {
          "name": "stderr",
          "output_type": "stream",
          "text": [
            "100%|██████████| 221/221 [00:00<00:00, 452.82it/s]"
          ]
        },
        {
          "name": "stdout",
          "output_type": "stream",
          "text": [
            "[MoviePy] Done.\n",
            "[MoviePy] Writing video /content/drive/MyDrive/gp/The Girl Who Believes in Miracles/clip/643.mp4\n"
          ]
        },
        {
          "name": "stderr",
          "output_type": "stream",
          "text": [
            "\n",
            "100%|██████████| 240/240 [00:03<00:00, 75.28it/s]\n"
          ]
        },
        {
          "name": "stdout",
          "output_type": "stream",
          "text": [
            "[MoviePy] Done.\n",
            "[MoviePy] >>>> Video ready: /content/drive/MyDrive/gp/The Girl Who Believes in Miracles/clip/643.mp4 \n",
            "\n",
            "643번째 클립 저장 완료\n",
            "[MoviePy] >>>> Building video /content/drive/MyDrive/gp/The Girl Who Believes in Miracles/clip/644.mp4\n",
            "[MoviePy] Writing audio in 644TEMP_MPY_wvf_snd.mp3\n"
          ]
        },
        {
          "name": "stderr",
          "output_type": "stream",
          "text": [
            "100%|██████████| 221/221 [00:00<00:00, 441.16it/s]\n"
          ]
        },
        {
          "name": "stdout",
          "output_type": "stream",
          "text": [
            "[MoviePy] Done.\n",
            "[MoviePy] Writing video /content/drive/MyDrive/gp/The Girl Who Believes in Miracles/clip/644.mp4\n"
          ]
        },
        {
          "name": "stderr",
          "output_type": "stream",
          "text": [
            "100%|██████████| 240/240 [00:02<00:00, 83.65it/s]\n"
          ]
        },
        {
          "name": "stdout",
          "output_type": "stream",
          "text": [
            "[MoviePy] Done.\n",
            "[MoviePy] >>>> Video ready: /content/drive/MyDrive/gp/The Girl Who Believes in Miracles/clip/644.mp4 \n",
            "\n",
            "644번째 클립 저장 완료\n",
            "[MoviePy] >>>> Building video /content/drive/MyDrive/gp/The Girl Who Believes in Miracles/clip/645.mp4\n",
            "[MoviePy] Writing audio in 645TEMP_MPY_wvf_snd.mp3\n"
          ]
        },
        {
          "name": "stderr",
          "output_type": "stream",
          "text": [
            "100%|██████████| 221/221 [00:00<00:00, 411.53it/s]"
          ]
        },
        {
          "name": "stdout",
          "output_type": "stream",
          "text": [
            "[MoviePy] Done.\n",
            "[MoviePy] Writing video /content/drive/MyDrive/gp/The Girl Who Believes in Miracles/clip/645.mp4\n"
          ]
        },
        {
          "name": "stderr",
          "output_type": "stream",
          "text": [
            "\n",
            "100%|██████████| 240/240 [00:02<00:00, 83.78it/s]\n"
          ]
        },
        {
          "name": "stdout",
          "output_type": "stream",
          "text": [
            "[MoviePy] Done.\n",
            "[MoviePy] >>>> Video ready: /content/drive/MyDrive/gp/The Girl Who Believes in Miracles/clip/645.mp4 \n",
            "\n",
            "645번째 클립 저장 완료\n",
            "[MoviePy] >>>> Building video /content/drive/MyDrive/gp/The Girl Who Believes in Miracles/clip/646.mp4\n",
            "[MoviePy] Writing audio in 646TEMP_MPY_wvf_snd.mp3\n"
          ]
        },
        {
          "name": "stderr",
          "output_type": "stream",
          "text": [
            "100%|██████████| 221/221 [00:00<00:00, 435.51it/s]"
          ]
        },
        {
          "name": "stdout",
          "output_type": "stream",
          "text": [
            "[MoviePy] Done.\n",
            "[MoviePy] Writing video /content/drive/MyDrive/gp/The Girl Who Believes in Miracles/clip/646.mp4\n"
          ]
        },
        {
          "name": "stderr",
          "output_type": "stream",
          "text": [
            "\n",
            "100%|██████████| 240/240 [00:06<00:00, 37.92it/s]\n"
          ]
        },
        {
          "name": "stdout",
          "output_type": "stream",
          "text": [
            "[MoviePy] Done.\n",
            "[MoviePy] >>>> Video ready: /content/drive/MyDrive/gp/The Girl Who Believes in Miracles/clip/646.mp4 \n",
            "\n",
            "646번째 클립 저장 완료\n",
            "[MoviePy] >>>> Building video /content/drive/MyDrive/gp/The Girl Who Believes in Miracles/clip/647.mp4\n",
            "[MoviePy] Writing audio in 647TEMP_MPY_wvf_snd.mp3\n"
          ]
        },
        {
          "name": "stderr",
          "output_type": "stream",
          "text": [
            "100%|██████████| 221/221 [00:00<00:00, 292.50it/s]"
          ]
        },
        {
          "name": "stdout",
          "output_type": "stream",
          "text": [
            "[MoviePy] Done.\n",
            "[MoviePy] Writing video /content/drive/MyDrive/gp/The Girl Who Believes in Miracles/clip/647.mp4\n"
          ]
        },
        {
          "name": "stderr",
          "output_type": "stream",
          "text": [
            "\n",
            "100%|██████████| 240/240 [00:04<00:00, 54.92it/s]\n"
          ]
        },
        {
          "name": "stdout",
          "output_type": "stream",
          "text": [
            "[MoviePy] Done.\n",
            "[MoviePy] >>>> Video ready: /content/drive/MyDrive/gp/The Girl Who Believes in Miracles/clip/647.mp4 \n",
            "\n",
            "647번째 클립 저장 완료\n",
            "[MoviePy] >>>> Building video /content/drive/MyDrive/gp/The Girl Who Believes in Miracles/clip/648.mp4\n",
            "[MoviePy] Writing audio in 648TEMP_MPY_wvf_snd.mp3\n"
          ]
        },
        {
          "name": "stderr",
          "output_type": "stream",
          "text": [
            "100%|██████████| 221/221 [00:00<00:00, 452.81it/s]\n"
          ]
        },
        {
          "name": "stdout",
          "output_type": "stream",
          "text": [
            "[MoviePy] Done.\n",
            "[MoviePy] Writing video /content/drive/MyDrive/gp/The Girl Who Believes in Miracles/clip/648.mp4\n"
          ]
        },
        {
          "name": "stderr",
          "output_type": "stream",
          "text": [
            "100%|██████████| 240/240 [00:03<00:00, 69.59it/s]\n"
          ]
        },
        {
          "name": "stdout",
          "output_type": "stream",
          "text": [
            "[MoviePy] Done.\n",
            "[MoviePy] >>>> Video ready: /content/drive/MyDrive/gp/The Girl Who Believes in Miracles/clip/648.mp4 \n",
            "\n",
            "648번째 클립 저장 완료\n",
            "[MoviePy] >>>> Building video /content/drive/MyDrive/gp/The Girl Who Believes in Miracles/clip/649.mp4\n",
            "[MoviePy] Writing audio in 649TEMP_MPY_wvf_snd.mp3\n"
          ]
        },
        {
          "name": "stderr",
          "output_type": "stream",
          "text": [
            "100%|██████████| 221/221 [00:00<00:00, 439.12it/s]"
          ]
        },
        {
          "name": "stdout",
          "output_type": "stream",
          "text": [
            "[MoviePy] Done.\n",
            "[MoviePy] Writing video /content/drive/MyDrive/gp/The Girl Who Believes in Miracles/clip/649.mp4\n"
          ]
        },
        {
          "name": "stderr",
          "output_type": "stream",
          "text": [
            "\n",
            "100%|██████████| 240/240 [00:03<00:00, 70.25it/s]\n"
          ]
        },
        {
          "name": "stdout",
          "output_type": "stream",
          "text": [
            "[MoviePy] Done.\n",
            "[MoviePy] >>>> Video ready: /content/drive/MyDrive/gp/The Girl Who Believes in Miracles/clip/649.mp4 \n",
            "\n",
            "649번째 클립 저장 완료\n",
            "[MoviePy] >>>> Building video /content/drive/MyDrive/gp/The Girl Who Believes in Miracles/clip/650.mp4\n",
            "[MoviePy] Writing audio in 650TEMP_MPY_wvf_snd.mp3\n"
          ]
        },
        {
          "name": "stderr",
          "output_type": "stream",
          "text": [
            "100%|██████████| 221/221 [00:00<00:00, 434.89it/s]\n"
          ]
        },
        {
          "name": "stdout",
          "output_type": "stream",
          "text": [
            "[MoviePy] Done.\n",
            "[MoviePy] Writing video /content/drive/MyDrive/gp/The Girl Who Believes in Miracles/clip/650.mp4\n"
          ]
        },
        {
          "name": "stderr",
          "output_type": "stream",
          "text": [
            "100%|██████████| 240/240 [00:04<00:00, 57.94it/s]\n"
          ]
        },
        {
          "name": "stdout",
          "output_type": "stream",
          "text": [
            "[MoviePy] Done.\n",
            "[MoviePy] >>>> Video ready: /content/drive/MyDrive/gp/The Girl Who Believes in Miracles/clip/650.mp4 \n",
            "\n",
            "650번째 클립 저장 완료\n",
            "[MoviePy] >>>> Building video /content/drive/MyDrive/gp/The Girl Who Believes in Miracles/clip/651.mp4\n",
            "[MoviePy] Writing audio in 651TEMP_MPY_wvf_snd.mp3\n"
          ]
        },
        {
          "name": "stderr",
          "output_type": "stream",
          "text": [
            "100%|██████████| 221/221 [00:00<00:00, 438.32it/s]"
          ]
        },
        {
          "name": "stdout",
          "output_type": "stream",
          "text": [
            "[MoviePy] Done.\n",
            "[MoviePy] Writing video /content/drive/MyDrive/gp/The Girl Who Believes in Miracles/clip/651.mp4\n"
          ]
        },
        {
          "name": "stderr",
          "output_type": "stream",
          "text": [
            "\n",
            "100%|██████████| 240/240 [00:03<00:00, 62.78it/s]\n"
          ]
        },
        {
          "name": "stdout",
          "output_type": "stream",
          "text": [
            "[MoviePy] Done.\n",
            "[MoviePy] >>>> Video ready: /content/drive/MyDrive/gp/The Girl Who Believes in Miracles/clip/651.mp4 \n",
            "\n",
            "651번째 클립 저장 완료\n",
            "[MoviePy] >>>> Building video /content/drive/MyDrive/gp/The Girl Who Believes in Miracles/clip/652.mp4\n",
            "[MoviePy] Writing audio in 652TEMP_MPY_wvf_snd.mp3\n"
          ]
        },
        {
          "name": "stderr",
          "output_type": "stream",
          "text": [
            "100%|██████████| 221/221 [00:00<00:00, 451.83it/s]\n"
          ]
        },
        {
          "name": "stdout",
          "output_type": "stream",
          "text": [
            "[MoviePy] Done.\n",
            "[MoviePy] Writing video /content/drive/MyDrive/gp/The Girl Who Believes in Miracles/clip/652.mp4\n"
          ]
        },
        {
          "name": "stderr",
          "output_type": "stream",
          "text": [
            "100%|██████████| 240/240 [00:03<00:00, 67.36it/s]\n"
          ]
        },
        {
          "name": "stdout",
          "output_type": "stream",
          "text": [
            "[MoviePy] Done.\n",
            "[MoviePy] >>>> Video ready: /content/drive/MyDrive/gp/The Girl Who Believes in Miracles/clip/652.mp4 \n",
            "\n",
            "652번째 클립 저장 완료\n",
            "[MoviePy] >>>> Building video /content/drive/MyDrive/gp/The Girl Who Believes in Miracles/clip/653.mp4\n",
            "[MoviePy] Writing audio in 653TEMP_MPY_wvf_snd.mp3\n"
          ]
        },
        {
          "name": "stderr",
          "output_type": "stream",
          "text": [
            "100%|██████████| 221/221 [00:00<00:00, 472.53it/s]"
          ]
        },
        {
          "name": "stdout",
          "output_type": "stream",
          "text": [
            "[MoviePy] Done.\n",
            "[MoviePy] Writing video /content/drive/MyDrive/gp/The Girl Who Believes in Miracles/clip/653.mp4\n"
          ]
        },
        {
          "name": "stderr",
          "output_type": "stream",
          "text": [
            "\n",
            "100%|██████████| 240/240 [00:03<00:00, 65.92it/s]\n"
          ]
        },
        {
          "name": "stdout",
          "output_type": "stream",
          "text": [
            "[MoviePy] Done.\n",
            "[MoviePy] >>>> Video ready: /content/drive/MyDrive/gp/The Girl Who Believes in Miracles/clip/653.mp4 \n",
            "\n",
            "653번째 클립 저장 완료\n",
            "[MoviePy] >>>> Building video /content/drive/MyDrive/gp/The Girl Who Believes in Miracles/clip/654.mp4\n",
            "[MoviePy] Writing audio in 654TEMP_MPY_wvf_snd.mp3\n"
          ]
        },
        {
          "name": "stderr",
          "output_type": "stream",
          "text": [
            "100%|██████████| 221/221 [00:00<00:00, 457.75it/s]"
          ]
        },
        {
          "name": "stdout",
          "output_type": "stream",
          "text": [
            "[MoviePy] Done.\n",
            "[MoviePy] Writing video /content/drive/MyDrive/gp/The Girl Who Believes in Miracles/clip/654.mp4\n"
          ]
        },
        {
          "name": "stderr",
          "output_type": "stream",
          "text": [
            "\n",
            "100%|██████████| 240/240 [00:03<00:00, 65.98it/s]\n"
          ]
        },
        {
          "name": "stdout",
          "output_type": "stream",
          "text": [
            "[MoviePy] Done.\n",
            "[MoviePy] >>>> Video ready: /content/drive/MyDrive/gp/The Girl Who Believes in Miracles/clip/654.mp4 \n",
            "\n",
            "654번째 클립 저장 완료\n",
            "[MoviePy] >>>> Building video /content/drive/MyDrive/gp/The Girl Who Believes in Miracles/clip/655.mp4\n",
            "[MoviePy] Writing audio in 655TEMP_MPY_wvf_snd.mp3\n"
          ]
        },
        {
          "name": "stderr",
          "output_type": "stream",
          "text": [
            "100%|██████████| 221/221 [00:00<00:00, 463.58it/s]"
          ]
        },
        {
          "name": "stdout",
          "output_type": "stream",
          "text": [
            "[MoviePy] Done.\n",
            "[MoviePy] Writing video /content/drive/MyDrive/gp/The Girl Who Believes in Miracles/clip/655.mp4\n"
          ]
        },
        {
          "name": "stderr",
          "output_type": "stream",
          "text": [
            "\n",
            "100%|██████████| 240/240 [00:03<00:00, 70.35it/s]\n"
          ]
        },
        {
          "name": "stdout",
          "output_type": "stream",
          "text": [
            "[MoviePy] Done.\n",
            "[MoviePy] >>>> Video ready: /content/drive/MyDrive/gp/The Girl Who Believes in Miracles/clip/655.mp4 \n",
            "\n",
            "655번째 클립 저장 완료\n",
            "[MoviePy] >>>> Building video /content/drive/MyDrive/gp/The Girl Who Believes in Miracles/clip/656.mp4\n",
            "[MoviePy] Writing audio in 656TEMP_MPY_wvf_snd.mp3\n"
          ]
        },
        {
          "name": "stderr",
          "output_type": "stream",
          "text": [
            "100%|██████████| 221/221 [00:00<00:00, 430.23it/s]"
          ]
        },
        {
          "name": "stdout",
          "output_type": "stream",
          "text": [
            "[MoviePy] Done.\n",
            "[MoviePy] Writing video /content/drive/MyDrive/gp/The Girl Who Believes in Miracles/clip/656.mp4\n"
          ]
        },
        {
          "name": "stderr",
          "output_type": "stream",
          "text": [
            "\n",
            "100%|██████████| 240/240 [00:03<00:00, 73.55it/s]\n"
          ]
        },
        {
          "name": "stdout",
          "output_type": "stream",
          "text": [
            "[MoviePy] Done.\n",
            "[MoviePy] >>>> Video ready: /content/drive/MyDrive/gp/The Girl Who Believes in Miracles/clip/656.mp4 \n",
            "\n",
            "656번째 클립 저장 완료\n",
            "[MoviePy] >>>> Building video /content/drive/MyDrive/gp/The Girl Who Believes in Miracles/clip/657.mp4\n",
            "[MoviePy] Writing audio in 657TEMP_MPY_wvf_snd.mp3\n"
          ]
        },
        {
          "name": "stderr",
          "output_type": "stream",
          "text": [
            "100%|██████████| 221/221 [00:00<00:00, 443.36it/s]"
          ]
        },
        {
          "name": "stdout",
          "output_type": "stream",
          "text": [
            "[MoviePy] Done.\n",
            "[MoviePy] Writing video /content/drive/MyDrive/gp/The Girl Who Believes in Miracles/clip/657.mp4\n"
          ]
        },
        {
          "name": "stderr",
          "output_type": "stream",
          "text": [
            "\n",
            "100%|██████████| 240/240 [00:03<00:00, 69.18it/s]\n"
          ]
        },
        {
          "name": "stdout",
          "output_type": "stream",
          "text": [
            "[MoviePy] Done.\n",
            "[MoviePy] >>>> Video ready: /content/drive/MyDrive/gp/The Girl Who Believes in Miracles/clip/657.mp4 \n",
            "\n",
            "657번째 클립 저장 완료\n",
            "[MoviePy] >>>> Building video /content/drive/MyDrive/gp/The Girl Who Believes in Miracles/clip/658.mp4\n",
            "[MoviePy] Writing audio in 658TEMP_MPY_wvf_snd.mp3\n"
          ]
        },
        {
          "name": "stderr",
          "output_type": "stream",
          "text": [
            "100%|██████████| 221/221 [00:00<00:00, 470.23it/s]"
          ]
        },
        {
          "name": "stdout",
          "output_type": "stream",
          "text": [
            "[MoviePy] Done.\n",
            "[MoviePy] Writing video /content/drive/MyDrive/gp/The Girl Who Believes in Miracles/clip/658.mp4\n"
          ]
        },
        {
          "name": "stderr",
          "output_type": "stream",
          "text": [
            "\n",
            "100%|██████████| 240/240 [00:03<00:00, 66.80it/s]\n"
          ]
        },
        {
          "name": "stdout",
          "output_type": "stream",
          "text": [
            "[MoviePy] Done.\n",
            "[MoviePy] >>>> Video ready: /content/drive/MyDrive/gp/The Girl Who Believes in Miracles/clip/658.mp4 \n",
            "\n",
            "658번째 클립 저장 완료\n",
            "[MoviePy] >>>> Building video /content/drive/MyDrive/gp/The Girl Who Believes in Miracles/clip/659.mp4\n",
            "[MoviePy] Writing audio in 659TEMP_MPY_wvf_snd.mp3\n"
          ]
        },
        {
          "name": "stderr",
          "output_type": "stream",
          "text": [
            "100%|██████████| 221/221 [00:00<00:00, 428.64it/s]"
          ]
        },
        {
          "name": "stdout",
          "output_type": "stream",
          "text": [
            "[MoviePy] Done.\n",
            "[MoviePy] Writing video /content/drive/MyDrive/gp/The Girl Who Believes in Miracles/clip/659.mp4\n"
          ]
        },
        {
          "name": "stderr",
          "output_type": "stream",
          "text": [
            "\n",
            "100%|██████████| 240/240 [00:03<00:00, 70.77it/s]\n"
          ]
        },
        {
          "name": "stdout",
          "output_type": "stream",
          "text": [
            "[MoviePy] Done.\n",
            "[MoviePy] >>>> Video ready: /content/drive/MyDrive/gp/The Girl Who Believes in Miracles/clip/659.mp4 \n",
            "\n",
            "659번째 클립 저장 완료\n",
            "[MoviePy] >>>> Building video /content/drive/MyDrive/gp/The Girl Who Believes in Miracles/clip/660.mp4\n",
            "[MoviePy] Writing audio in 660TEMP_MPY_wvf_snd.mp3\n"
          ]
        },
        {
          "name": "stderr",
          "output_type": "stream",
          "text": [
            "100%|██████████| 221/221 [00:00<00:00, 452.08it/s]"
          ]
        },
        {
          "name": "stdout",
          "output_type": "stream",
          "text": [
            "[MoviePy] Done.\n",
            "[MoviePy] Writing video /content/drive/MyDrive/gp/The Girl Who Believes in Miracles/clip/660.mp4\n"
          ]
        },
        {
          "name": "stderr",
          "output_type": "stream",
          "text": [
            "\n",
            "100%|██████████| 240/240 [00:03<00:00, 72.91it/s]\n"
          ]
        },
        {
          "name": "stdout",
          "output_type": "stream",
          "text": [
            "[MoviePy] Done.\n",
            "[MoviePy] >>>> Video ready: /content/drive/MyDrive/gp/The Girl Who Believes in Miracles/clip/660.mp4 \n",
            "\n",
            "660번째 클립 저장 완료\n",
            "[MoviePy] >>>> Building video /content/drive/MyDrive/gp/The Girl Who Believes in Miracles/clip/661.mp4\n",
            "[MoviePy] Writing audio in 661TEMP_MPY_wvf_snd.mp3\n"
          ]
        },
        {
          "name": "stderr",
          "output_type": "stream",
          "text": [
            "100%|██████████| 221/221 [00:00<00:00, 461.85it/s]"
          ]
        },
        {
          "name": "stdout",
          "output_type": "stream",
          "text": [
            "[MoviePy] Done.\n",
            "[MoviePy] Writing video /content/drive/MyDrive/gp/The Girl Who Believes in Miracles/clip/661.mp4\n"
          ]
        },
        {
          "name": "stderr",
          "output_type": "stream",
          "text": [
            "\n",
            "100%|██████████| 240/240 [00:03<00:00, 76.49it/s]\n"
          ]
        },
        {
          "name": "stdout",
          "output_type": "stream",
          "text": [
            "[MoviePy] Done.\n",
            "[MoviePy] >>>> Video ready: /content/drive/MyDrive/gp/The Girl Who Believes in Miracles/clip/661.mp4 \n",
            "\n",
            "661번째 클립 저장 완료\n",
            "[MoviePy] >>>> Building video /content/drive/MyDrive/gp/The Girl Who Believes in Miracles/clip/662.mp4\n",
            "[MoviePy] Writing audio in 662TEMP_MPY_wvf_snd.mp3\n"
          ]
        },
        {
          "name": "stderr",
          "output_type": "stream",
          "text": [
            "100%|██████████| 221/221 [00:00<00:00, 461.08it/s]"
          ]
        },
        {
          "name": "stdout",
          "output_type": "stream",
          "text": [
            "[MoviePy] Done.\n",
            "[MoviePy] Writing video /content/drive/MyDrive/gp/The Girl Who Believes in Miracles/clip/662.mp4\n"
          ]
        },
        {
          "name": "stderr",
          "output_type": "stream",
          "text": [
            "\n",
            "100%|██████████| 240/240 [00:03<00:00, 79.48it/s]\n"
          ]
        },
        {
          "name": "stdout",
          "output_type": "stream",
          "text": [
            "[MoviePy] Done.\n",
            "[MoviePy] >>>> Video ready: /content/drive/MyDrive/gp/The Girl Who Believes in Miracles/clip/662.mp4 \n",
            "\n",
            "662번째 클립 저장 완료\n",
            "[MoviePy] >>>> Building video /content/drive/MyDrive/gp/The Girl Who Believes in Miracles/clip/663.mp4\n",
            "[MoviePy] Writing audio in 663TEMP_MPY_wvf_snd.mp3\n"
          ]
        },
        {
          "name": "stderr",
          "output_type": "stream",
          "text": [
            "100%|██████████| 221/221 [00:00<00:00, 472.43it/s]"
          ]
        },
        {
          "name": "stdout",
          "output_type": "stream",
          "text": [
            "[MoviePy] Done.\n",
            "[MoviePy] Writing video /content/drive/MyDrive/gp/The Girl Who Believes in Miracles/clip/663.mp4\n"
          ]
        },
        {
          "name": "stderr",
          "output_type": "stream",
          "text": [
            "\n",
            "100%|██████████| 240/240 [00:02<00:00, 80.72it/s]\n"
          ]
        },
        {
          "name": "stdout",
          "output_type": "stream",
          "text": [
            "[MoviePy] Done.\n",
            "[MoviePy] >>>> Video ready: /content/drive/MyDrive/gp/The Girl Who Believes in Miracles/clip/663.mp4 \n",
            "\n",
            "663번째 클립 저장 완료\n",
            "[MoviePy] >>>> Building video /content/drive/MyDrive/gp/The Girl Who Believes in Miracles/clip/664.mp4\n",
            "[MoviePy] Writing audio in 664TEMP_MPY_wvf_snd.mp3\n"
          ]
        },
        {
          "name": "stderr",
          "output_type": "stream",
          "text": [
            "100%|██████████| 221/221 [00:00<00:00, 413.64it/s]"
          ]
        },
        {
          "name": "stdout",
          "output_type": "stream",
          "text": [
            "[MoviePy] Done.\n",
            "[MoviePy] Writing video /content/drive/MyDrive/gp/The Girl Who Believes in Miracles/clip/664.mp4\n"
          ]
        },
        {
          "name": "stderr",
          "output_type": "stream",
          "text": [
            "\n",
            "100%|██████████| 240/240 [00:03<00:00, 67.26it/s]\n"
          ]
        },
        {
          "name": "stdout",
          "output_type": "stream",
          "text": [
            "[MoviePy] Done.\n",
            "[MoviePy] >>>> Video ready: /content/drive/MyDrive/gp/The Girl Who Believes in Miracles/clip/664.mp4 \n",
            "\n",
            "664번째 클립 저장 완료\n",
            "[MoviePy] >>>> Building video /content/drive/MyDrive/gp/The Girl Who Believes in Miracles/clip/665.mp4\n",
            "[MoviePy] Writing audio in 665TEMP_MPY_wvf_snd.mp3\n"
          ]
        },
        {
          "name": "stderr",
          "output_type": "stream",
          "text": [
            "100%|██████████| 221/221 [00:00<00:00, 459.08it/s]"
          ]
        },
        {
          "name": "stdout",
          "output_type": "stream",
          "text": [
            "[MoviePy] Done.\n",
            "[MoviePy] Writing video /content/drive/MyDrive/gp/The Girl Who Believes in Miracles/clip/665.mp4\n"
          ]
        },
        {
          "name": "stderr",
          "output_type": "stream",
          "text": [
            "\n",
            "100%|██████████| 240/240 [00:03<00:00, 60.52it/s]\n"
          ]
        },
        {
          "name": "stdout",
          "output_type": "stream",
          "text": [
            "[MoviePy] Done.\n",
            "[MoviePy] >>>> Video ready: /content/drive/MyDrive/gp/The Girl Who Believes in Miracles/clip/665.mp4 \n",
            "\n",
            "665번째 클립 저장 완료\n",
            "[MoviePy] >>>> Building video /content/drive/MyDrive/gp/The Girl Who Believes in Miracles/clip/666.mp4\n",
            "[MoviePy] Writing audio in 666TEMP_MPY_wvf_snd.mp3\n"
          ]
        },
        {
          "name": "stderr",
          "output_type": "stream",
          "text": [
            "100%|██████████| 221/221 [00:00<00:00, 451.94it/s]"
          ]
        },
        {
          "name": "stdout",
          "output_type": "stream",
          "text": [
            "[MoviePy] Done.\n",
            "[MoviePy] Writing video /content/drive/MyDrive/gp/The Girl Who Believes in Miracles/clip/666.mp4\n"
          ]
        },
        {
          "name": "stderr",
          "output_type": "stream",
          "text": [
            "\n",
            "100%|██████████| 240/240 [00:03<00:00, 64.88it/s]\n"
          ]
        },
        {
          "name": "stdout",
          "output_type": "stream",
          "text": [
            "[MoviePy] Done.\n",
            "[MoviePy] >>>> Video ready: /content/drive/MyDrive/gp/The Girl Who Believes in Miracles/clip/666.mp4 \n",
            "\n",
            "666번째 클립 저장 완료\n",
            "[MoviePy] >>>> Building video /content/drive/MyDrive/gp/The Girl Who Believes in Miracles/clip/667.mp4\n",
            "[MoviePy] Writing audio in 667TEMP_MPY_wvf_snd.mp3\n"
          ]
        },
        {
          "name": "stderr",
          "output_type": "stream",
          "text": [
            "100%|██████████| 221/221 [00:00<00:00, 439.16it/s]\n"
          ]
        },
        {
          "name": "stdout",
          "output_type": "stream",
          "text": [
            "[MoviePy] Done.\n",
            "[MoviePy] Writing video /content/drive/MyDrive/gp/The Girl Who Believes in Miracles/clip/667.mp4\n"
          ]
        },
        {
          "name": "stderr",
          "output_type": "stream",
          "text": [
            "100%|██████████| 240/240 [00:03<00:00, 74.61it/s]\n"
          ]
        },
        {
          "name": "stdout",
          "output_type": "stream",
          "text": [
            "[MoviePy] Done.\n",
            "[MoviePy] >>>> Video ready: /content/drive/MyDrive/gp/The Girl Who Believes in Miracles/clip/667.mp4 \n",
            "\n",
            "667번째 클립 저장 완료\n",
            "[MoviePy] >>>> Building video /content/drive/MyDrive/gp/The Girl Who Believes in Miracles/clip/668.mp4\n",
            "[MoviePy] Writing audio in 668TEMP_MPY_wvf_snd.mp3\n"
          ]
        },
        {
          "name": "stderr",
          "output_type": "stream",
          "text": [
            "100%|██████████| 221/221 [00:00<00:00, 445.93it/s]"
          ]
        },
        {
          "name": "stdout",
          "output_type": "stream",
          "text": [
            "[MoviePy] Done.\n",
            "[MoviePy] Writing video /content/drive/MyDrive/gp/The Girl Who Believes in Miracles/clip/668.mp4\n"
          ]
        },
        {
          "name": "stderr",
          "output_type": "stream",
          "text": [
            "\n",
            "100%|██████████| 240/240 [00:03<00:00, 74.52it/s]\n"
          ]
        },
        {
          "name": "stdout",
          "output_type": "stream",
          "text": [
            "[MoviePy] Done.\n",
            "[MoviePy] >>>> Video ready: /content/drive/MyDrive/gp/The Girl Who Believes in Miracles/clip/668.mp4 \n",
            "\n",
            "668번째 클립 저장 완료\n",
            "[MoviePy] >>>> Building video /content/drive/MyDrive/gp/The Girl Who Believes in Miracles/clip/669.mp4\n",
            "[MoviePy] Writing audio in 669TEMP_MPY_wvf_snd.mp3\n"
          ]
        },
        {
          "name": "stderr",
          "output_type": "stream",
          "text": [
            "100%|██████████| 221/221 [00:00<00:00, 411.10it/s]"
          ]
        },
        {
          "name": "stdout",
          "output_type": "stream",
          "text": [
            "[MoviePy] Done.\n",
            "[MoviePy] Writing video /content/drive/MyDrive/gp/The Girl Who Believes in Miracles/clip/669.mp4\n"
          ]
        },
        {
          "name": "stderr",
          "output_type": "stream",
          "text": [
            "\n",
            "100%|██████████| 240/240 [00:03<00:00, 69.99it/s]\n"
          ]
        },
        {
          "name": "stdout",
          "output_type": "stream",
          "text": [
            "[MoviePy] Done.\n",
            "[MoviePy] >>>> Video ready: /content/drive/MyDrive/gp/The Girl Who Believes in Miracles/clip/669.mp4 \n",
            "\n",
            "669번째 클립 저장 완료\n",
            "[MoviePy] >>>> Building video /content/drive/MyDrive/gp/The Girl Who Believes in Miracles/clip/670.mp4\n",
            "[MoviePy] Writing audio in 670TEMP_MPY_wvf_snd.mp3\n"
          ]
        },
        {
          "name": "stderr",
          "output_type": "stream",
          "text": [
            "100%|██████████| 221/221 [00:00<00:00, 445.00it/s]"
          ]
        },
        {
          "name": "stdout",
          "output_type": "stream",
          "text": [
            "[MoviePy] Done.\n",
            "[MoviePy] Writing video /content/drive/MyDrive/gp/The Girl Who Believes in Miracles/clip/670.mp4\n"
          ]
        },
        {
          "name": "stderr",
          "output_type": "stream",
          "text": [
            "\n",
            "100%|██████████| 240/240 [00:02<00:00, 98.53it/s]\n"
          ]
        },
        {
          "name": "stdout",
          "output_type": "stream",
          "text": [
            "[MoviePy] Done.\n",
            "[MoviePy] >>>> Video ready: /content/drive/MyDrive/gp/The Girl Who Believes in Miracles/clip/670.mp4 \n",
            "\n",
            "670번째 클립 저장 완료\n",
            "[MoviePy] >>>> Building video /content/drive/MyDrive/gp/The Girl Who Believes in Miracles/clip/671.mp4\n",
            "[MoviePy] Writing audio in 671TEMP_MPY_wvf_snd.mp3\n"
          ]
        },
        {
          "name": "stderr",
          "output_type": "stream",
          "text": [
            "100%|██████████| 221/221 [00:00<00:00, 458.51it/s]"
          ]
        },
        {
          "name": "stdout",
          "output_type": "stream",
          "text": [
            "[MoviePy] Done.\n",
            "[MoviePy] Writing video /content/drive/MyDrive/gp/The Girl Who Believes in Miracles/clip/671.mp4\n"
          ]
        },
        {
          "name": "stderr",
          "output_type": "stream",
          "text": [
            "\n",
            "100%|██████████| 240/240 [00:03<00:00, 78.26it/s]\n"
          ]
        },
        {
          "name": "stdout",
          "output_type": "stream",
          "text": [
            "[MoviePy] Done.\n",
            "[MoviePy] >>>> Video ready: /content/drive/MyDrive/gp/The Girl Who Believes in Miracles/clip/671.mp4 \n",
            "\n",
            "671번째 클립 저장 완료\n",
            "[MoviePy] >>>> Building video /content/drive/MyDrive/gp/The Girl Who Believes in Miracles/clip/672.mp4\n",
            "[MoviePy] Writing audio in 672TEMP_MPY_wvf_snd.mp3\n"
          ]
        },
        {
          "name": "stderr",
          "output_type": "stream",
          "text": [
            "100%|██████████| 221/221 [00:00<00:00, 299.64it/s]"
          ]
        },
        {
          "name": "stdout",
          "output_type": "stream",
          "text": [
            "[MoviePy] Done.\n",
            "[MoviePy] Writing video /content/drive/MyDrive/gp/The Girl Who Believes in Miracles/clip/672.mp4\n"
          ]
        },
        {
          "name": "stderr",
          "output_type": "stream",
          "text": [
            "\n",
            "100%|██████████| 240/240 [00:05<00:00, 45.16it/s]\n"
          ]
        },
        {
          "name": "stdout",
          "output_type": "stream",
          "text": [
            "[MoviePy] Done.\n",
            "[MoviePy] >>>> Video ready: /content/drive/MyDrive/gp/The Girl Who Believes in Miracles/clip/672.mp4 \n",
            "\n",
            "672번째 클립 저장 완료\n",
            "[MoviePy] >>>> Building video /content/drive/MyDrive/gp/The Girl Who Believes in Miracles/clip/673.mp4\n",
            "[MoviePy] Writing audio in 673TEMP_MPY_wvf_snd.mp3\n"
          ]
        },
        {
          "name": "stderr",
          "output_type": "stream",
          "text": [
            "100%|██████████| 221/221 [00:00<00:00, 295.22it/s]"
          ]
        },
        {
          "name": "stdout",
          "output_type": "stream",
          "text": [
            "[MoviePy] Done.\n",
            "[MoviePy] Writing video /content/drive/MyDrive/gp/The Girl Who Believes in Miracles/clip/673.mp4\n"
          ]
        },
        {
          "name": "stderr",
          "output_type": "stream",
          "text": [
            "\n",
            "100%|██████████| 240/240 [00:04<00:00, 50.14it/s]\n"
          ]
        },
        {
          "name": "stdout",
          "output_type": "stream",
          "text": [
            "[MoviePy] Done.\n",
            "[MoviePy] >>>> Video ready: /content/drive/MyDrive/gp/The Girl Who Believes in Miracles/clip/673.mp4 \n",
            "\n",
            "673번째 클립 저장 완료\n",
            "[MoviePy] >>>> Building video /content/drive/MyDrive/gp/The Girl Who Believes in Miracles/clip/674.mp4\n",
            "[MoviePy] Writing audio in 674TEMP_MPY_wvf_snd.mp3\n"
          ]
        },
        {
          "name": "stderr",
          "output_type": "stream",
          "text": [
            "100%|██████████| 221/221 [00:00<00:00, 458.79it/s]"
          ]
        },
        {
          "name": "stdout",
          "output_type": "stream",
          "text": [
            "[MoviePy] Done.\n",
            "[MoviePy] Writing video /content/drive/MyDrive/gp/The Girl Who Believes in Miracles/clip/674.mp4\n"
          ]
        },
        {
          "name": "stderr",
          "output_type": "stream",
          "text": [
            "\n",
            "100%|██████████| 240/240 [00:03<00:00, 76.88it/s]\n"
          ]
        },
        {
          "name": "stdout",
          "output_type": "stream",
          "text": [
            "[MoviePy] Done.\n",
            "[MoviePy] >>>> Video ready: /content/drive/MyDrive/gp/The Girl Who Believes in Miracles/clip/674.mp4 \n",
            "\n",
            "674번째 클립 저장 완료\n",
            "[MoviePy] >>>> Building video /content/drive/MyDrive/gp/The Girl Who Believes in Miracles/clip/675.mp4\n",
            "[MoviePy] Writing audio in 675TEMP_MPY_wvf_snd.mp3\n"
          ]
        },
        {
          "name": "stderr",
          "output_type": "stream",
          "text": [
            "100%|██████████| 221/221 [00:00<00:00, 442.73it/s]"
          ]
        },
        {
          "name": "stdout",
          "output_type": "stream",
          "text": [
            "[MoviePy] Done.\n",
            "[MoviePy] Writing video /content/drive/MyDrive/gp/The Girl Who Believes in Miracles/clip/675.mp4\n"
          ]
        },
        {
          "name": "stderr",
          "output_type": "stream",
          "text": [
            "\n",
            "100%|██████████| 240/240 [00:03<00:00, 79.64it/s]\n"
          ]
        },
        {
          "name": "stdout",
          "output_type": "stream",
          "text": [
            "[MoviePy] Done.\n",
            "[MoviePy] >>>> Video ready: /content/drive/MyDrive/gp/The Girl Who Believes in Miracles/clip/675.mp4 \n",
            "\n",
            "675번째 클립 저장 완료\n",
            "[MoviePy] >>>> Building video /content/drive/MyDrive/gp/The Girl Who Believes in Miracles/clip/676.mp4\n",
            "[MoviePy] Writing audio in 676TEMP_MPY_wvf_snd.mp3\n"
          ]
        },
        {
          "name": "stderr",
          "output_type": "stream",
          "text": [
            "100%|██████████| 221/221 [00:00<00:00, 446.19it/s]"
          ]
        },
        {
          "name": "stdout",
          "output_type": "stream",
          "text": [
            "[MoviePy] Done.\n",
            "[MoviePy] Writing video /content/drive/MyDrive/gp/The Girl Who Believes in Miracles/clip/676.mp4\n"
          ]
        },
        {
          "name": "stderr",
          "output_type": "stream",
          "text": [
            "\n",
            "100%|██████████| 240/240 [00:03<00:00, 78.62it/s]\n"
          ]
        },
        {
          "name": "stdout",
          "output_type": "stream",
          "text": [
            "[MoviePy] Done.\n",
            "[MoviePy] >>>> Video ready: /content/drive/MyDrive/gp/The Girl Who Believes in Miracles/clip/676.mp4 \n",
            "\n",
            "676번째 클립 저장 완료\n",
            "[MoviePy] >>>> Building video /content/drive/MyDrive/gp/The Girl Who Believes in Miracles/clip/677.mp4\n",
            "[MoviePy] Writing audio in 677TEMP_MPY_wvf_snd.mp3\n"
          ]
        },
        {
          "name": "stderr",
          "output_type": "stream",
          "text": [
            "100%|██████████| 221/221 [00:00<00:00, 424.13it/s]"
          ]
        },
        {
          "name": "stdout",
          "output_type": "stream",
          "text": [
            "[MoviePy] Done.\n",
            "[MoviePy] Writing video /content/drive/MyDrive/gp/The Girl Who Believes in Miracles/clip/677.mp4\n"
          ]
        },
        {
          "name": "stderr",
          "output_type": "stream",
          "text": [
            "\n",
            "100%|██████████| 240/240 [00:03<00:00, 60.16it/s]\n"
          ]
        },
        {
          "name": "stdout",
          "output_type": "stream",
          "text": [
            "[MoviePy] Done.\n",
            "[MoviePy] >>>> Video ready: /content/drive/MyDrive/gp/The Girl Who Believes in Miracles/clip/677.mp4 \n",
            "\n",
            "677번째 클립 저장 완료\n",
            "[MoviePy] >>>> Building video /content/drive/MyDrive/gp/The Girl Who Believes in Miracles/clip/678.mp4\n",
            "[MoviePy] Writing audio in 678TEMP_MPY_wvf_snd.mp3\n"
          ]
        },
        {
          "name": "stderr",
          "output_type": "stream",
          "text": [
            "100%|██████████| 221/221 [00:00<00:00, 454.27it/s]"
          ]
        },
        {
          "name": "stdout",
          "output_type": "stream",
          "text": [
            "[MoviePy] Done.\n",
            "[MoviePy] Writing video /content/drive/MyDrive/gp/The Girl Who Believes in Miracles/clip/678.mp4\n"
          ]
        },
        {
          "name": "stderr",
          "output_type": "stream",
          "text": [
            "\n",
            "100%|██████████| 240/240 [00:03<00:00, 65.42it/s]\n"
          ]
        },
        {
          "name": "stdout",
          "output_type": "stream",
          "text": [
            "[MoviePy] Done.\n",
            "[MoviePy] >>>> Video ready: /content/drive/MyDrive/gp/The Girl Who Believes in Miracles/clip/678.mp4 \n",
            "\n",
            "678번째 클립 저장 완료\n",
            "[MoviePy] >>>> Building video /content/drive/MyDrive/gp/The Girl Who Believes in Miracles/clip/679.mp4\n",
            "[MoviePy] Writing audio in 679TEMP_MPY_wvf_snd.mp3\n"
          ]
        },
        {
          "name": "stderr",
          "output_type": "stream",
          "text": [
            "100%|██████████| 221/221 [00:00<00:00, 423.79it/s]"
          ]
        },
        {
          "name": "stdout",
          "output_type": "stream",
          "text": [
            "[MoviePy] Done.\n",
            "[MoviePy] Writing video /content/drive/MyDrive/gp/The Girl Who Believes in Miracles/clip/679.mp4\n"
          ]
        },
        {
          "name": "stderr",
          "output_type": "stream",
          "text": [
            "\n",
            "100%|██████████| 240/240 [00:03<00:00, 65.03it/s]\n"
          ]
        },
        {
          "name": "stdout",
          "output_type": "stream",
          "text": [
            "[MoviePy] Done.\n",
            "[MoviePy] >>>> Video ready: /content/drive/MyDrive/gp/The Girl Who Believes in Miracles/clip/679.mp4 \n",
            "\n",
            "679번째 클립 저장 완료\n"
          ]
        }
      ],
      "source": [
        "#clip 저장 코드\n",
        "n=0\n",
        "for start, end in zip(df['start'], df['end']):\n",
        "  clip = VideoFileClip(video_path).subclip(start*0.001,end*0.001)\n",
        "  clip.write_videofile(mydrive+movie_name+\"/clip/\"+str(n)+\".mp4\")\n",
        "  print(str(n)+\"번째 클립 저장 완료\")\n",
        "  n=n+1"
      ]
    }
  ],
  "metadata": {
    "colab": {
      "collapsed_sections": [],
      "name": "CV.ipynb의 사본",
      "provenance": []
    },
    "gpuClass": "standard",
    "kernelspec": {
      "display_name": "Python 3",
      "name": "python3"
    },
    "language_info": {
      "name": "python"
    }
  },
  "nbformat": 4,
  "nbformat_minor": 0
}